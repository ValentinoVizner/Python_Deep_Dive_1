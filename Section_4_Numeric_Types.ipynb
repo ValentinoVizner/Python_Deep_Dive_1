{
  "nbformat": 4,
  "nbformat_minor": 0,
  "metadata": {
    "colab": {
      "name": "Untitled",
      "provenance": [],
      "toc_visible": true,
      "include_colab_link": true
    },
    "kernelspec": {
      "name": "python3",
      "display_name": "Python 3"
    }
  },
  "cells": [
    {
      "cell_type": "markdown",
      "metadata": {
        "id": "view-in-github",
        "colab_type": "text"
      },
      "source": [
        "<a href=\"https://colab.research.google.com/github/ValentinoVizner/Python_Deep_Dive_1/blob/master/Section_4_Numeric_Types.ipynb\" target=\"_parent\"><img src=\"https://colab.research.google.com/assets/colab-badge.svg\" alt=\"Open In Colab\"/></a>"
      ]
    },
    {
      "cell_type": "markdown",
      "metadata": {
        "id": "10xjxWJhXt2N",
        "colab_type": "text"
      },
      "source": [
        "# NUMBERS"
      ]
    },
    {
      "cell_type": "markdown",
      "metadata": {
        "id": "-aanLc1LX1j_",
        "colab_type": "text"
      },
      "source": [
        "## 1.Introduction\n",
        "\n",
        "![alt text](https://drive.google.com/uc?id=16x9jU5dUcuW5nk7p-pfzbLkSbFwgRif0)\n",
        "</br>\n",
        "So in Python we have 5 main types of numbers, while in world of Mathematics we have 4 main types of numbers."
      ]
    },
    {
      "cell_type": "markdown",
      "metadata": {
        "id": "7G8O3uOZZR0y",
        "colab_type": "text"
      },
      "source": [
        "## 2.Integers: Data Types"
      ]
    },
    {
      "cell_type": "code",
      "metadata": {
        "id": "T-Rpz5U-XzYl",
        "colab_type": "code",
        "outputId": "0cce2775-04c8-4e4a-e8c4-fd30e3f5e700",
        "colab": {
          "base_uri": "https://localhost:8080/",
          "height": 170
        }
      },
      "source": [
        "!pip install ipython-autotime\n",
        "%load_ext autotime"
      ],
      "execution_count": 0,
      "outputs": [
        {
          "output_type": "stream",
          "text": [
            "Collecting ipython-autotime\n",
            "  Downloading https://files.pythonhosted.org/packages/e6/f9/0626bbdb322e3a078d968e87e3b01341e7890544de891d0cb613641220e6/ipython-autotime-0.1.tar.bz2\n",
            "Building wheels for collected packages: ipython-autotime\n",
            "  Building wheel for ipython-autotime (setup.py) ... \u001b[?25l\u001b[?25hdone\n",
            "  Created wheel for ipython-autotime: filename=ipython_autotime-0.1-cp36-none-any.whl size=1832 sha256=20b512b0157969323b4bb3437f5a9c91c2eeaf94ca250fdfcc779532a0c24ad5\n",
            "  Stored in directory: /root/.cache/pip/wheels/d2/df/81/2db1e54bc91002cec40334629bc39cfa86dff540b304ebcd6e\n",
            "Successfully built ipython-autotime\n",
            "Installing collected packages: ipython-autotime\n",
            "Successfully installed ipython-autotime-0.1\n"
          ],
          "name": "stdout"
        }
      ]
    },
    {
      "cell_type": "markdown",
      "metadata": {
        "id": "72VcopfVdXQ2",
        "colab_type": "text"
      },
      "source": [
        "![alt text](https://drive.google.com/uc?id=1IVVWdHvThhWDsIeoc4Vo4Ib-_6UQlVb1)"
      ]
    },
    {
      "cell_type": "markdown",
      "metadata": {
        "id": "zbPErqvZfi8R",
        "colab_type": "text"
      },
      "source": [
        "![alt text](https://drive.google.com/uc?id=1qJC10_kVw0FLcexNAQic1unIdNi15YLS)"
      ]
    },
    {
      "cell_type": "markdown",
      "metadata": {
        "id": "8lhGd5rvgo-p",
        "colab_type": "text"
      },
      "source": [
        "![alt text](https://drive.google.com/uc?id=1RsNkNcV79VvCL4ehfZdnCrPNSgsJcr55)"
      ]
    },
    {
      "cell_type": "markdown",
      "metadata": {
        "id": "sXcgL4nhijpG",
        "colab_type": "text"
      },
      "source": [
        "![alt text](https://drive.google.com/uc?id=13wvnLZHc9ExBmWTrze23Pt2qSTKNm5ow)"
      ]
    },
    {
      "cell_type": "markdown",
      "metadata": {
        "id": "IQzS261MjatU",
        "colab_type": "text"
      },
      "source": [
        "![alt text](https://drive.google.com/uc?id=1sS7CqYRcGP-iAAh1cQiv-I_r3CcrzfBV)\n",
        "Be cautious when dealing with a lot of operations, try to see biggest numbers and limit them to certain length."
      ]
    },
    {
      "cell_type": "markdown",
      "metadata": {
        "id": "LRxg7NI6jxrJ",
        "colab_type": "text"
      },
      "source": [
        "Integers are objects - instances of the ``int`` class."
      ]
    },
    {
      "cell_type": "code",
      "metadata": {
        "id": "GjruM9JmckEs",
        "colab_type": "code",
        "outputId": "5582b600-27e6-4093-9f40-1f5b0706940c",
        "colab": {
          "base_uri": "https://localhost:8080/",
          "height": 51
        }
      },
      "source": [
        "print(type(100))"
      ],
      "execution_count": 0,
      "outputs": [
        {
          "output_type": "stream",
          "text": [
            "<class 'int'>\n",
            "time: 2.83 ms\n"
          ],
          "name": "stdout"
        }
      ]
    },
    {
      "cell_type": "markdown",
      "metadata": {
        "id": "nTmfgyBbj1iE",
        "colab_type": "text"
      },
      "source": [
        "They are a variable length data type that can theoretically handle any integer magnitude. This will take up a variable amount of memory that depends on the particular size of the integer."
      ]
    },
    {
      "cell_type": "code",
      "metadata": {
        "id": "Mb5dUF_Zj0za",
        "colab_type": "code",
        "outputId": "46f49c66-fd47-4ee7-e431-a439f8c84de4",
        "colab": {
          "base_uri": "https://localhost:8080/",
          "height": 34
        }
      },
      "source": [
        "import sys\n",
        "\n",
        "sys.getsizeof(0)"
      ],
      "execution_count": 0,
      "outputs": [
        {
          "output_type": "execute_result",
          "data": {
            "text/plain": [
              "24"
            ]
          },
          "metadata": {
            "tags": []
          },
          "execution_count": 1
        }
      ]
    },
    {
      "cell_type": "code",
      "metadata": {
        "id": "N2rZOnO_kBKA",
        "colab_type": "code",
        "outputId": "62680622-c0af-465b-f53f-fa781b2c4e8c",
        "colab": {
          "base_uri": "https://localhost:8080/",
          "height": 34
        }
      },
      "source": [
        "sys.getsizeof(2**1000\n",
        "            )"
      ],
      "execution_count": 0,
      "outputs": [
        {
          "output_type": "execute_result",
          "data": {
            "text/plain": [
              "160"
            ]
          },
          "metadata": {
            "tags": []
          },
          "execution_count": 7
        },
        {
          "output_type": "stream",
          "text": [
            "time: 8.17 ms\n"
          ],
          "name": "stdout"
        }
      ]
    },
    {
      "cell_type": "code",
      "metadata": {
        "id": "EPRyJa9dlS2A",
        "colab_type": "code",
        "outputId": "6de56118-8f63-4d0b-c283-fcfd6d1bc66b",
        "colab": {
          "base_uri": "https://localhost:8080/",
          "height": 34
        }
      },
      "source": [
        "(160 \n",
        " - 24 # number of overhead, bytes\n",
        " ) * 8"
      ],
      "execution_count": 0,
      "outputs": [
        {
          "output_type": "execute_result",
          "data": {
            "text/plain": [
              "1088"
            ]
          },
          "metadata": {
            "tags": []
          },
          "execution_count": 9
        },
        {
          "output_type": "stream",
          "text": [
            "time: 3.19 ms\n"
          ],
          "name": "stdout"
        }
      ]
    },
    {
      "cell_type": "code",
      "metadata": {
        "id": "WYMno_Z_l0bY",
        "colab_type": "code",
        "outputId": "68e41fed-08a2-4c41-80e2-bcb021a924a1",
        "colab": {
          "base_uri": "https://localhost:8080/",
          "height": 54
        }
      },
      "source": [
        "2**1000"
      ],
      "execution_count": 0,
      "outputs": [
        {
          "output_type": "execute_result",
          "data": {
            "text/plain": [
              "10715086071862673209484250490600018105614048117055336074437503883703510511249361224931983788156958581275946729175531468251871452856923140435984577574698574803934567774824230985421074605062371141877954182153046474983581941267398767559165543946077062914571196477686542167660429831652624386837205668069376"
            ]
          },
          "metadata": {
            "tags": []
          },
          "execution_count": 10
        },
        {
          "output_type": "stream",
          "text": [
            "time: 3.42 ms\n"
          ],
          "name": "stdout"
        }
      ]
    },
    {
      "cell_type": "markdown",
      "metadata": {
        "id": "2MeJNmcjmHdp",
        "colab_type": "text"
      },
      "source": [
        "Larger integers will also slow down calculations."
      ]
    },
    {
      "cell_type": "code",
      "metadata": {
        "id": "1v5kKUmPl85y",
        "colab_type": "code",
        "outputId": "ef1deaad-99ee-4f62-9d8b-c3d6419d1756",
        "colab": {
          "base_uri": "https://localhost:8080/",
          "height": 34
        }
      },
      "source": [
        "import time\n",
        "\n",
        "def calc(a):\n",
        "    for i in range(10000000):\n",
        "        a * 2\n",
        "# We start with a small integer value for a (10):"
      ],
      "execution_count": 0,
      "outputs": [
        {
          "output_type": "stream",
          "text": [
            "time: 5.1 ms\n"
          ],
          "name": "stdout"
        }
      ]
    },
    {
      "cell_type": "code",
      "metadata": {
        "id": "VYMloRyymQG9",
        "colab_type": "code",
        "outputId": "cce4883b-4d38-4082-932f-693bd31ebf9c",
        "colab": {
          "base_uri": "https://localhost:8080/",
          "height": 51
        }
      },
      "source": [
        "start = time.perf_counter()\n",
        "calc(10)\n",
        "end = time.perf_counter()\n",
        "print(end - start)"
      ],
      "execution_count": 0,
      "outputs": [
        {
          "output_type": "stream",
          "text": [
            "0.4009422130002349\n",
            "time: 403 ms\n"
          ],
          "name": "stdout"
        }
      ]
    },
    {
      "cell_type": "code",
      "metadata": {
        "id": "lmc98c0Gmq7S",
        "colab_type": "code",
        "outputId": "2b074c23-4a66-48e7-90c1-78445faf82bb",
        "colab": {
          "base_uri": "https://localhost:8080/",
          "height": 51
        }
      },
      "source": [
        "start = time.perf_counter()\n",
        "calc(2**100)\n",
        "end = time.perf_counter()\n",
        "print(end - start)"
      ],
      "execution_count": 0,
      "outputs": [
        {
          "output_type": "stream",
          "text": [
            "0.6867921570001272\n",
            "time: 689 ms\n"
          ],
          "name": "stdout"
        }
      ]
    },
    {
      "cell_type": "code",
      "metadata": {
        "id": "JWUJWY-3mthK",
        "colab_type": "code",
        "outputId": "d50263a3-5bba-4823-93ac-83f54c836f07",
        "colab": {
          "base_uri": "https://localhost:8080/",
          "height": 51
        }
      },
      "source": [
        "start = time.perf_counter()\n",
        "calc(2**10000)\n",
        "end = time.perf_counter()\n",
        "print(end - start)"
      ],
      "execution_count": 0,
      "outputs": [
        {
          "output_type": "stream",
          "text": [
            "4.261457938000149\n",
            "time: 4.26 s\n"
          ],
          "name": "stdout"
        }
      ]
    },
    {
      "cell_type": "markdown",
      "metadata": {
        "id": "LVs6rOJdlE47",
        "colab_type": "text"
      },
      "source": [
        "## 3.Integers: Operations"
      ]
    },
    {
      "cell_type": "markdown",
      "metadata": {
        "id": "Hvb3ch9NlQnt",
        "colab_type": "text"
      },
      "source": [
        "![alt text](https://drive.google.com/uc?id=1Sxws5N8OoR0OjGVp13WSP8Kz5TBj-htK)"
      ]
    },
    {
      "cell_type": "markdown",
      "metadata": {
        "id": "wgU9nBMImGvf",
        "colab_type": "text"
      },
      "source": [
        "![alt text](https://drive.google.com/uc?id=1sW-4cBV3zl3da16mQ2FIBz-lptFH1130)"
      ]
    },
    {
      "cell_type": "markdown",
      "metadata": {
        "id": "aFSQSRXZnQAM",
        "colab_type": "text"
      },
      "source": [
        "![alt text](https://drive.google.com/uc?id=15PoAU8sEnaqZALbBg0esrypvUPx1K6SJ)"
      ]
    },
    {
      "cell_type": "markdown",
      "metadata": {
        "id": "oTgbLWj4n1N6",
        "colab_type": "text"
      },
      "source": [
        "![alt text](https://drive.google.com/uc?id=1Go-u-Kdd9WSTsXiYQplzgbfKvHkaOmfb)\n",
        "![alt text](https://drive.google.com/uc?id=1cshyv_Z4asG7FpNJOL-wHH0KVUiWyQAq)"
      ]
    },
    {
      "cell_type": "markdown",
      "metadata": {
        "id": "fGvvEUz6puWz",
        "colab_type": "text"
      },
      "source": [
        "![alt text](https://drive.google.com/uc?id=1rBbU56g585A7UJDQJjMkcxrqZxC9rGL6)"
      ]
    },
    {
      "cell_type": "code",
      "metadata": {
        "id": "HYeK9j6hmv8-",
        "colab_type": "code",
        "outputId": "3a4425e0-8cb7-4eff-803f-90914deb9893",
        "colab": {
          "base_uri": "https://localhost:8080/",
          "height": 34
        }
      },
      "source": [
        "# standard division operator `/` **always** results in a float value.\n",
        "\n",
        "type(10 / 2)"
      ],
      "execution_count": 0,
      "outputs": [
        {
          "output_type": "execute_result",
          "data": {
            "text/plain": [
              "float"
            ]
          },
          "metadata": {
            "tags": []
          },
          "execution_count": 2
        }
      ]
    },
    {
      "cell_type": "code",
      "metadata": {
        "id": "BW030bBjsQDS",
        "colab_type": "code",
        "outputId": "ad2f8623-0bbe-4585-e56b-fd4d3499ad9c",
        "colab": {
          "base_uri": "https://localhost:8080/",
          "height": 34
        }
      },
      "source": [
        "import math\n",
        "\n",
        "math.floor(3.14)"
      ],
      "execution_count": 0,
      "outputs": [
        {
          "output_type": "execute_result",
          "data": {
            "text/plain": [
              "3"
            ]
          },
          "metadata": {
            "tags": []
          },
          "execution_count": 3
        }
      ]
    },
    {
      "cell_type": "code",
      "metadata": {
        "id": "15oDpV9osdNp",
        "colab_type": "code",
        "outputId": "0049d390-336a-4f1f-9b74-dd592a732395",
        "colab": {
          "base_uri": "https://localhost:8080/",
          "height": 34
        }
      },
      "source": [
        "math.floor(-3.60)"
      ],
      "execution_count": 0,
      "outputs": [
        {
          "output_type": "execute_result",
          "data": {
            "text/plain": [
              "-4"
            ]
          },
          "metadata": {
            "tags": []
          },
          "execution_count": 4
        }
      ]
    },
    {
      "cell_type": "code",
      "metadata": {
        "id": "WM6gh_2vskDV",
        "colab_type": "code",
        "outputId": "98d4458b-6de3-4ec6-de1f-a217604be3cc",
        "colab": {
          "base_uri": "https://localhost:8080/",
          "height": 34
        }
      },
      "source": [
        "math.floor(-3.0005)"
      ],
      "execution_count": 0,
      "outputs": [
        {
          "output_type": "execute_result",
          "data": {
            "text/plain": [
              "-4"
            ]
          },
          "metadata": {
            "tags": []
          },
          "execution_count": 5
        }
      ]
    },
    {
      "cell_type": "code",
      "metadata": {
        "id": "7CPpmYbGsqOs",
        "colab_type": "code",
        "outputId": "4e9fc8b0-da78-4461-fecd-d8fc222ba9f8",
        "colab": {
          "base_uri": "https://localhost:8080/",
          "height": 34
        }
      },
      "source": [
        "math.floor(-3.0000000000000001)"
      ],
      "execution_count": 0,
      "outputs": [
        {
          "output_type": "execute_result",
          "data": {
            "text/plain": [
              "-3"
            ]
          },
          "metadata": {
            "tags": []
          },
          "execution_count": 11
        }
      ]
    },
    {
      "cell_type": "markdown",
      "metadata": {
        "id": "CHz6gGSbtAum",
        "colab_type": "text"
      },
      "source": [
        "Wait what is ging on!?\n",
        "</br>\n",
        "It is because of limited precision for float in Python"
      ]
    },
    {
      "cell_type": "markdown",
      "metadata": {
        "id": "24TOFjiptW6s",
        "colab_type": "text"
      },
      "source": [
        "#### 3.1. The Floor Division Operator"
      ]
    },
    {
      "cell_type": "code",
      "metadata": {
        "id": "dsble-I-s2KE",
        "colab_type": "code",
        "outputId": "0bb68f6c-5a0a-4c54-bd53-a5f0cf13082c",
        "colab": {
          "base_uri": "https://localhost:8080/",
          "height": 68
        }
      },
      "source": [
        "a = 33\n",
        "b = 16\n",
        "print(a/b)\n",
        "print(a//b)\n",
        "print(math.floor(a/b))"
      ],
      "execution_count": 0,
      "outputs": [
        {
          "output_type": "stream",
          "text": [
            "2.0625\n",
            "2\n",
            "2\n"
          ],
          "name": "stdout"
        }
      ]
    },
    {
      "cell_type": "markdown",
      "metadata": {
        "id": "ZUi-Ugentclp",
        "colab_type": "text"
      },
      "source": [
        "For positive numbers, `a//b` is basically the same as truncating (taking the integer portion) of `a / b`.\n",
        "</br>\n",
        "But this is **not** the case for negative numbers."
      ]
    },
    {
      "cell_type": "code",
      "metadata": {
        "id": "EaPA3P0ytY-O",
        "colab_type": "code",
        "outputId": "3e02ed0f-2ca5-4d22-cd8e-fd2fc931ece6",
        "colab": {
          "base_uri": "https://localhost:8080/",
          "height": 85
        }
      },
      "source": [
        "a = -33\n",
        "b = 16\n",
        "print('{0}/{1} = {2}'.format(a, b, a/b))\n",
        "print('trunc({0}/{1}) = {2}'.format(a, b, math.trunc(a/b)))\n",
        "print('{0}//{1} = {2}'.format(a, b, a//b))\n",
        "print('floor({0}//{1}) = {2}'.format(a, b, math.floor(a/b)))"
      ],
      "execution_count": 0,
      "outputs": [
        {
          "output_type": "stream",
          "text": [
            "-33/16 = -2.0625\n",
            "trunc(-33/16) = -2\n",
            "-33//16 = -3\n",
            "floor(-33//16) = -3\n"
          ],
          "name": "stdout"
        }
      ]
    },
    {
      "cell_type": "code",
      "metadata": {
        "id": "m63Gn3lZtkL4",
        "colab_type": "code",
        "outputId": "c1a89d77-2e2a-4a88-d5f5-2ff892dc1acd",
        "colab": {
          "base_uri": "https://localhost:8080/",
          "height": 85
        }
      },
      "source": [
        "a = 33\n",
        "b = -16\n",
        "print('{0}/{1} = {2}'.format(a, b, a/b))\n",
        "print('trunc({0}/{1}) = {2}'.format(a, b, math.trunc(a/b)))\n",
        "print('{0}//{1} = {2}'.format(a, b, a//b))\n",
        "print('floor({0}//{1}) = {2}'.format(a, b, math.floor(a/b)))"
      ],
      "execution_count": 0,
      "outputs": [
        {
          "output_type": "stream",
          "text": [
            "33/-16 = -2.0625\n",
            "trunc(33/-16) = -2\n",
            "33//-16 = -3\n",
            "floor(33//-16) = -3\n"
          ],
          "name": "stdout"
        }
      ]
    },
    {
      "cell_type": "markdown",
      "metadata": {
        "id": "kdY2p3P6uESe",
        "colab_type": "text"
      },
      "source": [
        "#### 3.2. The Modulo Operator"
      ]
    },
    {
      "cell_type": "markdown",
      "metadata": {
        "id": "OdOvcMbvuGr4",
        "colab_type": "text"
      },
      "source": [
        "The modulo operator and the floor division operator will always satisfy the following equation:\n",
        "\n",
        "``a = b * (a // b) + a % b``"
      ]
    },
    {
      "cell_type": "code",
      "metadata": {
        "id": "wL8Panwot9uj",
        "colab_type": "code",
        "outputId": "13009eab-774f-4967-c0b6-2da0f2795a08",
        "colab": {
          "base_uri": "https://localhost:8080/",
          "height": 85
        }
      },
      "source": [
        "a = 13\n",
        "b = 4\n",
        "print('{0}/{1} = {2}'.format(a, b, a/b))\n",
        "print('{0}//{1} = {2}'.format(a, b, a//b))\n",
        "print('{0}%{1} = {2}'.format(a, b, a%b))\n",
        "print(a == b * (a//b) + a%b)"
      ],
      "execution_count": 0,
      "outputs": [
        {
          "output_type": "stream",
          "text": [
            "13/4 = 3.25\n",
            "13//4 = 3\n",
            "13%4 = 1\n",
            "True\n"
          ],
          "name": "stdout"
        }
      ]
    },
    {
      "cell_type": "code",
      "metadata": {
        "id": "1tt-_zkmuIcJ",
        "colab_type": "code",
        "outputId": "40d7b127-ac04-4fec-da0a-38e23da75c27",
        "colab": {
          "base_uri": "https://localhost:8080/",
          "height": 85
        }
      },
      "source": [
        "a = -13\n",
        "b = 4\n",
        "print('{0}/{1} = {2}'.format(a, b, a/b))\n",
        "print('{0}//{1} = {2}'.format(a, b, a//b))\n",
        "print('{0}%{1} = {2}'.format(a, b, a%b))\n",
        "print(a == b * (a//b) + a%b)"
      ],
      "execution_count": 0,
      "outputs": [
        {
          "output_type": "stream",
          "text": [
            "-13/4 = -3.25\n",
            "-13//4 = -4\n",
            "-13%4 = 3\n",
            "True\n"
          ],
          "name": "stdout"
        }
      ]
    },
    {
      "cell_type": "code",
      "metadata": {
        "id": "SlP0ap-TuPg8",
        "colab_type": "code",
        "outputId": "b1758f04-a761-46dd-c6ec-c559e4998005",
        "colab": {
          "base_uri": "https://localhost:8080/",
          "height": 85
        }
      },
      "source": [
        "a = 13\n",
        "b = -4\n",
        "print('{0}/{1} = {2}'.format(a, b, a/b))\n",
        "print('{0}//{1} = {2}'.format(a, b, a//b))\n",
        "print('{0}%{1} = {2}'.format(a, b, a%b))\n",
        "print(a == b * (a//b) + a%b)"
      ],
      "execution_count": 0,
      "outputs": [
        {
          "output_type": "stream",
          "text": [
            "13/-4 = -3.25\n",
            "13//-4 = -4\n",
            "13%-4 = -3\n",
            "True\n"
          ],
          "name": "stdout"
        }
      ]
    },
    {
      "cell_type": "code",
      "metadata": {
        "id": "U-8zGHaruQ_y",
        "colab_type": "code",
        "outputId": "a37eeabf-3740-4606-d158-4fd1991ced9c",
        "colab": {
          "base_uri": "https://localhost:8080/",
          "height": 85
        }
      },
      "source": [
        "a = -13\n",
        "b = -4\n",
        "print('{0}/{1} = {2}'.format(a, b, a/b))\n",
        "print('{0}//{1} = {2}'.format(a, b, a//b))\n",
        "print('{0}%{1} = {2}'.format(a, b, a%b))\n",
        "print(a == b * (a//b) + a%b)"
      ],
      "execution_count": 0,
      "outputs": [
        {
          "output_type": "stream",
          "text": [
            "-13/-4 = 3.25\n",
            "-13//-4 = 3\n",
            "-13%-4 = -1\n",
            "True\n"
          ],
          "name": "stdout"
        }
      ]
    },
    {
      "cell_type": "markdown",
      "metadata": {
        "id": "NTM9GyV4lndW",
        "colab_type": "text"
      },
      "source": [
        "## 4.INTEGERS: Constructor and Bases (Part 1)"
      ]
    },
    {
      "cell_type": "markdown",
      "metadata": {
        "id": "W4Z6Moqunj94",
        "colab_type": "text"
      },
      "source": [
        "![alt text](https://drive.google.com/uc?id=1ACGOeXMVdvHnCqlvZQgYDbWEY3qQp1vC)"
      ]
    },
    {
      "cell_type": "markdown",
      "metadata": {
        "id": "AQHZR2hSnkiC",
        "colab_type": "text"
      },
      "source": [
        "![alt text](https://drive.google.com/uc?id=1A6VDdgyDk-bHmYiwRNFqq7caeqrLzYbr)"
      ]
    },
    {
      "cell_type": "markdown",
      "metadata": {
        "id": "WzQBK5mkptbD",
        "colab_type": "text"
      },
      "source": [
        "![alt text](https://drive.google.com/uc?id=1TaXefPpnz_U3TqcJ0FcyenVu25jSIKGH)"
      ]
    },
    {
      "cell_type": "markdown",
      "metadata": {
        "id": "lAOui_VzrQFy",
        "colab_type": "text"
      },
      "source": [
        "![alt text](https://drive.google.com/uc?id=1MdkyubAKViBIuU9KfBrKZvGOq744kQAM)"
      ]
    },
    {
      "cell_type": "markdown",
      "metadata": {
        "id": "M6pFFf6frdwo",
        "colab_type": "text"
      },
      "source": [
        "![alt text](https://drive.google.com/uc?id=1an_d9qDgVQwsz-RZaHR2UnER9u2buTxV)"
      ]
    },
    {
      "cell_type": "markdown",
      "metadata": {
        "id": "z4QYHC1NryZm",
        "colab_type": "text"
      },
      "source": [
        "![alt text](https://drive.google.com/uc?id=1XrhnusfQq0GWTT6jmqu21NZVDaH-8oST)\n"
      ]
    },
    {
      "cell_type": "markdown",
      "metadata": {
        "id": "jMUis3PwsN-R",
        "colab_type": "text"
      },
      "source": [
        "![alt text](https://drive.google.com/uc?id=19NeBUnctfHItoPm9WEJRiXhBPT1uHLMz)"
      ]
    },
    {
      "cell_type": "markdown",
      "metadata": {
        "id": "IcxjIJlfsNhF",
        "colab_type": "text"
      },
      "source": [
        "![alt text](https://drive.google.com/uc?id=1aDEbdAo_zbU7HHzsQ9d8BpYSvx38ptGj)"
      ]
    },
    {
      "cell_type": "code",
      "metadata": {
        "id": "sJmprdTUuSTt",
        "colab_type": "code",
        "colab": {}
      },
      "source": [
        ""
      ],
      "execution_count": 0,
      "outputs": []
    }
  ]
}