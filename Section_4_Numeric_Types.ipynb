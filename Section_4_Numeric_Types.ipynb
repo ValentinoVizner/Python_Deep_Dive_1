{
  "nbformat": 4,
  "nbformat_minor": 0,
  "metadata": {
    "colab": {
      "name": "Untitled",
      "provenance": [],
      "toc_visible": true,
      "include_colab_link": true
    },
    "kernelspec": {
      "name": "python3",
      "display_name": "Python 3"
    }
  },
  "cells": [
    {
      "cell_type": "markdown",
      "metadata": {
        "id": "view-in-github",
        "colab_type": "text"
      },
      "source": [
        "<a href=\"https://colab.research.google.com/github/ValentinoVizner/Python_Deep_Dive_1/blob/master/Section_4_Numeric_Types.ipynb\" target=\"_parent\"><img src=\"https://colab.research.google.com/assets/colab-badge.svg\" alt=\"Open In Colab\"/></a>"
      ]
    },
    {
      "cell_type": "markdown",
      "metadata": {
        "id": "10xjxWJhXt2N",
        "colab_type": "text"
      },
      "source": [
        "# NUMBERS"
      ]
    },
    {
      "cell_type": "markdown",
      "metadata": {
        "id": "-aanLc1LX1j_",
        "colab_type": "text"
      },
      "source": [
        "## 1.Introduction\n",
        "\n",
        "![alt text](https://drive.google.com/uc?id=16x9jU5dUcuW5nk7p-pfzbLkSbFwgRif0)\n",
        "</br>\n",
        "So in Python we have 5 main types of numbers, while in world of Mathematics we have 4 main types of numbers."
      ]
    },
    {
      "cell_type": "markdown",
      "metadata": {
        "id": "7G8O3uOZZR0y",
        "colab_type": "text"
      },
      "source": [
        "## 2.Integers: Data Types"
      ]
    },
    {
      "cell_type": "code",
      "metadata": {
        "id": "T-Rpz5U-XzYl",
        "colab_type": "code",
        "outputId": "7a6cad6f-52dd-4c1f-b665-b23bb2144fec",
        "colab": {
          "base_uri": "https://localhost:8080/",
          "height": 188
        }
      },
      "source": [
        "!pip install ipython-autotime\n",
        "%load_ext autotime"
      ],
      "execution_count": 0,
      "outputs": [
        {
          "output_type": "stream",
          "text": [
            "Collecting ipython-autotime\n",
            "  Downloading https://files.pythonhosted.org/packages/e6/f9/0626bbdb322e3a078d968e87e3b01341e7890544de891d0cb613641220e6/ipython-autotime-0.1.tar.bz2\n",
            "Building wheels for collected packages: ipython-autotime\n",
            "  Building wheel for ipython-autotime (setup.py) ... \u001b[?25l\u001b[?25hdone\n",
            "  Created wheel for ipython-autotime: filename=ipython_autotime-0.1-cp36-none-any.whl size=1832 sha256=c9a4aebeeccf376b9b80630178141c25ac044c82009c838482c59f33ce357dd6\n",
            "  Stored in directory: /root/.cache/pip/wheels/d2/df/81/2db1e54bc91002cec40334629bc39cfa86dff540b304ebcd6e\n",
            "Successfully built ipython-autotime\n",
            "Installing collected packages: ipython-autotime\n",
            "Successfully installed ipython-autotime-0.1\n"
          ],
          "name": "stdout"
        }
      ]
    },
    {
      "cell_type": "markdown",
      "metadata": {
        "id": "72VcopfVdXQ2",
        "colab_type": "text"
      },
      "source": [
        "![alt text](https://drive.google.com/uc?id=1IVVWdHvThhWDsIeoc4Vo4Ib-_6UQlVb1)"
      ]
    },
    {
      "cell_type": "markdown",
      "metadata": {
        "id": "zbPErqvZfi8R",
        "colab_type": "text"
      },
      "source": [
        "![alt text](https://drive.google.com/uc?id=1qJC10_kVw0FLcexNAQic1unIdNi15YLS)"
      ]
    },
    {
      "cell_type": "markdown",
      "metadata": {
        "id": "8lhGd5rvgo-p",
        "colab_type": "text"
      },
      "source": [
        "![alt text](https://drive.google.com/uc?id=1RsNkNcV79VvCL4ehfZdnCrPNSgsJcr55)"
      ]
    },
    {
      "cell_type": "markdown",
      "metadata": {
        "id": "sXcgL4nhijpG",
        "colab_type": "text"
      },
      "source": [
        "![alt text](https://drive.google.com/uc?id=13wvnLZHc9ExBmWTrze23Pt2qSTKNm5ow)"
      ]
    },
    {
      "cell_type": "markdown",
      "metadata": {
        "id": "IQzS261MjatU",
        "colab_type": "text"
      },
      "source": [
        "![alt text](https://drive.google.com/uc?id=1sS7CqYRcGP-iAAh1cQiv-I_r3CcrzfBV)\n",
        "Be cautious when dealing with a lot of operations, try to see biggest numbers and limit them to certain length."
      ]
    },
    {
      "cell_type": "markdown",
      "metadata": {
        "id": "LRxg7NI6jxrJ",
        "colab_type": "text"
      },
      "source": [
        "Integers are objects - instances of the ``int`` class."
      ]
    },
    {
      "cell_type": "code",
      "metadata": {
        "id": "GjruM9JmckEs",
        "colab_type": "code",
        "outputId": "5582b600-27e6-4093-9f40-1f5b0706940c",
        "colab": {
          "base_uri": "https://localhost:8080/",
          "height": 51
        }
      },
      "source": [
        "print(type(100))"
      ],
      "execution_count": 0,
      "outputs": [
        {
          "output_type": "stream",
          "text": [
            "<class 'int'>\n",
            "time: 2.83 ms\n"
          ],
          "name": "stdout"
        }
      ]
    },
    {
      "cell_type": "markdown",
      "metadata": {
        "id": "nTmfgyBbj1iE",
        "colab_type": "text"
      },
      "source": [
        "They are a variable length data type that can theoretically handle any integer magnitude. This will take up a variable amount of memory that depends on the particular size of the integer."
      ]
    },
    {
      "cell_type": "code",
      "metadata": {
        "id": "Mb5dUF_Zj0za",
        "colab_type": "code",
        "outputId": "46f49c66-fd47-4ee7-e431-a439f8c84de4",
        "colab": {
          "base_uri": "https://localhost:8080/",
          "height": 34
        }
      },
      "source": [
        "import sys\n",
        "\n",
        "sys.getsizeof(0)"
      ],
      "execution_count": 0,
      "outputs": [
        {
          "output_type": "execute_result",
          "data": {
            "text/plain": [
              "24"
            ]
          },
          "metadata": {
            "tags": []
          },
          "execution_count": 1
        }
      ]
    },
    {
      "cell_type": "code",
      "metadata": {
        "id": "N2rZOnO_kBKA",
        "colab_type": "code",
        "outputId": "62680622-c0af-465b-f53f-fa781b2c4e8c",
        "colab": {
          "base_uri": "https://localhost:8080/",
          "height": 34
        }
      },
      "source": [
        "sys.getsizeof(2**1000\n",
        "            )"
      ],
      "execution_count": 0,
      "outputs": [
        {
          "output_type": "execute_result",
          "data": {
            "text/plain": [
              "160"
            ]
          },
          "metadata": {
            "tags": []
          },
          "execution_count": 7
        },
        {
          "output_type": "stream",
          "text": [
            "time: 8.17 ms\n"
          ],
          "name": "stdout"
        }
      ]
    },
    {
      "cell_type": "code",
      "metadata": {
        "id": "EPRyJa9dlS2A",
        "colab_type": "code",
        "outputId": "6de56118-8f63-4d0b-c283-fcfd6d1bc66b",
        "colab": {
          "base_uri": "https://localhost:8080/",
          "height": 34
        }
      },
      "source": [
        "(160 \n",
        " - 24 # number of overhead, bytes\n",
        " ) * 8"
      ],
      "execution_count": 0,
      "outputs": [
        {
          "output_type": "execute_result",
          "data": {
            "text/plain": [
              "1088"
            ]
          },
          "metadata": {
            "tags": []
          },
          "execution_count": 9
        },
        {
          "output_type": "stream",
          "text": [
            "time: 3.19 ms\n"
          ],
          "name": "stdout"
        }
      ]
    },
    {
      "cell_type": "code",
      "metadata": {
        "id": "WYMno_Z_l0bY",
        "colab_type": "code",
        "outputId": "68e41fed-08a2-4c41-80e2-bcb021a924a1",
        "colab": {
          "base_uri": "https://localhost:8080/",
          "height": 54
        }
      },
      "source": [
        "2**1000"
      ],
      "execution_count": 0,
      "outputs": [
        {
          "output_type": "execute_result",
          "data": {
            "text/plain": [
              "10715086071862673209484250490600018105614048117055336074437503883703510511249361224931983788156958581275946729175531468251871452856923140435984577574698574803934567774824230985421074605062371141877954182153046474983581941267398767559165543946077062914571196477686542167660429831652624386837205668069376"
            ]
          },
          "metadata": {
            "tags": []
          },
          "execution_count": 10
        },
        {
          "output_type": "stream",
          "text": [
            "time: 3.42 ms\n"
          ],
          "name": "stdout"
        }
      ]
    },
    {
      "cell_type": "markdown",
      "metadata": {
        "id": "2MeJNmcjmHdp",
        "colab_type": "text"
      },
      "source": [
        "Larger integers will also slow down calculations."
      ]
    },
    {
      "cell_type": "code",
      "metadata": {
        "id": "1v5kKUmPl85y",
        "colab_type": "code",
        "outputId": "ef1deaad-99ee-4f62-9d8b-c3d6419d1756",
        "colab": {
          "base_uri": "https://localhost:8080/",
          "height": 34
        }
      },
      "source": [
        "import time\n",
        "\n",
        "def calc(a):\n",
        "    for i in range(10000000):\n",
        "        a * 2\n",
        "# We start with a small integer value for a (10):"
      ],
      "execution_count": 0,
      "outputs": [
        {
          "output_type": "stream",
          "text": [
            "time: 5.1 ms\n"
          ],
          "name": "stdout"
        }
      ]
    },
    {
      "cell_type": "code",
      "metadata": {
        "id": "VYMloRyymQG9",
        "colab_type": "code",
        "outputId": "cce4883b-4d38-4082-932f-693bd31ebf9c",
        "colab": {
          "base_uri": "https://localhost:8080/",
          "height": 51
        }
      },
      "source": [
        "start = time.perf_counter()\n",
        "calc(10)\n",
        "end = time.perf_counter()\n",
        "print(end - start)"
      ],
      "execution_count": 0,
      "outputs": [
        {
          "output_type": "stream",
          "text": [
            "0.4009422130002349\n",
            "time: 403 ms\n"
          ],
          "name": "stdout"
        }
      ]
    },
    {
      "cell_type": "code",
      "metadata": {
        "id": "lmc98c0Gmq7S",
        "colab_type": "code",
        "outputId": "2b074c23-4a66-48e7-90c1-78445faf82bb",
        "colab": {
          "base_uri": "https://localhost:8080/",
          "height": 51
        }
      },
      "source": [
        "start = time.perf_counter()\n",
        "calc(2**100)\n",
        "end = time.perf_counter()\n",
        "print(end - start)"
      ],
      "execution_count": 0,
      "outputs": [
        {
          "output_type": "stream",
          "text": [
            "0.6867921570001272\n",
            "time: 689 ms\n"
          ],
          "name": "stdout"
        }
      ]
    },
    {
      "cell_type": "code",
      "metadata": {
        "id": "JWUJWY-3mthK",
        "colab_type": "code",
        "outputId": "d50263a3-5bba-4823-93ac-83f54c836f07",
        "colab": {
          "base_uri": "https://localhost:8080/",
          "height": 51
        }
      },
      "source": [
        "start = time.perf_counter()\n",
        "calc(2**10000)\n",
        "end = time.perf_counter()\n",
        "print(end - start)"
      ],
      "execution_count": 0,
      "outputs": [
        {
          "output_type": "stream",
          "text": [
            "4.261457938000149\n",
            "time: 4.26 s\n"
          ],
          "name": "stdout"
        }
      ]
    },
    {
      "cell_type": "markdown",
      "metadata": {
        "id": "LVs6rOJdlE47",
        "colab_type": "text"
      },
      "source": [
        "## 3.Integers: Operations"
      ]
    },
    {
      "cell_type": "markdown",
      "metadata": {
        "id": "Hvb3ch9NlQnt",
        "colab_type": "text"
      },
      "source": [
        "![alt text](https://drive.google.com/uc?id=1Sxws5N8OoR0OjGVp13WSP8Kz5TBj-htK)"
      ]
    },
    {
      "cell_type": "markdown",
      "metadata": {
        "id": "wgU9nBMImGvf",
        "colab_type": "text"
      },
      "source": [
        "![alt text](https://drive.google.com/uc?id=1sW-4cBV3zl3da16mQ2FIBz-lptFH1130)"
      ]
    },
    {
      "cell_type": "markdown",
      "metadata": {
        "id": "aFSQSRXZnQAM",
        "colab_type": "text"
      },
      "source": [
        "![alt text](https://drive.google.com/uc?id=15PoAU8sEnaqZALbBg0esrypvUPx1K6SJ)"
      ]
    },
    {
      "cell_type": "markdown",
      "metadata": {
        "id": "oTgbLWj4n1N6",
        "colab_type": "text"
      },
      "source": [
        "![alt text](https://drive.google.com/uc?id=1Go-u-Kdd9WSTsXiYQplzgbfKvHkaOmfb)\n",
        "![alt text](https://drive.google.com/uc?id=1cshyv_Z4asG7FpNJOL-wHH0KVUiWyQAq)"
      ]
    },
    {
      "cell_type": "markdown",
      "metadata": {
        "id": "fGvvEUz6puWz",
        "colab_type": "text"
      },
      "source": [
        "![alt text](https://drive.google.com/uc?id=1rBbU56g585A7UJDQJjMkcxrqZxC9rGL6)"
      ]
    },
    {
      "cell_type": "code",
      "metadata": {
        "id": "HYeK9j6hmv8-",
        "colab_type": "code",
        "outputId": "3a4425e0-8cb7-4eff-803f-90914deb9893",
        "colab": {
          "base_uri": "https://localhost:8080/",
          "height": 34
        }
      },
      "source": [
        "# standard division operator `/` **always** results in a float value.\n",
        "\n",
        "type(10 / 2)"
      ],
      "execution_count": 0,
      "outputs": [
        {
          "output_type": "execute_result",
          "data": {
            "text/plain": [
              "float"
            ]
          },
          "metadata": {
            "tags": []
          },
          "execution_count": 2
        }
      ]
    },
    {
      "cell_type": "code",
      "metadata": {
        "id": "BW030bBjsQDS",
        "colab_type": "code",
        "outputId": "ad2f8623-0bbe-4585-e56b-fd4d3499ad9c",
        "colab": {
          "base_uri": "https://localhost:8080/",
          "height": 34
        }
      },
      "source": [
        "import math\n",
        "\n",
        "math.floor(3.14)"
      ],
      "execution_count": 0,
      "outputs": [
        {
          "output_type": "execute_result",
          "data": {
            "text/plain": [
              "3"
            ]
          },
          "metadata": {
            "tags": []
          },
          "execution_count": 3
        }
      ]
    },
    {
      "cell_type": "code",
      "metadata": {
        "id": "15oDpV9osdNp",
        "colab_type": "code",
        "outputId": "0049d390-336a-4f1f-9b74-dd592a732395",
        "colab": {
          "base_uri": "https://localhost:8080/",
          "height": 34
        }
      },
      "source": [
        "math.floor(-3.60)"
      ],
      "execution_count": 0,
      "outputs": [
        {
          "output_type": "execute_result",
          "data": {
            "text/plain": [
              "-4"
            ]
          },
          "metadata": {
            "tags": []
          },
          "execution_count": 4
        }
      ]
    },
    {
      "cell_type": "code",
      "metadata": {
        "id": "WM6gh_2vskDV",
        "colab_type": "code",
        "outputId": "98d4458b-6de3-4ec6-de1f-a217604be3cc",
        "colab": {
          "base_uri": "https://localhost:8080/",
          "height": 34
        }
      },
      "source": [
        "math.floor(-3.0005)"
      ],
      "execution_count": 0,
      "outputs": [
        {
          "output_type": "execute_result",
          "data": {
            "text/plain": [
              "-4"
            ]
          },
          "metadata": {
            "tags": []
          },
          "execution_count": 5
        }
      ]
    },
    {
      "cell_type": "code",
      "metadata": {
        "id": "7CPpmYbGsqOs",
        "colab_type": "code",
        "outputId": "4e9fc8b0-da78-4461-fecd-d8fc222ba9f8",
        "colab": {
          "base_uri": "https://localhost:8080/",
          "height": 34
        }
      },
      "source": [
        "math.floor(-3.0000000000000001)"
      ],
      "execution_count": 0,
      "outputs": [
        {
          "output_type": "execute_result",
          "data": {
            "text/plain": [
              "-3"
            ]
          },
          "metadata": {
            "tags": []
          },
          "execution_count": 11
        }
      ]
    },
    {
      "cell_type": "markdown",
      "metadata": {
        "id": "CHz6gGSbtAum",
        "colab_type": "text"
      },
      "source": [
        "Wait what is ging on!?\n",
        "</br>\n",
        "It is because of limited precision for float in Python"
      ]
    },
    {
      "cell_type": "markdown",
      "metadata": {
        "id": "24TOFjiptW6s",
        "colab_type": "text"
      },
      "source": [
        "#### 3.1. The Floor Division Operator"
      ]
    },
    {
      "cell_type": "code",
      "metadata": {
        "id": "dsble-I-s2KE",
        "colab_type": "code",
        "outputId": "0bb68f6c-5a0a-4c54-bd53-a5f0cf13082c",
        "colab": {
          "base_uri": "https://localhost:8080/",
          "height": 68
        }
      },
      "source": [
        "a = 33\n",
        "b = 16\n",
        "print(a/b)\n",
        "print(a//b)\n",
        "print(math.floor(a/b))"
      ],
      "execution_count": 0,
      "outputs": [
        {
          "output_type": "stream",
          "text": [
            "2.0625\n",
            "2\n",
            "2\n"
          ],
          "name": "stdout"
        }
      ]
    },
    {
      "cell_type": "markdown",
      "metadata": {
        "id": "ZUi-Ugentclp",
        "colab_type": "text"
      },
      "source": [
        "For positive numbers, `a//b` is basically the same as truncating (taking the integer portion) of `a / b`.\n",
        "</br>\n",
        "But this is **not** the case for negative numbers."
      ]
    },
    {
      "cell_type": "code",
      "metadata": {
        "id": "EaPA3P0ytY-O",
        "colab_type": "code",
        "outputId": "3e02ed0f-2ca5-4d22-cd8e-fd2fc931ece6",
        "colab": {
          "base_uri": "https://localhost:8080/",
          "height": 85
        }
      },
      "source": [
        "a = -33\n",
        "b = 16\n",
        "print('{0}/{1} = {2}'.format(a, b, a/b))\n",
        "print('trunc({0}/{1}) = {2}'.format(a, b, math.trunc(a/b)))\n",
        "print('{0}//{1} = {2}'.format(a, b, a//b))\n",
        "print('floor({0}//{1}) = {2}'.format(a, b, math.floor(a/b)))"
      ],
      "execution_count": 0,
      "outputs": [
        {
          "output_type": "stream",
          "text": [
            "-33/16 = -2.0625\n",
            "trunc(-33/16) = -2\n",
            "-33//16 = -3\n",
            "floor(-33//16) = -3\n"
          ],
          "name": "stdout"
        }
      ]
    },
    {
      "cell_type": "code",
      "metadata": {
        "id": "m63Gn3lZtkL4",
        "colab_type": "code",
        "outputId": "c1a89d77-2e2a-4a88-d5f5-2ff892dc1acd",
        "colab": {
          "base_uri": "https://localhost:8080/",
          "height": 85
        }
      },
      "source": [
        "a = 33\n",
        "b = -16\n",
        "print('{0}/{1} = {2}'.format(a, b, a/b))\n",
        "print('trunc({0}/{1}) = {2}'.format(a, b, math.trunc(a/b)))\n",
        "print('{0}//{1} = {2}'.format(a, b, a//b))\n",
        "print('floor({0}//{1}) = {2}'.format(a, b, math.floor(a/b)))"
      ],
      "execution_count": 0,
      "outputs": [
        {
          "output_type": "stream",
          "text": [
            "33/-16 = -2.0625\n",
            "trunc(33/-16) = -2\n",
            "33//-16 = -3\n",
            "floor(33//-16) = -3\n"
          ],
          "name": "stdout"
        }
      ]
    },
    {
      "cell_type": "markdown",
      "metadata": {
        "id": "kdY2p3P6uESe",
        "colab_type": "text"
      },
      "source": [
        "#### 3.2. The Modulo Operator"
      ]
    },
    {
      "cell_type": "markdown",
      "metadata": {
        "id": "OdOvcMbvuGr4",
        "colab_type": "text"
      },
      "source": [
        "The modulo operator and the floor division operator will always satisfy the following equation:\n",
        "\n",
        "``a = b * (a // b) + a % b``"
      ]
    },
    {
      "cell_type": "code",
      "metadata": {
        "id": "wL8Panwot9uj",
        "colab_type": "code",
        "outputId": "13009eab-774f-4967-c0b6-2da0f2795a08",
        "colab": {
          "base_uri": "https://localhost:8080/",
          "height": 85
        }
      },
      "source": [
        "a = 13\n",
        "b = 4\n",
        "print('{0}/{1} = {2}'.format(a, b, a/b))\n",
        "print('{0}//{1} = {2}'.format(a, b, a//b))\n",
        "print('{0}%{1} = {2}'.format(a, b, a%b))\n",
        "print(a == b * (a//b) + a%b)"
      ],
      "execution_count": 0,
      "outputs": [
        {
          "output_type": "stream",
          "text": [
            "13/4 = 3.25\n",
            "13//4 = 3\n",
            "13%4 = 1\n",
            "True\n"
          ],
          "name": "stdout"
        }
      ]
    },
    {
      "cell_type": "code",
      "metadata": {
        "id": "1tt-_zkmuIcJ",
        "colab_type": "code",
        "outputId": "40d7b127-ac04-4fec-da0a-38e23da75c27",
        "colab": {
          "base_uri": "https://localhost:8080/",
          "height": 85
        }
      },
      "source": [
        "a = -13\n",
        "b = 4\n",
        "print('{0}/{1} = {2}'.format(a, b, a/b))\n",
        "print('{0}//{1} = {2}'.format(a, b, a//b))\n",
        "print('{0}%{1} = {2}'.format(a, b, a%b))\n",
        "print(a == b * (a//b) + a%b)"
      ],
      "execution_count": 0,
      "outputs": [
        {
          "output_type": "stream",
          "text": [
            "-13/4 = -3.25\n",
            "-13//4 = -4\n",
            "-13%4 = 3\n",
            "True\n"
          ],
          "name": "stdout"
        }
      ]
    },
    {
      "cell_type": "code",
      "metadata": {
        "id": "SlP0ap-TuPg8",
        "colab_type": "code",
        "outputId": "b1758f04-a761-46dd-c6ec-c559e4998005",
        "colab": {
          "base_uri": "https://localhost:8080/",
          "height": 85
        }
      },
      "source": [
        "a = 13\n",
        "b = -4\n",
        "print('{0}/{1} = {2}'.format(a, b, a/b))\n",
        "print('{0}//{1} = {2}'.format(a, b, a//b))\n",
        "print('{0}%{1} = {2}'.format(a, b, a%b))\n",
        "print(a == b * (a//b) + a%b)"
      ],
      "execution_count": 0,
      "outputs": [
        {
          "output_type": "stream",
          "text": [
            "13/-4 = -3.25\n",
            "13//-4 = -4\n",
            "13%-4 = -3\n",
            "True\n"
          ],
          "name": "stdout"
        }
      ]
    },
    {
      "cell_type": "code",
      "metadata": {
        "id": "U-8zGHaruQ_y",
        "colab_type": "code",
        "outputId": "a37eeabf-3740-4606-d158-4fd1991ced9c",
        "colab": {
          "base_uri": "https://localhost:8080/",
          "height": 85
        }
      },
      "source": [
        "a = -13\n",
        "b = -4\n",
        "print('{0}/{1} = {2}'.format(a, b, a/b))\n",
        "print('{0}//{1} = {2}'.format(a, b, a//b))\n",
        "print('{0}%{1} = {2}'.format(a, b, a%b))\n",
        "print(a == b * (a//b) + a%b)"
      ],
      "execution_count": 0,
      "outputs": [
        {
          "output_type": "stream",
          "text": [
            "-13/-4 = 3.25\n",
            "-13//-4 = 3\n",
            "-13%-4 = -1\n",
            "True\n"
          ],
          "name": "stdout"
        }
      ]
    },
    {
      "cell_type": "markdown",
      "metadata": {
        "id": "NTM9GyV4lndW",
        "colab_type": "text"
      },
      "source": [
        "## 4.INTEGERS: Constructor and Bases (Part 1)"
      ]
    },
    {
      "cell_type": "markdown",
      "metadata": {
        "id": "W4Z6Moqunj94",
        "colab_type": "text"
      },
      "source": [
        "![alt text](https://drive.google.com/uc?id=1ACGOeXMVdvHnCqlvZQgYDbWEY3qQp1vC)"
      ]
    },
    {
      "cell_type": "markdown",
      "metadata": {
        "id": "AQHZR2hSnkiC",
        "colab_type": "text"
      },
      "source": [
        "![alt text](https://drive.google.com/uc?id=1A6VDdgyDk-bHmYiwRNFqq7caeqrLzYbr)"
      ]
    },
    {
      "cell_type": "markdown",
      "metadata": {
        "id": "Ed1IZRJgXPk7",
        "colab_type": "text"
      },
      "source": [
        "It is BETTER to use explicitly `base=16` for example.\n",
        "</br>\n",
        "Max. number of base is **36** because there are 26 letters **[a-z]** and 10 numbers **[0-9]**"
      ]
    },
    {
      "cell_type": "markdown",
      "metadata": {
        "id": "WzQBK5mkptbD",
        "colab_type": "text"
      },
      "source": [
        "![alt text](https://drive.google.com/uc?id=1TaXefPpnz_U3TqcJ0FcyenVu25jSIKGH)"
      ]
    },
    {
      "cell_type": "markdown",
      "metadata": {
        "id": "lAOui_VzrQFy",
        "colab_type": "text"
      },
      "source": [
        "![alt text](https://drive.google.com/uc?id=1MdkyubAKViBIuU9KfBrKZvGOq744kQAM)"
      ]
    },
    {
      "cell_type": "markdown",
      "metadata": {
        "id": "M6pFFf6frdwo",
        "colab_type": "text"
      },
      "source": [
        "![alt text](https://drive.google.com/uc?id=1an_d9qDgVQwsz-RZaHR2UnER9u2buTxV)"
      ]
    },
    {
      "cell_type": "markdown",
      "metadata": {
        "id": "z4QYHC1NryZm",
        "colab_type": "text"
      },
      "source": [
        "![alt text](https://drive.google.com/uc?id=1XrhnusfQq0GWTT6jmqu21NZVDaH-8oST)\n"
      ]
    },
    {
      "cell_type": "markdown",
      "metadata": {
        "id": "jMUis3PwsN-R",
        "colab_type": "text"
      },
      "source": [
        "![alt text](https://drive.google.com/uc?id=19NeBUnctfHItoPm9WEJRiXhBPT1uHLMz)"
      ]
    },
    {
      "cell_type": "markdown",
      "metadata": {
        "id": "IcxjIJlfsNhF",
        "colab_type": "text"
      },
      "source": [
        "![alt text](https://drive.google.com/uc?id=1aDEbdAo_zbU7HHzsQ9d8BpYSvx38ptGj)"
      ]
    },
    {
      "cell_type": "markdown",
      "metadata": {
        "id": "27DZtLZifmNC",
        "colab_type": "text"
      },
      "source": [
        "### 4.INTEGERS: Constructor and Bases (Part 2) => Exercises"
      ]
    },
    {
      "cell_type": "code",
      "metadata": {
        "id": "sJmprdTUuSTt",
        "colab_type": "code",
        "outputId": "423a0cb8-44aa-44a9-99c8-74a734f11305",
        "colab": {
          "base_uri": "https://localhost:8080/",
          "height": 67
        }
      },
      "source": [
        "from fractions import Fraction\n",
        "\n",
        "a = Fraction(22 / 7)\n",
        "\n",
        "print(float(a))\n",
        "print(int(a))"
      ],
      "execution_count": 0,
      "outputs": [
        {
          "output_type": "stream",
          "text": [
            "3.142857142857143\n",
            "3\n",
            "time: 2.89 ms\n"
          ],
          "name": "stdout"
        }
      ]
    },
    {
      "cell_type": "code",
      "metadata": {
        "id": "aXIVtUy8m3Zr",
        "colab_type": "code",
        "outputId": "b9b7b210-713c-46d0-8a4b-12d8cb8f753c",
        "colab": {
          "base_uri": "https://localhost:8080/",
          "height": 34
        }
      },
      "source": [
        "int(\"101\", base=2)"
      ],
      "execution_count": 0,
      "outputs": [
        {
          "output_type": "execute_result",
          "data": {
            "text/plain": [
              "5"
            ]
          },
          "metadata": {
            "tags": []
          },
          "execution_count": 5
        },
        {
          "output_type": "stream",
          "text": [
            "time: 7.95 ms\n"
          ],
          "name": "stdout"
        }
      ]
    },
    {
      "cell_type": "markdown",
      "metadata": {
        "id": "VjEoYpf0nZGz",
        "colab_type": "text"
      },
      "source": [
        "Python uses ``a-z`` for bases from 11 to 36.\n",
        "</br>\n",
        "Note that the letters are not case sensitive."
      ]
    },
    {
      "cell_type": "code",
      "metadata": {
        "id": "IE0gmCeinX5M",
        "colab_type": "code",
        "outputId": "2917220e-b812-4ab1-cb06-78fd90cf6cb9",
        "colab": {
          "base_uri": "https://localhost:8080/",
          "height": 67
        }
      },
      "source": [
        "print(int(\"F1A\", base=16))\n",
        "print(int(\"f1a\", base=16))"
      ],
      "execution_count": 0,
      "outputs": [
        {
          "output_type": "stream",
          "text": [
            "3866\n",
            "3866\n",
            "time: 1.94 ms\n"
          ],
          "name": "stdout"
        }
      ]
    },
    {
      "cell_type": "markdown",
      "metadata": {
        "id": "72_QMXcnxfrC",
        "colab_type": "text"
      },
      "source": [
        "#### Base Representations"
      ]
    },
    {
      "cell_type": "code",
      "metadata": {
        "id": "zUnAPcL_nnWt",
        "colab_type": "code",
        "outputId": "00e0bcc0-e0fc-432c-c79f-f02091dc65c4",
        "colab": {
          "base_uri": "https://localhost:8080/",
          "height": 84
        }
      },
      "source": [
        "print(f'binary representation of 10: {bin(10)}')\n",
        "print(f'octaal representation of 10: {oct(10)}')\n",
        "print(f'hexadcimal representation of 10: {hex(10)}')"
      ],
      "execution_count": 0,
      "outputs": [
        {
          "output_type": "stream",
          "text": [
            "binary representation of 10: 0b1010\n",
            "octaal representation of 10: 0o12\n",
            "hexadcimal representation of 10: 0xa\n",
            "time: 3.11 ms\n"
          ],
          "name": "stdout"
        }
      ]
    },
    {
      "cell_type": "markdown",
      "metadata": {
        "id": "Xq9bTojK64NT",
        "colab_type": "text"
      },
      "source": [
        "Note the `0b`, `0o` and `0x` prefixes"
      ]
    },
    {
      "cell_type": "code",
      "metadata": {
        "id": "WJIG610YxpEQ",
        "colab_type": "code",
        "outputId": "f9602183-8642-4037-e795-ed54e9e5cbe9",
        "colab": {
          "base_uri": "https://localhost:8080/",
          "height": 50
        }
      },
      "source": [
        "a = int('1010', 2)\n",
        "b = int('0b1010', 2)\n",
        "c = 0b1010\n",
        "print(a, b, c)"
      ],
      "execution_count": 0,
      "outputs": [
        {
          "output_type": "stream",
          "text": [
            "10 10 10\n",
            "time: 3.15 ms\n"
          ],
          "name": "stdout"
        }
      ]
    },
    {
      "cell_type": "markdown",
      "metadata": {
        "id": "heDcp6lV7AK3",
        "colab_type": "text"
      },
      "source": [
        "For literals, the ``a-z`` characters are not case-sensitive either"
      ]
    },
    {
      "cell_type": "code",
      "metadata": {
        "id": "zy9r7-Vs660x",
        "colab_type": "code",
        "outputId": "8316342a-7c19-4025-8520-724d4461cfee",
        "colab": {
          "base_uri": "https://localhost:8080/",
          "height": 50
        }
      },
      "source": [
        "a = 0xf1a\n",
        "b = 0xF1a\n",
        "c = 0xF1A\n",
        "print(a, b, c)"
      ],
      "execution_count": 0,
      "outputs": [
        {
          "output_type": "stream",
          "text": [
            "3866 3866 3866\n",
            "time: 6.45 ms\n"
          ],
          "name": "stdout"
        }
      ]
    },
    {
      "cell_type": "markdown",
      "metadata": {
        "id": "q3fpEKsU8q7z",
        "colab_type": "text"
      },
      "source": [
        "#### Custom Rebasing"
      ]
    },
    {
      "cell_type": "markdown",
      "metadata": {
        "id": "xjH-LHXT8tCC",
        "colab_type": "text"
      },
      "source": [
        "Python only provides built-in function to rebase to base 2, 8 and 16.\n",
        "\n",
        "For other bases, you have to provide your own algorithm (or leverage some 3rd party library of your choice)"
      ]
    },
    {
      "cell_type": "code",
      "metadata": {
        "id": "uqvLUUH_7CX9",
        "colab_type": "code",
        "outputId": "ac694293-1ddd-4fd0-d79e-48860e2adb22",
        "colab": {
          "base_uri": "https://localhost:8080/",
          "height": 34
        }
      },
      "source": [
        "def from_base10(n, b):\n",
        "    if b < 2:\n",
        "        raise ValueError('Base b must be >= 2')\n",
        "    if n < 0:\n",
        "        raise ValueError('Number n must be >= 0')\n",
        "    if n == 0:\n",
        "        return [0]\n",
        "    digits = []\n",
        "    while n > 0:\n",
        "        # m = n % b\n",
        "        # n = n // b\n",
        "        # which is the same as:\n",
        "        n, m = divmod(n, b)\n",
        "        digits.insert(0, m)\n",
        "    return digits"
      ],
      "execution_count": 0,
      "outputs": [
        {
          "output_type": "stream",
          "text": [
            "time: 9.17 ms\n"
          ],
          "name": "stdout"
        }
      ]
    },
    {
      "cell_type": "code",
      "metadata": {
        "id": "18A-Juh09-24",
        "colab_type": "code",
        "outputId": "802294aa-3e4c-4fd6-9ed1-0a105665b9d7",
        "colab": {
          "base_uri": "https://localhost:8080/",
          "height": 34
        }
      },
      "source": [
        "from_base10(255, 16)"
      ],
      "execution_count": 0,
      "outputs": [
        {
          "output_type": "execute_result",
          "data": {
            "text/plain": [
              "[15, 15]"
            ]
          },
          "metadata": {
            "tags": []
          },
          "execution_count": 14
        },
        {
          "output_type": "stream",
          "text": [
            "time: 2.9 ms\n"
          ],
          "name": "stdout"
        }
      ]
    },
    {
      "cell_type": "markdown",
      "metadata": {
        "id": "5l2Ntxrw-CkR",
        "colab_type": "text"
      },
      "source": [
        "Next we may want to encode the digits into strings using different characters for each digit in the base"
      ]
    },
    {
      "cell_type": "code",
      "metadata": {
        "id": "Dm7Ra5rF9_Ub",
        "colab_type": "code",
        "outputId": "b2b483f8-808b-4634-d5cd-e9894bb53f5b",
        "colab": {
          "base_uri": "https://localhost:8080/",
          "height": 34
        }
      },
      "source": [
        "def encode(digits, digit_map):\n",
        "    # we require that digit_map has at least as many\n",
        "    # characters as the max number in digits\n",
        "    if max(digits) >= len(digit_map):\n",
        "        raise ValueError(\"digit_map is not long enough to encode digits\")\n",
        "    \n",
        "    # we'll see this later, but the following would be better:\n",
        "    return ''.join([digit_map[d] for d in digits])\n",
        "    \n",
        "    "
      ],
      "execution_count": 0,
      "outputs": [
        {
          "output_type": "stream",
          "text": [
            "time: 2.33 ms\n"
          ],
          "name": "stdout"
        }
      ]
    },
    {
      "cell_type": "code",
      "metadata": {
        "id": "dHOWcy0O-DEN",
        "colab_type": "code",
        "outputId": "9258d086-8972-40e1-897c-bdc79b30a91d",
        "colab": {
          "base_uri": "https://localhost:8080/",
          "height": 34
        }
      },
      "source": [
        "encode([1, 0, 1], \"FT\")"
      ],
      "execution_count": 0,
      "outputs": [
        {
          "output_type": "execute_result",
          "data": {
            "text/plain": [
              "'TFT'"
            ]
          },
          "metadata": {
            "tags": []
          },
          "execution_count": 19
        },
        {
          "output_type": "stream",
          "text": [
            "time: 3.96 ms\n"
          ],
          "name": "stdout"
        }
      ]
    },
    {
      "cell_type": "code",
      "metadata": {
        "id": "BACUiOCf-FB0",
        "colab_type": "code",
        "outputId": "80a4ef24-df8e-4828-c3a1-6748a1d3e809",
        "colab": {
          "base_uri": "https://localhost:8080/",
          "height": 34
        }
      },
      "source": [
        "encode([1, 10, 11], '0123456789AB')"
      ],
      "execution_count": 0,
      "outputs": [
        {
          "output_type": "execute_result",
          "data": {
            "text/plain": [
              "'1AB'"
            ]
          },
          "metadata": {
            "tags": []
          },
          "execution_count": 17
        },
        {
          "output_type": "stream",
          "text": [
            "time: 3.21 ms\n"
          ],
          "name": "stdout"
        }
      ]
    },
    {
      "cell_type": "markdown",
      "metadata": {
        "id": "SmX7ggFV-KAd",
        "colab_type": "text"
      },
      "source": [
        "And we can combine both functions into a single one for easier use:"
      ]
    },
    {
      "cell_type": "code",
      "metadata": {
        "id": "IdZMSJiD-GWp",
        "colab_type": "code",
        "outputId": "95f6e5c9-ebfd-46d0-f07d-1c91edc0d991",
        "colab": {
          "base_uri": "https://localhost:8080/",
          "height": 34
        }
      },
      "source": [
        "def rebase_from10(number, base):\n",
        "    digit_map = '0123456789ABCDEFGHIJKLMNOPQRSTUVWXYZ'\n",
        "    if base < 2 or base > 36:\n",
        "        raise ValueError('Invalid base: 2 <= base <= 36')\n",
        "    # we store the sign of number and make it positive\n",
        "    # we'll re-insert the sign at the end\n",
        "    sign = -1 if number < 0 else 1\n",
        "    number *= sign\n",
        "    \n",
        "    digits = from_base10(number, base)\n",
        "    encoding = encode(digits, digit_map)\n",
        "    if sign == -1:\n",
        "        encoding = '-' + encoding\n",
        "    return encoding"
      ],
      "execution_count": 0,
      "outputs": [
        {
          "output_type": "stream",
          "text": [
            "time: 6.47 ms\n"
          ],
          "name": "stdout"
        }
      ]
    },
    {
      "cell_type": "code",
      "metadata": {
        "id": "gkLW5CJt_Olf",
        "colab_type": "code",
        "outputId": "ed705d81-799f-48ef-be69-f571aed2927a",
        "colab": {
          "base_uri": "https://localhost:8080/",
          "height": 67
        }
      },
      "source": [
        "e = rebase_from10(10, 2)\n",
        "print(e)\n",
        "print(int(e, 2))"
      ],
      "execution_count": 0,
      "outputs": [
        {
          "output_type": "stream",
          "text": [
            "1010\n",
            "10\n",
            "time: 2.5 ms\n"
          ],
          "name": "stdout"
        }
      ]
    },
    {
      "cell_type": "code",
      "metadata": {
        "id": "1B8JD3Zy_PM5",
        "colab_type": "code",
        "outputId": "029b4627-f8b2-4ebb-b4d7-a0185a4e7cb5",
        "colab": {
          "base_uri": "https://localhost:8080/",
          "height": 67
        }
      },
      "source": [
        "e = rebase_from10(-10, 2)\n",
        "print(e)\n",
        "print(int(e, 2))"
      ],
      "execution_count": 0,
      "outputs": [
        {
          "output_type": "stream",
          "text": [
            "-1010\n",
            "-10\n",
            "time: 2.7 ms\n"
          ],
          "name": "stdout"
        }
      ]
    },
    {
      "cell_type": "code",
      "metadata": {
        "id": "FapuV7X-_Q5V",
        "colab_type": "code",
        "outputId": "a0927892-4ad6-4d88-91e3-64a78221a145",
        "colab": {
          "base_uri": "https://localhost:8080/",
          "height": 34
        }
      },
      "source": [
        "rebase_from10(131, 11)"
      ],
      "execution_count": 0,
      "outputs": [
        {
          "output_type": "execute_result",
          "data": {
            "text/plain": [
              "'10A'"
            ]
          },
          "metadata": {
            "tags": []
          },
          "execution_count": 23
        },
        {
          "output_type": "stream",
          "text": [
            "time: 3.42 ms\n"
          ],
          "name": "stdout"
        }
      ]
    },
    {
      "cell_type": "code",
      "metadata": {
        "id": "3EqGbMFw_S14",
        "colab_type": "code",
        "outputId": "bb10486d-c468-42c0-a273-bf2f9328006a",
        "colab": {
          "base_uri": "https://localhost:8080/",
          "height": 34
        }
      },
      "source": [
        "rebase_from10(4095, 16)"
      ],
      "execution_count": 0,
      "outputs": [
        {
          "output_type": "execute_result",
          "data": {
            "text/plain": [
              "'FFF'"
            ]
          },
          "metadata": {
            "tags": []
          },
          "execution_count": 24
        },
        {
          "output_type": "stream",
          "text": [
            "time: 2.33 ms\n"
          ],
          "name": "stdout"
        }
      ]
    },
    {
      "cell_type": "code",
      "metadata": {
        "id": "FOoz-mWE_USi",
        "colab_type": "code",
        "outputId": "cb888750-2813-48df-c21b-e06776ba83ea",
        "colab": {
          "base_uri": "https://localhost:8080/",
          "height": 34
        }
      },
      "source": [
        "rebase_from10(-4095, 16)"
      ],
      "execution_count": 0,
      "outputs": [
        {
          "output_type": "execute_result",
          "data": {
            "text/plain": [
              "'-FFF'"
            ]
          },
          "metadata": {
            "tags": []
          },
          "execution_count": 25
        },
        {
          "output_type": "stream",
          "text": [
            "time: 3.12 ms\n"
          ],
          "name": "stdout"
        }
      ]
    },
    {
      "cell_type": "markdown",
      "metadata": {
        "id": "Dvbv82Tv-B_x",
        "colab_type": "text"
      },
      "source": [
        "## 5.Rational Numbers"
      ]
    },
    {
      "cell_type": "markdown",
      "metadata": {
        "id": "nQrbccX3-Ghj",
        "colab_type": "text"
      },
      "source": [
        "![alt text](https://drive.google.com/uc?id=1sH3CSU3YVO-4K2wIdgJCD5B5DHE6046V)"
      ]
    },
    {
      "cell_type": "markdown",
      "metadata": {
        "id": "u3ZihyEE-lyP",
        "colab_type": "text"
      },
      "source": [
        "![alt text](https://drive.google.com/uc?id=1nwUA3tPA8qkqmtFJ4WUYevIXrRef95_w)"
      ]
    },
    {
      "cell_type": "markdown",
      "metadata": {
        "id": "tb7ia_hu-56k",
        "colab_type": "text"
      },
      "source": [
        "![alt text](https://drive.google.com/uc?id=1N5DJi0XzPxpkudrMCpzpfFCPEgtbnIjD)"
      ]
    },
    {
      "cell_type": "markdown",
      "metadata": {
        "id": "7rqcRgIm_HaU",
        "colab_type": "text"
      },
      "source": [
        "![alt text](https://drive.google.com/uc?id=11P5Ir0N8jk9dQp0WriTltyk2cSSH239v)"
      ]
    },
    {
      "cell_type": "markdown",
      "metadata": {
        "id": "d6Uyl8kr_Tti",
        "colab_type": "text"
      },
      "source": [
        "![alt text](https://drive.google.com/uc?id=1EB_7hUEZwR_XaEMhDIrbnuKV5S4NH_xC)"
      ]
    },
    {
      "cell_type": "markdown",
      "metadata": {
        "id": "zl_cxEVs_of2",
        "colab_type": "text"
      },
      "source": [
        "![alt text](https://drive.google.com/uc?id=1iYbg5uc-DpJ_lOoBPAeROV4RIt3ng_Bz)"
      ]
    },
    {
      "cell_type": "markdown",
      "metadata": {
        "id": "70Rwmoja_5Z3",
        "colab_type": "text"
      },
      "source": [
        "![alt text](https://drive.google.com/uc?id=1SmVsT0QnFPeGPkygrByKw9PN7uW9Kxf3)"
      ]
    },
    {
      "cell_type": "markdown",
      "metadata": {
        "id": "19Ud1lLzJEPV",
        "colab_type": "text"
      },
      "source": [
        "### Coding Time"
      ]
    },
    {
      "cell_type": "code",
      "metadata": {
        "id": "CUaHinWw-gBM",
        "colab_type": "code",
        "outputId": "3caa8a36-42ce-4b32-b70f-3eba1493767d",
        "colab": {
          "base_uri": "https://localhost:8080/",
          "height": 1000
        }
      },
      "source": [
        "from fractions import Fraction\n",
        "help(Fraction)"
      ],
      "execution_count": 0,
      "outputs": [
        {
          "output_type": "stream",
          "text": [
            "Help on class Fraction in module fractions:\n",
            "\n",
            "class Fraction(numbers.Rational)\n",
            " |  This class implements rational numbers.\n",
            " |  \n",
            " |  In the two-argument form of the constructor, Fraction(8, 6) will\n",
            " |  produce a rational number equivalent to 4/3. Both arguments must\n",
            " |  be Rational. The numerator defaults to 0 and the denominator\n",
            " |  defaults to 1 so that Fraction(3) == 3 and Fraction() == 0.\n",
            " |  \n",
            " |  Fractions can also be constructed from:\n",
            " |  \n",
            " |    - numeric strings similar to those accepted by the\n",
            " |      float constructor (for example, '-2.3' or '1e10')\n",
            " |  \n",
            " |    - strings of the form '123/456'\n",
            " |  \n",
            " |    - float and Decimal instances\n",
            " |  \n",
            " |    - other Rational instances (including integers)\n",
            " |  \n",
            " |  Method resolution order:\n",
            " |      Fraction\n",
            " |      numbers.Rational\n",
            " |      numbers.Real\n",
            " |      numbers.Complex\n",
            " |      numbers.Number\n",
            " |      builtins.object\n",
            " |  \n",
            " |  Methods defined here:\n",
            " |  \n",
            " |  __abs__(a)\n",
            " |      abs(a)\n",
            " |  \n",
            " |  __add__(a, b)\n",
            " |      a + b\n",
            " |  \n",
            " |  __bool__(a)\n",
            " |      a != 0\n",
            " |  \n",
            " |  __ceil__(a)\n",
            " |      Will be math.ceil(a) in 3.0.\n",
            " |  \n",
            " |  __copy__(self)\n",
            " |  \n",
            " |  __deepcopy__(self, memo)\n",
            " |  \n",
            " |  __eq__(a, b)\n",
            " |      a == b\n",
            " |  \n",
            " |  __floor__(a)\n",
            " |      Will be math.floor(a) in 3.0.\n",
            " |  \n",
            " |  __floordiv__(a, b)\n",
            " |      a // b\n",
            " |  \n",
            " |  __ge__(a, b)\n",
            " |      a >= b\n",
            " |  \n",
            " |  __gt__(a, b)\n",
            " |      a > b\n",
            " |  \n",
            " |  __hash__(self)\n",
            " |      hash(self)\n",
            " |  \n",
            " |  __le__(a, b)\n",
            " |      a <= b\n",
            " |  \n",
            " |  __lt__(a, b)\n",
            " |      a < b\n",
            " |  \n",
            " |  __mod__(a, b)\n",
            " |      a % b\n",
            " |  \n",
            " |  __mul__(a, b)\n",
            " |      a * b\n",
            " |  \n",
            " |  __neg__(a)\n",
            " |      -a\n",
            " |  \n",
            " |  __pos__(a)\n",
            " |      +a: Coerces a subclass instance to Fraction\n",
            " |  \n",
            " |  __pow__(a, b)\n",
            " |      a ** b\n",
            " |      \n",
            " |      If b is not an integer, the result will be a float or complex\n",
            " |      since roots are generally irrational. If b is an integer, the\n",
            " |      result will be rational.\n",
            " |  \n",
            " |  __radd__(b, a)\n",
            " |      a + b\n",
            " |  \n",
            " |  __reduce__(self)\n",
            " |      helper for pickle\n",
            " |  \n",
            " |  __repr__(self)\n",
            " |      repr(self)\n",
            " |  \n",
            " |  __rfloordiv__(b, a)\n",
            " |      a // b\n",
            " |  \n",
            " |  __rmod__(b, a)\n",
            " |      a % b\n",
            " |  \n",
            " |  __rmul__(b, a)\n",
            " |      a * b\n",
            " |  \n",
            " |  __round__(self, ndigits=None)\n",
            " |      Will be round(self, ndigits) in 3.0.\n",
            " |      \n",
            " |      Rounds half toward even.\n",
            " |  \n",
            " |  __rpow__(b, a)\n",
            " |      a ** b\n",
            " |  \n",
            " |  __rsub__(b, a)\n",
            " |      a - b\n",
            " |  \n",
            " |  __rtruediv__(b, a)\n",
            " |      a / b\n",
            " |  \n",
            " |  __str__(self)\n",
            " |      str(self)\n",
            " |  \n",
            " |  __sub__(a, b)\n",
            " |      a - b\n",
            " |  \n",
            " |  __truediv__(a, b)\n",
            " |      a / b\n",
            " |  \n",
            " |  __trunc__(a)\n",
            " |      trunc(a)\n",
            " |  \n",
            " |  limit_denominator(self, max_denominator=1000000)\n",
            " |      Closest Fraction to self with denominator at most max_denominator.\n",
            " |      \n",
            " |      >>> Fraction('3.141592653589793').limit_denominator(10)\n",
            " |      Fraction(22, 7)\n",
            " |      >>> Fraction('3.141592653589793').limit_denominator(100)\n",
            " |      Fraction(311, 99)\n",
            " |      >>> Fraction(4321, 8765).limit_denominator(10000)\n",
            " |      Fraction(4321, 8765)\n",
            " |  \n",
            " |  ----------------------------------------------------------------------\n",
            " |  Class methods defined here:\n",
            " |  \n",
            " |  from_decimal(dec) from abc.ABCMeta\n",
            " |      Converts a finite Decimal instance to a rational number, exactly.\n",
            " |  \n",
            " |  from_float(f) from abc.ABCMeta\n",
            " |      Converts a finite float to a rational number, exactly.\n",
            " |      \n",
            " |      Beware that Fraction.from_float(0.3) != Fraction(3, 10).\n",
            " |  \n",
            " |  ----------------------------------------------------------------------\n",
            " |  Static methods defined here:\n",
            " |  \n",
            " |  __new__(cls, numerator=0, denominator=None, *, _normalize=True)\n",
            " |      Constructs a Rational.\n",
            " |      \n",
            " |      Takes a string like '3/2' or '1.5', another Rational instance, a\n",
            " |      numerator/denominator pair, or a float.\n",
            " |      \n",
            " |      Examples\n",
            " |      --------\n",
            " |      \n",
            " |      >>> Fraction(10, -8)\n",
            " |      Fraction(-5, 4)\n",
            " |      >>> Fraction(Fraction(1, 7), 5)\n",
            " |      Fraction(1, 35)\n",
            " |      >>> Fraction(Fraction(1, 7), Fraction(2, 3))\n",
            " |      Fraction(3, 14)\n",
            " |      >>> Fraction('314')\n",
            " |      Fraction(314, 1)\n",
            " |      >>> Fraction('-35/4')\n",
            " |      Fraction(-35, 4)\n",
            " |      >>> Fraction('3.1415') # conversion from numeric string\n",
            " |      Fraction(6283, 2000)\n",
            " |      >>> Fraction('-47e-2') # string may include a decimal exponent\n",
            " |      Fraction(-47, 100)\n",
            " |      >>> Fraction(1.47)  # direct construction from float (exact conversion)\n",
            " |      Fraction(6620291452234629, 4503599627370496)\n",
            " |      >>> Fraction(2.25)\n",
            " |      Fraction(9, 4)\n",
            " |      >>> Fraction(Decimal('1.47'))\n",
            " |      Fraction(147, 100)\n",
            " |  \n",
            " |  ----------------------------------------------------------------------\n",
            " |  Data descriptors defined here:\n",
            " |  \n",
            " |  denominator\n",
            " |  \n",
            " |  numerator\n",
            " |  \n",
            " |  ----------------------------------------------------------------------\n",
            " |  Data and other attributes defined here:\n",
            " |  \n",
            " |  __abstractmethods__ = frozenset()\n",
            " |  \n",
            " |  ----------------------------------------------------------------------\n",
            " |  Methods inherited from numbers.Rational:\n",
            " |  \n",
            " |  __float__(self)\n",
            " |      float(self) = self.numerator / self.denominator\n",
            " |      \n",
            " |      It's important that this conversion use the integer's \"true\"\n",
            " |      division rather than casting one side to float before dividing\n",
            " |      so that ratios of huge integers convert without overflowing.\n",
            " |  \n",
            " |  ----------------------------------------------------------------------\n",
            " |  Methods inherited from numbers.Real:\n",
            " |  \n",
            " |  __complex__(self)\n",
            " |      complex(self) == complex(float(self), 0)\n",
            " |  \n",
            " |  __divmod__(self, other)\n",
            " |      divmod(self, other): The pair (self // other, self % other).\n",
            " |      \n",
            " |      Sometimes this can be computed faster than the pair of\n",
            " |      operations.\n",
            " |  \n",
            " |  __rdivmod__(self, other)\n",
            " |      divmod(other, self): The pair (self // other, self % other).\n",
            " |      \n",
            " |      Sometimes this can be computed faster than the pair of\n",
            " |      operations.\n",
            " |  \n",
            " |  conjugate(self)\n",
            " |      Conjugate is a no-op for Reals.\n",
            " |  \n",
            " |  ----------------------------------------------------------------------\n",
            " |  Data descriptors inherited from numbers.Real:\n",
            " |  \n",
            " |  imag\n",
            " |      Real numbers have no imaginary component.\n",
            " |  \n",
            " |  real\n",
            " |      Real numbers are their real component.\n",
            "\n"
          ],
          "name": "stdout"
        }
      ]
    },
    {
      "cell_type": "markdown",
      "metadata": {
        "id": "TmYRSVvsKcKW",
        "colab_type": "text"
      },
      "source": [
        "We can create Fraction objects in a variety of ways:"
      ]
    },
    {
      "cell_type": "code",
      "metadata": {
        "id": "HsHQ7txzKXg-",
        "colab_type": "code",
        "outputId": "6c4c7468-3008-4f43-e464-64d9891f6617",
        "colab": {
          "base_uri": "https://localhost:8080/",
          "height": 85
        }
      },
      "source": [
        "print(Fraction(1))\n",
        "print(Fraction(numerator=1, denominator=3))\n",
        "print(Fraction(denominator=3, numerator=1))\n",
        "x = Fraction(2, 3)\n",
        "y = Fraction(3, 4)\n",
        "# 2/3 / 3/4 --> 2/3 * 4/3 --> 8/9\n",
        "print(Fraction(x, y))"
      ],
      "execution_count": 0,
      "outputs": [
        {
          "output_type": "stream",
          "text": [
            "1\n",
            "1/3\n",
            "1/3\n",
            "8/9\n"
          ],
          "name": "stdout"
        }
      ]
    },
    {
      "cell_type": "code",
      "metadata": {
        "id": "2LiqSJLWLWoG",
        "colab_type": "code",
        "outputId": "1bbab29e-d3a4-4983-929a-40a5f2be9447",
        "colab": {
          "base_uri": "https://localhost:8080/",
          "height": 34
        }
      },
      "source": [
        "Fraction('22/7')"
      ],
      "execution_count": 0,
      "outputs": [
        {
          "output_type": "execute_result",
          "data": {
            "text/plain": [
              "Fraction(22, 7)"
            ]
          },
          "metadata": {
            "tags": []
          },
          "execution_count": 9
        }
      ]
    },
    {
      "cell_type": "code",
      "metadata": {
        "id": "0QOtci5kLvLj",
        "colab_type": "code",
        "outputId": "9cd3958c-f8f0-465e-959f-c6d481487a96",
        "colab": {
          "base_uri": "https://localhost:8080/",
          "height": 34
        }
      },
      "source": [
        "Fraction('10')"
      ],
      "execution_count": 0,
      "outputs": [
        {
          "output_type": "execute_result",
          "data": {
            "text/plain": [
              "Fraction(10, 1)"
            ]
          },
          "metadata": {
            "tags": []
          },
          "execution_count": 10
        }
      ]
    },
    {
      "cell_type": "markdown",
      "metadata": {
        "id": "BJKGg09tLU2Y",
        "colab_type": "text"
      },
      "source": [
        "Fractions are automatically reduced:"
      ]
    },
    {
      "cell_type": "code",
      "metadata": {
        "id": "hYIpMnn8KjfH",
        "colab_type": "code",
        "outputId": "bb094956-f4b2-4e0e-a33c-621d855aca82",
        "colab": {
          "base_uri": "https://localhost:8080/",
          "height": 34
        }
      },
      "source": [
        "Fraction(8, 16)"
      ],
      "execution_count": 0,
      "outputs": [
        {
          "output_type": "execute_result",
          "data": {
            "text/plain": [
              "Fraction(1, 2)"
            ]
          },
          "metadata": {
            "tags": []
          },
          "execution_count": 11
        }
      ]
    },
    {
      "cell_type": "markdown",
      "metadata": {
        "id": "BJNSNBlQL2ga",
        "colab_type": "text"
      },
      "source": [
        "Negative sign is attached to the numerator:"
      ]
    },
    {
      "cell_type": "code",
      "metadata": {
        "id": "FXILhItpLy-y",
        "colab_type": "code",
        "outputId": "efbfddf0-ca80-4735-b76c-bb5aa8f300f7",
        "colab": {
          "base_uri": "https://localhost:8080/",
          "height": 34
        }
      },
      "source": [
        "x = Fraction(1, -4)\n",
        "x"
      ],
      "execution_count": 0,
      "outputs": [
        {
          "output_type": "execute_result",
          "data": {
            "text/plain": [
              "Fraction(-1, 4)"
            ]
          },
          "metadata": {
            "tags": []
          },
          "execution_count": 15
        }
      ]
    },
    {
      "cell_type": "code",
      "metadata": {
        "id": "P1uI_H0xMFE1",
        "colab_type": "code",
        "outputId": "b77a8f24-1f26-47bc-e4d5-99fb6b11a6f0",
        "colab": {
          "base_uri": "https://localhost:8080/",
          "height": 34
        }
      },
      "source": [
        "print(x.numerator, x.denominator)"
      ],
      "execution_count": 0,
      "outputs": [
        {
          "output_type": "stream",
          "text": [
            "-1 4\n"
          ],
          "name": "stdout"
        }
      ]
    },
    {
      "cell_type": "markdown",
      "metadata": {
        "id": "oZb0UIo8L8b_",
        "colab_type": "text"
      },
      "source": [
        "Standard arithmetic operators are supported:"
      ]
    },
    {
      "cell_type": "code",
      "metadata": {
        "id": "qlm7N2JCL5o8",
        "colab_type": "code",
        "outputId": "761fee12-bf8a-477b-8747-afffd9abeb01",
        "colab": {
          "base_uri": "https://localhost:8080/",
          "height": 34
        }
      },
      "source": [
        "Fraction(1, 3) + Fraction(1, 3) + Fraction(1, 3)"
      ],
      "execution_count": 0,
      "outputs": [
        {
          "output_type": "execute_result",
          "data": {
            "text/plain": [
              "Fraction(1, 1)"
            ]
          },
          "metadata": {
            "tags": []
          },
          "execution_count": 13
        }
      ]
    },
    {
      "cell_type": "code",
      "metadata": {
        "id": "g30LK89yMhwm",
        "colab_type": "code",
        "outputId": "41915877-af7b-4fb5-d8a1-9d2f568006a5",
        "colab": {
          "base_uri": "https://localhost:8080/",
          "height": 34
        }
      },
      "source": [
        "Fraction(1, 2) * Fraction(1, 4)"
      ],
      "execution_count": 0,
      "outputs": [
        {
          "output_type": "execute_result",
          "data": {
            "text/plain": [
              "Fraction(1, 8)"
            ]
          },
          "metadata": {
            "tags": []
          },
          "execution_count": 17
        }
      ]
    },
    {
      "cell_type": "code",
      "metadata": {
        "id": "HOK0Oy1_L_hu",
        "colab_type": "code",
        "outputId": "5909196e-0322-46d5-f11a-afc7e17e50e5",
        "colab": {
          "base_uri": "https://localhost:8080/",
          "height": 34
        }
      },
      "source": [
        "Fraction(1, 2) / Fraction(1, 3)"
      ],
      "execution_count": 0,
      "outputs": [
        {
          "output_type": "execute_result",
          "data": {
            "text/plain": [
              "Fraction(3, 2)"
            ]
          },
          "metadata": {
            "tags": []
          },
          "execution_count": 18
        }
      ]
    },
    {
      "cell_type": "code",
      "metadata": {
        "id": "Dd9FRkUzMkJO",
        "colab_type": "code",
        "outputId": "289c3dfc-4e4a-4188-f8df-105d25814cd4",
        "colab": {
          "base_uri": "https://localhost:8080/",
          "height": 34
        }
      },
      "source": [
        "import math\n",
        "\n",
        "x = Fraction(math.pi)\n",
        "x"
      ],
      "execution_count": 0,
      "outputs": [
        {
          "output_type": "execute_result",
          "data": {
            "text/plain": [
              "Fraction(884279719003555, 281474976710656)"
            ]
          },
          "metadata": {
            "tags": []
          },
          "execution_count": 19
        }
      ]
    },
    {
      "cell_type": "code",
      "metadata": {
        "id": "zacHeja3Mtac",
        "colab_type": "code",
        "outputId": "6598e46e-2de8-410e-8ac7-4061f63cb123",
        "colab": {
          "base_uri": "https://localhost:8080/",
          "height": 34
        }
      },
      "source": [
        "y = Fraction(math.sqrt(2))\n",
        "y"
      ],
      "execution_count": 0,
      "outputs": [
        {
          "output_type": "execute_result",
          "data": {
            "text/plain": [
              "Fraction(6369051672525773, 4503599627370496)"
            ]
          },
          "metadata": {
            "tags": []
          },
          "execution_count": 20
        }
      ]
    },
    {
      "cell_type": "code",
      "metadata": {
        "id": "M9_plg3TM2x_",
        "colab_type": "code",
        "outputId": "41fe4e0a-7cb7-42d9-de69-d0a2f2caa3c7",
        "colab": {
          "base_uri": "https://localhost:8080/",
          "height": 34
        }
      },
      "source": [
        "float(y)"
      ],
      "execution_count": 0,
      "outputs": [
        {
          "output_type": "execute_result",
          "data": {
            "text/plain": [
              "1.4142135623730951"
            ]
          },
          "metadata": {
            "tags": []
          },
          "execution_count": 21
        }
      ]
    },
    {
      "cell_type": "markdown",
      "metadata": {
        "id": "xwfK1au8NJiA",
        "colab_type": "text"
      },
      "source": [
        "Note that these rational values are approximations to the irrational numbers $\\pi$ and $\\sqrt{2}$"
      ]
    },
    {
      "cell_type": "markdown",
      "metadata": {
        "id": "8sV86qF9N96v",
        "colab_type": "text"
      },
      "source": [
        "**Beware!!**\n",
        "</br>\n",
        "Float number representations (as we will examine in future lessons) do not always have an exact representation.\n",
        "</br>\n",
        "The number 0.125 (1/8) **has** an exact representation:"
      ]
    },
    {
      "cell_type": "code",
      "metadata": {
        "id": "_otSho9mM4LW",
        "colab_type": "code",
        "outputId": "cd6ec5b5-ccdd-4080-e4a9-2584b75be4f6",
        "colab": {
          "base_uri": "https://localhost:8080/",
          "height": 51
        }
      },
      "source": [
        "a = 0.125\n",
        "b = 0.3\n",
        "print(a)\n",
        "Fraction(a)"
      ],
      "execution_count": 0,
      "outputs": [
        {
          "output_type": "stream",
          "text": [
            "0.125\n"
          ],
          "name": "stdout"
        },
        {
          "output_type": "execute_result",
          "data": {
            "text/plain": [
              "Fraction(1, 8)"
            ]
          },
          "metadata": {
            "tags": []
          },
          "execution_count": 22
        }
      ]
    },
    {
      "cell_type": "code",
      "metadata": {
        "id": "Xv6PL80bOMz9",
        "colab_type": "code",
        "outputId": "7cb129ab-2e17-4741-cc12-23f573e02fc8",
        "colab": {
          "base_uri": "https://localhost:8080/",
          "height": 51
        }
      },
      "source": [
        "print(b)\n",
        "Fraction(b)"
      ],
      "execution_count": 0,
      "outputs": [
        {
          "output_type": "stream",
          "text": [
            "0.3\n"
          ],
          "name": "stdout"
        },
        {
          "output_type": "execute_result",
          "data": {
            "text/plain": [
              "Fraction(5404319552844595, 18014398509481984)"
            ]
          },
          "metadata": {
            "tags": []
          },
          "execution_count": 24
        }
      ]
    },
    {
      "cell_type": "markdown",
      "metadata": {
        "id": "lEYt2yBEOTVP",
        "colab_type": "text"
      },
      "source": [
        "and so we see the expected equivalent fraction.\n",
        "\n",
        "But, 0.3 (3/10) does **not** have an exact representation.\n",
        "</br>\n",
        "We will study this in upcoming lessons.\n",
        "\n",
        "But for now, let's just see a quick explanation:"
      ]
    },
    {
      "cell_type": "code",
      "metadata": {
        "id": "EsfsIx_ZOQsX",
        "colab_type": "code",
        "outputId": "451ff9b5-b471-434d-8992-0ccdaa4e5ac0",
        "colab": {
          "base_uri": "https://localhost:8080/",
          "height": 34
        }
      },
      "source": [
        "x = 0.3\n",
        "print(x)"
      ],
      "execution_count": 0,
      "outputs": [
        {
          "output_type": "stream",
          "text": [
            "0.3\n"
          ],
          "name": "stdout"
        }
      ]
    },
    {
      "cell_type": "markdown",
      "metadata": {
        "id": "J2XQy8zSOhI5",
        "colab_type": "text"
      },
      "source": [
        "Everything looks ok here - why am I saying 0.3 (float) is just an approximation?\n",
        "\n",
        "Python is trying to format the displayed value for readability - so it rounds the number for a better display format!\n",
        "\n",
        "We can instead choose to display the value using a certain number of digits:"
      ]
    },
    {
      "cell_type": "code",
      "metadata": {
        "id": "fk1zXjeFOfO5",
        "colab_type": "code",
        "outputId": "f7cceafa-d428-4182-b1df-e948e8a19b94",
        "colab": {
          "base_uri": "https://localhost:8080/",
          "height": 34
        }
      },
      "source": [
        "format(b, '5f')"
      ],
      "execution_count": 0,
      "outputs": [
        {
          "output_type": "execute_result",
          "data": {
            "text/plain": [
              "'0.300000'"
            ]
          },
          "metadata": {
            "tags": []
          },
          "execution_count": 26
        }
      ]
    },
    {
      "cell_type": "markdown",
      "metadata": {
        "id": "rrvX6GRrPXNt",
        "colab_type": "text"
      },
      "source": [
        "At 5 digits after the decimal, we might still think 0.3 is an exact representation.\n",
        "\n",
        "But let's display a few more digits:"
      ]
    },
    {
      "cell_type": "code",
      "metadata": {
        "id": "m0If4OPIPVHm",
        "colab_type": "code",
        "outputId": "011a7ff0-c388-41e2-f8a6-d78b10434ee4",
        "colab": {
          "base_uri": "https://localhost:8080/",
          "height": 34
        }
      },
      "source": [
        "format(x, '.25f')"
      ],
      "execution_count": 0,
      "outputs": [
        {
          "output_type": "execute_result",
          "data": {
            "text/plain": [
              "'0.2999999999999999888977698'"
            ]
          },
          "metadata": {
            "tags": []
          },
          "execution_count": 27
        }
      ]
    },
    {
      "cell_type": "markdown",
      "metadata": {
        "id": "ZjxulKWqPdwg",
        "colab_type": "text"
      },
      "source": [
        "Now we see that **x** is not quite 0.3...\n",
        "</br>\n",
        "</br>\n",
        "In fact, we can quantify the delta this way:"
      ]
    },
    {
      "cell_type": "code",
      "metadata": {
        "id": "lveqANXbPayt",
        "colab_type": "code",
        "colab": {}
      },
      "source": [
        "delta = Fraction(0.3) - Fraction(3, 10)"
      ],
      "execution_count": 0,
      "outputs": []
    },
    {
      "cell_type": "markdown",
      "metadata": {
        "id": "txxxABNUQEC9",
        "colab_type": "text"
      },
      "source": [
        "Theoretically, delta should be 0, but it's not:\n"
      ]
    },
    {
      "cell_type": "code",
      "metadata": {
        "id": "8v7X1qg2P_yb",
        "colab_type": "code",
        "outputId": "d7f2a35f-ab1a-4fc0-8ecc-906193d4659e",
        "colab": {
          "base_uri": "https://localhost:8080/",
          "height": 34
        }
      },
      "source": [
        "delta == 0"
      ],
      "execution_count": 0,
      "outputs": [
        {
          "output_type": "execute_result",
          "data": {
            "text/plain": [
              "False"
            ]
          },
          "metadata": {
            "tags": []
          },
          "execution_count": 29
        }
      ]
    },
    {
      "cell_type": "markdown",
      "metadata": {
        "id": "rglHxFiSQKnr",
        "colab_type": "text"
      },
      "source": [
        "**delta** is a very small number, the above fraction...\n",
        "\n",
        "As a float:"
      ]
    },
    {
      "cell_type": "code",
      "metadata": {
        "id": "dB52Q3DxQB36",
        "colab_type": "code",
        "outputId": "11ad6c7f-7b8c-462e-a27d-76050befbf0e",
        "colab": {
          "base_uri": "https://localhost:8080/",
          "height": 34
        }
      },
      "source": [
        "float(delta)"
      ],
      "execution_count": 0,
      "outputs": [
        {
          "output_type": "execute_result",
          "data": {
            "text/plain": [
              "-1.1102230246251566e-17"
            ]
          },
          "metadata": {
            "tags": []
          },
          "execution_count": 30
        }
      ]
    },
    {
      "cell_type": "code",
      "metadata": {
        "id": "KJ5j7siJQNrp",
        "colab_type": "code",
        "outputId": "a3377878-8e7b-457b-fe88-69af3bd11c07",
        "colab": {
          "base_uri": "https://localhost:8080/",
          "height": 51
        }
      },
      "source": [
        "x = Fraction(math.pi)\n",
        "print(x)\n",
        "print(format(float(x), '.25f'))"
      ],
      "execution_count": 0,
      "outputs": [
        {
          "output_type": "stream",
          "text": [
            "884279719003555/281474976710656\n",
            "3.1415926535897931159979635\n"
          ],
          "name": "stdout"
        }
      ]
    },
    {
      "cell_type": "code",
      "metadata": {
        "id": "bJUQu_nGQQW9",
        "colab_type": "code",
        "outputId": "19617504-17ad-4878-a8ab-a1f53e50683e",
        "colab": {
          "base_uri": "https://localhost:8080/",
          "height": 51
        }
      },
      "source": [
        "y = x.limit_denominator(10)\n",
        "print(y)\n",
        "print(format(float(y), '.25f'))"
      ],
      "execution_count": 0,
      "outputs": [
        {
          "output_type": "stream",
          "text": [
            "22/7\n",
            "3.1428571428571427937015414\n"
          ],
          "name": "stdout"
        }
      ]
    },
    {
      "cell_type": "code",
      "metadata": {
        "id": "1-nSpdyCQRzX",
        "colab_type": "code",
        "outputId": "6e67aa55-1202-4bbc-a6d7-79d834d08f88",
        "colab": {
          "base_uri": "https://localhost:8080/",
          "height": 51
        }
      },
      "source": [
        "y = x.limit_denominator(10000)\n",
        "print(y)\n",
        "print(format(float(y), '.25f'))"
      ],
      "execution_count": 0,
      "outputs": [
        {
          "output_type": "stream",
          "text": [
            "355/113\n",
            "3.1415929203539825209645642\n"
          ],
          "name": "stdout"
        }
      ]
    },
    {
      "cell_type": "markdown",
      "metadata": {
        "id": "grGJdudVm_1I",
        "colab_type": "text"
      },
      "source": [
        "## 6.FLOATS: Internal Representation (Theory)"
      ]
    },
    {
      "cell_type": "markdown",
      "metadata": {
        "id": "v7zqOJSSnJg6",
        "colab_type": "text"
      },
      "source": [
        "![alt text](https://drive.google.com/uc?id=1dgxa5uzAoAIqGesx-Ct_k80IX0IDESUP)"
      ]
    },
    {
      "cell_type": "markdown",
      "metadata": {
        "id": "dXbzjnwTvr6C",
        "colab_type": "text"
      },
      "source": [
        "All these significant digits have only 5 significant digist.\n",
        "</br>\n",
        "It might seem that number `12345000000` has more then 5, but it has actually 5 significant digits 12345 and times 10e6. (12345 * 10e6) "
      ]
    },
    {
      "cell_type": "markdown",
      "metadata": {
        "id": "E4ti2BkZnJZL",
        "colab_type": "text"
      },
      "source": [
        "![alt text](https://drive.google.com/uc?id=16U-XQnBR3WXxt_x6T0VOjCBkkBoUDX2X)"
      ]
    },
    {
      "cell_type": "markdown",
      "metadata": {
        "id": "rs5heRMwnJSM",
        "colab_type": "text"
      },
      "source": [
        "![alt text](https://drive.google.com/uc?id=1mGXNjI1o3X9SNWIVN7KizbH7WJBsFrfL)"
      ]
    },
    {
      "cell_type": "markdown",
      "metadata": {
        "id": "rJICSkL6nJMD",
        "colab_type": "text"
      },
      "source": [
        "![alt text](https://drive.google.com/uc?id=1lzvWwCMe2bF3JhViYSZ6EGyVtDsjIIgA)"
      ]
    },
    {
      "cell_type": "markdown",
      "metadata": {
        "id": "eStNb5cJqEqg",
        "colab_type": "text"
      },
      "source": [
        "![alt text](https://drive.google.com/uc?id=1PLeQveRWtYgwIZ_D7kqlZkd1NrmuaHJe)"
      ]
    },
    {
      "cell_type": "markdown",
      "metadata": {
        "id": "sOnCFHd9nJAJ",
        "colab_type": "text"
      },
      "source": [
        "![alt text](https://drive.google.com/uc?id=1V8VUAIWA96hEbDrp1eqQn8ngwRkdtbr5)"
      ]
    },
    {
      "cell_type": "markdown",
      "metadata": {
        "id": "CxIv1wEu4n0D",
        "colab_type": "text"
      },
      "source": [
        "### Coding Time "
      ]
    },
    {
      "cell_type": "markdown",
      "metadata": {
        "id": "tVeBfETL4umr",
        "colab_type": "text"
      },
      "source": [
        "The ``float`` class has a single constructor, which can take a number or a string and will attempt to convert it to a float."
      ]
    },
    {
      "cell_type": "code",
      "metadata": {
        "id": "8Qkanb0vQUR-",
        "colab_type": "code",
        "outputId": "d1ef94f8-9ecb-4253-99a3-1a288678058b",
        "colab": {
          "base_uri": "https://localhost:8080/",
          "height": 68
        }
      },
      "source": [
        "print(float(3.14))\n",
        "print(float('10'))\n",
        "print(float('0.1'))"
      ],
      "execution_count": 0,
      "outputs": [
        {
          "output_type": "stream",
          "text": [
            "3.14\n",
            "10.0\n",
            "0.1\n"
          ],
          "name": "stdout"
        }
      ]
    },
    {
      "cell_type": "code",
      "metadata": {
        "id": "aaa-xF3d6zPP",
        "colab_type": "code",
        "outputId": "c68f1fff-c8d8-41c2-9551-2dd4325d2bcf",
        "colab": {
          "base_uri": "https://localhost:8080/",
          "height": 163
        }
      },
      "source": [
        "float('22/7')"
      ],
      "execution_count": 0,
      "outputs": [
        {
          "output_type": "error",
          "ename": "ValueError",
          "evalue": "ignored",
          "traceback": [
            "\u001b[0;31m---------------------------------------------------------------------------\u001b[0m",
            "\u001b[0;31mValueError\u001b[0m                                Traceback (most recent call last)",
            "\u001b[0;32m<ipython-input-4-b1a86d0295b9>\u001b[0m in \u001b[0;36m<module>\u001b[0;34m()\u001b[0m\n\u001b[0;32m----> 1\u001b[0;31m \u001b[0mfloat\u001b[0m\u001b[0;34m(\u001b[0m\u001b[0;34m'22/7'\u001b[0m\u001b[0;34m)\u001b[0m\u001b[0;34m\u001b[0m\u001b[0;34m\u001b[0m\u001b[0m\n\u001b[0m",
            "\u001b[0;31mValueError\u001b[0m: could not convert string to float: '22/7'"
          ]
        }
      ]
    },
    {
      "cell_type": "markdown",
      "metadata": {
        "id": "tAbrFbgU7FAw",
        "colab_type": "text"
      },
      "source": [
        "If you really want to get a float from a string such as ``'22/7'``, you could first create a ``Fraction``, then create a ``float`` from that:"
      ]
    },
    {
      "cell_type": "code",
      "metadata": {
        "id": "RMX0aYYn7DIl",
        "colab_type": "code",
        "outputId": "8029f4e8-fcc2-4a86-f6c8-cb4f37ac0940",
        "colab": {
          "base_uri": "https://localhost:8080/",
          "height": 34
        }
      },
      "source": [
        "from fractions import Fraction\n",
        "float(Fraction('22/7'))"
      ],
      "execution_count": 0,
      "outputs": [
        {
          "output_type": "execute_result",
          "data": {
            "text/plain": [
              "3.142857142857143"
            ]
          },
          "metadata": {
            "tags": []
          },
          "execution_count": 6
        }
      ]
    },
    {
      "cell_type": "markdown",
      "metadata": {
        "id": "xa3Nckl47iKq",
        "colab_type": "text"
      },
      "source": [
        "Floats do not always have an exact representation:"
      ]
    },
    {
      "cell_type": "code",
      "metadata": {
        "id": "IuxBKXyn7Jyu",
        "colab_type": "code",
        "outputId": "330be237-e4cb-403d-850c-8cea31ca9028",
        "colab": {
          "base_uri": "https://localhost:8080/",
          "height": 34
        }
      },
      "source": [
        "print(0.1)"
      ],
      "execution_count": 0,
      "outputs": [
        {
          "output_type": "stream",
          "text": [
            "0.1\n"
          ],
          "name": "stdout"
        }
      ]
    },
    {
      "cell_type": "markdown",
      "metadata": {
        "id": "uV-ftRIL7mvI",
        "colab_type": "text"
      },
      "source": [
        "Although this looks like ``0.1`` exactly, we need to reveal more digits after the decimal point to see what's going on:"
      ]
    },
    {
      "cell_type": "code",
      "metadata": {
        "id": "6nhqDQfc7kBy",
        "colab_type": "code",
        "outputId": "f3b6c072-bd81-47e1-d4a0-46d229c97c3c",
        "colab": {
          "base_uri": "https://localhost:8080/",
          "height": 34
        }
      },
      "source": [
        "format(0.1, '.25f')"
      ],
      "execution_count": 0,
      "outputs": [
        {
          "output_type": "execute_result",
          "data": {
            "text/plain": [
              "'0.1000000000000000055511151'"
            ]
          },
          "metadata": {
            "tags": []
          },
          "execution_count": 8
        }
      ]
    },
    {
      "cell_type": "markdown",
      "metadata": {
        "id": "XAnvJPp07sgt",
        "colab_type": "text"
      },
      "source": [
        "However, certain numbers can be represented exactly in a binary fraction expansion:"
      ]
    },
    {
      "cell_type": "code",
      "metadata": {
        "id": "p0leo5gQ7ou2",
        "colab_type": "code",
        "outputId": "2b41b0ba-740f-4636-afc6-3ee249702f84",
        "colab": {
          "base_uri": "https://localhost:8080/",
          "height": 34
        }
      },
      "source": [
        "format(0.125, '.25f')"
      ],
      "execution_count": 0,
      "outputs": [
        {
          "output_type": "execute_result",
          "data": {
            "text/plain": [
              "'0.1250000000000000000000000'"
            ]
          },
          "metadata": {
            "tags": []
          },
          "execution_count": 9
        }
      ]
    },
    {
      "cell_type": "markdown",
      "metadata": {
        "id": "J2OLVZsf70jQ",
        "colab_type": "text"
      },
      "source": [
        "This is because 0.125 is precisely 1/8, or 1/(2^3)\n",
        "</br>\n",
        "</br>\n",
        "</br>\n",
        "This is interesting though"
      ]
    },
    {
      "cell_type": "code",
      "metadata": {
        "id": "g_JYWw6g7uo8",
        "colab_type": "code",
        "colab": {}
      },
      "source": [
        "a = 0.1 + 0.1 + 0.1\n",
        "b = 0.3"
      ],
      "execution_count": 0,
      "outputs": []
    },
    {
      "cell_type": "code",
      "metadata": {
        "id": "U4iq3n_18AmH",
        "colab_type": "code",
        "outputId": "62f1ffed-e8ec-4c1d-f3a7-a836b6ddbeb9",
        "colab": {
          "base_uri": "https://localhost:8080/",
          "height": 34
        }
      },
      "source": [
        "a == b"
      ],
      "execution_count": 0,
      "outputs": [
        {
          "output_type": "execute_result",
          "data": {
            "text/plain": [
              "False"
            ]
          },
          "metadata": {
            "tags": []
          },
          "execution_count": 11
        }
      ]
    },
    {
      "cell_type": "markdown",
      "metadata": {
        "id": "FQAz5Ago8DTr",
        "colab_type": "text"
      },
      "source": [
        "WAIT **WHAAAAAAAAAAAT** what is going on???!?!?!?!?!"
      ]
    },
    {
      "cell_type": "code",
      "metadata": {
        "id": "rpUgGk-B8CJU",
        "colab_type": "code",
        "outputId": "c3dbeb90-c208-4061-bce2-f693ee0f2786",
        "colab": {
          "base_uri": "https://localhost:8080/",
          "height": 34
        }
      },
      "source": [
        "format(a, '.25f')"
      ],
      "execution_count": 0,
      "outputs": [
        {
          "output_type": "execute_result",
          "data": {
            "text/plain": [
              "'0.3000000000000000444089210'"
            ]
          },
          "metadata": {
            "tags": []
          },
          "execution_count": 14
        }
      ]
    },
    {
      "cell_type": "code",
      "metadata": {
        "id": "D3izavc-8SbX",
        "colab_type": "code",
        "outputId": "393061b7-1a66-460c-da9b-4f8568b5dcaa",
        "colab": {
          "base_uri": "https://localhost:8080/",
          "height": 34
        }
      },
      "source": [
        "format(b, '.25f')"
      ],
      "execution_count": 0,
      "outputs": [
        {
          "output_type": "execute_result",
          "data": {
            "text/plain": [
              "'0.2999999999999999888977698'"
            ]
          },
          "metadata": {
            "tags": []
          },
          "execution_count": 15
        }
      ]
    },
    {
      "cell_type": "markdown",
      "metadata": {
        "id": "f6vb2Xsa8ZuR",
        "colab_type": "text"
      },
      "source": [
        "SO here we can see what is going on. Since computers use binary, we see that `0.1` in binary, i.e. float precision is not accurate like in decimal so we can not get `0.1` in binary base."
      ]
    },
    {
      "cell_type": "markdown",
      "metadata": {
        "id": "jviBlDm09ilX",
        "colab_type": "text"
      },
      "source": [
        "## 7.FLOATS: Equality Testing"
      ]
    },
    {
      "cell_type": "markdown",
      "metadata": {
        "id": "WIGAgvEp9tTl",
        "colab_type": "text"
      },
      "source": [
        "![alt text](https://drive.google.com/uc?id=1NyZ5b4I-XBkAqu1ErxlP39yD4Kb1j3-q)"
      ]
    },
    {
      "cell_type": "markdown",
      "metadata": {
        "id": "6ELgBH7j9tJ1",
        "colab_type": "text"
      },
      "source": [
        "![alt text](https://drive.google.com/uc?id=1P1hA5mNrFndGRyoJKEMVAOvLP6AOby5B)"
      ]
    },
    {
      "cell_type": "markdown",
      "metadata": {
        "id": "YpQMeR2s9s_T",
        "colab_type": "text"
      },
      "source": [
        "![alt text](https://drive.google.com/uc?id=1zHqab1WMsXXPL375_YDj9c5sOYuRZ9Jl)"
      ]
    },
    {
      "cell_type": "markdown",
      "metadata": {
        "id": "Boka047b9s1f",
        "colab_type": "text"
      },
      "source": [
        "![alt text](https://drive.google.com/uc?id=1FL0VXUmaXYVJgOUiAeoQQ65xH4MDv-96)"
      ]
    },
    {
      "cell_type": "markdown",
      "metadata": {
        "id": "Gif2Ng9q9sp6",
        "colab_type": "text"
      },
      "source": [
        "![alt text](https://drive.google.com/uc?id=1eMJNHQD4RWyeEwpa5ZycuWlD0bsRp8jv)"
      ]
    },
    {
      "cell_type": "markdown",
      "metadata": {
        "id": "Q74VvmXv9sgl",
        "colab_type": "text"
      },
      "source": [
        "![alt text](https://drive.google.com/uc?id=1ioXOzhLyqAqqjweufWVJNqCxUee2BouC)"
      ]
    },
    {
      "cell_type": "markdown",
      "metadata": {
        "id": "jzvtIea19sVt",
        "colab_type": "text"
      },
      "source": [
        "![alt text](https://drive.google.com/uc?id=1rLW4_VwtNYpT84nIlbk9RgFNWST9xTkG)\n",
        "When you look at first example, `x` and `y`, `0.01` isn't actually a big difference and they are close to each other.\n",
        "</br>\n",
        "However when you look and `a` and `b` they are relativly speaking not so close, it is a big difference when we compare the 2, so it is good that we get a `True` from the `math.isclose(...)`"
      ]
    },
    {
      "cell_type": "markdown",
      "metadata": {
        "id": "Mzokr-RmmBCr",
        "colab_type": "text"
      },
      "source": [
        "### Coding Time"
      ]
    },
    {
      "cell_type": "markdown",
      "metadata": {
        "id": "ZFSOfUgCmjso",
        "colab_type": "text"
      },
      "source": [
        "Because not all real numbers have an exact ``float`` representation, equality testing can be tricky."
      ]
    },
    {
      "cell_type": "code",
      "metadata": {
        "id": "Nzm2yr65mLGk",
        "colab_type": "code",
        "outputId": "fcd2ee6e-4e79-4d4f-8fe6-5dea9834b376",
        "colab": {
          "base_uri": "https://localhost:8080/",
          "height": 34
        }
      },
      "source": [
        "x = 0.1 + 0.1 + 0.1\n",
        "y = 0.3\n",
        "x == y"
      ],
      "execution_count": 0,
      "outputs": [
        {
          "output_type": "execute_result",
          "data": {
            "text/plain": [
              "False"
            ]
          },
          "metadata": {
            "tags": []
          },
          "execution_count": 1
        }
      ]
    },
    {
      "cell_type": "markdown",
      "metadata": {
        "id": "13TKGSAzm1HQ",
        "colab_type": "text"
      },
      "source": [
        "This is because ``0.1`` and ``0.3`` do not have exact representations:"
      ]
    },
    {
      "cell_type": "code",
      "metadata": {
        "id": "B4Wh6Z1bmtj9",
        "colab_type": "code",
        "outputId": "1a73de0e-a66c-4b1a-aeb3-9e1453967f14",
        "colab": {
          "base_uri": "https://localhost:8080/",
          "height": 67
        }
      },
      "source": [
        "print('0.1 --> {0:.25f}'.format(0.1))\n",
        "print('x --> {0:.25f}'.format(x))\n",
        "print('y --> {0:.25f}'.format(y))"
      ],
      "execution_count": 0,
      "outputs": [
        {
          "output_type": "stream",
          "text": [
            "0.1 --> 0.1000000000000000055511151\n",
            "x --> 0.3000000000000000444089210\n",
            "y --> 0.2999999999999999888977698\n"
          ],
          "name": "stdout"
        }
      ]
    },
    {
      "cell_type": "markdown",
      "metadata": {
        "id": "h17MGn-Vm-1n",
        "colab_type": "text"
      },
      "source": [
        "However, in some (limited) cases where all the numbers involved do have an exact representation, it will work:"
      ]
    },
    {
      "cell_type": "code",
      "metadata": {
        "id": "KolQANjlm4Ii",
        "colab_type": "code",
        "outputId": "a69f6f20-b327-4a7b-d631-25a458ff3a5b",
        "colab": {
          "base_uri": "https://localhost:8080/",
          "height": 34
        }
      },
      "source": [
        "x = 0.125 + 0.125 + 0.125\n",
        "y = 0.375\n",
        "x == y"
      ],
      "execution_count": 0,
      "outputs": [
        {
          "output_type": "execute_result",
          "data": {
            "text/plain": [
              "True"
            ]
          },
          "metadata": {
            "tags": []
          },
          "execution_count": 3
        }
      ]
    },
    {
      "cell_type": "code",
      "metadata": {
        "id": "tWUGOw80nDJ0",
        "colab_type": "code",
        "outputId": "1a0843e5-9e6f-4078-a02e-6469c9cb2436",
        "colab": {
          "base_uri": "https://localhost:8080/",
          "height": 67
        }
      },
      "source": [
        "print('0.125 --> {0:.25f}'.format(0.125))\n",
        "print('x --> {0:.25f}'.format(x))\n",
        "print('y --> {0:.25f}'.format(y))"
      ],
      "execution_count": 0,
      "outputs": [
        {
          "output_type": "stream",
          "text": [
            "0.125 --> 0.1250000000000000000000000\n",
            "x --> 0.3750000000000000000000000\n",
            "y --> 0.3750000000000000000000000\n"
          ],
          "name": "stdout"
        }
      ]
    },
    {
      "cell_type": "markdown",
      "metadata": {
        "id": "K6L7aSMfnM9-",
        "colab_type": "text"
      },
      "source": [
        "One simple way to get around this is to round to a specific number of digits and then compare"
      ]
    },
    {
      "cell_type": "code",
      "metadata": {
        "id": "crqbb7FEnGG3",
        "colab_type": "code",
        "outputId": "38197e8a-3bf7-4b5c-a873-f4036159afe5",
        "colab": {
          "base_uri": "https://localhost:8080/",
          "height": 34
        }
      },
      "source": [
        "x = 0.1 + 0.1 + 0.1\n",
        "y = 0.3\n",
        "round(x, 5) == round(y, 5)"
      ],
      "execution_count": 0,
      "outputs": [
        {
          "output_type": "execute_result",
          "data": {
            "text/plain": [
              "True"
            ]
          },
          "metadata": {
            "tags": []
          },
          "execution_count": 14
        }
      ]
    },
    {
      "cell_type": "markdown",
      "metadata": {
        "id": "6sk23rQtnY2-",
        "colab_type": "text"
      },
      "source": [
        "We can also use a more flexible technique implemented by the ``isclose`` method in the ``math`` module"
      ]
    },
    {
      "cell_type": "code",
      "metadata": {
        "id": "l7-SZxgInZjb",
        "colab_type": "code",
        "outputId": "9819fa55-42f6-4ac0-d1e2-fe1b1e2bca5b",
        "colab": {
          "base_uri": "https://localhost:8080/",
          "height": 403
        }
      },
      "source": [
        "from math import isclose\n",
        "\n",
        "help(isclose)"
      ],
      "execution_count": 0,
      "outputs": [
        {
          "output_type": "stream",
          "text": [
            "Help on built-in function isclose in module math:\n",
            "\n",
            "isclose(...)\n",
            "    isclose(a, b, *, rel_tol=1e-09, abs_tol=0.0) -> bool\n",
            "    \n",
            "    Determine whether two floating point numbers are close in value.\n",
            "    \n",
            "       rel_tol\n",
            "           maximum difference for being considered \"close\", relative to the\n",
            "           magnitude of the input values\n",
            "        abs_tol\n",
            "           maximum difference for being considered \"close\", regardless of the\n",
            "           magnitude of the input values\n",
            "    \n",
            "    Return True if a is close in value to b, and False otherwise.\n",
            "    \n",
            "    For the values to be considered close, the difference between them\n",
            "    must be smaller than at least one of the tolerances.\n",
            "    \n",
            "    -inf, inf and NaN behave similarly to the IEEE 754 Standard.  That\n",
            "    is, NaN is not close to anything, even itself.  inf and -inf are\n",
            "    only close to themselves.\n",
            "\n"
          ],
          "name": "stdout"
        }
      ]
    },
    {
      "cell_type": "code",
      "metadata": {
        "id": "cj14Q5BHoozY",
        "colab_type": "code",
        "outputId": "c4fb7fef-d7b4-4ebe-e9f0-1cd55fe2542d",
        "colab": {
          "base_uri": "https://localhost:8080/",
          "height": 34
        }
      },
      "source": [
        "x = 0.1 + 0.1 + 0.1\n",
        "y = 0.3\n",
        "isclose(x, y)"
      ],
      "execution_count": 0,
      "outputs": [
        {
          "output_type": "execute_result",
          "data": {
            "text/plain": [
              "True"
            ]
          },
          "metadata": {
            "tags": []
          },
          "execution_count": 6
        }
      ]
    },
    {
      "cell_type": "markdown",
      "metadata": {
        "id": "FZ2rLaPJouz-",
        "colab_type": "text"
      },
      "source": [
        "The ``isclose`` method takes two optional parameters, ``rel_tol`` and ``abs_tol``.\n",
        "\n",
        "``rel_tol`` is a relative tolerance that will be relative to the magnitude of the largest of the two numbers being compared. Useful when we want to see if two numbers are close to each other as a percentage of their magnitudes.\n",
        "\n",
        "``abs_tol`` is an absolute tolerance that is independent of the magnitude of the numbers we are comparing - this is useful for numbers that are close to zero."
      ]
    },
    {
      "cell_type": "markdown",
      "metadata": {
        "id": "5nI7nwY3oz9N",
        "colab_type": "text"
      },
      "source": [
        "In this situation we might consider x and y to be close to each other:"
      ]
    },
    {
      "cell_type": "code",
      "metadata": {
        "id": "ju2_5_zKosVO",
        "colab_type": "code",
        "outputId": "9dfb6216-5c6a-4964-c23d-fc0e7bcb75d7",
        "colab": {
          "base_uri": "https://localhost:8080/",
          "height": 34
        }
      },
      "source": [
        "# Here they are close to each other\n",
        "x = 123456789.01\n",
        "y = 123456789.02\n",
        "y / x"
      ],
      "execution_count": 0,
      "outputs": [
        {
          "output_type": "execute_result",
          "data": {
            "text/plain": [
              "1.0000000000809999"
            ]
          },
          "metadata": {
            "tags": []
          },
          "execution_count": 17
        }
      ]
    },
    {
      "cell_type": "markdown",
      "metadata": {
        "id": "JW-099Wxo7L1",
        "colab_type": "text"
      },
      "source": [
        "\n",
        "but not in this case:"
      ]
    },
    {
      "cell_type": "code",
      "metadata": {
        "id": "ocWKxdhDo26o",
        "colab_type": "code",
        "outputId": "b480175f-6018-4b40-d108-5c161e675cd5",
        "colab": {
          "base_uri": "https://localhost:8080/",
          "height": 34
        }
      },
      "source": [
        "# They are not close to each other, actually y i 2 times bigger\n",
        "x = 0.01\n",
        "y = 0.02\n",
        "\n",
        "y / x"
      ],
      "execution_count": 0,
      "outputs": [
        {
          "output_type": "execute_result",
          "data": {
            "text/plain": [
              "2.0"
            ]
          },
          "metadata": {
            "tags": []
          },
          "execution_count": 16
        }
      ]
    },
    {
      "cell_type": "markdown",
      "metadata": {
        "id": "aHgNmEfoqt4c",
        "colab_type": "text"
      },
      "source": [
        "\n",
        " When we use round we can see how can `round()` be dangerous"
      ]
    },
    {
      "cell_type": "code",
      "metadata": {
        "id": "3XAlgGDmqgYf",
        "colab_type": "code",
        "outputId": "f983d61a-687d-48d2-ea73-cde0a774d915",
        "colab": {
          "base_uri": "https://localhost:8080/",
          "height": 34
        }
      },
      "source": [
        "round(x, 1) == round(y, 1)"
      ],
      "execution_count": 0,
      "outputs": [
        {
          "output_type": "execute_result",
          "data": {
            "text/plain": [
              "True"
            ]
          },
          "metadata": {
            "tags": []
          },
          "execution_count": 19
        }
      ]
    },
    {
      "cell_type": "markdown",
      "metadata": {
        "id": "-hW1OqTdo_ci",
        "colab_type": "text"
      },
      "source": [
        "In both these cases the difference between the two numbers was ``0.01``, yet in one case we considered the numbers \"equal\" and in the other, not \"equal\". Relative tolerances are useful to handle these scenarios."
      ]
    },
    {
      "cell_type": "code",
      "metadata": {
        "id": "7IwNGbuFo91h",
        "colab_type": "code",
        "outputId": "291eefa7-0edc-49e1-f30a-c3493d6f3e55",
        "colab": {
          "base_uri": "https://localhost:8080/",
          "height": 34
        }
      },
      "source": [
        "isclose(123456789.01, 123456789.02, rel_tol=0.01)"
      ],
      "execution_count": 0,
      "outputs": [
        {
          "output_type": "execute_result",
          "data": {
            "text/plain": [
              "True"
            ]
          },
          "metadata": {
            "tags": []
          },
          "execution_count": 9
        }
      ]
    },
    {
      "cell_type": "code",
      "metadata": {
        "id": "-r7rTkdTpCwW",
        "colab_type": "code",
        "outputId": "dccfc50d-b2d0-4900-c5a6-966581fd794e",
        "colab": {
          "base_uri": "https://localhost:8080/",
          "height": 34
        }
      },
      "source": [
        "isclose(0.01, 0.02, rel_tol=0.01)"
      ],
      "execution_count": 0,
      "outputs": [
        {
          "output_type": "execute_result",
          "data": {
            "text/plain": [
              "False"
            ]
          },
          "metadata": {
            "tags": []
          },
          "execution_count": 10
        }
      ]
    },
    {
      "cell_type": "markdown",
      "metadata": {
        "id": "i0GAWgv3pHYr",
        "colab_type": "text"
      },
      "source": [
        "On the other hand, we have to be careful with relative tolerances when working with values that are close to zero:"
      ]
    },
    {
      "cell_type": "code",
      "metadata": {
        "id": "ewIJPRTXpELL",
        "colab_type": "code",
        "outputId": "5a2d3a5f-8189-4565-f80c-13131f1ea6de",
        "colab": {
          "base_uri": "https://localhost:8080/",
          "height": 34
        }
      },
      "source": [
        "x = 0.0000001\n",
        "y = 0.0000002\n",
        "isclose(x, y, rel_tol=0.01)"
      ],
      "execution_count": 0,
      "outputs": [
        {
          "output_type": "execute_result",
          "data": {
            "text/plain": [
              "False"
            ]
          },
          "metadata": {
            "tags": []
          },
          "execution_count": 11
        }
      ]
    },
    {
      "cell_type": "markdown",
      "metadata": {
        "id": "65Y0m5XLpNuS",
        "colab_type": "text"
      },
      "source": [
        "So, we could use an absolute tolerance here:"
      ]
    },
    {
      "cell_type": "code",
      "metadata": {
        "id": "Lt6x5iOFpL0a",
        "colab_type": "code",
        "outputId": "a8fc5d55-0d02-4673-f014-8722256f92ac",
        "colab": {
          "base_uri": "https://localhost:8080/",
          "height": 34
        }
      },
      "source": [
        "isclose(x, y, abs_tol=0.0001, rel_tol=0)"
      ],
      "execution_count": 0,
      "outputs": [
        {
          "output_type": "execute_result",
          "data": {
            "text/plain": [
              "True"
            ]
          },
          "metadata": {
            "tags": []
          },
          "execution_count": 12
        }
      ]
    },
    {
      "cell_type": "markdown",
      "metadata": {
        "id": "5xsXUS_kpRLT",
        "colab_type": "text"
      },
      "source": [
        "In general, we can combine the use of both relative and absolute tolerances in this way:"
      ]
    },
    {
      "cell_type": "code",
      "metadata": {
        "id": "ncqjrwYfpPeq",
        "colab_type": "code",
        "outputId": "51e7bc9d-8197-46d9-dde4-e250e76c474f",
        "colab": {
          "base_uri": "https://localhost:8080/",
          "height": 50
        }
      },
      "source": [
        "x = 0.0000001\n",
        "y = 0.0000002\n",
        "\n",
        "a = 123456789.01\n",
        "b = 123456789.02\n",
        "\n",
        "print('x = y:', isclose(x, y, abs_tol=0.0001, rel_tol=0.01))\n",
        "print('a = b:', isclose(a, b, abs_tol=0.0001, rel_tol=0.01))"
      ],
      "execution_count": 0,
      "outputs": [
        {
          "output_type": "stream",
          "text": [
            "x = y: True\n",
            "a = b: True\n"
          ],
          "name": "stdout"
        }
      ]
    },
    {
      "cell_type": "markdown",
      "metadata": {
        "id": "DeSMTZCkEw-a",
        "colab_type": "text"
      },
      "source": [
        "# 8.FLOATS: Coercing to Integers - Lecture"
      ]
    },
    {
      "cell_type": "markdown",
      "metadata": {
        "id": "zwPVdhNfFl-f",
        "colab_type": "text"
      },
      "source": [
        "![alt text](https://drive.google.com/uc?id=14aRwcow6Y1Q5BIk40pYU9Jf9pTgiKyGK)\n",
        "![alt text](https://drive.google.com/uc?id=1XChg7kQmSsDi39gd3Esd9k0582w9fPTj)"
      ]
    },
    {
      "cell_type": "markdown",
      "metadata": {
        "id": "DyfkQ53zF0JH",
        "colab_type": "text"
      },
      "source": [
        "![alt text](https://drive.google.com/uc?id=1g1-wUr4lWCaIiYdKolu6CcJJhfwbfHxT)"
      ]
    },
    {
      "cell_type": "markdown",
      "metadata": {
        "id": "sAqQpeLDF9bM",
        "colab_type": "text"
      },
      "source": [
        "![alt text](https://drive.google.com/uc?id=13Up9O5loJfxNC6WbTPUnjyOJMqx75nXO)"
      ]
    },
    {
      "cell_type": "markdown",
      "metadata": {
        "id": "u__umq5EGChC",
        "colab_type": "text"
      },
      "source": [
        "![alt text](https://drive.google.com/uc?id=1Ag9TTXDTpqEZcQ-4pkdwBZwB5vOp69J2)"
      ]
    },
    {
      "cell_type": "markdown",
      "metadata": {
        "id": "mEeuo_f1GIe1",
        "colab_type": "text"
      },
      "source": [
        "![alt text](https://drive.google.com/uc?id=1piVggY9gyuNNz_U7WjSRYtGhmI07BrZK)"
      ]
    },
    {
      "cell_type": "markdown",
      "metadata": {
        "id": "stOdQoEkKH43",
        "colab_type": "text"
      },
      "source": [
        "## Coding Time"
      ]
    },
    {
      "cell_type": "markdown",
      "metadata": {
        "id": "qgrNl-1VKNvM",
        "colab_type": "text"
      },
      "source": [
        "### Truncation"
      ]
    },
    {
      "cell_type": "code",
      "metadata": {
        "id": "sH0WDIyYpS0t",
        "colab_type": "code",
        "outputId": "49fc2614-3637-4f51-a754-e3d1dcfa1b8b",
        "colab": {
          "base_uri": "https://localhost:8080/",
          "height": 34
        }
      },
      "source": [
        "from math import trunc\n",
        "trunc(10.3), trunc(10.5), trunc(10.6)    "
      ],
      "execution_count": 0,
      "outputs": [
        {
          "output_type": "execute_result",
          "data": {
            "text/plain": [
              "(10, 10, 10)"
            ]
          },
          "metadata": {
            "tags": []
          },
          "execution_count": 1
        }
      ]
    },
    {
      "cell_type": "code",
      "metadata": {
        "id": "5RaRO4ezKU1y",
        "colab_type": "code",
        "outputId": "9fcf9da2-522c-40dd-b111-6cc18d691ca3",
        "colab": {
          "base_uri": "https://localhost:8080/",
          "height": 34
        }
      },
      "source": [
        "trunc(-10.6), trunc(-10.5), trunc(-10.3)"
      ],
      "execution_count": 0,
      "outputs": [
        {
          "output_type": "execute_result",
          "data": {
            "text/plain": [
              "(-10, -10, -10)"
            ]
          },
          "metadata": {
            "tags": []
          },
          "execution_count": 2
        }
      ]
    },
    {
      "cell_type": "markdown",
      "metadata": {
        "id": "MbVgQjLHKaTu",
        "colab_type": "text"
      },
      "source": [
        "The **int** constructor uses truncation when a float is passed in:"
      ]
    },
    {
      "cell_type": "code",
      "metadata": {
        "id": "QR5yT1RbKYQs",
        "colab_type": "code",
        "outputId": "63e05f25-0f09-4d86-e412-d14a2808adcb",
        "colab": {
          "base_uri": "https://localhost:8080/",
          "height": 34
        }
      },
      "source": [
        "int(10.3), int(10.5), int(10.6)"
      ],
      "execution_count": 0,
      "outputs": [
        {
          "output_type": "execute_result",
          "data": {
            "text/plain": [
              "(10, 10, 10)"
            ]
          },
          "metadata": {
            "tags": []
          },
          "execution_count": 3
        }
      ]
    },
    {
      "cell_type": "code",
      "metadata": {
        "id": "KKv0K1VoKeDC",
        "colab_type": "code",
        "outputId": "7699c0b2-b823-4a67-dde9-7a2fffb1381e",
        "colab": {
          "base_uri": "https://localhost:8080/",
          "height": 34
        }
      },
      "source": [
        "int(-10.5), int(-10.5), int(-10.4)"
      ],
      "execution_count": 0,
      "outputs": [
        {
          "output_type": "execute_result",
          "data": {
            "text/plain": [
              "(-10, -10, -10)"
            ]
          },
          "metadata": {
            "tags": []
          },
          "execution_count": 4
        }
      ]
    },
    {
      "cell_type": "markdown",
      "metadata": {
        "id": "dZHB-JfeKjbx",
        "colab_type": "text"
      },
      "source": [
        "### Floor"
      ]
    },
    {
      "cell_type": "code",
      "metadata": {
        "id": "rVUmAM_MKhmx",
        "colab_type": "code",
        "outputId": "1500745c-a839-47e6-f4d2-08cd6d08710a",
        "colab": {
          "base_uri": "https://localhost:8080/",
          "height": 34
        }
      },
      "source": [
        "from math import floor\n",
        "floor(10.4), floor(10.5), floor(10.6)"
      ],
      "execution_count": 0,
      "outputs": [
        {
          "output_type": "execute_result",
          "data": {
            "text/plain": [
              "(10, 10, 10)"
            ]
          },
          "metadata": {
            "tags": []
          },
          "execution_count": 6
        }
      ]
    },
    {
      "cell_type": "code",
      "metadata": {
        "id": "m16NIji0Kmni",
        "colab_type": "code",
        "outputId": "2e7a0b93-8d00-46aa-8542-2b50b7bbc9dc",
        "colab": {
          "base_uri": "https://localhost:8080/",
          "height": 34
        }
      },
      "source": [
        "floor(-10.4), floor(-10.5), floor(-10.6)"
      ],
      "execution_count": 0,
      "outputs": [
        {
          "output_type": "execute_result",
          "data": {
            "text/plain": [
              "(-11, -11, -11)"
            ]
          },
          "metadata": {
            "tags": []
          },
          "execution_count": 7
        }
      ]
    },
    {
      "cell_type": "markdown",
      "metadata": {
        "id": "CdVpsuRmKu5A",
        "colab_type": "text"
      },
      "source": [
        "### Ceiling"
      ]
    },
    {
      "cell_type": "code",
      "metadata": {
        "id": "DC23pB7fKsOu",
        "colab_type": "code",
        "outputId": "5eced138-38d4-45a7-f412-637280d74d01",
        "colab": {
          "base_uri": "https://localhost:8080/",
          "height": 34
        }
      },
      "source": [
        "from math import ceil\n",
        "ceil(10.4), ceil(10.5), ceil(10.6)"
      ],
      "execution_count": 0,
      "outputs": [
        {
          "output_type": "execute_result",
          "data": {
            "text/plain": [
              "(11, 11, 11)"
            ]
          },
          "metadata": {
            "tags": []
          },
          "execution_count": 8
        }
      ]
    },
    {
      "cell_type": "code",
      "metadata": {
        "id": "VvLSGItkK0zO",
        "colab_type": "code",
        "outputId": "81d718fd-cc16-47c4-9a10-c2643e9dae9e",
        "colab": {
          "base_uri": "https://localhost:8080/",
          "height": 34
        }
      },
      "source": [
        "ceil(-10.4), ceil(-10.5), ceil(-10.6)"
      ],
      "execution_count": 0,
      "outputs": [
        {
          "output_type": "execute_result",
          "data": {
            "text/plain": [
              "(-10, -10, -10)"
            ]
          },
          "metadata": {
            "tags": []
          },
          "execution_count": 9
        }
      ]
    },
    {
      "cell_type": "markdown",
      "metadata": {
        "id": "D0vOdmKsNpCN",
        "colab_type": "text"
      },
      "source": [
        "# 9.FLOAT: Rounding"
      ]
    },
    {
      "cell_type": "markdown",
      "metadata": {
        "id": "mfwfoLr6N1Wq",
        "colab_type": "text"
      },
      "source": [
        "![alt text](https://drive.google.com/uc?id=13c0Nszf3xigBxx3eTcim5czyCsaR7pps)"
      ]
    },
    {
      "cell_type": "markdown",
      "metadata": {
        "id": "qZ13Fl9fN1M9",
        "colab_type": "text"
      },
      "source": [
        "![alt text](https://drive.google.com/uc?id=1FietmzsWr8e88FW6mzcQQ_jUnJvyJAwX)"
      ]
    },
    {
      "cell_type": "markdown",
      "metadata": {
        "id": "jycZr6i7N1Ds",
        "colab_type": "text"
      },
      "source": [
        "![alt text](https://drive.google.com/uc?id=102ctyHxncWE_lwAc1jwRgHEaaYqVexr0)"
      ]
    },
    {
      "cell_type": "markdown",
      "metadata": {
        "id": "vypM8_YUN06a",
        "colab_type": "text"
      },
      "source": [
        "![alt text](https://drive.google.com/uc?id=1ucbOX04o3Td0rwrTivuIXTmKUqlsU0Re)"
      ]
    },
    {
      "cell_type": "markdown",
      "metadata": {
        "id": "8WilWLkAN0xW",
        "colab_type": "text"
      },
      "source": [
        "![alt text](https://drive.google.com/uc?id=1B7ST4pYjxyalRJEBsc8bJ9pXYwjKq8HB)"
      ]
    },
    {
      "cell_type": "markdown",
      "metadata": {
        "id": "FgeajHneN0n-",
        "colab_type": "text"
      },
      "source": [
        "![alt text](https://drive.google.com/uc?id=1M61rNUjUIiLk9fXn_JMOMNNlWIvoAdqZ)"
      ]
    },
    {
      "cell_type": "markdown",
      "metadata": {
        "id": "IDfxz7ANN0d0",
        "colab_type": "text"
      },
      "source": [
        "![alt text](https://drive.google.com/uc?id=1RbPm2w8nCilFNLGwy51U6sKwansC5m3j)"
      ]
    },
    {
      "cell_type": "markdown",
      "metadata": {
        "id": "aazrMMkdN0Td",
        "colab_type": "text"
      },
      "source": [
        "![alt text](https://drive.google.com/uc?id=1My2aBvY6c6wbZ1XjdlVOCCCW-B6UncqT)"
      ]
    },
    {
      "cell_type": "markdown",
      "metadata": {
        "id": "Vkyv60YkN0IF",
        "colab_type": "text"
      },
      "source": [
        "![alt text](https://drive.google.com/uc?id=1mei77rdrMzNmy0E8dPnzdBTXS8z55jlh)"
      ]
    },
    {
      "cell_type": "markdown",
      "metadata": {
        "id": "3IxX0qUQNzn8",
        "colab_type": "text"
      },
      "source": [
        "![alt text](https://drive.google.com/uc?id=1qCbjArRCg65nXcSkXcVAgnO2blWj17OR)"
      ]
    },
    {
      "cell_type": "markdown",
      "metadata": {
        "id": "Cn9LGOIWO5sv",
        "colab_type": "text"
      },
      "source": [
        "![alt text](https://drive.google.com/uc?id=1SbMyUv35byBRRdx0c-cvmRINLFgChqTC)"
      ]
    },
    {
      "cell_type": "markdown",
      "metadata": {
        "id": "kWMHWNWaZrPY",
        "colab_type": "text"
      },
      "source": [
        "## Coding Time"
      ]
    },
    {
      "cell_type": "markdown",
      "metadata": {
        "id": "aV-q0YA3aS5w",
        "colab_type": "text"
      },
      "source": [
        "### Rounding"
      ]
    },
    {
      "cell_type": "code",
      "metadata": {
        "id": "xqgpVg-zNxKi",
        "colab_type": "code",
        "outputId": "56fedd19-fceb-40a3-9b57-b0d857f1e444",
        "colab": {
          "base_uri": "https://localhost:8080/",
          "height": 190
        }
      },
      "source": [
        "help(round)"
      ],
      "execution_count": 0,
      "outputs": [
        {
          "output_type": "stream",
          "text": [
            "Help on built-in function round in module builtins:\n",
            "\n",
            "round(...)\n",
            "    round(number[, ndigits]) -> number\n",
            "    \n",
            "    Round a number to a given precision in decimal digits (default 0 digits).\n",
            "    This returns an int when called with one argument, otherwise the\n",
            "    same type as the number. ndigits may be negative.\n",
            "\n"
          ],
          "name": "stdout"
        }
      ]
    },
    {
      "cell_type": "markdown",
      "metadata": {
        "id": "fILfzed8aYxz",
        "colab_type": "text"
      },
      "source": [
        "#### n = 0"
      ]
    },
    {
      "cell_type": "code",
      "metadata": {
        "id": "GUPOlsmnaV4g",
        "colab_type": "code",
        "outputId": "cb22babe-085f-484d-89ab-3a22a13d92cf",
        "colab": {
          "base_uri": "https://localhost:8080/",
          "height": 34
        }
      },
      "source": [
        "a = round(1.5)\n",
        "a, type(a)"
      ],
      "execution_count": 0,
      "outputs": [
        {
          "output_type": "execute_result",
          "data": {
            "text/plain": [
              "(2, int)"
            ]
          },
          "metadata": {
            "tags": []
          },
          "execution_count": 11
        }
      ]
    },
    {
      "cell_type": "code",
      "metadata": {
        "id": "wDsNopbQafMw",
        "colab_type": "code",
        "outputId": "9281a49d-88b9-4e3f-e264-d0bb720cc45b",
        "colab": {
          "base_uri": "https://localhost:8080/",
          "height": 34
        }
      },
      "source": [
        "a = round(1.5, 0)\n",
        "a,  type(a)"
      ],
      "execution_count": 0,
      "outputs": [
        {
          "output_type": "execute_result",
          "data": {
            "text/plain": [
              "(2.0, float)"
            ]
          },
          "metadata": {
            "tags": []
          },
          "execution_count": 12
        }
      ]
    },
    {
      "cell_type": "markdown",
      "metadata": {
        "id": "iw91uc_fanSo",
        "colab_type": "text"
      },
      "source": [
        "#### n > 0"
      ]
    },
    {
      "cell_type": "code",
      "metadata": {
        "id": "40sxBjm0akzy",
        "colab_type": "code",
        "outputId": "0d694809-4986-4217-93db-02ea82d34863",
        "colab": {
          "base_uri": "https://localhost:8080/",
          "height": 34
        }
      },
      "source": [
        "round(1.88888, 3), round(1.8888, 2), round(1.8888, 1), round(1.8888, 0)"
      ],
      "execution_count": 0,
      "outputs": [
        {
          "output_type": "execute_result",
          "data": {
            "text/plain": [
              "(1.889, 1.89, 1.9, 2.0)"
            ]
          },
          "metadata": {
            "tags": []
          },
          "execution_count": 19
        }
      ]
    },
    {
      "cell_type": "markdown",
      "metadata": {
        "id": "x4hjuqmBdqjF",
        "colab_type": "text"
      },
      "source": [
        "#### n < 0"
      ]
    },
    {
      "cell_type": "code",
      "metadata": {
        "id": "Yf96IqEudvNE",
        "colab_type": "code",
        "outputId": "ea4e4003-23e1-4813-c0fa-d45176f7e322",
        "colab": {
          "base_uri": "https://localhost:8080/",
          "height": 34
        }
      },
      "source": [
        "round(888.88, 1), round(888.88, 0), \\\n",
        "round(888.88, -1), round(888.88, -2), round(888.88, -3), round(888.88, -4)"
      ],
      "execution_count": 0,
      "outputs": [
        {
          "output_type": "execute_result",
          "data": {
            "text/plain": [
              "(888.9, 889.0, 890.0, 900.0, 1000.0, 0.0)"
            ]
          },
          "metadata": {
            "tags": []
          },
          "execution_count": 24
        }
      ]
    },
    {
      "cell_type": "markdown",
      "metadata": {
        "id": "AupUpxCfaxPe",
        "colab_type": "text"
      },
      "source": [
        "#### Ties"
      ]
    },
    {
      "cell_type": "code",
      "metadata": {
        "id": "c7JrSnHeawTx",
        "colab_type": "code",
        "outputId": "7807069a-d548-42e2-a815-46de60b9503f",
        "colab": {
          "base_uri": "https://localhost:8080/",
          "height": 34
        }
      },
      "source": [
        "round(1.25, 1)"
      ],
      "execution_count": 0,
      "outputs": [
        {
          "output_type": "execute_result",
          "data": {
            "text/plain": [
              "1.2"
            ]
          },
          "metadata": {
            "tags": []
          },
          "execution_count": 14
        }
      ]
    },
    {
      "cell_type": "code",
      "metadata": {
        "id": "95Un-XqZa0G8",
        "colab_type": "code",
        "outputId": "ead82dde-1409-4dfd-a88c-e7755b5e24ab",
        "colab": {
          "base_uri": "https://localhost:8080/",
          "height": 34
        }
      },
      "source": [
        "round(1.35, 1)"
      ],
      "execution_count": 0,
      "outputs": [
        {
          "output_type": "execute_result",
          "data": {
            "text/plain": [
              "1.4"
            ]
          },
          "metadata": {
            "tags": []
          },
          "execution_count": 15
        }
      ]
    },
    {
      "cell_type": "markdown",
      "metadata": {
        "id": "8FSI0hiPa3Ih",
        "colab_type": "text"
      },
      "source": [
        "This is rounding to nearest, with ties to nearest number with even least significant digit, aka Banker's Rounding.\n",
        "</br>\n",
        "</br>\n",
        "Works similarly with **n** negative."
      ]
    },
    {
      "cell_type": "code",
      "metadata": {
        "id": "PsZ-zGKua1Tt",
        "colab_type": "code",
        "outputId": "fc66d2a9-d612-41cc-bc9f-9eec8ee11e2b",
        "colab": {
          "base_uri": "https://localhost:8080/",
          "height": 51
        }
      },
      "source": [
        "print(round(15, -1))\n",
        "print(round(25, -1))"
      ],
      "execution_count": 0,
      "outputs": [
        {
          "output_type": "stream",
          "text": [
            "20\n",
            "20\n"
          ],
          "name": "stdout"
        }
      ]
    },
    {
      "cell_type": "markdown",
      "metadata": {
        "id": "49BrscLkbHgO",
        "colab_type": "text"
      },
      "source": [
        "#### Rounding to closest, ties away from zero"
      ]
    },
    {
      "cell_type": "markdown",
      "metadata": {
        "id": "XS_1_xlNbJb1",
        "colab_type": "text"
      },
      "source": [
        "This is traditionally the type of rounding taught in school, which is different from the Banker's Rounding implemented in Python (and in many other programming languages)\n",
        "</br> \n",
        "</br>\n",
        "1.5 --> 2 <br>\n",
        "2.5 --> 3 <br>\n",
        "\n",
        "-1.5 --> -2 <br>\n",
        "-2.5 --> -3 <br>\n",
        "</br>\n",
        "</br>\n",
        "To do this type of rounding (to nearest 1) we can add (for positive numbers) or subtract (for negative numbers) 0.5 and then truncate the resulting number."
      ]
    },
    {
      "cell_type": "code",
      "metadata": {
        "id": "SexxY-zMbDiS",
        "colab_type": "code",
        "colab": {}
      },
      "source": [
        "def _round(x):\n",
        "    from math import copysign\n",
        "    return int(x + 0.5 * copysign(1, x))"
      ],
      "execution_count": 0,
      "outputs": []
    },
    {
      "cell_type": "code",
      "metadata": {
        "id": "6wPt61yBbXYr",
        "colab_type": "code",
        "outputId": "04859ff6-2df9-4b1c-da13-b849f8717fc6",
        "colab": {
          "base_uri": "https://localhost:8080/",
          "height": 51
        }
      },
      "source": [
        "print(round(1.5), _round(1.5))\n",
        "print(round(2.5), _round(2.5))"
      ],
      "execution_count": 0,
      "outputs": [
        {
          "output_type": "stream",
          "text": [
            "2 2\n",
            "2 3\n"
          ],
          "name": "stdout"
        }
      ]
    },
    {
      "cell_type": "markdown",
      "metadata": {
        "id": "uI6LicfrevK0",
        "colab_type": "text"
      },
      "source": [
        "# 10.DECIMALS"
      ]
    },
    {
      "cell_type": "markdown",
      "metadata": {
        "id": "rtVPkA5Ne4Vm",
        "colab_type": "text"
      },
      "source": [
        "![alt text](https://drive.google.com/uc?id=1IRwhcS0jtnnkgU8xP7bka9ushUuBOuz6)"
      ]
    },
    {
      "cell_type": "markdown",
      "metadata": {
        "id": "3Un63xvTe4MJ",
        "colab_type": "text"
      },
      "source": [
        "![alt text](https://drive.google.com/uc?id=1JhIeJ9926gkB-FO5VT3TAcgl0ZL1P8EJ)"
      ]
    },
    {
      "cell_type": "markdown",
      "metadata": {
        "id": "wmhgnZ3Ne4D-",
        "colab_type": "text"
      },
      "source": [
        "![alt text](https://drive.google.com/uc?id=1TLzo1I_gY1U-Sr-jnIInrPZE50wTJEYP)"
      ]
    },
    {
      "cell_type": "markdown",
      "metadata": {
        "id": "UhzZV0VFe37c",
        "colab_type": "text"
      },
      "source": [
        "![alt text](https://drive.google.com/uc?id=1O_7P5BPuopyXdZjprfylUB-JtJb98ozx)"
      ]
    },
    {
      "cell_type": "markdown",
      "metadata": {
        "id": "4UdXH38Ze3xw",
        "colab_type": "text"
      },
      "source": [
        "![alt text](https://drive.google.com/uc?id=1gN49UTbhfsmbn0WZOXLRES7Sw5-orx1p)"
      ]
    },
    {
      "cell_type": "markdown",
      "metadata": {
        "id": "B6z0QeFtl9Np",
        "colab_type": "text"
      },
      "source": [
        "## Coding Time"
      ]
    },
    {
      "cell_type": "code",
      "metadata": {
        "id": "A9eAR99-e12u",
        "colab_type": "code",
        "colab": {}
      },
      "source": [
        "import decimal\n",
        "from decimal import Decimal"
      ],
      "execution_count": 0,
      "outputs": []
    },
    {
      "cell_type": "markdown",
      "metadata": {
        "id": "76kdy4g0mHEP",
        "colab_type": "text"
      },
      "source": [
        "Decimals have context, that can be used to specify rounding and precision (amongst other things)\n",
        "</br>\n",
        "</br>\n",
        "Contexts can be local (temporary contexts) or global (default)"
      ]
    },
    {
      "cell_type": "markdown",
      "metadata": {
        "id": "eRRdNDcpmNqb",
        "colab_type": "text"
      },
      "source": [
        "### Global Context"
      ]
    },
    {
      "cell_type": "code",
      "metadata": {
        "id": "Ae8lMW_smFmA",
        "colab_type": "code",
        "colab": {
          "base_uri": "https://localhost:8080/",
          "height": 34
        },
        "outputId": "13dd6b91-b383-4ac4-e6b2-e6c122f0c68e"
      },
      "source": [
        "g_ctx  = decimal.getcontext()\n",
        "g_ctx.prec"
      ],
      "execution_count": 2,
      "outputs": [
        {
          "output_type": "execute_result",
          "data": {
            "text/plain": [
              "28"
            ]
          },
          "metadata": {
            "tags": []
          },
          "execution_count": 2
        }
      ]
    },
    {
      "cell_type": "code",
      "metadata": {
        "id": "3Pxk3kipmVAZ",
        "colab_type": "code",
        "colab": {
          "base_uri": "https://localhost:8080/",
          "height": 34
        },
        "outputId": "d64673b7-52e8-491c-ef9f-2afa1207fa31"
      },
      "source": [
        "g_ctx.rounding"
      ],
      "execution_count": 3,
      "outputs": [
        {
          "output_type": "execute_result",
          "data": {
            "text/plain": [
              "'ROUND_HALF_EVEN'"
            ]
          },
          "metadata": {
            "tags": []
          },
          "execution_count": 3
        }
      ]
    },
    {
      "cell_type": "code",
      "metadata": {
        "id": "Tsz5_ZiqmVq4",
        "colab_type": "code",
        "colab": {}
      },
      "source": [
        "g_ctx.prec = 6\n",
        "g_ctx.rounding = decimal.ROUND_HALF_UP\n"
      ],
      "execution_count": 0,
      "outputs": []
    },
    {
      "cell_type": "markdown",
      "metadata": {
        "id": "eJAgJDCEmc1Q",
        "colab_type": "text"
      },
      "source": [
        "And if we read this back directly from the global context:"
      ]
    },
    {
      "cell_type": "code",
      "metadata": {
        "id": "YANCZZt4maTS",
        "colab_type": "code",
        "colab": {
          "base_uri": "https://localhost:8080/",
          "height": 34
        },
        "outputId": "513ca9bc-f016-43f2-ef3f-56b582134f9c"
      },
      "source": [
        "decimal.getcontext().prec"
      ],
      "execution_count": 5,
      "outputs": [
        {
          "output_type": "execute_result",
          "data": {
            "text/plain": [
              "6"
            ]
          },
          "metadata": {
            "tags": []
          },
          "execution_count": 5
        }
      ]
    },
    {
      "cell_type": "code",
      "metadata": {
        "id": "kP-e3Aogmfz4",
        "colab_type": "code",
        "colab": {
          "base_uri": "https://localhost:8080/",
          "height": 34
        },
        "outputId": "cceb7544-83f8-48d7-a986-0ad59085b63d"
      },
      "source": [
        "decimal.getcontext().rounding"
      ],
      "execution_count": 6,
      "outputs": [
        {
          "output_type": "execute_result",
          "data": {
            "text/plain": [
              "'ROUND_HALF_UP'"
            ]
          },
          "metadata": {
            "tags": []
          },
          "execution_count": 6
        }
      ]
    },
    {
      "cell_type": "markdown",
      "metadata": {
        "id": "r3e7v9OKmkGn",
        "colab_type": "text"
      },
      "source": [
        "### Local Context"
      ]
    },
    {
      "cell_type": "markdown",
      "metadata": {
        "id": "Bnl9C_lcmnRz",
        "colab_type": "text"
      },
      "source": [
        "The ``localcontext()`` function will return a context manager that we can use with a ``with`` statement:"
      ]
    },
    {
      "cell_type": "code",
      "metadata": {
        "id": "NNxT4RHBmhX_",
        "colab_type": "code",
        "colab": {
          "base_uri": "https://localhost:8080/",
          "height": 51
        },
        "outputId": "40f9340e-f664-4edf-a3b6-f476e7f872c6"
      },
      "source": [
        "with decimal.localcontext() as ctx:\n",
        "    print(ctx.prec)\n",
        "    print(ctx.rounding)"
      ],
      "execution_count": 7,
      "outputs": [
        {
          "output_type": "stream",
          "text": [
            "6\n",
            "ROUND_HALF_UP\n"
          ],
          "name": "stdout"
        }
      ]
    },
    {
      "cell_type": "markdown",
      "metadata": {
        "id": "87b0tqfmmsIY",
        "colab_type": "text"
      },
      "source": [
        "Since no argument was specified in the ``localcontext()`` call, it provides us a context manager that uses a copy of the global context.\n",
        "</br>\n",
        "</br>\n",
        "Modifying the local context has no effect on the global context"
      ]
    },
    {
      "cell_type": "code",
      "metadata": {
        "id": "JE5zI2fNmprJ",
        "colab_type": "code",
        "colab": {
          "base_uri": "https://localhost:8080/",
          "height": 34
        },
        "outputId": "ac856bcb-3db2-4721-a702-1a8ff478adb6"
      },
      "source": [
        "with decimal.localcontext() as ctx:\n",
        "    ctx.prec = 10\n",
        "    print('local prec = {0}, global prec = {1}'.format(ctx.prec, g_ctx.prec))"
      ],
      "execution_count": 8,
      "outputs": [
        {
          "output_type": "stream",
          "text": [
            "local prec = 10, global prec = 6\n"
          ],
          "name": "stdout"
        }
      ]
    },
    {
      "cell_type": "markdown",
      "metadata": {
        "id": "QBlk4HYwmyZ6",
        "colab_type": "text"
      },
      "source": [
        "### Rounding"
      ]
    },
    {
      "cell_type": "code",
      "metadata": {
        "id": "C3uHNZbcmwlw",
        "colab_type": "code",
        "colab": {
          "base_uri": "https://localhost:8080/",
          "height": 34
        },
        "outputId": "30818c97-365c-4422-f163-a9bae6244858"
      },
      "source": [
        "decimal.getcontext().rounding"
      ],
      "execution_count": 9,
      "outputs": [
        {
          "output_type": "execute_result",
          "data": {
            "text/plain": [
              "'ROUND_HALF_UP'"
            ]
          },
          "metadata": {
            "tags": []
          },
          "execution_count": 9
        }
      ]
    },
    {
      "cell_type": "markdown",
      "metadata": {
        "id": "HRoSX7A9m78s",
        "colab_type": "text"
      },
      "source": [
        "The rounding mechanism is ROUND_HALF_UP because we set the global context to that earlier in this notebook. Note that normally the default is ROUND_HALF_EVEN.\n",
        "</br>\n",
        "So we first reset our global context rounding to that:"
      ]
    },
    {
      "cell_type": "code",
      "metadata": {
        "id": "443KkK04m7DP",
        "colab_type": "code",
        "colab": {}
      },
      "source": [
        "decimal.getcontext().rounding = decimal.ROUND_HALF_EVEN"
      ],
      "execution_count": 0,
      "outputs": []
    },
    {
      "cell_type": "code",
      "metadata": {
        "id": "n-SnkCIWnB2l",
        "colab_type": "code",
        "colab": {
          "base_uri": "https://localhost:8080/",
          "height": 51
        },
        "outputId": "24858f48-0f45-4ba4-e028-be6376e2867f"
      },
      "source": [
        "x = Decimal('1.25')\n",
        "y = Decimal('1.35')\n",
        "print(round(x, 1))\n",
        "print(round(y, 1))"
      ],
      "execution_count": 11,
      "outputs": [
        {
          "output_type": "stream",
          "text": [
            "1.2\n",
            "1.4\n"
          ],
          "name": "stdout"
        }
      ]
    },
    {
      "cell_type": "markdown",
      "metadata": {
        "id": "H1Y2eSoznE6Y",
        "colab_type": "text"
      },
      "source": [
        "Let's change the rounding mechanism in the global context to ROUND_HALF_UP:"
      ]
    },
    {
      "cell_type": "code",
      "metadata": {
        "id": "eGrANzm-nC3g",
        "colab_type": "code",
        "colab": {}
      },
      "source": [
        "decimal.getcontext().rounding = decimal.ROUND_HALF_UP"
      ],
      "execution_count": 0,
      "outputs": []
    },
    {
      "cell_type": "code",
      "metadata": {
        "id": "WVTUgaltnEJ8",
        "colab_type": "code",
        "colab": {
          "base_uri": "https://localhost:8080/",
          "height": 51
        },
        "outputId": "74f750d2-8b6d-4ada-91c5-609ba92d5cc3"
      },
      "source": [
        "x = Decimal('1.25')\n",
        "y = Decimal('1.35')\n",
        "print(round(x, 1))\n",
        "print(round(y, 1))"
      ],
      "execution_count": 14,
      "outputs": [
        {
          "output_type": "stream",
          "text": [
            "1.3\n",
            "1.4\n"
          ],
          "name": "stdout"
        }
      ]
    },
    {
      "cell_type": "markdown",
      "metadata": {
        "id": "dI3sMeTEnJ3f",
        "colab_type": "text"
      },
      "source": [
        "As you may have realized, changing the global context is a pain if you need to constantly switch between different precisions and rounding algorithms. Also, it could introduce bugs if you forget that you changed the global context somewhere further up in your module.\n",
        "\n",
        "For this reason, it is usually better to use a local context manager instead:"
      ]
    },
    {
      "cell_type": "markdown",
      "metadata": {
        "id": "Y9ShLBbhnMHh",
        "colab_type": "text"
      },
      "source": [
        "First we reset our global context rounding to the default:"
      ]
    },
    {
      "cell_type": "code",
      "metadata": {
        "id": "Z9ta6Mf_nIQg",
        "colab_type": "code",
        "colab": {}
      },
      "source": [
        "decimal.getcontext().rounding = decimal.ROUND_HALF_EVEN"
      ],
      "execution_count": 0,
      "outputs": []
    },
    {
      "cell_type": "code",
      "metadata": {
        "id": "xPcTaaDgnOC_",
        "colab_type": "code",
        "colab": {
          "base_uri": "https://localhost:8080/",
          "height": 68
        },
        "outputId": "0b0b0b5a-7c31-40e5-e0e5-9caf17390f7c"
      },
      "source": [
        "x = Decimal('1.25')\n",
        "y = Decimal('1.35')\n",
        "print(round(x, 1), round(y, 1))\n",
        "with decimal.localcontext() as ctx:\n",
        "    ctx.rounding = decimal.ROUND_HALF_UP\n",
        "    print(round(x, 1), round(y, 1))\n",
        "print(round(x, 1), round(y, 1))"
      ],
      "execution_count": 16,
      "outputs": [
        {
          "output_type": "stream",
          "text": [
            "1.2 1.4\n",
            "1.3 1.4\n",
            "1.2 1.4\n"
          ],
          "name": "stdout"
        }
      ]
    },
    {
      "cell_type": "code",
      "metadata": {
        "id": "g1_S119znPIo",
        "colab_type": "code",
        "colab": {}
      },
      "source": [
        ""
      ],
      "execution_count": 0,
      "outputs": []
    }
  ]
}