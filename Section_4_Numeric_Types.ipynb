{
  "nbformat": 4,
  "nbformat_minor": 0,
  "metadata": {
    "colab": {
      "name": "Untitled",
      "provenance": [],
      "include_colab_link": true
    },
    "kernelspec": {
      "name": "python3",
      "display_name": "Python 3"
    }
  },
  "cells": [
    {
      "cell_type": "markdown",
      "metadata": {
        "id": "view-in-github",
        "colab_type": "text"
      },
      "source": [
        "<a href=\"https://colab.research.google.com/github/ValentinoVizner/Python_Deep_Dive_1/blob/master/Section_4_Numeric_Types.ipynb\" target=\"_parent\"><img src=\"https://colab.research.google.com/assets/colab-badge.svg\" alt=\"Open In Colab\"/></a>"
      ]
    },
    {
      "cell_type": "markdown",
      "metadata": {
        "id": "10xjxWJhXt2N",
        "colab_type": "text"
      },
      "source": [
        "# NUMBERS"
      ]
    },
    {
      "cell_type": "markdown",
      "metadata": {
        "id": "-aanLc1LX1j_",
        "colab_type": "text"
      },
      "source": [
        "## 1.Introduction\n",
        "\n",
        "![alt text](https://drive.google.com/uc?id=16x9jU5dUcuW5nk7p-pfzbLkSbFwgRif0)\n",
        "</br>\n",
        "So in Python we have 5 main types of numbers, while in world of Mathematics we have 4 main types of numbers."
      ]
    },
    {
      "cell_type": "markdown",
      "metadata": {
        "id": "7G8O3uOZZR0y",
        "colab_type": "text"
      },
      "source": [
        "## 2.Integers"
      ]
    },
    {
      "cell_type": "code",
      "metadata": {
        "id": "T-Rpz5U-XzYl",
        "colab_type": "code",
        "colab": {
          "base_uri": "https://localhost:8080/",
          "height": 170
        },
        "outputId": "0cce2775-04c8-4e4a-e8c4-fd30e3f5e700"
      },
      "source": [
        "!pip install ipython-autotime\n",
        "%load_ext autotime"
      ],
      "execution_count": 2,
      "outputs": [
        {
          "output_type": "stream",
          "text": [
            "Collecting ipython-autotime\n",
            "  Downloading https://files.pythonhosted.org/packages/e6/f9/0626bbdb322e3a078d968e87e3b01341e7890544de891d0cb613641220e6/ipython-autotime-0.1.tar.bz2\n",
            "Building wheels for collected packages: ipython-autotime\n",
            "  Building wheel for ipython-autotime (setup.py) ... \u001b[?25l\u001b[?25hdone\n",
            "  Created wheel for ipython-autotime: filename=ipython_autotime-0.1-cp36-none-any.whl size=1832 sha256=20b512b0157969323b4bb3437f5a9c91c2eeaf94ca250fdfcc779532a0c24ad5\n",
            "  Stored in directory: /root/.cache/pip/wheels/d2/df/81/2db1e54bc91002cec40334629bc39cfa86dff540b304ebcd6e\n",
            "Successfully built ipython-autotime\n",
            "Installing collected packages: ipython-autotime\n",
            "Successfully installed ipython-autotime-0.1\n"
          ],
          "name": "stdout"
        }
      ]
    },
    {
      "cell_type": "markdown",
      "metadata": {
        "id": "72VcopfVdXQ2",
        "colab_type": "text"
      },
      "source": [
        "![alt text](https://drive.google.com/uc?id=1IVVWdHvThhWDsIeoc4Vo4Ib-_6UQlVb1)"
      ]
    },
    {
      "cell_type": "markdown",
      "metadata": {
        "id": "zbPErqvZfi8R",
        "colab_type": "text"
      },
      "source": [
        "![alt text](https://drive.google.com/uc?id=1qJC10_kVw0FLcexNAQic1unIdNi15YLS)"
      ]
    },
    {
      "cell_type": "markdown",
      "metadata": {
        "id": "8lhGd5rvgo-p",
        "colab_type": "text"
      },
      "source": [
        "![alt text](https://drive.google.com/uc?id=1RsNkNcV79VvCL4ehfZdnCrPNSgsJcr55)"
      ]
    },
    {
      "cell_type": "markdown",
      "metadata": {
        "id": "sXcgL4nhijpG",
        "colab_type": "text"
      },
      "source": [
        "![alt text](https://drive.google.com/uc?id=13wvnLZHc9ExBmWTrze23Pt2qSTKNm5ow)"
      ]
    },
    {
      "cell_type": "markdown",
      "metadata": {
        "id": "IQzS261MjatU",
        "colab_type": "text"
      },
      "source": [
        "![alt text](https://drive.google.com/uc?id=1sS7CqYRcGP-iAAh1cQiv-I_r3CcrzfBV)\n",
        "Be cautious when dealing with a lot of operations, try to see biggest numbers and limit them to certain length."
      ]
    },
    {
      "cell_type": "markdown",
      "metadata": {
        "id": "LRxg7NI6jxrJ",
        "colab_type": "text"
      },
      "source": [
        "Integers are objects - instances of the ``int`` class."
      ]
    },
    {
      "cell_type": "code",
      "metadata": {
        "id": "GjruM9JmckEs",
        "colab_type": "code",
        "colab": {
          "base_uri": "https://localhost:8080/",
          "height": 51
        },
        "outputId": "5582b600-27e6-4093-9f40-1f5b0706940c"
      },
      "source": [
        "print(type(100))"
      ],
      "execution_count": 3,
      "outputs": [
        {
          "output_type": "stream",
          "text": [
            "<class 'int'>\n",
            "time: 2.83 ms\n"
          ],
          "name": "stdout"
        }
      ]
    },
    {
      "cell_type": "markdown",
      "metadata": {
        "id": "nTmfgyBbj1iE",
        "colab_type": "text"
      },
      "source": [
        "They are a variable length data type that can theoretically handle any integer magnitude. This will take up a variable amount of memory that depends on the particular size of the integer."
      ]
    },
    {
      "cell_type": "code",
      "metadata": {
        "id": "Mb5dUF_Zj0za",
        "colab_type": "code",
        "colab": {
          "base_uri": "https://localhost:8080/",
          "height": 34
        },
        "outputId": "e4a10f0b-138f-444f-a925-cd019f4c26e0"
      },
      "source": [
        "import sys\n",
        "\n",
        "sys.getsizeof(0)"
      ],
      "execution_count": 4,
      "outputs": [
        {
          "output_type": "execute_result",
          "data": {
            "text/plain": [
              "24"
            ]
          },
          "metadata": {
            "tags": []
          },
          "execution_count": 4
        },
        {
          "output_type": "stream",
          "text": [
            "time: 12.2 ms\n"
          ],
          "name": "stdout"
        }
      ]
    },
    {
      "cell_type": "code",
      "metadata": {
        "id": "N2rZOnO_kBKA",
        "colab_type": "code",
        "colab": {
          "base_uri": "https://localhost:8080/",
          "height": 34
        },
        "outputId": "62680622-c0af-465b-f53f-fa781b2c4e8c"
      },
      "source": [
        "sys.getsizeof(2**1000\n",
        "            )"
      ],
      "execution_count": 7,
      "outputs": [
        {
          "output_type": "execute_result",
          "data": {
            "text/plain": [
              "160"
            ]
          },
          "metadata": {
            "tags": []
          },
          "execution_count": 7
        },
        {
          "output_type": "stream",
          "text": [
            "time: 8.17 ms\n"
          ],
          "name": "stdout"
        }
      ]
    },
    {
      "cell_type": "code",
      "metadata": {
        "id": "EPRyJa9dlS2A",
        "colab_type": "code",
        "colab": {
          "base_uri": "https://localhost:8080/",
          "height": 34
        },
        "outputId": "6de56118-8f63-4d0b-c283-fcfd6d1bc66b"
      },
      "source": [
        "(160 \n",
        " - 24 # number of overhead, bytes\n",
        " ) * 8"
      ],
      "execution_count": 9,
      "outputs": [
        {
          "output_type": "execute_result",
          "data": {
            "text/plain": [
              "1088"
            ]
          },
          "metadata": {
            "tags": []
          },
          "execution_count": 9
        },
        {
          "output_type": "stream",
          "text": [
            "time: 3.19 ms\n"
          ],
          "name": "stdout"
        }
      ]
    },
    {
      "cell_type": "code",
      "metadata": {
        "id": "WYMno_Z_l0bY",
        "colab_type": "code",
        "colab": {
          "base_uri": "https://localhost:8080/",
          "height": 54
        },
        "outputId": "68e41fed-08a2-4c41-80e2-bcb021a924a1"
      },
      "source": [
        "2**1000"
      ],
      "execution_count": 10,
      "outputs": [
        {
          "output_type": "execute_result",
          "data": {
            "text/plain": [
              "10715086071862673209484250490600018105614048117055336074437503883703510511249361224931983788156958581275946729175531468251871452856923140435984577574698574803934567774824230985421074605062371141877954182153046474983581941267398767559165543946077062914571196477686542167660429831652624386837205668069376"
            ]
          },
          "metadata": {
            "tags": []
          },
          "execution_count": 10
        },
        {
          "output_type": "stream",
          "text": [
            "time: 3.42 ms\n"
          ],
          "name": "stdout"
        }
      ]
    },
    {
      "cell_type": "markdown",
      "metadata": {
        "id": "2MeJNmcjmHdp",
        "colab_type": "text"
      },
      "source": [
        "Larger integers will also slow down calculations."
      ]
    },
    {
      "cell_type": "code",
      "metadata": {
        "id": "1v5kKUmPl85y",
        "colab_type": "code",
        "colab": {
          "base_uri": "https://localhost:8080/",
          "height": 34
        },
        "outputId": "ef1deaad-99ee-4f62-9d8b-c3d6419d1756"
      },
      "source": [
        "import time\n",
        "\n",
        "def calc(a):\n",
        "    for i in range(10000000):\n",
        "        a * 2\n",
        "# We start with a small integer value for a (10):"
      ],
      "execution_count": 11,
      "outputs": [
        {
          "output_type": "stream",
          "text": [
            "time: 5.1 ms\n"
          ],
          "name": "stdout"
        }
      ]
    },
    {
      "cell_type": "code",
      "metadata": {
        "id": "VYMloRyymQG9",
        "colab_type": "code",
        "colab": {
          "base_uri": "https://localhost:8080/",
          "height": 51
        },
        "outputId": "cce4883b-4d38-4082-932f-693bd31ebf9c"
      },
      "source": [
        "start = time.perf_counter()\n",
        "calc(10)\n",
        "end = time.perf_counter()\n",
        "print(end - start)"
      ],
      "execution_count": 12,
      "outputs": [
        {
          "output_type": "stream",
          "text": [
            "0.4009422130002349\n",
            "time: 403 ms\n"
          ],
          "name": "stdout"
        }
      ]
    },
    {
      "cell_type": "code",
      "metadata": {
        "id": "lmc98c0Gmq7S",
        "colab_type": "code",
        "colab": {
          "base_uri": "https://localhost:8080/",
          "height": 51
        },
        "outputId": "2b074c23-4a66-48e7-90c1-78445faf82bb"
      },
      "source": [
        "start = time.perf_counter()\n",
        "calc(2**100)\n",
        "end = time.perf_counter()\n",
        "print(end - start)"
      ],
      "execution_count": 13,
      "outputs": [
        {
          "output_type": "stream",
          "text": [
            "0.6867921570001272\n",
            "time: 689 ms\n"
          ],
          "name": "stdout"
        }
      ]
    },
    {
      "cell_type": "code",
      "metadata": {
        "id": "JWUJWY-3mthK",
        "colab_type": "code",
        "colab": {
          "base_uri": "https://localhost:8080/",
          "height": 51
        },
        "outputId": "d50263a3-5bba-4823-93ac-83f54c836f07"
      },
      "source": [
        "start = time.perf_counter()\n",
        "calc(2**10000)\n",
        "end = time.perf_counter()\n",
        "print(end - start)"
      ],
      "execution_count": 14,
      "outputs": [
        {
          "output_type": "stream",
          "text": [
            "4.261457938000149\n",
            "time: 4.26 s\n"
          ],
          "name": "stdout"
        }
      ]
    },
    {
      "cell_type": "code",
      "metadata": {
        "id": "HYeK9j6hmv8-",
        "colab_type": "code",
        "colab": {}
      },
      "source": [
        ""
      ],
      "execution_count": 0,
      "outputs": []
    }
  ]
}