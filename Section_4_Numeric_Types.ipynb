{
  "nbformat": 4,
  "nbformat_minor": 0,
  "metadata": {
    "colab": {
      "name": "Untitled",
      "provenance": [],
      "toc_visible": true,
      "include_colab_link": true
    },
    "kernelspec": {
      "name": "python3",
      "display_name": "Python 3"
    }
  },
  "cells": [
    {
      "cell_type": "markdown",
      "metadata": {
        "id": "view-in-github",
        "colab_type": "text"
      },
      "source": [
        "<a href=\"https://colab.research.google.com/github/ValentinoVizner/Python_Deep_Dive_1/blob/master/Section_4_Numeric_Types.ipynb\" target=\"_parent\"><img src=\"https://colab.research.google.com/assets/colab-badge.svg\" alt=\"Open In Colab\"/></a>"
      ]
    },
    {
      "cell_type": "markdown",
      "metadata": {
        "id": "10xjxWJhXt2N",
        "colab_type": "text"
      },
      "source": [
        "# NUMBERS"
      ]
    },
    {
      "cell_type": "markdown",
      "metadata": {
        "id": "-aanLc1LX1j_",
        "colab_type": "text"
      },
      "source": [
        "## 1.Introduction\n",
        "\n",
        "![alt text](https://drive.google.com/uc?id=16x9jU5dUcuW5nk7p-pfzbLkSbFwgRif0)\n",
        "</br>\n",
        "So in Python we have 5 main types of numbers, while in world of Mathematics we have 4 main types of numbers."
      ]
    },
    {
      "cell_type": "markdown",
      "metadata": {
        "id": "7G8O3uOZZR0y",
        "colab_type": "text"
      },
      "source": [
        "## 2.Integers: Data Types"
      ]
    },
    {
      "cell_type": "code",
      "metadata": {
        "id": "T-Rpz5U-XzYl",
        "colab_type": "code",
        "outputId": "7a6cad6f-52dd-4c1f-b665-b23bb2144fec",
        "colab": {
          "base_uri": "https://localhost:8080/",
          "height": 188
        }
      },
      "source": [
        "!pip install ipython-autotime\n",
        "%load_ext autotime"
      ],
      "execution_count": 1,
      "outputs": [
        {
          "output_type": "stream",
          "text": [
            "Collecting ipython-autotime\n",
            "  Downloading https://files.pythonhosted.org/packages/e6/f9/0626bbdb322e3a078d968e87e3b01341e7890544de891d0cb613641220e6/ipython-autotime-0.1.tar.bz2\n",
            "Building wheels for collected packages: ipython-autotime\n",
            "  Building wheel for ipython-autotime (setup.py) ... \u001b[?25l\u001b[?25hdone\n",
            "  Created wheel for ipython-autotime: filename=ipython_autotime-0.1-cp36-none-any.whl size=1832 sha256=c9a4aebeeccf376b9b80630178141c25ac044c82009c838482c59f33ce357dd6\n",
            "  Stored in directory: /root/.cache/pip/wheels/d2/df/81/2db1e54bc91002cec40334629bc39cfa86dff540b304ebcd6e\n",
            "Successfully built ipython-autotime\n",
            "Installing collected packages: ipython-autotime\n",
            "Successfully installed ipython-autotime-0.1\n"
          ],
          "name": "stdout"
        }
      ]
    },
    {
      "cell_type": "markdown",
      "metadata": {
        "id": "72VcopfVdXQ2",
        "colab_type": "text"
      },
      "source": [
        "![alt text](https://drive.google.com/uc?id=1IVVWdHvThhWDsIeoc4Vo4Ib-_6UQlVb1)"
      ]
    },
    {
      "cell_type": "markdown",
      "metadata": {
        "id": "zbPErqvZfi8R",
        "colab_type": "text"
      },
      "source": [
        "![alt text](https://drive.google.com/uc?id=1qJC10_kVw0FLcexNAQic1unIdNi15YLS)"
      ]
    },
    {
      "cell_type": "markdown",
      "metadata": {
        "id": "8lhGd5rvgo-p",
        "colab_type": "text"
      },
      "source": [
        "![alt text](https://drive.google.com/uc?id=1RsNkNcV79VvCL4ehfZdnCrPNSgsJcr55)"
      ]
    },
    {
      "cell_type": "markdown",
      "metadata": {
        "id": "sXcgL4nhijpG",
        "colab_type": "text"
      },
      "source": [
        "![alt text](https://drive.google.com/uc?id=13wvnLZHc9ExBmWTrze23Pt2qSTKNm5ow)"
      ]
    },
    {
      "cell_type": "markdown",
      "metadata": {
        "id": "IQzS261MjatU",
        "colab_type": "text"
      },
      "source": [
        "![alt text](https://drive.google.com/uc?id=1sS7CqYRcGP-iAAh1cQiv-I_r3CcrzfBV)\n",
        "Be cautious when dealing with a lot of operations, try to see biggest numbers and limit them to certain length."
      ]
    },
    {
      "cell_type": "markdown",
      "metadata": {
        "id": "LRxg7NI6jxrJ",
        "colab_type": "text"
      },
      "source": [
        "Integers are objects - instances of the ``int`` class."
      ]
    },
    {
      "cell_type": "code",
      "metadata": {
        "id": "GjruM9JmckEs",
        "colab_type": "code",
        "outputId": "5582b600-27e6-4093-9f40-1f5b0706940c",
        "colab": {
          "base_uri": "https://localhost:8080/",
          "height": 51
        }
      },
      "source": [
        "print(type(100))"
      ],
      "execution_count": 0,
      "outputs": [
        {
          "output_type": "stream",
          "text": [
            "<class 'int'>\n",
            "time: 2.83 ms\n"
          ],
          "name": "stdout"
        }
      ]
    },
    {
      "cell_type": "markdown",
      "metadata": {
        "id": "nTmfgyBbj1iE",
        "colab_type": "text"
      },
      "source": [
        "They are a variable length data type that can theoretically handle any integer magnitude. This will take up a variable amount of memory that depends on the particular size of the integer."
      ]
    },
    {
      "cell_type": "code",
      "metadata": {
        "id": "Mb5dUF_Zj0za",
        "colab_type": "code",
        "outputId": "46f49c66-fd47-4ee7-e431-a439f8c84de4",
        "colab": {
          "base_uri": "https://localhost:8080/",
          "height": 34
        }
      },
      "source": [
        "import sys\n",
        "\n",
        "sys.getsizeof(0)"
      ],
      "execution_count": 0,
      "outputs": [
        {
          "output_type": "execute_result",
          "data": {
            "text/plain": [
              "24"
            ]
          },
          "metadata": {
            "tags": []
          },
          "execution_count": 1
        }
      ]
    },
    {
      "cell_type": "code",
      "metadata": {
        "id": "N2rZOnO_kBKA",
        "colab_type": "code",
        "outputId": "62680622-c0af-465b-f53f-fa781b2c4e8c",
        "colab": {
          "base_uri": "https://localhost:8080/",
          "height": 34
        }
      },
      "source": [
        "sys.getsizeof(2**1000\n",
        "            )"
      ],
      "execution_count": 0,
      "outputs": [
        {
          "output_type": "execute_result",
          "data": {
            "text/plain": [
              "160"
            ]
          },
          "metadata": {
            "tags": []
          },
          "execution_count": 7
        },
        {
          "output_type": "stream",
          "text": [
            "time: 8.17 ms\n"
          ],
          "name": "stdout"
        }
      ]
    },
    {
      "cell_type": "code",
      "metadata": {
        "id": "EPRyJa9dlS2A",
        "colab_type": "code",
        "outputId": "6de56118-8f63-4d0b-c283-fcfd6d1bc66b",
        "colab": {
          "base_uri": "https://localhost:8080/",
          "height": 34
        }
      },
      "source": [
        "(160 \n",
        " - 24 # number of overhead, bytes\n",
        " ) * 8"
      ],
      "execution_count": 0,
      "outputs": [
        {
          "output_type": "execute_result",
          "data": {
            "text/plain": [
              "1088"
            ]
          },
          "metadata": {
            "tags": []
          },
          "execution_count": 9
        },
        {
          "output_type": "stream",
          "text": [
            "time: 3.19 ms\n"
          ],
          "name": "stdout"
        }
      ]
    },
    {
      "cell_type": "code",
      "metadata": {
        "id": "WYMno_Z_l0bY",
        "colab_type": "code",
        "outputId": "68e41fed-08a2-4c41-80e2-bcb021a924a1",
        "colab": {
          "base_uri": "https://localhost:8080/",
          "height": 54
        }
      },
      "source": [
        "2**1000"
      ],
      "execution_count": 0,
      "outputs": [
        {
          "output_type": "execute_result",
          "data": {
            "text/plain": [
              "10715086071862673209484250490600018105614048117055336074437503883703510511249361224931983788156958581275946729175531468251871452856923140435984577574698574803934567774824230985421074605062371141877954182153046474983581941267398767559165543946077062914571196477686542167660429831652624386837205668069376"
            ]
          },
          "metadata": {
            "tags": []
          },
          "execution_count": 10
        },
        {
          "output_type": "stream",
          "text": [
            "time: 3.42 ms\n"
          ],
          "name": "stdout"
        }
      ]
    },
    {
      "cell_type": "markdown",
      "metadata": {
        "id": "2MeJNmcjmHdp",
        "colab_type": "text"
      },
      "source": [
        "Larger integers will also slow down calculations."
      ]
    },
    {
      "cell_type": "code",
      "metadata": {
        "id": "1v5kKUmPl85y",
        "colab_type": "code",
        "outputId": "ef1deaad-99ee-4f62-9d8b-c3d6419d1756",
        "colab": {
          "base_uri": "https://localhost:8080/",
          "height": 34
        }
      },
      "source": [
        "import time\n",
        "\n",
        "def calc(a):\n",
        "    for i in range(10000000):\n",
        "        a * 2\n",
        "# We start with a small integer value for a (10):"
      ],
      "execution_count": 0,
      "outputs": [
        {
          "output_type": "stream",
          "text": [
            "time: 5.1 ms\n"
          ],
          "name": "stdout"
        }
      ]
    },
    {
      "cell_type": "code",
      "metadata": {
        "id": "VYMloRyymQG9",
        "colab_type": "code",
        "outputId": "cce4883b-4d38-4082-932f-693bd31ebf9c",
        "colab": {
          "base_uri": "https://localhost:8080/",
          "height": 51
        }
      },
      "source": [
        "start = time.perf_counter()\n",
        "calc(10)\n",
        "end = time.perf_counter()\n",
        "print(end - start)"
      ],
      "execution_count": 0,
      "outputs": [
        {
          "output_type": "stream",
          "text": [
            "0.4009422130002349\n",
            "time: 403 ms\n"
          ],
          "name": "stdout"
        }
      ]
    },
    {
      "cell_type": "code",
      "metadata": {
        "id": "lmc98c0Gmq7S",
        "colab_type": "code",
        "outputId": "2b074c23-4a66-48e7-90c1-78445faf82bb",
        "colab": {
          "base_uri": "https://localhost:8080/",
          "height": 51
        }
      },
      "source": [
        "start = time.perf_counter()\n",
        "calc(2**100)\n",
        "end = time.perf_counter()\n",
        "print(end - start)"
      ],
      "execution_count": 0,
      "outputs": [
        {
          "output_type": "stream",
          "text": [
            "0.6867921570001272\n",
            "time: 689 ms\n"
          ],
          "name": "stdout"
        }
      ]
    },
    {
      "cell_type": "code",
      "metadata": {
        "id": "JWUJWY-3mthK",
        "colab_type": "code",
        "outputId": "d50263a3-5bba-4823-93ac-83f54c836f07",
        "colab": {
          "base_uri": "https://localhost:8080/",
          "height": 51
        }
      },
      "source": [
        "start = time.perf_counter()\n",
        "calc(2**10000)\n",
        "end = time.perf_counter()\n",
        "print(end - start)"
      ],
      "execution_count": 0,
      "outputs": [
        {
          "output_type": "stream",
          "text": [
            "4.261457938000149\n",
            "time: 4.26 s\n"
          ],
          "name": "stdout"
        }
      ]
    },
    {
      "cell_type": "markdown",
      "metadata": {
        "id": "LVs6rOJdlE47",
        "colab_type": "text"
      },
      "source": [
        "## 3.Integers: Operations"
      ]
    },
    {
      "cell_type": "markdown",
      "metadata": {
        "id": "Hvb3ch9NlQnt",
        "colab_type": "text"
      },
      "source": [
        "![alt text](https://drive.google.com/uc?id=1Sxws5N8OoR0OjGVp13WSP8Kz5TBj-htK)"
      ]
    },
    {
      "cell_type": "markdown",
      "metadata": {
        "id": "wgU9nBMImGvf",
        "colab_type": "text"
      },
      "source": [
        "![alt text](https://drive.google.com/uc?id=1sW-4cBV3zl3da16mQ2FIBz-lptFH1130)"
      ]
    },
    {
      "cell_type": "markdown",
      "metadata": {
        "id": "aFSQSRXZnQAM",
        "colab_type": "text"
      },
      "source": [
        "![alt text](https://drive.google.com/uc?id=15PoAU8sEnaqZALbBg0esrypvUPx1K6SJ)"
      ]
    },
    {
      "cell_type": "markdown",
      "metadata": {
        "id": "oTgbLWj4n1N6",
        "colab_type": "text"
      },
      "source": [
        "![alt text](https://drive.google.com/uc?id=1Go-u-Kdd9WSTsXiYQplzgbfKvHkaOmfb)\n",
        "![alt text](https://drive.google.com/uc?id=1cshyv_Z4asG7FpNJOL-wHH0KVUiWyQAq)"
      ]
    },
    {
      "cell_type": "markdown",
      "metadata": {
        "id": "fGvvEUz6puWz",
        "colab_type": "text"
      },
      "source": [
        "![alt text](https://drive.google.com/uc?id=1rBbU56g585A7UJDQJjMkcxrqZxC9rGL6)"
      ]
    },
    {
      "cell_type": "code",
      "metadata": {
        "id": "HYeK9j6hmv8-",
        "colab_type": "code",
        "outputId": "3a4425e0-8cb7-4eff-803f-90914deb9893",
        "colab": {
          "base_uri": "https://localhost:8080/",
          "height": 34
        }
      },
      "source": [
        "# standard division operator `/` **always** results in a float value.\n",
        "\n",
        "type(10 / 2)"
      ],
      "execution_count": 0,
      "outputs": [
        {
          "output_type": "execute_result",
          "data": {
            "text/plain": [
              "float"
            ]
          },
          "metadata": {
            "tags": []
          },
          "execution_count": 2
        }
      ]
    },
    {
      "cell_type": "code",
      "metadata": {
        "id": "BW030bBjsQDS",
        "colab_type": "code",
        "outputId": "ad2f8623-0bbe-4585-e56b-fd4d3499ad9c",
        "colab": {
          "base_uri": "https://localhost:8080/",
          "height": 34
        }
      },
      "source": [
        "import math\n",
        "\n",
        "math.floor(3.14)"
      ],
      "execution_count": 0,
      "outputs": [
        {
          "output_type": "execute_result",
          "data": {
            "text/plain": [
              "3"
            ]
          },
          "metadata": {
            "tags": []
          },
          "execution_count": 3
        }
      ]
    },
    {
      "cell_type": "code",
      "metadata": {
        "id": "15oDpV9osdNp",
        "colab_type": "code",
        "outputId": "0049d390-336a-4f1f-9b74-dd592a732395",
        "colab": {
          "base_uri": "https://localhost:8080/",
          "height": 34
        }
      },
      "source": [
        "math.floor(-3.60)"
      ],
      "execution_count": 0,
      "outputs": [
        {
          "output_type": "execute_result",
          "data": {
            "text/plain": [
              "-4"
            ]
          },
          "metadata": {
            "tags": []
          },
          "execution_count": 4
        }
      ]
    },
    {
      "cell_type": "code",
      "metadata": {
        "id": "WM6gh_2vskDV",
        "colab_type": "code",
        "outputId": "98d4458b-6de3-4ec6-de1f-a217604be3cc",
        "colab": {
          "base_uri": "https://localhost:8080/",
          "height": 34
        }
      },
      "source": [
        "math.floor(-3.0005)"
      ],
      "execution_count": 0,
      "outputs": [
        {
          "output_type": "execute_result",
          "data": {
            "text/plain": [
              "-4"
            ]
          },
          "metadata": {
            "tags": []
          },
          "execution_count": 5
        }
      ]
    },
    {
      "cell_type": "code",
      "metadata": {
        "id": "7CPpmYbGsqOs",
        "colab_type": "code",
        "outputId": "4e9fc8b0-da78-4461-fecd-d8fc222ba9f8",
        "colab": {
          "base_uri": "https://localhost:8080/",
          "height": 34
        }
      },
      "source": [
        "math.floor(-3.0000000000000001)"
      ],
      "execution_count": 0,
      "outputs": [
        {
          "output_type": "execute_result",
          "data": {
            "text/plain": [
              "-3"
            ]
          },
          "metadata": {
            "tags": []
          },
          "execution_count": 11
        }
      ]
    },
    {
      "cell_type": "markdown",
      "metadata": {
        "id": "CHz6gGSbtAum",
        "colab_type": "text"
      },
      "source": [
        "Wait what is ging on!?\n",
        "</br>\n",
        "It is because of limited precision for float in Python"
      ]
    },
    {
      "cell_type": "markdown",
      "metadata": {
        "id": "24TOFjiptW6s",
        "colab_type": "text"
      },
      "source": [
        "#### 3.1. The Floor Division Operator"
      ]
    },
    {
      "cell_type": "code",
      "metadata": {
        "id": "dsble-I-s2KE",
        "colab_type": "code",
        "outputId": "0bb68f6c-5a0a-4c54-bd53-a5f0cf13082c",
        "colab": {
          "base_uri": "https://localhost:8080/",
          "height": 68
        }
      },
      "source": [
        "a = 33\n",
        "b = 16\n",
        "print(a/b)\n",
        "print(a//b)\n",
        "print(math.floor(a/b))"
      ],
      "execution_count": 0,
      "outputs": [
        {
          "output_type": "stream",
          "text": [
            "2.0625\n",
            "2\n",
            "2\n"
          ],
          "name": "stdout"
        }
      ]
    },
    {
      "cell_type": "markdown",
      "metadata": {
        "id": "ZUi-Ugentclp",
        "colab_type": "text"
      },
      "source": [
        "For positive numbers, `a//b` is basically the same as truncating (taking the integer portion) of `a / b`.\n",
        "</br>\n",
        "But this is **not** the case for negative numbers."
      ]
    },
    {
      "cell_type": "code",
      "metadata": {
        "id": "EaPA3P0ytY-O",
        "colab_type": "code",
        "outputId": "3e02ed0f-2ca5-4d22-cd8e-fd2fc931ece6",
        "colab": {
          "base_uri": "https://localhost:8080/",
          "height": 85
        }
      },
      "source": [
        "a = -33\n",
        "b = 16\n",
        "print('{0}/{1} = {2}'.format(a, b, a/b))\n",
        "print('trunc({0}/{1}) = {2}'.format(a, b, math.trunc(a/b)))\n",
        "print('{0}//{1} = {2}'.format(a, b, a//b))\n",
        "print('floor({0}//{1}) = {2}'.format(a, b, math.floor(a/b)))"
      ],
      "execution_count": 0,
      "outputs": [
        {
          "output_type": "stream",
          "text": [
            "-33/16 = -2.0625\n",
            "trunc(-33/16) = -2\n",
            "-33//16 = -3\n",
            "floor(-33//16) = -3\n"
          ],
          "name": "stdout"
        }
      ]
    },
    {
      "cell_type": "code",
      "metadata": {
        "id": "m63Gn3lZtkL4",
        "colab_type": "code",
        "outputId": "c1a89d77-2e2a-4a88-d5f5-2ff892dc1acd",
        "colab": {
          "base_uri": "https://localhost:8080/",
          "height": 85
        }
      },
      "source": [
        "a = 33\n",
        "b = -16\n",
        "print('{0}/{1} = {2}'.format(a, b, a/b))\n",
        "print('trunc({0}/{1}) = {2}'.format(a, b, math.trunc(a/b)))\n",
        "print('{0}//{1} = {2}'.format(a, b, a//b))\n",
        "print('floor({0}//{1}) = {2}'.format(a, b, math.floor(a/b)))"
      ],
      "execution_count": 0,
      "outputs": [
        {
          "output_type": "stream",
          "text": [
            "33/-16 = -2.0625\n",
            "trunc(33/-16) = -2\n",
            "33//-16 = -3\n",
            "floor(33//-16) = -3\n"
          ],
          "name": "stdout"
        }
      ]
    },
    {
      "cell_type": "markdown",
      "metadata": {
        "id": "kdY2p3P6uESe",
        "colab_type": "text"
      },
      "source": [
        "#### 3.2. The Modulo Operator"
      ]
    },
    {
      "cell_type": "markdown",
      "metadata": {
        "id": "OdOvcMbvuGr4",
        "colab_type": "text"
      },
      "source": [
        "The modulo operator and the floor division operator will always satisfy the following equation:\n",
        "\n",
        "``a = b * (a // b) + a % b``"
      ]
    },
    {
      "cell_type": "code",
      "metadata": {
        "id": "wL8Panwot9uj",
        "colab_type": "code",
        "outputId": "13009eab-774f-4967-c0b6-2da0f2795a08",
        "colab": {
          "base_uri": "https://localhost:8080/",
          "height": 85
        }
      },
      "source": [
        "a = 13\n",
        "b = 4\n",
        "print('{0}/{1} = {2}'.format(a, b, a/b))\n",
        "print('{0}//{1} = {2}'.format(a, b, a//b))\n",
        "print('{0}%{1} = {2}'.format(a, b, a%b))\n",
        "print(a == b * (a//b) + a%b)"
      ],
      "execution_count": 0,
      "outputs": [
        {
          "output_type": "stream",
          "text": [
            "13/4 = 3.25\n",
            "13//4 = 3\n",
            "13%4 = 1\n",
            "True\n"
          ],
          "name": "stdout"
        }
      ]
    },
    {
      "cell_type": "code",
      "metadata": {
        "id": "1tt-_zkmuIcJ",
        "colab_type": "code",
        "outputId": "40d7b127-ac04-4fec-da0a-38e23da75c27",
        "colab": {
          "base_uri": "https://localhost:8080/",
          "height": 85
        }
      },
      "source": [
        "a = -13\n",
        "b = 4\n",
        "print('{0}/{1} = {2}'.format(a, b, a/b))\n",
        "print('{0}//{1} = {2}'.format(a, b, a//b))\n",
        "print('{0}%{1} = {2}'.format(a, b, a%b))\n",
        "print(a == b * (a//b) + a%b)"
      ],
      "execution_count": 0,
      "outputs": [
        {
          "output_type": "stream",
          "text": [
            "-13/4 = -3.25\n",
            "-13//4 = -4\n",
            "-13%4 = 3\n",
            "True\n"
          ],
          "name": "stdout"
        }
      ]
    },
    {
      "cell_type": "code",
      "metadata": {
        "id": "SlP0ap-TuPg8",
        "colab_type": "code",
        "outputId": "b1758f04-a761-46dd-c6ec-c559e4998005",
        "colab": {
          "base_uri": "https://localhost:8080/",
          "height": 85
        }
      },
      "source": [
        "a = 13\n",
        "b = -4\n",
        "print('{0}/{1} = {2}'.format(a, b, a/b))\n",
        "print('{0}//{1} = {2}'.format(a, b, a//b))\n",
        "print('{0}%{1} = {2}'.format(a, b, a%b))\n",
        "print(a == b * (a//b) + a%b)"
      ],
      "execution_count": 0,
      "outputs": [
        {
          "output_type": "stream",
          "text": [
            "13/-4 = -3.25\n",
            "13//-4 = -4\n",
            "13%-4 = -3\n",
            "True\n"
          ],
          "name": "stdout"
        }
      ]
    },
    {
      "cell_type": "code",
      "metadata": {
        "id": "U-8zGHaruQ_y",
        "colab_type": "code",
        "outputId": "a37eeabf-3740-4606-d158-4fd1991ced9c",
        "colab": {
          "base_uri": "https://localhost:8080/",
          "height": 85
        }
      },
      "source": [
        "a = -13\n",
        "b = -4\n",
        "print('{0}/{1} = {2}'.format(a, b, a/b))\n",
        "print('{0}//{1} = {2}'.format(a, b, a//b))\n",
        "print('{0}%{1} = {2}'.format(a, b, a%b))\n",
        "print(a == b * (a//b) + a%b)"
      ],
      "execution_count": 0,
      "outputs": [
        {
          "output_type": "stream",
          "text": [
            "-13/-4 = 3.25\n",
            "-13//-4 = 3\n",
            "-13%-4 = -1\n",
            "True\n"
          ],
          "name": "stdout"
        }
      ]
    },
    {
      "cell_type": "markdown",
      "metadata": {
        "id": "NTM9GyV4lndW",
        "colab_type": "text"
      },
      "source": [
        "## 4.INTEGERS: Constructor and Bases (Part 1)"
      ]
    },
    {
      "cell_type": "markdown",
      "metadata": {
        "id": "W4Z6Moqunj94",
        "colab_type": "text"
      },
      "source": [
        "![alt text](https://drive.google.com/uc?id=1ACGOeXMVdvHnCqlvZQgYDbWEY3qQp1vC)"
      ]
    },
    {
      "cell_type": "markdown",
      "metadata": {
        "id": "AQHZR2hSnkiC",
        "colab_type": "text"
      },
      "source": [
        "![alt text](https://drive.google.com/uc?id=1A6VDdgyDk-bHmYiwRNFqq7caeqrLzYbr)"
      ]
    },
    {
      "cell_type": "markdown",
      "metadata": {
        "id": "Ed1IZRJgXPk7",
        "colab_type": "text"
      },
      "source": [
        "It is BETTER to use explicitly `base=16` for example.\n",
        "</br>\n",
        "Max. number of base is **36** because there are 26 letters **[a-z]** and 10 numbers **[0-9]**"
      ]
    },
    {
      "cell_type": "markdown",
      "metadata": {
        "id": "WzQBK5mkptbD",
        "colab_type": "text"
      },
      "source": [
        "![alt text](https://drive.google.com/uc?id=1TaXefPpnz_U3TqcJ0FcyenVu25jSIKGH)"
      ]
    },
    {
      "cell_type": "markdown",
      "metadata": {
        "id": "lAOui_VzrQFy",
        "colab_type": "text"
      },
      "source": [
        "![alt text](https://drive.google.com/uc?id=1MdkyubAKViBIuU9KfBrKZvGOq744kQAM)"
      ]
    },
    {
      "cell_type": "markdown",
      "metadata": {
        "id": "M6pFFf6frdwo",
        "colab_type": "text"
      },
      "source": [
        "![alt text](https://drive.google.com/uc?id=1an_d9qDgVQwsz-RZaHR2UnER9u2buTxV)"
      ]
    },
    {
      "cell_type": "markdown",
      "metadata": {
        "id": "z4QYHC1NryZm",
        "colab_type": "text"
      },
      "source": [
        "![alt text](https://drive.google.com/uc?id=1XrhnusfQq0GWTT6jmqu21NZVDaH-8oST)\n"
      ]
    },
    {
      "cell_type": "markdown",
      "metadata": {
        "id": "jMUis3PwsN-R",
        "colab_type": "text"
      },
      "source": [
        "![alt text](https://drive.google.com/uc?id=19NeBUnctfHItoPm9WEJRiXhBPT1uHLMz)"
      ]
    },
    {
      "cell_type": "markdown",
      "metadata": {
        "id": "IcxjIJlfsNhF",
        "colab_type": "text"
      },
      "source": [
        "![alt text](https://drive.google.com/uc?id=1aDEbdAo_zbU7HHzsQ9d8BpYSvx38ptGj)"
      ]
    },
    {
      "cell_type": "markdown",
      "metadata": {
        "id": "27DZtLZifmNC",
        "colab_type": "text"
      },
      "source": [
        "### 4.INTEGERS: Constructor and Bases (Part 2) => Exercises"
      ]
    },
    {
      "cell_type": "code",
      "metadata": {
        "id": "sJmprdTUuSTt",
        "colab_type": "code",
        "colab": {
          "base_uri": "https://localhost:8080/",
          "height": 67
        },
        "outputId": "423a0cb8-44aa-44a9-99c8-74a734f11305"
      },
      "source": [
        "from fractions import Fraction\n",
        "\n",
        "a = Fraction(22 / 7)\n",
        "\n",
        "print(float(a))\n",
        "print(int(a))"
      ],
      "execution_count": 4,
      "outputs": [
        {
          "output_type": "stream",
          "text": [
            "3.142857142857143\n",
            "3\n",
            "time: 2.89 ms\n"
          ],
          "name": "stdout"
        }
      ]
    },
    {
      "cell_type": "code",
      "metadata": {
        "id": "aXIVtUy8m3Zr",
        "colab_type": "code",
        "colab": {
          "base_uri": "https://localhost:8080/",
          "height": 34
        },
        "outputId": "b9b7b210-713c-46d0-8a4b-12d8cb8f753c"
      },
      "source": [
        "int(\"101\", base=2)"
      ],
      "execution_count": 5,
      "outputs": [
        {
          "output_type": "execute_result",
          "data": {
            "text/plain": [
              "5"
            ]
          },
          "metadata": {
            "tags": []
          },
          "execution_count": 5
        },
        {
          "output_type": "stream",
          "text": [
            "time: 7.95 ms\n"
          ],
          "name": "stdout"
        }
      ]
    },
    {
      "cell_type": "markdown",
      "metadata": {
        "id": "VjEoYpf0nZGz",
        "colab_type": "text"
      },
      "source": [
        "Python uses ``a-z`` for bases from 11 to 36.\n",
        "</br>\n",
        "Note that the letters are not case sensitive."
      ]
    },
    {
      "cell_type": "code",
      "metadata": {
        "id": "IE0gmCeinX5M",
        "colab_type": "code",
        "colab": {
          "base_uri": "https://localhost:8080/",
          "height": 67
        },
        "outputId": "2917220e-b812-4ab1-cb06-78fd90cf6cb9"
      },
      "source": [
        "print(int(\"F1A\", base=16))\n",
        "print(int(\"f1a\", base=16))"
      ],
      "execution_count": 6,
      "outputs": [
        {
          "output_type": "stream",
          "text": [
            "3866\n",
            "3866\n",
            "time: 1.94 ms\n"
          ],
          "name": "stdout"
        }
      ]
    },
    {
      "cell_type": "markdown",
      "metadata": {
        "id": "72_QMXcnxfrC",
        "colab_type": "text"
      },
      "source": [
        "#### Base Representations"
      ]
    },
    {
      "cell_type": "code",
      "metadata": {
        "id": "zUnAPcL_nnWt",
        "colab_type": "code",
        "colab": {
          "base_uri": "https://localhost:8080/",
          "height": 84
        },
        "outputId": "00e0bcc0-e0fc-432c-c79f-f02091dc65c4"
      },
      "source": [
        "print(f'binary representation of 10: {bin(10)}')\n",
        "print(f'octaal representation of 10: {oct(10)}')\n",
        "print(f'hexadcimal representation of 10: {hex(10)}')"
      ],
      "execution_count": 8,
      "outputs": [
        {
          "output_type": "stream",
          "text": [
            "binary representation of 10: 0b1010\n",
            "octaal representation of 10: 0o12\n",
            "hexadcimal representation of 10: 0xa\n",
            "time: 3.11 ms\n"
          ],
          "name": "stdout"
        }
      ]
    },
    {
      "cell_type": "markdown",
      "metadata": {
        "id": "Xq9bTojK64NT",
        "colab_type": "text"
      },
      "source": [
        "Note the `0b`, `0o` and `0x` prefixes"
      ]
    },
    {
      "cell_type": "code",
      "metadata": {
        "id": "WJIG610YxpEQ",
        "colab_type": "code",
        "colab": {
          "base_uri": "https://localhost:8080/",
          "height": 50
        },
        "outputId": "f9602183-8642-4037-e795-ed54e9e5cbe9"
      },
      "source": [
        "a = int('1010', 2)\n",
        "b = int('0b1010', 2)\n",
        "c = 0b1010\n",
        "print(a, b, c)"
      ],
      "execution_count": 10,
      "outputs": [
        {
          "output_type": "stream",
          "text": [
            "10 10 10\n",
            "time: 3.15 ms\n"
          ],
          "name": "stdout"
        }
      ]
    },
    {
      "cell_type": "markdown",
      "metadata": {
        "id": "heDcp6lV7AK3",
        "colab_type": "text"
      },
      "source": [
        "For literals, the ``a-z`` characters are not case-sensitive either"
      ]
    },
    {
      "cell_type": "code",
      "metadata": {
        "id": "zy9r7-Vs660x",
        "colab_type": "code",
        "colab": {
          "base_uri": "https://localhost:8080/",
          "height": 50
        },
        "outputId": "8316342a-7c19-4025-8520-724d4461cfee"
      },
      "source": [
        "a = 0xf1a\n",
        "b = 0xF1a\n",
        "c = 0xF1A\n",
        "print(a, b, c)"
      ],
      "execution_count": 12,
      "outputs": [
        {
          "output_type": "stream",
          "text": [
            "3866 3866 3866\n",
            "time: 6.45 ms\n"
          ],
          "name": "stdout"
        }
      ]
    },
    {
      "cell_type": "markdown",
      "metadata": {
        "id": "q3fpEKsU8q7z",
        "colab_type": "text"
      },
      "source": [
        "#### Custom Rebasing"
      ]
    },
    {
      "cell_type": "markdown",
      "metadata": {
        "id": "xjH-LHXT8tCC",
        "colab_type": "text"
      },
      "source": [
        "Python only provides built-in function to rebase to base 2, 8 and 16.\n",
        "\n",
        "For other bases, you have to provide your own algorithm (or leverage some 3rd party library of your choice)"
      ]
    },
    {
      "cell_type": "code",
      "metadata": {
        "id": "uqvLUUH_7CX9",
        "colab_type": "code",
        "colab": {
          "base_uri": "https://localhost:8080/",
          "height": 34
        },
        "outputId": "ac694293-1ddd-4fd0-d79e-48860e2adb22"
      },
      "source": [
        "def from_base10(n, b):\n",
        "    if b < 2:\n",
        "        raise ValueError('Base b must be >= 2')\n",
        "    if n < 0:\n",
        "        raise ValueError('Number n must be >= 0')\n",
        "    if n == 0:\n",
        "        return [0]\n",
        "    digits = []\n",
        "    while n > 0:\n",
        "        # m = n % b\n",
        "        # n = n // b\n",
        "        # which is the same as:\n",
        "        n, m = divmod(n, b)\n",
        "        digits.insert(0, m)\n",
        "    return digits"
      ],
      "execution_count": 13,
      "outputs": [
        {
          "output_type": "stream",
          "text": [
            "time: 9.17 ms\n"
          ],
          "name": "stdout"
        }
      ]
    },
    {
      "cell_type": "code",
      "metadata": {
        "id": "18A-Juh09-24",
        "colab_type": "code",
        "colab": {
          "base_uri": "https://localhost:8080/",
          "height": 34
        },
        "outputId": "802294aa-3e4c-4fd6-9ed1-0a105665b9d7"
      },
      "source": [
        "from_base10(255, 16)"
      ],
      "execution_count": 14,
      "outputs": [
        {
          "output_type": "execute_result",
          "data": {
            "text/plain": [
              "[15, 15]"
            ]
          },
          "metadata": {
            "tags": []
          },
          "execution_count": 14
        },
        {
          "output_type": "stream",
          "text": [
            "time: 2.9 ms\n"
          ],
          "name": "stdout"
        }
      ]
    },
    {
      "cell_type": "markdown",
      "metadata": {
        "id": "5l2Ntxrw-CkR",
        "colab_type": "text"
      },
      "source": [
        "Next we may want to encode the digits into strings using different characters for each digit in the base"
      ]
    },
    {
      "cell_type": "code",
      "metadata": {
        "id": "Dm7Ra5rF9_Ub",
        "colab_type": "code",
        "colab": {
          "base_uri": "https://localhost:8080/",
          "height": 34
        },
        "outputId": "b2b483f8-808b-4634-d5cd-e9894bb53f5b"
      },
      "source": [
        "def encode(digits, digit_map):\n",
        "    # we require that digit_map has at least as many\n",
        "    # characters as the max number in digits\n",
        "    if max(digits) >= len(digit_map):\n",
        "        raise ValueError(\"digit_map is not long enough to encode digits\")\n",
        "    \n",
        "    # we'll see this later, but the following would be better:\n",
        "    return ''.join([digit_map[d] for d in digits])\n",
        "    \n",
        "    "
      ],
      "execution_count": 18,
      "outputs": [
        {
          "output_type": "stream",
          "text": [
            "time: 2.33 ms\n"
          ],
          "name": "stdout"
        }
      ]
    },
    {
      "cell_type": "code",
      "metadata": {
        "id": "dHOWcy0O-DEN",
        "colab_type": "code",
        "colab": {
          "base_uri": "https://localhost:8080/",
          "height": 34
        },
        "outputId": "9258d086-8972-40e1-897c-bdc79b30a91d"
      },
      "source": [
        "encode([1, 0, 1], \"FT\")"
      ],
      "execution_count": 19,
      "outputs": [
        {
          "output_type": "execute_result",
          "data": {
            "text/plain": [
              "'TFT'"
            ]
          },
          "metadata": {
            "tags": []
          },
          "execution_count": 19
        },
        {
          "output_type": "stream",
          "text": [
            "time: 3.96 ms\n"
          ],
          "name": "stdout"
        }
      ]
    },
    {
      "cell_type": "code",
      "metadata": {
        "id": "BACUiOCf-FB0",
        "colab_type": "code",
        "colab": {
          "base_uri": "https://localhost:8080/",
          "height": 34
        },
        "outputId": "80a4ef24-df8e-4828-c3a1-6748a1d3e809"
      },
      "source": [
        "encode([1, 10, 11], '0123456789AB')"
      ],
      "execution_count": 17,
      "outputs": [
        {
          "output_type": "execute_result",
          "data": {
            "text/plain": [
              "'1AB'"
            ]
          },
          "metadata": {
            "tags": []
          },
          "execution_count": 17
        },
        {
          "output_type": "stream",
          "text": [
            "time: 3.21 ms\n"
          ],
          "name": "stdout"
        }
      ]
    },
    {
      "cell_type": "markdown",
      "metadata": {
        "id": "SmX7ggFV-KAd",
        "colab_type": "text"
      },
      "source": [
        "And we can combine both functions into a single one for easier use:"
      ]
    },
    {
      "cell_type": "code",
      "metadata": {
        "id": "IdZMSJiD-GWp",
        "colab_type": "code",
        "colab": {
          "base_uri": "https://localhost:8080/",
          "height": 34
        },
        "outputId": "95f6e5c9-ebfd-46d0-f07d-1c91edc0d991"
      },
      "source": [
        "def rebase_from10(number, base):\n",
        "    digit_map = '0123456789ABCDEFGHIJKLMNOPQRSTUVWXYZ'\n",
        "    if base < 2 or base > 36:\n",
        "        raise ValueError('Invalid base: 2 <= base <= 36')\n",
        "    # we store the sign of number and make it positive\n",
        "    # we'll re-insert the sign at the end\n",
        "    sign = -1 if number < 0 else 1\n",
        "    number *= sign\n",
        "    \n",
        "    digits = from_base10(number, base)\n",
        "    encoding = encode(digits, digit_map)\n",
        "    if sign == -1:\n",
        "        encoding = '-' + encoding\n",
        "    return encoding"
      ],
      "execution_count": 20,
      "outputs": [
        {
          "output_type": "stream",
          "text": [
            "time: 6.47 ms\n"
          ],
          "name": "stdout"
        }
      ]
    },
    {
      "cell_type": "code",
      "metadata": {
        "id": "gkLW5CJt_Olf",
        "colab_type": "code",
        "colab": {
          "base_uri": "https://localhost:8080/",
          "height": 67
        },
        "outputId": "ed705d81-799f-48ef-be69-f571aed2927a"
      },
      "source": [
        "e = rebase_from10(10, 2)\n",
        "print(e)\n",
        "print(int(e, 2))"
      ],
      "execution_count": 21,
      "outputs": [
        {
          "output_type": "stream",
          "text": [
            "1010\n",
            "10\n",
            "time: 2.5 ms\n"
          ],
          "name": "stdout"
        }
      ]
    },
    {
      "cell_type": "code",
      "metadata": {
        "id": "1B8JD3Zy_PM5",
        "colab_type": "code",
        "colab": {
          "base_uri": "https://localhost:8080/",
          "height": 67
        },
        "outputId": "029b4627-f8b2-4ebb-b4d7-a0185a4e7cb5"
      },
      "source": [
        "e = rebase_from10(-10, 2)\n",
        "print(e)\n",
        "print(int(e, 2))"
      ],
      "execution_count": 22,
      "outputs": [
        {
          "output_type": "stream",
          "text": [
            "-1010\n",
            "-10\n",
            "time: 2.7 ms\n"
          ],
          "name": "stdout"
        }
      ]
    },
    {
      "cell_type": "code",
      "metadata": {
        "id": "FapuV7X-_Q5V",
        "colab_type": "code",
        "colab": {
          "base_uri": "https://localhost:8080/",
          "height": 34
        },
        "outputId": "a0927892-4ad6-4d88-91e3-64a78221a145"
      },
      "source": [
        "rebase_from10(131, 11)"
      ],
      "execution_count": 23,
      "outputs": [
        {
          "output_type": "execute_result",
          "data": {
            "text/plain": [
              "'10A'"
            ]
          },
          "metadata": {
            "tags": []
          },
          "execution_count": 23
        },
        {
          "output_type": "stream",
          "text": [
            "time: 3.42 ms\n"
          ],
          "name": "stdout"
        }
      ]
    },
    {
      "cell_type": "code",
      "metadata": {
        "id": "3EqGbMFw_S14",
        "colab_type": "code",
        "colab": {
          "base_uri": "https://localhost:8080/",
          "height": 34
        },
        "outputId": "bb10486d-c468-42c0-a273-bf2f9328006a"
      },
      "source": [
        "rebase_from10(4095, 16)"
      ],
      "execution_count": 24,
      "outputs": [
        {
          "output_type": "execute_result",
          "data": {
            "text/plain": [
              "'FFF'"
            ]
          },
          "metadata": {
            "tags": []
          },
          "execution_count": 24
        },
        {
          "output_type": "stream",
          "text": [
            "time: 2.33 ms\n"
          ],
          "name": "stdout"
        }
      ]
    },
    {
      "cell_type": "code",
      "metadata": {
        "id": "FOoz-mWE_USi",
        "colab_type": "code",
        "colab": {
          "base_uri": "https://localhost:8080/",
          "height": 34
        },
        "outputId": "cb888750-2813-48df-c21b-e06776ba83ea"
      },
      "source": [
        "rebase_from10(-4095, 16)"
      ],
      "execution_count": 25,
      "outputs": [
        {
          "output_type": "execute_result",
          "data": {
            "text/plain": [
              "'-FFF'"
            ]
          },
          "metadata": {
            "tags": []
          },
          "execution_count": 25
        },
        {
          "output_type": "stream",
          "text": [
            "time: 3.12 ms\n"
          ],
          "name": "stdout"
        }
      ]
    },
    {
      "cell_type": "code",
      "metadata": {
        "id": "VV0zyAfe_V6V",
        "colab_type": "code",
        "colab": {}
      },
      "source": [
        ""
      ],
      "execution_count": 0,
      "outputs": []
    }
  ]
}