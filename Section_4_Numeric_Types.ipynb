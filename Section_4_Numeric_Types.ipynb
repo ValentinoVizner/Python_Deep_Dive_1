{
  "nbformat": 4,
  "nbformat_minor": 0,
  "metadata": {
    "colab": {
      "name": "Untitled",
      "provenance": [],
      "toc_visible": true,
      "include_colab_link": true
    },
    "kernelspec": {
      "name": "python3",
      "display_name": "Python 3"
    }
  },
  "cells": [
    {
      "cell_type": "markdown",
      "metadata": {
        "id": "view-in-github",
        "colab_type": "text"
      },
      "source": [
        "<a href=\"https://colab.research.google.com/github/ValentinoVizner/Python_Deep_Dive_1/blob/master/Section_4_Numeric_Types.ipynb\" target=\"_parent\"><img src=\"https://colab.research.google.com/assets/colab-badge.svg\" alt=\"Open In Colab\"/></a>"
      ]
    },
    {
      "cell_type": "markdown",
      "metadata": {
        "id": "10xjxWJhXt2N",
        "colab_type": "text"
      },
      "source": [
        "# NUMBERS"
      ]
    },
    {
      "cell_type": "markdown",
      "metadata": {
        "id": "-aanLc1LX1j_",
        "colab_type": "text"
      },
      "source": [
        "## 1.Introduction\n",
        "\n",
        "![alt text](https://drive.google.com/uc?id=16x9jU5dUcuW5nk7p-pfzbLkSbFwgRif0)\n",
        "</br>\n",
        "So in Python we have 5 main types of numbers, while in world of Mathematics we have 4 main types of numbers."
      ]
    },
    {
      "cell_type": "markdown",
      "metadata": {
        "id": "7G8O3uOZZR0y",
        "colab_type": "text"
      },
      "source": [
        "## 2.Integers: Data Types"
      ]
    },
    {
      "cell_type": "code",
      "metadata": {
        "id": "T-Rpz5U-XzYl",
        "colab_type": "code",
        "outputId": "7a6cad6f-52dd-4c1f-b665-b23bb2144fec",
        "colab": {
          "base_uri": "https://localhost:8080/",
          "height": 188
        }
      },
      "source": [
        "!pip install ipython-autotime\n",
        "%load_ext autotime"
      ],
      "execution_count": 0,
      "outputs": [
        {
          "output_type": "stream",
          "text": [
            "Collecting ipython-autotime\n",
            "  Downloading https://files.pythonhosted.org/packages/e6/f9/0626bbdb322e3a078d968e87e3b01341e7890544de891d0cb613641220e6/ipython-autotime-0.1.tar.bz2\n",
            "Building wheels for collected packages: ipython-autotime\n",
            "  Building wheel for ipython-autotime (setup.py) ... \u001b[?25l\u001b[?25hdone\n",
            "  Created wheel for ipython-autotime: filename=ipython_autotime-0.1-cp36-none-any.whl size=1832 sha256=c9a4aebeeccf376b9b80630178141c25ac044c82009c838482c59f33ce357dd6\n",
            "  Stored in directory: /root/.cache/pip/wheels/d2/df/81/2db1e54bc91002cec40334629bc39cfa86dff540b304ebcd6e\n",
            "Successfully built ipython-autotime\n",
            "Installing collected packages: ipython-autotime\n",
            "Successfully installed ipython-autotime-0.1\n"
          ],
          "name": "stdout"
        }
      ]
    },
    {
      "cell_type": "markdown",
      "metadata": {
        "id": "72VcopfVdXQ2",
        "colab_type": "text"
      },
      "source": [
        "![alt text](https://drive.google.com/uc?id=1IVVWdHvThhWDsIeoc4Vo4Ib-_6UQlVb1)"
      ]
    },
    {
      "cell_type": "markdown",
      "metadata": {
        "id": "zbPErqvZfi8R",
        "colab_type": "text"
      },
      "source": [
        "![alt text](https://drive.google.com/uc?id=1qJC10_kVw0FLcexNAQic1unIdNi15YLS)"
      ]
    },
    {
      "cell_type": "markdown",
      "metadata": {
        "id": "8lhGd5rvgo-p",
        "colab_type": "text"
      },
      "source": [
        "![alt text](https://drive.google.com/uc?id=1RsNkNcV79VvCL4ehfZdnCrPNSgsJcr55)"
      ]
    },
    {
      "cell_type": "markdown",
      "metadata": {
        "id": "sXcgL4nhijpG",
        "colab_type": "text"
      },
      "source": [
        "![alt text](https://drive.google.com/uc?id=13wvnLZHc9ExBmWTrze23Pt2qSTKNm5ow)"
      ]
    },
    {
      "cell_type": "markdown",
      "metadata": {
        "id": "IQzS261MjatU",
        "colab_type": "text"
      },
      "source": [
        "![alt text](https://drive.google.com/uc?id=1sS7CqYRcGP-iAAh1cQiv-I_r3CcrzfBV)\n",
        "Be cautious when dealing with a lot of operations, try to see biggest numbers and limit them to certain length."
      ]
    },
    {
      "cell_type": "markdown",
      "metadata": {
        "id": "LRxg7NI6jxrJ",
        "colab_type": "text"
      },
      "source": [
        "Integers are objects - instances of the ``int`` class."
      ]
    },
    {
      "cell_type": "code",
      "metadata": {
        "id": "GjruM9JmckEs",
        "colab_type": "code",
        "outputId": "5582b600-27e6-4093-9f40-1f5b0706940c",
        "colab": {
          "base_uri": "https://localhost:8080/",
          "height": 51
        }
      },
      "source": [
        "print(type(100))"
      ],
      "execution_count": 0,
      "outputs": [
        {
          "output_type": "stream",
          "text": [
            "<class 'int'>\n",
            "time: 2.83 ms\n"
          ],
          "name": "stdout"
        }
      ]
    },
    {
      "cell_type": "markdown",
      "metadata": {
        "id": "nTmfgyBbj1iE",
        "colab_type": "text"
      },
      "source": [
        "They are a variable length data type that can theoretically handle any integer magnitude. This will take up a variable amount of memory that depends on the particular size of the integer."
      ]
    },
    {
      "cell_type": "code",
      "metadata": {
        "id": "Mb5dUF_Zj0za",
        "colab_type": "code",
        "outputId": "46f49c66-fd47-4ee7-e431-a439f8c84de4",
        "colab": {
          "base_uri": "https://localhost:8080/",
          "height": 34
        }
      },
      "source": [
        "import sys\n",
        "\n",
        "sys.getsizeof(0)"
      ],
      "execution_count": 0,
      "outputs": [
        {
          "output_type": "execute_result",
          "data": {
            "text/plain": [
              "24"
            ]
          },
          "metadata": {
            "tags": []
          },
          "execution_count": 1
        }
      ]
    },
    {
      "cell_type": "code",
      "metadata": {
        "id": "N2rZOnO_kBKA",
        "colab_type": "code",
        "outputId": "62680622-c0af-465b-f53f-fa781b2c4e8c",
        "colab": {
          "base_uri": "https://localhost:8080/",
          "height": 34
        }
      },
      "source": [
        "sys.getsizeof(2**1000\n",
        "            )"
      ],
      "execution_count": 0,
      "outputs": [
        {
          "output_type": "execute_result",
          "data": {
            "text/plain": [
              "160"
            ]
          },
          "metadata": {
            "tags": []
          },
          "execution_count": 7
        },
        {
          "output_type": "stream",
          "text": [
            "time: 8.17 ms\n"
          ],
          "name": "stdout"
        }
      ]
    },
    {
      "cell_type": "code",
      "metadata": {
        "id": "EPRyJa9dlS2A",
        "colab_type": "code",
        "outputId": "6de56118-8f63-4d0b-c283-fcfd6d1bc66b",
        "colab": {
          "base_uri": "https://localhost:8080/",
          "height": 34
        }
      },
      "source": [
        "(160 \n",
        " - 24 # number of overhead, bytes\n",
        " ) * 8"
      ],
      "execution_count": 0,
      "outputs": [
        {
          "output_type": "execute_result",
          "data": {
            "text/plain": [
              "1088"
            ]
          },
          "metadata": {
            "tags": []
          },
          "execution_count": 9
        },
        {
          "output_type": "stream",
          "text": [
            "time: 3.19 ms\n"
          ],
          "name": "stdout"
        }
      ]
    },
    {
      "cell_type": "code",
      "metadata": {
        "id": "WYMno_Z_l0bY",
        "colab_type": "code",
        "outputId": "68e41fed-08a2-4c41-80e2-bcb021a924a1",
        "colab": {
          "base_uri": "https://localhost:8080/",
          "height": 54
        }
      },
      "source": [
        "2**1000"
      ],
      "execution_count": 0,
      "outputs": [
        {
          "output_type": "execute_result",
          "data": {
            "text/plain": [
              "10715086071862673209484250490600018105614048117055336074437503883703510511249361224931983788156958581275946729175531468251871452856923140435984577574698574803934567774824230985421074605062371141877954182153046474983581941267398767559165543946077062914571196477686542167660429831652624386837205668069376"
            ]
          },
          "metadata": {
            "tags": []
          },
          "execution_count": 10
        },
        {
          "output_type": "stream",
          "text": [
            "time: 3.42 ms\n"
          ],
          "name": "stdout"
        }
      ]
    },
    {
      "cell_type": "markdown",
      "metadata": {
        "id": "2MeJNmcjmHdp",
        "colab_type": "text"
      },
      "source": [
        "Larger integers will also slow down calculations."
      ]
    },
    {
      "cell_type": "code",
      "metadata": {
        "id": "1v5kKUmPl85y",
        "colab_type": "code",
        "outputId": "ef1deaad-99ee-4f62-9d8b-c3d6419d1756",
        "colab": {
          "base_uri": "https://localhost:8080/",
          "height": 34
        }
      },
      "source": [
        "import time\n",
        "\n",
        "def calc(a):\n",
        "    for i in range(10000000):\n",
        "        a * 2\n",
        "# We start with a small integer value for a (10):"
      ],
      "execution_count": 0,
      "outputs": [
        {
          "output_type": "stream",
          "text": [
            "time: 5.1 ms\n"
          ],
          "name": "stdout"
        }
      ]
    },
    {
      "cell_type": "code",
      "metadata": {
        "id": "VYMloRyymQG9",
        "colab_type": "code",
        "outputId": "cce4883b-4d38-4082-932f-693bd31ebf9c",
        "colab": {
          "base_uri": "https://localhost:8080/",
          "height": 51
        }
      },
      "source": [
        "start = time.perf_counter()\n",
        "calc(10)\n",
        "end = time.perf_counter()\n",
        "print(end - start)"
      ],
      "execution_count": 0,
      "outputs": [
        {
          "output_type": "stream",
          "text": [
            "0.4009422130002349\n",
            "time: 403 ms\n"
          ],
          "name": "stdout"
        }
      ]
    },
    {
      "cell_type": "code",
      "metadata": {
        "id": "lmc98c0Gmq7S",
        "colab_type": "code",
        "outputId": "2b074c23-4a66-48e7-90c1-78445faf82bb",
        "colab": {
          "base_uri": "https://localhost:8080/",
          "height": 51
        }
      },
      "source": [
        "start = time.perf_counter()\n",
        "calc(2**100)\n",
        "end = time.perf_counter()\n",
        "print(end - start)"
      ],
      "execution_count": 0,
      "outputs": [
        {
          "output_type": "stream",
          "text": [
            "0.6867921570001272\n",
            "time: 689 ms\n"
          ],
          "name": "stdout"
        }
      ]
    },
    {
      "cell_type": "code",
      "metadata": {
        "id": "JWUJWY-3mthK",
        "colab_type": "code",
        "outputId": "d50263a3-5bba-4823-93ac-83f54c836f07",
        "colab": {
          "base_uri": "https://localhost:8080/",
          "height": 51
        }
      },
      "source": [
        "start = time.perf_counter()\n",
        "calc(2**10000)\n",
        "end = time.perf_counter()\n",
        "print(end - start)"
      ],
      "execution_count": 0,
      "outputs": [
        {
          "output_type": "stream",
          "text": [
            "4.261457938000149\n",
            "time: 4.26 s\n"
          ],
          "name": "stdout"
        }
      ]
    },
    {
      "cell_type": "markdown",
      "metadata": {
        "id": "LVs6rOJdlE47",
        "colab_type": "text"
      },
      "source": [
        "## 3.Integers: Operations"
      ]
    },
    {
      "cell_type": "markdown",
      "metadata": {
        "id": "Hvb3ch9NlQnt",
        "colab_type": "text"
      },
      "source": [
        "![alt text](https://drive.google.com/uc?id=1Sxws5N8OoR0OjGVp13WSP8Kz5TBj-htK)"
      ]
    },
    {
      "cell_type": "markdown",
      "metadata": {
        "id": "wgU9nBMImGvf",
        "colab_type": "text"
      },
      "source": [
        "![alt text](https://drive.google.com/uc?id=1sW-4cBV3zl3da16mQ2FIBz-lptFH1130)"
      ]
    },
    {
      "cell_type": "markdown",
      "metadata": {
        "id": "aFSQSRXZnQAM",
        "colab_type": "text"
      },
      "source": [
        "![alt text](https://drive.google.com/uc?id=15PoAU8sEnaqZALbBg0esrypvUPx1K6SJ)"
      ]
    },
    {
      "cell_type": "markdown",
      "metadata": {
        "id": "oTgbLWj4n1N6",
        "colab_type": "text"
      },
      "source": [
        "![alt text](https://drive.google.com/uc?id=1Go-u-Kdd9WSTsXiYQplzgbfKvHkaOmfb)\n",
        "![alt text](https://drive.google.com/uc?id=1cshyv_Z4asG7FpNJOL-wHH0KVUiWyQAq)"
      ]
    },
    {
      "cell_type": "markdown",
      "metadata": {
        "id": "fGvvEUz6puWz",
        "colab_type": "text"
      },
      "source": [
        "![alt text](https://drive.google.com/uc?id=1rBbU56g585A7UJDQJjMkcxrqZxC9rGL6)"
      ]
    },
    {
      "cell_type": "code",
      "metadata": {
        "id": "HYeK9j6hmv8-",
        "colab_type": "code",
        "outputId": "3a4425e0-8cb7-4eff-803f-90914deb9893",
        "colab": {
          "base_uri": "https://localhost:8080/",
          "height": 34
        }
      },
      "source": [
        "# standard division operator `/` **always** results in a float value.\n",
        "type(10 / 2)"
      ],
      "execution_count": 0,
      "outputs": [
        {
          "output_type": "execute_result",
          "data": {
            "text/plain": [
              "float"
            ]
          },
          "metadata": {
            "tags": []
          },
          "execution_count": 2
        }
      ]
    },
    {
      "cell_type": "code",
      "metadata": {
        "id": "BW030bBjsQDS",
        "colab_type": "code",
        "outputId": "ad2f8623-0bbe-4585-e56b-fd4d3499ad9c",
        "colab": {
          "base_uri": "https://localhost:8080/",
          "height": 34
        }
      },
      "source": [
        "import math\n",
        "math.floor(3.14)"
      ],
      "execution_count": 0,
      "outputs": [
        {
          "output_type": "execute_result",
          "data": {
            "text/plain": [
              "3"
            ]
          },
          "metadata": {
            "tags": []
          },
          "execution_count": 3
        }
      ]
    },
    {
      "cell_type": "code",
      "metadata": {
        "id": "15oDpV9osdNp",
        "colab_type": "code",
        "outputId": "0049d390-336a-4f1f-9b74-dd592a732395",
        "colab": {
          "base_uri": "https://localhost:8080/",
          "height": 34
        }
      },
      "source": [
        "math.floor(-3.60)"
      ],
      "execution_count": 0,
      "outputs": [
        {
          "output_type": "execute_result",
          "data": {
            "text/plain": [
              "-4"
            ]
          },
          "metadata": {
            "tags": []
          },
          "execution_count": 4
        }
      ]
    },
    {
      "cell_type": "code",
      "metadata": {
        "id": "WM6gh_2vskDV",
        "colab_type": "code",
        "outputId": "98d4458b-6de3-4ec6-de1f-a217604be3cc",
        "colab": {
          "base_uri": "https://localhost:8080/",
          "height": 34
        }
      },
      "source": [
        "math.floor(-3.0005)"
      ],
      "execution_count": 0,
      "outputs": [
        {
          "output_type": "execute_result",
          "data": {
            "text/plain": [
              "-4"
            ]
          },
          "metadata": {
            "tags": []
          },
          "execution_count": 5
        }
      ]
    },
    {
      "cell_type": "code",
      "metadata": {
        "id": "7CPpmYbGsqOs",
        "colab_type": "code",
        "outputId": "4e9fc8b0-da78-4461-fecd-d8fc222ba9f8",
        "colab": {
          "base_uri": "https://localhost:8080/",
          "height": 34
        }
      },
      "source": [
        "math.floor(-3.0000000000000001)"
      ],
      "execution_count": 0,
      "outputs": [
        {
          "output_type": "execute_result",
          "data": {
            "text/plain": [
              "-3"
            ]
          },
          "metadata": {
            "tags": []
          },
          "execution_count": 11
        }
      ]
    },
    {
      "cell_type": "markdown",
      "metadata": {
        "id": "CHz6gGSbtAum",
        "colab_type": "text"
      },
      "source": [
        "Wait what is ging on!?\n",
        "</br>\n",
        "It is because of limited precision for float in Python"
      ]
    },
    {
      "cell_type": "markdown",
      "metadata": {
        "id": "24TOFjiptW6s",
        "colab_type": "text"
      },
      "source": [
        "#### 3.1. The Floor Division Operator"
      ]
    },
    {
      "cell_type": "code",
      "metadata": {
        "id": "dsble-I-s2KE",
        "colab_type": "code",
        "outputId": "0bb68f6c-5a0a-4c54-bd53-a5f0cf13082c",
        "colab": {
          "base_uri": "https://localhost:8080/",
          "height": 68
        }
      },
      "source": [
        "a = 33\n",
        "b = 16\n",
        "print(a/b)\n",
        "print(a//b)\n",
        "print(math.floor(a/b))"
      ],
      "execution_count": 0,
      "outputs": [
        {
          "output_type": "stream",
          "text": [
            "2.0625\n",
            "2\n",
            "2\n"
          ],
          "name": "stdout"
        }
      ]
    },
    {
      "cell_type": "markdown",
      "metadata": {
        "id": "ZUi-Ugentclp",
        "colab_type": "text"
      },
      "source": [
        "For positive numbers, `a//b` is basically the same as truncating (taking the integer portion) of `a / b`.\n",
        "</br>\n",
        "But this is **not** the case for negative numbers."
      ]
    },
    {
      "cell_type": "code",
      "metadata": {
        "id": "EaPA3P0ytY-O",
        "colab_type": "code",
        "outputId": "3e02ed0f-2ca5-4d22-cd8e-fd2fc931ece6",
        "colab": {
          "base_uri": "https://localhost:8080/",
          "height": 85
        }
      },
      "source": [
        "a = -33\n",
        "b = 16\n",
        "print('{0}/{1} = {2}'.format(a, b, a/b))\n",
        "print('trunc({0}/{1}) = {2}'.format(a, b, math.trunc(a/b)))\n",
        "print('{0}//{1} = {2}'.format(a, b, a//b))\n",
        "print('floor({0}//{1}) = {2}'.format(a, b, math.floor(a/b)))"
      ],
      "execution_count": 0,
      "outputs": [
        {
          "output_type": "stream",
          "text": [
            "-33/16 = -2.0625\n",
            "trunc(-33/16) = -2\n",
            "-33//16 = -3\n",
            "floor(-33//16) = -3\n"
          ],
          "name": "stdout"
        }
      ]
    },
    {
      "cell_type": "code",
      "metadata": {
        "id": "m63Gn3lZtkL4",
        "colab_type": "code",
        "outputId": "c1a89d77-2e2a-4a88-d5f5-2ff892dc1acd",
        "colab": {
          "base_uri": "https://localhost:8080/",
          "height": 85
        }
      },
      "source": [
        "a = 33\n",
        "b = -16\n",
        "print('{0}/{1} = {2}'.format(a, b, a/b))\n",
        "print('trunc({0}/{1}) = {2}'.format(a, b, math.trunc(a/b)))\n",
        "print('{0}//{1} = {2}'.format(a, b, a//b))\n",
        "print('floor({0}//{1}) = {2}'.format(a, b, math.floor(a/b)))"
      ],
      "execution_count": 0,
      "outputs": [
        {
          "output_type": "stream",
          "text": [
            "33/-16 = -2.0625\n",
            "trunc(33/-16) = -2\n",
            "33//-16 = -3\n",
            "floor(33//-16) = -3\n"
          ],
          "name": "stdout"
        }
      ]
    },
    {
      "cell_type": "markdown",
      "metadata": {
        "id": "kdY2p3P6uESe",
        "colab_type": "text"
      },
      "source": [
        "#### 3.2. The Modulo Operator"
      ]
    },
    {
      "cell_type": "markdown",
      "metadata": {
        "id": "OdOvcMbvuGr4",
        "colab_type": "text"
      },
      "source": [
        "The modulo operator and the floor division operator will always satisfy the following equation:\n",
        "\n",
        "``a = b * (a // b) + a % b``"
      ]
    },
    {
      "cell_type": "code",
      "metadata": {
        "id": "wL8Panwot9uj",
        "colab_type": "code",
        "outputId": "13009eab-774f-4967-c0b6-2da0f2795a08",
        "colab": {
          "base_uri": "https://localhost:8080/",
          "height": 85
        }
      },
      "source": [
        "a = 13\n",
        "b = 4\n",
        "print('{0}/{1} = {2}'.format(a, b, a/b))\n",
        "print('{0}//{1} = {2}'.format(a, b, a//b))\n",
        "print('{0}%{1} = {2}'.format(a, b, a%b))\n",
        "print(a == b * (a//b) + a%b)"
      ],
      "execution_count": 0,
      "outputs": [
        {
          "output_type": "stream",
          "text": [
            "13/4 = 3.25\n",
            "13//4 = 3\n",
            "13%4 = 1\n",
            "True\n"
          ],
          "name": "stdout"
        }
      ]
    },
    {
      "cell_type": "code",
      "metadata": {
        "id": "1tt-_zkmuIcJ",
        "colab_type": "code",
        "outputId": "40d7b127-ac04-4fec-da0a-38e23da75c27",
        "colab": {
          "base_uri": "https://localhost:8080/",
          "height": 85
        }
      },
      "source": [
        "a = -13\n",
        "b = 4\n",
        "print('{0}/{1} = {2}'.format(a, b, a/b))\n",
        "print('{0}//{1} = {2}'.format(a, b, a//b))\n",
        "print('{0}%{1} = {2}'.format(a, b, a%b))\n",
        "print(a == b * (a//b) + a%b)"
      ],
      "execution_count": 0,
      "outputs": [
        {
          "output_type": "stream",
          "text": [
            "-13/4 = -3.25\n",
            "-13//4 = -4\n",
            "-13%4 = 3\n",
            "True\n"
          ],
          "name": "stdout"
        }
      ]
    },
    {
      "cell_type": "code",
      "metadata": {
        "id": "SlP0ap-TuPg8",
        "colab_type": "code",
        "outputId": "b1758f04-a761-46dd-c6ec-c559e4998005",
        "colab": {
          "base_uri": "https://localhost:8080/",
          "height": 85
        }
      },
      "source": [
        "a = 13\n",
        "b = -4\n",
        "print('{0}/{1} = {2}'.format(a, b, a/b))\n",
        "print('{0}//{1} = {2}'.format(a, b, a//b))\n",
        "print('{0}%{1} = {2}'.format(a, b, a%b))\n",
        "print(a == b * (a//b) + a%b)"
      ],
      "execution_count": 0,
      "outputs": [
        {
          "output_type": "stream",
          "text": [
            "13/-4 = -3.25\n",
            "13//-4 = -4\n",
            "13%-4 = -3\n",
            "True\n"
          ],
          "name": "stdout"
        }
      ]
    },
    {
      "cell_type": "code",
      "metadata": {
        "id": "U-8zGHaruQ_y",
        "colab_type": "code",
        "outputId": "a37eeabf-3740-4606-d158-4fd1991ced9c",
        "colab": {
          "base_uri": "https://localhost:8080/",
          "height": 85
        }
      },
      "source": [
        "a = -13\n",
        "b = -4\n",
        "print('{0}/{1} = {2}'.format(a, b, a/b))\n",
        "print('{0}//{1} = {2}'.format(a, b, a//b))\n",
        "print('{0}%{1} = {2}'.format(a, b, a%b))\n",
        "print(a == b * (a//b) + a%b)"
      ],
      "execution_count": 0,
      "outputs": [
        {
          "output_type": "stream",
          "text": [
            "-13/-4 = 3.25\n",
            "-13//-4 = 3\n",
            "-13%-4 = -1\n",
            "True\n"
          ],
          "name": "stdout"
        }
      ]
    },
    {
      "cell_type": "markdown",
      "metadata": {
        "id": "NTM9GyV4lndW",
        "colab_type": "text"
      },
      "source": [
        "## 4.INTEGERS: Constructor and Bases (Part 1)"
      ]
    },
    {
      "cell_type": "markdown",
      "metadata": {
        "id": "W4Z6Moqunj94",
        "colab_type": "text"
      },
      "source": [
        "![alt text](https://drive.google.com/uc?id=1ACGOeXMVdvHnCqlvZQgYDbWEY3qQp1vC)"
      ]
    },
    {
      "cell_type": "markdown",
      "metadata": {
        "id": "AQHZR2hSnkiC",
        "colab_type": "text"
      },
      "source": [
        "![alt text](https://drive.google.com/uc?id=1A6VDdgyDk-bHmYiwRNFqq7caeqrLzYbr)"
      ]
    },
    {
      "cell_type": "markdown",
      "metadata": {
        "id": "Ed1IZRJgXPk7",
        "colab_type": "text"
      },
      "source": [
        "It is BETTER to use explicitly `base=16` for example.\n",
        "</br>\n",
        "Max. number of base is **36** because there are 26 letters **[a-z]** and 10 numbers **[0-9]**"
      ]
    },
    {
      "cell_type": "markdown",
      "metadata": {
        "id": "WzQBK5mkptbD",
        "colab_type": "text"
      },
      "source": [
        "![alt text](https://drive.google.com/uc?id=1TaXefPpnz_U3TqcJ0FcyenVu25jSIKGH)"
      ]
    },
    {
      "cell_type": "markdown",
      "metadata": {
        "id": "lAOui_VzrQFy",
        "colab_type": "text"
      },
      "source": [
        "![alt text](https://drive.google.com/uc?id=1MdkyubAKViBIuU9KfBrKZvGOq744kQAM)"
      ]
    },
    {
      "cell_type": "markdown",
      "metadata": {
        "id": "M6pFFf6frdwo",
        "colab_type": "text"
      },
      "source": [
        "![alt text](https://drive.google.com/uc?id=1an_d9qDgVQwsz-RZaHR2UnER9u2buTxV)"
      ]
    },
    {
      "cell_type": "markdown",
      "metadata": {
        "id": "z4QYHC1NryZm",
        "colab_type": "text"
      },
      "source": [
        "![alt text](https://drive.google.com/uc?id=1XrhnusfQq0GWTT6jmqu21NZVDaH-8oST)\n"
      ]
    },
    {
      "cell_type": "markdown",
      "metadata": {
        "id": "jMUis3PwsN-R",
        "colab_type": "text"
      },
      "source": [
        "![alt text](https://drive.google.com/uc?id=19NeBUnctfHItoPm9WEJRiXhBPT1uHLMz)"
      ]
    },
    {
      "cell_type": "markdown",
      "metadata": {
        "id": "IcxjIJlfsNhF",
        "colab_type": "text"
      },
      "source": [
        "![alt text](https://drive.google.com/uc?id=1aDEbdAo_zbU7HHzsQ9d8BpYSvx38ptGj)"
      ]
    },
    {
      "cell_type": "markdown",
      "metadata": {
        "id": "27DZtLZifmNC",
        "colab_type": "text"
      },
      "source": [
        "### 4.INTEGERS: Constructor and Bases (Part 2) => Exercises"
      ]
    },
    {
      "cell_type": "code",
      "metadata": {
        "id": "sJmprdTUuSTt",
        "colab_type": "code",
        "outputId": "423a0cb8-44aa-44a9-99c8-74a734f11305",
        "colab": {
          "base_uri": "https://localhost:8080/",
          "height": 67
        }
      },
      "source": [
        "from fractions import Fraction\n",
        "\n",
        "a = Fraction(22 / 7)\n",
        "\n",
        "print(float(a))\n",
        "print(int(a))"
      ],
      "execution_count": 0,
      "outputs": [
        {
          "output_type": "stream",
          "text": [
            "3.142857142857143\n",
            "3\n",
            "time: 2.89 ms\n"
          ],
          "name": "stdout"
        }
      ]
    },
    {
      "cell_type": "code",
      "metadata": {
        "id": "aXIVtUy8m3Zr",
        "colab_type": "code",
        "outputId": "b9b7b210-713c-46d0-8a4b-12d8cb8f753c",
        "colab": {
          "base_uri": "https://localhost:8080/",
          "height": 34
        }
      },
      "source": [
        "int(\"101\", base=2)"
      ],
      "execution_count": 0,
      "outputs": [
        {
          "output_type": "execute_result",
          "data": {
            "text/plain": [
              "5"
            ]
          },
          "metadata": {
            "tags": []
          },
          "execution_count": 5
        },
        {
          "output_type": "stream",
          "text": [
            "time: 7.95 ms\n"
          ],
          "name": "stdout"
        }
      ]
    },
    {
      "cell_type": "markdown",
      "metadata": {
        "id": "VjEoYpf0nZGz",
        "colab_type": "text"
      },
      "source": [
        "Python uses ``a-z`` for bases from 11 to 36.\n",
        "</br>\n",
        "Note that the letters are not case sensitive."
      ]
    },
    {
      "cell_type": "code",
      "metadata": {
        "id": "IE0gmCeinX5M",
        "colab_type": "code",
        "outputId": "2917220e-b812-4ab1-cb06-78fd90cf6cb9",
        "colab": {
          "base_uri": "https://localhost:8080/",
          "height": 67
        }
      },
      "source": [
        "print(int(\"F1A\", base=16))\n",
        "print(int(\"f1a\", base=16))"
      ],
      "execution_count": 0,
      "outputs": [
        {
          "output_type": "stream",
          "text": [
            "3866\n",
            "3866\n",
            "time: 1.94 ms\n"
          ],
          "name": "stdout"
        }
      ]
    },
    {
      "cell_type": "markdown",
      "metadata": {
        "id": "72_QMXcnxfrC",
        "colab_type": "text"
      },
      "source": [
        "#### Base Representations"
      ]
    },
    {
      "cell_type": "code",
      "metadata": {
        "id": "zUnAPcL_nnWt",
        "colab_type": "code",
        "outputId": "00e0bcc0-e0fc-432c-c79f-f02091dc65c4",
        "colab": {
          "base_uri": "https://localhost:8080/",
          "height": 84
        }
      },
      "source": [
        "print(f'binary representation of 10: {bin(10)}')\n",
        "print(f'octaal representation of 10: {oct(10)}')\n",
        "print(f'hexadcimal representation of 10: {hex(10)}')"
      ],
      "execution_count": 0,
      "outputs": [
        {
          "output_type": "stream",
          "text": [
            "binary representation of 10: 0b1010\n",
            "octaal representation of 10: 0o12\n",
            "hexadcimal representation of 10: 0xa\n",
            "time: 3.11 ms\n"
          ],
          "name": "stdout"
        }
      ]
    },
    {
      "cell_type": "markdown",
      "metadata": {
        "id": "Xq9bTojK64NT",
        "colab_type": "text"
      },
      "source": [
        "Note the `0b`, `0o` and `0x` prefixes"
      ]
    },
    {
      "cell_type": "code",
      "metadata": {
        "id": "WJIG610YxpEQ",
        "colab_type": "code",
        "outputId": "f9602183-8642-4037-e795-ed54e9e5cbe9",
        "colab": {
          "base_uri": "https://localhost:8080/",
          "height": 50
        }
      },
      "source": [
        "a = int('1010', 2)\n",
        "b = int('0b1010', 2)\n",
        "c = 0b1010\n",
        "print(a, b, c)"
      ],
      "execution_count": 0,
      "outputs": [
        {
          "output_type": "stream",
          "text": [
            "10 10 10\n",
            "time: 3.15 ms\n"
          ],
          "name": "stdout"
        }
      ]
    },
    {
      "cell_type": "markdown",
      "metadata": {
        "id": "heDcp6lV7AK3",
        "colab_type": "text"
      },
      "source": [
        "For literals, the ``a-z`` characters are not case-sensitive either"
      ]
    },
    {
      "cell_type": "code",
      "metadata": {
        "id": "zy9r7-Vs660x",
        "colab_type": "code",
        "outputId": "8316342a-7c19-4025-8520-724d4461cfee",
        "colab": {
          "base_uri": "https://localhost:8080/",
          "height": 50
        }
      },
      "source": [
        "a = 0xf1a\n",
        "b = 0xF1a\n",
        "c = 0xF1A\n",
        "print(a, b, c)"
      ],
      "execution_count": 0,
      "outputs": [
        {
          "output_type": "stream",
          "text": [
            "3866 3866 3866\n",
            "time: 6.45 ms\n"
          ],
          "name": "stdout"
        }
      ]
    },
    {
      "cell_type": "markdown",
      "metadata": {
        "id": "q3fpEKsU8q7z",
        "colab_type": "text"
      },
      "source": [
        "#### Custom Rebasing"
      ]
    },
    {
      "cell_type": "markdown",
      "metadata": {
        "id": "xjH-LHXT8tCC",
        "colab_type": "text"
      },
      "source": [
        "Python only provides built-in function to rebase to base 2, 8 and 16.\n",
        "\n",
        "For other bases, you have to provide your own algorithm (or leverage some 3rd party library of your choice)"
      ]
    },
    {
      "cell_type": "code",
      "metadata": {
        "id": "uqvLUUH_7CX9",
        "colab_type": "code",
        "outputId": "ac694293-1ddd-4fd0-d79e-48860e2adb22",
        "colab": {
          "base_uri": "https://localhost:8080/",
          "height": 34
        }
      },
      "source": [
        "def from_base10(n, b):\n",
        "    if b < 2:\n",
        "        raise ValueError('Base b must be >= 2')\n",
        "    if n < 0:\n",
        "        raise ValueError('Number n must be >= 0')\n",
        "    if n == 0:\n",
        "        return [0]\n",
        "    digits = []\n",
        "    while n > 0:\n",
        "        # m = n % b\n",
        "        # n = n // b\n",
        "        # which is the same as:\n",
        "        n, m = divmod(n, b)\n",
        "        digits.insert(0, m)\n",
        "    return digits"
      ],
      "execution_count": 0,
      "outputs": [
        {
          "output_type": "stream",
          "text": [
            "time: 9.17 ms\n"
          ],
          "name": "stdout"
        }
      ]
    },
    {
      "cell_type": "code",
      "metadata": {
        "id": "18A-Juh09-24",
        "colab_type": "code",
        "outputId": "802294aa-3e4c-4fd6-9ed1-0a105665b9d7",
        "colab": {
          "base_uri": "https://localhost:8080/",
          "height": 34
        }
      },
      "source": [
        "from_base10(255, 16)"
      ],
      "execution_count": 0,
      "outputs": [
        {
          "output_type": "execute_result",
          "data": {
            "text/plain": [
              "[15, 15]"
            ]
          },
          "metadata": {
            "tags": []
          },
          "execution_count": 14
        },
        {
          "output_type": "stream",
          "text": [
            "time: 2.9 ms\n"
          ],
          "name": "stdout"
        }
      ]
    },
    {
      "cell_type": "markdown",
      "metadata": {
        "id": "5l2Ntxrw-CkR",
        "colab_type": "text"
      },
      "source": [
        "Next we may want to encode the digits into strings using different characters for each digit in the base"
      ]
    },
    {
      "cell_type": "code",
      "metadata": {
        "id": "Dm7Ra5rF9_Ub",
        "colab_type": "code",
        "outputId": "b2b483f8-808b-4634-d5cd-e9894bb53f5b",
        "colab": {
          "base_uri": "https://localhost:8080/",
          "height": 34
        }
      },
      "source": [
        "def encode(digits, digit_map):\n",
        "    # we require that digit_map has at least as many\n",
        "    # characters as the max number in digits\n",
        "    if max(digits) >= len(digit_map):\n",
        "        raise ValueError(\"digit_map is not long enough to encode digits\")\n",
        "    \n",
        "    # we'll see this later, but the following would be better:\n",
        "    return ''.join([digit_map[d] for d in digits])\n",
        "    \n",
        "    "
      ],
      "execution_count": 0,
      "outputs": [
        {
          "output_type": "stream",
          "text": [
            "time: 2.33 ms\n"
          ],
          "name": "stdout"
        }
      ]
    },
    {
      "cell_type": "code",
      "metadata": {
        "id": "dHOWcy0O-DEN",
        "colab_type": "code",
        "outputId": "9258d086-8972-40e1-897c-bdc79b30a91d",
        "colab": {
          "base_uri": "https://localhost:8080/",
          "height": 34
        }
      },
      "source": [
        "encode([1, 0, 1], \"FT\")"
      ],
      "execution_count": 0,
      "outputs": [
        {
          "output_type": "execute_result",
          "data": {
            "text/plain": [
              "'TFT'"
            ]
          },
          "metadata": {
            "tags": []
          },
          "execution_count": 19
        },
        {
          "output_type": "stream",
          "text": [
            "time: 3.96 ms\n"
          ],
          "name": "stdout"
        }
      ]
    },
    {
      "cell_type": "code",
      "metadata": {
        "id": "BACUiOCf-FB0",
        "colab_type": "code",
        "outputId": "80a4ef24-df8e-4828-c3a1-6748a1d3e809",
        "colab": {
          "base_uri": "https://localhost:8080/",
          "height": 34
        }
      },
      "source": [
        "encode([1, 10, 11], '0123456789AB')"
      ],
      "execution_count": 0,
      "outputs": [
        {
          "output_type": "execute_result",
          "data": {
            "text/plain": [
              "'1AB'"
            ]
          },
          "metadata": {
            "tags": []
          },
          "execution_count": 17
        },
        {
          "output_type": "stream",
          "text": [
            "time: 3.21 ms\n"
          ],
          "name": "stdout"
        }
      ]
    },
    {
      "cell_type": "markdown",
      "metadata": {
        "id": "SmX7ggFV-KAd",
        "colab_type": "text"
      },
      "source": [
        "And we can combine both functions into a single one for easier use:"
      ]
    },
    {
      "cell_type": "code",
      "metadata": {
        "id": "IdZMSJiD-GWp",
        "colab_type": "code",
        "outputId": "95f6e5c9-ebfd-46d0-f07d-1c91edc0d991",
        "colab": {
          "base_uri": "https://localhost:8080/",
          "height": 34
        }
      },
      "source": [
        "def rebase_from10(number, base):\n",
        "    digit_map = '0123456789ABCDEFGHIJKLMNOPQRSTUVWXYZ'\n",
        "    if base < 2 or base > 36:\n",
        "        raise ValueError('Invalid base: 2 <= base <= 36')\n",
        "    # we store the sign of number and make it positive\n",
        "    # we'll re-insert the sign at the end\n",
        "    sign = -1 if number < 0 else 1\n",
        "    number *= sign\n",
        "    \n",
        "    digits = from_base10(number, base)\n",
        "    encoding = encode(digits, digit_map)\n",
        "    if sign == -1:\n",
        "        encoding = '-' + encoding\n",
        "    return encoding"
      ],
      "execution_count": 0,
      "outputs": [
        {
          "output_type": "stream",
          "text": [
            "time: 6.47 ms\n"
          ],
          "name": "stdout"
        }
      ]
    },
    {
      "cell_type": "code",
      "metadata": {
        "id": "gkLW5CJt_Olf",
        "colab_type": "code",
        "outputId": "ed705d81-799f-48ef-be69-f571aed2927a",
        "colab": {
          "base_uri": "https://localhost:8080/",
          "height": 67
        }
      },
      "source": [
        "e = rebase_from10(10, 2)\n",
        "print(e)\n",
        "print(int(e, 2))"
      ],
      "execution_count": 0,
      "outputs": [
        {
          "output_type": "stream",
          "text": [
            "1010\n",
            "10\n",
            "time: 2.5 ms\n"
          ],
          "name": "stdout"
        }
      ]
    },
    {
      "cell_type": "code",
      "metadata": {
        "id": "1B8JD3Zy_PM5",
        "colab_type": "code",
        "outputId": "029b4627-f8b2-4ebb-b4d7-a0185a4e7cb5",
        "colab": {
          "base_uri": "https://localhost:8080/",
          "height": 67
        }
      },
      "source": [
        "e = rebase_from10(-10, 2)\n",
        "print(e)\n",
        "print(int(e, 2))"
      ],
      "execution_count": 0,
      "outputs": [
        {
          "output_type": "stream",
          "text": [
            "-1010\n",
            "-10\n",
            "time: 2.7 ms\n"
          ],
          "name": "stdout"
        }
      ]
    },
    {
      "cell_type": "code",
      "metadata": {
        "id": "FapuV7X-_Q5V",
        "colab_type": "code",
        "outputId": "a0927892-4ad6-4d88-91e3-64a78221a145",
        "colab": {
          "base_uri": "https://localhost:8080/",
          "height": 34
        }
      },
      "source": [
        "rebase_from10(131, 11)"
      ],
      "execution_count": 0,
      "outputs": [
        {
          "output_type": "execute_result",
          "data": {
            "text/plain": [
              "'10A'"
            ]
          },
          "metadata": {
            "tags": []
          },
          "execution_count": 23
        },
        {
          "output_type": "stream",
          "text": [
            "time: 3.42 ms\n"
          ],
          "name": "stdout"
        }
      ]
    },
    {
      "cell_type": "code",
      "metadata": {
        "id": "3EqGbMFw_S14",
        "colab_type": "code",
        "outputId": "bb10486d-c468-42c0-a273-bf2f9328006a",
        "colab": {
          "base_uri": "https://localhost:8080/",
          "height": 34
        }
      },
      "source": [
        "rebase_from10(4095, 16)"
      ],
      "execution_count": 0,
      "outputs": [
        {
          "output_type": "execute_result",
          "data": {
            "text/plain": [
              "'FFF'"
            ]
          },
          "metadata": {
            "tags": []
          },
          "execution_count": 24
        },
        {
          "output_type": "stream",
          "text": [
            "time: 2.33 ms\n"
          ],
          "name": "stdout"
        }
      ]
    },
    {
      "cell_type": "code",
      "metadata": {
        "id": "FOoz-mWE_USi",
        "colab_type": "code",
        "outputId": "cb888750-2813-48df-c21b-e06776ba83ea",
        "colab": {
          "base_uri": "https://localhost:8080/",
          "height": 34
        }
      },
      "source": [
        "rebase_from10(-4095, 16)"
      ],
      "execution_count": 0,
      "outputs": [
        {
          "output_type": "execute_result",
          "data": {
            "text/plain": [
              "'-FFF'"
            ]
          },
          "metadata": {
            "tags": []
          },
          "execution_count": 25
        },
        {
          "output_type": "stream",
          "text": [
            "time: 3.12 ms\n"
          ],
          "name": "stdout"
        }
      ]
    },
    {
      "cell_type": "markdown",
      "metadata": {
        "id": "Dvbv82Tv-B_x",
        "colab_type": "text"
      },
      "source": [
        "## 5.Rational Numbers"
      ]
    },
    {
      "cell_type": "markdown",
      "metadata": {
        "id": "nQrbccX3-Ghj",
        "colab_type": "text"
      },
      "source": [
        "![alt text](https://drive.google.com/uc?id=1sH3CSU3YVO-4K2wIdgJCD5B5DHE6046V)"
      ]
    },
    {
      "cell_type": "markdown",
      "metadata": {
        "id": "u3ZihyEE-lyP",
        "colab_type": "text"
      },
      "source": [
        "![alt text](https://drive.google.com/uc?id=1nwUA3tPA8qkqmtFJ4WUYevIXrRef95_w)"
      ]
    },
    {
      "cell_type": "markdown",
      "metadata": {
        "id": "tb7ia_hu-56k",
        "colab_type": "text"
      },
      "source": [
        "![alt text](https://drive.google.com/uc?id=1N5DJi0XzPxpkudrMCpzpfFCPEgtbnIjD)"
      ]
    },
    {
      "cell_type": "markdown",
      "metadata": {
        "id": "7rqcRgIm_HaU",
        "colab_type": "text"
      },
      "source": [
        "![alt text](https://drive.google.com/uc?id=11P5Ir0N8jk9dQp0WriTltyk2cSSH239v)"
      ]
    },
    {
      "cell_type": "markdown",
      "metadata": {
        "id": "d6Uyl8kr_Tti",
        "colab_type": "text"
      },
      "source": [
        "![alt text](https://drive.google.com/uc?id=1EB_7hUEZwR_XaEMhDIrbnuKV5S4NH_xC)"
      ]
    },
    {
      "cell_type": "markdown",
      "metadata": {
        "id": "zl_cxEVs_of2",
        "colab_type": "text"
      },
      "source": [
        "![alt text](https://drive.google.com/uc?id=1iYbg5uc-DpJ_lOoBPAeROV4RIt3ng_Bz)"
      ]
    },
    {
      "cell_type": "markdown",
      "metadata": {
        "id": "70Rwmoja_5Z3",
        "colab_type": "text"
      },
      "source": [
        "![alt text](https://drive.google.com/uc?id=1SmVsT0QnFPeGPkygrByKw9PN7uW9Kxf3)"
      ]
    },
    {
      "cell_type": "markdown",
      "metadata": {
        "id": "19Ud1lLzJEPV",
        "colab_type": "text"
      },
      "source": [
        "### Coding Time"
      ]
    },
    {
      "cell_type": "code",
      "metadata": {
        "id": "CUaHinWw-gBM",
        "colab_type": "code",
        "outputId": "3caa8a36-42ce-4b32-b70f-3eba1493767d",
        "colab": {
          "base_uri": "https://localhost:8080/",
          "height": 1000
        }
      },
      "source": [
        "from fractions import Fraction\n",
        "help(Fraction)"
      ],
      "execution_count": 0,
      "outputs": [
        {
          "output_type": "stream",
          "text": [
            "Help on class Fraction in module fractions:\n",
            "\n",
            "class Fraction(numbers.Rational)\n",
            " |  This class implements rational numbers.\n",
            " |  \n",
            " |  In the two-argument form of the constructor, Fraction(8, 6) will\n",
            " |  produce a rational number equivalent to 4/3. Both arguments must\n",
            " |  be Rational. The numerator defaults to 0 and the denominator\n",
            " |  defaults to 1 so that Fraction(3) == 3 and Fraction() == 0.\n",
            " |  \n",
            " |  Fractions can also be constructed from:\n",
            " |  \n",
            " |    - numeric strings similar to those accepted by the\n",
            " |      float constructor (for example, '-2.3' or '1e10')\n",
            " |  \n",
            " |    - strings of the form '123/456'\n",
            " |  \n",
            " |    - float and Decimal instances\n",
            " |  \n",
            " |    - other Rational instances (including integers)\n",
            " |  \n",
            " |  Method resolution order:\n",
            " |      Fraction\n",
            " |      numbers.Rational\n",
            " |      numbers.Real\n",
            " |      numbers.Complex\n",
            " |      numbers.Number\n",
            " |      builtins.object\n",
            " |  \n",
            " |  Methods defined here:\n",
            " |  \n",
            " |  __abs__(a)\n",
            " |      abs(a)\n",
            " |  \n",
            " |  __add__(a, b)\n",
            " |      a + b\n",
            " |  \n",
            " |  __bool__(a)\n",
            " |      a != 0\n",
            " |  \n",
            " |  __ceil__(a)\n",
            " |      Will be math.ceil(a) in 3.0.\n",
            " |  \n",
            " |  __copy__(self)\n",
            " |  \n",
            " |  __deepcopy__(self, memo)\n",
            " |  \n",
            " |  __eq__(a, b)\n",
            " |      a == b\n",
            " |  \n",
            " |  __floor__(a)\n",
            " |      Will be math.floor(a) in 3.0.\n",
            " |  \n",
            " |  __floordiv__(a, b)\n",
            " |      a // b\n",
            " |  \n",
            " |  __ge__(a, b)\n",
            " |      a >= b\n",
            " |  \n",
            " |  __gt__(a, b)\n",
            " |      a > b\n",
            " |  \n",
            " |  __hash__(self)\n",
            " |      hash(self)\n",
            " |  \n",
            " |  __le__(a, b)\n",
            " |      a <= b\n",
            " |  \n",
            " |  __lt__(a, b)\n",
            " |      a < b\n",
            " |  \n",
            " |  __mod__(a, b)\n",
            " |      a % b\n",
            " |  \n",
            " |  __mul__(a, b)\n",
            " |      a * b\n",
            " |  \n",
            " |  __neg__(a)\n",
            " |      -a\n",
            " |  \n",
            " |  __pos__(a)\n",
            " |      +a: Coerces a subclass instance to Fraction\n",
            " |  \n",
            " |  __pow__(a, b)\n",
            " |      a ** b\n",
            " |      \n",
            " |      If b is not an integer, the result will be a float or complex\n",
            " |      since roots are generally irrational. If b is an integer, the\n",
            " |      result will be rational.\n",
            " |  \n",
            " |  __radd__(b, a)\n",
            " |      a + b\n",
            " |  \n",
            " |  __reduce__(self)\n",
            " |      helper for pickle\n",
            " |  \n",
            " |  __repr__(self)\n",
            " |      repr(self)\n",
            " |  \n",
            " |  __rfloordiv__(b, a)\n",
            " |      a // b\n",
            " |  \n",
            " |  __rmod__(b, a)\n",
            " |      a % b\n",
            " |  \n",
            " |  __rmul__(b, a)\n",
            " |      a * b\n",
            " |  \n",
            " |  __round__(self, ndigits=None)\n",
            " |      Will be round(self, ndigits) in 3.0.\n",
            " |      \n",
            " |      Rounds half toward even.\n",
            " |  \n",
            " |  __rpow__(b, a)\n",
            " |      a ** b\n",
            " |  \n",
            " |  __rsub__(b, a)\n",
            " |      a - b\n",
            " |  \n",
            " |  __rtruediv__(b, a)\n",
            " |      a / b\n",
            " |  \n",
            " |  __str__(self)\n",
            " |      str(self)\n",
            " |  \n",
            " |  __sub__(a, b)\n",
            " |      a - b\n",
            " |  \n",
            " |  __truediv__(a, b)\n",
            " |      a / b\n",
            " |  \n",
            " |  __trunc__(a)\n",
            " |      trunc(a)\n",
            " |  \n",
            " |  limit_denominator(self, max_denominator=1000000)\n",
            " |      Closest Fraction to self with denominator at most max_denominator.\n",
            " |      \n",
            " |      >>> Fraction('3.141592653589793').limit_denominator(10)\n",
            " |      Fraction(22, 7)\n",
            " |      >>> Fraction('3.141592653589793').limit_denominator(100)\n",
            " |      Fraction(311, 99)\n",
            " |      >>> Fraction(4321, 8765).limit_denominator(10000)\n",
            " |      Fraction(4321, 8765)\n",
            " |  \n",
            " |  ----------------------------------------------------------------------\n",
            " |  Class methods defined here:\n",
            " |  \n",
            " |  from_decimal(dec) from abc.ABCMeta\n",
            " |      Converts a finite Decimal instance to a rational number, exactly.\n",
            " |  \n",
            " |  from_float(f) from abc.ABCMeta\n",
            " |      Converts a finite float to a rational number, exactly.\n",
            " |      \n",
            " |      Beware that Fraction.from_float(0.3) != Fraction(3, 10).\n",
            " |  \n",
            " |  ----------------------------------------------------------------------\n",
            " |  Static methods defined here:\n",
            " |  \n",
            " |  __new__(cls, numerator=0, denominator=None, *, _normalize=True)\n",
            " |      Constructs a Rational.\n",
            " |      \n",
            " |      Takes a string like '3/2' or '1.5', another Rational instance, a\n",
            " |      numerator/denominator pair, or a float.\n",
            " |      \n",
            " |      Examples\n",
            " |      --------\n",
            " |      \n",
            " |      >>> Fraction(10, -8)\n",
            " |      Fraction(-5, 4)\n",
            " |      >>> Fraction(Fraction(1, 7), 5)\n",
            " |      Fraction(1, 35)\n",
            " |      >>> Fraction(Fraction(1, 7), Fraction(2, 3))\n",
            " |      Fraction(3, 14)\n",
            " |      >>> Fraction('314')\n",
            " |      Fraction(314, 1)\n",
            " |      >>> Fraction('-35/4')\n",
            " |      Fraction(-35, 4)\n",
            " |      >>> Fraction('3.1415') # conversion from numeric string\n",
            " |      Fraction(6283, 2000)\n",
            " |      >>> Fraction('-47e-2') # string may include a decimal exponent\n",
            " |      Fraction(-47, 100)\n",
            " |      >>> Fraction(1.47)  # direct construction from float (exact conversion)\n",
            " |      Fraction(6620291452234629, 4503599627370496)\n",
            " |      >>> Fraction(2.25)\n",
            " |      Fraction(9, 4)\n",
            " |      >>> Fraction(Decimal('1.47'))\n",
            " |      Fraction(147, 100)\n",
            " |  \n",
            " |  ----------------------------------------------------------------------\n",
            " |  Data descriptors defined here:\n",
            " |  \n",
            " |  denominator\n",
            " |  \n",
            " |  numerator\n",
            " |  \n",
            " |  ----------------------------------------------------------------------\n",
            " |  Data and other attributes defined here:\n",
            " |  \n",
            " |  __abstractmethods__ = frozenset()\n",
            " |  \n",
            " |  ----------------------------------------------------------------------\n",
            " |  Methods inherited from numbers.Rational:\n",
            " |  \n",
            " |  __float__(self)\n",
            " |      float(self) = self.numerator / self.denominator\n",
            " |      \n",
            " |      It's important that this conversion use the integer's \"true\"\n",
            " |      division rather than casting one side to float before dividing\n",
            " |      so that ratios of huge integers convert without overflowing.\n",
            " |  \n",
            " |  ----------------------------------------------------------------------\n",
            " |  Methods inherited from numbers.Real:\n",
            " |  \n",
            " |  __complex__(self)\n",
            " |      complex(self) == complex(float(self), 0)\n",
            " |  \n",
            " |  __divmod__(self, other)\n",
            " |      divmod(self, other): The pair (self // other, self % other).\n",
            " |      \n",
            " |      Sometimes this can be computed faster than the pair of\n",
            " |      operations.\n",
            " |  \n",
            " |  __rdivmod__(self, other)\n",
            " |      divmod(other, self): The pair (self // other, self % other).\n",
            " |      \n",
            " |      Sometimes this can be computed faster than the pair of\n",
            " |      operations.\n",
            " |  \n",
            " |  conjugate(self)\n",
            " |      Conjugate is a no-op for Reals.\n",
            " |  \n",
            " |  ----------------------------------------------------------------------\n",
            " |  Data descriptors inherited from numbers.Real:\n",
            " |  \n",
            " |  imag\n",
            " |      Real numbers have no imaginary component.\n",
            " |  \n",
            " |  real\n",
            " |      Real numbers are their real component.\n",
            "\n"
          ],
          "name": "stdout"
        }
      ]
    },
    {
      "cell_type": "markdown",
      "metadata": {
        "id": "TmYRSVvsKcKW",
        "colab_type": "text"
      },
      "source": [
        "We can create Fraction objects in a variety of ways:"
      ]
    },
    {
      "cell_type": "code",
      "metadata": {
        "id": "HsHQ7txzKXg-",
        "colab_type": "code",
        "outputId": "6c4c7468-3008-4f43-e464-64d9891f6617",
        "colab": {
          "base_uri": "https://localhost:8080/",
          "height": 85
        }
      },
      "source": [
        "print(Fraction(1))\n",
        "print(Fraction(numerator=1, denominator=3))\n",
        "print(Fraction(denominator=3, numerator=1))\n",
        "x = Fraction(2, 3)\n",
        "y = Fraction(3, 4)\n",
        "# 2/3 / 3/4 --> 2/3 * 4/3 --> 8/9\n",
        "print(Fraction(x, y))"
      ],
      "execution_count": 0,
      "outputs": [
        {
          "output_type": "stream",
          "text": [
            "1\n",
            "1/3\n",
            "1/3\n",
            "8/9\n"
          ],
          "name": "stdout"
        }
      ]
    },
    {
      "cell_type": "code",
      "metadata": {
        "id": "2LiqSJLWLWoG",
        "colab_type": "code",
        "outputId": "1bbab29e-d3a4-4983-929a-40a5f2be9447",
        "colab": {
          "base_uri": "https://localhost:8080/",
          "height": 34
        }
      },
      "source": [
        "Fraction('22/7')"
      ],
      "execution_count": 0,
      "outputs": [
        {
          "output_type": "execute_result",
          "data": {
            "text/plain": [
              "Fraction(22, 7)"
            ]
          },
          "metadata": {
            "tags": []
          },
          "execution_count": 9
        }
      ]
    },
    {
      "cell_type": "code",
      "metadata": {
        "id": "0QOtci5kLvLj",
        "colab_type": "code",
        "outputId": "9cd3958c-f8f0-465e-959f-c6d481487a96",
        "colab": {
          "base_uri": "https://localhost:8080/",
          "height": 34
        }
      },
      "source": [
        "Fraction('10')"
      ],
      "execution_count": 0,
      "outputs": [
        {
          "output_type": "execute_result",
          "data": {
            "text/plain": [
              "Fraction(10, 1)"
            ]
          },
          "metadata": {
            "tags": []
          },
          "execution_count": 10
        }
      ]
    },
    {
      "cell_type": "markdown",
      "metadata": {
        "id": "BJKGg09tLU2Y",
        "colab_type": "text"
      },
      "source": [
        "Fractions are automatically reduced:"
      ]
    },
    {
      "cell_type": "code",
      "metadata": {
        "id": "hYIpMnn8KjfH",
        "colab_type": "code",
        "outputId": "bb094956-f4b2-4e0e-a33c-621d855aca82",
        "colab": {
          "base_uri": "https://localhost:8080/",
          "height": 34
        }
      },
      "source": [
        "Fraction(8, 16)"
      ],
      "execution_count": 0,
      "outputs": [
        {
          "output_type": "execute_result",
          "data": {
            "text/plain": [
              "Fraction(1, 2)"
            ]
          },
          "metadata": {
            "tags": []
          },
          "execution_count": 11
        }
      ]
    },
    {
      "cell_type": "markdown",
      "metadata": {
        "id": "BJNSNBlQL2ga",
        "colab_type": "text"
      },
      "source": [
        "Negative sign is attached to the numerator:"
      ]
    },
    {
      "cell_type": "code",
      "metadata": {
        "id": "FXILhItpLy-y",
        "colab_type": "code",
        "outputId": "efbfddf0-ca80-4735-b76c-bb5aa8f300f7",
        "colab": {
          "base_uri": "https://localhost:8080/",
          "height": 34
        }
      },
      "source": [
        "x = Fraction(1, -4)\n",
        "x"
      ],
      "execution_count": 0,
      "outputs": [
        {
          "output_type": "execute_result",
          "data": {
            "text/plain": [
              "Fraction(-1, 4)"
            ]
          },
          "metadata": {
            "tags": []
          },
          "execution_count": 15
        }
      ]
    },
    {
      "cell_type": "code",
      "metadata": {
        "id": "P1uI_H0xMFE1",
        "colab_type": "code",
        "outputId": "b77a8f24-1f26-47bc-e4d5-99fb6b11a6f0",
        "colab": {
          "base_uri": "https://localhost:8080/",
          "height": 34
        }
      },
      "source": [
        "print(x.numerator, x.denominator)"
      ],
      "execution_count": 0,
      "outputs": [
        {
          "output_type": "stream",
          "text": [
            "-1 4\n"
          ],
          "name": "stdout"
        }
      ]
    },
    {
      "cell_type": "markdown",
      "metadata": {
        "id": "oZb0UIo8L8b_",
        "colab_type": "text"
      },
      "source": [
        "Standard arithmetic operators are supported:"
      ]
    },
    {
      "cell_type": "code",
      "metadata": {
        "id": "qlm7N2JCL5o8",
        "colab_type": "code",
        "outputId": "761fee12-bf8a-477b-8747-afffd9abeb01",
        "colab": {
          "base_uri": "https://localhost:8080/",
          "height": 34
        }
      },
      "source": [
        "Fraction(1, 3) + Fraction(1, 3) + Fraction(1, 3)"
      ],
      "execution_count": 0,
      "outputs": [
        {
          "output_type": "execute_result",
          "data": {
            "text/plain": [
              "Fraction(1, 1)"
            ]
          },
          "metadata": {
            "tags": []
          },
          "execution_count": 13
        }
      ]
    },
    {
      "cell_type": "code",
      "metadata": {
        "id": "g30LK89yMhwm",
        "colab_type": "code",
        "outputId": "41915877-af7b-4fb5-d8a1-9d2f568006a5",
        "colab": {
          "base_uri": "https://localhost:8080/",
          "height": 34
        }
      },
      "source": [
        "Fraction(1, 2) * Fraction(1, 4)"
      ],
      "execution_count": 0,
      "outputs": [
        {
          "output_type": "execute_result",
          "data": {
            "text/plain": [
              "Fraction(1, 8)"
            ]
          },
          "metadata": {
            "tags": []
          },
          "execution_count": 17
        }
      ]
    },
    {
      "cell_type": "code",
      "metadata": {
        "id": "HOK0Oy1_L_hu",
        "colab_type": "code",
        "outputId": "5909196e-0322-46d5-f11a-afc7e17e50e5",
        "colab": {
          "base_uri": "https://localhost:8080/",
          "height": 34
        }
      },
      "source": [
        "Fraction(1, 2) / Fraction(1, 3)"
      ],
      "execution_count": 0,
      "outputs": [
        {
          "output_type": "execute_result",
          "data": {
            "text/plain": [
              "Fraction(3, 2)"
            ]
          },
          "metadata": {
            "tags": []
          },
          "execution_count": 18
        }
      ]
    },
    {
      "cell_type": "code",
      "metadata": {
        "id": "Dd9FRkUzMkJO",
        "colab_type": "code",
        "outputId": "289c3dfc-4e4a-4188-f8df-105d25814cd4",
        "colab": {
          "base_uri": "https://localhost:8080/",
          "height": 34
        }
      },
      "source": [
        "import math\n",
        "\n",
        "x = Fraction(math.pi)\n",
        "x"
      ],
      "execution_count": 0,
      "outputs": [
        {
          "output_type": "execute_result",
          "data": {
            "text/plain": [
              "Fraction(884279719003555, 281474976710656)"
            ]
          },
          "metadata": {
            "tags": []
          },
          "execution_count": 19
        }
      ]
    },
    {
      "cell_type": "code",
      "metadata": {
        "id": "zacHeja3Mtac",
        "colab_type": "code",
        "outputId": "6598e46e-2de8-410e-8ac7-4061f63cb123",
        "colab": {
          "base_uri": "https://localhost:8080/",
          "height": 34
        }
      },
      "source": [
        "y = Fraction(math.sqrt(2))\n",
        "y"
      ],
      "execution_count": 0,
      "outputs": [
        {
          "output_type": "execute_result",
          "data": {
            "text/plain": [
              "Fraction(6369051672525773, 4503599627370496)"
            ]
          },
          "metadata": {
            "tags": []
          },
          "execution_count": 20
        }
      ]
    },
    {
      "cell_type": "code",
      "metadata": {
        "id": "M9_plg3TM2x_",
        "colab_type": "code",
        "outputId": "41fe4e0a-7cb7-42d9-de69-d0a2f2caa3c7",
        "colab": {
          "base_uri": "https://localhost:8080/",
          "height": 34
        }
      },
      "source": [
        "float(y)"
      ],
      "execution_count": 0,
      "outputs": [
        {
          "output_type": "execute_result",
          "data": {
            "text/plain": [
              "1.4142135623730951"
            ]
          },
          "metadata": {
            "tags": []
          },
          "execution_count": 21
        }
      ]
    },
    {
      "cell_type": "markdown",
      "metadata": {
        "id": "xwfK1au8NJiA",
        "colab_type": "text"
      },
      "source": [
        "Note that these rational values are approximations to the irrational numbers $\\pi$ and $\\sqrt{2}$"
      ]
    },
    {
      "cell_type": "markdown",
      "metadata": {
        "id": "8sV86qF9N96v",
        "colab_type": "text"
      },
      "source": [
        "**Beware!!**\n",
        "</br>\n",
        "Float number representations (as we will examine in future lessons) do not always have an exact representation.\n",
        "</br>\n",
        "The number 0.125 (1/8) **has** an exact representation:"
      ]
    },
    {
      "cell_type": "code",
      "metadata": {
        "id": "_otSho9mM4LW",
        "colab_type": "code",
        "outputId": "cd6ec5b5-ccdd-4080-e4a9-2584b75be4f6",
        "colab": {
          "base_uri": "https://localhost:8080/",
          "height": 51
        }
      },
      "source": [
        "a = 0.125\n",
        "b = 0.3\n",
        "print(a)\n",
        "Fraction(a)"
      ],
      "execution_count": 0,
      "outputs": [
        {
          "output_type": "stream",
          "text": [
            "0.125\n"
          ],
          "name": "stdout"
        },
        {
          "output_type": "execute_result",
          "data": {
            "text/plain": [
              "Fraction(1, 8)"
            ]
          },
          "metadata": {
            "tags": []
          },
          "execution_count": 22
        }
      ]
    },
    {
      "cell_type": "code",
      "metadata": {
        "id": "Xv6PL80bOMz9",
        "colab_type": "code",
        "outputId": "7cb129ab-2e17-4741-cc12-23f573e02fc8",
        "colab": {
          "base_uri": "https://localhost:8080/",
          "height": 51
        }
      },
      "source": [
        "print(b)\n",
        "Fraction(b)"
      ],
      "execution_count": 0,
      "outputs": [
        {
          "output_type": "stream",
          "text": [
            "0.3\n"
          ],
          "name": "stdout"
        },
        {
          "output_type": "execute_result",
          "data": {
            "text/plain": [
              "Fraction(5404319552844595, 18014398509481984)"
            ]
          },
          "metadata": {
            "tags": []
          },
          "execution_count": 24
        }
      ]
    },
    {
      "cell_type": "markdown",
      "metadata": {
        "id": "lEYt2yBEOTVP",
        "colab_type": "text"
      },
      "source": [
        "and so we see the expected equivalent fraction.\n",
        "\n",
        "But, 0.3 (3/10) does **not** have an exact representation.\n",
        "</br>\n",
        "We will study this in upcoming lessons.\n",
        "\n",
        "But for now, let's just see a quick explanation:"
      ]
    },
    {
      "cell_type": "code",
      "metadata": {
        "id": "EsfsIx_ZOQsX",
        "colab_type": "code",
        "outputId": "451ff9b5-b471-434d-8992-0ccdaa4e5ac0",
        "colab": {
          "base_uri": "https://localhost:8080/",
          "height": 34
        }
      },
      "source": [
        "x = 0.3\n",
        "print(x)"
      ],
      "execution_count": 0,
      "outputs": [
        {
          "output_type": "stream",
          "text": [
            "0.3\n"
          ],
          "name": "stdout"
        }
      ]
    },
    {
      "cell_type": "markdown",
      "metadata": {
        "id": "J2XQy8zSOhI5",
        "colab_type": "text"
      },
      "source": [
        "Everything looks ok here - why am I saying 0.3 (float) is just an approximation?\n",
        "\n",
        "Python is trying to format the displayed value for readability - so it rounds the number for a better display format!\n",
        "\n",
        "We can instead choose to display the value using a certain number of digits:"
      ]
    },
    {
      "cell_type": "code",
      "metadata": {
        "id": "fk1zXjeFOfO5",
        "colab_type": "code",
        "outputId": "f7cceafa-d428-4182-b1df-e948e8a19b94",
        "colab": {
          "base_uri": "https://localhost:8080/",
          "height": 34
        }
      },
      "source": [
        "format(b, '5f')"
      ],
      "execution_count": 0,
      "outputs": [
        {
          "output_type": "execute_result",
          "data": {
            "text/plain": [
              "'0.300000'"
            ]
          },
          "metadata": {
            "tags": []
          },
          "execution_count": 26
        }
      ]
    },
    {
      "cell_type": "markdown",
      "metadata": {
        "id": "rrvX6GRrPXNt",
        "colab_type": "text"
      },
      "source": [
        "At 5 digits after the decimal, we might still think 0.3 is an exact representation.\n",
        "\n",
        "But let's display a few more digits:"
      ]
    },
    {
      "cell_type": "code",
      "metadata": {
        "id": "m0If4OPIPVHm",
        "colab_type": "code",
        "outputId": "011a7ff0-c388-41e2-f8a6-d78b10434ee4",
        "colab": {
          "base_uri": "https://localhost:8080/",
          "height": 34
        }
      },
      "source": [
        "format(x, '.25f')"
      ],
      "execution_count": 0,
      "outputs": [
        {
          "output_type": "execute_result",
          "data": {
            "text/plain": [
              "'0.2999999999999999888977698'"
            ]
          },
          "metadata": {
            "tags": []
          },
          "execution_count": 27
        }
      ]
    },
    {
      "cell_type": "markdown",
      "metadata": {
        "id": "ZjxulKWqPdwg",
        "colab_type": "text"
      },
      "source": [
        "Now we see that **x** is not quite 0.3...\n",
        "</br>\n",
        "</br>\n",
        "In fact, we can quantify the delta this way:"
      ]
    },
    {
      "cell_type": "code",
      "metadata": {
        "id": "lveqANXbPayt",
        "colab_type": "code",
        "colab": {}
      },
      "source": [
        "delta = Fraction(0.3) - Fraction(3, 10)"
      ],
      "execution_count": 0,
      "outputs": []
    },
    {
      "cell_type": "markdown",
      "metadata": {
        "id": "txxxABNUQEC9",
        "colab_type": "text"
      },
      "source": [
        "Theoretically, delta should be 0, but it's not:\n"
      ]
    },
    {
      "cell_type": "code",
      "metadata": {
        "id": "8v7X1qg2P_yb",
        "colab_type": "code",
        "outputId": "d7f2a35f-ab1a-4fc0-8ecc-906193d4659e",
        "colab": {
          "base_uri": "https://localhost:8080/",
          "height": 34
        }
      },
      "source": [
        "delta == 0"
      ],
      "execution_count": 0,
      "outputs": [
        {
          "output_type": "execute_result",
          "data": {
            "text/plain": [
              "False"
            ]
          },
          "metadata": {
            "tags": []
          },
          "execution_count": 29
        }
      ]
    },
    {
      "cell_type": "markdown",
      "metadata": {
        "id": "rglHxFiSQKnr",
        "colab_type": "text"
      },
      "source": [
        "**delta** is a very small number, the above fraction...\n",
        "\n",
        "As a float:"
      ]
    },
    {
      "cell_type": "code",
      "metadata": {
        "id": "dB52Q3DxQB36",
        "colab_type": "code",
        "outputId": "11ad6c7f-7b8c-462e-a27d-76050befbf0e",
        "colab": {
          "base_uri": "https://localhost:8080/",
          "height": 34
        }
      },
      "source": [
        "float(delta)"
      ],
      "execution_count": 0,
      "outputs": [
        {
          "output_type": "execute_result",
          "data": {
            "text/plain": [
              "-1.1102230246251566e-17"
            ]
          },
          "metadata": {
            "tags": []
          },
          "execution_count": 30
        }
      ]
    },
    {
      "cell_type": "code",
      "metadata": {
        "id": "KJ5j7siJQNrp",
        "colab_type": "code",
        "outputId": "a3377878-8e7b-457b-fe88-69af3bd11c07",
        "colab": {
          "base_uri": "https://localhost:8080/",
          "height": 51
        }
      },
      "source": [
        "x = Fraction(math.pi)\n",
        "print(x)\n",
        "print(format(float(x), '.25f'))"
      ],
      "execution_count": 0,
      "outputs": [
        {
          "output_type": "stream",
          "text": [
            "884279719003555/281474976710656\n",
            "3.1415926535897931159979635\n"
          ],
          "name": "stdout"
        }
      ]
    },
    {
      "cell_type": "code",
      "metadata": {
        "id": "bJUQu_nGQQW9",
        "colab_type": "code",
        "outputId": "19617504-17ad-4878-a8ab-a1f53e50683e",
        "colab": {
          "base_uri": "https://localhost:8080/",
          "height": 51
        }
      },
      "source": [
        "y = x.limit_denominator(10)\n",
        "print(y)\n",
        "print(format(float(y), '.25f'))"
      ],
      "execution_count": 0,
      "outputs": [
        {
          "output_type": "stream",
          "text": [
            "22/7\n",
            "3.1428571428571427937015414\n"
          ],
          "name": "stdout"
        }
      ]
    },
    {
      "cell_type": "code",
      "metadata": {
        "id": "1-nSpdyCQRzX",
        "colab_type": "code",
        "outputId": "6e67aa55-1202-4bbc-a6d7-79d834d08f88",
        "colab": {
          "base_uri": "https://localhost:8080/",
          "height": 51
        }
      },
      "source": [
        "y = x.limit_denominator(10000)\n",
        "print(y)\n",
        "print(format(float(y), '.25f'))"
      ],
      "execution_count": 0,
      "outputs": [
        {
          "output_type": "stream",
          "text": [
            "355/113\n",
            "3.1415929203539825209645642\n"
          ],
          "name": "stdout"
        }
      ]
    },
    {
      "cell_type": "markdown",
      "metadata": {
        "id": "grGJdudVm_1I",
        "colab_type": "text"
      },
      "source": [
        "## 6.FLOATS: Internal Representation (Theory)"
      ]
    },
    {
      "cell_type": "markdown",
      "metadata": {
        "id": "v7zqOJSSnJg6",
        "colab_type": "text"
      },
      "source": [
        "![alt text](https://drive.google.com/uc?id=1dgxa5uzAoAIqGesx-Ct_k80IX0IDESUP)"
      ]
    },
    {
      "cell_type": "markdown",
      "metadata": {
        "id": "dXbzjnwTvr6C",
        "colab_type": "text"
      },
      "source": [
        "All these significant digits have only 5 significant digist.\n",
        "</br>\n",
        "It might seem that number `12345000000` has more then 5, but it has actually 5 significant digits 12345 and times 10e6. (12345 * 10e6) "
      ]
    },
    {
      "cell_type": "markdown",
      "metadata": {
        "id": "E4ti2BkZnJZL",
        "colab_type": "text"
      },
      "source": [
        "![alt text](https://drive.google.com/uc?id=16U-XQnBR3WXxt_x6T0VOjCBkkBoUDX2X)"
      ]
    },
    {
      "cell_type": "markdown",
      "metadata": {
        "id": "rs5heRMwnJSM",
        "colab_type": "text"
      },
      "source": [
        "![alt text](https://drive.google.com/uc?id=1mGXNjI1o3X9SNWIVN7KizbH7WJBsFrfL)"
      ]
    },
    {
      "cell_type": "markdown",
      "metadata": {
        "id": "rJICSkL6nJMD",
        "colab_type": "text"
      },
      "source": [
        "![alt text](https://drive.google.com/uc?id=1lzvWwCMe2bF3JhViYSZ6EGyVtDsjIIgA)"
      ]
    },
    {
      "cell_type": "markdown",
      "metadata": {
        "id": "eStNb5cJqEqg",
        "colab_type": "text"
      },
      "source": [
        "![alt text](https://drive.google.com/uc?id=1PLeQveRWtYgwIZ_D7kqlZkd1NrmuaHJe)"
      ]
    },
    {
      "cell_type": "markdown",
      "metadata": {
        "id": "sOnCFHd9nJAJ",
        "colab_type": "text"
      },
      "source": [
        "![alt text](https://drive.google.com/uc?id=1V8VUAIWA96hEbDrp1eqQn8ngwRkdtbr5)"
      ]
    },
    {
      "cell_type": "markdown",
      "metadata": {
        "id": "CxIv1wEu4n0D",
        "colab_type": "text"
      },
      "source": [
        "### Coding Time "
      ]
    },
    {
      "cell_type": "markdown",
      "metadata": {
        "id": "tVeBfETL4umr",
        "colab_type": "text"
      },
      "source": [
        "The ``float`` class has a single constructor, which can take a number or a string and will attempt to convert it to a float."
      ]
    },
    {
      "cell_type": "code",
      "metadata": {
        "id": "8Qkanb0vQUR-",
        "colab_type": "code",
        "outputId": "d1ef94f8-9ecb-4253-99a3-1a288678058b",
        "colab": {
          "base_uri": "https://localhost:8080/",
          "height": 68
        }
      },
      "source": [
        "print(float(3.14))\n",
        "print(float('10'))\n",
        "print(float('0.1'))"
      ],
      "execution_count": 0,
      "outputs": [
        {
          "output_type": "stream",
          "text": [
            "3.14\n",
            "10.0\n",
            "0.1\n"
          ],
          "name": "stdout"
        }
      ]
    },
    {
      "cell_type": "code",
      "metadata": {
        "id": "aaa-xF3d6zPP",
        "colab_type": "code",
        "outputId": "c68f1fff-c8d8-41c2-9551-2dd4325d2bcf",
        "colab": {
          "base_uri": "https://localhost:8080/",
          "height": 163
        }
      },
      "source": [
        "float('22/7')"
      ],
      "execution_count": 0,
      "outputs": [
        {
          "output_type": "error",
          "ename": "ValueError",
          "evalue": "ignored",
          "traceback": [
            "\u001b[0;31m---------------------------------------------------------------------------\u001b[0m",
            "\u001b[0;31mValueError\u001b[0m                                Traceback (most recent call last)",
            "\u001b[0;32m<ipython-input-4-b1a86d0295b9>\u001b[0m in \u001b[0;36m<module>\u001b[0;34m()\u001b[0m\n\u001b[0;32m----> 1\u001b[0;31m \u001b[0mfloat\u001b[0m\u001b[0;34m(\u001b[0m\u001b[0;34m'22/7'\u001b[0m\u001b[0;34m)\u001b[0m\u001b[0;34m\u001b[0m\u001b[0;34m\u001b[0m\u001b[0m\n\u001b[0m",
            "\u001b[0;31mValueError\u001b[0m: could not convert string to float: '22/7'"
          ]
        }
      ]
    },
    {
      "cell_type": "markdown",
      "metadata": {
        "id": "tAbrFbgU7FAw",
        "colab_type": "text"
      },
      "source": [
        "If you really want to get a float from a string such as ``'22/7'``, you could first create a ``Fraction``, then create a ``float`` from that:"
      ]
    },
    {
      "cell_type": "code",
      "metadata": {
        "id": "RMX0aYYn7DIl",
        "colab_type": "code",
        "outputId": "8029f4e8-fcc2-4a86-f6c8-cb4f37ac0940",
        "colab": {
          "base_uri": "https://localhost:8080/",
          "height": 34
        }
      },
      "source": [
        "from fractions import Fraction\n",
        "float(Fraction('22/7'))"
      ],
      "execution_count": 0,
      "outputs": [
        {
          "output_type": "execute_result",
          "data": {
            "text/plain": [
              "3.142857142857143"
            ]
          },
          "metadata": {
            "tags": []
          },
          "execution_count": 6
        }
      ]
    },
    {
      "cell_type": "markdown",
      "metadata": {
        "id": "xa3Nckl47iKq",
        "colab_type": "text"
      },
      "source": [
        "Floats do not always have an exact representation:"
      ]
    },
    {
      "cell_type": "code",
      "metadata": {
        "id": "IuxBKXyn7Jyu",
        "colab_type": "code",
        "outputId": "330be237-e4cb-403d-850c-8cea31ca9028",
        "colab": {
          "base_uri": "https://localhost:8080/",
          "height": 34
        }
      },
      "source": [
        "print(0.1)"
      ],
      "execution_count": 0,
      "outputs": [
        {
          "output_type": "stream",
          "text": [
            "0.1\n"
          ],
          "name": "stdout"
        }
      ]
    },
    {
      "cell_type": "markdown",
      "metadata": {
        "id": "uV-ftRIL7mvI",
        "colab_type": "text"
      },
      "source": [
        "### INTERESTING FACT: Although this looks like ``0.1`` exactly, we need to reveal more digits after the decimal point to see what's going on:"
      ]
    },
    {
      "cell_type": "code",
      "metadata": {
        "id": "6nhqDQfc7kBy",
        "colab_type": "code",
        "outputId": "f3b6c072-bd81-47e1-d4a0-46d229c97c3c",
        "colab": {
          "base_uri": "https://localhost:8080/",
          "height": 34
        }
      },
      "source": [
        "format(0.1, '.25f')"
      ],
      "execution_count": 0,
      "outputs": [
        {
          "output_type": "execute_result",
          "data": {
            "text/plain": [
              "'0.1000000000000000055511151'"
            ]
          },
          "metadata": {
            "tags": []
          },
          "execution_count": 8
        }
      ]
    },
    {
      "cell_type": "markdown",
      "metadata": {
        "id": "XAnvJPp07sgt",
        "colab_type": "text"
      },
      "source": [
        "However, certain numbers can be represented exactly in a binary fraction expansion:"
      ]
    },
    {
      "cell_type": "code",
      "metadata": {
        "id": "p0leo5gQ7ou2",
        "colab_type": "code",
        "outputId": "2b41b0ba-740f-4636-afc6-3ee249702f84",
        "colab": {
          "base_uri": "https://localhost:8080/",
          "height": 34
        }
      },
      "source": [
        "format(0.125, '.25f')"
      ],
      "execution_count": 0,
      "outputs": [
        {
          "output_type": "execute_result",
          "data": {
            "text/plain": [
              "'0.1250000000000000000000000'"
            ]
          },
          "metadata": {
            "tags": []
          },
          "execution_count": 9
        }
      ]
    },
    {
      "cell_type": "markdown",
      "metadata": {
        "id": "J2OLVZsf70jQ",
        "colab_type": "text"
      },
      "source": [
        "This is because 0.125 is precisely 1/8, or 1/(2^3)\n",
        "</br>\n",
        "</br>\n",
        "</br>\n",
        "This is interesting though"
      ]
    },
    {
      "cell_type": "code",
      "metadata": {
        "id": "g_JYWw6g7uo8",
        "colab_type": "code",
        "colab": {}
      },
      "source": [
        "a = 0.1 + 0.1 + 0.1\n",
        "b = 0.3"
      ],
      "execution_count": 0,
      "outputs": []
    },
    {
      "cell_type": "code",
      "metadata": {
        "id": "U4iq3n_18AmH",
        "colab_type": "code",
        "outputId": "62f1ffed-e8ec-4c1d-f3a7-a836b6ddbeb9",
        "colab": {
          "base_uri": "https://localhost:8080/",
          "height": 34
        }
      },
      "source": [
        "a == b"
      ],
      "execution_count": 0,
      "outputs": [
        {
          "output_type": "execute_result",
          "data": {
            "text/plain": [
              "False"
            ]
          },
          "metadata": {
            "tags": []
          },
          "execution_count": 11
        }
      ]
    },
    {
      "cell_type": "markdown",
      "metadata": {
        "id": "FQAz5Ago8DTr",
        "colab_type": "text"
      },
      "source": [
        "### INTERESTING FACT: WAIT **WHAAAAAAAAAAAT** what is going on???!?!?!?!?!"
      ]
    },
    {
      "cell_type": "code",
      "metadata": {
        "id": "rpUgGk-B8CJU",
        "colab_type": "code",
        "outputId": "c3dbeb90-c208-4061-bce2-f693ee0f2786",
        "colab": {
          "base_uri": "https://localhost:8080/",
          "height": 34
        }
      },
      "source": [
        "format(a, '.25f')"
      ],
      "execution_count": 0,
      "outputs": [
        {
          "output_type": "execute_result",
          "data": {
            "text/plain": [
              "'0.3000000000000000444089210'"
            ]
          },
          "metadata": {
            "tags": []
          },
          "execution_count": 14
        }
      ]
    },
    {
      "cell_type": "code",
      "metadata": {
        "id": "D3izavc-8SbX",
        "colab_type": "code",
        "outputId": "393061b7-1a66-460c-da9b-4f8568b5dcaa",
        "colab": {
          "base_uri": "https://localhost:8080/",
          "height": 34
        }
      },
      "source": [
        "format(b, '.25f')"
      ],
      "execution_count": 0,
      "outputs": [
        {
          "output_type": "execute_result",
          "data": {
            "text/plain": [
              "'0.2999999999999999888977698'"
            ]
          },
          "metadata": {
            "tags": []
          },
          "execution_count": 15
        }
      ]
    },
    {
      "cell_type": "markdown",
      "metadata": {
        "id": "f6vb2Xsa8ZuR",
        "colab_type": "text"
      },
      "source": [
        "SO here we can see what is going on. Since computers use binary, we see that `0.1` in binary, i.e. float precision is not accurate like in decimal so we can not get `0.1` in binary base."
      ]
    },
    {
      "cell_type": "markdown",
      "metadata": {
        "id": "jviBlDm09ilX",
        "colab_type": "text"
      },
      "source": [
        "## 7.FLOATS: Equality Testing"
      ]
    },
    {
      "cell_type": "markdown",
      "metadata": {
        "id": "WIGAgvEp9tTl",
        "colab_type": "text"
      },
      "source": [
        "![alt text](https://drive.google.com/uc?id=1NyZ5b4I-XBkAqu1ErxlP39yD4Kb1j3-q)"
      ]
    },
    {
      "cell_type": "markdown",
      "metadata": {
        "id": "6ELgBH7j9tJ1",
        "colab_type": "text"
      },
      "source": [
        "![alt text](https://drive.google.com/uc?id=1P1hA5mNrFndGRyoJKEMVAOvLP6AOby5B)"
      ]
    },
    {
      "cell_type": "markdown",
      "metadata": {
        "id": "YpQMeR2s9s_T",
        "colab_type": "text"
      },
      "source": [
        "![alt text](https://drive.google.com/uc?id=1zHqab1WMsXXPL375_YDj9c5sOYuRZ9Jl)"
      ]
    },
    {
      "cell_type": "markdown",
      "metadata": {
        "id": "Boka047b9s1f",
        "colab_type": "text"
      },
      "source": [
        "![alt text](https://drive.google.com/uc?id=1FL0VXUmaXYVJgOUiAeoQQ65xH4MDv-96)"
      ]
    },
    {
      "cell_type": "markdown",
      "metadata": {
        "id": "Gif2Ng9q9sp6",
        "colab_type": "text"
      },
      "source": [
        "![alt text](https://drive.google.com/uc?id=1eMJNHQD4RWyeEwpa5ZycuWlD0bsRp8jv)"
      ]
    },
    {
      "cell_type": "markdown",
      "metadata": {
        "id": "Q74VvmXv9sgl",
        "colab_type": "text"
      },
      "source": [
        "![alt text](https://drive.google.com/uc?id=1ioXOzhLyqAqqjweufWVJNqCxUee2BouC)"
      ]
    },
    {
      "cell_type": "markdown",
      "metadata": {
        "id": "jzvtIea19sVt",
        "colab_type": "text"
      },
      "source": [
        "![alt text](https://drive.google.com/uc?id=1rLW4_VwtNYpT84nIlbk9RgFNWST9xTkG)\n",
        "When you look at first example, `x` and `y`, `0.01` isn't actually a big difference and they are close to each other.\n",
        "</br>\n",
        "However when you look and `a` and `b` they are relativly speaking not so close, it is a big difference when we compare the 2, so it is good that we get a `True` from the `math.isclose(...)`"
      ]
    },
    {
      "cell_type": "markdown",
      "metadata": {
        "id": "Mzokr-RmmBCr",
        "colab_type": "text"
      },
      "source": [
        "### Coding Time"
      ]
    },
    {
      "cell_type": "markdown",
      "metadata": {
        "id": "ZFSOfUgCmjso",
        "colab_type": "text"
      },
      "source": [
        "Because not all real numbers have an exact ``float`` representation, equality testing can be tricky."
      ]
    },
    {
      "cell_type": "code",
      "metadata": {
        "id": "Nzm2yr65mLGk",
        "colab_type": "code",
        "outputId": "fcd2ee6e-4e79-4d4f-8fe6-5dea9834b376",
        "colab": {
          "base_uri": "https://localhost:8080/",
          "height": 34
        }
      },
      "source": [
        "x = 0.1 + 0.1 + 0.1\n",
        "y = 0.3\n",
        "x == y"
      ],
      "execution_count": 0,
      "outputs": [
        {
          "output_type": "execute_result",
          "data": {
            "text/plain": [
              "False"
            ]
          },
          "metadata": {
            "tags": []
          },
          "execution_count": 1
        }
      ]
    },
    {
      "cell_type": "markdown",
      "metadata": {
        "id": "13TKGSAzm1HQ",
        "colab_type": "text"
      },
      "source": [
        "This is because ``0.1`` and ``0.3`` do not have exact representations:"
      ]
    },
    {
      "cell_type": "code",
      "metadata": {
        "id": "B4Wh6Z1bmtj9",
        "colab_type": "code",
        "outputId": "1a73de0e-a66c-4b1a-aeb3-9e1453967f14",
        "colab": {
          "base_uri": "https://localhost:8080/",
          "height": 67
        }
      },
      "source": [
        "print('0.1 --> {0:.25f}'.format(0.1))\n",
        "print('x --> {0:.25f}'.format(x))\n",
        "print('y --> {0:.25f}'.format(y))"
      ],
      "execution_count": 0,
      "outputs": [
        {
          "output_type": "stream",
          "text": [
            "0.1 --> 0.1000000000000000055511151\n",
            "x --> 0.3000000000000000444089210\n",
            "y --> 0.2999999999999999888977698\n"
          ],
          "name": "stdout"
        }
      ]
    },
    {
      "cell_type": "markdown",
      "metadata": {
        "id": "h17MGn-Vm-1n",
        "colab_type": "text"
      },
      "source": [
        "However, in some (limited) cases where all the numbers involved do have an exact representation, it will work:"
      ]
    },
    {
      "cell_type": "code",
      "metadata": {
        "id": "KolQANjlm4Ii",
        "colab_type": "code",
        "outputId": "a69f6f20-b327-4a7b-d631-25a458ff3a5b",
        "colab": {
          "base_uri": "https://localhost:8080/",
          "height": 34
        }
      },
      "source": [
        "x = 0.125 + 0.125 + 0.125\n",
        "y = 0.375\n",
        "x == y"
      ],
      "execution_count": 0,
      "outputs": [
        {
          "output_type": "execute_result",
          "data": {
            "text/plain": [
              "True"
            ]
          },
          "metadata": {
            "tags": []
          },
          "execution_count": 3
        }
      ]
    },
    {
      "cell_type": "code",
      "metadata": {
        "id": "tWUGOw80nDJ0",
        "colab_type": "code",
        "outputId": "1a0843e5-9e6f-4078-a02e-6469c9cb2436",
        "colab": {
          "base_uri": "https://localhost:8080/",
          "height": 67
        }
      },
      "source": [
        "print('0.125 --> {0:.25f}'.format(0.125))\n",
        "print('x --> {0:.25f}'.format(x))\n",
        "print('y --> {0:.25f}'.format(y))"
      ],
      "execution_count": 0,
      "outputs": [
        {
          "output_type": "stream",
          "text": [
            "0.125 --> 0.1250000000000000000000000\n",
            "x --> 0.3750000000000000000000000\n",
            "y --> 0.3750000000000000000000000\n"
          ],
          "name": "stdout"
        }
      ]
    },
    {
      "cell_type": "markdown",
      "metadata": {
        "id": "K6L7aSMfnM9-",
        "colab_type": "text"
      },
      "source": [
        "One simple way to get around this is to round to a specific number of digits and then compare"
      ]
    },
    {
      "cell_type": "code",
      "metadata": {
        "id": "crqbb7FEnGG3",
        "colab_type": "code",
        "outputId": "38197e8a-3bf7-4b5c-a873-f4036159afe5",
        "colab": {
          "base_uri": "https://localhost:8080/",
          "height": 34
        }
      },
      "source": [
        "x = 0.1 + 0.1 + 0.1\n",
        "y = 0.3\n",
        "round(x, 5) == round(y, 5)"
      ],
      "execution_count": 0,
      "outputs": [
        {
          "output_type": "execute_result",
          "data": {
            "text/plain": [
              "True"
            ]
          },
          "metadata": {
            "tags": []
          },
          "execution_count": 14
        }
      ]
    },
    {
      "cell_type": "markdown",
      "metadata": {
        "id": "6sk23rQtnY2-",
        "colab_type": "text"
      },
      "source": [
        "We can also use a more flexible technique implemented by the ``isclose`` method in the ``math`` module"
      ]
    },
    {
      "cell_type": "code",
      "metadata": {
        "id": "l7-SZxgInZjb",
        "colab_type": "code",
        "outputId": "9819fa55-42f6-4ac0-d1e2-fe1b1e2bca5b",
        "colab": {
          "base_uri": "https://localhost:8080/",
          "height": 403
        }
      },
      "source": [
        "from math import isclose\n",
        "\n",
        "help(isclose)"
      ],
      "execution_count": 0,
      "outputs": [
        {
          "output_type": "stream",
          "text": [
            "Help on built-in function isclose in module math:\n",
            "\n",
            "isclose(...)\n",
            "    isclose(a, b, *, rel_tol=1e-09, abs_tol=0.0) -> bool\n",
            "    \n",
            "    Determine whether two floating point numbers are close in value.\n",
            "    \n",
            "       rel_tol\n",
            "           maximum difference for being considered \"close\", relative to the\n",
            "           magnitude of the input values\n",
            "        abs_tol\n",
            "           maximum difference for being considered \"close\", regardless of the\n",
            "           magnitude of the input values\n",
            "    \n",
            "    Return True if a is close in value to b, and False otherwise.\n",
            "    \n",
            "    For the values to be considered close, the difference between them\n",
            "    must be smaller than at least one of the tolerances.\n",
            "    \n",
            "    -inf, inf and NaN behave similarly to the IEEE 754 Standard.  That\n",
            "    is, NaN is not close to anything, even itself.  inf and -inf are\n",
            "    only close to themselves.\n",
            "\n"
          ],
          "name": "stdout"
        }
      ]
    },
    {
      "cell_type": "code",
      "metadata": {
        "id": "cj14Q5BHoozY",
        "colab_type": "code",
        "outputId": "c4fb7fef-d7b4-4ebe-e9f0-1cd55fe2542d",
        "colab": {
          "base_uri": "https://localhost:8080/",
          "height": 34
        }
      },
      "source": [
        "x = 0.1 + 0.1 + 0.1\n",
        "y = 0.3\n",
        "isclose(x, y)"
      ],
      "execution_count": 0,
      "outputs": [
        {
          "output_type": "execute_result",
          "data": {
            "text/plain": [
              "True"
            ]
          },
          "metadata": {
            "tags": []
          },
          "execution_count": 6
        }
      ]
    },
    {
      "cell_type": "markdown",
      "metadata": {
        "id": "FZ2rLaPJouz-",
        "colab_type": "text"
      },
      "source": [
        "The ``isclose`` method takes two optional parameters, ``rel_tol`` and ``abs_tol``.\n",
        "\n",
        "``rel_tol`` is a relative tolerance that will be relative to the magnitude of the largest of the two numbers being compared. Useful when we want to see if two numbers are close to each other as a percentage of their magnitudes.\n",
        "\n",
        "``abs_tol`` is an absolute tolerance that is independent of the magnitude of the numbers we are comparing - this is useful for numbers that are close to zero."
      ]
    },
    {
      "cell_type": "markdown",
      "metadata": {
        "id": "5nI7nwY3oz9N",
        "colab_type": "text"
      },
      "source": [
        "In this situation we might consider x and y to be close to each other:"
      ]
    },
    {
      "cell_type": "code",
      "metadata": {
        "id": "ju2_5_zKosVO",
        "colab_type": "code",
        "outputId": "9dfb6216-5c6a-4964-c23d-fc0e7bcb75d7",
        "colab": {
          "base_uri": "https://localhost:8080/",
          "height": 34
        }
      },
      "source": [
        "# Here they are close to each other\n",
        "x = 123456789.01\n",
        "y = 123456789.02\n",
        "y / x"
      ],
      "execution_count": 0,
      "outputs": [
        {
          "output_type": "execute_result",
          "data": {
            "text/plain": [
              "1.0000000000809999"
            ]
          },
          "metadata": {
            "tags": []
          },
          "execution_count": 17
        }
      ]
    },
    {
      "cell_type": "markdown",
      "metadata": {
        "id": "JW-099Wxo7L1",
        "colab_type": "text"
      },
      "source": [
        "\n",
        "but not in this case:"
      ]
    },
    {
      "cell_type": "code",
      "metadata": {
        "id": "ocWKxdhDo26o",
        "colab_type": "code",
        "outputId": "b480175f-6018-4b40-d108-5c161e675cd5",
        "colab": {
          "base_uri": "https://localhost:8080/",
          "height": 34
        }
      },
      "source": [
        "# They are not close to each other, actually y i 2 times bigger\n",
        "x = 0.01\n",
        "y = 0.02\n",
        "\n",
        "y / x"
      ],
      "execution_count": 0,
      "outputs": [
        {
          "output_type": "execute_result",
          "data": {
            "text/plain": [
              "2.0"
            ]
          },
          "metadata": {
            "tags": []
          },
          "execution_count": 16
        }
      ]
    },
    {
      "cell_type": "markdown",
      "metadata": {
        "id": "aHgNmEfoqt4c",
        "colab_type": "text"
      },
      "source": [
        "\n",
        " When we use round we can see how can `round()` be dangerous"
      ]
    },
    {
      "cell_type": "code",
      "metadata": {
        "id": "3XAlgGDmqgYf",
        "colab_type": "code",
        "outputId": "f983d61a-687d-48d2-ea73-cde0a774d915",
        "colab": {
          "base_uri": "https://localhost:8080/",
          "height": 34
        }
      },
      "source": [
        "round(x, 1) == round(y, 1)"
      ],
      "execution_count": 0,
      "outputs": [
        {
          "output_type": "execute_result",
          "data": {
            "text/plain": [
              "True"
            ]
          },
          "metadata": {
            "tags": []
          },
          "execution_count": 19
        }
      ]
    },
    {
      "cell_type": "markdown",
      "metadata": {
        "id": "-hW1OqTdo_ci",
        "colab_type": "text"
      },
      "source": [
        "In both these cases the difference between the two numbers was ``0.01``, yet in one case we considered the numbers \"equal\" and in the other, not \"equal\". Relative tolerances are useful to handle these scenarios."
      ]
    },
    {
      "cell_type": "code",
      "metadata": {
        "id": "7IwNGbuFo91h",
        "colab_type": "code",
        "outputId": "291eefa7-0edc-49e1-f30a-c3493d6f3e55",
        "colab": {
          "base_uri": "https://localhost:8080/",
          "height": 34
        }
      },
      "source": [
        "isclose(123456789.01, 123456789.02, rel_tol=0.01)"
      ],
      "execution_count": 0,
      "outputs": [
        {
          "output_type": "execute_result",
          "data": {
            "text/plain": [
              "True"
            ]
          },
          "metadata": {
            "tags": []
          },
          "execution_count": 9
        }
      ]
    },
    {
      "cell_type": "code",
      "metadata": {
        "id": "-r7rTkdTpCwW",
        "colab_type": "code",
        "outputId": "dccfc50d-b2d0-4900-c5a6-966581fd794e",
        "colab": {
          "base_uri": "https://localhost:8080/",
          "height": 34
        }
      },
      "source": [
        "isclose(0.01, 0.02, rel_tol=0.01)"
      ],
      "execution_count": 0,
      "outputs": [
        {
          "output_type": "execute_result",
          "data": {
            "text/plain": [
              "False"
            ]
          },
          "metadata": {
            "tags": []
          },
          "execution_count": 10
        }
      ]
    },
    {
      "cell_type": "markdown",
      "metadata": {
        "id": "i0GAWgv3pHYr",
        "colab_type": "text"
      },
      "source": [
        "### INTERESTING FACT: On the other hand, we have to be careful with relative tolerances when working with values that are close to zero:"
      ]
    },
    {
      "cell_type": "code",
      "metadata": {
        "id": "ewIJPRTXpELL",
        "colab_type": "code",
        "outputId": "5a2d3a5f-8189-4565-f80c-13131f1ea6de",
        "colab": {
          "base_uri": "https://localhost:8080/",
          "height": 34
        }
      },
      "source": [
        "x = 0.0000001\n",
        "y = 0.0000002\n",
        "isclose(x, y, rel_tol=0.01)"
      ],
      "execution_count": 0,
      "outputs": [
        {
          "output_type": "execute_result",
          "data": {
            "text/plain": [
              "False"
            ]
          },
          "metadata": {
            "tags": []
          },
          "execution_count": 11
        }
      ]
    },
    {
      "cell_type": "markdown",
      "metadata": {
        "id": "65Y0m5XLpNuS",
        "colab_type": "text"
      },
      "source": [
        "So, we could use an absolute tolerance here:"
      ]
    },
    {
      "cell_type": "code",
      "metadata": {
        "id": "Lt6x5iOFpL0a",
        "colab_type": "code",
        "outputId": "a8fc5d55-0d02-4673-f014-8722256f92ac",
        "colab": {
          "base_uri": "https://localhost:8080/",
          "height": 34
        }
      },
      "source": [
        "isclose(x, y, abs_tol=0.0001, rel_tol=0)"
      ],
      "execution_count": 0,
      "outputs": [
        {
          "output_type": "execute_result",
          "data": {
            "text/plain": [
              "True"
            ]
          },
          "metadata": {
            "tags": []
          },
          "execution_count": 12
        }
      ]
    },
    {
      "cell_type": "markdown",
      "metadata": {
        "id": "5xsXUS_kpRLT",
        "colab_type": "text"
      },
      "source": [
        "In general, we can combine the use of both relative and absolute tolerances in this way:"
      ]
    },
    {
      "cell_type": "code",
      "metadata": {
        "id": "ncqjrwYfpPeq",
        "colab_type": "code",
        "outputId": "51e7bc9d-8197-46d9-dde4-e250e76c474f",
        "colab": {
          "base_uri": "https://localhost:8080/",
          "height": 50
        }
      },
      "source": [
        "x = 0.0000001\n",
        "y = 0.0000002\n",
        "\n",
        "a = 123456789.01\n",
        "b = 123456789.02\n",
        "\n",
        "print('x = y:', isclose(x, y, abs_tol=0.0001, rel_tol=0.01))\n",
        "print('a = b:', isclose(a, b, abs_tol=0.0001, rel_tol=0.01))"
      ],
      "execution_count": 0,
      "outputs": [
        {
          "output_type": "stream",
          "text": [
            "x = y: True\n",
            "a = b: True\n"
          ],
          "name": "stdout"
        }
      ]
    },
    {
      "cell_type": "markdown",
      "metadata": {
        "id": "DeSMTZCkEw-a",
        "colab_type": "text"
      },
      "source": [
        "# 8.FLOATS: Coercing to Integers - Lecture"
      ]
    },
    {
      "cell_type": "markdown",
      "metadata": {
        "id": "zwPVdhNfFl-f",
        "colab_type": "text"
      },
      "source": [
        "![alt text](https://drive.google.com/uc?id=14aRwcow6Y1Q5BIk40pYU9Jf9pTgiKyGK)\n",
        "![alt text](https://drive.google.com/uc?id=1XChg7kQmSsDi39gd3Esd9k0582w9fPTj)"
      ]
    },
    {
      "cell_type": "markdown",
      "metadata": {
        "id": "DyfkQ53zF0JH",
        "colab_type": "text"
      },
      "source": [
        "![alt text](https://drive.google.com/uc?id=1g1-wUr4lWCaIiYdKolu6CcJJhfwbfHxT)"
      ]
    },
    {
      "cell_type": "markdown",
      "metadata": {
        "id": "sAqQpeLDF9bM",
        "colab_type": "text"
      },
      "source": [
        "![alt text](https://drive.google.com/uc?id=13Up9O5loJfxNC6WbTPUnjyOJMqx75nXO)"
      ]
    },
    {
      "cell_type": "markdown",
      "metadata": {
        "id": "u__umq5EGChC",
        "colab_type": "text"
      },
      "source": [
        "![alt text](https://drive.google.com/uc?id=1Ag9TTXDTpqEZcQ-4pkdwBZwB5vOp69J2)"
      ]
    },
    {
      "cell_type": "markdown",
      "metadata": {
        "id": "mEeuo_f1GIe1",
        "colab_type": "text"
      },
      "source": [
        "![alt text](https://drive.google.com/uc?id=1piVggY9gyuNNz_U7WjSRYtGhmI07BrZK)"
      ]
    },
    {
      "cell_type": "markdown",
      "metadata": {
        "id": "stOdQoEkKH43",
        "colab_type": "text"
      },
      "source": [
        "## Coding Time"
      ]
    },
    {
      "cell_type": "markdown",
      "metadata": {
        "id": "qgrNl-1VKNvM",
        "colab_type": "text"
      },
      "source": [
        "### Truncation"
      ]
    },
    {
      "cell_type": "code",
      "metadata": {
        "id": "sH0WDIyYpS0t",
        "colab_type": "code",
        "outputId": "49fc2614-3637-4f51-a754-e3d1dcfa1b8b",
        "colab": {
          "base_uri": "https://localhost:8080/",
          "height": 34
        }
      },
      "source": [
        "from math import trunc\n",
        "trunc(10.3), trunc(10.5), trunc(10.6)    "
      ],
      "execution_count": 0,
      "outputs": [
        {
          "output_type": "execute_result",
          "data": {
            "text/plain": [
              "(10, 10, 10)"
            ]
          },
          "metadata": {
            "tags": []
          },
          "execution_count": 1
        }
      ]
    },
    {
      "cell_type": "code",
      "metadata": {
        "id": "5RaRO4ezKU1y",
        "colab_type": "code",
        "outputId": "9fcf9da2-522c-40dd-b111-6cc18d691ca3",
        "colab": {
          "base_uri": "https://localhost:8080/",
          "height": 34
        }
      },
      "source": [
        "trunc(-10.6), trunc(-10.5), trunc(-10.3)"
      ],
      "execution_count": 0,
      "outputs": [
        {
          "output_type": "execute_result",
          "data": {
            "text/plain": [
              "(-10, -10, -10)"
            ]
          },
          "metadata": {
            "tags": []
          },
          "execution_count": 2
        }
      ]
    },
    {
      "cell_type": "markdown",
      "metadata": {
        "id": "MbVgQjLHKaTu",
        "colab_type": "text"
      },
      "source": [
        "The **int** constructor uses truncation when a float is passed in:"
      ]
    },
    {
      "cell_type": "code",
      "metadata": {
        "id": "QR5yT1RbKYQs",
        "colab_type": "code",
        "outputId": "63e05f25-0f09-4d86-e412-d14a2808adcb",
        "colab": {
          "base_uri": "https://localhost:8080/",
          "height": 34
        }
      },
      "source": [
        "int(10.3), int(10.5), int(10.6)"
      ],
      "execution_count": 0,
      "outputs": [
        {
          "output_type": "execute_result",
          "data": {
            "text/plain": [
              "(10, 10, 10)"
            ]
          },
          "metadata": {
            "tags": []
          },
          "execution_count": 3
        }
      ]
    },
    {
      "cell_type": "code",
      "metadata": {
        "id": "KKv0K1VoKeDC",
        "colab_type": "code",
        "outputId": "7699c0b2-b823-4a67-dde9-7a2fffb1381e",
        "colab": {
          "base_uri": "https://localhost:8080/",
          "height": 34
        }
      },
      "source": [
        "int(-10.5), int(-10.5), int(-10.4)"
      ],
      "execution_count": 0,
      "outputs": [
        {
          "output_type": "execute_result",
          "data": {
            "text/plain": [
              "(-10, -10, -10)"
            ]
          },
          "metadata": {
            "tags": []
          },
          "execution_count": 4
        }
      ]
    },
    {
      "cell_type": "markdown",
      "metadata": {
        "id": "dZHB-JfeKjbx",
        "colab_type": "text"
      },
      "source": [
        "### Floor"
      ]
    },
    {
      "cell_type": "code",
      "metadata": {
        "id": "rVUmAM_MKhmx",
        "colab_type": "code",
        "outputId": "1500745c-a839-47e6-f4d2-08cd6d08710a",
        "colab": {
          "base_uri": "https://localhost:8080/",
          "height": 34
        }
      },
      "source": [
        "from math import floor\n",
        "floor(10.4), floor(10.5), floor(10.6)"
      ],
      "execution_count": 0,
      "outputs": [
        {
          "output_type": "execute_result",
          "data": {
            "text/plain": [
              "(10, 10, 10)"
            ]
          },
          "metadata": {
            "tags": []
          },
          "execution_count": 6
        }
      ]
    },
    {
      "cell_type": "code",
      "metadata": {
        "id": "m16NIji0Kmni",
        "colab_type": "code",
        "outputId": "2e7a0b93-8d00-46aa-8542-2b50b7bbc9dc",
        "colab": {
          "base_uri": "https://localhost:8080/",
          "height": 34
        }
      },
      "source": [
        "floor(-10.4), floor(-10.5), floor(-10.6)"
      ],
      "execution_count": 0,
      "outputs": [
        {
          "output_type": "execute_result",
          "data": {
            "text/plain": [
              "(-11, -11, -11)"
            ]
          },
          "metadata": {
            "tags": []
          },
          "execution_count": 7
        }
      ]
    },
    {
      "cell_type": "markdown",
      "metadata": {
        "id": "CdVpsuRmKu5A",
        "colab_type": "text"
      },
      "source": [
        "### Ceiling"
      ]
    },
    {
      "cell_type": "code",
      "metadata": {
        "id": "DC23pB7fKsOu",
        "colab_type": "code",
        "outputId": "5eced138-38d4-45a7-f412-637280d74d01",
        "colab": {
          "base_uri": "https://localhost:8080/",
          "height": 34
        }
      },
      "source": [
        "from math import ceil\n",
        "ceil(10.4), ceil(10.5), ceil(10.6)"
      ],
      "execution_count": 0,
      "outputs": [
        {
          "output_type": "execute_result",
          "data": {
            "text/plain": [
              "(11, 11, 11)"
            ]
          },
          "metadata": {
            "tags": []
          },
          "execution_count": 8
        }
      ]
    },
    {
      "cell_type": "code",
      "metadata": {
        "id": "VvLSGItkK0zO",
        "colab_type": "code",
        "outputId": "81d718fd-cc16-47c4-9a10-c2643e9dae9e",
        "colab": {
          "base_uri": "https://localhost:8080/",
          "height": 34
        }
      },
      "source": [
        "ceil(-10.4), ceil(-10.5), ceil(-10.6)"
      ],
      "execution_count": 0,
      "outputs": [
        {
          "output_type": "execute_result",
          "data": {
            "text/plain": [
              "(-10, -10, -10)"
            ]
          },
          "metadata": {
            "tags": []
          },
          "execution_count": 9
        }
      ]
    },
    {
      "cell_type": "markdown",
      "metadata": {
        "id": "D0vOdmKsNpCN",
        "colab_type": "text"
      },
      "source": [
        "# 9.FLOAT: Rounding"
      ]
    },
    {
      "cell_type": "markdown",
      "metadata": {
        "id": "mfwfoLr6N1Wq",
        "colab_type": "text"
      },
      "source": [
        "![alt text](https://drive.google.com/uc?id=13c0Nszf3xigBxx3eTcim5czyCsaR7pps)"
      ]
    },
    {
      "cell_type": "markdown",
      "metadata": {
        "id": "qZ13Fl9fN1M9",
        "colab_type": "text"
      },
      "source": [
        "![alt text](https://drive.google.com/uc?id=1FietmzsWr8e88FW6mzcQQ_jUnJvyJAwX)"
      ]
    },
    {
      "cell_type": "markdown",
      "metadata": {
        "id": "jycZr6i7N1Ds",
        "colab_type": "text"
      },
      "source": [
        "![alt text](https://drive.google.com/uc?id=102ctyHxncWE_lwAc1jwRgHEaaYqVexr0)"
      ]
    },
    {
      "cell_type": "markdown",
      "metadata": {
        "id": "vypM8_YUN06a",
        "colab_type": "text"
      },
      "source": [
        "![alt text](https://drive.google.com/uc?id=1ucbOX04o3Td0rwrTivuIXTmKUqlsU0Re)"
      ]
    },
    {
      "cell_type": "markdown",
      "metadata": {
        "id": "8WilWLkAN0xW",
        "colab_type": "text"
      },
      "source": [
        "![alt text](https://drive.google.com/uc?id=1B7ST4pYjxyalRJEBsc8bJ9pXYwjKq8HB)"
      ]
    },
    {
      "cell_type": "markdown",
      "metadata": {
        "id": "FgeajHneN0n-",
        "colab_type": "text"
      },
      "source": [
        "![alt text](https://drive.google.com/uc?id=1M61rNUjUIiLk9fXn_JMOMNNlWIvoAdqZ)"
      ]
    },
    {
      "cell_type": "markdown",
      "metadata": {
        "id": "IDfxz7ANN0d0",
        "colab_type": "text"
      },
      "source": [
        "![alt text](https://drive.google.com/uc?id=1RbPm2w8nCilFNLGwy51U6sKwansC5m3j)"
      ]
    },
    {
      "cell_type": "markdown",
      "metadata": {
        "id": "aazrMMkdN0Td",
        "colab_type": "text"
      },
      "source": [
        "![alt text](https://drive.google.com/uc?id=1My2aBvY6c6wbZ1XjdlVOCCCW-B6UncqT)"
      ]
    },
    {
      "cell_type": "markdown",
      "metadata": {
        "id": "Vkyv60YkN0IF",
        "colab_type": "text"
      },
      "source": [
        "![alt text](https://drive.google.com/uc?id=1mei77rdrMzNmy0E8dPnzdBTXS8z55jlh)"
      ]
    },
    {
      "cell_type": "markdown",
      "metadata": {
        "id": "3IxX0qUQNzn8",
        "colab_type": "text"
      },
      "source": [
        "![alt text](https://drive.google.com/uc?id=1qCbjArRCg65nXcSkXcVAgnO2blWj17OR)"
      ]
    },
    {
      "cell_type": "markdown",
      "metadata": {
        "id": "Cn9LGOIWO5sv",
        "colab_type": "text"
      },
      "source": [
        "![alt text](https://drive.google.com/uc?id=1SbMyUv35byBRRdx0c-cvmRINLFgChqTC)"
      ]
    },
    {
      "cell_type": "markdown",
      "metadata": {
        "id": "kWMHWNWaZrPY",
        "colab_type": "text"
      },
      "source": [
        "## Coding Time"
      ]
    },
    {
      "cell_type": "markdown",
      "metadata": {
        "id": "aV-q0YA3aS5w",
        "colab_type": "text"
      },
      "source": [
        "### Rounding"
      ]
    },
    {
      "cell_type": "code",
      "metadata": {
        "id": "xqgpVg-zNxKi",
        "colab_type": "code",
        "outputId": "56fedd19-fceb-40a3-9b57-b0d857f1e444",
        "colab": {
          "base_uri": "https://localhost:8080/",
          "height": 190
        }
      },
      "source": [
        "help(round)"
      ],
      "execution_count": 0,
      "outputs": [
        {
          "output_type": "stream",
          "text": [
            "Help on built-in function round in module builtins:\n",
            "\n",
            "round(...)\n",
            "    round(number[, ndigits]) -> number\n",
            "    \n",
            "    Round a number to a given precision in decimal digits (default 0 digits).\n",
            "    This returns an int when called with one argument, otherwise the\n",
            "    same type as the number. ndigits may be negative.\n",
            "\n"
          ],
          "name": "stdout"
        }
      ]
    },
    {
      "cell_type": "markdown",
      "metadata": {
        "id": "fILfzed8aYxz",
        "colab_type": "text"
      },
      "source": [
        "#### n = 0"
      ]
    },
    {
      "cell_type": "code",
      "metadata": {
        "id": "GUPOlsmnaV4g",
        "colab_type": "code",
        "outputId": "cb22babe-085f-484d-89ab-3a22a13d92cf",
        "colab": {
          "base_uri": "https://localhost:8080/",
          "height": 34
        }
      },
      "source": [
        "a = round(1.5)\n",
        "a, type(a)"
      ],
      "execution_count": 0,
      "outputs": [
        {
          "output_type": "execute_result",
          "data": {
            "text/plain": [
              "(2, int)"
            ]
          },
          "metadata": {
            "tags": []
          },
          "execution_count": 11
        }
      ]
    },
    {
      "cell_type": "code",
      "metadata": {
        "id": "wDsNopbQafMw",
        "colab_type": "code",
        "outputId": "9281a49d-88b9-4e3f-e264-d0bb720cc45b",
        "colab": {
          "base_uri": "https://localhost:8080/",
          "height": 34
        }
      },
      "source": [
        "a = round(1.5, 0)\n",
        "a,  type(a)"
      ],
      "execution_count": 0,
      "outputs": [
        {
          "output_type": "execute_result",
          "data": {
            "text/plain": [
              "(2.0, float)"
            ]
          },
          "metadata": {
            "tags": []
          },
          "execution_count": 12
        }
      ]
    },
    {
      "cell_type": "markdown",
      "metadata": {
        "id": "iw91uc_fanSo",
        "colab_type": "text"
      },
      "source": [
        "#### n > 0"
      ]
    },
    {
      "cell_type": "code",
      "metadata": {
        "id": "40sxBjm0akzy",
        "colab_type": "code",
        "outputId": "0d694809-4986-4217-93db-02ea82d34863",
        "colab": {
          "base_uri": "https://localhost:8080/",
          "height": 34
        }
      },
      "source": [
        "round(1.88888, 3), round(1.8888, 2), round(1.8888, 1), round(1.8888, 0)"
      ],
      "execution_count": 0,
      "outputs": [
        {
          "output_type": "execute_result",
          "data": {
            "text/plain": [
              "(1.889, 1.89, 1.9, 2.0)"
            ]
          },
          "metadata": {
            "tags": []
          },
          "execution_count": 19
        }
      ]
    },
    {
      "cell_type": "markdown",
      "metadata": {
        "id": "x4hjuqmBdqjF",
        "colab_type": "text"
      },
      "source": [
        "#### n < 0"
      ]
    },
    {
      "cell_type": "code",
      "metadata": {
        "id": "Yf96IqEudvNE",
        "colab_type": "code",
        "outputId": "ea4e4003-23e1-4813-c0fa-d45176f7e322",
        "colab": {
          "base_uri": "https://localhost:8080/",
          "height": 34
        }
      },
      "source": [
        "round(888.88, 1), round(888.88, 0), \\\n",
        "round(888.88, -1), round(888.88, -2), round(888.88, -3), round(888.88, -4)"
      ],
      "execution_count": 0,
      "outputs": [
        {
          "output_type": "execute_result",
          "data": {
            "text/plain": [
              "(888.9, 889.0, 890.0, 900.0, 1000.0, 0.0)"
            ]
          },
          "metadata": {
            "tags": []
          },
          "execution_count": 24
        }
      ]
    },
    {
      "cell_type": "markdown",
      "metadata": {
        "id": "AupUpxCfaxPe",
        "colab_type": "text"
      },
      "source": [
        "#### Ties"
      ]
    },
    {
      "cell_type": "code",
      "metadata": {
        "id": "c7JrSnHeawTx",
        "colab_type": "code",
        "outputId": "7807069a-d548-42e2-a815-46de60b9503f",
        "colab": {
          "base_uri": "https://localhost:8080/",
          "height": 34
        }
      },
      "source": [
        "round(1.25, 1)"
      ],
      "execution_count": 0,
      "outputs": [
        {
          "output_type": "execute_result",
          "data": {
            "text/plain": [
              "1.2"
            ]
          },
          "metadata": {
            "tags": []
          },
          "execution_count": 14
        }
      ]
    },
    {
      "cell_type": "code",
      "metadata": {
        "id": "95Un-XqZa0G8",
        "colab_type": "code",
        "outputId": "ead82dde-1409-4dfd-a88c-e7755b5e24ab",
        "colab": {
          "base_uri": "https://localhost:8080/",
          "height": 34
        }
      },
      "source": [
        "round(1.35, 1)"
      ],
      "execution_count": 0,
      "outputs": [
        {
          "output_type": "execute_result",
          "data": {
            "text/plain": [
              "1.4"
            ]
          },
          "metadata": {
            "tags": []
          },
          "execution_count": 15
        }
      ]
    },
    {
      "cell_type": "markdown",
      "metadata": {
        "id": "8FSI0hiPa3Ih",
        "colab_type": "text"
      },
      "source": [
        "This is rounding to nearest, with ties to nearest number with even least significant digit, aka Banker's Rounding.\n",
        "</br>\n",
        "</br>\n",
        "Works similarly with **n** negative."
      ]
    },
    {
      "cell_type": "code",
      "metadata": {
        "id": "PsZ-zGKua1Tt",
        "colab_type": "code",
        "outputId": "fc66d2a9-d612-41cc-bc9f-9eec8ee11e2b",
        "colab": {
          "base_uri": "https://localhost:8080/",
          "height": 51
        }
      },
      "source": [
        "print(round(15, -1))\n",
        "print(round(25, -1))"
      ],
      "execution_count": 0,
      "outputs": [
        {
          "output_type": "stream",
          "text": [
            "20\n",
            "20\n"
          ],
          "name": "stdout"
        }
      ]
    },
    {
      "cell_type": "markdown",
      "metadata": {
        "id": "49BrscLkbHgO",
        "colab_type": "text"
      },
      "source": [
        "#### Rounding to closest, ties away from zero"
      ]
    },
    {
      "cell_type": "markdown",
      "metadata": {
        "id": "XS_1_xlNbJb1",
        "colab_type": "text"
      },
      "source": [
        "This is traditionally the type of rounding taught in school, which is different from the Banker's Rounding implemented in Python (and in many other programming languages)\n",
        "</br> \n",
        "</br>\n",
        "1.5 --> 2 <br>\n",
        "2.5 --> 3 <br>\n",
        "\n",
        "-1.5 --> -2 <br>\n",
        "-2.5 --> -3 <br>\n",
        "</br>\n",
        "</br>\n",
        "To do this type of rounding (to nearest 1) we can add (for positive numbers) or subtract (for negative numbers) 0.5 and then truncate the resulting number."
      ]
    },
    {
      "cell_type": "code",
      "metadata": {
        "id": "SexxY-zMbDiS",
        "colab_type": "code",
        "colab": {}
      },
      "source": [
        "def _round(x):\n",
        "    from math import copysign\n",
        "    return int(x + 0.5 * copysign(1, x))"
      ],
      "execution_count": 0,
      "outputs": []
    },
    {
      "cell_type": "code",
      "metadata": {
        "id": "6wPt61yBbXYr",
        "colab_type": "code",
        "outputId": "04859ff6-2df9-4b1c-da13-b849f8717fc6",
        "colab": {
          "base_uri": "https://localhost:8080/",
          "height": 51
        }
      },
      "source": [
        "print(round(1.5), _round(1.5))\n",
        "print(round(2.5), _round(2.5))"
      ],
      "execution_count": 0,
      "outputs": [
        {
          "output_type": "stream",
          "text": [
            "2 2\n",
            "2 3\n"
          ],
          "name": "stdout"
        }
      ]
    },
    {
      "cell_type": "markdown",
      "metadata": {
        "id": "uI6LicfrevK0",
        "colab_type": "text"
      },
      "source": [
        "# 10.DECIMALS"
      ]
    },
    {
      "cell_type": "markdown",
      "metadata": {
        "id": "rtVPkA5Ne4Vm",
        "colab_type": "text"
      },
      "source": [
        "![alt text](https://drive.google.com/uc?id=1IRwhcS0jtnnkgU8xP7bka9ushUuBOuz6)"
      ]
    },
    {
      "cell_type": "markdown",
      "metadata": {
        "id": "3Un63xvTe4MJ",
        "colab_type": "text"
      },
      "source": [
        "![alt text](https://drive.google.com/uc?id=1JhIeJ9926gkB-FO5VT3TAcgl0ZL1P8EJ)"
      ]
    },
    {
      "cell_type": "markdown",
      "metadata": {
        "id": "wmhgnZ3Ne4D-",
        "colab_type": "text"
      },
      "source": [
        "![alt text](https://drive.google.com/uc?id=1TLzo1I_gY1U-Sr-jnIInrPZE50wTJEYP)"
      ]
    },
    {
      "cell_type": "markdown",
      "metadata": {
        "id": "UhzZV0VFe37c",
        "colab_type": "text"
      },
      "source": [
        "![alt text](https://drive.google.com/uc?id=1O_7P5BPuopyXdZjprfylUB-JtJb98ozx)"
      ]
    },
    {
      "cell_type": "markdown",
      "metadata": {
        "id": "4UdXH38Ze3xw",
        "colab_type": "text"
      },
      "source": [
        "![alt text](https://drive.google.com/uc?id=1gN49UTbhfsmbn0WZOXLRES7Sw5-orx1p)"
      ]
    },
    {
      "cell_type": "markdown",
      "metadata": {
        "id": "B6z0QeFtl9Np",
        "colab_type": "text"
      },
      "source": [
        "## Coding Time"
      ]
    },
    {
      "cell_type": "code",
      "metadata": {
        "id": "A9eAR99-e12u",
        "colab_type": "code",
        "colab": {}
      },
      "source": [
        "import decimal\n",
        "from decimal import Decimal"
      ],
      "execution_count": 0,
      "outputs": []
    },
    {
      "cell_type": "markdown",
      "metadata": {
        "id": "76kdy4g0mHEP",
        "colab_type": "text"
      },
      "source": [
        "Decimals have context, that can be used to specify rounding and precision (amongst other things)\n",
        "</br>\n",
        "</br>\n",
        "Contexts can be local (temporary contexts) or global (default)"
      ]
    },
    {
      "cell_type": "markdown",
      "metadata": {
        "id": "eRRdNDcpmNqb",
        "colab_type": "text"
      },
      "source": [
        "### Global Context"
      ]
    },
    {
      "cell_type": "code",
      "metadata": {
        "id": "Ae8lMW_smFmA",
        "colab_type": "code",
        "outputId": "13dd6b91-b383-4ac4-e6b2-e6c122f0c68e",
        "colab": {
          "base_uri": "https://localhost:8080/",
          "height": 34
        }
      },
      "source": [
        "g_ctx  = decimal.getcontext()\n",
        "g_ctx.prec"
      ],
      "execution_count": 0,
      "outputs": [
        {
          "output_type": "execute_result",
          "data": {
            "text/plain": [
              "28"
            ]
          },
          "metadata": {
            "tags": []
          },
          "execution_count": 2
        }
      ]
    },
    {
      "cell_type": "code",
      "metadata": {
        "id": "6ABD3mp5sH6k",
        "colab_type": "code",
        "outputId": "c85d3082-bff0-481a-8b48-f23cba8ca5e7",
        "colab": {
          "base_uri": "https://localhost:8080/",
          "height": 51
        }
      },
      "source": [
        "print(type(g_ctx))\n",
        "print(type(decimal.localcontext()))\n"
      ],
      "execution_count": 0,
      "outputs": [
        {
          "output_type": "stream",
          "text": [
            "<class 'decimal.Context'>\n",
            "<class 'decimal.ContextManager'>\n"
          ],
          "name": "stdout"
        }
      ]
    },
    {
      "cell_type": "markdown",
      "metadata": {
        "id": "D83yQA1cs8MJ",
        "colab_type": "text"
      },
      "source": [
        "This HINTS we have to use `with` statement"
      ]
    },
    {
      "cell_type": "code",
      "metadata": {
        "id": "3Pxk3kipmVAZ",
        "colab_type": "code",
        "outputId": "d64673b7-52e8-491c-ef9f-2afa1207fa31",
        "colab": {
          "base_uri": "https://localhost:8080/",
          "height": 34
        }
      },
      "source": [
        "g_ctx.rounding"
      ],
      "execution_count": 0,
      "outputs": [
        {
          "output_type": "execute_result",
          "data": {
            "text/plain": [
              "'ROUND_HALF_EVEN'"
            ]
          },
          "metadata": {
            "tags": []
          },
          "execution_count": 3
        }
      ]
    },
    {
      "cell_type": "code",
      "metadata": {
        "id": "Tsz5_ZiqmVq4",
        "colab_type": "code",
        "colab": {}
      },
      "source": [
        "g_ctx.prec = 6\n",
        "g_ctx.rounding = decimal.ROUND_HALF_UP\n"
      ],
      "execution_count": 0,
      "outputs": []
    },
    {
      "cell_type": "code",
      "metadata": {
        "id": "P8t8XCdvsaDm",
        "colab_type": "code",
        "outputId": "ad0088a2-c1a5-462c-8ad5-ddba9a0f8393",
        "colab": {
          "base_uri": "https://localhost:8080/",
          "height": 34
        }
      },
      "source": [
        "decimal.getcontext()"
      ],
      "execution_count": 0,
      "outputs": [
        {
          "output_type": "execute_result",
          "data": {
            "text/plain": [
              "Context(prec=6, rounding=ROUND_HALF_EVEN, Emin=-999999, Emax=999999, capitals=1, clamp=0, flags=[Inexact, Rounded], traps=[InvalidOperation, DivisionByZero, Overflow])"
            ]
          },
          "metadata": {
            "tags": []
          },
          "execution_count": 19
        }
      ]
    },
    {
      "cell_type": "markdown",
      "metadata": {
        "id": "eJAgJDCEmc1Q",
        "colab_type": "text"
      },
      "source": [
        "And if we read this back directly from the global context:"
      ]
    },
    {
      "cell_type": "code",
      "metadata": {
        "id": "YANCZZt4maTS",
        "colab_type": "code",
        "outputId": "513ca9bc-f016-43f2-ef3f-56b582134f9c",
        "colab": {
          "base_uri": "https://localhost:8080/",
          "height": 34
        }
      },
      "source": [
        "decimal.getcontext().prec"
      ],
      "execution_count": 0,
      "outputs": [
        {
          "output_type": "execute_result",
          "data": {
            "text/plain": [
              "6"
            ]
          },
          "metadata": {
            "tags": []
          },
          "execution_count": 5
        }
      ]
    },
    {
      "cell_type": "code",
      "metadata": {
        "id": "kP-e3Aogmfz4",
        "colab_type": "code",
        "outputId": "cceb7544-83f8-48d7-a986-0ad59085b63d",
        "colab": {
          "base_uri": "https://localhost:8080/",
          "height": 34
        }
      },
      "source": [
        "decimal.getcontext().rounding"
      ],
      "execution_count": 0,
      "outputs": [
        {
          "output_type": "execute_result",
          "data": {
            "text/plain": [
              "'ROUND_HALF_UP'"
            ]
          },
          "metadata": {
            "tags": []
          },
          "execution_count": 6
        }
      ]
    },
    {
      "cell_type": "markdown",
      "metadata": {
        "id": "r3e7v9OKmkGn",
        "colab_type": "text"
      },
      "source": [
        "### Local Context"
      ]
    },
    {
      "cell_type": "markdown",
      "metadata": {
        "id": "Bnl9C_lcmnRz",
        "colab_type": "text"
      },
      "source": [
        "The ``localcontext()`` function will return a context manager that we can use with a ``with`` statement:"
      ]
    },
    {
      "cell_type": "code",
      "metadata": {
        "id": "NNxT4RHBmhX_",
        "colab_type": "code",
        "outputId": "c6436e1f-79b0-43a6-8fa6-0b4abe8fcd2c",
        "colab": {
          "base_uri": "https://localhost:8080/",
          "height": 68
        }
      },
      "source": [
        "with decimal.localcontext() as ctx:\n",
        "    print(ctx.prec)\n",
        "    print(ctx.rounding)\n",
        "    print(id(ctx) == id(decimal.getcontext()))"
      ],
      "execution_count": 0,
      "outputs": [
        {
          "output_type": "stream",
          "text": [
            "6\n",
            "ROUND_HALF_EVEN\n",
            "True\n"
          ],
          "name": "stdout"
        }
      ]
    },
    {
      "cell_type": "markdown",
      "metadata": {
        "id": "87b0tqfmmsIY",
        "colab_type": "text"
      },
      "source": [
        "Since no argument was specified in the ``localcontext()`` call, it provides us a context manager that uses a copy of the global context.\n",
        "</br>\n",
        "</br>\n",
        "Modifying the local context has no effect on the global context"
      ]
    },
    {
      "cell_type": "code",
      "metadata": {
        "id": "JE5zI2fNmprJ",
        "colab_type": "code",
        "outputId": "ac856bcb-3db2-4721-a702-1a8ff478adb6",
        "colab": {
          "base_uri": "https://localhost:8080/",
          "height": 34
        }
      },
      "source": [
        "with decimal.localcontext() as ctx:\n",
        "    ctx.prec = 10\n",
        "    print('local prec = {0}, global prec = {1}'.format(ctx.prec, g_ctx.prec))"
      ],
      "execution_count": 0,
      "outputs": [
        {
          "output_type": "stream",
          "text": [
            "local prec = 10, global prec = 6\n"
          ],
          "name": "stdout"
        }
      ]
    },
    {
      "cell_type": "markdown",
      "metadata": {
        "id": "QBlk4HYwmyZ6",
        "colab_type": "text"
      },
      "source": [
        "### Rounding"
      ]
    },
    {
      "cell_type": "code",
      "metadata": {
        "id": "C3uHNZbcmwlw",
        "colab_type": "code",
        "outputId": "30818c97-365c-4422-f163-a9bae6244858",
        "colab": {
          "base_uri": "https://localhost:8080/",
          "height": 34
        }
      },
      "source": [
        "decimal.getcontext().rounding"
      ],
      "execution_count": 0,
      "outputs": [
        {
          "output_type": "execute_result",
          "data": {
            "text/plain": [
              "'ROUND_HALF_UP'"
            ]
          },
          "metadata": {
            "tags": []
          },
          "execution_count": 9
        }
      ]
    },
    {
      "cell_type": "markdown",
      "metadata": {
        "id": "HRoSX7A9m78s",
        "colab_type": "text"
      },
      "source": [
        "The rounding mechanism is ROUND_HALF_UP because we set the global context to that earlier in this notebook. Note that normally the default is ROUND_HALF_EVEN.\n",
        "</br>\n",
        "So we first reset our global context rounding to that:"
      ]
    },
    {
      "cell_type": "code",
      "metadata": {
        "id": "443KkK04m7DP",
        "colab_type": "code",
        "colab": {}
      },
      "source": [
        "decimal.getcontext().rounding = decimal.ROUND_HALF_EVEN"
      ],
      "execution_count": 0,
      "outputs": []
    },
    {
      "cell_type": "code",
      "metadata": {
        "id": "n-SnkCIWnB2l",
        "colab_type": "code",
        "outputId": "24858f48-0f45-4ba4-e028-be6376e2867f",
        "colab": {
          "base_uri": "https://localhost:8080/",
          "height": 51
        }
      },
      "source": [
        "x = Decimal('1.25')\n",
        "y = Decimal('1.35')\n",
        "print(round(x, 1))\n",
        "print(round(y, 1))"
      ],
      "execution_count": 0,
      "outputs": [
        {
          "output_type": "stream",
          "text": [
            "1.2\n",
            "1.4\n"
          ],
          "name": "stdout"
        }
      ]
    },
    {
      "cell_type": "markdown",
      "metadata": {
        "id": "H1Y2eSoznE6Y",
        "colab_type": "text"
      },
      "source": [
        "Let's change the rounding mechanism in the global context to ROUND_HALF_UP:"
      ]
    },
    {
      "cell_type": "code",
      "metadata": {
        "id": "eGrANzm-nC3g",
        "colab_type": "code",
        "colab": {}
      },
      "source": [
        "decimal.getcontext().rounding = decimal.ROUND_HALF_UP"
      ],
      "execution_count": 0,
      "outputs": []
    },
    {
      "cell_type": "code",
      "metadata": {
        "id": "WVTUgaltnEJ8",
        "colab_type": "code",
        "outputId": "74f750d2-8b6d-4ada-91c5-609ba92d5cc3",
        "colab": {
          "base_uri": "https://localhost:8080/",
          "height": 51
        }
      },
      "source": [
        "x = Decimal('1.25')\n",
        "y = Decimal('1.35')\n",
        "print(round(x, 1))\n",
        "print(round(y, 1))"
      ],
      "execution_count": 0,
      "outputs": [
        {
          "output_type": "stream",
          "text": [
            "1.3\n",
            "1.4\n"
          ],
          "name": "stdout"
        }
      ]
    },
    {
      "cell_type": "markdown",
      "metadata": {
        "id": "dI3sMeTEnJ3f",
        "colab_type": "text"
      },
      "source": [
        "As you may have realized, changing the global context is a pain if you need to constantly switch between different precisions and rounding algorithms. Also, it could introduce bugs if you forget that you changed the global context somewhere further up in your module.\n",
        "\n",
        "For this reason, it is usually better to use a local context manager instead:"
      ]
    },
    {
      "cell_type": "markdown",
      "metadata": {
        "id": "Y9ShLBbhnMHh",
        "colab_type": "text"
      },
      "source": [
        "First we reset our global context rounding to the default:"
      ]
    },
    {
      "cell_type": "code",
      "metadata": {
        "id": "Z9ta6Mf_nIQg",
        "colab_type": "code",
        "colab": {}
      },
      "source": [
        "decimal.getcontext().rounding = decimal.ROUND_HALF_EVEN"
      ],
      "execution_count": 0,
      "outputs": []
    },
    {
      "cell_type": "code",
      "metadata": {
        "id": "xPcTaaDgnOC_",
        "colab_type": "code",
        "outputId": "0b0b0b5a-7c31-40e5-e0e5-9caf17390f7c",
        "colab": {
          "base_uri": "https://localhost:8080/",
          "height": 68
        }
      },
      "source": [
        "x = Decimal('1.25')\n",
        "y = Decimal('1.35')\n",
        "print(round(x, 1), round(y, 1))\n",
        "with decimal.localcontext() as ctx:\n",
        "    ctx.rounding = decimal.ROUND_HALF_UP\n",
        "    print(round(x, 1), round(y, 1))\n",
        "print(round(x, 1), round(y, 1))"
      ],
      "execution_count": 0,
      "outputs": [
        {
          "output_type": "stream",
          "text": [
            "1.2 1.4\n",
            "1.3 1.4\n",
            "1.2 1.4\n"
          ],
          "name": "stdout"
        }
      ]
    },
    {
      "cell_type": "markdown",
      "metadata": {
        "id": "Ylm-Wix6vXVB",
        "colab_type": "text"
      },
      "source": [
        "# 11.DECIMALS: Constructors and Contexts"
      ]
    },
    {
      "cell_type": "markdown",
      "metadata": {
        "id": "6zcACIRTux2I",
        "colab_type": "text"
      },
      "source": [
        "![alt text](https://drive.google.com/uc?id=1J2flbXcDER9Cqd1_hlPlyODbrspG4aiW)"
      ]
    },
    {
      "cell_type": "markdown",
      "metadata": {
        "id": "ddkO2p0Qvlng",
        "colab_type": "text"
      },
      "source": [
        "![alt text](https://drive.google.com/uc?id=1A0jTFyFGE0TSko2T5lW3SXZKMDVzHBmt)"
      ]
    },
    {
      "cell_type": "markdown",
      "metadata": {
        "id": "ux38IppNvu2E",
        "colab_type": "text"
      },
      "source": [
        "![alt text](https://drive.google.com/uc?id=1NZkcYkPkhvoJxp4wFL6tuV8zGYKYoMA-)"
      ]
    },
    {
      "cell_type": "markdown",
      "metadata": {
        "id": "hOgt20VMv0Oi",
        "colab_type": "text"
      },
      "source": [
        "![alt text](https://drive.google.com/uc?id=17mmWRsuxjjbtzm6UYeQMlYj4637Z42ja)"
      ]
    },
    {
      "cell_type": "markdown",
      "metadata": {
        "id": "Eya5VrDIyFGp",
        "colab_type": "text"
      },
      "source": [
        "## Coding Time"
      ]
    },
    {
      "cell_type": "markdown",
      "metadata": {
        "id": "H4_rkMqI7vdi",
        "colab_type": "text"
      },
      "source": [
        "The **Decimal** constructor can handle a variety of data types"
      ]
    },
    {
      "cell_type": "code",
      "metadata": {
        "id": "g1_S119znPIo",
        "colab_type": "code",
        "colab": {}
      },
      "source": [
        "import decimal\n",
        "from decimal import Decimal"
      ],
      "execution_count": 0,
      "outputs": []
    },
    {
      "cell_type": "markdown",
      "metadata": {
        "id": "HKwV2mRj7zwe",
        "colab_type": "text"
      },
      "source": [
        "### Integers"
      ]
    },
    {
      "cell_type": "code",
      "metadata": {
        "id": "GJriiONc7xdV",
        "colab_type": "code",
        "outputId": "be8438a5-7196-4280-87f1-36661230a6b9",
        "colab": {
          "base_uri": "https://localhost:8080/",
          "height": 51
        }
      },
      "source": [
        "print(Decimal(10))\n",
        "print(Decimal(-10))"
      ],
      "execution_count": 0,
      "outputs": [
        {
          "output_type": "stream",
          "text": [
            "10\n",
            "-10\n"
          ],
          "name": "stdout"
        }
      ]
    },
    {
      "cell_type": "markdown",
      "metadata": {
        "id": "xobBsC5178cG",
        "colab_type": "text"
      },
      "source": [
        "### Strings"
      ]
    },
    {
      "cell_type": "code",
      "metadata": {
        "id": "q-QXJnaa75x6",
        "colab_type": "code",
        "outputId": "0163ce1a-c893-4fe5-a775-f29aac8f7b0c",
        "colab": {
          "base_uri": "https://localhost:8080/",
          "height": 51
        }
      },
      "source": [
        "print(Decimal('0.1'))\n",
        "print(Decimal('-3.1415'))"
      ],
      "execution_count": 0,
      "outputs": [
        {
          "output_type": "stream",
          "text": [
            "0.1\n",
            "-3.1415\n"
          ],
          "name": "stdout"
        }
      ]
    },
    {
      "cell_type": "markdown",
      "metadata": {
        "id": "pfoYpacO8Dfj",
        "colab_type": "text"
      },
      "source": [
        "### Tuples"
      ]
    },
    {
      "cell_type": "markdown",
      "metadata": {
        "id": "Crl6GQCI9oiB",
        "colab_type": "text"
      },
      "source": [
        "CAREFUL! You need double `(...)` because it is tuple."
      ]
    },
    {
      "cell_type": "code",
      "metadata": {
        "id": "sprnqMVp8CF1",
        "colab_type": "code",
        "outputId": "1977c1dc-c3de-464e-f1c9-21796f1bdd38",
        "colab": {
          "base_uri": "https://localhost:8080/",
          "height": 68
        }
      },
      "source": [
        "print(Decimal ((0, (3,1,4,1,5), -4)))\n",
        "print(Decimal((1, (1,2,3,4), -3)))\n",
        "print(Decimal((0, (1,2,3), 3)))"
      ],
      "execution_count": 0,
      "outputs": [
        {
          "output_type": "stream",
          "text": [
            "3.1415\n",
            "-1.234\n",
            "1.23E+5\n"
          ],
          "name": "stdout"
        }
      ]
    },
    {
      "cell_type": "markdown",
      "metadata": {
        "id": "HL1vn6rU8NFH",
        "colab_type": "text"
      },
      "source": [
        "### But don't use Floats"
      ]
    },
    {
      "cell_type": "code",
      "metadata": {
        "id": "ELDFrrx08LBg",
        "colab_type": "code",
        "outputId": "7d480f29-fdff-4784-acc1-600dc5d78839",
        "colab": {
          "base_uri": "https://localhost:8080/",
          "height": 51
        }
      },
      "source": [
        "print(format(0.1, '.25f'))\n",
        "print(Decimal(0.1))"
      ],
      "execution_count": 0,
      "outputs": [
        {
          "output_type": "stream",
          "text": [
            "0.1000000000000000055511151\n",
            "0.1000000000000000055511151231257827021181583404541015625\n"
          ],
          "name": "stdout"
        }
      ]
    },
    {
      "cell_type": "markdown",
      "metadata": {
        "id": "QP0PIcC78ZHc",
        "colab_type": "text"
      },
      "source": [
        "As you can see, since we passed an approximate binary float to the Decimal constructor it did it's best to represent that binary float **exactly**!!\n",
        "</br>\n",
        "</br>\n",
        "So, instead, use strings or tuples in the Decimal constructor."
      ]
    },
    {
      "cell_type": "markdown",
      "metadata": {
        "id": "UKLd6LfC8hmY",
        "colab_type": "text"
      },
      "source": [
        "### Context Precision and the Constructor"
      ]
    },
    {
      "cell_type": "markdown",
      "metadata": {
        "id": "TAq0GjHx8lC7",
        "colab_type": "text"
      },
      "source": [
        "The context precision does nto affect the precision used when creating a Decimal object - those are independent of each other.\n",
        "</br>\n",
        "</br>\n",
        "Let's set our global (default) context to a precision of 2"
      ]
    },
    {
      "cell_type": "code",
      "metadata": {
        "id": "J0O6AHaI8SQv",
        "colab_type": "code",
        "colab": {}
      },
      "source": [
        "decimal.getcontext().prec = 2"
      ],
      "execution_count": 0,
      "outputs": []
    },
    {
      "cell_type": "markdown",
      "metadata": {
        "id": "fSHcsHJk8srM",
        "colab_type": "text"
      },
      "source": [
        "Now we can create decimal numbers of higher precision than that:"
      ]
    },
    {
      "cell_type": "code",
      "metadata": {
        "id": "i4ayhjlG8rJf",
        "colab_type": "code",
        "outputId": "80170b72-7e7d-44ed-a86b-5dd5c16a0b12",
        "colab": {
          "base_uri": "https://localhost:8080/",
          "height": 34
        }
      },
      "source": [
        "a = Decimal('0.12345')\n",
        "b = Decimal('0.12345')\n",
        "\n",
        "print(a,\n",
        "      b)"
      ],
      "execution_count": 0,
      "outputs": [
        {
          "output_type": "stream",
          "text": [
            "0.12345 0.12345\n"
          ],
          "name": "stdout"
        }
      ]
    },
    {
      "cell_type": "markdown",
      "metadata": {
        "id": "vnWzXiSy9DTS",
        "colab_type": "text"
      },
      "source": [
        "But when we add those two numbers up, the context precision will matter:"
      ]
    },
    {
      "cell_type": "code",
      "metadata": {
        "id": "cT3QMGhZ8vmS",
        "colab_type": "code",
        "outputId": "82ea7976-2859-479a-e041-3c4870807602",
        "colab": {
          "base_uri": "https://localhost:8080/",
          "height": 34
        }
      },
      "source": [
        "a+b"
      ],
      "execution_count": 0,
      "outputs": [
        {
          "output_type": "execute_result",
          "data": {
            "text/plain": [
              "Decimal('0.25')"
            ]
          },
          "metadata": {
            "tags": []
          },
          "execution_count": 17
        }
      ]
    },
    {
      "cell_type": "markdown",
      "metadata": {
        "id": "CHo7wFjU9HvV",
        "colab_type": "text"
      },
      "source": [
        "As you can see, we ended up with a sum that was rounded to 2 digits after the decimal point (precision = 2)"
      ]
    },
    {
      "cell_type": "markdown",
      "metadata": {
        "id": "w01MUv3O9JOT",
        "colab_type": "text"
      },
      "source": [
        "### Local and Global Contexts are Independent"
      ]
    },
    {
      "cell_type": "code",
      "metadata": {
        "id": "HTV2T4ku9GTh",
        "colab_type": "code",
        "outputId": "204f1679-1a52-4d8b-b76f-cf1239f553a8",
        "colab": {
          "base_uri": "https://localhost:8080/",
          "height": 34
        }
      },
      "source": [
        "decimal.getcontext().prec = 6\n",
        "decimal.getcontext().rounding"
      ],
      "execution_count": 0,
      "outputs": [
        {
          "output_type": "execute_result",
          "data": {
            "text/plain": [
              "'ROUND_HALF_EVEN'"
            ]
          },
          "metadata": {
            "tags": []
          },
          "execution_count": 18
        }
      ]
    },
    {
      "cell_type": "code",
      "metadata": {
        "id": "m440m8On9NnL",
        "colab_type": "code",
        "outputId": "d49b83af-b4e8-4f2a-83d0-055fe57eb9b0",
        "colab": {
          "base_uri": "https://localhost:8080/",
          "height": 68
        }
      },
      "source": [
        "a = Decimal('0.12345')\n",
        "b = Decimal('0.12345')\n",
        "print(a + b)\n",
        "with decimal.localcontext() as ctx:\n",
        "    ctx.prec = 2\n",
        "    c = a + b\n",
        "    print('c within local context: {0}'.format(c))\n",
        "print('c within global context: {0}'.format(c))"
      ],
      "execution_count": 0,
      "outputs": [
        {
          "output_type": "stream",
          "text": [
            "0.24690\n",
            "c within local context: 0.25\n",
            "c within global context: 0.25\n"
          ],
          "name": "stdout"
        }
      ]
    },
    {
      "cell_type": "markdown",
      "metadata": {
        "id": "CwqVJ1ju9RXK",
        "colab_type": "text"
      },
      "source": [
        "Since **c** was created within the local context by adding **a** and **b**, and the local context had a precision of 2, **c** was rounded to 2 digits after the decimal point.\n",
        "\n",
        "Once the local context is destroyed (after the **with** block), the variable **c** still exists, and its precision is **still** just 2 - it doesn't magically suddenly get the global context's precision of 6."
      ]
    },
    {
      "cell_type": "markdown",
      "metadata": {
        "id": "ZRO3k2e6_2sY",
        "colab_type": "text"
      },
      "source": [
        "# 12.DECIMALS: Math Operators"
      ]
    },
    {
      "cell_type": "markdown",
      "metadata": {
        "id": "CFD4mC6E_-Ob",
        "colab_type": "text"
      },
      "source": [
        "![alt text](https://drive.google.com/uc?id=1peAOctoNZWmWLnw9SFSyzCSlsqxZ9ojW)"
      ]
    },
    {
      "cell_type": "markdown",
      "metadata": {
        "id": "dOHJfnuGAB_0",
        "colab_type": "text"
      },
      "source": [
        "![alt text](https://drive.google.com/uc?id=1f-qFLNou55xB3vUqL-1DzGFFe7KrnKqa)"
      ]
    },
    {
      "cell_type": "markdown",
      "metadata": {
        "id": "GAEZxaZ2AHUp",
        "colab_type": "text"
      },
      "source": [
        "![alt text](https://drive.google.com/uc?id=1vgYNRpBx55qhzAMnGNBADYBDo6dWG9w1)"
      ]
    },
    {
      "cell_type": "markdown",
      "metadata": {
        "id": "YDwka0TeAMbo",
        "colab_type": "text"
      },
      "source": [
        "![alt text](https://drive.google.com/uc?id=1WfC3SPa94yq2Xf7sxWXZ580aEUyrmrtN)"
      ]
    },
    {
      "cell_type": "markdown",
      "metadata": {
        "id": "lNPN1UzKAQ41",
        "colab_type": "text"
      },
      "source": [
        "![alt text](https://drive.google.com/uc?id=1XYyKL-ONecaG1QXgPmNcfvXulYCjs4yZ)"
      ]
    },
    {
      "cell_type": "markdown",
      "metadata": {
        "id": "eWesolsHAZaz",
        "colab_type": "text"
      },
      "source": [
        "## Coding Time"
      ]
    },
    {
      "cell_type": "markdown",
      "metadata": {
        "id": "K61pbLqoH6sq",
        "colab_type": "text"
      },
      "source": [
        "### Div and Mod"
      ]
    },
    {
      "cell_type": "markdown",
      "metadata": {
        "id": "-9avLlRSH-pM",
        "colab_type": "text"
      },
      "source": [
        "The // and % operators (and consequently, the divmod() function) behave differently for integers and Decimals.\n",
        "</br>\n",
        "</br>\n",
        "This is because integer division for Decimals is performed differently, and results in a truncated division, whereas integers use a floored division.\n",
        "\n",
        "These differences are only when negative numbers are involved. If all numbers involved are positive, then integer and Decimal div and mod operations are equal.\n",
        "</br>\n",
        "</br>\n",
        "But in both cases the // and % operators satisfy the equation:\n",
        "\n",
        "``n = d * (n // d) + (n % d)``\n",
        "</br>\n",
        "</br>"
      ]
    },
    {
      "cell_type": "code",
      "metadata": {
        "id": "Ag1M5Vvj9POy",
        "colab_type": "code",
        "outputId": "857c725c-b61d-41f2-cd9d-a24868275a65",
        "colab": {
          "base_uri": "https://localhost:8080/",
          "height": 68
        }
      },
      "source": [
        "import decimal\n",
        "from decimal import Decimal\n",
        "\n",
        "x = 10\n",
        "y = 3\n",
        "print(x//y, x%y)\n",
        "print(divmod(x, y))\n",
        "print( x == y * (x//y) + x % y)"
      ],
      "execution_count": 0,
      "outputs": [
        {
          "output_type": "stream",
          "text": [
            "3 1\n",
            "(3, 1)\n",
            "True\n"
          ],
          "name": "stdout"
        }
      ]
    },
    {
      "cell_type": "code",
      "metadata": {
        "id": "ylQ1PWCfIJK_",
        "colab_type": "code",
        "outputId": "be0ddece-c690-4772-a2e0-3bfb4db54683",
        "colab": {
          "base_uri": "https://localhost:8080/",
          "height": 68
        }
      },
      "source": [
        "a = Decimal('10')\n",
        "b = Decimal('3')\n",
        "print(a//b, a%b)\n",
        "print(divmod(a, b))\n",
        "print( a == b * (a//b) + a % b)"
      ],
      "execution_count": 0,
      "outputs": [
        {
          "output_type": "stream",
          "text": [
            "3 1\n",
            "(Decimal('3'), Decimal('1'))\n",
            "True\n"
          ],
          "name": "stdout"
        }
      ]
    },
    {
      "cell_type": "markdown",
      "metadata": {
        "id": "nnDmSD7AIP8r",
        "colab_type": "text"
      },
      "source": [
        "As we can see, the // and % operators had the same result when both numbers were positive."
      ]
    },
    {
      "cell_type": "code",
      "metadata": {
        "id": "p93Ye6-SINxU",
        "colab_type": "code",
        "outputId": "201b7c56-7f42-4341-e7eb-0f831adfdbba",
        "colab": {
          "base_uri": "https://localhost:8080/",
          "height": 68
        }
      },
      "source": [
        "x = -10\n",
        "y = 3\n",
        "print(x//y, x%y)\n",
        "print(divmod(x, y))\n",
        "print( x == y * (x//y) + x % y)"
      ],
      "execution_count": 0,
      "outputs": [
        {
          "output_type": "stream",
          "text": [
            "-4 2\n",
            "(-4, 2)\n",
            "True\n"
          ],
          "name": "stdout"
        }
      ]
    },
    {
      "cell_type": "code",
      "metadata": {
        "id": "hcVOGNK9IUbg",
        "colab_type": "code",
        "outputId": "63fb7504-80c4-4fd5-a328-535371613bae",
        "colab": {
          "base_uri": "https://localhost:8080/",
          "height": 68
        }
      },
      "source": [
        "a = Decimal('-10')\n",
        "b = Decimal('3')\n",
        "print(a//b, a%b)\n",
        "print(divmod(a, b))\n",
        "print( a == b * (a//b) + a % b)"
      ],
      "execution_count": 0,
      "outputs": [
        {
          "output_type": "stream",
          "text": [
            "-3 -1\n",
            "(Decimal('-3'), Decimal('-1'))\n",
            "True\n"
          ],
          "name": "stdout"
        }
      ]
    },
    {
      "cell_type": "markdown",
      "metadata": {
        "id": "6iDp2ousIXj-",
        "colab_type": "text"
      },
      "source": [
        "On the other hand, we see that in this case the // and % operators did not result in the same values, although the equation was satisfied in both instances."
      ]
    },
    {
      "cell_type": "markdown",
      "metadata": {
        "id": "4zgIa4QkIY8u",
        "colab_type": "text"
      },
      "source": [
        "### Other Mathematical Functions"
      ]
    },
    {
      "cell_type": "markdown",
      "metadata": {
        "id": "JMLY12OzItVT",
        "colab_type": "text"
      },
      "source": [
        "The Decimal class implements a variety of mathematical functions."
      ]
    },
    {
      "cell_type": "code",
      "metadata": {
        "id": "AHtCMvdLIWBj",
        "colab_type": "code",
        "outputId": "7c6e9eb2-8ba2-4663-d864-6af2ac4edfb1",
        "colab": {
          "base_uri": "https://localhost:8080/",
          "height": 85
        }
      },
      "source": [
        "a = Decimal('1.5')\n",
        "print(a.log10())  # base 10 logarithm\n",
        "print(a.ln())     # natural logarithm (base e)\n",
        "print(a.exp())    # e**a\n",
        "print(a.sqrt())   # square root"
      ],
      "execution_count": 0,
      "outputs": [
        {
          "output_type": "stream",
          "text": [
            "0.176091\n",
            "0.405465\n",
            "4.48169\n",
            "1.22474\n"
          ],
          "name": "stdout"
        }
      ]
    },
    {
      "cell_type": "markdown",
      "metadata": {
        "id": "E6B9B00bIxfi",
        "colab_type": "text"
      },
      "source": [
        "Although you can use the math function of the math module, be aware that the math module functions will cast the Decimal numbers to floats when it performs the various operations. So, if the precision is important (which it probably is if you decided to use Decimal numbers in the first place), choose the math functions of the Decimal class over those of the math module."
      ]
    },
    {
      "cell_type": "code",
      "metadata": {
        "id": "pFhd5uHKIvrH",
        "colab_type": "code",
        "colab": {}
      },
      "source": [
        "x = 2\n",
        "x_dec = Decimal(2)"
      ],
      "execution_count": 0,
      "outputs": []
    },
    {
      "cell_type": "code",
      "metadata": {
        "id": "zp_DdZjNIzdK",
        "colab_type": "code",
        "colab": {}
      },
      "source": [
        "import math\n",
        "\n",
        "root_float = math.sqrt(x) # method from math\n",
        "root_mixed = math.sqrt(x_dec) \n",
        "root_dec = x_dec.sqrt() # method from Decimal"
      ],
      "execution_count": 0,
      "outputs": []
    },
    {
      "cell_type": "code",
      "metadata": {
        "id": "1M9StY_TI2Ta",
        "colab_type": "code",
        "outputId": "870d7aaf-24a4-46c8-b560-fd24b200b32b",
        "colab": {
          "base_uri": "https://localhost:8080/",
          "height": 68
        }
      },
      "source": [
        "print(format(root_float, '1.27f'))\n",
        "print(format(root_mixed, '1.27f'))\n",
        "print(root_dec)"
      ],
      "execution_count": 0,
      "outputs": [
        {
          "output_type": "stream",
          "text": [
            "1.414213562373095145474621859\n",
            "1.414213562373095145474621859\n",
            "1.41421\n"
          ],
          "name": "stdout"
        }
      ]
    },
    {
      "cell_type": "code",
      "metadata": {
        "id": "GasNDxK2I5QZ",
        "colab_type": "code",
        "outputId": "a1b1b680-2a7e-4201-958c-72b7ce8f0098",
        "colab": {
          "base_uri": "https://localhost:8080/",
          "height": 68
        }
      },
      "source": [
        "print(format(root_float * root_float, '1.27f'))\n",
        "print(format(root_mixed * root_mixed, '1.27f'))\n",
        "print(root_dec * root_dec)"
      ],
      "execution_count": 0,
      "outputs": [
        {
          "output_type": "stream",
          "text": [
            "2.000000000000000444089209850\n",
            "2.000000000000000444089209850\n",
            "1.99999\n"
          ],
          "name": "stdout"
        }
      ]
    },
    {
      "cell_type": "markdown",
      "metadata": {
        "id": "_G-Gm0XlNsI2",
        "colab_type": "text"
      },
      "source": [
        "#### IMPORTANT: We have to pass `string` to Decimal"
      ]
    },
    {
      "cell_type": "code",
      "metadata": {
        "id": "wnqcnZzgI52L",
        "colab_type": "code",
        "outputId": "94330c15-1468-4d0e-b4c1-67c23246a910",
        "colab": {
          "base_uri": "https://localhost:8080/",
          "height": 68
        }
      },
      "source": [
        "x = 0.01\n",
        "x_dec = Decimal('0.01')\n",
        "\n",
        "root_float = math.sqrt(x)\n",
        "root_mixed = math.sqrt(x_dec)\n",
        "root_dec = x_dec.sqrt()\n",
        "\n",
        "print(format(root_float, '1.27f'))\n",
        "print(format(root_mixed, '1.27f'))\n",
        "print(root_dec)"
      ],
      "execution_count": 0,
      "outputs": [
        {
          "output_type": "stream",
          "text": [
            "0.100000000000000005551115123\n",
            "0.100000000000000005551115123\n",
            "0.1\n"
          ],
          "name": "stdout"
        }
      ]
    },
    {
      "cell_type": "code",
      "metadata": {
        "id": "ZF-7iUk1I8n5",
        "colab_type": "code",
        "outputId": "b716ac75-8448-48d3-9756-1a1216eab09e",
        "colab": {
          "base_uri": "https://localhost:8080/",
          "height": 68
        }
      },
      "source": [
        "print(format(root_float * root_float, '1.27f'))\n",
        "print(format(root_mixed * root_mixed, '1.27f'))\n",
        "print(root_dec * root_dec)"
      ],
      "execution_count": 0,
      "outputs": [
        {
          "output_type": "stream",
          "text": [
            "0.010000000000000001942890293\n",
            "0.010000000000000001942890293\n",
            "0.01\n"
          ],
          "name": "stdout"
        }
      ]
    },
    {
      "cell_type": "markdown",
      "metadata": {
        "id": "fLmuxF6JOZOX",
        "colab_type": "text"
      },
      "source": [
        "# 13.DECIMALS: Performance Considerations"
      ]
    },
    {
      "cell_type": "markdown",
      "metadata": {
        "id": "uEBmt97vOdVh",
        "colab_type": "text"
      },
      "source": [
        "![alt text](https://drive.google.com/uc?id=16n_6OWUU7DPhzA62lARGWwiu_rydTet6)"
      ]
    },
    {
      "cell_type": "markdown",
      "metadata": {
        "id": "JBse_ou-PMwy",
        "colab_type": "text"
      },
      "source": [
        "## Coding Time\n",
        "\n"
      ]
    },
    {
      "cell_type": "markdown",
      "metadata": {
        "id": "ly-ND1JDPJYQ",
        "colab_type": "text"
      },
      "source": [
        "### Memory Footprint"
      ]
    },
    {
      "cell_type": "markdown",
      "metadata": {
        "id": "3o9AkGCdPVpt",
        "colab_type": "text"
      },
      "source": [
        "Decimals take up a lot more memory than floats."
      ]
    },
    {
      "cell_type": "code",
      "metadata": {
        "id": "inE6NQ82I-QJ",
        "colab_type": "code",
        "colab": {}
      },
      "source": [
        "import sys\n",
        "from decimal import Decimal\n",
        "\n",
        "a = 3.1415\n",
        "b = Decimal('3.1415')"
      ],
      "execution_count": 0,
      "outputs": []
    },
    {
      "cell_type": "code",
      "metadata": {
        "id": "qLyVXMYdPZzt",
        "colab_type": "code",
        "outputId": "78f9cd10-bb37-4645-9224-81b434c9dbe7",
        "colab": {
          "base_uri": "https://localhost:8080/",
          "height": 34
        }
      },
      "source": [
        "sys.getsizeof(a)"
      ],
      "execution_count": 0,
      "outputs": [
        {
          "output_type": "execute_result",
          "data": {
            "text/plain": [
              "24"
            ]
          },
          "metadata": {
            "tags": []
          },
          "execution_count": 41
        }
      ]
    },
    {
      "cell_type": "markdown",
      "metadata": {
        "id": "Kot-HX6qPbc8",
        "colab_type": "text"
      },
      "source": [
        "24 bytes are used to store the float 3.1415"
      ]
    },
    {
      "cell_type": "code",
      "metadata": {
        "id": "KxXY_TP2PeXy",
        "colab_type": "code",
        "outputId": "18700910-63ec-4242-aab5-2dd1e4f3b984",
        "colab": {
          "base_uri": "https://localhost:8080/",
          "height": 34
        }
      },
      "source": [
        "sys.getsizeof(b)"
      ],
      "execution_count": 0,
      "outputs": [
        {
          "output_type": "execute_result",
          "data": {
            "text/plain": [
              "104"
            ]
          },
          "metadata": {
            "tags": []
          },
          "execution_count": 42
        }
      ]
    },
    {
      "cell_type": "markdown",
      "metadata": {
        "id": "AGVJ6MatPdj2",
        "colab_type": "text"
      },
      "source": [
        "104 bytes are used to store the Decimal 3.1415"
      ]
    },
    {
      "cell_type": "markdown",
      "metadata": {
        "id": "dh3CwCHxPj9b",
        "colab_type": "text"
      },
      "source": [
        "### Computational **Performance**"
      ]
    },
    {
      "cell_type": "markdown",
      "metadata": {
        "id": "Ztb7Ev-HPoSl",
        "colab_type": "text"
      },
      "source": [
        "Decimal arithmetic is also much slower than float arithmetic (on a CPU, and even more so if using a GPU)\n",
        "</br>\n",
        "</br>\n",
        "We can do some rough timings to illustrate this.\n",
        "</br>\n",
        "</br>\n",
        "First we look at the performance difference creating floats vs decimals:"
      ]
    },
    {
      "cell_type": "code",
      "metadata": {
        "id": "4TA5ytI8PaQ-",
        "colab_type": "code",
        "colab": {}
      },
      "source": [
        "import time\n",
        "from decimal import Decimal\n",
        "\n",
        "def run_float(n=1):\n",
        "    for i in range(n):\n",
        "        a = 3.1415\n",
        "        \n",
        "def run_decimal(n=1):\n",
        "    for i in range(n):\n",
        "        a = Decimal('3.1415')\n"
      ],
      "execution_count": 0,
      "outputs": []
    },
    {
      "cell_type": "markdown",
      "metadata": {
        "id": "LkPaJ4kfP2_7",
        "colab_type": "text"
      },
      "source": [
        "Timing float and Decimal operations:"
      ]
    },
    {
      "cell_type": "code",
      "metadata": {
        "id": "9r4wGJ0pP1Eb",
        "colab_type": "code",
        "outputId": "9a8430e2-0f5b-4296-a0c2-43b7fd15ad67",
        "colab": {
          "base_uri": "https://localhost:8080/",
          "height": 51
        }
      },
      "source": [
        "n = 10000000\n",
        "\n",
        "start = time.perf_counter()\n",
        "run_float(n)\n",
        "end = time.perf_counter()\n",
        "print('float: ', end-start)\n",
        "\n",
        "start = time.perf_counter()\n",
        "run_decimal(n)\n",
        "end = time.perf_counter()\n",
        "print('decimal: ', end-start)"
      ],
      "execution_count": 0,
      "outputs": [
        {
          "output_type": "stream",
          "text": [
            "float:  0.26107951599988155\n",
            "decimal:  2.4094170359994678\n"
          ],
          "name": "stdout"
        }
      ]
    },
    {
      "cell_type": "markdown",
      "metadata": {
        "id": "C0XCqgXVP70h",
        "colab_type": "text"
      },
      "source": [
        "We make a slight variant here to see how addition compares between the two types:"
      ]
    },
    {
      "cell_type": "code",
      "metadata": {
        "id": "_AnrLFR6P6G3",
        "colab_type": "code",
        "outputId": "ee6f1796-9684-4d4d-e621-2d822855cfe5",
        "colab": {
          "base_uri": "https://localhost:8080/",
          "height": 51
        }
      },
      "source": [
        "def run_float(n=1):\n",
        "    a = 3.1415\n",
        "    for i in range(n):\n",
        "        a + a\n",
        "        \n",
        "def run_decimal(n=1):\n",
        "    a = Decimal('3.1415')\n",
        "    for i in range(n):\n",
        "        a + a\n",
        "        \n",
        "start = time.perf_counter()\n",
        "run_float(n)\n",
        "end = time.perf_counter()\n",
        "print('float: ', end-start)\n",
        "\n",
        "start = time.perf_counter()\n",
        "run_decimal(n)\n",
        "end = time.perf_counter()\n",
        "print('decimal: ', end-start)"
      ],
      "execution_count": 0,
      "outputs": [
        {
          "output_type": "stream",
          "text": [
            "float:  0.4037049119997391\n",
            "decimal:  0.9386818150005638\n"
          ],
          "name": "stdout"
        }
      ]
    },
    {
      "cell_type": "markdown",
      "metadata": {
        "id": "wMMQk5W5P_69",
        "colab_type": "text"
      },
      "source": [
        "How about square roots:\n",
        "\n",
        "(We drop the n count a bit)"
      ]
    },
    {
      "cell_type": "code",
      "metadata": {
        "id": "bfsNmbunP-Rl",
        "colab_type": "code",
        "outputId": "9b0f4441-9bb7-484f-9520-b3f186ec0221",
        "colab": {
          "base_uri": "https://localhost:8080/",
          "height": 51
        }
      },
      "source": [
        "n = 5000000\n",
        "\n",
        "import math\n",
        "\n",
        "def run_float(n=1):\n",
        "    a = 3.1415\n",
        "    for i in range(n):\n",
        "        math.sqrt(a)\n",
        "        \n",
        "def run_decimal(n=1):\n",
        "    a = Decimal('3.1415')\n",
        "    for i in range(n):\n",
        "        a.sqrt()\n",
        "        \n",
        "start = time.perf_counter()\n",
        "run_float(n)\n",
        "end = time.perf_counter()\n",
        "print('float: ', end-start)\n",
        "\n",
        "start = time.perf_counter()\n",
        "run_decimal(n)\n",
        "end = time.perf_counter()\n",
        "print('decimal: ', end-start)"
      ],
      "execution_count": 0,
      "outputs": [
        {
          "output_type": "stream",
          "text": [
            "float:  0.44518902500021795\n",
            "decimal:  4.972107605999554\n"
          ],
          "name": "stdout"
        }
      ]
    },
    {
      "cell_type": "markdown",
      "metadata": {
        "id": "BQ0z8XVQlfbL",
        "colab_type": "text"
      },
      "source": [
        "# 14.COMPLEX numbers"
      ]
    },
    {
      "cell_type": "markdown",
      "metadata": {
        "id": "SNttNiB3lnXm",
        "colab_type": "text"
      },
      "source": [
        "![alt text](https://drive.google.com/uc?id=1DI_P7Yn7_5iUmSVDEwh6xKCDDoqygzzW)"
      ]
    },
    {
      "cell_type": "markdown",
      "metadata": {
        "id": "GKYSQDVzlwus",
        "colab_type": "text"
      },
      "source": [
        "![alt text](https://drive.google.com/uc?id=1qPROZOXwXuw4qFfp-Drr8DPmWtrdW7rp)"
      ]
    },
    {
      "cell_type": "markdown",
      "metadata": {
        "id": "0K4WPEz3lnMD",
        "colab_type": "text"
      },
      "source": [
        "![alt text](https://drive.google.com/uc?id=1CpLHgVcFTV6S2OVWdHFNJuzjEN1UkqaT)"
      ]
    },
    {
      "cell_type": "markdown",
      "metadata": {
        "id": "HeQ5tad2lnAz",
        "colab_type": "text"
      },
      "source": [
        "![alt text](https://drive.google.com/uc?id=1BB0m35lWrdNrp-WfSD-U1M0muEKKaCKr)"
      ]
    },
    {
      "cell_type": "markdown",
      "metadata": {
        "id": "d-3OEQhWlm07",
        "colab_type": "text"
      },
      "source": [
        "![alt text](https://drive.google.com/uc?id=1t4OeIhYuoTzWz8bWvQcYeZUBpqfD6qZG)"
      ]
    },
    {
      "cell_type": "markdown",
      "metadata": {
        "id": "op-ZXrV6lmoz",
        "colab_type": "text"
      },
      "source": [
        "![alt text](https://drive.google.com/uc?id=1wzQ50uMZGClHwx22jh3JhQ7IPKHBQ1Fj)"
      ]
    },
    {
      "cell_type": "markdown",
      "metadata": {
        "id": "vfGeRJxYlmUQ",
        "colab_type": "text"
      },
      "source": [
        "![alt text](https://drive.google.com/uc?id=1akIPl0Sszuy-VYA9OeTjFmqKNIfUJUBJ)"
      ]
    },
    {
      "cell_type": "markdown",
      "metadata": {
        "id": "dCIy5aNhlmII",
        "colab_type": "text"
      },
      "source": [
        "## Coding Time"
      ]
    },
    {
      "cell_type": "markdown",
      "metadata": {
        "id": "71XLTM2woJKt",
        "colab_type": "text"
      },
      "source": [
        "Python's built-in class provides support for complex numbers.\n",
        "\n",
        "Complex numbers are defined in rectangular coordinates (real and imaginary parts) using either the constructor or a literal expression."
      ]
    },
    {
      "cell_type": "markdown",
      "metadata": {
        "id": "rfCf80MUoMC8",
        "colab_type": "text"
      },
      "source": [
        "The complex number 1 + 2j can be defined in either of these ways:"
      ]
    },
    {
      "cell_type": "code",
      "metadata": {
        "id": "X8Ni8aO-QCK8",
        "colab_type": "code",
        "outputId": "2c233691-56a9-4a75-ff3a-d446407be1de",
        "colab": {
          "base_uri": "https://localhost:8080/",
          "height": 34
        }
      },
      "source": [
        "a = complex(1, 2)\n",
        "b = 1 + 2j\n",
        "a == b"
      ],
      "execution_count": 0,
      "outputs": [
        {
          "output_type": "execute_result",
          "data": {
            "text/plain": [
              "True"
            ]
          },
          "metadata": {
            "tags": []
          },
          "execution_count": 1
        }
      ]
    },
    {
      "cell_type": "markdown",
      "metadata": {
        "id": "a2U0XBm1oRv2",
        "colab_type": "text"
      },
      "source": [
        "Note that the real and imaginary parts are defined as floats, and can be retrieved as follows:"
      ]
    },
    {
      "cell_type": "code",
      "metadata": {
        "id": "P3vdGCi1oPOc",
        "colab_type": "code",
        "outputId": "3ca4312e-a4ce-4b71-ad7c-b5d8bf7ff9a0",
        "colab": {
          "base_uri": "https://localhost:8080/",
          "height": 34
        }
      },
      "source": [
        "a.real, type(a.real)"
      ],
      "execution_count": 0,
      "outputs": [
        {
          "output_type": "execute_result",
          "data": {
            "text/plain": [
              "(1.0, float)"
            ]
          },
          "metadata": {
            "tags": []
          },
          "execution_count": 2
        }
      ]
    },
    {
      "cell_type": "code",
      "metadata": {
        "id": "5Vxf_ddToT7D",
        "colab_type": "code",
        "outputId": "0df2c122-d148-4300-b87b-da9af0ddad88",
        "colab": {
          "base_uri": "https://localhost:8080/",
          "height": 34
        }
      },
      "source": [
        "a.imag, type(a.imag)"
      ],
      "execution_count": 0,
      "outputs": [
        {
          "output_type": "execute_result",
          "data": {
            "text/plain": [
              "(2.0, float)"
            ]
          },
          "metadata": {
            "tags": []
          },
          "execution_count": 3
        }
      ]
    },
    {
      "cell_type": "markdown",
      "metadata": {
        "id": "ni8xF0S4oXQA",
        "colab_type": "text"
      },
      "source": [
        "The complex conjugate can be calculated as follows:"
      ]
    },
    {
      "cell_type": "code",
      "metadata": {
        "id": "uJSK_iUwoVpZ",
        "colab_type": "code",
        "outputId": "0a10955e-336b-4063-fc8f-ea7a51d2247f",
        "colab": {
          "base_uri": "https://localhost:8080/",
          "height": 34
        }
      },
      "source": [
        "a.conjugate()"
      ],
      "execution_count": 0,
      "outputs": [
        {
          "output_type": "execute_result",
          "data": {
            "text/plain": [
              "(1-2j)"
            ]
          },
          "metadata": {
            "tags": []
          },
          "execution_count": 4
        }
      ]
    },
    {
      "cell_type": "markdown",
      "metadata": {
        "id": "520L38gAobAU",
        "colab_type": "text"
      },
      "source": [
        "The standard arithmetic operatots are polymorphic and defined for complex numbers"
      ]
    },
    {
      "cell_type": "code",
      "metadata": {
        "id": "ww4stncAoZVE",
        "colab_type": "code",
        "outputId": "821dc983-fc1b-442b-f939-8f6fa6f42507",
        "colab": {
          "base_uri": "https://localhost:8080/",
          "height": 34
        }
      },
      "source": [
        "a = 1 + 2j\n",
        "b = 3 - 4j\n",
        "c = 5j\n",
        "d = 10\n",
        "a + b"
      ],
      "execution_count": 0,
      "outputs": [
        {
          "output_type": "execute_result",
          "data": {
            "text/plain": [
              "(4-2j)"
            ]
          },
          "metadata": {
            "tags": []
          },
          "execution_count": 5
        }
      ]
    },
    {
      "cell_type": "code",
      "metadata": {
        "id": "NwS74pZWod3v",
        "colab_type": "code",
        "outputId": "c1ac09d4-1a95-4b6c-c4a1-522023f005de",
        "colab": {
          "base_uri": "https://localhost:8080/",
          "height": 34
        }
      },
      "source": [
        "b * c"
      ],
      "execution_count": 0,
      "outputs": [
        {
          "output_type": "execute_result",
          "data": {
            "text/plain": [
              "(20+15j)"
            ]
          },
          "metadata": {
            "tags": []
          },
          "execution_count": 6
        }
      ]
    },
    {
      "cell_type": "code",
      "metadata": {
        "id": "rHQz9PQ6ofvx",
        "colab_type": "code",
        "outputId": "143367f2-c908-49e3-ad14-51ec2883e615",
        "colab": {
          "base_uri": "https://localhost:8080/",
          "height": 34
        }
      },
      "source": [
        "c / d"
      ],
      "execution_count": 0,
      "outputs": [
        {
          "output_type": "execute_result",
          "data": {
            "text/plain": [
              "0.5j"
            ]
          },
          "metadata": {
            "tags": []
          },
          "execution_count": 7
        }
      ]
    },
    {
      "cell_type": "code",
      "metadata": {
        "id": "_66r7jjoohJM",
        "colab_type": "code",
        "outputId": "746a8077-0def-42b8-b764-a8df105332c9",
        "colab": {
          "base_uri": "https://localhost:8080/",
          "height": 34
        }
      },
      "source": [
        "d - a"
      ],
      "execution_count": 0,
      "outputs": [
        {
          "output_type": "execute_result",
          "data": {
            "text/plain": [
              "(9-2j)"
            ]
          },
          "metadata": {
            "tags": []
          },
          "execution_count": 8
        }
      ]
    },
    {
      "cell_type": "markdown",
      "metadata": {
        "id": "m9M5hUH1okWK",
        "colab_type": "text"
      },
      "source": [
        "The // and % operators, although also polymorphic, are not defined for complex numbers:"
      ]
    },
    {
      "cell_type": "code",
      "metadata": {
        "id": "7GsAuAohoimv",
        "colab_type": "code",
        "outputId": "f8c75fc6-fdf5-4420-ff85-d284e9d86ff5",
        "colab": {
          "base_uri": "https://localhost:8080/",
          "height": 163
        }
      },
      "source": [
        "a // b"
      ],
      "execution_count": 0,
      "outputs": [
        {
          "output_type": "error",
          "ename": "TypeError",
          "evalue": "ignored",
          "traceback": [
            "\u001b[0;31m---------------------------------------------------------------------------\u001b[0m",
            "\u001b[0;31mTypeError\u001b[0m                                 Traceback (most recent call last)",
            "\u001b[0;32m<ipython-input-9-d081371454f6>\u001b[0m in \u001b[0;36m<module>\u001b[0;34m()\u001b[0m\n\u001b[0;32m----> 1\u001b[0;31m \u001b[0ma\u001b[0m \u001b[0;34m//\u001b[0m \u001b[0mb\u001b[0m\u001b[0;34m\u001b[0m\u001b[0;34m\u001b[0m\u001b[0m\n\u001b[0m",
            "\u001b[0;31mTypeError\u001b[0m: can't take floor of complex number."
          ]
        }
      ]
    },
    {
      "cell_type": "code",
      "metadata": {
        "id": "MvJVyM79onQ3",
        "colab_type": "code",
        "outputId": "fca25e99-3d9a-46ba-ce02-372c861b482a",
        "colab": {
          "base_uri": "https://localhost:8080/",
          "height": 163
        }
      },
      "source": [
        "a % b"
      ],
      "execution_count": 0,
      "outputs": [
        {
          "output_type": "error",
          "ename": "TypeError",
          "evalue": "ignored",
          "traceback": [
            "\u001b[0;31m---------------------------------------------------------------------------\u001b[0m",
            "\u001b[0;31mTypeError\u001b[0m                                 Traceback (most recent call last)",
            "\u001b[0;32m<ipython-input-10-bb5d1a9b79f9>\u001b[0m in \u001b[0;36m<module>\u001b[0;34m()\u001b[0m\n\u001b[0;32m----> 1\u001b[0;31m \u001b[0ma\u001b[0m \u001b[0;34m%\u001b[0m \u001b[0mb\u001b[0m\u001b[0;34m\u001b[0m\u001b[0;34m\u001b[0m\u001b[0m\n\u001b[0m",
            "\u001b[0;31mTypeError\u001b[0m: can't mod complex numbers."
          ]
        }
      ]
    },
    {
      "cell_type": "markdown",
      "metadata": {
        "id": "byAFQrsEorQA",
        "colab_type": "text"
      },
      "source": [
        "The == and != operators support complex numbers - but since the real and imaginary parts of complex numbers are floats, the same problems comparing floats using == and != also apply to complex numbers."
      ]
    },
    {
      "cell_type": "code",
      "metadata": {
        "id": "aJfaN0s8oo0h",
        "colab_type": "code",
        "outputId": "08a44fb1-db9e-4a2e-8138-cd800c2a20b0",
        "colab": {
          "base_uri": "https://localhost:8080/",
          "height": 34
        }
      },
      "source": [
        "a = 0.1j\n",
        "a + a + a == 0.3j"
      ],
      "execution_count": 0,
      "outputs": [
        {
          "output_type": "execute_result",
          "data": {
            "text/plain": [
              "False"
            ]
          },
          "metadata": {
            "tags": []
          },
          "execution_count": 11
        }
      ]
    },
    {
      "cell_type": "code",
      "metadata": {
        "id": "afMCzKp4uUBk",
        "colab_type": "code",
        "outputId": "5b428555-03ea-46b2-b462-5febcc3eceb4",
        "colab": {
          "base_uri": "https://localhost:8080/",
          "height": 34
        }
      },
      "source": [
        "format(a.imag, '.25f')"
      ],
      "execution_count": 0,
      "outputs": [
        {
          "output_type": "execute_result",
          "data": {
            "text/plain": [
              "'1.0000000000000000000000000'"
            ]
          },
          "metadata": {
            "tags": []
          },
          "execution_count": 20
        }
      ]
    },
    {
      "cell_type": "code",
      "metadata": {
        "id": "ALVxhYlFua6w",
        "colab_type": "code",
        "outputId": "d1eef3ca-9c93-4cd3-cbaa-7127312b27e7",
        "colab": {
          "base_uri": "https://localhost:8080/",
          "height": 34
        }
      },
      "source": [
        "format((a+a+a).imag, '.25f')"
      ],
      "execution_count": 0,
      "outputs": [
        {
          "output_type": "execute_result",
          "data": {
            "text/plain": [
              "'3.0000000000000000000000000'"
            ]
          },
          "metadata": {
            "tags": []
          },
          "execution_count": 21
        }
      ]
    },
    {
      "cell_type": "code",
      "metadata": {
        "id": "MbM8Pp-cuqbr",
        "colab_type": "code",
        "outputId": "cd6aa065-98a0-49aa-97e0-951ca9f9f016",
        "colab": {
          "base_uri": "https://localhost:8080/",
          "height": 34
        }
      },
      "source": [
        "format((0.3j).imag,'.25f')"
      ],
      "execution_count": 0,
      "outputs": [
        {
          "output_type": "execute_result",
          "data": {
            "text/plain": [
              "'0.2999999999999999888977698'"
            ]
          },
          "metadata": {
            "tags": []
          },
          "execution_count": 22
        }
      ]
    },
    {
      "cell_type": "markdown",
      "metadata": {
        "id": "LqzdiCb5ov12",
        "colab_type": "text"
      },
      "source": [
        "In addition, the standard comparison operators (<, <=, >, >=) are not defined for complex numbers."
      ]
    },
    {
      "cell_type": "code",
      "metadata": {
        "id": "fdXL8s2notXM",
        "colab_type": "code",
        "outputId": "d2963a9c-9cf9-4161-a891-6022248b5e86",
        "colab": {
          "base_uri": "https://localhost:8080/",
          "height": 197
        }
      },
      "source": [
        "a = 1 + 1j\n",
        "b = 100 + 100j\n",
        "a < b"
      ],
      "execution_count": 0,
      "outputs": [
        {
          "output_type": "error",
          "ename": "TypeError",
          "evalue": "ignored",
          "traceback": [
            "\u001b[0;31m---------------------------------------------------------------------------\u001b[0m",
            "\u001b[0;31mTypeError\u001b[0m                                 Traceback (most recent call last)",
            "\u001b[0;32m<ipython-input-12-0f853917abb2>\u001b[0m in \u001b[0;36m<module>\u001b[0;34m()\u001b[0m\n\u001b[1;32m      1\u001b[0m \u001b[0ma\u001b[0m \u001b[0;34m=\u001b[0m \u001b[0;36m1\u001b[0m \u001b[0;34m+\u001b[0m \u001b[0;36m1j\u001b[0m\u001b[0;34m\u001b[0m\u001b[0;34m\u001b[0m\u001b[0m\n\u001b[1;32m      2\u001b[0m \u001b[0mb\u001b[0m \u001b[0;34m=\u001b[0m \u001b[0;36m100\u001b[0m \u001b[0;34m+\u001b[0m \u001b[0;36m100j\u001b[0m\u001b[0;34m\u001b[0m\u001b[0;34m\u001b[0m\u001b[0m\n\u001b[0;32m----> 3\u001b[0;31m \u001b[0ma\u001b[0m \u001b[0;34m<\u001b[0m \u001b[0mb\u001b[0m\u001b[0;34m\u001b[0m\u001b[0;34m\u001b[0m\u001b[0m\n\u001b[0m",
            "\u001b[0;31mTypeError\u001b[0m: '<' not supported between instances of 'complex' and 'complex'"
          ]
        }
      ]
    },
    {
      "cell_type": "markdown",
      "metadata": {
        "id": "NJbjDk6uoz2b",
        "colab_type": "text"
      },
      "source": [
        "### Math Functions"
      ]
    },
    {
      "cell_type": "markdown",
      "metadata": {
        "id": "gLpP6tVwo3oP",
        "colab_type": "text"
      },
      "source": [
        "The **cmath** module provides complex alternatives to the standard **math** functions.\n",
        "</br>\n",
        "</br>\n",
        "In addition, the **cmath** module provides the complex implementation of the **isclose()** method available for floats."
      ]
    },
    {
      "cell_type": "code",
      "metadata": {
        "id": "VQOSpxoPox-H",
        "colab_type": "code",
        "outputId": "879affb5-6771-495f-a224-1714c214dfb9",
        "colab": {
          "base_uri": "https://localhost:8080/",
          "height": 34
        }
      },
      "source": [
        "import cmath\n",
        "\n",
        "a = 1 + 5j\n",
        "print(cmath.sqrt(a))"
      ],
      "execution_count": 0,
      "outputs": [
        {
          "output_type": "stream",
          "text": [
            "(1.7462845577958914+1.4316108957382214j)\n"
          ],
          "name": "stdout"
        }
      ]
    },
    {
      "cell_type": "markdown",
      "metadata": {
        "id": "7RH_5FEMpBQG",
        "colab_type": "text"
      },
      "source": [
        "The standard **math** module functions will not work with complex numbers:"
      ]
    },
    {
      "cell_type": "code",
      "metadata": {
        "id": "dnjXLizLo_uR",
        "colab_type": "code",
        "outputId": "45b6f0ef-43f9-46e6-e2d7-1b21cd67c1f6",
        "colab": {
          "base_uri": "https://localhost:8080/",
          "height": 180
        }
      },
      "source": [
        "import math\n",
        "print(math.sqrt(a))"
      ],
      "execution_count": 0,
      "outputs": [
        {
          "output_type": "error",
          "ename": "TypeError",
          "evalue": "ignored",
          "traceback": [
            "\u001b[0;31m---------------------------------------------------------------------------\u001b[0m",
            "\u001b[0;31mTypeError\u001b[0m                                 Traceback (most recent call last)",
            "\u001b[0;32m<ipython-input-14-5de857c4ec0c>\u001b[0m in \u001b[0;36m<module>\u001b[0;34m()\u001b[0m\n\u001b[1;32m      1\u001b[0m \u001b[0;32mimport\u001b[0m \u001b[0mmath\u001b[0m\u001b[0;34m\u001b[0m\u001b[0;34m\u001b[0m\u001b[0m\n\u001b[0;32m----> 2\u001b[0;31m \u001b[0mprint\u001b[0m\u001b[0;34m(\u001b[0m\u001b[0mmath\u001b[0m\u001b[0;34m.\u001b[0m\u001b[0msqrt\u001b[0m\u001b[0;34m(\u001b[0m\u001b[0ma\u001b[0m\u001b[0;34m)\u001b[0m\u001b[0;34m)\u001b[0m\u001b[0;34m\u001b[0m\u001b[0;34m\u001b[0m\u001b[0m\n\u001b[0m",
            "\u001b[0;31mTypeError\u001b[0m: can't convert complex to float"
          ]
        }
      ]
    },
    {
      "cell_type": "markdown",
      "metadata": {
        "id": "PqxjRG8VpFJ6",
        "colab_type": "text"
      },
      "source": [
        "### Polar / Rectangular Conversions"
      ]
    },
    {
      "cell_type": "markdown",
      "metadata": {
        "id": "8fjR28CvpH6J",
        "colab_type": "text"
      },
      "source": [
        "The **cmath.phase()** function can be used to return the phase (or argument) of  any complex number.\n",
        "</br>\n",
        "</br>\n",
        "The standard **abs()** function supports complex numbers and will return the magnitude (euclidean norm) of the complex number."
      ]
    },
    {
      "cell_type": "code",
      "metadata": {
        "id": "xXfeyFa5pDWV",
        "colab_type": "code",
        "outputId": "61ae16d6-6ccc-4582-fddf-b1a87150004f",
        "colab": {
          "base_uri": "https://localhost:8080/",
          "height": 34
        }
      },
      "source": [
        "a = 1 + 1j\n",
        "r = abs(a)\n",
        "phi = cmath.phase(a)\n",
        "print('{0} = ({1},{2})'.format(a, r, phi))"
      ],
      "execution_count": 0,
      "outputs": [
        {
          "output_type": "stream",
          "text": [
            "(1+1j) = (1.4142135623730951,0.7853981633974483)\n"
          ],
          "name": "stdout"
        }
      ]
    },
    {
      "cell_type": "markdown",
      "metadata": {
        "id": "7flm7P5rpTah",
        "colab_type": "text"
      },
      "source": [
        "Complex numbers in polar coordinates can be converted to rectangular coordinates using the **math.rect()** function:"
      ]
    },
    {
      "cell_type": "code",
      "metadata": {
        "id": "b5T-EOfupRjF",
        "colab_type": "code",
        "outputId": "5c9a793a-8a13-4d95-d8eb-35a29d2e3c99",
        "colab": {
          "base_uri": "https://localhost:8080/",
          "height": 34
        }
      },
      "source": [
        "r = math.sqrt(2)\n",
        "phi = cmath.pi/4\n",
        "print(cmath.rect(r, phi))"
      ],
      "execution_count": 0,
      "outputs": [
        {
          "output_type": "stream",
          "text": [
            "(1.0000000000000002+1j)\n"
          ],
          "name": "stdout"
        }
      ]
    },
    {
      "cell_type": "markdown",
      "metadata": {
        "id": "43EkfWuQpZn-",
        "colab_type": "text"
      },
      "source": [
        "### Euler's Identity and the **isclose()** function"
      ]
    },
    {
      "cell_type": "markdown",
      "metadata": {
        "id": "hM62DTllpdH6",
        "colab_type": "text"
      },
      "source": [
        "e<sup>i &pi;</sup> + 1 = 0"
      ]
    },
    {
      "cell_type": "code",
      "metadata": {
        "id": "CuorPcuVpXq8",
        "colab_type": "code",
        "outputId": "454c1876-b6e1-41c3-e48a-7d92bd6a8b45",
        "colab": {
          "base_uri": "https://localhost:8080/",
          "height": 34
        }
      },
      "source": [
        "RHS = cmath.exp(cmath.pi * 1j) + 1\n",
        "print(RHS)"
      ],
      "execution_count": 0,
      "outputs": [
        {
          "output_type": "stream",
          "text": [
            "1.2246467991473532e-16j\n"
          ],
          "name": "stdout"
        }
      ]
    },
    {
      "cell_type": "markdown",
      "metadata": {
        "id": "ZQCj-tJRpgxS",
        "colab_type": "text"
      },
      "source": [
        "Which, because of limited precision is not quite zero.\n",
        "</br>\n",
        "</br>\n",
        "However, the result is very close to zero.\n",
        "\n",
        "We can use the **isclose()** method of the **cmath** module, which behaves similarly to the **math.isclose()** method. Since we are testing for closeness of two numbers close to zero, we need to make sure an absolute tolerance is also specified:"
      ]
    },
    {
      "cell_type": "code",
      "metadata": {
        "id": "uXg3V_dYpfcC",
        "colab_type": "code",
        "outputId": "459ee446-00b7-4b4e-9237-1f2df25d31c7",
        "colab": {
          "base_uri": "https://localhost:8080/",
          "height": 34
        }
      },
      "source": [
        "cmath.isclose(RHS, 0, abs_tol=0.00001)"
      ],
      "execution_count": 0,
      "outputs": [
        {
          "output_type": "execute_result",
          "data": {
            "text/plain": [
              "True"
            ]
          },
          "metadata": {
            "tags": []
          },
          "execution_count": 18
        }
      ]
    },
    {
      "cell_type": "markdown",
      "metadata": {
        "id": "mKBpWR3Jpof0",
        "colab_type": "text"
      },
      "source": [
        "If we had not specified an absolute tolerance:"
      ]
    },
    {
      "cell_type": "code",
      "metadata": {
        "id": "xLT3IGDupnI6",
        "colab_type": "code",
        "outputId": "6bda1c7e-d0c6-49b7-a00a-c8501f3fbf31",
        "colab": {
          "base_uri": "https://localhost:8080/",
          "height": 34
        }
      },
      "source": [
        "cmath.isclose(RHS, 0)"
      ],
      "execution_count": 0,
      "outputs": [
        {
          "output_type": "execute_result",
          "data": {
            "text/plain": [
              "False"
            ]
          },
          "metadata": {
            "tags": []
          },
          "execution_count": 19
        }
      ]
    },
    {
      "cell_type": "markdown",
      "metadata": {
        "id": "ZncHW8WsUzc4",
        "colab_type": "text"
      },
      "source": [
        "# 15.BOOLEANS"
      ]
    },
    {
      "cell_type": "markdown",
      "metadata": {
        "id": "BCd68x0s63rm",
        "colab_type": "text"
      },
      "source": [
        "![alt text](https://drive.google.com/uc?id=1f-TSoF4xKQDLsfX5Ouh_NZ58libDeUVR)"
      ]
    },
    {
      "cell_type": "markdown",
      "metadata": {
        "id": "INTRyV-M68gC",
        "colab_type": "text"
      },
      "source": [
        "![alt text](https://drive.google.com/uc?id=1kqNyW1TYc-EMw2fIdtt-TvP1DK3APm7x)"
      ]
    },
    {
      "cell_type": "markdown",
      "metadata": {
        "id": "Qy2nMqh07CNM",
        "colab_type": "text"
      },
      "source": [
        "![alt text](https://drive.google.com/uc?id=1XDW4B5Z3RKsgTSKQcnthlfrIDMfhbltY)"
      ]
    },
    {
      "cell_type": "markdown",
      "metadata": {
        "id": "AojaEsoo7Jq4",
        "colab_type": "text"
      },
      "source": [
        "![alt text](https://drive.google.com/uc?id=1tHXQBZehji56ndqSjpCyAZbCjgjZc4he)"
      ]
    },
    {
      "cell_type": "markdown",
      "metadata": {
        "id": "vjAWjzKL7QG9",
        "colab_type": "text"
      },
      "source": [
        "![alt text](https://drive.google.com/uc?id=1uFG7YlgIqgLVhx82oKCyL1NNUjLrGmRD)"
      ]
    },
    {
      "cell_type": "markdown",
      "metadata": {
        "id": "fsFTQwYQw_wa",
        "colab_type": "text"
      },
      "source": [
        "## Coding Time"
      ]
    },
    {
      "cell_type": "markdown",
      "metadata": {
        "id": "qDzVWfzAxEK9",
        "colab_type": "text"
      },
      "source": [
        "The **bool** class is used to represent boolean values.\n",
        "</br>\n",
        "</br>\n",
        "The **bool** class inherits from the **int** class."
      ]
    },
    {
      "cell_type": "code",
      "metadata": {
        "id": "1R6ZBgvRpqVd",
        "colab_type": "code",
        "colab": {
          "base_uri": "https://localhost:8080/",
          "height": 34
        },
        "outputId": "4ee58344-bbb8-4f94-9887-11c0c6611e0a"
      },
      "source": [
        "issubclass(bool, int)"
      ],
      "execution_count": 1,
      "outputs": [
        {
          "output_type": "execute_result",
          "data": {
            "text/plain": [
              "True"
            ]
          },
          "metadata": {
            "tags": []
          },
          "execution_count": 1
        }
      ]
    },
    {
      "cell_type": "markdown",
      "metadata": {
        "id": "eldi4HJ_xOGr",
        "colab_type": "text"
      },
      "source": [
        "Two built-in constants, **True** and **False** are singleton instances of the bool class with underlying int values of 1 and 0 respectively."
      ]
    },
    {
      "cell_type": "code",
      "metadata": {
        "id": "pjIS_uXpxPfW",
        "colab_type": "code",
        "colab": {
          "base_uri": "https://localhost:8080/",
          "height": 34
        },
        "outputId": "d9b64cce-3b52-45b5-c215-8ec2a8e3b339"
      },
      "source": [
        "type(True), id(True), int(True)"
      ],
      "execution_count": 2,
      "outputs": [
        {
          "output_type": "execute_result",
          "data": {
            "text/plain": [
              "(bool, 10302848, 1)"
            ]
          },
          "metadata": {
            "tags": []
          },
          "execution_count": 2
        }
      ]
    },
    {
      "cell_type": "code",
      "metadata": {
        "id": "O9JA7zwUxekp",
        "colab_type": "code",
        "colab": {
          "base_uri": "https://localhost:8080/",
          "height": 34
        },
        "outputId": "72d9e2da-7312-42df-b633-667e2938dea7"
      },
      "source": [
        "type(False), id(False), int(False)"
      ],
      "execution_count": 3,
      "outputs": [
        {
          "output_type": "execute_result",
          "data": {
            "text/plain": [
              "(bool, 10300256, 0)"
            ]
          },
          "metadata": {
            "tags": []
          },
          "execution_count": 3
        }
      ]
    },
    {
      "cell_type": "markdown",
      "metadata": {
        "id": "txWlyeP4xk5U",
        "colab_type": "text"
      },
      "source": [
        "These two values are instances of the **bool** class, and by inheritance are also **int** objects."
      ]
    },
    {
      "cell_type": "code",
      "metadata": {
        "id": "Aa9JF938xi2a",
        "colab_type": "code",
        "colab": {
          "base_uri": "https://localhost:8080/",
          "height": 34
        },
        "outputId": "9c5659af-0893-4532-e5c3-91ad7915ccb0"
      },
      "source": [
        "isinstance(True, bool)"
      ],
      "execution_count": 4,
      "outputs": [
        {
          "output_type": "execute_result",
          "data": {
            "text/plain": [
              "True"
            ]
          },
          "metadata": {
            "tags": []
          },
          "execution_count": 4
        }
      ]
    },
    {
      "cell_type": "code",
      "metadata": {
        "id": "zzM3piMcxnu_",
        "colab_type": "code",
        "colab": {
          "base_uri": "https://localhost:8080/",
          "height": 34
        },
        "outputId": "cf3ec67d-17a7-49d1-b4cd-bc4f417cc2fa"
      },
      "source": [
        "isinstance(True, int)"
      ],
      "execution_count": 5,
      "outputs": [
        {
          "output_type": "execute_result",
          "data": {
            "text/plain": [
              "True"
            ]
          },
          "metadata": {
            "tags": []
          },
          "execution_count": 5
        }
      ]
    },
    {
      "cell_type": "markdown",
      "metadata": {
        "id": "Q2jqLu8Zxq9X",
        "colab_type": "text"
      },
      "source": [
        "Since **True** and **False** are singletons, we can use either the **is** operator, or the **==** operator to compare them to **any** boolean expression."
      ]
    },
    {
      "cell_type": "code",
      "metadata": {
        "id": "3HW7uAcFxpIB",
        "colab_type": "code",
        "colab": {
          "base_uri": "https://localhost:8080/",
          "height": 34
        },
        "outputId": "50946125-4146-4fc9-a114-e56b8e748f15"
      },
      "source": [
        "id(True), id(1 < 2)"
      ],
      "execution_count": 6,
      "outputs": [
        {
          "output_type": "execute_result",
          "data": {
            "text/plain": [
              "(10302848, 10302848)"
            ]
          },
          "metadata": {
            "tags": []
          },
          "execution_count": 6
        }
      ]
    },
    {
      "cell_type": "code",
      "metadata": {
        "id": "-DBwKC8extRT",
        "colab_type": "code",
        "colab": {
          "base_uri": "https://localhost:8080/",
          "height": 34
        },
        "outputId": "b19a22af-5517-4b1c-c88a-0571f6459d69"
      },
      "source": [
        "id(False), id(1 == 3)"
      ],
      "execution_count": 7,
      "outputs": [
        {
          "output_type": "execute_result",
          "data": {
            "text/plain": [
              "(10300256, 10300256)"
            ]
          },
          "metadata": {
            "tags": []
          },
          "execution_count": 7
        }
      ]
    },
    {
      "cell_type": "code",
      "metadata": {
        "id": "KHQ-1XPzxu3e",
        "colab_type": "code",
        "colab": {
          "base_uri": "https://localhost:8080/",
          "height": 34
        },
        "outputId": "2828e8c1-2263-4816-c817-283a73d85ae5"
      },
      "source": [
        "(1 < 2) is True, (1 < 2) == True"
      ],
      "execution_count": 8,
      "outputs": [
        {
          "output_type": "execute_result",
          "data": {
            "text/plain": [
              "(True, True)"
            ]
          },
          "metadata": {
            "tags": []
          },
          "execution_count": 8
        }
      ]
    },
    {
      "cell_type": "code",
      "metadata": {
        "id": "ELwdrDKKxwFf",
        "colab_type": "code",
        "colab": {
          "base_uri": "https://localhost:8080/",
          "height": 34
        },
        "outputId": "fbf26c3d-f9ff-4ec5-eb22-33230c8ca762"
      },
      "source": [
        "(1 == 2) is False, (1 == 2) == False"
      ],
      "execution_count": 9,
      "outputs": [
        {
          "output_type": "execute_result",
          "data": {
            "text/plain": [
              "(True, True)"
            ]
          },
          "metadata": {
            "tags": []
          },
          "execution_count": 9
        }
      ]
    },
    {
      "cell_type": "markdown",
      "metadata": {
        "id": "v_wjjZz7xzIm",
        "colab_type": "text"
      },
      "source": [
        "Be careful with that last comparison, the parentheses are necessary!"
      ]
    },
    {
      "cell_type": "code",
      "metadata": {
        "id": "2Q3pLWn2xxS5",
        "colab_type": "code",
        "colab": {
          "base_uri": "https://localhost:8080/",
          "height": 34
        },
        "outputId": "2dcd7085-a8ec-439f-cdee-6c60b31ead9b"
      },
      "source": [
        "1 == 2 == False"
      ],
      "execution_count": 10,
      "outputs": [
        {
          "output_type": "execute_result",
          "data": {
            "text/plain": [
              "False"
            ]
          },
          "metadata": {
            "tags": []
          },
          "execution_count": 10
        }
      ]
    },
    {
      "cell_type": "code",
      "metadata": {
        "id": "IUY7LGzNx06l",
        "colab_type": "code",
        "colab": {
          "base_uri": "https://localhost:8080/",
          "height": 34
        },
        "outputId": "e025c6bc-6d0b-4ca6-95bb-e64409fac344"
      },
      "source": [
        "(1 == 2) == False"
      ],
      "execution_count": 11,
      "outputs": [
        {
          "output_type": "execute_result",
          "data": {
            "text/plain": [
              "True"
            ]
          },
          "metadata": {
            "tags": []
          },
          "execution_count": 11
        }
      ]
    },
    {
      "cell_type": "markdown",
      "metadata": {
        "id": "30yH8S9Cx3VZ",
        "colab_type": "text"
      },
      "source": [
        "We'll look into this in detail later, but, for now, this happens because a chained comparison such as **a == b == c** is actually evaluated as **a == b and b == c**\n",
        "</br>\n",
        "</br>\n",
        "So **1 == 2 == False ** is the same as **1 == 2 and 2 == False**"
      ]
    },
    {
      "cell_type": "code",
      "metadata": {
        "id": "ZfXszqcRx1_m",
        "colab_type": "code",
        "colab": {
          "base_uri": "https://localhost:8080/",
          "height": 34
        },
        "outputId": "0ffa8e94-c9cd-429e-ef6a-f99b76fd622a"
      },
      "source": [
        "1 == 2, 2 == False, 1==2 and 2==False"
      ],
      "execution_count": 12,
      "outputs": [
        {
          "output_type": "execute_result",
          "data": {
            "text/plain": [
              "(False, False, False)"
            ]
          },
          "metadata": {
            "tags": []
          },
          "execution_count": 12
        }
      ]
    },
    {
      "cell_type": "code",
      "metadata": {
        "id": "-yPcz_pgx8ky",
        "colab_type": "code",
        "colab": {
          "base_uri": "https://localhost:8080/",
          "height": 34
        },
        "outputId": "ea1c8a5e-6b24-4b51-df87-162ebe32639a"
      },
      "source": [
        "#BUT\n",
        "(1 == 2)"
      ],
      "execution_count": 13,
      "outputs": [
        {
          "output_type": "execute_result",
          "data": {
            "text/plain": [
              "False"
            ]
          },
          "metadata": {
            "tags": []
          },
          "execution_count": 13
        }
      ]
    },
    {
      "cell_type": "markdown",
      "metadata": {
        "id": "1WHQjdxByCSw",
        "colab_type": "text"
      },
      "source": [
        "So **(1 == 2) == False** evaluates to True\n",
        "</br>\n",
        "</br>\n",
        "But since **False** is also **0**, we get the following:"
      ]
    },
    {
      "cell_type": "code",
      "metadata": {
        "id": "P5xZQJCFyA1a",
        "colab_type": "code",
        "colab": {
          "base_uri": "https://localhost:8080/",
          "height": 34
        },
        "outputId": "dd8c7000-3e8c-4aa9-e675-b3e04ca5cb03"
      },
      "source": [
        "(1 == 2) == 0"
      ],
      "execution_count": 14,
      "outputs": [
        {
          "output_type": "execute_result",
          "data": {
            "text/plain": [
              "True"
            ]
          },
          "metadata": {
            "tags": []
          },
          "execution_count": 14
        }
      ]
    },
    {
      "cell_type": "markdown",
      "metadata": {
        "id": "iuVZpxSCyI51",
        "colab_type": "text"
      },
      "source": [
        "The underlying integer values of True and False are:"
      ]
    },
    {
      "cell_type": "code",
      "metadata": {
        "id": "VFj3fG4qyG_1",
        "colab_type": "code",
        "colab": {
          "base_uri": "https://localhost:8080/",
          "height": 34
        },
        "outputId": "1a6d8a21-5989-4cd3-a340-6ba80dcac596"
      },
      "source": [
        "int(True), int(False)"
      ],
      "execution_count": 15,
      "outputs": [
        {
          "output_type": "execute_result",
          "data": {
            "text/plain": [
              "(1, 0)"
            ]
          },
          "metadata": {
            "tags": []
          },
          "execution_count": 15
        }
      ]
    },
    {
      "cell_type": "markdown",
      "metadata": {
        "id": "eC8dZEMyyMA2",
        "colab_type": "text"
      },
      "source": [
        "So, using an equality comparison:"
      ]
    },
    {
      "cell_type": "code",
      "metadata": {
        "id": "Cghlt0O4yKpY",
        "colab_type": "code",
        "colab": {
          "base_uri": "https://localhost:8080/",
          "height": 34
        },
        "outputId": "b63e7662-c51f-4925-9511-312d19125303"
      },
      "source": [
        "1 == True, 0 == False"
      ],
      "execution_count": 16,
      "outputs": [
        {
          "output_type": "execute_result",
          "data": {
            "text/plain": [
              "(True, True)"
            ]
          },
          "metadata": {
            "tags": []
          },
          "execution_count": 16
        }
      ]
    },
    {
      "cell_type": "markdown",
      "metadata": {
        "id": "Atz5QLnKyQ4h",
        "colab_type": "text"
      },
      "source": [
        "But, from an object perspective 1 and True are not the same (similarly with 0 and False)"
      ]
    },
    {
      "cell_type": "code",
      "metadata": {
        "id": "XW7txx0QyNnq",
        "colab_type": "code",
        "colab": {
          "base_uri": "https://localhost:8080/",
          "height": 34
        },
        "outputId": "03a94a5e-be41-4918-d866-90fecc8f868d"
      },
      "source": [
        "1 == True, 1 is True"
      ],
      "execution_count": 17,
      "outputs": [
        {
          "output_type": "execute_result",
          "data": {
            "text/plain": [
              "(True, False)"
            ]
          },
          "metadata": {
            "tags": []
          },
          "execution_count": 17
        }
      ]
    },
    {
      "cell_type": "code",
      "metadata": {
        "id": "d_LCie2gySt2",
        "colab_type": "code",
        "colab": {
          "base_uri": "https://localhost:8080/",
          "height": 34
        },
        "outputId": "a472c532-c484-4fc5-e60a-9d03d87e6ae1"
      },
      "source": [
        "0 == False, 0 is False"
      ],
      "execution_count": 18,
      "outputs": [
        {
          "output_type": "execute_result",
          "data": {
            "text/plain": [
              "(True, False)"
            ]
          },
          "metadata": {
            "tags": []
          },
          "execution_count": 18
        }
      ]
    },
    {
      "cell_type": "markdown",
      "metadata": {
        "id": "swIeNL82yVET",
        "colab_type": "text"
      },
      "source": [
        "Any integer can be cast to a boolean, and follows the rule:\n",
        "\n",
        "bool(x) = True for any x except for zero which returns False"
      ]
    },
    {
      "cell_type": "code",
      "metadata": {
        "id": "OuFj5WEGyT0R",
        "colab_type": "code",
        "colab": {
          "base_uri": "https://localhost:8080/",
          "height": 34
        },
        "outputId": "633753b8-0865-4186-92af-7916662a92fe"
      },
      "source": [
        "bool(0)"
      ],
      "execution_count": 19,
      "outputs": [
        {
          "output_type": "execute_result",
          "data": {
            "text/plain": [
              "False"
            ]
          },
          "metadata": {
            "tags": []
          },
          "execution_count": 19
        }
      ]
    },
    {
      "cell_type": "code",
      "metadata": {
        "id": "R8JlThzIyW1-",
        "colab_type": "code",
        "colab": {
          "base_uri": "https://localhost:8080/",
          "height": 34
        },
        "outputId": "02cb41ba-0abc-46de-f89f-a775260c7c5b"
      },
      "source": [
        "bool(1), bool(100), bool(-1)"
      ],
      "execution_count": 20,
      "outputs": [
        {
          "output_type": "execute_result",
          "data": {
            "text/plain": [
              "(True, True, True)"
            ]
          },
          "metadata": {
            "tags": []
          },
          "execution_count": 20
        }
      ]
    },
    {
      "cell_type": "markdown",
      "metadata": {
        "id": "w6874UvnyZr4",
        "colab_type": "text"
      },
      "source": [
        "Since booleans are subclassed from integers, they can behave like integers, and because of polymorphism all the standard integer operators, properties and methods apply"
      ]
    },
    {
      "cell_type": "code",
      "metadata": {
        "id": "N5FTrEJ9yYEK",
        "colab_type": "code",
        "colab": {
          "base_uri": "https://localhost:8080/",
          "height": 34
        },
        "outputId": "a5f1d41f-84a4-4a60-c7a5-4eaa0aa176ee"
      },
      "source": [
        "True > False"
      ],
      "execution_count": 21,
      "outputs": [
        {
          "output_type": "execute_result",
          "data": {
            "text/plain": [
              "True"
            ]
          },
          "metadata": {
            "tags": []
          },
          "execution_count": 21
        }
      ]
    },
    {
      "cell_type": "code",
      "metadata": {
        "id": "onVZOnxByblA",
        "colab_type": "code",
        "colab": {
          "base_uri": "https://localhost:8080/",
          "height": 34
        },
        "outputId": "797f5d32-951b-4ff0-b3f7-ad9f6a2a9cd5"
      },
      "source": [
        "True + 2"
      ],
      "execution_count": 22,
      "outputs": [
        {
          "output_type": "execute_result",
          "data": {
            "text/plain": [
              "3"
            ]
          },
          "metadata": {
            "tags": []
          },
          "execution_count": 22
        }
      ]
    },
    {
      "cell_type": "code",
      "metadata": {
        "id": "kETPkFoqycrw",
        "colab_type": "code",
        "colab": {
          "base_uri": "https://localhost:8080/",
          "height": 34
        },
        "outputId": "769a65be-556f-4a6f-d6c1-d8856f65fb11"
      },
      "source": [
        "False // 2"
      ],
      "execution_count": 23,
      "outputs": [
        {
          "output_type": "execute_result",
          "data": {
            "text/plain": [
              "0"
            ]
          },
          "metadata": {
            "tags": []
          },
          "execution_count": 23
        }
      ]
    },
    {
      "cell_type": "code",
      "metadata": {
        "id": "ZuVwTKINydvO",
        "colab_type": "code",
        "colab": {
          "base_uri": "https://localhost:8080/",
          "height": 34
        },
        "outputId": "86aad834-f428-49ae-c5f6-62bfaeba675b"
      },
      "source": [
        "True + True + True"
      ],
      "execution_count": 24,
      "outputs": [
        {
          "output_type": "execute_result",
          "data": {
            "text/plain": [
              "3"
            ]
          },
          "metadata": {
            "tags": []
          },
          "execution_count": 24
        }
      ]
    },
    {
      "cell_type": "code",
      "metadata": {
        "id": "2aNUQeNnye7k",
        "colab_type": "code",
        "colab": {
          "base_uri": "https://localhost:8080/",
          "height": 34
        },
        "outputId": "d50c0f87-fdc3-437e-c72f-5c767d037f56"
      },
      "source": [
        "(True + True + True) % 2"
      ],
      "execution_count": 25,
      "outputs": [
        {
          "output_type": "execute_result",
          "data": {
            "text/plain": [
              "1"
            ]
          },
          "metadata": {
            "tags": []
          },
          "execution_count": 25
        }
      ]
    },
    {
      "cell_type": "code",
      "metadata": {
        "id": "BeL5DbZwygkw",
        "colab_type": "code",
        "colab": {
          "base_uri": "https://localhost:8080/",
          "height": 34
        },
        "outputId": "07acc981-74f5-4db7-f287-6bdf265b9023"
      },
      "source": [
        "-True"
      ],
      "execution_count": 26,
      "outputs": [
        {
          "output_type": "execute_result",
          "data": {
            "text/plain": [
              "-1"
            ]
          },
          "metadata": {
            "tags": []
          },
          "execution_count": 26
        }
      ]
    },
    {
      "cell_type": "code",
      "metadata": {
        "id": "W03SzdNdyiIX",
        "colab_type": "code",
        "colab": {
          "base_uri": "https://localhost:8080/",
          "height": 34
        },
        "outputId": "58f876cb-9f54-467c-e450-31ec82a0754b"
      },
      "source": [
        "100 * False"
      ],
      "execution_count": 27,
      "outputs": [
        {
          "output_type": "execute_result",
          "data": {
            "text/plain": [
              "0"
            ]
          },
          "metadata": {
            "tags": []
          },
          "execution_count": 27
        }
      ]
    },
    {
      "cell_type": "markdown",
      "metadata": {
        "id": "Y3bDg0WpylD8",
        "colab_type": "text"
      },
      "source": [
        "I certainly **do not** recommend you write code like that shown above, but be aware that it does work."
      ]
    },
    {
      "cell_type": "markdown",
      "metadata": {
        "id": "K3wTEGlZ1zxO",
        "colab_type": "text"
      },
      "source": [
        "# 16.BOOLEANS: Truth values"
      ]
    },
    {
      "cell_type": "markdown",
      "metadata": {
        "id": "UlhaGm1w2Vkv",
        "colab_type": "text"
      },
      "source": [
        "![alt text](https://drive.google.com/uc?id=1jtrurT3hpWIILo4yu-QblNfZOj8VkdFO)"
      ]
    },
    {
      "cell_type": "markdown",
      "metadata": {
        "id": "Opv-p6jD2VWb",
        "colab_type": "text"
      },
      "source": [
        "![alt text](https://drive.google.com/uc?id=11xfHg7xFoJukCnEk8w41o1IMcb96anSc)"
      ]
    },
    {
      "cell_type": "markdown",
      "metadata": {
        "id": "-B5CcEbE2VEh",
        "colab_type": "text"
      },
      "source": [
        "![alt text](https://drive.google.com/uc?id=1A26qtpgTkr-dGfRKs-Kxl8iCwzB4FsSY)"
      ]
    },
    {
      "cell_type": "markdown",
      "metadata": {
        "id": "Pcpu0sTx62ZA",
        "colab_type": "text"
      },
      "source": [
        "## Coding Time"
      ]
    },
    {
      "cell_type": "markdown",
      "metadata": {
        "id": "Ef6a2lYC6596",
        "colab_type": "text"
      },
      "source": [
        "All objects in Python have an associated **truth value**, or **truthyness**\n",
        "</br>\n",
        "</br>\n",
        "We saw in a previous lecture that integers have an inherent truth value:"
      ]
    },
    {
      "cell_type": "code",
      "metadata": {
        "id": "p7RGIm66yjPM",
        "colab_type": "code",
        "colab": {
          "base_uri": "https://localhost:8080/",
          "height": 34
        },
        "outputId": "79dec13c-0d2c-49b5-b900-f1d13fbe4d3d"
      },
      "source": [
        "bool(0)"
      ],
      "execution_count": 28,
      "outputs": [
        {
          "output_type": "execute_result",
          "data": {
            "text/plain": [
              "False"
            ]
          },
          "metadata": {
            "tags": []
          },
          "execution_count": 28
        }
      ]
    },
    {
      "cell_type": "code",
      "metadata": {
        "id": "8RXSz2zn7EH1",
        "colab_type": "code",
        "colab": {
          "base_uri": "https://localhost:8080/",
          "height": 34
        },
        "outputId": "6a903293-bb04-407d-b68c-2fc81136dae8"
      },
      "source": [
        "bool(1), bool(-1), bool(100)"
      ],
      "execution_count": 29,
      "outputs": [
        {
          "output_type": "execute_result",
          "data": {
            "text/plain": [
              "(True, True, True)"
            ]
          },
          "metadata": {
            "tags": []
          },
          "execution_count": 29
        }
      ]
    },
    {
      "cell_type": "markdown",
      "metadata": {
        "id": "d5aF6bvn7H3n",
        "colab_type": "text"
      },
      "source": [
        "This truthyness has nothing to do with the fact that **bool** is a subclass of **int**.\n",
        "\n",
        "Instead, it has to do with the fact that the **int** class implements a `__bool__()` method"
      ]
    },
    {
      "cell_type": "code",
      "metadata": {
        "id": "xyg0ejTw7FWd",
        "colab_type": "code",
        "colab": {
          "base_uri": "https://localhost:8080/",
          "height": 1000
        },
        "outputId": "ccd91dff-d4f4-4d5c-882d-bcb37b2c00bd"
      },
      "source": [
        "help(bool)"
      ],
      "execution_count": 30,
      "outputs": [
        {
          "output_type": "stream",
          "text": [
            "Help on class bool in module builtins:\n",
            "\n",
            "class bool(int)\n",
            " |  bool(x) -> bool\n",
            " |  \n",
            " |  Returns True when the argument x is true, False otherwise.\n",
            " |  The builtins True and False are the only two instances of the class bool.\n",
            " |  The class bool is a subclass of the class int, and cannot be subclassed.\n",
            " |  \n",
            " |  Method resolution order:\n",
            " |      bool\n",
            " |      int\n",
            " |      object\n",
            " |  \n",
            " |  Methods defined here:\n",
            " |  \n",
            " |  __and__(self, value, /)\n",
            " |      Return self&value.\n",
            " |  \n",
            " |  __new__(*args, **kwargs) from builtins.type\n",
            " |      Create and return a new object.  See help(type) for accurate signature.\n",
            " |  \n",
            " |  __or__(self, value, /)\n",
            " |      Return self|value.\n",
            " |  \n",
            " |  __rand__(self, value, /)\n",
            " |      Return value&self.\n",
            " |  \n",
            " |  __repr__(self, /)\n",
            " |      Return repr(self).\n",
            " |  \n",
            " |  __ror__(self, value, /)\n",
            " |      Return value|self.\n",
            " |  \n",
            " |  __rxor__(self, value, /)\n",
            " |      Return value^self.\n",
            " |  \n",
            " |  __str__(self, /)\n",
            " |      Return str(self).\n",
            " |  \n",
            " |  __xor__(self, value, /)\n",
            " |      Return self^value.\n",
            " |  \n",
            " |  ----------------------------------------------------------------------\n",
            " |  Methods inherited from int:\n",
            " |  \n",
            " |  __abs__(self, /)\n",
            " |      abs(self)\n",
            " |  \n",
            " |  __add__(self, value, /)\n",
            " |      Return self+value.\n",
            " |  \n",
            " |  __bool__(self, /)\n",
            " |      self != 0\n",
            " |  \n",
            " |  __ceil__(...)\n",
            " |      Ceiling of an Integral returns itself.\n",
            " |  \n",
            " |  __divmod__(self, value, /)\n",
            " |      Return divmod(self, value).\n",
            " |  \n",
            " |  __eq__(self, value, /)\n",
            " |      Return self==value.\n",
            " |  \n",
            " |  __float__(self, /)\n",
            " |      float(self)\n",
            " |  \n",
            " |  __floor__(...)\n",
            " |      Flooring an Integral returns itself.\n",
            " |  \n",
            " |  __floordiv__(self, value, /)\n",
            " |      Return self//value.\n",
            " |  \n",
            " |  __format__(...)\n",
            " |      default object formatter\n",
            " |  \n",
            " |  __ge__(self, value, /)\n",
            " |      Return self>=value.\n",
            " |  \n",
            " |  __getattribute__(self, name, /)\n",
            " |      Return getattr(self, name).\n",
            " |  \n",
            " |  __getnewargs__(...)\n",
            " |  \n",
            " |  __gt__(self, value, /)\n",
            " |      Return self>value.\n",
            " |  \n",
            " |  __hash__(self, /)\n",
            " |      Return hash(self).\n",
            " |  \n",
            " |  __index__(self, /)\n",
            " |      Return self converted to an integer, if self is suitable for use as an index into a list.\n",
            " |  \n",
            " |  __int__(self, /)\n",
            " |      int(self)\n",
            " |  \n",
            " |  __invert__(self, /)\n",
            " |      ~self\n",
            " |  \n",
            " |  __le__(self, value, /)\n",
            " |      Return self<=value.\n",
            " |  \n",
            " |  __lshift__(self, value, /)\n",
            " |      Return self<<value.\n",
            " |  \n",
            " |  __lt__(self, value, /)\n",
            " |      Return self<value.\n",
            " |  \n",
            " |  __mod__(self, value, /)\n",
            " |      Return self%value.\n",
            " |  \n",
            " |  __mul__(self, value, /)\n",
            " |      Return self*value.\n",
            " |  \n",
            " |  __ne__(self, value, /)\n",
            " |      Return self!=value.\n",
            " |  \n",
            " |  __neg__(self, /)\n",
            " |      -self\n",
            " |  \n",
            " |  __pos__(self, /)\n",
            " |      +self\n",
            " |  \n",
            " |  __pow__(self, value, mod=None, /)\n",
            " |      Return pow(self, value, mod).\n",
            " |  \n",
            " |  __radd__(self, value, /)\n",
            " |      Return value+self.\n",
            " |  \n",
            " |  __rdivmod__(self, value, /)\n",
            " |      Return divmod(value, self).\n",
            " |  \n",
            " |  __rfloordiv__(self, value, /)\n",
            " |      Return value//self.\n",
            " |  \n",
            " |  __rlshift__(self, value, /)\n",
            " |      Return value<<self.\n",
            " |  \n",
            " |  __rmod__(self, value, /)\n",
            " |      Return value%self.\n",
            " |  \n",
            " |  __rmul__(self, value, /)\n",
            " |      Return value*self.\n",
            " |  \n",
            " |  __round__(...)\n",
            " |      Rounding an Integral returns itself.\n",
            " |      Rounding with an ndigits argument also returns an integer.\n",
            " |  \n",
            " |  __rpow__(self, value, mod=None, /)\n",
            " |      Return pow(value, self, mod).\n",
            " |  \n",
            " |  __rrshift__(self, value, /)\n",
            " |      Return value>>self.\n",
            " |  \n",
            " |  __rshift__(self, value, /)\n",
            " |      Return self>>value.\n",
            " |  \n",
            " |  __rsub__(self, value, /)\n",
            " |      Return value-self.\n",
            " |  \n",
            " |  __rtruediv__(self, value, /)\n",
            " |      Return value/self.\n",
            " |  \n",
            " |  __sizeof__(...)\n",
            " |      Returns size in memory, in bytes\n",
            " |  \n",
            " |  __sub__(self, value, /)\n",
            " |      Return self-value.\n",
            " |  \n",
            " |  __truediv__(self, value, /)\n",
            " |      Return self/value.\n",
            " |  \n",
            " |  __trunc__(...)\n",
            " |      Truncating an Integral returns itself.\n",
            " |  \n",
            " |  bit_length(...)\n",
            " |      int.bit_length() -> int\n",
            " |      \n",
            " |      Number of bits necessary to represent self in binary.\n",
            " |      >>> bin(37)\n",
            " |      '0b100101'\n",
            " |      >>> (37).bit_length()\n",
            " |      6\n",
            " |  \n",
            " |  conjugate(...)\n",
            " |      Returns self, the complex conjugate of any int.\n",
            " |  \n",
            " |  from_bytes(...) from builtins.type\n",
            " |      int.from_bytes(bytes, byteorder, *, signed=False) -> int\n",
            " |      \n",
            " |      Return the integer represented by the given array of bytes.\n",
            " |      \n",
            " |      The bytes argument must be a bytes-like object (e.g. bytes or bytearray).\n",
            " |      \n",
            " |      The byteorder argument determines the byte order used to represent the\n",
            " |      integer.  If byteorder is 'big', the most significant byte is at the\n",
            " |      beginning of the byte array.  If byteorder is 'little', the most\n",
            " |      significant byte is at the end of the byte array.  To request the native\n",
            " |      byte order of the host system, use `sys.byteorder' as the byte order value.\n",
            " |      \n",
            " |      The signed keyword-only argument indicates whether two's complement is\n",
            " |      used to represent the integer.\n",
            " |  \n",
            " |  to_bytes(...)\n",
            " |      int.to_bytes(length, byteorder, *, signed=False) -> bytes\n",
            " |      \n",
            " |      Return an array of bytes representing an integer.\n",
            " |      \n",
            " |      The integer is represented using length bytes.  An OverflowError is\n",
            " |      raised if the integer is not representable with the given number of\n",
            " |      bytes.\n",
            " |      \n",
            " |      The byteorder argument determines the byte order used to represent the\n",
            " |      integer.  If byteorder is 'big', the most significant byte is at the\n",
            " |      beginning of the byte array.  If byteorder is 'little', the most\n",
            " |      significant byte is at the end of the byte array.  To request the native\n",
            " |      byte order of the host system, use `sys.byteorder' as the byte order value.\n",
            " |      \n",
            " |      The signed keyword-only argument determines whether two's complement is\n",
            " |      used to represent the integer.  If signed is False and a negative integer\n",
            " |      is given, an OverflowError is raised.\n",
            " |  \n",
            " |  ----------------------------------------------------------------------\n",
            " |  Data descriptors inherited from int:\n",
            " |  \n",
            " |  denominator\n",
            " |      the denominator of a rational number in lowest terms\n",
            " |  \n",
            " |  imag\n",
            " |      the imaginary part of a complex number\n",
            " |  \n",
            " |  numerator\n",
            " |      the numerator of a rational number in lowest terms\n",
            " |  \n",
            " |  real\n",
            " |      the real part of a complex number\n",
            "\n"
          ],
          "name": "stdout"
        }
      ]
    },
    {
      "cell_type": "markdown",
      "metadata": {
        "id": "r5bbE_Bq7yOS",
        "colab_type": "text"
      },
      "source": [
        "If you scroll down in the documentation you shoudl reach a section that looks like this:\n",
        "</br>\n",
        "</br>\n",
        "`` \n",
        "|  __bool__(self, /)\n",
        "|      self != 0\n",
        "``\n",
        "</br>\n",
        "</br>\n",
        "So, when we write:"
      ]
    },
    {
      "cell_type": "code",
      "metadata": {
        "id": "579hvm1G7qei",
        "colab_type": "code",
        "colab": {
          "base_uri": "https://localhost:8080/",
          "height": 34
        },
        "outputId": "014597ae-0547-42ed-d22a-6f0cc43749c1"
      },
      "source": [
        "bool(100)"
      ],
      "execution_count": 31,
      "outputs": [
        {
          "output_type": "execute_result",
          "data": {
            "text/plain": [
              "True"
            ]
          },
          "metadata": {
            "tags": []
          },
          "execution_count": 31
        }
      ]
    },
    {
      "cell_type": "markdown",
      "metadata": {
        "id": "2Hn5N6Id8M_P",
        "colab_type": "text"
      },
      "source": [
        "Python is actually calling 100.__bool__() and returning that:"
      ]
    },
    {
      "cell_type": "code",
      "metadata": {
        "id": "DJMa-FLH8K-Y",
        "colab_type": "code",
        "colab": {
          "base_uri": "https://localhost:8080/",
          "height": 34
        },
        "outputId": "7d68483b-e608-41ec-f316-b622f326c309"
      },
      "source": [
        "(100).__bool__()"
      ],
      "execution_count": 32,
      "outputs": [
        {
          "output_type": "execute_result",
          "data": {
            "text/plain": [
              "True"
            ]
          },
          "metadata": {
            "tags": []
          },
          "execution_count": 32
        }
      ]
    },
    {
      "cell_type": "code",
      "metadata": {
        "id": "KmkTgs2j8PYP",
        "colab_type": "code",
        "colab": {
          "base_uri": "https://localhost:8080/",
          "height": 34
        },
        "outputId": "484dbf73-aa1c-4527-ca44-4c803cd2fa17"
      },
      "source": [
        "(0).__bool__()"
      ],
      "execution_count": 33,
      "outputs": [
        {
          "output_type": "execute_result",
          "data": {
            "text/plain": [
              "False"
            ]
          },
          "metadata": {
            "tags": []
          },
          "execution_count": 33
        }
      ]
    },
    {
      "cell_type": "markdown",
      "metadata": {
        "id": "mnzdZtXj8S0T",
        "colab_type": "text"
      },
      "source": [
        "Most objects will implement either the `__bool__()` or `__len__()` methods. If they don't, then their associated value will be **True** always."
      ]
    },
    {
      "cell_type": "markdown",
      "metadata": {
        "id": "QG-3do0v8TvE",
        "colab_type": "text"
      },
      "source": [
        "### Numeric Types"
      ]
    },
    {
      "cell_type": "markdown",
      "metadata": {
        "id": "JtmZXw3A8Xie",
        "colab_type": "text"
      },
      "source": [
        "Any non-zero numeric value is truthy. Any zero numeric value is falsy:"
      ]
    },
    {
      "cell_type": "code",
      "metadata": {
        "id": "PZljWFjK8Q_D",
        "colab_type": "code",
        "colab": {
          "base_uri": "https://localhost:8080/",
          "height": 34
        },
        "outputId": "c79130a6-a1f4-48a1-b054-5acdf7799164"
      },
      "source": [
        "from fractions import Fraction\n",
        "from decimal import Decimal\n",
        "bool(10), bool(1.5), bool(Fraction(3, 4)), bool(Decimal('10.5'))"
      ],
      "execution_count": 34,
      "outputs": [
        {
          "output_type": "execute_result",
          "data": {
            "text/plain": [
              "(True, True, True, True)"
            ]
          },
          "metadata": {
            "tags": []
          },
          "execution_count": 34
        }
      ]
    },
    {
      "cell_type": "code",
      "metadata": {
        "id": "WGw0Kzok8Z0U",
        "colab_type": "code",
        "colab": {
          "base_uri": "https://localhost:8080/",
          "height": 34
        },
        "outputId": "6038a23e-da70-4d0b-f35e-42e79b9d05ad"
      },
      "source": [
        "bool(0), bool(0.0), bool(Fraction(0,1)), bool(Decimal('0')), bool(0j)"
      ],
      "execution_count": 35,
      "outputs": [
        {
          "output_type": "execute_result",
          "data": {
            "text/plain": [
              "(False, False, False, False, False)"
            ]
          },
          "metadata": {
            "tags": []
          },
          "execution_count": 35
        }
      ]
    },
    {
      "cell_type": "markdown",
      "metadata": {
        "id": "Mb6J8EtZ810E",
        "colab_type": "text"
      },
      "source": [
        "### Sequence Types"
      ]
    },
    {
      "cell_type": "markdown",
      "metadata": {
        "id": "jUKG-ctg850j",
        "colab_type": "text"
      },
      "source": [
        "An empty sequence type object is Falsy, a non-empty one is truthy:"
      ]
    },
    {
      "cell_type": "code",
      "metadata": {
        "id": "-8W2Sgj78bA3",
        "colab_type": "code",
        "colab": {
          "base_uri": "https://localhost:8080/",
          "height": 34
        },
        "outputId": "c843be29-0691-42ff-c8f9-c515bbd4ab40"
      },
      "source": [
        "bool([1, 2, 3]), bool((1, 2, 3)), bool('abc'), bool(1j)"
      ],
      "execution_count": 36,
      "outputs": [
        {
          "output_type": "execute_result",
          "data": {
            "text/plain": [
              "(True, True, True, True)"
            ]
          },
          "metadata": {
            "tags": []
          },
          "execution_count": 36
        }
      ]
    },
    {
      "cell_type": "code",
      "metadata": {
        "id": "yvMqL9bl87va",
        "colab_type": "code",
        "colab": {
          "base_uri": "https://localhost:8080/",
          "height": 34
        },
        "outputId": "9d5551cb-021c-4372-9358-892a97388903"
      },
      "source": [
        "bool([]), bool(()), bool('')"
      ],
      "execution_count": 37,
      "outputs": [
        {
          "output_type": "execute_result",
          "data": {
            "text/plain": [
              "(False, False, False)"
            ]
          },
          "metadata": {
            "tags": []
          },
          "execution_count": 37
        }
      ]
    },
    {
      "cell_type": "markdown",
      "metadata": {
        "id": "cZeuuBWM8_Xf",
        "colab_type": "text"
      },
      "source": [
        "### Mapping Types"
      ]
    },
    {
      "cell_type": "markdown",
      "metadata": {
        "id": "xe5EyK-g8_EZ",
        "colab_type": "text"
      },
      "source": [
        "Similarly, an empty mapping type will be falsy, a non-empty one truthy:"
      ]
    },
    {
      "cell_type": "code",
      "metadata": {
        "id": "lZ4IWW_589EG",
        "colab_type": "code",
        "colab": {
          "base_uri": "https://localhost:8080/",
          "height": 34
        },
        "outputId": "bad7620c-eaa6-443b-b45c-391bbc47ce47"
      },
      "source": [
        "bool({'a': 1}), bool({1, 2, 3})"
      ],
      "execution_count": 38,
      "outputs": [
        {
          "output_type": "execute_result",
          "data": {
            "text/plain": [
              "(True, True)"
            ]
          },
          "metadata": {
            "tags": []
          },
          "execution_count": 38
        }
      ]
    },
    {
      "cell_type": "code",
      "metadata": {
        "id": "UO0_RK7Z9KoZ",
        "colab_type": "code",
        "colab": {
          "base_uri": "https://localhost:8080/",
          "height": 34
        },
        "outputId": "8e43b66f-86aa-4e81-f7b0-80c36d873be6"
      },
      "source": [
        "bool({}), bool(set())"
      ],
      "execution_count": 39,
      "outputs": [
        {
          "output_type": "execute_result",
          "data": {
            "text/plain": [
              "(False, False)"
            ]
          },
          "metadata": {
            "tags": []
          },
          "execution_count": 39
        }
      ]
    },
    {
      "cell_type": "markdown",
      "metadata": {
        "id": "wSnx-5v99Ni5",
        "colab_type": "text"
      },
      "source": [
        "### The None Object"
      ]
    },
    {
      "cell_type": "markdown",
      "metadata": {
        "id": "QzjS-Bae9PzT",
        "colab_type": "text"
      },
      "source": [
        "The singleton **None** object is always falsy:"
      ]
    },
    {
      "cell_type": "code",
      "metadata": {
        "id": "1hHPhqfn9L4s",
        "colab_type": "code",
        "colab": {
          "base_uri": "https://localhost:8080/",
          "height": 34
        },
        "outputId": "3d563b01-3330-4fd7-8494-c342d1255a90"
      },
      "source": [
        "bool(None)"
      ],
      "execution_count": 40,
      "outputs": [
        {
          "output_type": "execute_result",
          "data": {
            "text/plain": [
              "False"
            ]
          },
          "metadata": {
            "tags": []
          },
          "execution_count": 40
        }
      ]
    },
    {
      "cell_type": "markdown",
      "metadata": {
        "id": "b-M5eBu39TXM",
        "colab_type": "text"
      },
      "source": [
        "### One Application of Truth Values"
      ]
    },
    {
      "cell_type": "markdown",
      "metadata": {
        "id": "hS_ZA2a79Voc",
        "colab_type": "text"
      },
      "source": [
        "Any conditional expression which involves objects other than **bool** types, will use the associated truth value as the result of the conditional expression."
      ]
    },
    {
      "cell_type": "code",
      "metadata": {
        "id": "3D0frb7g9RqV",
        "colab_type": "code",
        "colab": {
          "base_uri": "https://localhost:8080/",
          "height": 34
        },
        "outputId": "06dd5018-a3c3-4f6e-b3e9-235ab6ea10b0"
      },
      "source": [
        "a = [1, 2, 3]\n",
        "if a:\n",
        "    print(a[0])\n",
        "else:\n",
        "    print('a is None, or a is empty')"
      ],
      "execution_count": 41,
      "outputs": [
        {
          "output_type": "stream",
          "text": [
            "1\n"
          ],
          "name": "stdout"
        }
      ]
    },
    {
      "cell_type": "code",
      "metadata": {
        "id": "eDSzqMVH9X_x",
        "colab_type": "code",
        "colab": {
          "base_uri": "https://localhost:8080/",
          "height": 34
        },
        "outputId": "8ad2e1d5-e960-421b-c52e-0ea59067b4ed"
      },
      "source": [
        "a = []\n",
        "if a:\n",
        "    print(a[0])\n",
        "else:\n",
        "    print('a is None, or a is empty')"
      ],
      "execution_count": 42,
      "outputs": [
        {
          "output_type": "stream",
          "text": [
            "a is None, or a is empty\n"
          ],
          "name": "stdout"
        }
      ]
    },
    {
      "cell_type": "code",
      "metadata": {
        "id": "G761p2HD9dxd",
        "colab_type": "code",
        "colab": {
          "base_uri": "https://localhost:8080/",
          "height": 34
        },
        "outputId": "63cd35f5-a422-4554-b2b8-491a3cbf42a1"
      },
      "source": [
        "a = 'abc'\n",
        "if a:\n",
        "    print(a[0])\n",
        "else:\n",
        "    print('a is None, or a is empty')"
      ],
      "execution_count": 43,
      "outputs": [
        {
          "output_type": "stream",
          "text": [
            "a\n"
          ],
          "name": "stdout"
        }
      ]
    },
    {
      "cell_type": "code",
      "metadata": {
        "id": "Xk6LXVhY9iII",
        "colab_type": "code",
        "colab": {
          "base_uri": "https://localhost:8080/",
          "height": 34
        },
        "outputId": "f963b9c8-d31b-4e9e-beb3-dbc874368c5d"
      },
      "source": [
        "a = ''\n",
        "if a:\n",
        "    print(a[0])\n",
        "else:\n",
        "    print('a is None, or a is empty')"
      ],
      "execution_count": 44,
      "outputs": [
        {
          "output_type": "stream",
          "text": [
            "a is None, or a is empty\n"
          ],
          "name": "stdout"
        }
      ]
    },
    {
      "cell_type": "markdown",
      "metadata": {
        "id": "aSUnkCCx9lu9",
        "colab_type": "text"
      },
      "source": [
        "We could write this using a more lengthy expression:"
      ]
    },
    {
      "cell_type": "code",
      "metadata": {
        "id": "Oarm3tGH9jo_",
        "colab_type": "code",
        "colab": {
          "base_uri": "https://localhost:8080/",
          "height": 34
        },
        "outputId": "59e4789a-6ac7-482e-87ba-5e63517f94e7"
      },
      "source": [
        "a = 'abc'\n",
        "if a is not None and len(a) > 0:\n",
        "    print(a[0])\n",
        "else:\n",
        "    print('a is None, or a is empty')"
      ],
      "execution_count": 45,
      "outputs": [
        {
          "output_type": "stream",
          "text": [
            "a\n"
          ],
          "name": "stdout"
        }
      ]
    },
    {
      "cell_type": "markdown",
      "metadata": {
        "id": "UEQ6vHYi9o6A",
        "colab_type": "text"
      },
      "source": [
        "Doing the following would break our code in some instances:"
      ]
    },
    {
      "cell_type": "code",
      "metadata": {
        "id": "Smv8PZo29nQX",
        "colab_type": "code",
        "colab": {
          "base_uri": "https://localhost:8080/",
          "height": 34
        },
        "outputId": "094238cc-fe66-4bb4-bfbe-d58a2d08df4e"
      },
      "source": [
        "a = 'abc'\n",
        "if a is not None:\n",
        "    print(a[0])"
      ],
      "execution_count": 46,
      "outputs": [
        {
          "output_type": "stream",
          "text": [
            "a\n"
          ],
          "name": "stdout"
        }
      ]
    },
    {
      "cell_type": "markdown",
      "metadata": {
        "id": "2YMYidOj932r",
        "colab_type": "text"
      },
      "source": [
        "works, but:"
      ]
    },
    {
      "cell_type": "code",
      "metadata": {
        "id": "OHcy4nvC9rLQ",
        "colab_type": "code",
        "colab": {
          "base_uri": "https://localhost:8080/",
          "height": 197
        },
        "outputId": "b500cb27-5119-4542-dd5d-fbc10d65f997"
      },
      "source": [
        "a = ''\n",
        "if a is not None:\n",
        "    print(a[0])"
      ],
      "execution_count": 47,
      "outputs": [
        {
          "output_type": "error",
          "ename": "IndexError",
          "evalue": "ignored",
          "traceback": [
            "\u001b[0;31m---------------------------------------------------------------------------\u001b[0m",
            "\u001b[0;31mIndexError\u001b[0m                                Traceback (most recent call last)",
            "\u001b[0;32m<ipython-input-47-42f9ef905da0>\u001b[0m in \u001b[0;36m<module>\u001b[0;34m()\u001b[0m\n\u001b[1;32m      1\u001b[0m \u001b[0ma\u001b[0m \u001b[0;34m=\u001b[0m \u001b[0;34m''\u001b[0m\u001b[0;34m\u001b[0m\u001b[0;34m\u001b[0m\u001b[0m\n\u001b[1;32m      2\u001b[0m \u001b[0;32mif\u001b[0m \u001b[0ma\u001b[0m \u001b[0;32mis\u001b[0m \u001b[0;32mnot\u001b[0m \u001b[0;32mNone\u001b[0m\u001b[0;34m:\u001b[0m\u001b[0;34m\u001b[0m\u001b[0;34m\u001b[0m\u001b[0m\n\u001b[0;32m----> 3\u001b[0;31m     \u001b[0mprint\u001b[0m\u001b[0;34m(\u001b[0m\u001b[0ma\u001b[0m\u001b[0;34m[\u001b[0m\u001b[0;36m0\u001b[0m\u001b[0;34m]\u001b[0m\u001b[0;34m)\u001b[0m\u001b[0;34m\u001b[0m\u001b[0;34m\u001b[0m\u001b[0m\n\u001b[0m",
            "\u001b[0;31mIndexError\u001b[0m: string index out of range"
          ]
        }
      ]
    },
    {
      "cell_type": "code",
      "metadata": {
        "id": "EBSoHz2m951s",
        "colab_type": "code",
        "colab": {
          "base_uri": "https://localhost:8080/",
          "height": 197
        },
        "outputId": "627a1e40-be6c-485c-aa84-d14dfaa0b3ef"
      },
      "source": [
        "a = None\n",
        "if len(a) > 0:\n",
        "    print(a[0])"
      ],
      "execution_count": 48,
      "outputs": [
        {
          "output_type": "error",
          "ename": "TypeError",
          "evalue": "ignored",
          "traceback": [
            "\u001b[0;31m---------------------------------------------------------------------------\u001b[0m",
            "\u001b[0;31mTypeError\u001b[0m                                 Traceback (most recent call last)",
            "\u001b[0;32m<ipython-input-48-cab6f61af012>\u001b[0m in \u001b[0;36m<module>\u001b[0;34m()\u001b[0m\n\u001b[1;32m      1\u001b[0m \u001b[0ma\u001b[0m \u001b[0;34m=\u001b[0m \u001b[0;32mNone\u001b[0m\u001b[0;34m\u001b[0m\u001b[0;34m\u001b[0m\u001b[0m\n\u001b[0;32m----> 2\u001b[0;31m \u001b[0;32mif\u001b[0m \u001b[0mlen\u001b[0m\u001b[0;34m(\u001b[0m\u001b[0ma\u001b[0m\u001b[0;34m)\u001b[0m \u001b[0;34m>\u001b[0m \u001b[0;36m0\u001b[0m\u001b[0;34m:\u001b[0m\u001b[0;34m\u001b[0m\u001b[0;34m\u001b[0m\u001b[0m\n\u001b[0m\u001b[1;32m      3\u001b[0m     \u001b[0mprint\u001b[0m\u001b[0;34m(\u001b[0m\u001b[0ma\u001b[0m\u001b[0;34m[\u001b[0m\u001b[0;36m0\u001b[0m\u001b[0;34m]\u001b[0m\u001b[0;34m)\u001b[0m\u001b[0;34m\u001b[0m\u001b[0;34m\u001b[0m\u001b[0m\n",
            "\u001b[0;31mTypeError\u001b[0m: object of type 'NoneType' has no len()"
          ]
        }
      ]
    },
    {
      "cell_type": "markdown",
      "metadata": {
        "id": "iV9y0Lm199B0",
        "colab_type": "text"
      },
      "source": [
        "To be torough we would need to write:"
      ]
    },
    {
      "cell_type": "code",
      "metadata": {
        "id": "N3R9F4RI97Tu",
        "colab_type": "code",
        "colab": {}
      },
      "source": [
        "a = None\n",
        "if a is not None and len(a) > 0:\n",
        "    print(a[0])"
      ],
      "execution_count": 0,
      "outputs": []
    },
    {
      "cell_type": "markdown",
      "metadata": {
        "id": "76QQRIuY-BVT",
        "colab_type": "text"
      },
      "source": [
        "Also, the order of the boolean expressions matter here!\n",
        "\n",
        "We'll discuss this and short-circuit evaluations in an upcoming video.\n",
        "\n",
        "For example:"
      ]
    },
    {
      "cell_type": "code",
      "metadata": {
        "id": "ec57I-WF9-8b",
        "colab_type": "code",
        "colab": {
          "base_uri": "https://localhost:8080/",
          "height": 197
        },
        "outputId": "4bb4f362-8a97-4881-eb71-fed0321799c9"
      },
      "source": [
        "a = None\n",
        "if len(a) > 0 and a is not None:\n",
        "    print(a[0])"
      ],
      "execution_count": 50,
      "outputs": [
        {
          "output_type": "error",
          "ename": "TypeError",
          "evalue": "ignored",
          "traceback": [
            "\u001b[0;31m---------------------------------------------------------------------------\u001b[0m",
            "\u001b[0;31mTypeError\u001b[0m                                 Traceback (most recent call last)",
            "\u001b[0;32m<ipython-input-50-cb0deabb23aa>\u001b[0m in \u001b[0;36m<module>\u001b[0;34m()\u001b[0m\n\u001b[1;32m      1\u001b[0m \u001b[0ma\u001b[0m \u001b[0;34m=\u001b[0m \u001b[0;32mNone\u001b[0m\u001b[0;34m\u001b[0m\u001b[0;34m\u001b[0m\u001b[0m\n\u001b[0;32m----> 2\u001b[0;31m \u001b[0;32mif\u001b[0m \u001b[0mlen\u001b[0m\u001b[0;34m(\u001b[0m\u001b[0ma\u001b[0m\u001b[0;34m)\u001b[0m \u001b[0;34m>\u001b[0m \u001b[0;36m0\u001b[0m \u001b[0;32mand\u001b[0m \u001b[0ma\u001b[0m \u001b[0;32mis\u001b[0m \u001b[0;32mnot\u001b[0m \u001b[0;32mNone\u001b[0m\u001b[0;34m:\u001b[0m\u001b[0;34m\u001b[0m\u001b[0;34m\u001b[0m\u001b[0m\n\u001b[0m\u001b[1;32m      3\u001b[0m     \u001b[0mprint\u001b[0m\u001b[0;34m(\u001b[0m\u001b[0ma\u001b[0m\u001b[0;34m[\u001b[0m\u001b[0;36m0\u001b[0m\u001b[0;34m]\u001b[0m\u001b[0;34m)\u001b[0m\u001b[0;34m\u001b[0m\u001b[0;34m\u001b[0m\u001b[0m\n",
            "\u001b[0;31mTypeError\u001b[0m: object of type 'NoneType' has no len()"
          ]
        }
      ]
    },
    {
      "cell_type": "code",
      "metadata": {
        "id": "IT-mz_3h-DmL",
        "colab_type": "code",
        "colab": {}
      },
      "source": [
        ""
      ],
      "execution_count": 0,
      "outputs": []
    }
  ]
}