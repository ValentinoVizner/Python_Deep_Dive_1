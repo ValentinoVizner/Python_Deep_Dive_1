{
  "nbformat": 4,
  "nbformat_minor": 0,
  "metadata": {
    "colab": {
      "name": "Deep_Dive_1_Function_parametars.ipynb",
      "provenance": [],
      "toc_visible": true,
      "authorship_tag": "ABX9TyMBS9cwlJMepLcmFt6cDpXI",
      "include_colab_link": true
    },
    "kernelspec": {
      "name": "python3",
      "display_name": "Python 3"
    },
    "accelerator": "TPU"
  },
  "cells": [
    {
      "cell_type": "markdown",
      "metadata": {
        "id": "view-in-github",
        "colab_type": "text"
      },
      "source": [
        "<a href=\"https://colab.research.google.com/github/ValentinoVizner/Python_Deep_Dive_1/blob/master/Deep_Dive_1_Function_parametars.ipynb\" target=\"_parent\"><img src=\"https://colab.research.google.com/assets/colab-badge.svg\" alt=\"Open In Colab\"/></a>"
      ]
    },
    {
      "cell_type": "markdown",
      "metadata": {
        "id": "xBKaQo9wRbM1",
        "colab_type": "text"
      },
      "source": [
        "![alt text](https://drive.google.com/uc?id=1RktVu4GrxabjIrG9nWrKUGeIsrDnN4yd)"
      ]
    },
    {
      "cell_type": "markdown",
      "metadata": {
        "id": "kuk5BcN5Rqfn",
        "colab_type": "text"
      },
      "source": [
        "# 1.Argument vs Parameter"
      ]
    },
    {
      "cell_type": "markdown",
      "metadata": {
        "id": "AgQ4I30qRwZu",
        "colab_type": "text"
      },
      "source": [
        "![alt text](https://drive.google.com/uc?id=1NRveo14B4MwIZcY4UoEPgJql9ChIwzD1)"
      ]
    },
    {
      "cell_type": "markdown",
      "metadata": {
        "id": "NfSSFHP_SGgh",
        "colab_type": "text"
      },
      "source": [
        "![alt text](https://drive.google.com/uc?id=1ZYxTcrUlfAcg2fownZCZAA4KsDHB8Zzf)"
      ]
    },
    {
      "cell_type": "markdown",
      "metadata": {
        "id": "95zaBJffcHfN",
        "colab_type": "text"
      },
      "source": [
        "# 2.POSITIONAL and KEYWORD arguments"
      ]
    },
    {
      "cell_type": "markdown",
      "metadata": {
        "id": "2PscHSfMcTL_",
        "colab_type": "text"
      },
      "source": [
        "![alt text](https://drive.google.com/uc?id=1rUpU4LL_m9G6yv9gD19jwLoliMmWWUL8)"
      ]
    },
    {
      "cell_type": "markdown",
      "metadata": {
        "id": "IswwLyH-cTPe",
        "colab_type": "text"
      },
      "source": [
        "![alt text](https://drive.google.com/uc?id=1aPsOA2RyaDxwdZNZ86PvTbaZq6Satx_I)"
      ]
    },
    {
      "cell_type": "markdown",
      "metadata": {
        "id": "uLNpoOggcTS1",
        "colab_type": "text"
      },
      "source": [
        "![alt text](https://drive.google.com/uc?id=1ec8w9hzR4paeTlUZz-iaqmtF-Widn0xg)"
      ]
    },
    {
      "cell_type": "markdown",
      "metadata": {
        "id": "K8ryUVl5co8d",
        "colab_type": "text"
      },
      "source": [
        "![alt text](https://drive.google.com/uc?id=18J9C5mIyMw4hZhwmyTrYL2i9MhToW6AJ)"
      ]
    },
    {
      "cell_type": "markdown",
      "metadata": {
        "id": "skCSnS-qcTWN",
        "colab_type": "text"
      },
      "source": [
        "![alt text](https://drive.google.com/uc?id=13bn99cvosh7pq4MZgV5voh5dDL40ur9T)"
      ]
    },
    {
      "cell_type": "markdown",
      "metadata": {
        "id": "yrsXP4n79q3V",
        "colab_type": "text"
      },
      "source": [
        "## Coding time"
      ]
    },
    {
      "cell_type": "markdown",
      "metadata": {
        "id": "8F34ddHT9uf0",
        "colab_type": "text"
      },
      "source": [
        "### Positional Arguments"
      ]
    },
    {
      "cell_type": "code",
      "metadata": {
        "id": "SIrhs0dmRDze",
        "colab_type": "code",
        "colab": {}
      },
      "source": [
        "def my_func(a, b, c):\n",
        "    print(f\"a={a}, b={b}, c={c}\")"
      ],
      "execution_count": 0,
      "outputs": []
    },
    {
      "cell_type": "code",
      "metadata": {
        "id": "GGjQi54E9yON",
        "colab_type": "code",
        "outputId": "f8f75427-90a4-4cb0-c5b1-85e984709f7c",
        "colab": {
          "base_uri": "https://localhost:8080/",
          "height": 34
        }
      },
      "source": [
        "my_func(1, 2, 3)"
      ],
      "execution_count": 0,
      "outputs": [
        {
          "output_type": "stream",
          "text": [
            "a=1, b=2, c=3\n"
          ],
          "name": "stdout"
        }
      ]
    },
    {
      "cell_type": "markdown",
      "metadata": {
        "id": "jgPj1gEH91-Z",
        "colab_type": "text"
      },
      "source": [
        "#### Default Values"
      ]
    },
    {
      "cell_type": "code",
      "metadata": {
        "id": "rvZnpSIN9z0c",
        "colab_type": "code",
        "colab": {}
      },
      "source": [
        "def my_func(a, b=2, c=3):\n",
        "    print(f\"a={a}, b={b}, c={c}\")"
      ],
      "execution_count": 0,
      "outputs": []
    },
    {
      "cell_type": "markdown",
      "metadata": {
        "id": "XHCMzi9_95xR",
        "colab_type": "text"
      },
      "source": [
        "Note that once a parameter is assigned a default value, **all** parameters thereafter **must** be asigned a default value too!\n",
        "</br>\n",
        "For example, this will not work:"
      ]
    },
    {
      "cell_type": "code",
      "metadata": {
        "id": "_AFrAe6794lB",
        "colab_type": "code",
        "outputId": "ed86e88b-60fd-4422-94ce-82372cfd4218",
        "colab": {
          "base_uri": "https://localhost:8080/",
          "height": 129
        }
      },
      "source": [
        "def fn(a, b=2, c):\n",
        "    print(a, b, c)"
      ],
      "execution_count": 0,
      "outputs": [
        {
          "output_type": "error",
          "ename": "SyntaxError",
          "evalue": "ignored",
          "traceback": [
            "\u001b[0;36m  File \u001b[0;32m\"<ipython-input-21-535e50422129>\"\u001b[0;36m, line \u001b[0;32m1\u001b[0m\n\u001b[0;31m    def fn(a, b=2, c):\u001b[0m\n\u001b[0m          ^\u001b[0m\n\u001b[0;31mSyntaxError\u001b[0m\u001b[0;31m:\u001b[0m non-default argument follows default argument\n"
          ]
        }
      ]
    },
    {
      "cell_type": "code",
      "metadata": {
        "id": "lhCVxN7h-AtY",
        "colab_type": "code",
        "colab": {}
      },
      "source": [
        "def my_func(a, b=2, c=3)\n",
        "    print(f\"a={a}, b={b}, c={c}\")"
      ],
      "execution_count": 0,
      "outputs": []
    },
    {
      "cell_type": "code",
      "metadata": {
        "id": "fwdJMSDZ-BHk",
        "colab_type": "code",
        "outputId": "c719f93a-448a-448e-c477-d3e234f6883a",
        "colab": {
          "base_uri": "https://localhost:8080/",
          "height": 34
        }
      },
      "source": [
        "my_func(10, 20, 30)"
      ],
      "execution_count": 0,
      "outputs": [
        {
          "output_type": "stream",
          "text": [
            "a=10, b=20, c=30\n"
          ],
          "name": "stdout"
        }
      ]
    },
    {
      "cell_type": "code",
      "metadata": {
        "id": "9iKevbbR-Guq",
        "colab_type": "code",
        "outputId": "ba401350-915a-4070-cbd0-5e2eb07fa5b4",
        "colab": {
          "base_uri": "https://localhost:8080/",
          "height": 34
        }
      },
      "source": [
        "my_func(10, 20)"
      ],
      "execution_count": 0,
      "outputs": [
        {
          "output_type": "stream",
          "text": [
            "a=10, b=20, c=3\n"
          ],
          "name": "stdout"
        }
      ]
    },
    {
      "cell_type": "code",
      "metadata": {
        "id": "WzGEg6A4-Ibv",
        "colab_type": "code",
        "outputId": "6ea49d53-fdfb-4895-fb1c-4b5b81a2eff2",
        "colab": {
          "base_uri": "https://localhost:8080/",
          "height": 34
        }
      },
      "source": [
        "my_func(10)"
      ],
      "execution_count": 0,
      "outputs": [
        {
          "output_type": "stream",
          "text": [
            "a=10, b=2, c=3\n"
          ],
          "name": "stdout"
        }
      ]
    },
    {
      "cell_type": "markdown",
      "metadata": {
        "id": "bpHOPtiM-MVp",
        "colab_type": "text"
      },
      "source": [
        "Since **a** does not have a default value, it **must** be specified:"
      ]
    },
    {
      "cell_type": "code",
      "metadata": {
        "id": "BtxpybLzAAWH",
        "colab_type": "code",
        "colab": {}
      },
      "source": [
        "def my_func(a=1, b=2, c=3):\n",
        "    print(f\"a={a}, b={b}, c={c}\")"
      ],
      "execution_count": 0,
      "outputs": []
    },
    {
      "cell_type": "code",
      "metadata": {
        "id": "P90H2SUH-Kah",
        "colab_type": "code",
        "outputId": "34ee8ca1-977d-4ae3-f56f-f820e912bb09",
        "colab": {
          "base_uri": "https://localhost:8080/",
          "height": 34
        }
      },
      "source": [
        "my_func()"
      ],
      "execution_count": 0,
      "outputs": [
        {
          "output_type": "stream",
          "text": [
            "a=1, b=2, c=3\n"
          ],
          "name": "stdout"
        }
      ]
    },
    {
      "cell_type": "markdown",
      "metadata": {
        "id": "Twoa8rzQ-QaM",
        "colab_type": "text"
      },
      "source": [
        "#### Keyword Arguments (named arguments)"
      ]
    },
    {
      "cell_type": "markdown",
      "metadata": {
        "id": "aT_WQ-SB-S7h",
        "colab_type": "text"
      },
      "source": [
        "Positional arguments, can **optionally**, be specified using their corresponding parameter name.\n",
        "\n",
        "This allows us to pass the arguments without using the positional assignment:"
      ]
    },
    {
      "cell_type": "code",
      "metadata": {
        "id": "PJqhCu1_-OXk",
        "colab_type": "code",
        "colab": {}
      },
      "source": [
        "def my_func(a, b=2, c=3):\n",
        "    print(f\"a={a}, b={b}, c={c}\")"
      ],
      "execution_count": 0,
      "outputs": []
    },
    {
      "cell_type": "code",
      "metadata": {
        "id": "wJ1mAzif-Ubg",
        "colab_type": "code",
        "outputId": "06c78dfa-18fd-4438-f8cf-adc8570f757b",
        "colab": {
          "base_uri": "https://localhost:8080/",
          "height": 34
        }
      },
      "source": [
        "my_func(c=30, b=20, a=10)"
      ],
      "execution_count": 0,
      "outputs": [
        {
          "output_type": "stream",
          "text": [
            "a=10, b=20, c=30\n"
          ],
          "name": "stdout"
        }
      ]
    },
    {
      "cell_type": "code",
      "metadata": {
        "id": "32z6uB8i-Vd0",
        "colab_type": "code",
        "outputId": "93a62a52-33f1-4793-bc22-082dcdbcd6d5",
        "colab": {
          "base_uri": "https://localhost:8080/",
          "height": 34
        }
      },
      "source": [
        "my_func(10, c=30, b=20)"
      ],
      "execution_count": 0,
      "outputs": [
        {
          "output_type": "stream",
          "text": [
            "a=10, b=20, c=30\n"
          ],
          "name": "stdout"
        }
      ]
    },
    {
      "cell_type": "markdown",
      "metadata": {
        "id": "u7iAemI7-YlV",
        "colab_type": "text"
      },
      "source": [
        "Note that once a keyword argument has been used, **all** arguments thereafter **must** also be named:"
      ]
    },
    {
      "cell_type": "code",
      "metadata": {
        "id": "Xd56LPGs-WvO",
        "colab_type": "code",
        "outputId": "40f02fc6-c9c5-40bd-ace8-528f689c85fa",
        "colab": {
          "base_uri": "https://localhost:8080/",
          "height": 129
        }
      },
      "source": [
        "my_func(10, b=20, 30)"
      ],
      "execution_count": 0,
      "outputs": [
        {
          "output_type": "error",
          "ename": "SyntaxError",
          "evalue": "ignored",
          "traceback": [
            "\u001b[0;36m  File \u001b[0;32m\"<ipython-input-38-a114ab951de8>\"\u001b[0;36m, line \u001b[0;32m1\u001b[0m\n\u001b[0;31m    my_func(10, b=20, 30)\u001b[0m\n\u001b[0m                     ^\u001b[0m\n\u001b[0;31mSyntaxError\u001b[0m\u001b[0;31m:\u001b[0m positional argument follows keyword argument\n"
          ]
        }
      ]
    },
    {
      "cell_type": "markdown",
      "metadata": {
        "id": "Ykm3Hv7e-b8g",
        "colab_type": "text"
      },
      "source": [
        "However, if a parameter has a default value, it *can* be omitted from the argument list, named or not:"
      ]
    },
    {
      "cell_type": "code",
      "metadata": {
        "id": "ngEg0rF3-acv",
        "colab_type": "code",
        "outputId": "07777583-d46e-414c-9df3-06e5163d4ec2",
        "colab": {
          "base_uri": "https://localhost:8080/",
          "height": 34
        }
      },
      "source": [
        "my_func(10, c=30)"
      ],
      "execution_count": 0,
      "outputs": [
        {
          "output_type": "stream",
          "text": [
            "a=10, b=2, c=30\n"
          ],
          "name": "stdout"
        }
      ]
    },
    {
      "cell_type": "code",
      "metadata": {
        "id": "PD816hCQ-dkc",
        "colab_type": "code",
        "outputId": "34e746b8-9b52-48f8-8a79-bc596d9dda15",
        "colab": {
          "base_uri": "https://localhost:8080/",
          "height": 34
        }
      },
      "source": [
        "my_func(a=30, c=10)"
      ],
      "execution_count": 0,
      "outputs": [
        {
          "output_type": "stream",
          "text": [
            "a=30, b=2, c=10\n"
          ],
          "name": "stdout"
        }
      ]
    },
    {
      "cell_type": "code",
      "metadata": {
        "id": "WLVX6Vwg-ejx",
        "colab_type": "code",
        "outputId": "f383e113-70e7-4ec9-86bc-9b03c04a5cb0",
        "colab": {
          "base_uri": "https://localhost:8080/",
          "height": 34
        }
      },
      "source": [
        "my_func(c=10, a=30)"
      ],
      "execution_count": 0,
      "outputs": [
        {
          "output_type": "stream",
          "text": [
            "a=30, b=2, c=10\n"
          ],
          "name": "stdout"
        }
      ]
    },
    {
      "cell_type": "markdown",
      "metadata": {
        "id": "1yN3we7OCDV_",
        "colab_type": "text"
      },
      "source": [
        "# 3.UNPACKING: Iterables"
      ]
    },
    {
      "cell_type": "markdown",
      "metadata": {
        "id": "9JwX6AL8CDlE",
        "colab_type": "text"
      },
      "source": [
        "![alt text](https://drive.google.com/uc?id=1QnoOoq52Hmt8QKNfheVe0otIjQSx5wu1)"
      ]
    },
    {
      "cell_type": "markdown",
      "metadata": {
        "id": "sN2MNg7pCDrt",
        "colab_type": "text"
      },
      "source": [
        "![alt text](https://drive.google.com/uc?id=1vfUCx-aASJBl2f4q-cO9EFLGTUgvr7uH)"
      ]
    },
    {
      "cell_type": "markdown",
      "metadata": {
        "id": "sP44Xx1ECDyn",
        "colab_type": "text"
      },
      "source": [
        "![alt text](https://drive.google.com/uc?id=1cE7IcJZ8PGiefZy9uMDRC1WDz0KO6HEK)"
      ]
    },
    {
      "cell_type": "markdown",
      "metadata": {
        "id": "Htex0IkWCD6A",
        "colab_type": "text"
      },
      "source": [
        "![alt text](https://drive.google.com/uc?id=1eDahnGGOvCEJA89eqlw7pt70Awd-O-Um)"
      ]
    },
    {
      "cell_type": "markdown",
      "metadata": {
        "id": "NKTwNkPKCEBT",
        "colab_type": "text"
      },
      "source": [
        "![alt text](https://drive.google.com/uc?id=10GICEPgBZDs9-cyp-GMwif4dT6uPJvfW)"
      ]
    },
    {
      "cell_type": "markdown",
      "metadata": {
        "id": "cGjr0sBKCEKa",
        "colab_type": "text"
      },
      "source": [
        "![alt text](https://drive.google.com/uc?id=1LR0pmueadPXr7RpJ4CCnRA6vgu-TuWF0)"
      ]
    },
    {
      "cell_type": "markdown",
      "metadata": {
        "id": "MjcVGyAiCEyc",
        "colab_type": "text"
      },
      "source": [
        "![alt text](https://drive.google.com/uc?id=14AiuDje8wdznyTY_XtL4AiecdZd-x_Qe)"
      ]
    },
    {
      "cell_type": "markdown",
      "metadata": {
        "id": "Q0dIuPXsq-NM",
        "colab_type": "text"
      },
      "source": [
        "## Coding Time"
      ]
    },
    {
      "cell_type": "markdown",
      "metadata": {
        "id": "Omn7KQIxtSq-",
        "colab_type": "text"
      },
      "source": [
        "### Side Note on Tuples"
      ]
    },
    {
      "cell_type": "markdown",
      "metadata": {
        "id": "-pacYLfetwxp",
        "colab_type": "text"
      },
      "source": [
        "This is a tuple:"
      ]
    },
    {
      "cell_type": "code",
      "metadata": {
        "id": "yk2VYuZ_-fjm",
        "colab_type": "code",
        "colab": {}
      },
      "source": [
        "a = (1, 2, 3)"
      ],
      "execution_count": 0,
      "outputs": []
    },
    {
      "cell_type": "code",
      "metadata": {
        "id": "-0OpLKiZtyiv",
        "colab_type": "code",
        "colab": {
          "base_uri": "https://localhost:8080/",
          "height": 34
        },
        "outputId": "f7210c1d-f150-43aa-9475-9ad755cf2c9e"
      },
      "source": [
        "type(a)"
      ],
      "execution_count": 2,
      "outputs": [
        {
          "output_type": "execute_result",
          "data": {
            "text/plain": [
              "tuple"
            ]
          },
          "metadata": {
            "tags": []
          },
          "execution_count": 2
        }
      ]
    },
    {
      "cell_type": "markdown",
      "metadata": {
        "id": "evQQ6TJ8t3T0",
        "colab_type": "text"
      },
      "source": [
        "This is also a tuple:"
      ]
    },
    {
      "cell_type": "code",
      "metadata": {
        "id": "Te1g_cp0t1c8",
        "colab_type": "code",
        "colab": {}
      },
      "source": [
        "a = 1, 2, 3"
      ],
      "execution_count": 0,
      "outputs": []
    },
    {
      "cell_type": "code",
      "metadata": {
        "id": "K5Pxfq1ot5Rj",
        "colab_type": "code",
        "colab": {
          "base_uri": "https://localhost:8080/",
          "height": 34
        },
        "outputId": "491d5fd6-4669-4909-dd0f-2fcde3d56916"
      },
      "source": [
        "type(a)"
      ],
      "execution_count": 4,
      "outputs": [
        {
          "output_type": "execute_result",
          "data": {
            "text/plain": [
              "tuple"
            ]
          },
          "metadata": {
            "tags": []
          },
          "execution_count": 4
        }
      ]
    },
    {
      "cell_type": "markdown",
      "metadata": {
        "id": "L60Ilu-Ft8Db",
        "colab_type": "text"
      },
      "source": [
        "In fact what defines a tuple is not **()**, but the **,** (comma)"
      ]
    },
    {
      "cell_type": "markdown",
      "metadata": {
        "id": "jNHczVo6t9nO",
        "colab_type": "text"
      },
      "source": [
        "To create a tuple with a single element:"
      ]
    },
    {
      "cell_type": "code",
      "metadata": {
        "id": "BUGwmpN9t6bz",
        "colab_type": "code",
        "colab": {}
      },
      "source": [
        "a = (1)"
      ],
      "execution_count": 0,
      "outputs": []
    },
    {
      "cell_type": "markdown",
      "metadata": {
        "id": "C_y9EyafuA9g",
        "colab_type": "text"
      },
      "source": [
        "will not work!!"
      ]
    },
    {
      "cell_type": "code",
      "metadata": {
        "id": "r3FQfBH2t_ZS",
        "colab_type": "code",
        "colab": {
          "base_uri": "https://localhost:8080/",
          "height": 34
        },
        "outputId": "5a51ad61-e7c4-4f95-8d62-c7e91d5aed50"
      },
      "source": [
        "type(a)"
      ],
      "execution_count": 6,
      "outputs": [
        {
          "output_type": "execute_result",
          "data": {
            "text/plain": [
              "int"
            ]
          },
          "metadata": {
            "tags": []
          },
          "execution_count": 6
        }
      ]
    },
    {
      "cell_type": "markdown",
      "metadata": {
        "id": "dTEBAWyDuD68",
        "colab_type": "text"
      },
      "source": [
        "Instead, we have to use a comma:"
      ]
    },
    {
      "cell_type": "markdown",
      "metadata": {
        "id": "bPLdvJ7EuFi8",
        "colab_type": "text"
      },
      "source": [
        "And in fact, we don't even need the **()**:"
      ]
    },
    {
      "cell_type": "code",
      "metadata": {
        "id": "gdn4kSBiuCoD",
        "colab_type": "code",
        "colab": {}
      },
      "source": [
        "a = 1,"
      ],
      "execution_count": 0,
      "outputs": []
    },
    {
      "cell_type": "code",
      "metadata": {
        "id": "p2m9o7zuuHak",
        "colab_type": "code",
        "colab": {
          "base_uri": "https://localhost:8080/",
          "height": 34
        },
        "outputId": "f93db698-334b-469d-ffd6-e6c3811f69c2"
      },
      "source": [
        "type(a)"
      ],
      "execution_count": 8,
      "outputs": [
        {
          "output_type": "execute_result",
          "data": {
            "text/plain": [
              "tuple"
            ]
          },
          "metadata": {
            "tags": []
          },
          "execution_count": 8
        }
      ]
    },
    {
      "cell_type": "markdown",
      "metadata": {
        "id": "oxOVXomtuWKB",
        "colab_type": "text"
      },
      "source": [
        "The only exception is to create an empty tuple:"
      ]
    },
    {
      "cell_type": "code",
      "metadata": {
        "id": "uT_GV6oAuIhD",
        "colab_type": "code",
        "colab": {}
      },
      "source": [
        "a = ()"
      ],
      "execution_count": 0,
      "outputs": []
    },
    {
      "cell_type": "code",
      "metadata": {
        "id": "28DkZf27uZA5",
        "colab_type": "code",
        "colab": {
          "base_uri": "https://localhost:8080/",
          "height": 34
        },
        "outputId": "946c2086-f0cf-4471-b8fb-1ee80082ad33"
      },
      "source": [
        "type(a)"
      ],
      "execution_count": 10,
      "outputs": [
        {
          "output_type": "execute_result",
          "data": {
            "text/plain": [
              "tuple"
            ]
          },
          "metadata": {
            "tags": []
          },
          "execution_count": 10
        }
      ]
    },
    {
      "cell_type": "markdown",
      "metadata": {
        "id": "4mFrC4rUua3W",
        "colab_type": "text"
      },
      "source": [
        "Or we can use the tuple constructor:"
      ]
    },
    {
      "cell_type": "code",
      "metadata": {
        "id": "jWhkDNy0uZko",
        "colab_type": "code",
        "colab": {}
      },
      "source": [
        "a = tuple()"
      ],
      "execution_count": 0,
      "outputs": []
    },
    {
      "cell_type": "code",
      "metadata": {
        "id": "OFLv4jAhucgV",
        "colab_type": "code",
        "colab": {
          "base_uri": "https://localhost:8080/",
          "height": 34
        },
        "outputId": "20c4f04c-0180-45dc-b5e7-f0ead6d4db05"
      },
      "source": [
        "type(a)"
      ],
      "execution_count": 12,
      "outputs": [
        {
          "output_type": "execute_result",
          "data": {
            "text/plain": [
              "tuple"
            ]
          },
          "metadata": {
            "tags": []
          },
          "execution_count": 12
        }
      ]
    },
    {
      "cell_type": "markdown",
      "metadata": {
        "id": "jCYP816GueuQ",
        "colab_type": "text"
      },
      "source": [
        "### Unpacking"
      ]
    },
    {
      "cell_type": "markdown",
      "metadata": {
        "id": "yZTuxZmduh8a",
        "colab_type": "text"
      },
      "source": [
        "Unpacking is a way to split an iterable object into individual variables contained in a list or tuple: "
      ]
    },
    {
      "cell_type": "code",
      "metadata": {
        "id": "UbllHPyRudig",
        "colab_type": "code",
        "colab": {}
      },
      "source": [
        "l = [1, 2, 3, 4]"
      ],
      "execution_count": 0,
      "outputs": []
    },
    {
      "cell_type": "code",
      "metadata": {
        "id": "I2YcQX77uj08",
        "colab_type": "code",
        "colab": {}
      },
      "source": [
        "a, b, c, d = l"
      ],
      "execution_count": 0,
      "outputs": []
    },
    {
      "cell_type": "code",
      "metadata": {
        "id": "pt94WbLLulFF",
        "colab_type": "code",
        "colab": {
          "base_uri": "https://localhost:8080/",
          "height": 34
        },
        "outputId": "f379e69a-7e09-44e2-c7b8-ed696b434569"
      },
      "source": [
        "print(a, b, c, d)"
      ],
      "execution_count": 15,
      "outputs": [
        {
          "output_type": "stream",
          "text": [
            "1 2 3 4\n"
          ],
          "name": "stdout"
        }
      ]
    },
    {
      "cell_type": "markdown",
      "metadata": {
        "id": "Nx6aeJ0YupQk",
        "colab_type": "text"
      },
      "source": [
        "Strings are iterables too:"
      ]
    },
    {
      "cell_type": "code",
      "metadata": {
        "id": "scdG__UxumGy",
        "colab_type": "code",
        "colab": {
          "base_uri": "https://localhost:8080/",
          "height": 34
        },
        "outputId": "7b80a037-6e21-422d-9aad-a2fab7a5819a"
      },
      "source": [
        "a, b, c = 'XYZ'\n",
        "print(a, b, c)"
      ],
      "execution_count": 16,
      "outputs": [
        {
          "output_type": "stream",
          "text": [
            "X Y Z\n"
          ],
          "name": "stdout"
        }
      ]
    },
    {
      "cell_type": "markdown",
      "metadata": {
        "id": "XTQC0VXVusLp",
        "colab_type": "text"
      },
      "source": [
        "### Swapping Two Variables"
      ]
    },
    {
      "cell_type": "markdown",
      "metadata": {
        "id": "9dB7RjkZuvDb",
        "colab_type": "text"
      },
      "source": [
        "Here's a quick application of unpacking to swap the values of two variables.\n",
        "</br>\n",
        "</br>\n",
        "First we look at the \"traditional\" way you would have to do it in other languages such as Java:"
      ]
    },
    {
      "cell_type": "code",
      "metadata": {
        "id": "wSJnT-MRuq-b",
        "colab_type": "code",
        "colab": {
          "base_uri": "https://localhost:8080/",
          "height": 51
        },
        "outputId": "60ab2c06-078a-44a5-ce0f-fa9159b5ecdc"
      },
      "source": [
        "a = 10\n",
        "b = 20\n",
        "print(\"a={0}, b={1}\".format(a, b))\n",
        "\n",
        "tmp = a\n",
        "a = b\n",
        "b = tmp\n",
        "print(\"a={0}, b={1}\".format(a, b))"
      ],
      "execution_count": 17,
      "outputs": [
        {
          "output_type": "stream",
          "text": [
            "a=10, b=20\n",
            "a=20, b=10\n"
          ],
          "name": "stdout"
        }
      ]
    },
    {
      "cell_type": "markdown",
      "metadata": {
        "id": "bXNZxZ_nu1h-",
        "colab_type": "text"
      },
      "source": [
        "But using unpacking we can simplify this:"
      ]
    },
    {
      "cell_type": "code",
      "metadata": {
        "id": "M1Rxaz69u0VD",
        "colab_type": "code",
        "colab": {
          "base_uri": "https://localhost:8080/",
          "height": 51
        },
        "outputId": "84b507ee-5abb-487a-e98a-c4b67944fc21"
      },
      "source": [
        "a = 10\n",
        "b = 20\n",
        "print(\"a={0}, b={1}\".format(a, b))\n",
        "\n",
        "a, b = b, a\n",
        "print(\"a={0}, b={1}\".format(a, b))"
      ],
      "execution_count": 18,
      "outputs": [
        {
          "output_type": "stream",
          "text": [
            "a=10, b=20\n",
            "a=20, b=10\n"
          ],
          "name": "stdout"
        }
      ]
    },
    {
      "cell_type": "markdown",
      "metadata": {
        "id": "jIBRo58au4cd",
        "colab_type": "text"
      },
      "source": [
        "In fact, we can even simplify the initial assignment of values to a and b as follows:"
      ]
    },
    {
      "cell_type": "code",
      "metadata": {
        "id": "BafAniDzu3LH",
        "colab_type": "code",
        "colab": {
          "base_uri": "https://localhost:8080/",
          "height": 51
        },
        "outputId": "7f333702-19f9-4bd6-b870-6fc634a5a486"
      },
      "source": [
        "a, b = 10, 20\n",
        "print(\"a={0}, b={1}\".format(a, b))\n",
        "\n",
        "a, b = b, a\n",
        "print(\"a={0}, b={1}\".format(a, b))"
      ],
      "execution_count": 19,
      "outputs": [
        {
          "output_type": "stream",
          "text": [
            "a=10, b=20\n",
            "a=20, b=10\n"
          ],
          "name": "stdout"
        }
      ]
    },
    {
      "cell_type": "markdown",
      "metadata": {
        "id": "1FZ7Lu1qu7Zq",
        "colab_type": "text"
      },
      "source": [
        "### Unpacking Unordered Objects"
      ]
    },
    {
      "cell_type": "code",
      "metadata": {
        "id": "trkO8zF4u578",
        "colab_type": "code",
        "colab": {}
      },
      "source": [
        "dict1 = {'p': 1, 'y': 2, 't': 3, 'h': 4, 'o': 5, 'n': 6}"
      ],
      "execution_count": 0,
      "outputs": []
    },
    {
      "cell_type": "code",
      "metadata": {
        "id": "rxiN4puwu9z_",
        "colab_type": "code",
        "colab": {
          "base_uri": "https://localhost:8080/",
          "height": 34
        },
        "outputId": "1392a240-856c-4132-bf12-3e34ee6f8919"
      },
      "source": [
        "dict1"
      ],
      "execution_count": 21,
      "outputs": [
        {
          "output_type": "execute_result",
          "data": {
            "text/plain": [
              "{'h': 4, 'n': 6, 'o': 5, 'p': 1, 't': 3, 'y': 2}"
            ]
          },
          "metadata": {
            "tags": []
          },
          "execution_count": 21
        }
      ]
    },
    {
      "cell_type": "code",
      "metadata": {
        "id": "WWr3j_muu_Bz",
        "colab_type": "code",
        "colab": {
          "base_uri": "https://localhost:8080/",
          "height": 119
        },
        "outputId": "626ba5a7-e4aa-48ba-8b33-e7580aa03ead"
      },
      "source": [
        "for c in dict1:\n",
        "    print(c)"
      ],
      "execution_count": 22,
      "outputs": [
        {
          "output_type": "stream",
          "text": [
            "p\n",
            "y\n",
            "t\n",
            "h\n",
            "o\n",
            "n\n"
          ],
          "name": "stdout"
        }
      ]
    },
    {
      "cell_type": "code",
      "metadata": {
        "id": "ZdEU7-JdvAdx",
        "colab_type": "code",
        "colab": {
          "base_uri": "https://localhost:8080/",
          "height": 119
        },
        "outputId": "87cba44f-64b0-4c19-ec59-686ca34e5a92"
      },
      "source": [
        "a, b, c, d, e, f = dict1\n",
        "print(a)\n",
        "print(b)\n",
        "print(c)\n",
        "print(d)\n",
        "print(e)\n",
        "print(f)"
      ],
      "execution_count": 23,
      "outputs": [
        {
          "output_type": "stream",
          "text": [
            "p\n",
            "y\n",
            "t\n",
            "h\n",
            "o\n",
            "n\n"
          ],
          "name": "stdout"
        }
      ]
    },
    {
      "cell_type": "markdown",
      "metadata": {
        "id": "h9T73sU8vFS7",
        "colab_type": "text"
      },
      "source": [
        "Note that this order is not guaranteed. You can always use an OrderedDict if that is a requirement.\n",
        "</br>\n",
        "</br>\n",
        "The same applies to sets."
      ]
    },
    {
      "cell_type": "code",
      "metadata": {
        "id": "BBkNUMCBvEBl",
        "colab_type": "code",
        "colab": {}
      },
      "source": [
        "s = {'p', 'y', 't', 'h', 'o', 'n'}"
      ],
      "execution_count": 0,
      "outputs": []
    },
    {
      "cell_type": "code",
      "metadata": {
        "id": "Elfrt7c4vKjG",
        "colab_type": "code",
        "colab": {
          "base_uri": "https://localhost:8080/",
          "height": 34
        },
        "outputId": "13425623-e9ea-4e87-aa3f-e6d9ff797729"
      },
      "source": [
        "type(s)"
      ],
      "execution_count": 31,
      "outputs": [
        {
          "output_type": "execute_result",
          "data": {
            "text/plain": [
              "set"
            ]
          },
          "metadata": {
            "tags": []
          },
          "execution_count": 31
        }
      ]
    },
    {
      "cell_type": "code",
      "metadata": {
        "id": "unvCgDZ2vL4r",
        "colab_type": "code",
        "colab": {
          "base_uri": "https://localhost:8080/",
          "height": 34
        },
        "outputId": "24b64f5d-05b3-4186-f8e9-ffe0e967d57a"
      },
      "source": [
        "print(s)"
      ],
      "execution_count": 32,
      "outputs": [
        {
          "output_type": "stream",
          "text": [
            "{'h', 'o', 'y', 'p', 'n', 't'}\n"
          ],
          "name": "stdout"
        }
      ]
    },
    {
      "cell_type": "code",
      "metadata": {
        "id": "eS6LnC1AvNIv",
        "colab_type": "code",
        "colab": {
          "base_uri": "https://localhost:8080/",
          "height": 119
        },
        "outputId": "f050a636-60e1-4545-c194-70ec7f5244c9"
      },
      "source": [
        "for c in s:\n",
        "    print(c)"
      ],
      "execution_count": 33,
      "outputs": [
        {
          "output_type": "stream",
          "text": [
            "h\n",
            "o\n",
            "y\n",
            "p\n",
            "n\n",
            "t\n"
          ],
          "name": "stdout"
        }
      ]
    },
    {
      "cell_type": "code",
      "metadata": {
        "id": "DQIqCOO3vObr",
        "colab_type": "code",
        "colab": {}
      },
      "source": [
        "a, b, c, d, e, f = s"
      ],
      "execution_count": 0,
      "outputs": []
    },
    {
      "cell_type": "code",
      "metadata": {
        "id": "2IsQitqjvTo0",
        "colab_type": "code",
        "colab": {
          "base_uri": "https://localhost:8080/",
          "height": 119
        },
        "outputId": "b52090d7-541a-484e-9064-4778ed019d4c"
      },
      "source": [
        "print(a)\n",
        "print(b)\n",
        "print(c)\n",
        "print(d)\n",
        "print(e)\n",
        "print(f)"
      ],
      "execution_count": 29,
      "outputs": [
        {
          "output_type": "stream",
          "text": [
            "h\n",
            "o\n",
            "y\n",
            "p\n",
            "n\n",
            "t\n"
          ],
          "name": "stdout"
        }
      ]
    },
    {
      "cell_type": "code",
      "metadata": {
        "id": "q0N4rWtnvUxM",
        "colab_type": "code",
        "colab": {}
      },
      "source": [
        ""
      ],
      "execution_count": 0,
      "outputs": []
    }
  ]
}