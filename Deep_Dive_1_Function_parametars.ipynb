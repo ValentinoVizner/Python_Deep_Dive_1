{
  "nbformat": 4,
  "nbformat_minor": 0,
  "metadata": {
    "colab": {
      "name": "Deep_Dive_1_Function_parametars.ipynb",
      "provenance": [],
      "authorship_tag": "ABX9TyMZwhLmq9an3HoWpDs/i2Qc",
      "include_colab_link": true
    },
    "kernelspec": {
      "name": "python3",
      "display_name": "Python 3"
    },
    "accelerator": "TPU"
  },
  "cells": [
    {
      "cell_type": "markdown",
      "metadata": {
        "id": "view-in-github",
        "colab_type": "text"
      },
      "source": [
        "<a href=\"https://colab.research.google.com/github/ValentinoVizner/Python_Deep_Dive_1/blob/master/Deep_Dive_1_Function_parametars.ipynb\" target=\"_parent\"><img src=\"https://colab.research.google.com/assets/colab-badge.svg\" alt=\"Open In Colab\"/></a>"
      ]
    },
    {
      "cell_type": "markdown",
      "metadata": {
        "id": "xBKaQo9wRbM1",
        "colab_type": "text"
      },
      "source": [
        "![alt text](https://drive.google.com/uc?id=1RktVu4GrxabjIrG9nWrKUGeIsrDnN4yd)"
      ]
    },
    {
      "cell_type": "markdown",
      "metadata": {
        "id": "kuk5BcN5Rqfn",
        "colab_type": "text"
      },
      "source": [
        "# 1.Argument vs Parameter"
      ]
    },
    {
      "cell_type": "markdown",
      "metadata": {
        "id": "AgQ4I30qRwZu",
        "colab_type": "text"
      },
      "source": [
        "![alt text](https://drive.google.com/uc?id=1NRveo14B4MwIZcY4UoEPgJql9ChIwzD1)"
      ]
    },
    {
      "cell_type": "markdown",
      "metadata": {
        "id": "NfSSFHP_SGgh",
        "colab_type": "text"
      },
      "source": [
        "![alt text](https://drive.google.com/uc?id=1ZYxTcrUlfAcg2fownZCZAA4KsDHB8Zzf)"
      ]
    },
    {
      "cell_type": "markdown",
      "metadata": {
        "id": "95zaBJffcHfN",
        "colab_type": "text"
      },
      "source": [
        "# 2.POSITIONAL and KEYWORD arguments"
      ]
    },
    {
      "cell_type": "markdown",
      "metadata": {
        "id": "2PscHSfMcTL_",
        "colab_type": "text"
      },
      "source": [
        "![alt text](https://drive.google.com/uc?id=1rUpU4LL_m9G6yv9gD19jwLoliMmWWUL8)"
      ]
    },
    {
      "cell_type": "markdown",
      "metadata": {
        "id": "IswwLyH-cTPe",
        "colab_type": "text"
      },
      "source": [
        "![alt text](https://drive.google.com/uc?id=1aPsOA2RyaDxwdZNZ86PvTbaZq6Satx_I)"
      ]
    },
    {
      "cell_type": "markdown",
      "metadata": {
        "id": "uLNpoOggcTS1",
        "colab_type": "text"
      },
      "source": [
        "![alt text](https://drive.google.com/uc?id=1ec8w9hzR4paeTlUZz-iaqmtF-Widn0xg)"
      ]
    },
    {
      "cell_type": "markdown",
      "metadata": {
        "id": "K8ryUVl5co8d",
        "colab_type": "text"
      },
      "source": [
        "![alt text](https://drive.google.com/uc?id=18J9C5mIyMw4hZhwmyTrYL2i9MhToW6AJ)"
      ]
    },
    {
      "cell_type": "markdown",
      "metadata": {
        "id": "skCSnS-qcTWN",
        "colab_type": "text"
      },
      "source": [
        "![alt text](https://drive.google.com/uc?id=13bn99cvosh7pq4MZgV5voh5dDL40ur9T)"
      ]
    },
    {
      "cell_type": "markdown",
      "metadata": {
        "id": "yrsXP4n79q3V",
        "colab_type": "text"
      },
      "source": [
        "## Coding time"
      ]
    },
    {
      "cell_type": "markdown",
      "metadata": {
        "id": "8F34ddHT9uf0",
        "colab_type": "text"
      },
      "source": [
        "### Positional Arguments"
      ]
    },
    {
      "cell_type": "code",
      "metadata": {
        "id": "SIrhs0dmRDze",
        "colab_type": "code",
        "colab": {}
      },
      "source": [
        "def my_func(a, b, c):\n",
        "    print(f\"a={a}, b={b}, c={c}\")"
      ],
      "execution_count": 0,
      "outputs": []
    },
    {
      "cell_type": "code",
      "metadata": {
        "id": "GGjQi54E9yON",
        "colab_type": "code",
        "outputId": "f8f75427-90a4-4cb0-c5b1-85e984709f7c",
        "colab": {
          "base_uri": "https://localhost:8080/",
          "height": 34
        }
      },
      "source": [
        "my_func(1, 2, 3)"
      ],
      "execution_count": 0,
      "outputs": [
        {
          "output_type": "stream",
          "text": [
            "a=1, b=2, c=3\n"
          ],
          "name": "stdout"
        }
      ]
    },
    {
      "cell_type": "markdown",
      "metadata": {
        "id": "jgPj1gEH91-Z",
        "colab_type": "text"
      },
      "source": [
        "#### Default Values"
      ]
    },
    {
      "cell_type": "code",
      "metadata": {
        "id": "rvZnpSIN9z0c",
        "colab_type": "code",
        "colab": {}
      },
      "source": [
        "def my_func(a, b=2, c=3):\n",
        "    print(f\"a={a}, b={b}, c={c}\")"
      ],
      "execution_count": 0,
      "outputs": []
    },
    {
      "cell_type": "markdown",
      "metadata": {
        "id": "XHCMzi9_95xR",
        "colab_type": "text"
      },
      "source": [
        "Note that once a parameter is assigned a default value, **all** parameters thereafter **must** be asigned a default value too!\n",
        "</br>\n",
        "For example, this will not work:"
      ]
    },
    {
      "cell_type": "code",
      "metadata": {
        "id": "_AFrAe6794lB",
        "colab_type": "code",
        "outputId": "ed86e88b-60fd-4422-94ce-82372cfd4218",
        "colab": {
          "base_uri": "https://localhost:8080/",
          "height": 129
        }
      },
      "source": [
        "def fn(a, b=2, c):\n",
        "    print(a, b, c)"
      ],
      "execution_count": 0,
      "outputs": [
        {
          "output_type": "error",
          "ename": "SyntaxError",
          "evalue": "ignored",
          "traceback": [
            "\u001b[0;36m  File \u001b[0;32m\"<ipython-input-21-535e50422129>\"\u001b[0;36m, line \u001b[0;32m1\u001b[0m\n\u001b[0;31m    def fn(a, b=2, c):\u001b[0m\n\u001b[0m          ^\u001b[0m\n\u001b[0;31mSyntaxError\u001b[0m\u001b[0;31m:\u001b[0m non-default argument follows default argument\n"
          ]
        }
      ]
    },
    {
      "cell_type": "code",
      "metadata": {
        "id": "lhCVxN7h-AtY",
        "colab_type": "code",
        "colab": {}
      },
      "source": [
        "def my_func(a, b=2, c=3)\n",
        "    print(f\"a={a}, b={b}, c={c}\")"
      ],
      "execution_count": 0,
      "outputs": []
    },
    {
      "cell_type": "code",
      "metadata": {
        "id": "fwdJMSDZ-BHk",
        "colab_type": "code",
        "outputId": "c719f93a-448a-448e-c477-d3e234f6883a",
        "colab": {
          "base_uri": "https://localhost:8080/",
          "height": 34
        }
      },
      "source": [
        "my_func(10, 20, 30)"
      ],
      "execution_count": 0,
      "outputs": [
        {
          "output_type": "stream",
          "text": [
            "a=10, b=20, c=30\n"
          ],
          "name": "stdout"
        }
      ]
    },
    {
      "cell_type": "code",
      "metadata": {
        "id": "9iKevbbR-Guq",
        "colab_type": "code",
        "outputId": "ba401350-915a-4070-cbd0-5e2eb07fa5b4",
        "colab": {
          "base_uri": "https://localhost:8080/",
          "height": 34
        }
      },
      "source": [
        "my_func(10, 20)"
      ],
      "execution_count": 0,
      "outputs": [
        {
          "output_type": "stream",
          "text": [
            "a=10, b=20, c=3\n"
          ],
          "name": "stdout"
        }
      ]
    },
    {
      "cell_type": "code",
      "metadata": {
        "id": "WzGEg6A4-Ibv",
        "colab_type": "code",
        "outputId": "6ea49d53-fdfb-4895-fb1c-4b5b81a2eff2",
        "colab": {
          "base_uri": "https://localhost:8080/",
          "height": 34
        }
      },
      "source": [
        "my_func(10)"
      ],
      "execution_count": 0,
      "outputs": [
        {
          "output_type": "stream",
          "text": [
            "a=10, b=2, c=3\n"
          ],
          "name": "stdout"
        }
      ]
    },
    {
      "cell_type": "markdown",
      "metadata": {
        "id": "bpHOPtiM-MVp",
        "colab_type": "text"
      },
      "source": [
        "Since **a** does not have a default value, it **must** be specified:"
      ]
    },
    {
      "cell_type": "code",
      "metadata": {
        "id": "BtxpybLzAAWH",
        "colab_type": "code",
        "colab": {}
      },
      "source": [
        "def my_func(a=1, b=2, c=3):\n",
        "    print(f\"a={a}, b={b}, c={c}\")"
      ],
      "execution_count": 0,
      "outputs": []
    },
    {
      "cell_type": "code",
      "metadata": {
        "id": "P90H2SUH-Kah",
        "colab_type": "code",
        "outputId": "34ee8ca1-977d-4ae3-f56f-f820e912bb09",
        "colab": {
          "base_uri": "https://localhost:8080/",
          "height": 34
        }
      },
      "source": [
        "my_func()"
      ],
      "execution_count": 0,
      "outputs": [
        {
          "output_type": "stream",
          "text": [
            "a=1, b=2, c=3\n"
          ],
          "name": "stdout"
        }
      ]
    },
    {
      "cell_type": "markdown",
      "metadata": {
        "id": "Twoa8rzQ-QaM",
        "colab_type": "text"
      },
      "source": [
        "#### Keyword Arguments (named arguments)"
      ]
    },
    {
      "cell_type": "markdown",
      "metadata": {
        "id": "aT_WQ-SB-S7h",
        "colab_type": "text"
      },
      "source": [
        "Positional arguments, can **optionally**, be specified using their corresponding parameter name.\n",
        "\n",
        "This allows us to pass the arguments without using the positional assignment:"
      ]
    },
    {
      "cell_type": "code",
      "metadata": {
        "id": "PJqhCu1_-OXk",
        "colab_type": "code",
        "colab": {}
      },
      "source": [
        "def my_func(a, b=2, c=3):\n",
        "    print(f\"a={a}, b={b}, c={c}\")"
      ],
      "execution_count": 0,
      "outputs": []
    },
    {
      "cell_type": "code",
      "metadata": {
        "id": "wJ1mAzif-Ubg",
        "colab_type": "code",
        "outputId": "06c78dfa-18fd-4438-f8cf-adc8570f757b",
        "colab": {
          "base_uri": "https://localhost:8080/",
          "height": 34
        }
      },
      "source": [
        "my_func(c=30, b=20, a=10)"
      ],
      "execution_count": 0,
      "outputs": [
        {
          "output_type": "stream",
          "text": [
            "a=10, b=20, c=30\n"
          ],
          "name": "stdout"
        }
      ]
    },
    {
      "cell_type": "code",
      "metadata": {
        "id": "32z6uB8i-Vd0",
        "colab_type": "code",
        "outputId": "93a62a52-33f1-4793-bc22-082dcdbcd6d5",
        "colab": {
          "base_uri": "https://localhost:8080/",
          "height": 34
        }
      },
      "source": [
        "my_func(10, c=30, b=20)"
      ],
      "execution_count": 0,
      "outputs": [
        {
          "output_type": "stream",
          "text": [
            "a=10, b=20, c=30\n"
          ],
          "name": "stdout"
        }
      ]
    },
    {
      "cell_type": "markdown",
      "metadata": {
        "id": "u7iAemI7-YlV",
        "colab_type": "text"
      },
      "source": [
        "Note that once a keyword argument has been used, **all** arguments thereafter **must** also be named:"
      ]
    },
    {
      "cell_type": "code",
      "metadata": {
        "id": "Xd56LPGs-WvO",
        "colab_type": "code",
        "outputId": "40f02fc6-c9c5-40bd-ace8-528f689c85fa",
        "colab": {
          "base_uri": "https://localhost:8080/",
          "height": 129
        }
      },
      "source": [
        "my_func(10, b=20, 30)"
      ],
      "execution_count": 0,
      "outputs": [
        {
          "output_type": "error",
          "ename": "SyntaxError",
          "evalue": "ignored",
          "traceback": [
            "\u001b[0;36m  File \u001b[0;32m\"<ipython-input-38-a114ab951de8>\"\u001b[0;36m, line \u001b[0;32m1\u001b[0m\n\u001b[0;31m    my_func(10, b=20, 30)\u001b[0m\n\u001b[0m                     ^\u001b[0m\n\u001b[0;31mSyntaxError\u001b[0m\u001b[0;31m:\u001b[0m positional argument follows keyword argument\n"
          ]
        }
      ]
    },
    {
      "cell_type": "markdown",
      "metadata": {
        "id": "Ykm3Hv7e-b8g",
        "colab_type": "text"
      },
      "source": [
        "However, if a parameter has a default value, it *can* be omitted from the argument list, named or not:"
      ]
    },
    {
      "cell_type": "code",
      "metadata": {
        "id": "ngEg0rF3-acv",
        "colab_type": "code",
        "outputId": "07777583-d46e-414c-9df3-06e5163d4ec2",
        "colab": {
          "base_uri": "https://localhost:8080/",
          "height": 34
        }
      },
      "source": [
        "my_func(10, c=30)"
      ],
      "execution_count": 0,
      "outputs": [
        {
          "output_type": "stream",
          "text": [
            "a=10, b=2, c=30\n"
          ],
          "name": "stdout"
        }
      ]
    },
    {
      "cell_type": "code",
      "metadata": {
        "id": "PD816hCQ-dkc",
        "colab_type": "code",
        "outputId": "34e746b8-9b52-48f8-8a79-bc596d9dda15",
        "colab": {
          "base_uri": "https://localhost:8080/",
          "height": 34
        }
      },
      "source": [
        "my_func(a=30, c=10)"
      ],
      "execution_count": 0,
      "outputs": [
        {
          "output_type": "stream",
          "text": [
            "a=30, b=2, c=10\n"
          ],
          "name": "stdout"
        }
      ]
    },
    {
      "cell_type": "code",
      "metadata": {
        "id": "WLVX6Vwg-ejx",
        "colab_type": "code",
        "outputId": "f383e113-70e7-4ec9-86bc-9b03c04a5cb0",
        "colab": {
          "base_uri": "https://localhost:8080/",
          "height": 34
        }
      },
      "source": [
        "my_func(c=10, a=30)"
      ],
      "execution_count": 0,
      "outputs": [
        {
          "output_type": "stream",
          "text": [
            "a=30, b=2, c=10\n"
          ],
          "name": "stdout"
        }
      ]
    },
    {
      "cell_type": "markdown",
      "metadata": {
        "id": "1yN3we7OCDV_",
        "colab_type": "text"
      },
      "source": [
        "# 3.UNPACKING: Iterables"
      ]
    },
    {
      "cell_type": "markdown",
      "metadata": {
        "id": "9JwX6AL8CDlE",
        "colab_type": "text"
      },
      "source": [
        "![alt text](https://drive.google.com/uc?id=1QnoOoq52Hmt8QKNfheVe0otIjQSx5wu1)"
      ]
    },
    {
      "cell_type": "markdown",
      "metadata": {
        "id": "sN2MNg7pCDrt",
        "colab_type": "text"
      },
      "source": [
        "![alt text](https://drive.google.com/uc?id=1vfUCx-aASJBl2f4q-cO9EFLGTUgvr7uH)"
      ]
    },
    {
      "cell_type": "markdown",
      "metadata": {
        "id": "sP44Xx1ECDyn",
        "colab_type": "text"
      },
      "source": [
        "![alt text](https://drive.google.com/uc?id=1cE7IcJZ8PGiefZy9uMDRC1WDz0KO6HEK)"
      ]
    },
    {
      "cell_type": "markdown",
      "metadata": {
        "id": "Htex0IkWCD6A",
        "colab_type": "text"
      },
      "source": [
        "![alt text](https://drive.google.com/uc?id=1eDahnGGOvCEJA89eqlw7pt70Awd-O-Um)"
      ]
    },
    {
      "cell_type": "markdown",
      "metadata": {
        "id": "NKTwNkPKCEBT",
        "colab_type": "text"
      },
      "source": [
        "![alt text](https://drive.google.com/uc?id=10GICEPgBZDs9-cyp-GMwif4dT6uPJvfW)"
      ]
    },
    {
      "cell_type": "markdown",
      "metadata": {
        "id": "cGjr0sBKCEKa",
        "colab_type": "text"
      },
      "source": [
        "![alt text](https://drive.google.com/uc?id=1LR0pmueadPXr7RpJ4CCnRA6vgu-TuWF0)"
      ]
    },
    {
      "cell_type": "markdown",
      "metadata": {
        "id": "MjcVGyAiCEyc",
        "colab_type": "text"
      },
      "source": [
        "![alt text](https://drive.google.com/uc?id=14AiuDje8wdznyTY_XtL4AiecdZd-x_Qe)"
      ]
    },
    {
      "cell_type": "markdown",
      "metadata": {
        "id": "Q0dIuPXsq-NM",
        "colab_type": "text"
      },
      "source": [
        "## Coding Time"
      ]
    },
    {
      "cell_type": "markdown",
      "metadata": {
        "id": "Omn7KQIxtSq-",
        "colab_type": "text"
      },
      "source": [
        "### Side Note on Tuples"
      ]
    },
    {
      "cell_type": "markdown",
      "metadata": {
        "id": "-pacYLfetwxp",
        "colab_type": "text"
      },
      "source": [
        "This is a tuple:"
      ]
    },
    {
      "cell_type": "code",
      "metadata": {
        "id": "yk2VYuZ_-fjm",
        "colab_type": "code",
        "colab": {}
      },
      "source": [
        "a = (1, 2, 3)"
      ],
      "execution_count": 0,
      "outputs": []
    },
    {
      "cell_type": "code",
      "metadata": {
        "id": "-0OpLKiZtyiv",
        "colab_type": "code",
        "colab": {
          "base_uri": "https://localhost:8080/",
          "height": 34
        },
        "outputId": "f7210c1d-f150-43aa-9475-9ad755cf2c9e"
      },
      "source": [
        "type(a)"
      ],
      "execution_count": 2,
      "outputs": [
        {
          "output_type": "execute_result",
          "data": {
            "text/plain": [
              "tuple"
            ]
          },
          "metadata": {
            "tags": []
          },
          "execution_count": 2
        }
      ]
    },
    {
      "cell_type": "markdown",
      "metadata": {
        "id": "evQQ6TJ8t3T0",
        "colab_type": "text"
      },
      "source": [
        "This is also a tuple:"
      ]
    },
    {
      "cell_type": "code",
      "metadata": {
        "id": "Te1g_cp0t1c8",
        "colab_type": "code",
        "colab": {}
      },
      "source": [
        "a = 1, 2, 3"
      ],
      "execution_count": 0,
      "outputs": []
    },
    {
      "cell_type": "code",
      "metadata": {
        "id": "K5Pxfq1ot5Rj",
        "colab_type": "code",
        "colab": {
          "base_uri": "https://localhost:8080/",
          "height": 34
        },
        "outputId": "491d5fd6-4669-4909-dd0f-2fcde3d56916"
      },
      "source": [
        "type(a)"
      ],
      "execution_count": 4,
      "outputs": [
        {
          "output_type": "execute_result",
          "data": {
            "text/plain": [
              "tuple"
            ]
          },
          "metadata": {
            "tags": []
          },
          "execution_count": 4
        }
      ]
    },
    {
      "cell_type": "markdown",
      "metadata": {
        "id": "L60Ilu-Ft8Db",
        "colab_type": "text"
      },
      "source": [
        "In fact what defines a tuple is not **()**, but the **,** (comma)"
      ]
    },
    {
      "cell_type": "markdown",
      "metadata": {
        "id": "jNHczVo6t9nO",
        "colab_type": "text"
      },
      "source": [
        "To create a tuple with a single element:"
      ]
    },
    {
      "cell_type": "code",
      "metadata": {
        "id": "BUGwmpN9t6bz",
        "colab_type": "code",
        "colab": {}
      },
      "source": [
        "a = (1)"
      ],
      "execution_count": 0,
      "outputs": []
    },
    {
      "cell_type": "markdown",
      "metadata": {
        "id": "C_y9EyafuA9g",
        "colab_type": "text"
      },
      "source": [
        "will not work!!"
      ]
    },
    {
      "cell_type": "code",
      "metadata": {
        "id": "r3FQfBH2t_ZS",
        "colab_type": "code",
        "colab": {
          "base_uri": "https://localhost:8080/",
          "height": 34
        },
        "outputId": "5a51ad61-e7c4-4f95-8d62-c7e91d5aed50"
      },
      "source": [
        "type(a)"
      ],
      "execution_count": 6,
      "outputs": [
        {
          "output_type": "execute_result",
          "data": {
            "text/plain": [
              "int"
            ]
          },
          "metadata": {
            "tags": []
          },
          "execution_count": 6
        }
      ]
    },
    {
      "cell_type": "markdown",
      "metadata": {
        "id": "dTEBAWyDuD68",
        "colab_type": "text"
      },
      "source": [
        "Instead, we have to use a comma:"
      ]
    },
    {
      "cell_type": "markdown",
      "metadata": {
        "id": "bPLdvJ7EuFi8",
        "colab_type": "text"
      },
      "source": [
        "And in fact, we don't even need the **()**:"
      ]
    },
    {
      "cell_type": "code",
      "metadata": {
        "id": "gdn4kSBiuCoD",
        "colab_type": "code",
        "colab": {}
      },
      "source": [
        "a = 1,"
      ],
      "execution_count": 0,
      "outputs": []
    },
    {
      "cell_type": "code",
      "metadata": {
        "id": "p2m9o7zuuHak",
        "colab_type": "code",
        "colab": {
          "base_uri": "https://localhost:8080/",
          "height": 34
        },
        "outputId": "f93db698-334b-469d-ffd6-e6c3811f69c2"
      },
      "source": [
        "type(a)"
      ],
      "execution_count": 8,
      "outputs": [
        {
          "output_type": "execute_result",
          "data": {
            "text/plain": [
              "tuple"
            ]
          },
          "metadata": {
            "tags": []
          },
          "execution_count": 8
        }
      ]
    },
    {
      "cell_type": "markdown",
      "metadata": {
        "id": "oxOVXomtuWKB",
        "colab_type": "text"
      },
      "source": [
        "The only exception is to create an empty tuple:"
      ]
    },
    {
      "cell_type": "code",
      "metadata": {
        "id": "uT_GV6oAuIhD",
        "colab_type": "code",
        "colab": {}
      },
      "source": [
        "a = ()"
      ],
      "execution_count": 0,
      "outputs": []
    },
    {
      "cell_type": "code",
      "metadata": {
        "id": "28DkZf27uZA5",
        "colab_type": "code",
        "colab": {
          "base_uri": "https://localhost:8080/",
          "height": 34
        },
        "outputId": "946c2086-f0cf-4471-b8fb-1ee80082ad33"
      },
      "source": [
        "type(a)"
      ],
      "execution_count": 10,
      "outputs": [
        {
          "output_type": "execute_result",
          "data": {
            "text/plain": [
              "tuple"
            ]
          },
          "metadata": {
            "tags": []
          },
          "execution_count": 10
        }
      ]
    },
    {
      "cell_type": "markdown",
      "metadata": {
        "id": "4mFrC4rUua3W",
        "colab_type": "text"
      },
      "source": [
        "Or we can use the tuple constructor:"
      ]
    },
    {
      "cell_type": "code",
      "metadata": {
        "id": "jWhkDNy0uZko",
        "colab_type": "code",
        "colab": {}
      },
      "source": [
        "a = tuple()"
      ],
      "execution_count": 0,
      "outputs": []
    },
    {
      "cell_type": "code",
      "metadata": {
        "id": "OFLv4jAhucgV",
        "colab_type": "code",
        "colab": {
          "base_uri": "https://localhost:8080/",
          "height": 34
        },
        "outputId": "20c4f04c-0180-45dc-b5e7-f0ead6d4db05"
      },
      "source": [
        "type(a)"
      ],
      "execution_count": 12,
      "outputs": [
        {
          "output_type": "execute_result",
          "data": {
            "text/plain": [
              "tuple"
            ]
          },
          "metadata": {
            "tags": []
          },
          "execution_count": 12
        }
      ]
    },
    {
      "cell_type": "markdown",
      "metadata": {
        "id": "jCYP816GueuQ",
        "colab_type": "text"
      },
      "source": [
        "### Unpacking"
      ]
    },
    {
      "cell_type": "markdown",
      "metadata": {
        "id": "yZTuxZmduh8a",
        "colab_type": "text"
      },
      "source": [
        "Unpacking is a way to split an iterable object into individual variables contained in a list or tuple: "
      ]
    },
    {
      "cell_type": "code",
      "metadata": {
        "id": "UbllHPyRudig",
        "colab_type": "code",
        "colab": {}
      },
      "source": [
        "l = [1, 2, 3, 4]"
      ],
      "execution_count": 0,
      "outputs": []
    },
    {
      "cell_type": "code",
      "metadata": {
        "id": "I2YcQX77uj08",
        "colab_type": "code",
        "colab": {}
      },
      "source": [
        "a, b, c, d = l"
      ],
      "execution_count": 0,
      "outputs": []
    },
    {
      "cell_type": "code",
      "metadata": {
        "id": "pt94WbLLulFF",
        "colab_type": "code",
        "colab": {
          "base_uri": "https://localhost:8080/",
          "height": 34
        },
        "outputId": "f379e69a-7e09-44e2-c7b8-ed696b434569"
      },
      "source": [
        "print(a, b, c, d)"
      ],
      "execution_count": 15,
      "outputs": [
        {
          "output_type": "stream",
          "text": [
            "1 2 3 4\n"
          ],
          "name": "stdout"
        }
      ]
    },
    {
      "cell_type": "markdown",
      "metadata": {
        "id": "Nx6aeJ0YupQk",
        "colab_type": "text"
      },
      "source": [
        "Strings are iterables too:"
      ]
    },
    {
      "cell_type": "code",
      "metadata": {
        "id": "scdG__UxumGy",
        "colab_type": "code",
        "colab": {
          "base_uri": "https://localhost:8080/",
          "height": 34
        },
        "outputId": "7b80a037-6e21-422d-9aad-a2fab7a5819a"
      },
      "source": [
        "a, b, c = 'XYZ'\n",
        "print(a, b, c)"
      ],
      "execution_count": 16,
      "outputs": [
        {
          "output_type": "stream",
          "text": [
            "X Y Z\n"
          ],
          "name": "stdout"
        }
      ]
    },
    {
      "cell_type": "markdown",
      "metadata": {
        "id": "XTQC0VXVusLp",
        "colab_type": "text"
      },
      "source": [
        "### Swapping Two Variables"
      ]
    },
    {
      "cell_type": "markdown",
      "metadata": {
        "id": "9dB7RjkZuvDb",
        "colab_type": "text"
      },
      "source": [
        "Here's a quick application of unpacking to swap the values of two variables.\n",
        "</br>\n",
        "</br>\n",
        "First we look at the \"traditional\" way you would have to do it in other languages such as Java:"
      ]
    },
    {
      "cell_type": "code",
      "metadata": {
        "id": "wSJnT-MRuq-b",
        "colab_type": "code",
        "colab": {
          "base_uri": "https://localhost:8080/",
          "height": 51
        },
        "outputId": "60ab2c06-078a-44a5-ce0f-fa9159b5ecdc"
      },
      "source": [
        "a = 10\n",
        "b = 20\n",
        "print(\"a={0}, b={1}\".format(a, b))\n",
        "\n",
        "tmp = a\n",
        "a = b\n",
        "b = tmp\n",
        "print(\"a={0}, b={1}\".format(a, b))"
      ],
      "execution_count": 17,
      "outputs": [
        {
          "output_type": "stream",
          "text": [
            "a=10, b=20\n",
            "a=20, b=10\n"
          ],
          "name": "stdout"
        }
      ]
    },
    {
      "cell_type": "markdown",
      "metadata": {
        "id": "bXNZxZ_nu1h-",
        "colab_type": "text"
      },
      "source": [
        "But using unpacking we can simplify this:"
      ]
    },
    {
      "cell_type": "code",
      "metadata": {
        "id": "M1Rxaz69u0VD",
        "colab_type": "code",
        "colab": {
          "base_uri": "https://localhost:8080/",
          "height": 51
        },
        "outputId": "84b507ee-5abb-487a-e98a-c4b67944fc21"
      },
      "source": [
        "a = 10\n",
        "b = 20\n",
        "print(\"a={0}, b={1}\".format(a, b))\n",
        "\n",
        "a, b = b, a\n",
        "print(\"a={0}, b={1}\".format(a, b))"
      ],
      "execution_count": 18,
      "outputs": [
        {
          "output_type": "stream",
          "text": [
            "a=10, b=20\n",
            "a=20, b=10\n"
          ],
          "name": "stdout"
        }
      ]
    },
    {
      "cell_type": "markdown",
      "metadata": {
        "id": "jIBRo58au4cd",
        "colab_type": "text"
      },
      "source": [
        "In fact, we can even simplify the initial assignment of values to a and b as follows:"
      ]
    },
    {
      "cell_type": "code",
      "metadata": {
        "id": "BafAniDzu3LH",
        "colab_type": "code",
        "colab": {
          "base_uri": "https://localhost:8080/",
          "height": 51
        },
        "outputId": "7f333702-19f9-4bd6-b870-6fc634a5a486"
      },
      "source": [
        "# Python will fistly evaluate RHS and memory\n",
        "# It's going to create tuple object that will contain references to 10 and 20 and then it assigns\n",
        "a, b = 10, 20\n",
        "print(\"a={0}, b={1}\".format(a, b))\n",
        "\n",
        "a, b = b, a\n",
        "print(\"a={0}, b={1}\".format(a, b))"
      ],
      "execution_count": 19,
      "outputs": [
        {
          "output_type": "stream",
          "text": [
            "a=10, b=20\n",
            "a=20, b=10\n"
          ],
          "name": "stdout"
        }
      ]
    },
    {
      "cell_type": "markdown",
      "metadata": {
        "id": "bEW-wTEw1UFF",
        "colab_type": "text"
      },
      "source": [
        "It's not really readable, but it can be handy:"
      ]
    },
    {
      "cell_type": "code",
      "metadata": {
        "id": "G4Xz6Hef1IAr",
        "colab_type": "code",
        "colab": {
          "base_uri": "https://localhost:8080/",
          "height": 68
        },
        "outputId": "c27bfbed-9b30-4b86-f44e-9ddd69f4e6fc"
      },
      "source": [
        "a, b, c = 1, (1,2), [3, 4, 5]\n",
        "print(a)\n",
        "print(b)\n",
        "print(c)"
      ],
      "execution_count": 34,
      "outputs": [
        {
          "output_type": "stream",
          "text": [
            "1\n",
            "(1, 2)\n",
            "[3, 4, 5]\n"
          ],
          "name": "stdout"
        }
      ]
    },
    {
      "cell_type": "markdown",
      "metadata": {
        "id": "1FZ7Lu1qu7Zq",
        "colab_type": "text"
      },
      "source": [
        "### Unpacking Unordered Objects"
      ]
    },
    {
      "cell_type": "code",
      "metadata": {
        "id": "trkO8zF4u578",
        "colab_type": "code",
        "colab": {}
      },
      "source": [
        "dict1 = {'p': 1, 'y': 2, 't': 3, 'h': 4, 'o': 5, 'n': 6}"
      ],
      "execution_count": 0,
      "outputs": []
    },
    {
      "cell_type": "code",
      "metadata": {
        "id": "rxiN4puwu9z_",
        "colab_type": "code",
        "colab": {
          "base_uri": "https://localhost:8080/",
          "height": 34
        },
        "outputId": "3a6ca7ce-4a2a-4fc1-e6f1-d2521facea08"
      },
      "source": [
        "dict1"
      ],
      "execution_count": 50,
      "outputs": [
        {
          "output_type": "execute_result",
          "data": {
            "text/plain": [
              "{'h': 4, 'n': 6, 'o': 5, 'p': 1, 't': 3, 'y': 2}"
            ]
          },
          "metadata": {
            "tags": []
          },
          "execution_count": 50
        }
      ]
    },
    {
      "cell_type": "markdown",
      "metadata": {
        "id": "4YyvoUYR6JnC",
        "colab_type": "text"
      },
      "source": [
        "### INTERESTING: Here is intresting point that can confuse: "
      ]
    },
    {
      "cell_type": "code",
      "metadata": {
        "id": "BDJe6HpL6VDC",
        "colab_type": "code",
        "colab": {}
      },
      "source": [
        "d = {'a': 1, 'b': 2, 'c': 3, 'd': 4}\n",
        "a, b, c, d = d"
      ],
      "execution_count": 0,
      "outputs": []
    },
    {
      "cell_type": "code",
      "metadata": {
        "id": "jmPcWUYr6r7h",
        "colab_type": "code",
        "colab": {
          "base_uri": "https://localhost:8080/",
          "height": 34
        },
        "outputId": "31093327-64ac-4e61-9369-b6f8a6f560b3"
      },
      "source": [
        "# d is not Pointing to dictionary but in fact just key in dict\n",
        "print(a, b, c, d)"
      ],
      "execution_count": 43,
      "outputs": [
        {
          "output_type": "stream",
          "text": [
            "a b c d\n"
          ],
          "name": "stdout"
        }
      ]
    },
    {
      "cell_type": "code",
      "metadata": {
        "id": "uSwX3vI_7UGh",
        "colab_type": "code",
        "colab": {
          "base_uri": "https://localhost:8080/",
          "height": 34
        },
        "outputId": "d13d18d8-9927-4dda-d13d-492b77a69a9f"
      },
      "source": [
        "d = {'a': 1, 'b': 2, 'c': 3, 'd': 4}\n",
        "d, a, b, c = d\n",
        "print(d, a, b, c)"
      ],
      "execution_count": 46,
      "outputs": [
        {
          "output_type": "stream",
          "text": [
            "a b c d\n"
          ],
          "name": "stdout"
        }
      ]
    },
    {
      "cell_type": "code",
      "metadata": {
        "id": "WWr3j_muu_Bz",
        "colab_type": "code",
        "colab": {
          "base_uri": "https://localhost:8080/",
          "height": 119
        },
        "outputId": "626ba5a7-e4aa-48ba-8b33-e7580aa03ead"
      },
      "source": [
        "for c in dict1:\n",
        "    print(c)"
      ],
      "execution_count": 22,
      "outputs": [
        {
          "output_type": "stream",
          "text": [
            "p\n",
            "y\n",
            "t\n",
            "h\n",
            "o\n",
            "n\n"
          ],
          "name": "stdout"
        }
      ]
    },
    {
      "cell_type": "code",
      "metadata": {
        "id": "ZdEU7-JdvAdx",
        "colab_type": "code",
        "colab": {
          "base_uri": "https://localhost:8080/",
          "height": 119
        },
        "outputId": "87cba44f-64b0-4c19-ec59-686ca34e5a92"
      },
      "source": [
        "a, b, c, d, e, f = dict1\n",
        "print(a)\n",
        "print(b)\n",
        "print(c)\n",
        "print(d)\n",
        "print(e)\n",
        "print(f)"
      ],
      "execution_count": 23,
      "outputs": [
        {
          "output_type": "stream",
          "text": [
            "p\n",
            "y\n",
            "t\n",
            "h\n",
            "o\n",
            "n\n"
          ],
          "name": "stdout"
        }
      ]
    },
    {
      "cell_type": "markdown",
      "metadata": {
        "id": "h9T73sU8vFS7",
        "colab_type": "text"
      },
      "source": [
        "Note that this order is not guaranteed. You can always use an OrderedDict if that is a requirement.\n",
        "</br>\n",
        "</br>\n",
        "Here we see we can look at indexes."
      ]
    },
    {
      "cell_type": "code",
      "metadata": {
        "id": "EDSQC_hE4LeV",
        "colab_type": "code",
        "colab": {
          "base_uri": "https://localhost:8080/",
          "height": 68
        },
        "outputId": "d3aabca6-2f39-44e9-c14d-3644eced0d5b"
      },
      "source": [
        "s = \"XYZ\"\n",
        "print(s[0])\n",
        "print(s[1])\n",
        "print(s[2])"
      ],
      "execution_count": 35,
      "outputs": [
        {
          "output_type": "stream",
          "text": [
            "X\n",
            "Y\n",
            "Z\n"
          ],
          "name": "stdout"
        }
      ]
    },
    {
      "cell_type": "markdown",
      "metadata": {
        "id": "NipyU8tu4laF",
        "colab_type": "text"
      },
      "source": [
        "But with sets, it's another story:"
      ]
    },
    {
      "cell_type": "code",
      "metadata": {
        "id": "sxaAZfVl4fXF",
        "colab_type": "code",
        "colab": {
          "base_uri": "https://localhost:8080/",
          "height": 180
        },
        "outputId": "3d9426ff-b1c0-4af1-8f1d-e9eb23e330c4"
      },
      "source": [
        "s = {1, 2, 3}\n",
        "print(s[0])"
      ],
      "execution_count": 38,
      "outputs": [
        {
          "output_type": "error",
          "ename": "TypeError",
          "evalue": "ignored",
          "traceback": [
            "\u001b[0;31m---------------------------------------------------------------------------\u001b[0m",
            "\u001b[0;31mTypeError\u001b[0m                                 Traceback (most recent call last)",
            "\u001b[0;32m<ipython-input-38-57de2ead9154>\u001b[0m in \u001b[0;36m<module>\u001b[0;34m()\u001b[0m\n\u001b[1;32m      1\u001b[0m \u001b[0ms\u001b[0m \u001b[0;34m=\u001b[0m \u001b[0;34m{\u001b[0m\u001b[0;36m1\u001b[0m\u001b[0;34m,\u001b[0m \u001b[0;36m2\u001b[0m\u001b[0;34m,\u001b[0m \u001b[0;36m3\u001b[0m\u001b[0;34m}\u001b[0m\u001b[0;34m\u001b[0m\u001b[0;34m\u001b[0m\u001b[0m\n\u001b[0;32m----> 2\u001b[0;31m \u001b[0mprint\u001b[0m\u001b[0;34m(\u001b[0m\u001b[0ms\u001b[0m\u001b[0;34m[\u001b[0m\u001b[0;36m0\u001b[0m\u001b[0;34m]\u001b[0m\u001b[0;34m)\u001b[0m\u001b[0;34m\u001b[0m\u001b[0;34m\u001b[0m\u001b[0m\n\u001b[0m",
            "\u001b[0;31mTypeError\u001b[0m: 'set' object does not support indexing"
          ]
        }
      ]
    },
    {
      "cell_type": "markdown",
      "metadata": {
        "id": "weX85Q6Z4zy1",
        "colab_type": "text"
      },
      "source": [
        "There is no order in SETS/DICTIONARIES!!!!!!"
      ]
    },
    {
      "cell_type": "code",
      "metadata": {
        "id": "BBkNUMCBvEBl",
        "colab_type": "code",
        "colab": {}
      },
      "source": [
        "s = {'p', 'y', 't', 'h', 'o', 'n'}"
      ],
      "execution_count": 0,
      "outputs": []
    },
    {
      "cell_type": "code",
      "metadata": {
        "id": "Elfrt7c4vKjG",
        "colab_type": "code",
        "colab": {
          "base_uri": "https://localhost:8080/",
          "height": 34
        },
        "outputId": "79c9a7f2-7476-48e2-9e68-cf7e2059fef0"
      },
      "source": [
        "type(s)"
      ],
      "execution_count": 40,
      "outputs": [
        {
          "output_type": "execute_result",
          "data": {
            "text/plain": [
              "set"
            ]
          },
          "metadata": {
            "tags": []
          },
          "execution_count": 40
        }
      ]
    },
    {
      "cell_type": "code",
      "metadata": {
        "id": "unvCgDZ2vL4r",
        "colab_type": "code",
        "colab": {
          "base_uri": "https://localhost:8080/",
          "height": 34
        },
        "outputId": "24b64f5d-05b3-4186-f8e9-ffe0e967d57a"
      },
      "source": [
        "print(s)"
      ],
      "execution_count": 32,
      "outputs": [
        {
          "output_type": "stream",
          "text": [
            "{'h', 'o', 'y', 'p', 'n', 't'}\n"
          ],
          "name": "stdout"
        }
      ]
    },
    {
      "cell_type": "code",
      "metadata": {
        "id": "eS6LnC1AvNIv",
        "colab_type": "code",
        "colab": {
          "base_uri": "https://localhost:8080/",
          "height": 119
        },
        "outputId": "f050a636-60e1-4545-c194-70ec7f5244c9"
      },
      "source": [
        "for c in s:\n",
        "    print(c)"
      ],
      "execution_count": 33,
      "outputs": [
        {
          "output_type": "stream",
          "text": [
            "h\n",
            "o\n",
            "y\n",
            "p\n",
            "n\n",
            "t\n"
          ],
          "name": "stdout"
        }
      ]
    },
    {
      "cell_type": "code",
      "metadata": {
        "id": "DQIqCOO3vObr",
        "colab_type": "code",
        "colab": {}
      },
      "source": [
        "a, b, c, d, e, f = s"
      ],
      "execution_count": 0,
      "outputs": []
    },
    {
      "cell_type": "code",
      "metadata": {
        "id": "2IsQitqjvTo0",
        "colab_type": "code",
        "colab": {
          "base_uri": "https://localhost:8080/",
          "height": 119
        },
        "outputId": "b52090d7-541a-484e-9064-4778ed019d4c"
      },
      "source": [
        "print(a)\n",
        "print(b)\n",
        "print(c)\n",
        "print(d)\n",
        "print(e)\n",
        "print(f)"
      ],
      "execution_count": 29,
      "outputs": [
        {
          "output_type": "stream",
          "text": [
            "h\n",
            "o\n",
            "y\n",
            "p\n",
            "n\n",
            "t\n"
          ],
          "name": "stdout"
        }
      ]
    },
    {
      "cell_type": "code",
      "metadata": {
        "id": "q0N4rWtnvUxM",
        "colab_type": "code",
        "colab": {
          "base_uri": "https://localhost:8080/",
          "height": 119
        },
        "outputId": "5d364233-8b9f-42fc-cc51-96df771558cd"
      },
      "source": [
        "for a, b in dict1.items():\n",
        "    print(f\"key={a}, value={b}\")"
      ],
      "execution_count": 52,
      "outputs": [
        {
          "output_type": "stream",
          "text": [
            "key=p, value=1\n",
            "key=y, value=2\n",
            "key=t, value=3\n",
            "key=h, value=4\n",
            "key=o, value=5\n",
            "key=n, value=6\n"
          ],
          "name": "stdout"
        }
      ]
    },
    {
      "cell_type": "markdown",
      "metadata": {
        "id": "GUePcXOVAvY3",
        "colab_type": "text"
      },
      "source": [
        "# 4.EXTENDED Unpacking: * and ** Operators"
      ]
    },
    {
      "cell_type": "markdown",
      "metadata": {
        "id": "uOY-EnTcAvuB",
        "colab_type": "text"
      },
      "source": [
        "![alt text](https://drive.google.com/uc?id=1CiA6UFZAAp0Y4GyGfJ_ctXKctCh2561Q)"
      ]
    },
    {
      "cell_type": "markdown",
      "metadata": {
        "id": "yubS6Fn-Av33",
        "colab_type": "text"
      },
      "source": [
        "![alt text](https://drive.google.com/uc?id=1Gjq2jXet6-Tp7sNpPgOg5eJ7cAn4uYol)"
      ]
    },
    {
      "cell_type": "markdown",
      "metadata": {
        "id": "fTeoKGLyAwBg",
        "colab_type": "text"
      },
      "source": [
        "![alt text](https://drive.google.com/uc?id=1mOs16JaNMDUs0LUiGLwcx5xxdhyq0hJn)"
      ]
    },
    {
      "cell_type": "markdown",
      "metadata": {
        "id": "zdjPtMfjAwKR",
        "colab_type": "text"
      },
      "source": [
        "![alt text](https://drive.google.com/uc?id=1qsGJQF_wtibGyGLUhTGGpZX3tGk0JFNq)"
      ]
    },
    {
      "cell_type": "markdown",
      "metadata": {
        "id": "Rd5M-qMOAwTr",
        "colab_type": "text"
      },
      "source": [
        "![alt text](https://drive.google.com/uc?id=1htfK5s-MRyHyqh03bW2a7YFxzbNrzhou)"
      ]
    },
    {
      "cell_type": "markdown",
      "metadata": {
        "id": "kWI7Oj16AweM",
        "colab_type": "text"
      },
      "source": [
        "![alt text](https://drive.google.com/uc?id=10c-BtvxABRxksYcn48oVFMli9j6C15ce)"
      ]
    },
    {
      "cell_type": "markdown",
      "metadata": {
        "id": "SdVaek7TAwnc",
        "colab_type": "text"
      },
      "source": [
        "![alt text](https://drive.google.com/uc?id=1T9pHML9w851rsI3OFwugvt1IxztBYwFY)"
      ]
    },
    {
      "cell_type": "markdown",
      "metadata": {
        "id": "1EZyBoZoAwwZ",
        "colab_type": "text"
      },
      "source": [
        "![alt text](https://drive.google.com/uc?id=1k85rHiiHfGizwvlLLLJDqmEOLchTrj_-)"
      ]
    },
    {
      "cell_type": "markdown",
      "metadata": {
        "id": "qU--4lONAw4t",
        "colab_type": "text"
      },
      "source": [
        "![alt text](https://drive.google.com/uc?id=1VpmQc43cRY45_HXVpqWKpfFX4IxHFLmk)"
      ]
    },
    {
      "cell_type": "markdown",
      "metadata": {
        "id": "Oad6PszYAxAj",
        "colab_type": "text"
      },
      "source": [
        "![alt text](https://drive.google.com/uc?id=1q-DnfvgiLBV5M_ukk8sIa8dPX_JacfOF)"
      ]
    },
    {
      "cell_type": "markdown",
      "metadata": {
        "id": "cj5VqPSrAxJH",
        "colab_type": "text"
      },
      "source": [
        "![alt text](https://drive.google.com/uc?id=1R24lo1Kk0ucp2KghLhcQs__vytkXF6K7)"
      ]
    },
    {
      "cell_type": "markdown",
      "metadata": {
        "id": "h-WzzT5wCksM",
        "colab_type": "text"
      },
      "source": [
        "## Coding time"
      ]
    },
    {
      "cell_type": "markdown",
      "metadata": {
        "id": "fLZSGEG0DDt2",
        "colab_type": "text"
      },
      "source": [
        "Let's see how we might split a list into it's first element, and \"everything else\" using slicing:"
      ]
    },
    {
      "cell_type": "code",
      "metadata": {
        "id": "CqoCZbZJ97vM",
        "colab_type": "code",
        "colab": {}
      },
      "source": [
        "l = [1, 2, 3, 4, 5, 6]"
      ],
      "execution_count": 0,
      "outputs": []
    },
    {
      "cell_type": "code",
      "metadata": {
        "id": "c0kh0f53DF8D",
        "colab_type": "code",
        "colab": {
          "base_uri": "https://localhost:8080/",
          "height": 51
        },
        "outputId": "b3845533-5287-4145-8503-76535a557842"
      },
      "source": [
        "a = l[0]\n",
        "b = l[1:]\n",
        "print(a)\n",
        "print(b)"
      ],
      "execution_count": 54,
      "outputs": [
        {
          "output_type": "stream",
          "text": [
            "1\n",
            "[2, 3, 4, 5, 6]\n"
          ],
          "name": "stdout"
        }
      ]
    },
    {
      "cell_type": "markdown",
      "metadata": {
        "id": "T-9TwfZrDJhw",
        "colab_type": "text"
      },
      "source": [
        "We can even use unpacking to simplify this slightly:"
      ]
    },
    {
      "cell_type": "code",
      "metadata": {
        "id": "tUxfk-SYDHsJ",
        "colab_type": "code",
        "colab": {
          "base_uri": "https://localhost:8080/",
          "height": 51
        },
        "outputId": "c16cf7c6-f461-4a86-80d6-134b7fe96ae1"
      },
      "source": [
        "a, b = l[0], l[1:]\n",
        "print(a)\n",
        "print(b)"
      ],
      "execution_count": 55,
      "outputs": [
        {
          "output_type": "stream",
          "text": [
            "1\n",
            "[2, 3, 4, 5, 6]\n"
          ],
          "name": "stdout"
        }
      ]
    },
    {
      "cell_type": "markdown",
      "metadata": {
        "id": "6lbfqnAiDL4j",
        "colab_type": "text"
      },
      "source": [
        "But we can use the **\\*** operator to achieve the same result:"
      ]
    },
    {
      "cell_type": "code",
      "metadata": {
        "id": "rn_KU1ryDLUq",
        "colab_type": "code",
        "colab": {
          "base_uri": "https://localhost:8080/",
          "height": 51
        },
        "outputId": "3374b5a9-7bea-44e5-9cb1-48461b4c6191"
      },
      "source": [
        "a, *b = l\n",
        "print(a)\n",
        "print(b)"
      ],
      "execution_count": 56,
      "outputs": [
        {
          "output_type": "stream",
          "text": [
            "1\n",
            "[2, 3, 4, 5, 6]\n"
          ],
          "name": "stdout"
        }
      ]
    },
    {
      "cell_type": "markdown",
      "metadata": {
        "id": "_rK1A32wDPtH",
        "colab_type": "text"
      },
      "source": [
        "With strings:"
      ]
    },
    {
      "cell_type": "code",
      "metadata": {
        "id": "hZF_XMbIDO4I",
        "colab_type": "code",
        "colab": {
          "base_uri": "https://localhost:8080/",
          "height": 51
        },
        "outputId": "639af79b-5a1a-4e86-9908-2a78cff9babe"
      },
      "source": [
        "a, *b = 'python'\n",
        "print(a)\n",
        "print(b)"
      ],
      "execution_count": 57,
      "outputs": [
        {
          "output_type": "stream",
          "text": [
            "p\n",
            "['y', 't', 'h', 'o', 'n']\n"
          ],
          "name": "stdout"
        }
      ]
    },
    {
      "cell_type": "markdown",
      "metadata": {
        "id": "IJCE9iHyDUsT",
        "colab_type": "text"
      },
      "source": [
        "What about extracting the first, second, last elements and *the rest*.\n",
        "</br>\n",
        "</br>\n",
        "Again we can use slicing:"
      ]
    },
    {
      "cell_type": "code",
      "metadata": {
        "id": "qiTB-g2IDS-H",
        "colab_type": "code",
        "colab": {
          "base_uri": "https://localhost:8080/",
          "height": 85
        },
        "outputId": "427d1752-f7bb-4799-8a09-71ccfa4a9a22"
      },
      "source": [
        "s = 'python'\n",
        "\n",
        "a, b, c, d = s[0], s[1], s[2:-1], s[-1]\n",
        "print(a)\n",
        "print(b)\n",
        "print(c)\n",
        "print(d)"
      ],
      "execution_count": 58,
      "outputs": [
        {
          "output_type": "stream",
          "text": [
            "p\n",
            "y\n",
            "tho\n",
            "n\n"
          ],
          "name": "stdout"
        }
      ]
    },
    {
      "cell_type": "markdown",
      "metadata": {
        "id": "IENWYeAlDkSG",
        "colab_type": "text"
      },
      "source": [
        "But we can just as easily do it this way using unpacking:"
      ]
    },
    {
      "cell_type": "code",
      "metadata": {
        "id": "9MMFHX4ODiVq",
        "colab_type": "code",
        "colab": {
          "base_uri": "https://localhost:8080/",
          "height": 85
        },
        "outputId": "969dcc56-2cce-46ea-85d3-db561435d58c"
      },
      "source": [
        "a, b, *c, d = s\n",
        "print(a)\n",
        "print(b)\n",
        "print(c)\n",
        "print(d)"
      ],
      "execution_count": 59,
      "outputs": [
        {
          "output_type": "stream",
          "text": [
            "p\n",
            "y\n",
            "['t', 'h', 'o']\n",
            "n\n"
          ],
          "name": "stdout"
        }
      ]
    },
    {
      "cell_type": "markdown",
      "metadata": {
        "id": "yPDPmeIGDneI",
        "colab_type": "text"
      },
      "source": [
        "As you can see though, **c** is a list of characters, not a string.\n",
        "\n",
        "It that's a problem we can easily fix it this way:"
      ]
    },
    {
      "cell_type": "code",
      "metadata": {
        "id": "DGrDB52yDmOR",
        "colab_type": "code",
        "colab": {
          "base_uri": "https://localhost:8080/",
          "height": 51
        },
        "outputId": "db9effa8-bd1d-4dbb-94a2-e6685b6a4c9b"
      },
      "source": [
        "print(c)\n",
        "c = ''.join(c)\n",
        "print(c)"
      ],
      "execution_count": 60,
      "outputs": [
        {
          "output_type": "stream",
          "text": [
            "['t', 'h', 'o']\n",
            "tho\n"
          ],
          "name": "stdout"
        }
      ]
    },
    {
      "cell_type": "markdown",
      "metadata": {
        "id": "lPBOBm-5DqiI",
        "colab_type": "text"
      },
      "source": [
        "We can also use unpacking on the right hand side of an assignment expression:"
      ]
    },
    {
      "cell_type": "code",
      "metadata": {
        "id": "xjpZAiE5DpUl",
        "colab_type": "code",
        "colab": {
          "base_uri": "https://localhost:8080/",
          "height": 34
        },
        "outputId": "1188186f-19c7-457b-ccb5-df005df75e02"
      },
      "source": [
        "l1 = [1, 2, 3]\n",
        "l2 = [4, 5, 6]\n",
        "l = [*l1, *l2]\n",
        "print(l)"
      ],
      "execution_count": 61,
      "outputs": [
        {
          "output_type": "stream",
          "text": [
            "[1, 2, 3, 4, 5, 6]\n"
          ],
          "name": "stdout"
        }
      ]
    },
    {
      "cell_type": "code",
      "metadata": {
        "id": "Nc3zFHPEDsIL",
        "colab_type": "code",
        "colab": {
          "base_uri": "https://localhost:8080/",
          "height": 34
        },
        "outputId": "890817e4-90e2-43ea-b794-95d8e30aa4ee"
      },
      "source": [
        "l1 = [1, 2, 3]\n",
        "s = 'ABC'\n",
        "l = [*l1, *s]\n",
        "print(l)"
      ],
      "execution_count": 62,
      "outputs": [
        {
          "output_type": "stream",
          "text": [
            "[1, 2, 3, 'A', 'B', 'C']\n"
          ],
          "name": "stdout"
        }
      ]
    },
    {
      "cell_type": "markdown",
      "metadata": {
        "id": "ibVXD_HDDu4X",
        "colab_type": "text"
      },
      "source": [
        "This unpacking works with unordered types such as sets and dictionaries as well.\n",
        "\n",
        "The only thing is that it may not be very useful considering there is no particular ordering, so a first or last element has no real useful meaning."
      ]
    },
    {
      "cell_type": "code",
      "metadata": {
        "id": "yLqgf3BNDtdt",
        "colab_type": "code",
        "colab": {}
      },
      "source": [
        "s = {10, -99, 3, 'd'}"
      ],
      "execution_count": 0,
      "outputs": []
    },
    {
      "cell_type": "code",
      "metadata": {
        "id": "rPPVY2rBDxbj",
        "colab_type": "code",
        "colab": {
          "base_uri": "https://localhost:8080/",
          "height": 85
        },
        "outputId": "5a420ffc-ba0f-4683-e86f-688a68970042"
      },
      "source": [
        "for c in s:\n",
        "    print(c)"
      ],
      "execution_count": 64,
      "outputs": [
        {
          "output_type": "stream",
          "text": [
            "d\n",
            "10\n",
            "3\n",
            "-99\n"
          ],
          "name": "stdout"
        }
      ]
    },
    {
      "cell_type": "markdown",
      "metadata": {
        "id": "PZESzUHED1G-",
        "colab_type": "text"
      },
      "source": [
        "As you can see, the order of the elements when we created the set was not retained!"
      ]
    },
    {
      "cell_type": "code",
      "metadata": {
        "id": "HzaNZuLgDyl5",
        "colab_type": "code",
        "colab": {
          "base_uri": "https://localhost:8080/",
          "height": 68
        },
        "outputId": "1993f9c7-2b26-461e-b251-ea6cc777ba3d"
      },
      "source": [
        "s = {10, -99, 3, 'd'}\n",
        "a, b, *c = s\n",
        "print(a)\n",
        "print(b)\n",
        "print(c)"
      ],
      "execution_count": 65,
      "outputs": [
        {
          "output_type": "stream",
          "text": [
            "d\n",
            "10\n",
            "[3, -99]\n"
          ],
          "name": "stdout"
        }
      ]
    },
    {
      "cell_type": "markdown",
      "metadata": {
        "id": "vVcT4s91D4vY",
        "colab_type": "text"
      },
      "source": [
        "So unpacking this way is of limited use.\n",
        "\n",
        "However consider this:"
      ]
    },
    {
      "cell_type": "code",
      "metadata": {
        "id": "0UV5Jz2iD2ew",
        "colab_type": "code",
        "colab": {
          "base_uri": "https://localhost:8080/",
          "height": 34
        },
        "outputId": "8f9c283d-3eef-4364-d7ea-c5797a78761c"
      },
      "source": [
        "s = {10, -99, 3, 'd'}\n",
        "*a, = s\n",
        "print(a)"
      ],
      "execution_count": 67,
      "outputs": [
        {
          "output_type": "stream",
          "text": [
            "['d', 10, 3, -99]\n"
          ],
          "name": "stdout"
        }
      ]
    },
    {
      "cell_type": "markdown",
      "metadata": {
        "id": "eTqB2_xqD9xG",
        "colab_type": "text"
      },
      "source": [
        "At first blush, this doesn't look terribly exciting - we simply unpacked the set values into a list.\n",
        "\n",
        "But this is actually quite useful in both sets and dictionaries to combine things (although to be sure, there are alternative ways to do this as well - which we'll cover later in this course)"
      ]
    },
    {
      "cell_type": "code",
      "metadata": {
        "id": "bEw1Bt7UD6Nd",
        "colab_type": "code",
        "colab": {}
      },
      "source": [
        "s1 = {1, 2, 3}\n",
        "s2 = {3, 4, 5}"
      ],
      "execution_count": 0,
      "outputs": []
    },
    {
      "cell_type": "markdown",
      "metadata": {
        "id": "8iO7xNUhEA1o",
        "colab_type": "text"
      },
      "source": [
        "How can we combine both these sets into a single merged set?"
      ]
    },
    {
      "cell_type": "code",
      "metadata": {
        "id": "GgwXhmj5D_r_",
        "colab_type": "code",
        "colab": {
          "base_uri": "https://localhost:8080/",
          "height": 163
        },
        "outputId": "b454b075-e5c3-4d17-9f72-1ba54cbad885"
      },
      "source": [
        "s1 + s2"
      ],
      "execution_count": 69,
      "outputs": [
        {
          "output_type": "error",
          "ename": "TypeError",
          "evalue": "ignored",
          "traceback": [
            "\u001b[0;31m---------------------------------------------------------------------------\u001b[0m",
            "\u001b[0;31mTypeError\u001b[0m                                 Traceback (most recent call last)",
            "\u001b[0;32m<ipython-input-69-07ecabcb1b41>\u001b[0m in \u001b[0;36m<module>\u001b[0;34m()\u001b[0m\n\u001b[0;32m----> 1\u001b[0;31m \u001b[0ms1\u001b[0m \u001b[0;34m+\u001b[0m \u001b[0ms2\u001b[0m\u001b[0;34m\u001b[0m\u001b[0;34m\u001b[0m\u001b[0m\n\u001b[0m",
            "\u001b[0;31mTypeError\u001b[0m: unsupported operand type(s) for +: 'set' and 'set'"
          ]
        }
      ]
    },
    {
      "cell_type": "markdown",
      "metadata": {
        "id": "OOjk4PcmEFSy",
        "colab_type": "text"
      },
      "source": [
        "Well, **+** doesn't work...\n",
        "</br>\n",
        "</br>\n",
        "We could use the built-in method for unioning sets:"
      ]
    },
    {
      "cell_type": "code",
      "metadata": {
        "id": "ANcbkaG7EDZ1",
        "colab_type": "code",
        "colab": {
          "base_uri": "https://localhost:8080/",
          "height": 68
        },
        "outputId": "131a0aaf-75a2-494b-830a-ab0025e418a9"
      },
      "source": [
        "print(s1)\n",
        "print(s2)\n",
        "s1.union(s2)"
      ],
      "execution_count": 70,
      "outputs": [
        {
          "output_type": "stream",
          "text": [
            "{1, 2, 3}\n",
            "{3, 4, 5}\n"
          ],
          "name": "stdout"
        },
        {
          "output_type": "execute_result",
          "data": {
            "text/plain": [
              "{1, 2, 3, 4, 5}"
            ]
          },
          "metadata": {
            "tags": []
          },
          "execution_count": 70
        }
      ]
    },
    {
      "cell_type": "markdown",
      "metadata": {
        "id": "R01BmOBiEMmZ",
        "colab_type": "text"
      },
      "source": [
        "What about joining 4 different sets?"
      ]
    },
    {
      "cell_type": "code",
      "metadata": {
        "id": "NFy3nR9-EOgB",
        "colab_type": "code",
        "colab": {
          "base_uri": "https://localhost:8080/",
          "height": 51
        },
        "outputId": "9c5d0fe0-11ca-4b30-cbd6-9f78a63b7651"
      },
      "source": [
        "s1 = {1, 2, 3}\n",
        "s2 = {3, 4, 5}\n",
        "s3 = {5, 6, 7}\n",
        "s4 = {7, 8, 9}\n",
        "print(s1.union(s2).union(s3).union(s4))\n",
        "print(s1.union(s2, s3, s4))"
      ],
      "execution_count": 71,
      "outputs": [
        {
          "output_type": "stream",
          "text": [
            "{1, 2, 3, 4, 5, 6, 7, 8, 9}\n",
            "{1, 2, 3, 4, 5, 6, 7, 8, 9}\n"
          ],
          "name": "stdout"
        }
      ]
    },
    {
      "cell_type": "markdown",
      "metadata": {
        "id": "uBHIyhQjERC0",
        "colab_type": "text"
      },
      "source": [
        "Or we could use unpacking in this way:"
      ]
    },
    {
      "cell_type": "code",
      "metadata": {
        "id": "YRbb6w7dEPpk",
        "colab_type": "code",
        "colab": {
          "base_uri": "https://localhost:8080/",
          "height": 34
        },
        "outputId": "b4a879c5-657e-48f5-a587-fafa4750269a"
      },
      "source": [
        "{*s1, *s2, *s3, *s4}"
      ],
      "execution_count": 72,
      "outputs": [
        {
          "output_type": "execute_result",
          "data": {
            "text/plain": [
              "{1, 2, 3, 4, 5, 6, 7, 8, 9}"
            ]
          },
          "metadata": {
            "tags": []
          },
          "execution_count": 72
        }
      ]
    },
    {
      "cell_type": "markdown",
      "metadata": {
        "id": "yjFw8lxRETRq",
        "colab_type": "text"
      },
      "source": [
        "What we did here was to unpack each set directly into another set!\n",
        "</br>\n",
        "</br>\n",
        "The same works for dictionaries - just remember that **\\*** for dictionaries unpacks the keys only.\n"
      ]
    },
    {
      "cell_type": "code",
      "metadata": {
        "id": "AHprtnQQES12",
        "colab_type": "code",
        "colab": {
          "base_uri": "https://localhost:8080/",
          "height": 34
        },
        "outputId": "6d3ea634-7e4a-4021-b77f-57e5d78b70c0"
      },
      "source": [
        "d1 = {'key1': 1, 'key2': 2}\n",
        "d2 = {'key2': 3, 'key3': 3}\n",
        "[*d1, *d2]"
      ],
      "execution_count": 73,
      "outputs": [
        {
          "output_type": "execute_result",
          "data": {
            "text/plain": [
              "['key1', 'key2', 'key2', 'key3']"
            ]
          },
          "metadata": {
            "tags": []
          },
          "execution_count": 73
        }
      ]
    },
    {
      "cell_type": "markdown",
      "metadata": {
        "id": "MIMkUEr9Ea-C",
        "colab_type": "text"
      },
      "source": [
        "So, is there anything to unpack the key-value pairs for dictionaries instead of just the keys?\n",
        "</br>\n",
        "</br>\n",
        "Yes - we can use the **\\*\\*** operator:\n"
      ]
    },
    {
      "cell_type": "code",
      "metadata": {
        "id": "W7Ejs8nzEZAR",
        "colab_type": "code",
        "colab": {
          "base_uri": "https://localhost:8080/",
          "height": 34
        },
        "outputId": "a96fbb7c-d693-4271-ee52-cd8cc31d493a"
      },
      "source": [
        "d1 = {'key1': 1, 'key2': 2}\n",
        "d2 = {'key2': 3, 'key3': 3}\n",
        "\n",
        "{**d1, **d2}"
      ],
      "execution_count": 74,
      "outputs": [
        {
          "output_type": "execute_result",
          "data": {
            "text/plain": [
              "{'key1': 1, 'key2': 3, 'key3': 3}"
            ]
          },
          "metadata": {
            "tags": []
          },
          "execution_count": 74
        }
      ]
    },
    {
      "cell_type": "markdown",
      "metadata": {
        "id": "zUIjNsrbEkPa",
        "colab_type": "text"
      },
      "source": [
        "Notice what happened to the value of **key2**. The value for the second occurrence of **key2** was retained (overwritten).\n",
        "</br>\n",
        "</br>\n",
        "In fact, if we write the unpacking reversing the order of d1 and d2:"
      ]
    },
    {
      "cell_type": "code",
      "metadata": {
        "id": "CLMG5w8WEjg5",
        "colab_type": "code",
        "colab": {
          "base_uri": "https://localhost:8080/",
          "height": 34
        },
        "outputId": "329e4678-8d91-4956-c7b5-e52c63d471c8"
      },
      "source": [
        "{**d2, **d1}"
      ],
      "execution_count": 75,
      "outputs": [
        {
          "output_type": "execute_result",
          "data": {
            "text/plain": [
              "{'key1': 1, 'key2': 2, 'key3': 3}"
            ]
          },
          "metadata": {
            "tags": []
          },
          "execution_count": 75
        }
      ]
    },
    {
      "cell_type": "markdown",
      "metadata": {
        "id": "3P2BCztOEsDf",
        "colab_type": "text"
      },
      "source": [
        "we see that the value of **key2** is now **2**, since it was the second occurrence.\n",
        "</br>\n",
        "</br>\n",
        "Of course, we can unpack a dictionary into a dictionary as seen above, but we can mix in our own key-value pairs as well - it is just a dictionary literal after all."
      ]
    },
    {
      "cell_type": "code",
      "metadata": {
        "id": "nS-Wsy0jErN2",
        "colab_type": "code",
        "colab": {
          "base_uri": "https://localhost:8080/",
          "height": 34
        },
        "outputId": "bce12f86-9066-4cfe-d3f7-44d327282763"
      },
      "source": [
        "{'a': 1, 'b': 2, **d1, **d2, 'c':3}"
      ],
      "execution_count": 76,
      "outputs": [
        {
          "output_type": "execute_result",
          "data": {
            "text/plain": [
              "{'a': 1, 'b': 2, 'c': 3, 'key1': 1, 'key2': 3, 'key3': 3}"
            ]
          },
          "metadata": {
            "tags": []
          },
          "execution_count": 76
        }
      ]
    },
    {
      "cell_type": "markdown",
      "metadata": {
        "id": "AeFG-Z_bFJRd",
        "colab_type": "text"
      },
      "source": [
        "Again, if we have the same keys, only the \"latest\" value of the key is retained:"
      ]
    },
    {
      "cell_type": "code",
      "metadata": {
        "id": "f4jHDq6UFIS-",
        "colab_type": "code",
        "colab": {
          "base_uri": "https://localhost:8080/",
          "height": 34
        },
        "outputId": "feda9bbe-0ec0-4c64-b26a-8e58d457ec4a"
      },
      "source": [
        "{'key1': 100, **d1, **d2, 'key3': 200}"
      ],
      "execution_count": 77,
      "outputs": [
        {
          "output_type": "execute_result",
          "data": {
            "text/plain": [
              "{'key1': 1, 'key2': 3, 'key3': 200}"
            ]
          },
          "metadata": {
            "tags": []
          },
          "execution_count": 77
        }
      ]
    },
    {
      "cell_type": "markdown",
      "metadata": {
        "id": "UXuaLRdxFMq4",
        "colab_type": "text"
      },
      "source": [
        "### Nested Unpacking"
      ]
    },
    {
      "cell_type": "markdown",
      "metadata": {
        "id": "0DbTstSSFO5i",
        "colab_type": "text"
      },
      "source": [
        "Python even supports nested unpacking:"
      ]
    },
    {
      "cell_type": "code",
      "metadata": {
        "id": "kXDx8ZufFK5P",
        "colab_type": "code",
        "colab": {
          "base_uri": "https://localhost:8080/",
          "height": 85
        },
        "outputId": "30c3231e-4e58-4f5d-b4ca-306e5b6604da"
      },
      "source": [
        "a, b, (c, d) = [1, 2, ['X', 'Y']]\n",
        "print(a)\n",
        "print(b)\n",
        "print(c)\n",
        "print(d)"
      ],
      "execution_count": 78,
      "outputs": [
        {
          "output_type": "stream",
          "text": [
            "1\n",
            "2\n",
            "X\n",
            "Y\n"
          ],
          "name": "stdout"
        }
      ]
    },
    {
      "cell_type": "markdown",
      "metadata": {
        "id": "VfskOaYkFSCc",
        "colab_type": "text"
      },
      "source": [
        "In fact, since a string is an iterable, we can even write:"
      ]
    },
    {
      "cell_type": "code",
      "metadata": {
        "id": "FSn6gAY2FQTC",
        "colab_type": "code",
        "colab": {
          "base_uri": "https://localhost:8080/",
          "height": 85
        },
        "outputId": "16dd26a9-b756-4bbc-e407-50d7980ef22c"
      },
      "source": [
        "a, b, (c, d) = [1, 2, 'XY']\n",
        "print(a)\n",
        "print(b)\n",
        "print(c)\n",
        "print(d)"
      ],
      "execution_count": 79,
      "outputs": [
        {
          "output_type": "stream",
          "text": [
            "1\n",
            "2\n",
            "X\n",
            "Y\n"
          ],
          "name": "stdout"
        }
      ]
    },
    {
      "cell_type": "markdown",
      "metadata": {
        "id": "erU7g4BqFUgq",
        "colab_type": "text"
      },
      "source": [
        "We can even write something like this:"
      ]
    },
    {
      "cell_type": "code",
      "metadata": {
        "id": "0W2IcYa9FTdy",
        "colab_type": "code",
        "colab": {
          "base_uri": "https://localhost:8080/",
          "height": 102
        },
        "outputId": "93d85e0c-a803-4305-d831-df20d30fee2c"
      },
      "source": [
        "a, b, (c, d, *e) = [1, 2, 'python']\n",
        "print(a)\n",
        "print(b)\n",
        "print(c)\n",
        "print(d)\n",
        "print(e)"
      ],
      "execution_count": 80,
      "outputs": [
        {
          "output_type": "stream",
          "text": [
            "1\n",
            "2\n",
            "p\n",
            "y\n",
            "['t', 'h', 'o', 'n']\n"
          ],
          "name": "stdout"
        }
      ]
    },
    {
      "cell_type": "markdown",
      "metadata": {
        "id": "7eYrg36cFXAW",
        "colab_type": "text"
      },
      "source": [
        "Remember when we said that we can use a * only **once**...\n",
        "</br>\n",
        "</br>\n",
        "How about this then?\n"
      ]
    },
    {
      "cell_type": "code",
      "metadata": {
        "id": "VOII-Z56FV3G",
        "colab_type": "code",
        "colab": {
          "base_uri": "https://localhost:8080/",
          "height": 102
        },
        "outputId": "931e358e-44e7-4f6e-ac2f-26bc02953a7d"
      },
      "source": [
        "a, *b, (c, d, *e) = [1, 2, 3, 'python']\n",
        "print(a)\n",
        "print(b)\n",
        "print(c)\n",
        "print(d)\n",
        "print(e)"
      ],
      "execution_count": 81,
      "outputs": [
        {
          "output_type": "stream",
          "text": [
            "1\n",
            "[2, 3]\n",
            "p\n",
            "y\n",
            "['t', 'h', 'o', 'n']\n"
          ],
          "name": "stdout"
        }
      ]
    },
    {
      "cell_type": "markdown",
      "metadata": {
        "id": "2bZXY6Z1FdTj",
        "colab_type": "text"
      },
      "source": [
        "We can break down what happened here in multiple steps:"
      ]
    },
    {
      "cell_type": "code",
      "metadata": {
        "id": "Y5GUb6W_Fbfd",
        "colab_type": "code",
        "colab": {
          "base_uri": "https://localhost:8080/",
          "height": 68
        },
        "outputId": "d66dccd7-75b1-4c8a-cce9-8ed50aa3e27c"
      },
      "source": [
        "a, *b, tmp = [1, 2, 3, 'python']\n",
        "print(a)\n",
        "print(b)\n",
        "print(tmp)"
      ],
      "execution_count": 82,
      "outputs": [
        {
          "output_type": "stream",
          "text": [
            "1\n",
            "[2, 3]\n",
            "python\n"
          ],
          "name": "stdout"
        }
      ]
    },
    {
      "cell_type": "code",
      "metadata": {
        "id": "OmkQbldiFeyB",
        "colab_type": "code",
        "colab": {
          "base_uri": "https://localhost:8080/",
          "height": 68
        },
        "outputId": "ec63d9d3-6659-47da-d5fa-42f8875c8984"
      },
      "source": [
        "c, d, *e = tmp\n",
        "print(c)\n",
        "print(d)\n",
        "print(e)"
      ],
      "execution_count": 83,
      "outputs": [
        {
          "output_type": "stream",
          "text": [
            "p\n",
            "y\n",
            "['t', 'h', 'o', 'n']\n"
          ],
          "name": "stdout"
        }
      ]
    },
    {
      "cell_type": "markdown",
      "metadata": {
        "id": "ibAFHNFfFiAI",
        "colab_type": "text"
      },
      "source": [
        "So putting it together we get our original line of code:"
      ]
    },
    {
      "cell_type": "code",
      "metadata": {
        "id": "9zOSgBSTFgJD",
        "colab_type": "code",
        "colab": {
          "base_uri": "https://localhost:8080/",
          "height": 102
        },
        "outputId": "7f19f95a-b601-4035-d37f-634f8819432d"
      },
      "source": [
        "a, *b, (c, d, *e) = [1, 2, 3, 'python']\n",
        "print(a)\n",
        "print(b)\n",
        "print(c)\n",
        "print(d)\n",
        "print(e)"
      ],
      "execution_count": 84,
      "outputs": [
        {
          "output_type": "stream",
          "text": [
            "1\n",
            "[2, 3]\n",
            "p\n",
            "y\n",
            "['t', 'h', 'o', 'n']\n"
          ],
          "name": "stdout"
        }
      ]
    },
    {
      "cell_type": "markdown",
      "metadata": {
        "id": "0r9LbDSeFqJF",
        "colab_type": "text"
      },
      "source": [
        "If we wanted to do the same thing using slicing:"
      ]
    },
    {
      "cell_type": "code",
      "metadata": {
        "id": "PuQPZJh2Fo2P",
        "colab_type": "code",
        "colab": {
          "base_uri": "https://localhost:8080/",
          "height": 34
        },
        "outputId": "aa519e9a-0a7e-4601-bd8f-d7138b87b777"
      },
      "source": [
        "l = [1, 2, 3, 'python']\n",
        "l[0], l[1:-1], l[-1][0], l[-1][1], list(l[-1][2:])"
      ],
      "execution_count": 85,
      "outputs": [
        {
          "output_type": "execute_result",
          "data": {
            "text/plain": [
              "(1, [2, 3], 'p', 'y', ['t', 'h', 'o', 'n'])"
            ]
          },
          "metadata": {
            "tags": []
          },
          "execution_count": 85
        }
      ]
    },
    {
      "cell_type": "code",
      "metadata": {
        "id": "CTPJ49fbFrhX",
        "colab_type": "code",
        "colab": {
          "base_uri": "https://localhost:8080/",
          "height": 102
        },
        "outputId": "a276f44f-c91f-4774-ae59-0c61988468e2"
      },
      "source": [
        "l = [1, 2, 3, 'python']\n",
        "a, b, c, d, e = l[0], l[1:-1], l[-1][0], l[-1][1], list(l[-1][2:])\n",
        "print(a)\n",
        "print(b)\n",
        "print(c)\n",
        "print(d)\n",
        "print(e)"
      ],
      "execution_count": 86,
      "outputs": [
        {
          "output_type": "stream",
          "text": [
            "1\n",
            "[2, 3]\n",
            "p\n",
            "y\n",
            "['t', 'h', 'o', 'n']\n"
          ],
          "name": "stdout"
        }
      ]
    },
    {
      "cell_type": "markdown",
      "metadata": {
        "id": "Kl0tlbuIFt5u",
        "colab_type": "text"
      },
      "source": [
        "Of course, this works for arbitrary lengths and indexable sequence types:"
      ]
    },
    {
      "cell_type": "code",
      "metadata": {
        "id": "imKOScihFspj",
        "colab_type": "code",
        "colab": {
          "base_uri": "https://localhost:8080/",
          "height": 102
        },
        "outputId": "1f7cf78b-1994-49d0-bda4-c0ecf1f6257c"
      },
      "source": [
        "l = [1, 2, 3, 4, 'unladen swallow']\n",
        "a, b, c, d, e = l[0], l[1:-1], l[-1][0], l[-1][1], list(l[-1][2:])\n",
        "print(a)\n",
        "print(b)\n",
        "print(c)\n",
        "print(d)\n",
        "print(e)"
      ],
      "execution_count": 87,
      "outputs": [
        {
          "output_type": "stream",
          "text": [
            "1\n",
            "[2, 3, 4]\n",
            "u\n",
            "n\n",
            "['l', 'a', 'd', 'e', 'n', ' ', 's', 'w', 'a', 'l', 'l', 'o', 'w']\n"
          ],
          "name": "stdout"
        }
      ]
    },
    {
      "cell_type": "markdown",
      "metadata": {
        "id": "K0-7BcJ3FwbA",
        "colab_type": "text"
      },
      "source": [
        "or even:"
      ]
    },
    {
      "cell_type": "code",
      "metadata": {
        "id": "kzqWJFRvFvRM",
        "colab_type": "code",
        "colab": {
          "base_uri": "https://localhost:8080/",
          "height": 102
        },
        "outputId": "f97e0a8b-678b-4ca2-ba46-8f98800158a4"
      },
      "source": [
        "l = [1, 2, 3, 4, ['a', 'b', 'c', 'd']]\n",
        "a, b, c, d, e = l[0], l[1:-1], l[-1][0], l[-1][1], list(l[-1][2:])\n",
        "print(a)\n",
        "print(b)\n",
        "print(c)\n",
        "print(d)\n",
        "print(e)"
      ],
      "execution_count": 88,
      "outputs": [
        {
          "output_type": "stream",
          "text": [
            "1\n",
            "[2, 3, 4]\n",
            "a\n",
            "b\n",
            "['c', 'd']\n"
          ],
          "name": "stdout"
        }
      ]
    },
    {
      "cell_type": "code",
      "metadata": {
        "id": "xREt_48LFxmU",
        "colab_type": "code",
        "colab": {}
      },
      "source": [
        ""
      ],
      "execution_count": 0,
      "outputs": []
    }
  ]
}