{
  "nbformat": 4,
  "nbformat_minor": 0,
  "metadata": {
    "colab": {
      "name": "Deep_Dive_1_Function_parametars.ipynb",
      "provenance": [],
      "toc_visible": true,
      "authorship_tag": "ABX9TyPZnW9zP872CVPaMJnmMogj",
      "include_colab_link": true
    },
    "kernelspec": {
      "name": "python3",
      "display_name": "Python 3"
    },
    "accelerator": "TPU"
  },
  "cells": [
    {
      "cell_type": "markdown",
      "metadata": {
        "id": "view-in-github",
        "colab_type": "text"
      },
      "source": [
        "<a href=\"https://colab.research.google.com/github/ValentinoVizner/Python_Deep_Dive_1/blob/master/Deep_Dive_1_Function_parametars.ipynb\" target=\"_parent\"><img src=\"https://colab.research.google.com/assets/colab-badge.svg\" alt=\"Open In Colab\"/></a>"
      ]
    },
    {
      "cell_type": "markdown",
      "metadata": {
        "id": "xBKaQo9wRbM1",
        "colab_type": "text"
      },
      "source": [
        "![alt text](https://drive.google.com/uc?id=1RktVu4GrxabjIrG9nWrKUGeIsrDnN4yd)"
      ]
    },
    {
      "cell_type": "markdown",
      "metadata": {
        "id": "kuk5BcN5Rqfn",
        "colab_type": "text"
      },
      "source": [
        "# 1.Argument vs Parameter"
      ]
    },
    {
      "cell_type": "markdown",
      "metadata": {
        "id": "AgQ4I30qRwZu",
        "colab_type": "text"
      },
      "source": [
        "![alt text](https://drive.google.com/uc?id=1NRveo14B4MwIZcY4UoEPgJql9ChIwzD1)"
      ]
    },
    {
      "cell_type": "markdown",
      "metadata": {
        "id": "NfSSFHP_SGgh",
        "colab_type": "text"
      },
      "source": [
        "![alt text](https://drive.google.com/uc?id=1ZYxTcrUlfAcg2fownZCZAA4KsDHB8Zzf)"
      ]
    },
    {
      "cell_type": "markdown",
      "metadata": {
        "id": "95zaBJffcHfN",
        "colab_type": "text"
      },
      "source": [
        "# 2.POSITIONAL and KEYWORD arguments"
      ]
    },
    {
      "cell_type": "markdown",
      "metadata": {
        "id": "2PscHSfMcTL_",
        "colab_type": "text"
      },
      "source": [
        "![alt text](https://drive.google.com/uc?id=1rUpU4LL_m9G6yv9gD19jwLoliMmWWUL8)"
      ]
    },
    {
      "cell_type": "markdown",
      "metadata": {
        "id": "IswwLyH-cTPe",
        "colab_type": "text"
      },
      "source": [
        "![alt text](https://drive.google.com/uc?id=1aPsOA2RyaDxwdZNZ86PvTbaZq6Satx_I)"
      ]
    },
    {
      "cell_type": "markdown",
      "metadata": {
        "id": "uLNpoOggcTS1",
        "colab_type": "text"
      },
      "source": [
        "![alt text](https://drive.google.com/uc?id=1ec8w9hzR4paeTlUZz-iaqmtF-Widn0xg)"
      ]
    },
    {
      "cell_type": "markdown",
      "metadata": {
        "id": "K8ryUVl5co8d",
        "colab_type": "text"
      },
      "source": [
        "![alt text](https://drive.google.com/uc?id=18J9C5mIyMw4hZhwmyTrYL2i9MhToW6AJ)"
      ]
    },
    {
      "cell_type": "markdown",
      "metadata": {
        "id": "skCSnS-qcTWN",
        "colab_type": "text"
      },
      "source": [
        "![alt text](https://drive.google.com/uc?id=13bn99cvosh7pq4MZgV5voh5dDL40ur9T)"
      ]
    },
    {
      "cell_type": "markdown",
      "metadata": {
        "id": "yrsXP4n79q3V",
        "colab_type": "text"
      },
      "source": [
        "## Coding time"
      ]
    },
    {
      "cell_type": "markdown",
      "metadata": {
        "id": "8F34ddHT9uf0",
        "colab_type": "text"
      },
      "source": [
        "### Positional Arguments"
      ]
    },
    {
      "cell_type": "code",
      "metadata": {
        "id": "SIrhs0dmRDze",
        "colab_type": "code",
        "colab": {}
      },
      "source": [
        "def my_func(a, b, c):\n",
        "    print(f\"a={a}, b={b}, c={c}\")"
      ],
      "execution_count": 0,
      "outputs": []
    },
    {
      "cell_type": "code",
      "metadata": {
        "id": "GGjQi54E9yON",
        "colab_type": "code",
        "colab": {
          "base_uri": "https://localhost:8080/",
          "height": 34
        },
        "outputId": "f8f75427-90a4-4cb0-c5b1-85e984709f7c"
      },
      "source": [
        "my_func(1, 2, 3)"
      ],
      "execution_count": 19,
      "outputs": [
        {
          "output_type": "stream",
          "text": [
            "a=1, b=2, c=3\n"
          ],
          "name": "stdout"
        }
      ]
    },
    {
      "cell_type": "markdown",
      "metadata": {
        "id": "jgPj1gEH91-Z",
        "colab_type": "text"
      },
      "source": [
        "#### Default Values"
      ]
    },
    {
      "cell_type": "code",
      "metadata": {
        "id": "rvZnpSIN9z0c",
        "colab_type": "code",
        "colab": {}
      },
      "source": [
        "def my_func(a, b=2, c=3):\n",
        "    print(f\"a={a}, b={b}, c={c}\")"
      ],
      "execution_count": 0,
      "outputs": []
    },
    {
      "cell_type": "markdown",
      "metadata": {
        "id": "XHCMzi9_95xR",
        "colab_type": "text"
      },
      "source": [
        "Note that once a parameter is assigned a default value, **all** parameters thereafter **must** be asigned a default value too!\n",
        "</br>\n",
        "For example, this will not work:"
      ]
    },
    {
      "cell_type": "code",
      "metadata": {
        "id": "_AFrAe6794lB",
        "colab_type": "code",
        "colab": {
          "base_uri": "https://localhost:8080/",
          "height": 129
        },
        "outputId": "ed86e88b-60fd-4422-94ce-82372cfd4218"
      },
      "source": [
        "def fn(a, b=2, c):\n",
        "    print(a, b, c)"
      ],
      "execution_count": 21,
      "outputs": [
        {
          "output_type": "error",
          "ename": "SyntaxError",
          "evalue": "ignored",
          "traceback": [
            "\u001b[0;36m  File \u001b[0;32m\"<ipython-input-21-535e50422129>\"\u001b[0;36m, line \u001b[0;32m1\u001b[0m\n\u001b[0;31m    def fn(a, b=2, c):\u001b[0m\n\u001b[0m          ^\u001b[0m\n\u001b[0;31mSyntaxError\u001b[0m\u001b[0;31m:\u001b[0m non-default argument follows default argument\n"
          ]
        }
      ]
    },
    {
      "cell_type": "code",
      "metadata": {
        "id": "lhCVxN7h-AtY",
        "colab_type": "code",
        "colab": {}
      },
      "source": [
        "def my_func(a, b=2, c=3)\n",
        "    print(f\"a={a}, b={b}, c={c}\")"
      ],
      "execution_count": 0,
      "outputs": []
    },
    {
      "cell_type": "code",
      "metadata": {
        "id": "fwdJMSDZ-BHk",
        "colab_type": "code",
        "colab": {
          "base_uri": "https://localhost:8080/",
          "height": 34
        },
        "outputId": "c719f93a-448a-448e-c477-d3e234f6883a"
      },
      "source": [
        "my_func(10, 20, 30)"
      ],
      "execution_count": 25,
      "outputs": [
        {
          "output_type": "stream",
          "text": [
            "a=10, b=20, c=30\n"
          ],
          "name": "stdout"
        }
      ]
    },
    {
      "cell_type": "code",
      "metadata": {
        "id": "9iKevbbR-Guq",
        "colab_type": "code",
        "colab": {
          "base_uri": "https://localhost:8080/",
          "height": 34
        },
        "outputId": "ba401350-915a-4070-cbd0-5e2eb07fa5b4"
      },
      "source": [
        "my_func(10, 20)"
      ],
      "execution_count": 26,
      "outputs": [
        {
          "output_type": "stream",
          "text": [
            "a=10, b=20, c=3\n"
          ],
          "name": "stdout"
        }
      ]
    },
    {
      "cell_type": "code",
      "metadata": {
        "id": "WzGEg6A4-Ibv",
        "colab_type": "code",
        "colab": {
          "base_uri": "https://localhost:8080/",
          "height": 34
        },
        "outputId": "6ea49d53-fdfb-4895-fb1c-4b5b81a2eff2"
      },
      "source": [
        "my_func(10)"
      ],
      "execution_count": 27,
      "outputs": [
        {
          "output_type": "stream",
          "text": [
            "a=10, b=2, c=3\n"
          ],
          "name": "stdout"
        }
      ]
    },
    {
      "cell_type": "markdown",
      "metadata": {
        "id": "bpHOPtiM-MVp",
        "colab_type": "text"
      },
      "source": [
        "Since **a** does not have a default value, it **must** be specified:"
      ]
    },
    {
      "cell_type": "code",
      "metadata": {
        "id": "BtxpybLzAAWH",
        "colab_type": "code",
        "colab": {}
      },
      "source": [
        "def my_func(a=1, b=2, c=3):\n",
        "    print(f\"a={a}, b={b}, c={c}\")"
      ],
      "execution_count": 0,
      "outputs": []
    },
    {
      "cell_type": "code",
      "metadata": {
        "id": "P90H2SUH-Kah",
        "colab_type": "code",
        "colab": {
          "base_uri": "https://localhost:8080/",
          "height": 34
        },
        "outputId": "34ee8ca1-977d-4ae3-f56f-f820e912bb09"
      },
      "source": [
        "my_func()"
      ],
      "execution_count": 33,
      "outputs": [
        {
          "output_type": "stream",
          "text": [
            "a=1, b=2, c=3\n"
          ],
          "name": "stdout"
        }
      ]
    },
    {
      "cell_type": "markdown",
      "metadata": {
        "id": "Twoa8rzQ-QaM",
        "colab_type": "text"
      },
      "source": [
        "#### Keyword Arguments (named arguments)"
      ]
    },
    {
      "cell_type": "markdown",
      "metadata": {
        "id": "aT_WQ-SB-S7h",
        "colab_type": "text"
      },
      "source": [
        "Positional arguments, can **optionally**, be specified using their corresponding parameter name.\n",
        "\n",
        "This allows us to pass the arguments without using the positional assignment:"
      ]
    },
    {
      "cell_type": "code",
      "metadata": {
        "id": "PJqhCu1_-OXk",
        "colab_type": "code",
        "colab": {}
      },
      "source": [
        "def my_func(a, b=2, c=3):\n",
        "    print(f\"a={a}, b={b}, c={c}\")"
      ],
      "execution_count": 0,
      "outputs": []
    },
    {
      "cell_type": "code",
      "metadata": {
        "id": "wJ1mAzif-Ubg",
        "colab_type": "code",
        "colab": {
          "base_uri": "https://localhost:8080/",
          "height": 34
        },
        "outputId": "06c78dfa-18fd-4438-f8cf-adc8570f757b"
      },
      "source": [
        "my_func(c=30, b=20, a=10)"
      ],
      "execution_count": 37,
      "outputs": [
        {
          "output_type": "stream",
          "text": [
            "a=10, b=20, c=30\n"
          ],
          "name": "stdout"
        }
      ]
    },
    {
      "cell_type": "code",
      "metadata": {
        "id": "32z6uB8i-Vd0",
        "colab_type": "code",
        "colab": {
          "base_uri": "https://localhost:8080/",
          "height": 34
        },
        "outputId": "93a62a52-33f1-4793-bc22-082dcdbcd6d5"
      },
      "source": [
        "my_func(10, c=30, b=20)"
      ],
      "execution_count": 12,
      "outputs": [
        {
          "output_type": "stream",
          "text": [
            "a=10, b=20, c=30\n"
          ],
          "name": "stdout"
        }
      ]
    },
    {
      "cell_type": "markdown",
      "metadata": {
        "id": "u7iAemI7-YlV",
        "colab_type": "text"
      },
      "source": [
        "Note that once a keyword argument has been used, **all** arguments thereafter **must** also be named:"
      ]
    },
    {
      "cell_type": "code",
      "metadata": {
        "id": "Xd56LPGs-WvO",
        "colab_type": "code",
        "colab": {
          "base_uri": "https://localhost:8080/",
          "height": 129
        },
        "outputId": "40f02fc6-c9c5-40bd-ace8-528f689c85fa"
      },
      "source": [
        "my_func(10, b=20, 30)"
      ],
      "execution_count": 38,
      "outputs": [
        {
          "output_type": "error",
          "ename": "SyntaxError",
          "evalue": "ignored",
          "traceback": [
            "\u001b[0;36m  File \u001b[0;32m\"<ipython-input-38-a114ab951de8>\"\u001b[0;36m, line \u001b[0;32m1\u001b[0m\n\u001b[0;31m    my_func(10, b=20, 30)\u001b[0m\n\u001b[0m                     ^\u001b[0m\n\u001b[0;31mSyntaxError\u001b[0m\u001b[0;31m:\u001b[0m positional argument follows keyword argument\n"
          ]
        }
      ]
    },
    {
      "cell_type": "markdown",
      "metadata": {
        "id": "Ykm3Hv7e-b8g",
        "colab_type": "text"
      },
      "source": [
        "However, if a parameter has a default value, it *can* be omitted from the argument list, named or not:"
      ]
    },
    {
      "cell_type": "code",
      "metadata": {
        "id": "ngEg0rF3-acv",
        "colab_type": "code",
        "colab": {
          "base_uri": "https://localhost:8080/",
          "height": 34
        },
        "outputId": "07777583-d46e-414c-9df3-06e5163d4ec2"
      },
      "source": [
        "my_func(10, c=30)"
      ],
      "execution_count": 39,
      "outputs": [
        {
          "output_type": "stream",
          "text": [
            "a=10, b=2, c=30\n"
          ],
          "name": "stdout"
        }
      ]
    },
    {
      "cell_type": "code",
      "metadata": {
        "id": "PD816hCQ-dkc",
        "colab_type": "code",
        "colab": {
          "base_uri": "https://localhost:8080/",
          "height": 34
        },
        "outputId": "34e746b8-9b52-48f8-8a79-bc596d9dda15"
      },
      "source": [
        "my_func(a=30, c=10)"
      ],
      "execution_count": 15,
      "outputs": [
        {
          "output_type": "stream",
          "text": [
            "a=30, b=2, c=10\n"
          ],
          "name": "stdout"
        }
      ]
    },
    {
      "cell_type": "code",
      "metadata": {
        "id": "WLVX6Vwg-ejx",
        "colab_type": "code",
        "colab": {
          "base_uri": "https://localhost:8080/",
          "height": 34
        },
        "outputId": "f383e113-70e7-4ec9-86bc-9b03c04a5cb0"
      },
      "source": [
        "my_func(c=10, a=30)"
      ],
      "execution_count": 16,
      "outputs": [
        {
          "output_type": "stream",
          "text": [
            "a=30, b=2, c=10\n"
          ],
          "name": "stdout"
        }
      ]
    },
    {
      "cell_type": "markdown",
      "metadata": {
        "id": "1yN3we7OCDV_",
        "colab_type": "text"
      },
      "source": [
        "# 3.UNPACKING: Iterables"
      ]
    },
    {
      "cell_type": "markdown",
      "metadata": {
        "id": "9JwX6AL8CDlE",
        "colab_type": "text"
      },
      "source": [
        "![alt text](https://drive.google.com/uc?id=1QnoOoq52Hmt8QKNfheVe0otIjQSx5wu1)"
      ]
    },
    {
      "cell_type": "markdown",
      "metadata": {
        "id": "sN2MNg7pCDrt",
        "colab_type": "text"
      },
      "source": [
        "![alt text](https://drive.google.com/uc?id=1vfUCx-aASJBl2f4q-cO9EFLGTUgvr7uH)"
      ]
    },
    {
      "cell_type": "markdown",
      "metadata": {
        "id": "sP44Xx1ECDyn",
        "colab_type": "text"
      },
      "source": [
        "![alt text](https://drive.google.com/uc?id=1cE7IcJZ8PGiefZy9uMDRC1WDz0KO6HEK)"
      ]
    },
    {
      "cell_type": "markdown",
      "metadata": {
        "id": "Htex0IkWCD6A",
        "colab_type": "text"
      },
      "source": [
        "![alt text](https://drive.google.com/uc?id=1eDahnGGOvCEJA89eqlw7pt70Awd-O-Um)"
      ]
    },
    {
      "cell_type": "markdown",
      "metadata": {
        "id": "NKTwNkPKCEBT",
        "colab_type": "text"
      },
      "source": [
        "![alt text](https://drive.google.com/uc?id=10GICEPgBZDs9-cyp-GMwif4dT6uPJvfW)"
      ]
    },
    {
      "cell_type": "markdown",
      "metadata": {
        "id": "cGjr0sBKCEKa",
        "colab_type": "text"
      },
      "source": [
        "![alt text](https://drive.google.com/uc?id=1LR0pmueadPXr7RpJ4CCnRA6vgu-TuWF0)"
      ]
    },
    {
      "cell_type": "markdown",
      "metadata": {
        "id": "MjcVGyAiCEyc",
        "colab_type": "text"
      },
      "source": [
        "![alt text](https://drive.google.com/uc?id=14AiuDje8wdznyTY_XtL4AiecdZd-x_Qe)"
      ]
    },
    {
      "cell_type": "code",
      "metadata": {
        "id": "yk2VYuZ_-fjm",
        "colab_type": "code",
        "colab": {}
      },
      "source": [
        ""
      ],
      "execution_count": 0,
      "outputs": []
    }
  ]
}