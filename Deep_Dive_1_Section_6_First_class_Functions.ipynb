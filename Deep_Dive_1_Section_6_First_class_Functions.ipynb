{
  "nbformat": 4,
  "nbformat_minor": 0,
  "metadata": {
    "colab": {
      "name": "Deep_Dive_1_Section_6_First_class_Functions.ipynb",
      "provenance": [],
      "authorship_tag": "ABX9TyOWdnaCaSarxl3ndwQHm7fI",
      "include_colab_link": true
    },
    "kernelspec": {
      "name": "python3",
      "display_name": "Python 3"
    }
  },
  "cells": [
    {
      "cell_type": "markdown",
      "metadata": {
        "id": "view-in-github",
        "colab_type": "text"
      },
      "source": [
        "<a href=\"https://colab.research.google.com/github/ValentinoVizner/Python_Deep_Dive_1/blob/master/Deep_Dive_1_Section_6_First_class_Functions.ipynb\" target=\"_parent\"><img src=\"https://colab.research.google.com/assets/colab-badge.svg\" alt=\"Open In Colab\"/></a>"
      ]
    },
    {
      "cell_type": "markdown",
      "metadata": {
        "id": "_Yw9TyS1hhwp",
        "colab_type": "text"
      },
      "source": [
        "# 1.Introduction to First Class-Functions"
      ]
    },
    {
      "cell_type": "markdown",
      "metadata": {
        "id": "SQnrpFtzhy9N",
        "colab_type": "text"
      },
      "source": [
        "![alt text](https://drive.google.com/uc?id=1gORWl_Sq0KEb11nNUrUj89O-XvRaRYwi)"
      ]
    },
    {
      "cell_type": "markdown",
      "metadata": {
        "id": "QcmmwQbcbGlz",
        "colab_type": "text"
      },
      "source": [
        "![alt text](https://drive.google.com/uc?id=12x9Am6nU_tCDPBAym0e0ct_aNZ5IKOfN)"
      ]
    },
    {
      "cell_type": "markdown",
      "metadata": {
        "id": "sxEKfhhVbI-N",
        "colab_type": "text"
      },
      "source": [
        "![alt text](https://drive.google.com/uc?id=1GrUyQWFCTtnAcM17_hK58Ni0f-IpbhSa)"
      ]
    },
    {
      "cell_type": "markdown",
      "metadata": {
        "id": "0kfTZRPfbUih",
        "colab_type": "text"
      },
      "source": [
        "# 2.DOCSTRING and Annotations"
      ]
    },
    {
      "cell_type": "markdown",
      "metadata": {
        "id": "VWDWOejFboWk",
        "colab_type": "text"
      },
      "source": [
        "![alt text](https://drive.google.com/uc?id=1VCQ47x7gqSmi2dAYv0awRbLhDYkG7VXn)"
      ]
    },
    {
      "cell_type": "markdown",
      "metadata": {
        "id": "2pQFWnpCbob3",
        "colab_type": "text"
      },
      "source": [
        "![alt text](https://drive.google.com/uc?id=1_-OAKkPpZShvWPFMR2AUNwmhuSguTjni)"
      ]
    },
    {
      "cell_type": "markdown",
      "metadata": {
        "id": "f-ACkQjobohC",
        "colab_type": "text"
      },
      "source": [
        "![alt text](https://drive.google.com/uc?id=1QyrfkJHHLa9z_fUDeEntM4mPWEu7oydZ)"
      ]
    },
    {
      "cell_type": "markdown",
      "metadata": {
        "id": "QE1XHXUhbolx",
        "colab_type": "text"
      },
      "source": [
        "![alt text](https://drive.google.com/uc?id=1Aq-IMjt5KchV2cdhpUKCgWM9yGG5xhDG)"
      ]
    },
    {
      "cell_type": "markdown",
      "metadata": {
        "id": "lMG_c1BsoHIA",
        "colab_type": "text"
      },
      "source": [
        "## CAUTION:\n",
        "Here in 3rd `def my_func()` that has `a repeated + str(max(x,y)) + times`\n",
        "</br>\n",
        "max(x, y) will be calculated only when we define the function, so when we define it we will get `a repeated 5 times` but when we call our function somewhere else in code, it wont change if we pass another pair of arguments to our function.\n",
        "</br>\n",
        "It will be evaluated ONCE!"
      ]
    },
    {
      "cell_type": "markdown",
      "metadata": {
        "id": "t5g0bEX6boqq",
        "colab_type": "text"
      },
      "source": [
        "![alt text](https://drive.google.com/uc?id=1h-En3lvaYfeMD-6nRRMX3rsnClTj1_TW)"
      ]
    },
    {
      "cell_type": "markdown",
      "metadata": {
        "id": "GGWAzqL9bovH",
        "colab_type": "text"
      },
      "source": [
        "![alt text](https://drive.google.com/uc?id=1QzkzIOB2NNDethymNcc49GaR-_e20kK6)"
      ]
    },
    {
      "cell_type": "markdown",
      "metadata": {
        "id": "I4Op1JUXboz4",
        "colab_type": "text"
      },
      "source": [
        "![alt text](https://drive.google.com/uc?id=1LzjarabIBcs7_2cbVMvZbyqPxnkGbbcQ)"
      ]
    },
    {
      "cell_type": "markdown",
      "metadata": {
        "id": "uNU57OyIfXtP",
        "colab_type": "text"
      },
      "source": [
        "## Coding Time"
      ]
    },
    {
      "cell_type": "markdown",
      "metadata": {
        "id": "GQIjgB9af7bH",
        "colab_type": "text"
      },
      "source": [
        "When we call **help()** on a class, function, module, etc, Python will typically display some information:"
      ]
    },
    {
      "cell_type": "code",
      "metadata": {
        "id": "wm1-YIUpbSFl",
        "colab_type": "code",
        "outputId": "07d1eb8b-8ce0-4aaa-954b-5513258a9735",
        "colab": {
          "base_uri": "https://localhost:8080/",
          "height": 221
        }
      },
      "source": [
        "help(print)"
      ],
      "execution_count": 0,
      "outputs": [
        {
          "output_type": "stream",
          "text": [
            "Help on built-in function print in module builtins:\n",
            "\n",
            "print(...)\n",
            "    print(value, ..., sep=' ', end='\\n', file=sys.stdout, flush=False)\n",
            "    \n",
            "    Prints the values to a stream, or to sys.stdout by default.\n",
            "    Optional keyword arguments:\n",
            "    file:  a file-like object (stream); defaults to the current sys.stdout.\n",
            "    sep:   string inserted between values, default a space.\n",
            "    end:   string appended after the last value, default a newline.\n",
            "    flush: whether to forcibly flush the stream.\n",
            "\n"
          ],
          "name": "stdout"
        }
      ]
    },
    {
      "cell_type": "markdown",
      "metadata": {
        "id": "T7b1mDNtgCoq",
        "colab_type": "text"
      },
      "source": [
        "We can define such help using docstrings and annotations."
      ]
    },
    {
      "cell_type": "code",
      "metadata": {
        "id": "Bb6So5RIgAKL",
        "colab_type": "code",
        "colab": {}
      },
      "source": [
        "def my_func(a, b):\n",
        "    return a*b"
      ],
      "execution_count": 0,
      "outputs": []
    },
    {
      "cell_type": "code",
      "metadata": {
        "id": "PltC4gLIgF4S",
        "colab_type": "code",
        "outputId": "e8baa105-1ef0-4755-b547-b17a046ab64f",
        "colab": {
          "base_uri": "https://localhost:8080/",
          "height": 85
        }
      },
      "source": [
        "help(my_func)"
      ],
      "execution_count": 0,
      "outputs": [
        {
          "output_type": "stream",
          "text": [
            "Help on function my_func in module __main__:\n",
            "\n",
            "my_func(a, b)\n",
            "\n"
          ],
          "name": "stdout"
        }
      ]
    },
    {
      "cell_type": "code",
      "metadata": {
        "id": "inyRH8CNgH7N",
        "colab_type": "code",
        "outputId": "73a09cfb-89db-4d0e-9892-34565ecd4c1d",
        "colab": {
          "base_uri": "https://localhost:8080/",
          "height": 102
        }
      },
      "source": [
        "def my_func(a, b):\n",
        "    'Returns the product of a and b'\n",
        "    return a*b\n",
        "\n",
        "help(my_func)"
      ],
      "execution_count": 0,
      "outputs": [
        {
          "output_type": "stream",
          "text": [
            "Help on function my_func in module __main__:\n",
            "\n",
            "my_func(a, b)\n",
            "    Returns the product of a and b\n",
            "\n"
          ],
          "name": "stdout"
        }
      ]
    },
    {
      "cell_type": "markdown",
      "metadata": {
        "id": "-YRHTLZugVBe",
        "colab_type": "text"
      },
      "source": [
        "Docstrings can span multiple lines using a multi-line string literal:"
      ]
    },
    {
      "cell_type": "code",
      "metadata": {
        "id": "etDEcqGPgQ3K",
        "colab_type": "code",
        "outputId": "8d1a9fee-4b33-41a7-d819-ec1e342a096b",
        "colab": {
          "base_uri": "https://localhost:8080/",
          "height": 221
        }
      },
      "source": [
        "def fact(n):\n",
        "    '''Calculates n! (factorial function)\n",
        "    \n",
        "    Inputs\n",
        "    ------\n",
        "        n: non-negative integer\n",
        "    Returns\n",
        "    -------\n",
        "        the factorial of n\n",
        "    '''\n",
        "    \n",
        "    if n < 0:\n",
        "        '''Note that this is not part of the docstring!'''\n",
        "        return 1\n",
        "    else:\n",
        "        return n * fact(n-1)\n",
        "    \n",
        "\n",
        "help(fact)"
      ],
      "execution_count": 0,
      "outputs": [
        {
          "output_type": "stream",
          "text": [
            "Help on function fact in module __main__:\n",
            "\n",
            "fact(n)\n",
            "    Calculates n! (factorial function)\n",
            "    \n",
            "    Inputs\n",
            "    ------\n",
            "        n: non-negative integer\n",
            "    Returns\n",
            "    -------\n",
            "        the factorial of n\n",
            "\n"
          ],
          "name": "stdout"
        }
      ]
    },
    {
      "cell_type": "markdown",
      "metadata": {
        "id": "bxmORuJjglwE",
        "colab_type": "text"
      },
      "source": [
        "Docstrings, when found, are simply attached to the function in the `__doc__` property:"
      ]
    },
    {
      "cell_type": "code",
      "metadata": {
        "id": "-sPdaf_Fgc09",
        "colab_type": "code",
        "outputId": "e88d08be-b0e7-4127-f494-ae1b81becf75",
        "colab": {
          "base_uri": "https://localhost:8080/",
          "height": 54
        }
      },
      "source": [
        "fact.__doc__"
      ],
      "execution_count": 0,
      "outputs": [
        {
          "output_type": "execute_result",
          "data": {
            "text/plain": [
              "'Calculates n! (factorial function)\\n    \\n    Inputs\\n    ------\\n        n: non-negative integer\\n    Returns\\n    -------\\n        the factorial of n\\n    '"
            ]
          },
          "metadata": {
            "tags": []
          },
          "execution_count": 21
        }
      ]
    },
    {
      "cell_type": "markdown",
      "metadata": {
        "id": "-mLWRNr6grdh",
        "colab_type": "text"
      },
      "source": [
        "And the Python **help()** function simply returns the contents of `__doc__`"
      ]
    },
    {
      "cell_type": "markdown",
      "metadata": {
        "id": "AcYXRwSTg_Li",
        "colab_type": "text"
      },
      "source": [
        "### Annotations"
      ]
    },
    {
      "cell_type": "markdown",
      "metadata": {
        "id": "Pmc5gRt9hE6o",
        "colab_type": "text"
      },
      "source": [
        "We can also add metadata annotations to a function's parameters and return. These metadata annotations can be any **expression** (string, type, function call, etc)"
      ]
    },
    {
      "cell_type": "code",
      "metadata": {
        "id": "CN_wAsGmgol1",
        "colab_type": "code",
        "outputId": "0debb7f3-6349-4824-f3f7-fd9bf3ad6868",
        "colab": {
          "base_uri": "https://localhost:8080/",
          "height": 85
        }
      },
      "source": [
        "def my_func(a:'annotation for a', \n",
        "            b:'annotation for b')->'annotation for return':\n",
        "    \n",
        "    return a*b\n",
        "\n",
        "help(my_func)"
      ],
      "execution_count": 0,
      "outputs": [
        {
          "output_type": "stream",
          "text": [
            "Help on function my_func in module __main__:\n",
            "\n",
            "my_func(a:'annotation for a', b:'annotation for b') -> 'annotation for return'\n",
            "\n"
          ],
          "name": "stdout"
        }
      ]
    },
    {
      "cell_type": "markdown",
      "metadata": {
        "id": "H52tNqCij6z-",
        "colab_type": "text"
      },
      "source": [
        "The annotations can be any expression, not just strings:"
      ]
    },
    {
      "cell_type": "code",
      "metadata": {
        "id": "KOqwjppOj3lu",
        "colab_type": "code",
        "outputId": "cb4cf079-9756-4184-8f72-049106948cf0",
        "colab": {
          "base_uri": "https://localhost:8080/",
          "height": 85
        }
      },
      "source": [
        "x = 3\n",
        "y = 5\n",
        "def my_func(a: str) -> 'a repeated ' + str(max(3, 5)) + ' times':\n",
        "\treturn a*max(x, y)\n",
        "help(my_func)"
      ],
      "execution_count": 0,
      "outputs": [
        {
          "output_type": "stream",
          "text": [
            "Help on function my_func in module __main__:\n",
            "\n",
            "my_func(a:str) -> 'a repeated 5 times'\n",
            "\n"
          ],
          "name": "stdout"
        }
      ]
    },
    {
      "cell_type": "markdown",
      "metadata": {
        "id": "h7VGV-6mkOgM",
        "colab_type": "text"
      },
      "source": [
        "Note that these annotations do **not** force a type on the parameters or the return value - they are simply there for documentation purposes within Python and **may** be used by external applications and modules, such as IDE's.\n",
        "</br>\n",
        "</br>\n",
        "Just like docstrings are stored in the `__doc__` property, annotations are stored in the `__annotations__` property - a dictionary whose keys are the parameter names, and values are the annotation."
      ]
    },
    {
      "cell_type": "code",
      "metadata": {
        "id": "veHSUQj3kKUA",
        "colab_type": "code",
        "outputId": "83057f2e-fa6b-49ff-d3b2-3b5320539945",
        "colab": {
          "base_uri": "https://localhost:8080/",
          "height": 34
        }
      },
      "source": [
        "my_func.__annotations__"
      ],
      "execution_count": 0,
      "outputs": [
        {
          "output_type": "execute_result",
          "data": {
            "text/plain": [
              "{'a': str, 'return': 'a repeated 5 times'}"
            ]
          },
          "metadata": {
            "tags": []
          },
          "execution_count": 10
        }
      ]
    },
    {
      "cell_type": "markdown",
      "metadata": {
        "id": "lM6ZWca6keXV",
        "colab_type": "text"
      },
      "source": [
        "Of course we can combine both docstrings and annotations:"
      ]
    },
    {
      "cell_type": "code",
      "metadata": {
        "id": "4suVtkbSkaiO",
        "colab_type": "code",
        "outputId": "3f946221-58cb-4612-afac-a34470b0b7ca",
        "colab": {
          "base_uri": "https://localhost:8080/",
          "height": 187
        }
      },
      "source": [
        "def fact(n: 'int >= 0')->int:\n",
        "    '''Calculates n! (factorial function)\n",
        "    \n",
        "    Inputs:\n",
        "        n: non-negative integer\n",
        "    Returns:\n",
        "        the factorial of n\n",
        "    '''\n",
        "    \n",
        "    if n < 0:\n",
        "        '''Note that this is not part of the docstring!'''\n",
        "        return 1\n",
        "    else:\n",
        "        return n * fact(n-1)\n",
        "\n",
        "help(fact)"
      ],
      "execution_count": 0,
      "outputs": [
        {
          "output_type": "stream",
          "text": [
            "Help on function fact in module __main__:\n",
            "\n",
            "fact(n:'int >= 0') -> int\n",
            "    Calculates n! (factorial function)\n",
            "    \n",
            "    Inputs:\n",
            "        n: non-negative integer\n",
            "    Returns:\n",
            "        the factorial of n\n",
            "\n"
          ],
          "name": "stdout"
        }
      ]
    },
    {
      "cell_type": "markdown",
      "metadata": {
        "id": "O7u15tEskm0I",
        "colab_type": "text"
      },
      "source": [
        "Annotations will work with default parameters too: just specify the default **after** the annotation:"
      ]
    },
    {
      "cell_type": "code",
      "metadata": {
        "id": "K47_mUD_kgQg",
        "colab_type": "code",
        "outputId": "13f521c3-8412-464b-806f-30abb84c40db",
        "colab": {
          "base_uri": "https://localhost:8080/",
          "height": 85
        }
      },
      "source": [
        "def my_func(a:str='a', b:int=1)->str:\n",
        "    return a*b\n",
        "\n",
        "help(my_func)"
      ],
      "execution_count": 0,
      "outputs": [
        {
          "output_type": "stream",
          "text": [
            "Help on function my_func in module __main__:\n",
            "\n",
            "my_func(a:str='a', b:int=1) -> str\n",
            "\n"
          ],
          "name": "stdout"
        }
      ]
    },
    {
      "cell_type": "code",
      "metadata": {
        "id": "l94_BinPkkvp",
        "colab_type": "code",
        "outputId": "3944797a-f178-4a8a-98be-a3f2e72ca61a",
        "colab": {
          "base_uri": "https://localhost:8080/",
          "height": 34
        }
      },
      "source": [
        "my_func()"
      ],
      "execution_count": 0,
      "outputs": [
        {
          "output_type": "execute_result",
          "data": {
            "text/plain": [
              "'a'"
            ]
          },
          "metadata": {
            "tags": []
          },
          "execution_count": 16
        }
      ]
    },
    {
      "cell_type": "code",
      "metadata": {
        "id": "wPJYPwk4kxZu",
        "colab_type": "code",
        "outputId": "cf2868c5-7792-43f2-da09-d34f75a9bfa0",
        "colab": {
          "base_uri": "https://localhost:8080/",
          "height": 34
        }
      },
      "source": [
        "my_func('abc', 3)"
      ],
      "execution_count": 0,
      "outputs": [
        {
          "output_type": "execute_result",
          "data": {
            "text/plain": [
              "'abcabcabc'"
            ]
          },
          "metadata": {
            "tags": []
          },
          "execution_count": 17
        }
      ]
    },
    {
      "cell_type": "code",
      "metadata": {
        "id": "w3eJcJDGkzDK",
        "colab_type": "code",
        "outputId": "0541c7ce-1a83-4a19-aa21-d2925c639649",
        "colab": {
          "base_uri": "https://localhost:8080/",
          "height": 85
        }
      },
      "source": [
        "def my_func(a:int=0, *args:'additional args'):\n",
        "    print(a, args)\n",
        "\n",
        "help(my_func)"
      ],
      "execution_count": 0,
      "outputs": [
        {
          "output_type": "stream",
          "text": [
            "Help on function my_func in module __main__:\n",
            "\n",
            "my_func(a:int=0, *args:'additional args')\n",
            "\n"
          ],
          "name": "stdout"
        }
      ]
    },
    {
      "cell_type": "code",
      "metadata": {
        "id": "gVb4NLd6k3BJ",
        "colab_type": "code",
        "outputId": "1e268ba6-8a39-47e6-9321-5f6231b868a6",
        "colab": {
          "base_uri": "https://localhost:8080/",
          "height": 34
        }
      },
      "source": [
        "my_func.__annotations__"
      ],
      "execution_count": 0,
      "outputs": [
        {
          "output_type": "execute_result",
          "data": {
            "text/plain": [
              "{'a': int, 'args': 'additional args'}"
            ]
          },
          "metadata": {
            "tags": []
          },
          "execution_count": 19
        }
      ]
    },
    {
      "cell_type": "code",
      "metadata": {
        "id": "t539Sj9Hk5CE",
        "colab_type": "code",
        "colab": {}
      },
      "source": [
        "def my_func(a: str,\n",
        "            b: 'int > 0' = 1,\n",
        "            *args: 'some extra positional args',\n",
        "            k1: 'keyword-only arg 1',\n",
        "            k2: 'keyword-only arg 2' = 100,\n",
        "            **kwargs: 'some extra keyword-only args') -> 'something':\n",
        "            print(a, b, args, k1, k2, kwargs)"
      ],
      "execution_count": 0,
      "outputs": []
    },
    {
      "cell_type": "code",
      "metadata": {
        "id": "5VGtbL-1zugp",
        "colab_type": "code",
        "outputId": "eb8a678e-89f5-40f0-81eb-fc9752101662",
        "colab": {
          "base_uri": "https://localhost:8080/",
          "height": 105
        }
      },
      "source": [
        "help(my_func)"
      ],
      "execution_count": 0,
      "outputs": [
        {
          "output_type": "stream",
          "text": [
            "Help on function my_func in module __main__:\n",
            "\n",
            "my_func(a:str, b:'int > 0'=1, *args:'some extra positional args', k1:'keyword-only arg 1', k2:'keyword-only arg 2'=100, **kwargs:'some extra keyword-only args') -> 'something'\n",
            "\n"
          ],
          "name": "stdout"
        }
      ]
    },
    {
      "cell_type": "code",
      "metadata": {
        "id": "slEIPtvhzy99",
        "colab_type": "code",
        "outputId": "7b1696aa-82f9-4a56-f15c-7e6522cf240a",
        "colab": {
          "base_uri": "https://localhost:8080/",
          "height": 136
        }
      },
      "source": [
        "my_func.__annotations__"
      ],
      "execution_count": 0,
      "outputs": [
        {
          "output_type": "execute_result",
          "data": {
            "text/plain": [
              "{'a': str,\n",
              " 'args': 'some extra positional args',\n",
              " 'b': 'int > 0',\n",
              " 'k1': 'keyword-only arg 1',\n",
              " 'k2': 'keyword-only arg 2',\n",
              " 'kwargs': 'some extra keyword-only args',\n",
              " 'return': 'something'}"
            ]
          },
          "metadata": {
            "tags": []
          },
          "execution_count": 3
        }
      ]
    },
    {
      "cell_type": "code",
      "metadata": {
        "id": "rKalyEnkz2dw",
        "colab_type": "code",
        "outputId": "bfcc01eb-b7e2-42a6-fb77-b473828947d6",
        "colab": {
          "base_uri": "https://localhost:8080/",
          "height": 34
        }
      },
      "source": [
        "my_func(1, 2, 3, 4, 55, k1=10, k3=300, k4=600, kakoTo=20202)"
      ],
      "execution_count": 0,
      "outputs": [
        {
          "output_type": "stream",
          "text": [
            "1 2 (3, 4, 55) 10 100 {'k3': 300, 'k4': 600, 'kakoTo': 20202}\n"
          ],
          "name": "stdout"
        }
      ]
    },
    {
      "cell_type": "markdown",
      "metadata": {
        "id": "HHxEnwtJ0Gpb",
        "colab_type": "text"
      },
      "source": [
        "# 3.Lambda Expressions"
      ]
    },
    {
      "cell_type": "markdown",
      "metadata": {
        "id": "jsXTBcp20Lr5",
        "colab_type": "text"
      },
      "source": [
        "![alt text](https://drive.google.com/uc?id=1nQMQAeoI1rbtJtwOUYPN4KUrcLIEH90A)"
      ]
    },
    {
      "cell_type": "markdown",
      "metadata": {
        "id": "WJ7GZhYG0L1g",
        "colab_type": "text"
      },
      "source": [
        "![alt text](https://drive.google.com/uc?id=1FLi5EZfbkDZKnNL9G3Az8IPSuwszJKN1)"
      ]
    },
    {
      "cell_type": "markdown",
      "metadata": {
        "id": "Tja6N9qA1FWf",
        "colab_type": "text"
      },
      "source": [
        "![alt text](https://drive.google.com/uc?id=1XOx69Tt5ZE7zePfk7jv7w293Fd_P0Fsr)"
      ]
    },
    {
      "cell_type": "markdown",
      "metadata": {
        "id": "GYJuLW_31Ffh",
        "colab_type": "text"
      },
      "source": [
        "![alt text](https://drive.google.com/uc?id=14KxubRSxb3BDANuIO0kEJAD3vnzupXeW)"
      ]
    },
    {
      "cell_type": "markdown",
      "metadata": {
        "id": "VRGk_FtS1GWz",
        "colab_type": "text"
      },
      "source": [
        "![alt text](https://drive.google.com/uc?id=143EHD1rWCnnbUzMyYxfz3u5WHAiQXa-I)"
      ]
    },
    {
      "cell_type": "markdown",
      "metadata": {
        "id": "JMZN3Ua9G3e4",
        "colab_type": "text"
      },
      "source": [
        "## Coding time"
      ]
    },
    {
      "cell_type": "code",
      "metadata": {
        "id": "QeAJ2Pnr0BjV",
        "colab_type": "code",
        "colab": {
          "base_uri": "https://localhost:8080/",
          "height": 34
        },
        "outputId": "4c82ebc2-ac74-4d29-b8ae-696323bfca3b"
      },
      "source": [
        "lambda x: x**2"
      ],
      "execution_count": 1,
      "outputs": [
        {
          "output_type": "execute_result",
          "data": {
            "text/plain": [
              "<function __main__.<lambda>>"
            ]
          },
          "metadata": {
            "tags": []
          },
          "execution_count": 1
        }
      ]
    },
    {
      "cell_type": "markdown",
      "metadata": {
        "id": "l90nfO2zHfnt",
        "colab_type": "text"
      },
      "source": [
        "As you can see, the above expression just created a function."
      ]
    },
    {
      "cell_type": "markdown",
      "metadata": {
        "id": "0tb8U1_aHlHF",
        "colab_type": "text"
      },
      "source": [
        "### Assigning to a Variable"
      ]
    },
    {
      "cell_type": "code",
      "metadata": {
        "id": "ZoduGQ58HbM8",
        "colab_type": "code",
        "colab": {}
      },
      "source": [
        "func = lambda x: x**2"
      ],
      "execution_count": 0,
      "outputs": []
    },
    {
      "cell_type": "code",
      "metadata": {
        "id": "K2QF8ozIHyXx",
        "colab_type": "code",
        "colab": {
          "base_uri": "https://localhost:8080/",
          "height": 34
        },
        "outputId": "701379a7-1996-41f0-f853-9f4b1ede41c2"
      },
      "source": [
        "type(func)"
      ],
      "execution_count": 4,
      "outputs": [
        {
          "output_type": "execute_result",
          "data": {
            "text/plain": [
              "function"
            ]
          },
          "metadata": {
            "tags": []
          },
          "execution_count": 4
        }
      ]
    },
    {
      "cell_type": "code",
      "metadata": {
        "id": "YxjTy1BaH0Tn",
        "colab_type": "code",
        "colab": {
          "base_uri": "https://localhost:8080/",
          "height": 34
        },
        "outputId": "8ef6e34c-77a5-4fd7-f6b0-c94acafe351b"
      },
      "source": [
        "func(3)"
      ],
      "execution_count": 5,
      "outputs": [
        {
          "output_type": "execute_result",
          "data": {
            "text/plain": [
              "9"
            ]
          },
          "metadata": {
            "tags": []
          },
          "execution_count": 5
        }
      ]
    },
    {
      "cell_type": "markdown",
      "metadata": {
        "id": "G5G10kCPIDi0",
        "colab_type": "text"
      },
      "source": [
        "We can specify arguments for lambdas just like we would for any function created using **def**, except for annotations:"
      ]
    },
    {
      "cell_type": "code",
      "metadata": {
        "id": "IhV0en7DH-bZ",
        "colab_type": "code",
        "colab": {}
      },
      "source": [
        "func_1 = lambda x, y=10: (x, y)"
      ],
      "execution_count": 0,
      "outputs": []
    },
    {
      "cell_type": "code",
      "metadata": {
        "id": "DG5-6uuYIJsy",
        "colab_type": "code",
        "colab": {
          "base_uri": "https://localhost:8080/",
          "height": 34
        },
        "outputId": "79866642-038b-48d2-de4a-ca1deaee1d68"
      },
      "source": [
        "func_1(1, 2)"
      ],
      "execution_count": 7,
      "outputs": [
        {
          "output_type": "execute_result",
          "data": {
            "text/plain": [
              "(1, 2)"
            ]
          },
          "metadata": {
            "tags": []
          },
          "execution_count": 7
        }
      ]
    },
    {
      "cell_type": "code",
      "metadata": {
        "id": "85eerxQvIL29",
        "colab_type": "code",
        "colab": {
          "base_uri": "https://localhost:8080/",
          "height": 34
        },
        "outputId": "e16207d2-6f8d-433a-af08-5204ae1ee04a"
      },
      "source": [
        "func_1(1)"
      ],
      "execution_count": 8,
      "outputs": [
        {
          "output_type": "execute_result",
          "data": {
            "text/plain": [
              "(1, 10)"
            ]
          },
          "metadata": {
            "tags": []
          },
          "execution_count": 8
        }
      ]
    },
    {
      "cell_type": "markdown",
      "metadata": {
        "id": "cfvahN5EIZI0",
        "colab_type": "text"
      },
      "source": [
        "We can even use \\* and \\*\\*:"
      ]
    },
    {
      "cell_type": "code",
      "metadata": {
        "id": "HAASADdpIUKC",
        "colab_type": "code",
        "colab": {}
      },
      "source": [
        "func_2 = lambda x, *args, y, **kwargs: (x, *args, y, {**kwargs})"
      ],
      "execution_count": 0,
      "outputs": []
    },
    {
      "cell_type": "code",
      "metadata": {
        "id": "9pVvcVMiIbej",
        "colab_type": "code",
        "colab": {
          "base_uri": "https://localhost:8080/",
          "height": 34
        },
        "outputId": "efaabe26-6dd0-4d7f-b7b8-542d6adcf73b"
      },
      "source": [
        "func_2(1, 'a', 'b', y=100, a=10, b=20)"
      ],
      "execution_count": 10,
      "outputs": [
        {
          "output_type": "execute_result",
          "data": {
            "text/plain": [
              "(1, 'a', 'b', 100, {'a': 10, 'b': 20})"
            ]
          },
          "metadata": {
            "tags": []
          },
          "execution_count": 10
        }
      ]
    },
    {
      "cell_type": "markdown",
      "metadata": {
        "id": "e9FCDKLdIgWW",
        "colab_type": "text"
      },
      "source": [
        "### Passing as an Argument"
      ]
    },
    {
      "cell_type": "markdown",
      "metadata": {
        "id": "DTIQ4OIAIjt8",
        "colab_type": "text"
      },
      "source": [
        "Lambdas are functions, and can therefore be passed to any other function as an argument (or returned from another function)"
      ]
    },
    {
      "cell_type": "code",
      "metadata": {
        "id": "hc_K2fJ1IdRN",
        "colab_type": "code",
        "colab": {}
      },
      "source": [
        "def apply_func(x, fn):\n",
        "    return fn(x)"
      ],
      "execution_count": 0,
      "outputs": []
    },
    {
      "cell_type": "code",
      "metadata": {
        "id": "r2pQ36YSIm1m",
        "colab_type": "code",
        "colab": {
          "base_uri": "https://localhost:8080/",
          "height": 34
        },
        "outputId": "36518c0e-bab7-4c9b-9352-058711558261"
      },
      "source": [
        "apply_func(3, lambda x: x**2)"
      ],
      "execution_count": 12,
      "outputs": [
        {
          "output_type": "execute_result",
          "data": {
            "text/plain": [
              "9"
            ]
          },
          "metadata": {
            "tags": []
          },
          "execution_count": 12
        }
      ]
    },
    {
      "cell_type": "code",
      "metadata": {
        "id": "XBG3DqOmIpIg",
        "colab_type": "code",
        "colab": {
          "base_uri": "https://localhost:8080/",
          "height": 34
        },
        "outputId": "5e2ea1e1-6150-4f87-854c-65c81a650704"
      },
      "source": [
        "apply_func(3, lambda x: x**3)"
      ],
      "execution_count": 13,
      "outputs": [
        {
          "output_type": "execute_result",
          "data": {
            "text/plain": [
              "27"
            ]
          },
          "metadata": {
            "tags": []
          },
          "execution_count": 13
        }
      ]
    },
    {
      "cell_type": "markdown",
      "metadata": {
        "id": "UwsLC4wpI4l9",
        "colab_type": "text"
      },
      "source": [
        "Of course we can make this even more generic:"
      ]
    },
    {
      "cell_type": "code",
      "metadata": {
        "id": "v6Ncbd1BIrA7",
        "colab_type": "code",
        "colab": {
          "base_uri": "https://localhost:8080/",
          "height": 34
        },
        "outputId": "e8ed682e-26c4-46d2-e246-3d0333ea9230"
      },
      "source": [
        "def apply_func(fn, *args, **kwargs):\n",
        "    return fn(*args, **kwargs)\n",
        "\n",
        "apply_func(lambda x, y: x+y, 1, 2)"
      ],
      "execution_count": 14,
      "outputs": [
        {
          "output_type": "execute_result",
          "data": {
            "text/plain": [
              "3"
            ]
          },
          "metadata": {
            "tags": []
          },
          "execution_count": 14
        }
      ]
    },
    {
      "cell_type": "code",
      "metadata": {
        "id": "Da__EEhUI8iI",
        "colab_type": "code",
        "colab": {
          "base_uri": "https://localhost:8080/",
          "height": 34
        },
        "outputId": "823ec707-7e6a-45cb-bde8-d19e39ac7b02"
      },
      "source": [
        "apply_func(lambda x, *, y: x+y, 1, y=2)"
      ],
      "execution_count": 15,
      "outputs": [
        {
          "output_type": "execute_result",
          "data": {
            "text/plain": [
              "3"
            ]
          },
          "metadata": {
            "tags": []
          },
          "execution_count": 15
        }
      ]
    },
    {
      "cell_type": "code",
      "metadata": {
        "id": "WknWTVTwI_D6",
        "colab_type": "code",
        "colab": {
          "base_uri": "https://localhost:8080/",
          "height": 34
        },
        "outputId": "faa74b4b-8f68-45c7-aefd-3aa58238cfd2"
      },
      "source": [
        "apply_func(lambda *args: sum(args), 1, 2, 3, 4, 5)"
      ],
      "execution_count": 16,
      "outputs": [
        {
          "output_type": "execute_result",
          "data": {
            "text/plain": [
              "15"
            ]
          },
          "metadata": {
            "tags": []
          },
          "execution_count": 16
        }
      ]
    },
    {
      "cell_type": "markdown",
      "metadata": {
        "id": "xYcarznDJCxy",
        "colab_type": "text"
      },
      "source": [
        "Of course in the example above, we really did not need to create a lambda!"
      ]
    },
    {
      "cell_type": "code",
      "metadata": {
        "id": "zc5EHvg3JAw2",
        "colab_type": "code",
        "colab": {
          "base_uri": "https://localhost:8080/",
          "height": 34
        },
        "outputId": "15755765-6082-4fed-e71e-c7c019a78130"
      },
      "source": [
        "apply_func(sum, (1, 2, 3, 4, 5))"
      ],
      "execution_count": 17,
      "outputs": [
        {
          "output_type": "execute_result",
          "data": {
            "text/plain": [
              "15"
            ]
          },
          "metadata": {
            "tags": []
          },
          "execution_count": 17
        }
      ]
    },
    {
      "cell_type": "markdown",
      "metadata": {
        "id": "7Hrd9wfgJGuY",
        "colab_type": "text"
      },
      "source": [
        "Of course, we don't have to use lambdas when calling **apply_func**, we can also pass in a function defined using a **def** statement:"
      ]
    },
    {
      "cell_type": "code",
      "metadata": {
        "id": "jHYZa8auJE53",
        "colab_type": "code",
        "colab": {
          "base_uri": "https://localhost:8080/",
          "height": 34
        },
        "outputId": "b6842266-b215-4c72-c4fe-709b8acd5ab7"
      },
      "source": [
        "def multiply(x, y):\n",
        "    return x * y\n",
        "\n",
        "apply_func(multiply, 'a', 5)"
      ],
      "execution_count": 18,
      "outputs": [
        {
          "output_type": "execute_result",
          "data": {
            "text/plain": [
              "'aaaaa'"
            ]
          },
          "metadata": {
            "tags": []
          },
          "execution_count": 18
        }
      ]
    },
    {
      "cell_type": "code",
      "metadata": {
        "id": "3arbuxddJMAj",
        "colab_type": "code",
        "colab": {
          "base_uri": "https://localhost:8080/",
          "height": 34
        },
        "outputId": "97e95438-7155-4e8f-f6f8-9fc0befa377b"
      },
      "source": [
        "apply_func(lambda x, y: x*y, 'a', 5)"
      ],
      "execution_count": 19,
      "outputs": [
        {
          "output_type": "execute_result",
          "data": {
            "text/plain": [
              "'aaaaa'"
            ]
          },
          "metadata": {
            "tags": []
          },
          "execution_count": 19
        }
      ]
    },
    {
      "cell_type": "code",
      "metadata": {
        "id": "gYnn1eeRJORp",
        "colab_type": "code",
        "colab": {}
      },
      "source": [
        ""
      ],
      "execution_count": 0,
      "outputs": []
    }
  ]
}