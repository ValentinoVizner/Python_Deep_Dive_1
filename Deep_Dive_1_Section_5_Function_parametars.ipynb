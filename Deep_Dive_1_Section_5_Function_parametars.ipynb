{
  "nbformat": 4,
  "nbformat_minor": 0,
  "metadata": {
    "colab": {
      "name": "Deep_Dive_1_Section_5_Function_parametars.ipynb",
      "provenance": [],
      "authorship_tag": "ABX9TyNH+abU3seDW4NaqKE9TIA4",
      "include_colab_link": true
    },
    "kernelspec": {
      "name": "python3",
      "display_name": "Python 3"
    },
    "accelerator": "TPU"
  },
  "cells": [
    {
      "cell_type": "markdown",
      "metadata": {
        "id": "view-in-github",
        "colab_type": "text"
      },
      "source": [
        "<a href=\"https://colab.research.google.com/github/ValentinoVizner/Python_Deep_Dive_1/blob/master/Deep_Dive_1_Section_5_Function_parametars.ipynb\" target=\"_parent\"><img src=\"https://colab.research.google.com/assets/colab-badge.svg\" alt=\"Open In Colab\"/></a>"
      ]
    },
    {
      "cell_type": "markdown",
      "metadata": {
        "id": "xBKaQo9wRbM1",
        "colab_type": "text"
      },
      "source": [
        "![alt text](https://drive.google.com/uc?id=1RktVu4GrxabjIrG9nWrKUGeIsrDnN4yd)"
      ]
    },
    {
      "cell_type": "markdown",
      "metadata": {
        "id": "kuk5BcN5Rqfn",
        "colab_type": "text"
      },
      "source": [
        "# 1.Argument vs Parameter"
      ]
    },
    {
      "cell_type": "markdown",
      "metadata": {
        "id": "AgQ4I30qRwZu",
        "colab_type": "text"
      },
      "source": [
        "![alt text](https://drive.google.com/uc?id=1NRveo14B4MwIZcY4UoEPgJql9ChIwzD1)"
      ]
    },
    {
      "cell_type": "markdown",
      "metadata": {
        "id": "NfSSFHP_SGgh",
        "colab_type": "text"
      },
      "source": [
        "![alt text](https://drive.google.com/uc?id=1ZYxTcrUlfAcg2fownZCZAA4KsDHB8Zzf)"
      ]
    },
    {
      "cell_type": "markdown",
      "metadata": {
        "id": "95zaBJffcHfN",
        "colab_type": "text"
      },
      "source": [
        "# 2.POSITIONAL and KEYWORD arguments"
      ]
    },
    {
      "cell_type": "markdown",
      "metadata": {
        "id": "2PscHSfMcTL_",
        "colab_type": "text"
      },
      "source": [
        "![alt text](https://drive.google.com/uc?id=1rUpU4LL_m9G6yv9gD19jwLoliMmWWUL8)"
      ]
    },
    {
      "cell_type": "markdown",
      "metadata": {
        "id": "IswwLyH-cTPe",
        "colab_type": "text"
      },
      "source": [
        "![alt text](https://drive.google.com/uc?id=1aPsOA2RyaDxwdZNZ86PvTbaZq6Satx_I)"
      ]
    },
    {
      "cell_type": "markdown",
      "metadata": {
        "id": "uLNpoOggcTS1",
        "colab_type": "text"
      },
      "source": [
        "![alt text](https://drive.google.com/uc?id=1ec8w9hzR4paeTlUZz-iaqmtF-Widn0xg)"
      ]
    },
    {
      "cell_type": "markdown",
      "metadata": {
        "id": "K8ryUVl5co8d",
        "colab_type": "text"
      },
      "source": [
        "![alt text](https://drive.google.com/uc?id=18J9C5mIyMw4hZhwmyTrYL2i9MhToW6AJ)"
      ]
    },
    {
      "cell_type": "markdown",
      "metadata": {
        "id": "skCSnS-qcTWN",
        "colab_type": "text"
      },
      "source": [
        "![alt text](https://drive.google.com/uc?id=13bn99cvosh7pq4MZgV5voh5dDL40ur9T)"
      ]
    },
    {
      "cell_type": "markdown",
      "metadata": {
        "id": "yrsXP4n79q3V",
        "colab_type": "text"
      },
      "source": [
        "## Coding time"
      ]
    },
    {
      "cell_type": "markdown",
      "metadata": {
        "id": "8F34ddHT9uf0",
        "colab_type": "text"
      },
      "source": [
        "### Positional Arguments"
      ]
    },
    {
      "cell_type": "code",
      "metadata": {
        "id": "SIrhs0dmRDze",
        "colab_type": "code",
        "colab": {}
      },
      "source": [
        "def my_func(a, b, c):\n",
        "    print(f\"a={a}, b={b}, c={c}\")"
      ],
      "execution_count": 0,
      "outputs": []
    },
    {
      "cell_type": "code",
      "metadata": {
        "id": "GGjQi54E9yON",
        "colab_type": "code",
        "outputId": "84d28a58-d15d-4564-bb6e-b90a236021c7",
        "colab": {
          "base_uri": "https://localhost:8080/",
          "height": 34
        }
      },
      "source": [
        "my_func(1, 2, 3)"
      ],
      "execution_count": 0,
      "outputs": [
        {
          "output_type": "stream",
          "text": [
            "a=1, b=2, c=3\n"
          ],
          "name": "stdout"
        }
      ]
    },
    {
      "cell_type": "markdown",
      "metadata": {
        "id": "jgPj1gEH91-Z",
        "colab_type": "text"
      },
      "source": [
        "#### Default Values"
      ]
    },
    {
      "cell_type": "code",
      "metadata": {
        "id": "rvZnpSIN9z0c",
        "colab_type": "code",
        "colab": {}
      },
      "source": [
        "def my_func(a, b=2, c=3):\n",
        "    print(f\"a={a}, b={b}, c={c}\")"
      ],
      "execution_count": 0,
      "outputs": []
    },
    {
      "cell_type": "markdown",
      "metadata": {
        "id": "XHCMzi9_95xR",
        "colab_type": "text"
      },
      "source": [
        "Note that once a parameter is assigned a default value, **all** parameters thereafter **must** be asigned a default value too!\n",
        "</br>\n",
        "For example, this will not work:"
      ]
    },
    {
      "cell_type": "code",
      "metadata": {
        "id": "_AFrAe6794lB",
        "colab_type": "code",
        "outputId": "de65d392-4301-49eb-8c6d-cd1816aa05b6",
        "colab": {
          "base_uri": "https://localhost:8080/",
          "height": 129
        }
      },
      "source": [
        "def fn(a, b=2, c):\n",
        "    print(a, b, c)"
      ],
      "execution_count": 0,
      "outputs": [
        {
          "output_type": "error",
          "ename": "SyntaxError",
          "evalue": "ignored",
          "traceback": [
            "\u001b[0;36m  File \u001b[0;32m\"<ipython-input-4-535e50422129>\"\u001b[0;36m, line \u001b[0;32m1\u001b[0m\n\u001b[0;31m    def fn(a, b=2, c):\u001b[0m\n\u001b[0m          ^\u001b[0m\n\u001b[0;31mSyntaxError\u001b[0m\u001b[0;31m:\u001b[0m non-default argument follows default argument\n"
          ]
        }
      ]
    },
    {
      "cell_type": "code",
      "metadata": {
        "id": "lhCVxN7h-AtY",
        "colab_type": "code",
        "colab": {}
      },
      "source": [
        "def my_func(a, b=2, c=3):\n",
        "    print(f\"a={a}, b={b}, c={c}\")"
      ],
      "execution_count": 0,
      "outputs": []
    },
    {
      "cell_type": "code",
      "metadata": {
        "id": "fwdJMSDZ-BHk",
        "colab_type": "code",
        "outputId": "03a199ee-0ca8-4262-bc1e-aa971d915b26",
        "colab": {
          "base_uri": "https://localhost:8080/",
          "height": 34
        }
      },
      "source": [
        "my_func(10, 20, 30)"
      ],
      "execution_count": 0,
      "outputs": [
        {
          "output_type": "stream",
          "text": [
            "a=10, b=20, c=30\n"
          ],
          "name": "stdout"
        }
      ]
    },
    {
      "cell_type": "code",
      "metadata": {
        "id": "9iKevbbR-Guq",
        "colab_type": "code",
        "outputId": "ba401350-915a-4070-cbd0-5e2eb07fa5b4",
        "colab": {
          "base_uri": "https://localhost:8080/",
          "height": 34
        }
      },
      "source": [
        "my_func(10, 20)"
      ],
      "execution_count": 0,
      "outputs": [
        {
          "output_type": "stream",
          "text": [
            "a=10, b=20, c=3\n"
          ],
          "name": "stdout"
        }
      ]
    },
    {
      "cell_type": "code",
      "metadata": {
        "id": "WzGEg6A4-Ibv",
        "colab_type": "code",
        "outputId": "4d5d8cfc-0ae9-4974-aff0-4cc29ad8de73",
        "colab": {
          "base_uri": "https://localhost:8080/",
          "height": 34
        }
      },
      "source": [
        "my_func(10)"
      ],
      "execution_count": 0,
      "outputs": [
        {
          "output_type": "stream",
          "text": [
            "a=10, b=2, c=3\n"
          ],
          "name": "stdout"
        }
      ]
    },
    {
      "cell_type": "markdown",
      "metadata": {
        "id": "bpHOPtiM-MVp",
        "colab_type": "text"
      },
      "source": [
        "Since **a** does not have a default value, it **must** be specified:"
      ]
    },
    {
      "cell_type": "code",
      "metadata": {
        "id": "BtxpybLzAAWH",
        "colab_type": "code",
        "colab": {}
      },
      "source": [
        "def my_func(a=1, b=2, c=3):\n",
        "    print(f\"a={a}, b={b}, c={c}\")"
      ],
      "execution_count": 0,
      "outputs": []
    },
    {
      "cell_type": "code",
      "metadata": {
        "id": "P90H2SUH-Kah",
        "colab_type": "code",
        "outputId": "7372f9fa-740f-488a-ee3f-6d0e32cc821c",
        "colab": {
          "base_uri": "https://localhost:8080/",
          "height": 34
        }
      },
      "source": [
        "my_func()"
      ],
      "execution_count": 0,
      "outputs": [
        {
          "output_type": "stream",
          "text": [
            "a=1, b=2, c=3\n"
          ],
          "name": "stdout"
        }
      ]
    },
    {
      "cell_type": "markdown",
      "metadata": {
        "id": "Twoa8rzQ-QaM",
        "colab_type": "text"
      },
      "source": [
        "#### Keyword Arguments (named arguments)"
      ]
    },
    {
      "cell_type": "markdown",
      "metadata": {
        "id": "aT_WQ-SB-S7h",
        "colab_type": "text"
      },
      "source": [
        "Positional arguments, can **optionally**, be specified using their corresponding parameter name.\n",
        "\n",
        "This allows us to pass the arguments without using the positional assignment:"
      ]
    },
    {
      "cell_type": "code",
      "metadata": {
        "id": "PJqhCu1_-OXk",
        "colab_type": "code",
        "colab": {}
      },
      "source": [
        "def my_func(a, b=2, c=3):\n",
        "    print(f\"a={a}, b={b}, c={c}\")"
      ],
      "execution_count": 0,
      "outputs": []
    },
    {
      "cell_type": "code",
      "metadata": {
        "id": "wJ1mAzif-Ubg",
        "colab_type": "code",
        "outputId": "961356d6-c09c-4180-8be8-e51b839b24fe",
        "colab": {
          "base_uri": "https://localhost:8080/",
          "height": 34
        }
      },
      "source": [
        "my_func(c=30, b=20, a=10)"
      ],
      "execution_count": 0,
      "outputs": [
        {
          "output_type": "stream",
          "text": [
            "a=10, b=20, c=30\n"
          ],
          "name": "stdout"
        }
      ]
    },
    {
      "cell_type": "code",
      "metadata": {
        "id": "32z6uB8i-Vd0",
        "colab_type": "code",
        "outputId": "f6f90732-6963-42cd-e5ab-df69578bbe95",
        "colab": {
          "base_uri": "https://localhost:8080/",
          "height": 34
        }
      },
      "source": [
        "my_func(10, c=30, b=20)"
      ],
      "execution_count": 0,
      "outputs": [
        {
          "output_type": "stream",
          "text": [
            "a=10, b=20, c=30\n"
          ],
          "name": "stdout"
        }
      ]
    },
    {
      "cell_type": "markdown",
      "metadata": {
        "id": "u7iAemI7-YlV",
        "colab_type": "text"
      },
      "source": [
        "Note that once a keyword argument has been used, **all** arguments thereafter **must** also be named:"
      ]
    },
    {
      "cell_type": "code",
      "metadata": {
        "id": "Xd56LPGs-WvO",
        "colab_type": "code",
        "outputId": "31c51ea9-f0c3-44f1-966b-ee8259d28a83",
        "colab": {
          "base_uri": "https://localhost:8080/",
          "height": 129
        }
      },
      "source": [
        "my_func(10, b=20, 30)"
      ],
      "execution_count": 0,
      "outputs": [
        {
          "output_type": "error",
          "ename": "SyntaxError",
          "evalue": "ignored",
          "traceback": [
            "\u001b[0;36m  File \u001b[0;32m\"<ipython-input-14-a114ab951de8>\"\u001b[0;36m, line \u001b[0;32m1\u001b[0m\n\u001b[0;31m    my_func(10, b=20, 30)\u001b[0m\n\u001b[0m                     ^\u001b[0m\n\u001b[0;31mSyntaxError\u001b[0m\u001b[0;31m:\u001b[0m positional argument follows keyword argument\n"
          ]
        }
      ]
    },
    {
      "cell_type": "markdown",
      "metadata": {
        "id": "Ykm3Hv7e-b8g",
        "colab_type": "text"
      },
      "source": [
        "However, if a parameter has a default value, it *can* be omitted from the argument list, named or not:"
      ]
    },
    {
      "cell_type": "code",
      "metadata": {
        "id": "ngEg0rF3-acv",
        "colab_type": "code",
        "outputId": "930e9c2f-7ccf-4e86-afa3-1d5d175227e6",
        "colab": {
          "base_uri": "https://localhost:8080/",
          "height": 34
        }
      },
      "source": [
        "my_func(10, c=30)"
      ],
      "execution_count": 0,
      "outputs": [
        {
          "output_type": "stream",
          "text": [
            "a=10, b=2, c=30\n"
          ],
          "name": "stdout"
        }
      ]
    },
    {
      "cell_type": "code",
      "metadata": {
        "id": "PD816hCQ-dkc",
        "colab_type": "code",
        "outputId": "5ded63b4-ac29-4402-de26-2a28645da3fb",
        "colab": {
          "base_uri": "https://localhost:8080/",
          "height": 34
        }
      },
      "source": [
        "my_func(a=30, c=10)"
      ],
      "execution_count": 0,
      "outputs": [
        {
          "output_type": "stream",
          "text": [
            "a=30, b=2, c=10\n"
          ],
          "name": "stdout"
        }
      ]
    },
    {
      "cell_type": "code",
      "metadata": {
        "id": "WLVX6Vwg-ejx",
        "colab_type": "code",
        "outputId": "69ca5601-b913-4bfc-81aa-1bb4453a4c0c",
        "colab": {
          "base_uri": "https://localhost:8080/",
          "height": 34
        }
      },
      "source": [
        "my_func(c=10, a=30)"
      ],
      "execution_count": 0,
      "outputs": [
        {
          "output_type": "stream",
          "text": [
            "a=30, b=2, c=10\n"
          ],
          "name": "stdout"
        }
      ]
    },
    {
      "cell_type": "markdown",
      "metadata": {
        "id": "1yN3we7OCDV_",
        "colab_type": "text"
      },
      "source": [
        "# 3.UNPACKING: Iterables"
      ]
    },
    {
      "cell_type": "markdown",
      "metadata": {
        "id": "9JwX6AL8CDlE",
        "colab_type": "text"
      },
      "source": [
        "![alt text](https://drive.google.com/uc?id=1QnoOoq52Hmt8QKNfheVe0otIjQSx5wu1)"
      ]
    },
    {
      "cell_type": "markdown",
      "metadata": {
        "id": "sN2MNg7pCDrt",
        "colab_type": "text"
      },
      "source": [
        "![alt text](https://drive.google.com/uc?id=1vfUCx-aASJBl2f4q-cO9EFLGTUgvr7uH)"
      ]
    },
    {
      "cell_type": "markdown",
      "metadata": {
        "id": "sP44Xx1ECDyn",
        "colab_type": "text"
      },
      "source": [
        "![alt text](https://drive.google.com/uc?id=1cE7IcJZ8PGiefZy9uMDRC1WDz0KO6HEK)"
      ]
    },
    {
      "cell_type": "markdown",
      "metadata": {
        "id": "Htex0IkWCD6A",
        "colab_type": "text"
      },
      "source": [
        "![alt text](https://drive.google.com/uc?id=1eDahnGGOvCEJA89eqlw7pt70Awd-O-Um)"
      ]
    },
    {
      "cell_type": "markdown",
      "metadata": {
        "id": "NKTwNkPKCEBT",
        "colab_type": "text"
      },
      "source": [
        "![alt text](https://drive.google.com/uc?id=10GICEPgBZDs9-cyp-GMwif4dT6uPJvfW)"
      ]
    },
    {
      "cell_type": "markdown",
      "metadata": {
        "id": "cGjr0sBKCEKa",
        "colab_type": "text"
      },
      "source": [
        "![alt text](https://drive.google.com/uc?id=1LR0pmueadPXr7RpJ4CCnRA6vgu-TuWF0)"
      ]
    },
    {
      "cell_type": "markdown",
      "metadata": {
        "id": "MjcVGyAiCEyc",
        "colab_type": "text"
      },
      "source": [
        "![alt text](https://drive.google.com/uc?id=14AiuDje8wdznyTY_XtL4AiecdZd-x_Qe)"
      ]
    },
    {
      "cell_type": "markdown",
      "metadata": {
        "id": "Q0dIuPXsq-NM",
        "colab_type": "text"
      },
      "source": [
        "## Coding Time"
      ]
    },
    {
      "cell_type": "markdown",
      "metadata": {
        "id": "Omn7KQIxtSq-",
        "colab_type": "text"
      },
      "source": [
        "### Side Note on Tuples"
      ]
    },
    {
      "cell_type": "markdown",
      "metadata": {
        "id": "-pacYLfetwxp",
        "colab_type": "text"
      },
      "source": [
        "This is a tuple:"
      ]
    },
    {
      "cell_type": "code",
      "metadata": {
        "id": "yk2VYuZ_-fjm",
        "colab_type": "code",
        "colab": {}
      },
      "source": [
        "a = (1, 2, 3)"
      ],
      "execution_count": 0,
      "outputs": []
    },
    {
      "cell_type": "code",
      "metadata": {
        "id": "-0OpLKiZtyiv",
        "colab_type": "code",
        "outputId": "f7210c1d-f150-43aa-9475-9ad755cf2c9e",
        "colab": {
          "base_uri": "https://localhost:8080/",
          "height": 34
        }
      },
      "source": [
        "type(a)"
      ],
      "execution_count": 0,
      "outputs": [
        {
          "output_type": "execute_result",
          "data": {
            "text/plain": [
              "tuple"
            ]
          },
          "metadata": {
            "tags": []
          },
          "execution_count": 2
        }
      ]
    },
    {
      "cell_type": "markdown",
      "metadata": {
        "id": "evQQ6TJ8t3T0",
        "colab_type": "text"
      },
      "source": [
        "This is also a tuple:"
      ]
    },
    {
      "cell_type": "code",
      "metadata": {
        "id": "Te1g_cp0t1c8",
        "colab_type": "code",
        "colab": {}
      },
      "source": [
        "a = 1, 2, 3"
      ],
      "execution_count": 0,
      "outputs": []
    },
    {
      "cell_type": "code",
      "metadata": {
        "id": "K5Pxfq1ot5Rj",
        "colab_type": "code",
        "outputId": "491d5fd6-4669-4909-dd0f-2fcde3d56916",
        "colab": {
          "base_uri": "https://localhost:8080/",
          "height": 34
        }
      },
      "source": [
        "type(a)"
      ],
      "execution_count": 0,
      "outputs": [
        {
          "output_type": "execute_result",
          "data": {
            "text/plain": [
              "tuple"
            ]
          },
          "metadata": {
            "tags": []
          },
          "execution_count": 4
        }
      ]
    },
    {
      "cell_type": "markdown",
      "metadata": {
        "id": "L60Ilu-Ft8Db",
        "colab_type": "text"
      },
      "source": [
        "In fact what defines a tuple is not **()**, but the **,** (comma)"
      ]
    },
    {
      "cell_type": "markdown",
      "metadata": {
        "id": "jNHczVo6t9nO",
        "colab_type": "text"
      },
      "source": [
        "To create a tuple with a single element:"
      ]
    },
    {
      "cell_type": "code",
      "metadata": {
        "id": "BUGwmpN9t6bz",
        "colab_type": "code",
        "colab": {}
      },
      "source": [
        "a = (1)"
      ],
      "execution_count": 0,
      "outputs": []
    },
    {
      "cell_type": "markdown",
      "metadata": {
        "id": "C_y9EyafuA9g",
        "colab_type": "text"
      },
      "source": [
        "will not work!!"
      ]
    },
    {
      "cell_type": "code",
      "metadata": {
        "id": "r3FQfBH2t_ZS",
        "colab_type": "code",
        "outputId": "5a51ad61-e7c4-4f95-8d62-c7e91d5aed50",
        "colab": {
          "base_uri": "https://localhost:8080/",
          "height": 34
        }
      },
      "source": [
        "type(a)"
      ],
      "execution_count": 0,
      "outputs": [
        {
          "output_type": "execute_result",
          "data": {
            "text/plain": [
              "int"
            ]
          },
          "metadata": {
            "tags": []
          },
          "execution_count": 6
        }
      ]
    },
    {
      "cell_type": "markdown",
      "metadata": {
        "id": "dTEBAWyDuD68",
        "colab_type": "text"
      },
      "source": [
        "Instead, we have to use a comma:"
      ]
    },
    {
      "cell_type": "markdown",
      "metadata": {
        "id": "bPLdvJ7EuFi8",
        "colab_type": "text"
      },
      "source": [
        "And in fact, we don't even need the **()**:"
      ]
    },
    {
      "cell_type": "code",
      "metadata": {
        "id": "gdn4kSBiuCoD",
        "colab_type": "code",
        "colab": {}
      },
      "source": [
        "a = 1,"
      ],
      "execution_count": 0,
      "outputs": []
    },
    {
      "cell_type": "code",
      "metadata": {
        "id": "p2m9o7zuuHak",
        "colab_type": "code",
        "outputId": "f93db698-334b-469d-ffd6-e6c3811f69c2",
        "colab": {
          "base_uri": "https://localhost:8080/",
          "height": 34
        }
      },
      "source": [
        "type(a)"
      ],
      "execution_count": 0,
      "outputs": [
        {
          "output_type": "execute_result",
          "data": {
            "text/plain": [
              "tuple"
            ]
          },
          "metadata": {
            "tags": []
          },
          "execution_count": 8
        }
      ]
    },
    {
      "cell_type": "markdown",
      "metadata": {
        "id": "oxOVXomtuWKB",
        "colab_type": "text"
      },
      "source": [
        "The only exception is to create an empty tuple:"
      ]
    },
    {
      "cell_type": "code",
      "metadata": {
        "id": "uT_GV6oAuIhD",
        "colab_type": "code",
        "colab": {}
      },
      "source": [
        "a = ()"
      ],
      "execution_count": 0,
      "outputs": []
    },
    {
      "cell_type": "code",
      "metadata": {
        "id": "28DkZf27uZA5",
        "colab_type": "code",
        "outputId": "946c2086-f0cf-4471-b8fb-1ee80082ad33",
        "colab": {
          "base_uri": "https://localhost:8080/",
          "height": 34
        }
      },
      "source": [
        "type(a)"
      ],
      "execution_count": 0,
      "outputs": [
        {
          "output_type": "execute_result",
          "data": {
            "text/plain": [
              "tuple"
            ]
          },
          "metadata": {
            "tags": []
          },
          "execution_count": 10
        }
      ]
    },
    {
      "cell_type": "markdown",
      "metadata": {
        "id": "4mFrC4rUua3W",
        "colab_type": "text"
      },
      "source": [
        "Or we can use the tuple constructor:"
      ]
    },
    {
      "cell_type": "code",
      "metadata": {
        "id": "jWhkDNy0uZko",
        "colab_type": "code",
        "colab": {}
      },
      "source": [
        "a = tuple()"
      ],
      "execution_count": 0,
      "outputs": []
    },
    {
      "cell_type": "code",
      "metadata": {
        "id": "OFLv4jAhucgV",
        "colab_type": "code",
        "outputId": "20c4f04c-0180-45dc-b5e7-f0ead6d4db05",
        "colab": {
          "base_uri": "https://localhost:8080/",
          "height": 34
        }
      },
      "source": [
        "type(a)"
      ],
      "execution_count": 0,
      "outputs": [
        {
          "output_type": "execute_result",
          "data": {
            "text/plain": [
              "tuple"
            ]
          },
          "metadata": {
            "tags": []
          },
          "execution_count": 12
        }
      ]
    },
    {
      "cell_type": "markdown",
      "metadata": {
        "id": "jCYP816GueuQ",
        "colab_type": "text"
      },
      "source": [
        "### Unpacking"
      ]
    },
    {
      "cell_type": "markdown",
      "metadata": {
        "id": "yZTuxZmduh8a",
        "colab_type": "text"
      },
      "source": [
        "Unpacking is a way to split an iterable object into individual variables contained in a list or tuple: "
      ]
    },
    {
      "cell_type": "code",
      "metadata": {
        "id": "UbllHPyRudig",
        "colab_type": "code",
        "colab": {}
      },
      "source": [
        "l = [1, 2, 3, 4]"
      ],
      "execution_count": 0,
      "outputs": []
    },
    {
      "cell_type": "code",
      "metadata": {
        "id": "I2YcQX77uj08",
        "colab_type": "code",
        "colab": {}
      },
      "source": [
        "a, b, c, d = l"
      ],
      "execution_count": 0,
      "outputs": []
    },
    {
      "cell_type": "code",
      "metadata": {
        "id": "pt94WbLLulFF",
        "colab_type": "code",
        "outputId": "f379e69a-7e09-44e2-c7b8-ed696b434569",
        "colab": {
          "base_uri": "https://localhost:8080/",
          "height": 34
        }
      },
      "source": [
        "print(a, b, c, d)"
      ],
      "execution_count": 0,
      "outputs": [
        {
          "output_type": "stream",
          "text": [
            "1 2 3 4\n"
          ],
          "name": "stdout"
        }
      ]
    },
    {
      "cell_type": "markdown",
      "metadata": {
        "id": "Nx6aeJ0YupQk",
        "colab_type": "text"
      },
      "source": [
        "Strings are iterables too:"
      ]
    },
    {
      "cell_type": "code",
      "metadata": {
        "id": "scdG__UxumGy",
        "colab_type": "code",
        "outputId": "7b80a037-6e21-422d-9aad-a2fab7a5819a",
        "colab": {
          "base_uri": "https://localhost:8080/",
          "height": 34
        }
      },
      "source": [
        "a, b, c = 'XYZ'\n",
        "print(a, b, c)"
      ],
      "execution_count": 0,
      "outputs": [
        {
          "output_type": "stream",
          "text": [
            "X Y Z\n"
          ],
          "name": "stdout"
        }
      ]
    },
    {
      "cell_type": "markdown",
      "metadata": {
        "id": "XTQC0VXVusLp",
        "colab_type": "text"
      },
      "source": [
        "### Swapping Two Variables"
      ]
    },
    {
      "cell_type": "markdown",
      "metadata": {
        "id": "9dB7RjkZuvDb",
        "colab_type": "text"
      },
      "source": [
        "Here's a quick application of unpacking to swap the values of two variables.\n",
        "</br>\n",
        "</br>\n",
        "First we look at the \"traditional\" way you would have to do it in other languages such as Java:"
      ]
    },
    {
      "cell_type": "code",
      "metadata": {
        "id": "wSJnT-MRuq-b",
        "colab_type": "code",
        "outputId": "60ab2c06-078a-44a5-ce0f-fa9159b5ecdc",
        "colab": {
          "base_uri": "https://localhost:8080/",
          "height": 51
        }
      },
      "source": [
        "a = 10\n",
        "b = 20\n",
        "print(\"a={0}, b={1}\".format(a, b))\n",
        "\n",
        "tmp = a\n",
        "a = b\n",
        "b = tmp\n",
        "print(\"a={0}, b={1}\".format(a, b))"
      ],
      "execution_count": 0,
      "outputs": [
        {
          "output_type": "stream",
          "text": [
            "a=10, b=20\n",
            "a=20, b=10\n"
          ],
          "name": "stdout"
        }
      ]
    },
    {
      "cell_type": "markdown",
      "metadata": {
        "id": "bXNZxZ_nu1h-",
        "colab_type": "text"
      },
      "source": [
        "But using unpacking we can simplify this:"
      ]
    },
    {
      "cell_type": "code",
      "metadata": {
        "id": "M1Rxaz69u0VD",
        "colab_type": "code",
        "outputId": "84b507ee-5abb-487a-e98a-c4b67944fc21",
        "colab": {
          "base_uri": "https://localhost:8080/",
          "height": 51
        }
      },
      "source": [
        "a = 10\n",
        "b = 20\n",
        "print(\"a={0}, b={1}\".format(a, b))\n",
        "\n",
        "a, b = b, a\n",
        "print(\"a={0}, b={1}\".format(a, b))"
      ],
      "execution_count": 0,
      "outputs": [
        {
          "output_type": "stream",
          "text": [
            "a=10, b=20\n",
            "a=20, b=10\n"
          ],
          "name": "stdout"
        }
      ]
    },
    {
      "cell_type": "markdown",
      "metadata": {
        "id": "jIBRo58au4cd",
        "colab_type": "text"
      },
      "source": [
        "In fact, we can even simplify the initial assignment of values to a and b as follows:"
      ]
    },
    {
      "cell_type": "code",
      "metadata": {
        "id": "BafAniDzu3LH",
        "colab_type": "code",
        "outputId": "7f333702-19f9-4bd6-b870-6fc634a5a486",
        "colab": {
          "base_uri": "https://localhost:8080/",
          "height": 51
        }
      },
      "source": [
        "# Python will fistly evaluate RHS and memory\n",
        "# It's going to create tuple object that will contain references to 10 and 20 and then it assigns\n",
        "a, b = 10, 20\n",
        "print(\"a={0}, b={1}\".format(a, b))\n",
        "\n",
        "a, b = b, a\n",
        "print(\"a={0}, b={1}\".format(a, b))"
      ],
      "execution_count": 0,
      "outputs": [
        {
          "output_type": "stream",
          "text": [
            "a=10, b=20\n",
            "a=20, b=10\n"
          ],
          "name": "stdout"
        }
      ]
    },
    {
      "cell_type": "markdown",
      "metadata": {
        "id": "bEW-wTEw1UFF",
        "colab_type": "text"
      },
      "source": [
        "It's not really readable, but it can be handy:"
      ]
    },
    {
      "cell_type": "code",
      "metadata": {
        "id": "G4Xz6Hef1IAr",
        "colab_type": "code",
        "outputId": "c27bfbed-9b30-4b86-f44e-9ddd69f4e6fc",
        "colab": {
          "base_uri": "https://localhost:8080/",
          "height": 68
        }
      },
      "source": [
        "a, b, c = 1, (1,2), [3, 4, 5]\n",
        "print(a)\n",
        "print(b)\n",
        "print(c)"
      ],
      "execution_count": 0,
      "outputs": [
        {
          "output_type": "stream",
          "text": [
            "1\n",
            "(1, 2)\n",
            "[3, 4, 5]\n"
          ],
          "name": "stdout"
        }
      ]
    },
    {
      "cell_type": "markdown",
      "metadata": {
        "id": "1FZ7Lu1qu7Zq",
        "colab_type": "text"
      },
      "source": [
        "### Unpacking Unordered Objects"
      ]
    },
    {
      "cell_type": "code",
      "metadata": {
        "id": "trkO8zF4u578",
        "colab_type": "code",
        "colab": {}
      },
      "source": [
        "dict1 = {'p': 1, 'y': 2, 't': 3, 'h': 4, 'o': 5, 'n': 6}"
      ],
      "execution_count": 0,
      "outputs": []
    },
    {
      "cell_type": "code",
      "metadata": {
        "id": "rxiN4puwu9z_",
        "colab_type": "code",
        "outputId": "3a6ca7ce-4a2a-4fc1-e6f1-d2521facea08",
        "colab": {
          "base_uri": "https://localhost:8080/",
          "height": 34
        }
      },
      "source": [
        "dict1"
      ],
      "execution_count": 0,
      "outputs": [
        {
          "output_type": "execute_result",
          "data": {
            "text/plain": [
              "{'h': 4, 'n': 6, 'o': 5, 'p': 1, 't': 3, 'y': 2}"
            ]
          },
          "metadata": {
            "tags": []
          },
          "execution_count": 50
        }
      ]
    },
    {
      "cell_type": "markdown",
      "metadata": {
        "id": "4YyvoUYR6JnC",
        "colab_type": "text"
      },
      "source": [
        "### INTERESTING: Here is intresting point that can confuse: "
      ]
    },
    {
      "cell_type": "code",
      "metadata": {
        "id": "BDJe6HpL6VDC",
        "colab_type": "code",
        "colab": {}
      },
      "source": [
        "d = {'a': 1, 'b': 2, 'c': 3, 'd': 4}\n",
        "a, b, c, d = d"
      ],
      "execution_count": 0,
      "outputs": []
    },
    {
      "cell_type": "code",
      "metadata": {
        "id": "jmPcWUYr6r7h",
        "colab_type": "code",
        "outputId": "31093327-64ac-4e61-9369-b6f8a6f560b3",
        "colab": {
          "base_uri": "https://localhost:8080/",
          "height": 34
        }
      },
      "source": [
        "# d is not Pointing to dictionary but in fact just key in dict\n",
        "print(a, b, c, d)"
      ],
      "execution_count": 0,
      "outputs": [
        {
          "output_type": "stream",
          "text": [
            "a b c d\n"
          ],
          "name": "stdout"
        }
      ]
    },
    {
      "cell_type": "code",
      "metadata": {
        "id": "uSwX3vI_7UGh",
        "colab_type": "code",
        "outputId": "d13d18d8-9927-4dda-d13d-492b77a69a9f",
        "colab": {
          "base_uri": "https://localhost:8080/",
          "height": 34
        }
      },
      "source": [
        "d = {'a': 1, 'b': 2, 'c': 3, 'd': 4}\n",
        "d, a, b, c = d\n",
        "print(d, a, b, c)"
      ],
      "execution_count": 0,
      "outputs": [
        {
          "output_type": "stream",
          "text": [
            "a b c d\n"
          ],
          "name": "stdout"
        }
      ]
    },
    {
      "cell_type": "code",
      "metadata": {
        "id": "WWr3j_muu_Bz",
        "colab_type": "code",
        "outputId": "626ba5a7-e4aa-48ba-8b33-e7580aa03ead",
        "colab": {
          "base_uri": "https://localhost:8080/",
          "height": 119
        }
      },
      "source": [
        "for c in dict1:\n",
        "    print(c)"
      ],
      "execution_count": 0,
      "outputs": [
        {
          "output_type": "stream",
          "text": [
            "p\n",
            "y\n",
            "t\n",
            "h\n",
            "o\n",
            "n\n"
          ],
          "name": "stdout"
        }
      ]
    },
    {
      "cell_type": "code",
      "metadata": {
        "id": "ZdEU7-JdvAdx",
        "colab_type": "code",
        "outputId": "87cba44f-64b0-4c19-ec59-686ca34e5a92",
        "colab": {
          "base_uri": "https://localhost:8080/",
          "height": 119
        }
      },
      "source": [
        "a, b, c, d, e, f = dict1\n",
        "print(a)\n",
        "print(b)\n",
        "print(c)\n",
        "print(d)\n",
        "print(e)\n",
        "print(f)"
      ],
      "execution_count": 0,
      "outputs": [
        {
          "output_type": "stream",
          "text": [
            "p\n",
            "y\n",
            "t\n",
            "h\n",
            "o\n",
            "n\n"
          ],
          "name": "stdout"
        }
      ]
    },
    {
      "cell_type": "markdown",
      "metadata": {
        "id": "h9T73sU8vFS7",
        "colab_type": "text"
      },
      "source": [
        "Note that this order is not guaranteed. You can always use an OrderedDict if that is a requirement.\n",
        "</br>\n",
        "</br>\n",
        "Here we see we can look at indexes."
      ]
    },
    {
      "cell_type": "code",
      "metadata": {
        "id": "EDSQC_hE4LeV",
        "colab_type": "code",
        "outputId": "d3aabca6-2f39-44e9-c14d-3644eced0d5b",
        "colab": {
          "base_uri": "https://localhost:8080/",
          "height": 68
        }
      },
      "source": [
        "s = \"XYZ\"\n",
        "print(s[0])\n",
        "print(s[1])\n",
        "print(s[2])"
      ],
      "execution_count": 0,
      "outputs": [
        {
          "output_type": "stream",
          "text": [
            "X\n",
            "Y\n",
            "Z\n"
          ],
          "name": "stdout"
        }
      ]
    },
    {
      "cell_type": "markdown",
      "metadata": {
        "id": "NipyU8tu4laF",
        "colab_type": "text"
      },
      "source": [
        "But with sets, it's another story:"
      ]
    },
    {
      "cell_type": "code",
      "metadata": {
        "id": "sxaAZfVl4fXF",
        "colab_type": "code",
        "outputId": "3d9426ff-b1c0-4af1-8f1d-e9eb23e330c4",
        "colab": {
          "base_uri": "https://localhost:8080/",
          "height": 180
        }
      },
      "source": [
        "s = {1, 2, 3}\n",
        "print(s[0])"
      ],
      "execution_count": 0,
      "outputs": [
        {
          "output_type": "error",
          "ename": "TypeError",
          "evalue": "ignored",
          "traceback": [
            "\u001b[0;31m---------------------------------------------------------------------------\u001b[0m",
            "\u001b[0;31mTypeError\u001b[0m                                 Traceback (most recent call last)",
            "\u001b[0;32m<ipython-input-38-57de2ead9154>\u001b[0m in \u001b[0;36m<module>\u001b[0;34m()\u001b[0m\n\u001b[1;32m      1\u001b[0m \u001b[0ms\u001b[0m \u001b[0;34m=\u001b[0m \u001b[0;34m{\u001b[0m\u001b[0;36m1\u001b[0m\u001b[0;34m,\u001b[0m \u001b[0;36m2\u001b[0m\u001b[0;34m,\u001b[0m \u001b[0;36m3\u001b[0m\u001b[0;34m}\u001b[0m\u001b[0;34m\u001b[0m\u001b[0;34m\u001b[0m\u001b[0m\n\u001b[0;32m----> 2\u001b[0;31m \u001b[0mprint\u001b[0m\u001b[0;34m(\u001b[0m\u001b[0ms\u001b[0m\u001b[0;34m[\u001b[0m\u001b[0;36m0\u001b[0m\u001b[0;34m]\u001b[0m\u001b[0;34m)\u001b[0m\u001b[0;34m\u001b[0m\u001b[0;34m\u001b[0m\u001b[0m\n\u001b[0m",
            "\u001b[0;31mTypeError\u001b[0m: 'set' object does not support indexing"
          ]
        }
      ]
    },
    {
      "cell_type": "markdown",
      "metadata": {
        "id": "weX85Q6Z4zy1",
        "colab_type": "text"
      },
      "source": [
        "There is no order in SETS/DICTIONARIES!!!!!!"
      ]
    },
    {
      "cell_type": "code",
      "metadata": {
        "id": "BBkNUMCBvEBl",
        "colab_type": "code",
        "colab": {}
      },
      "source": [
        "s = {'p', 'y', 't', 'h', 'o', 'n'}"
      ],
      "execution_count": 0,
      "outputs": []
    },
    {
      "cell_type": "code",
      "metadata": {
        "id": "Elfrt7c4vKjG",
        "colab_type": "code",
        "outputId": "79c9a7f2-7476-48e2-9e68-cf7e2059fef0",
        "colab": {
          "base_uri": "https://localhost:8080/",
          "height": 34
        }
      },
      "source": [
        "type(s)"
      ],
      "execution_count": 0,
      "outputs": [
        {
          "output_type": "execute_result",
          "data": {
            "text/plain": [
              "set"
            ]
          },
          "metadata": {
            "tags": []
          },
          "execution_count": 40
        }
      ]
    },
    {
      "cell_type": "code",
      "metadata": {
        "id": "unvCgDZ2vL4r",
        "colab_type": "code",
        "outputId": "24b64f5d-05b3-4186-f8e9-ffe0e967d57a",
        "colab": {
          "base_uri": "https://localhost:8080/",
          "height": 34
        }
      },
      "source": [
        "print(s)"
      ],
      "execution_count": 0,
      "outputs": [
        {
          "output_type": "stream",
          "text": [
            "{'h', 'o', 'y', 'p', 'n', 't'}\n"
          ],
          "name": "stdout"
        }
      ]
    },
    {
      "cell_type": "code",
      "metadata": {
        "id": "eS6LnC1AvNIv",
        "colab_type": "code",
        "outputId": "f050a636-60e1-4545-c194-70ec7f5244c9",
        "colab": {
          "base_uri": "https://localhost:8080/",
          "height": 119
        }
      },
      "source": [
        "for c in s:\n",
        "    print(c)"
      ],
      "execution_count": 0,
      "outputs": [
        {
          "output_type": "stream",
          "text": [
            "h\n",
            "o\n",
            "y\n",
            "p\n",
            "n\n",
            "t\n"
          ],
          "name": "stdout"
        }
      ]
    },
    {
      "cell_type": "code",
      "metadata": {
        "id": "DQIqCOO3vObr",
        "colab_type": "code",
        "colab": {}
      },
      "source": [
        "a, b, c, d, e, f = s"
      ],
      "execution_count": 0,
      "outputs": []
    },
    {
      "cell_type": "code",
      "metadata": {
        "id": "2IsQitqjvTo0",
        "colab_type": "code",
        "outputId": "b52090d7-541a-484e-9064-4778ed019d4c",
        "colab": {
          "base_uri": "https://localhost:8080/",
          "height": 119
        }
      },
      "source": [
        "print(a)\n",
        "print(b)\n",
        "print(c)\n",
        "print(d)\n",
        "print(e)\n",
        "print(f)"
      ],
      "execution_count": 0,
      "outputs": [
        {
          "output_type": "stream",
          "text": [
            "h\n",
            "o\n",
            "y\n",
            "p\n",
            "n\n",
            "t\n"
          ],
          "name": "stdout"
        }
      ]
    },
    {
      "cell_type": "code",
      "metadata": {
        "id": "q0N4rWtnvUxM",
        "colab_type": "code",
        "outputId": "5d364233-8b9f-42fc-cc51-96df771558cd",
        "colab": {
          "base_uri": "https://localhost:8080/",
          "height": 119
        }
      },
      "source": [
        "for a, b in dict1.items():\n",
        "    print(f\"key={a}, value={b}\")"
      ],
      "execution_count": 0,
      "outputs": [
        {
          "output_type": "stream",
          "text": [
            "key=p, value=1\n",
            "key=y, value=2\n",
            "key=t, value=3\n",
            "key=h, value=4\n",
            "key=o, value=5\n",
            "key=n, value=6\n"
          ],
          "name": "stdout"
        }
      ]
    },
    {
      "cell_type": "markdown",
      "metadata": {
        "id": "GUePcXOVAvY3",
        "colab_type": "text"
      },
      "source": [
        "# 4.EXTENDED Unpacking: * and ** Operators"
      ]
    },
    {
      "cell_type": "markdown",
      "metadata": {
        "id": "uOY-EnTcAvuB",
        "colab_type": "text"
      },
      "source": [
        "![alt text](https://drive.google.com/uc?id=1CiA6UFZAAp0Y4GyGfJ_ctXKctCh2561Q)"
      ]
    },
    {
      "cell_type": "markdown",
      "metadata": {
        "id": "yubS6Fn-Av33",
        "colab_type": "text"
      },
      "source": [
        "![alt text](https://drive.google.com/uc?id=1Gjq2jXet6-Tp7sNpPgOg5eJ7cAn4uYol)"
      ]
    },
    {
      "cell_type": "markdown",
      "metadata": {
        "id": "fTeoKGLyAwBg",
        "colab_type": "text"
      },
      "source": [
        "![alt text](https://drive.google.com/uc?id=1mOs16JaNMDUs0LUiGLwcx5xxdhyq0hJn)"
      ]
    },
    {
      "cell_type": "markdown",
      "metadata": {
        "id": "zdjPtMfjAwKR",
        "colab_type": "text"
      },
      "source": [
        "![alt text](https://drive.google.com/uc?id=1qsGJQF_wtibGyGLUhTGGpZX3tGk0JFNq)"
      ]
    },
    {
      "cell_type": "markdown",
      "metadata": {
        "id": "Rd5M-qMOAwTr",
        "colab_type": "text"
      },
      "source": [
        "![alt text](https://drive.google.com/uc?id=1htfK5s-MRyHyqh03bW2a7YFxzbNrzhou)"
      ]
    },
    {
      "cell_type": "markdown",
      "metadata": {
        "id": "kWI7Oj16AweM",
        "colab_type": "text"
      },
      "source": [
        "![alt text](https://drive.google.com/uc?id=10c-BtvxABRxksYcn48oVFMli9j6C15ce)"
      ]
    },
    {
      "cell_type": "markdown",
      "metadata": {
        "id": "SdVaek7TAwnc",
        "colab_type": "text"
      },
      "source": [
        "![alt text](https://drive.google.com/uc?id=1T9pHML9w851rsI3OFwugvt1IxztBYwFY)"
      ]
    },
    {
      "cell_type": "markdown",
      "metadata": {
        "id": "1EZyBoZoAwwZ",
        "colab_type": "text"
      },
      "source": [
        "![alt text](https://drive.google.com/uc?id=1k85rHiiHfGizwvlLLLJDqmEOLchTrj_-)"
      ]
    },
    {
      "cell_type": "markdown",
      "metadata": {
        "id": "qU--4lONAw4t",
        "colab_type": "text"
      },
      "source": [
        "![alt text](https://drive.google.com/uc?id=1VpmQc43cRY45_HXVpqWKpfFX4IxHFLmk)"
      ]
    },
    {
      "cell_type": "markdown",
      "metadata": {
        "id": "Oad6PszYAxAj",
        "colab_type": "text"
      },
      "source": [
        "![alt text](https://drive.google.com/uc?id=1q-DnfvgiLBV5M_ukk8sIa8dPX_JacfOF)"
      ]
    },
    {
      "cell_type": "markdown",
      "metadata": {
        "id": "cj5VqPSrAxJH",
        "colab_type": "text"
      },
      "source": [
        "![alt text](https://drive.google.com/uc?id=1R24lo1Kk0ucp2KghLhcQs__vytkXF6K7)"
      ]
    },
    {
      "cell_type": "markdown",
      "metadata": {
        "id": "h-WzzT5wCksM",
        "colab_type": "text"
      },
      "source": [
        "## Coding time"
      ]
    },
    {
      "cell_type": "markdown",
      "metadata": {
        "id": "fLZSGEG0DDt2",
        "colab_type": "text"
      },
      "source": [
        "Let's see how we might split a list into it's first element, and \"everything else\" using slicing:"
      ]
    },
    {
      "cell_type": "code",
      "metadata": {
        "id": "CqoCZbZJ97vM",
        "colab_type": "code",
        "colab": {}
      },
      "source": [
        "l = [1, 2, 3, 4, 5, 6]"
      ],
      "execution_count": 0,
      "outputs": []
    },
    {
      "cell_type": "code",
      "metadata": {
        "id": "c0kh0f53DF8D",
        "colab_type": "code",
        "outputId": "b3845533-5287-4145-8503-76535a557842",
        "colab": {
          "base_uri": "https://localhost:8080/",
          "height": 51
        }
      },
      "source": [
        "a = l[0]\n",
        "b = l[1:]\n",
        "print(a)\n",
        "print(b)"
      ],
      "execution_count": 0,
      "outputs": [
        {
          "output_type": "stream",
          "text": [
            "1\n",
            "[2, 3, 4, 5, 6]\n"
          ],
          "name": "stdout"
        }
      ]
    },
    {
      "cell_type": "markdown",
      "metadata": {
        "id": "T-9TwfZrDJhw",
        "colab_type": "text"
      },
      "source": [
        "We can even use unpacking to simplify this slightly:"
      ]
    },
    {
      "cell_type": "code",
      "metadata": {
        "id": "tUxfk-SYDHsJ",
        "colab_type": "code",
        "outputId": "c16cf7c6-f461-4a86-80d6-134b7fe96ae1",
        "colab": {
          "base_uri": "https://localhost:8080/",
          "height": 51
        }
      },
      "source": [
        "a, b = l[0], l[1:]\n",
        "print(a)\n",
        "print(b)"
      ],
      "execution_count": 0,
      "outputs": [
        {
          "output_type": "stream",
          "text": [
            "1\n",
            "[2, 3, 4, 5, 6]\n"
          ],
          "name": "stdout"
        }
      ]
    },
    {
      "cell_type": "markdown",
      "metadata": {
        "id": "6lbfqnAiDL4j",
        "colab_type": "text"
      },
      "source": [
        "But we can use the **\\*** operator to achieve the same result:"
      ]
    },
    {
      "cell_type": "code",
      "metadata": {
        "id": "rn_KU1ryDLUq",
        "colab_type": "code",
        "outputId": "3374b5a9-7bea-44e5-9cb1-48461b4c6191",
        "colab": {
          "base_uri": "https://localhost:8080/",
          "height": 51
        }
      },
      "source": [
        "a, *b = l\n",
        "print(a)\n",
        "print(b)"
      ],
      "execution_count": 0,
      "outputs": [
        {
          "output_type": "stream",
          "text": [
            "1\n",
            "[2, 3, 4, 5, 6]\n"
          ],
          "name": "stdout"
        }
      ]
    },
    {
      "cell_type": "markdown",
      "metadata": {
        "id": "_rK1A32wDPtH",
        "colab_type": "text"
      },
      "source": [
        "With strings:"
      ]
    },
    {
      "cell_type": "code",
      "metadata": {
        "id": "hZF_XMbIDO4I",
        "colab_type": "code",
        "outputId": "639af79b-5a1a-4e86-9908-2a78cff9babe",
        "colab": {
          "base_uri": "https://localhost:8080/",
          "height": 51
        }
      },
      "source": [
        "a, *b = 'python'\n",
        "print(a)\n",
        "print(b)"
      ],
      "execution_count": 0,
      "outputs": [
        {
          "output_type": "stream",
          "text": [
            "p\n",
            "['y', 't', 'h', 'o', 'n']\n"
          ],
          "name": "stdout"
        }
      ]
    },
    {
      "cell_type": "markdown",
      "metadata": {
        "id": "IJCE9iHyDUsT",
        "colab_type": "text"
      },
      "source": [
        "What about extracting the first, second, last elements and *the rest*.\n",
        "</br>\n",
        "</br>\n",
        "Again we can use slicing:"
      ]
    },
    {
      "cell_type": "code",
      "metadata": {
        "id": "qiTB-g2IDS-H",
        "colab_type": "code",
        "outputId": "427d1752-f7bb-4799-8a09-71ccfa4a9a22",
        "colab": {
          "base_uri": "https://localhost:8080/",
          "height": 85
        }
      },
      "source": [
        "s = 'python'\n",
        "\n",
        "a, b, c, d = s[0], s[1], s[2:-1], s[-1]\n",
        "print(a)\n",
        "print(b)\n",
        "print(c)\n",
        "print(d)"
      ],
      "execution_count": 0,
      "outputs": [
        {
          "output_type": "stream",
          "text": [
            "p\n",
            "y\n",
            "tho\n",
            "n\n"
          ],
          "name": "stdout"
        }
      ]
    },
    {
      "cell_type": "markdown",
      "metadata": {
        "id": "IENWYeAlDkSG",
        "colab_type": "text"
      },
      "source": [
        "But we can just as easily do it this way using unpacking:"
      ]
    },
    {
      "cell_type": "code",
      "metadata": {
        "id": "9MMFHX4ODiVq",
        "colab_type": "code",
        "outputId": "969dcc56-2cce-46ea-85d3-db561435d58c",
        "colab": {
          "base_uri": "https://localhost:8080/",
          "height": 85
        }
      },
      "source": [
        "a, b, *c, d = s\n",
        "print(a)\n",
        "print(b)\n",
        "print(c)\n",
        "print(d)"
      ],
      "execution_count": 0,
      "outputs": [
        {
          "output_type": "stream",
          "text": [
            "p\n",
            "y\n",
            "['t', 'h', 'o']\n",
            "n\n"
          ],
          "name": "stdout"
        }
      ]
    },
    {
      "cell_type": "markdown",
      "metadata": {
        "id": "yPDPmeIGDneI",
        "colab_type": "text"
      },
      "source": [
        "As you can see though, **c** is a list of characters, not a string.\n",
        "\n",
        "It that's a problem we can easily fix it this way:"
      ]
    },
    {
      "cell_type": "code",
      "metadata": {
        "id": "DGrDB52yDmOR",
        "colab_type": "code",
        "outputId": "db9effa8-bd1d-4dbb-94a2-e6685b6a4c9b",
        "colab": {
          "base_uri": "https://localhost:8080/",
          "height": 51
        }
      },
      "source": [
        "print(c)\n",
        "c = ''.join(c)\n",
        "print(c)"
      ],
      "execution_count": 0,
      "outputs": [
        {
          "output_type": "stream",
          "text": [
            "['t', 'h', 'o']\n",
            "tho\n"
          ],
          "name": "stdout"
        }
      ]
    },
    {
      "cell_type": "markdown",
      "metadata": {
        "id": "lPBOBm-5DqiI",
        "colab_type": "text"
      },
      "source": [
        "We can also use unpacking on the right hand side of an assignment expression:"
      ]
    },
    {
      "cell_type": "code",
      "metadata": {
        "id": "xjpZAiE5DpUl",
        "colab_type": "code",
        "outputId": "1188186f-19c7-457b-ccb5-df005df75e02",
        "colab": {
          "base_uri": "https://localhost:8080/",
          "height": 34
        }
      },
      "source": [
        "l1 = [1, 2, 3]\n",
        "l2 = [4, 5, 6]\n",
        "l = [*l1, *l2]\n",
        "print(l)"
      ],
      "execution_count": 0,
      "outputs": [
        {
          "output_type": "stream",
          "text": [
            "[1, 2, 3, 4, 5, 6]\n"
          ],
          "name": "stdout"
        }
      ]
    },
    {
      "cell_type": "code",
      "metadata": {
        "id": "Nc3zFHPEDsIL",
        "colab_type": "code",
        "outputId": "890817e4-90e2-43ea-b794-95d8e30aa4ee",
        "colab": {
          "base_uri": "https://localhost:8080/",
          "height": 34
        }
      },
      "source": [
        "l1 = [1, 2, 3]\n",
        "s = 'ABC'\n",
        "l = [*l1, *s]\n",
        "print(l)"
      ],
      "execution_count": 0,
      "outputs": [
        {
          "output_type": "stream",
          "text": [
            "[1, 2, 3, 'A', 'B', 'C']\n"
          ],
          "name": "stdout"
        }
      ]
    },
    {
      "cell_type": "markdown",
      "metadata": {
        "id": "ibVXD_HDDu4X",
        "colab_type": "text"
      },
      "source": [
        "This unpacking works with unordered types such as sets and dictionaries as well.\n",
        "\n",
        "The only thing is that it may not be very useful considering there is no particular ordering, so a first or last element has no real useful meaning."
      ]
    },
    {
      "cell_type": "code",
      "metadata": {
        "id": "yLqgf3BNDtdt",
        "colab_type": "code",
        "colab": {}
      },
      "source": [
        "s = {10, -99, 3, 'd'}"
      ],
      "execution_count": 0,
      "outputs": []
    },
    {
      "cell_type": "code",
      "metadata": {
        "id": "rPPVY2rBDxbj",
        "colab_type": "code",
        "outputId": "5a420ffc-ba0f-4683-e86f-688a68970042",
        "colab": {
          "base_uri": "https://localhost:8080/",
          "height": 85
        }
      },
      "source": [
        "for c in s:\n",
        "    print(c)"
      ],
      "execution_count": 0,
      "outputs": [
        {
          "output_type": "stream",
          "text": [
            "d\n",
            "10\n",
            "3\n",
            "-99\n"
          ],
          "name": "stdout"
        }
      ]
    },
    {
      "cell_type": "markdown",
      "metadata": {
        "id": "PZESzUHED1G-",
        "colab_type": "text"
      },
      "source": [
        "As you can see, the order of the elements when we created the set was not retained!"
      ]
    },
    {
      "cell_type": "code",
      "metadata": {
        "id": "HzaNZuLgDyl5",
        "colab_type": "code",
        "outputId": "1993f9c7-2b26-461e-b251-ea6cc777ba3d",
        "colab": {
          "base_uri": "https://localhost:8080/",
          "height": 68
        }
      },
      "source": [
        "s = {10, -99, 3, 'd'}\n",
        "a, b, *c = s\n",
        "print(a)\n",
        "print(b)\n",
        "print(c)"
      ],
      "execution_count": 0,
      "outputs": [
        {
          "output_type": "stream",
          "text": [
            "d\n",
            "10\n",
            "[3, -99]\n"
          ],
          "name": "stdout"
        }
      ]
    },
    {
      "cell_type": "markdown",
      "metadata": {
        "id": "vVcT4s91D4vY",
        "colab_type": "text"
      },
      "source": [
        "So unpacking this way is of limited use.\n",
        "\n",
        "However consider this:"
      ]
    },
    {
      "cell_type": "code",
      "metadata": {
        "id": "0UV5Jz2iD2ew",
        "colab_type": "code",
        "outputId": "8f9c283d-3eef-4364-d7ea-c5797a78761c",
        "colab": {
          "base_uri": "https://localhost:8080/",
          "height": 34
        }
      },
      "source": [
        "s = {10, -99, 3, 'd'}\n",
        "*a, = s\n",
        "print(a)"
      ],
      "execution_count": 0,
      "outputs": [
        {
          "output_type": "stream",
          "text": [
            "['d', 10, 3, -99]\n"
          ],
          "name": "stdout"
        }
      ]
    },
    {
      "cell_type": "markdown",
      "metadata": {
        "id": "eTqB2_xqD9xG",
        "colab_type": "text"
      },
      "source": [
        "At first blush, this doesn't look terribly exciting - we simply unpacked the set values into a list.\n",
        "\n",
        "But this is actually quite useful in both sets and dictionaries to combine things (although to be sure, there are alternative ways to do this as well - which we'll cover later in this course)"
      ]
    },
    {
      "cell_type": "code",
      "metadata": {
        "id": "bEw1Bt7UD6Nd",
        "colab_type": "code",
        "colab": {}
      },
      "source": [
        "s1 = {1, 2, 3}\n",
        "s2 = {3, 4, 5}"
      ],
      "execution_count": 0,
      "outputs": []
    },
    {
      "cell_type": "markdown",
      "metadata": {
        "id": "8iO7xNUhEA1o",
        "colab_type": "text"
      },
      "source": [
        "How can we combine both these sets into a single merged set?"
      ]
    },
    {
      "cell_type": "code",
      "metadata": {
        "id": "GgwXhmj5D_r_",
        "colab_type": "code",
        "outputId": "b454b075-e5c3-4d17-9f72-1ba54cbad885",
        "colab": {
          "base_uri": "https://localhost:8080/",
          "height": 163
        }
      },
      "source": [
        "s1 + s2"
      ],
      "execution_count": 0,
      "outputs": [
        {
          "output_type": "error",
          "ename": "TypeError",
          "evalue": "ignored",
          "traceback": [
            "\u001b[0;31m---------------------------------------------------------------------------\u001b[0m",
            "\u001b[0;31mTypeError\u001b[0m                                 Traceback (most recent call last)",
            "\u001b[0;32m<ipython-input-69-07ecabcb1b41>\u001b[0m in \u001b[0;36m<module>\u001b[0;34m()\u001b[0m\n\u001b[0;32m----> 1\u001b[0;31m \u001b[0ms1\u001b[0m \u001b[0;34m+\u001b[0m \u001b[0ms2\u001b[0m\u001b[0;34m\u001b[0m\u001b[0;34m\u001b[0m\u001b[0m\n\u001b[0m",
            "\u001b[0;31mTypeError\u001b[0m: unsupported operand type(s) for +: 'set' and 'set'"
          ]
        }
      ]
    },
    {
      "cell_type": "markdown",
      "metadata": {
        "id": "OOjk4PcmEFSy",
        "colab_type": "text"
      },
      "source": [
        "Well, **+** doesn't work...\n",
        "</br>\n",
        "</br>\n",
        "We could use the built-in method for unioning sets:"
      ]
    },
    {
      "cell_type": "code",
      "metadata": {
        "id": "ANcbkaG7EDZ1",
        "colab_type": "code",
        "outputId": "131a0aaf-75a2-494b-830a-ab0025e418a9",
        "colab": {
          "base_uri": "https://localhost:8080/",
          "height": 68
        }
      },
      "source": [
        "print(s1)\n",
        "print(s2)\n",
        "s1.union(s2)"
      ],
      "execution_count": 0,
      "outputs": [
        {
          "output_type": "stream",
          "text": [
            "{1, 2, 3}\n",
            "{3, 4, 5}\n"
          ],
          "name": "stdout"
        },
        {
          "output_type": "execute_result",
          "data": {
            "text/plain": [
              "{1, 2, 3, 4, 5}"
            ]
          },
          "metadata": {
            "tags": []
          },
          "execution_count": 70
        }
      ]
    },
    {
      "cell_type": "markdown",
      "metadata": {
        "id": "R01BmOBiEMmZ",
        "colab_type": "text"
      },
      "source": [
        "What about joining 4 different sets?"
      ]
    },
    {
      "cell_type": "code",
      "metadata": {
        "id": "NFy3nR9-EOgB",
        "colab_type": "code",
        "outputId": "9c5d0fe0-11ca-4b30-cbd6-9f78a63b7651",
        "colab": {
          "base_uri": "https://localhost:8080/",
          "height": 51
        }
      },
      "source": [
        "s1 = {1, 2, 3}\n",
        "s2 = {3, 4, 5}\n",
        "s3 = {5, 6, 7}\n",
        "s4 = {7, 8, 9}\n",
        "print(s1.union(s2).union(s3).union(s4))\n",
        "print(s1.union(s2, s3, s4))"
      ],
      "execution_count": 0,
      "outputs": [
        {
          "output_type": "stream",
          "text": [
            "{1, 2, 3, 4, 5, 6, 7, 8, 9}\n",
            "{1, 2, 3, 4, 5, 6, 7, 8, 9}\n"
          ],
          "name": "stdout"
        }
      ]
    },
    {
      "cell_type": "markdown",
      "metadata": {
        "id": "uBHIyhQjERC0",
        "colab_type": "text"
      },
      "source": [
        "Or we could use unpacking in this way:"
      ]
    },
    {
      "cell_type": "code",
      "metadata": {
        "id": "YRbb6w7dEPpk",
        "colab_type": "code",
        "outputId": "b4a879c5-657e-48f5-a587-fafa4750269a",
        "colab": {
          "base_uri": "https://localhost:8080/",
          "height": 34
        }
      },
      "source": [
        "{*s1, *s2, *s3, *s4}"
      ],
      "execution_count": 0,
      "outputs": [
        {
          "output_type": "execute_result",
          "data": {
            "text/plain": [
              "{1, 2, 3, 4, 5, 6, 7, 8, 9}"
            ]
          },
          "metadata": {
            "tags": []
          },
          "execution_count": 72
        }
      ]
    },
    {
      "cell_type": "markdown",
      "metadata": {
        "id": "yjFw8lxRETRq",
        "colab_type": "text"
      },
      "source": [
        "What we did here was to unpack each set directly into another set!\n",
        "</br>\n",
        "</br>\n",
        "The same works for dictionaries - just remember that **\\*** for dictionaries unpacks the keys only.\n"
      ]
    },
    {
      "cell_type": "code",
      "metadata": {
        "id": "AHprtnQQES12",
        "colab_type": "code",
        "outputId": "6d3ea634-7e4a-4021-b77f-57e5d78b70c0",
        "colab": {
          "base_uri": "https://localhost:8080/",
          "height": 34
        }
      },
      "source": [
        "d1 = {'key1': 1, 'key2': 2}\n",
        "d2 = {'key2': 3, 'key3': 3}\n",
        "[*d1, *d2]"
      ],
      "execution_count": 0,
      "outputs": [
        {
          "output_type": "execute_result",
          "data": {
            "text/plain": [
              "['key1', 'key2', 'key2', 'key3']"
            ]
          },
          "metadata": {
            "tags": []
          },
          "execution_count": 73
        }
      ]
    },
    {
      "cell_type": "markdown",
      "metadata": {
        "id": "MIMkUEr9Ea-C",
        "colab_type": "text"
      },
      "source": [
        "So, is there anything to unpack the key-value pairs for dictionaries instead of just the keys?\n",
        "</br>\n",
        "</br>\n",
        "Yes - we can use the **\\*\\*** operator:\n"
      ]
    },
    {
      "cell_type": "code",
      "metadata": {
        "id": "W7Ejs8nzEZAR",
        "colab_type": "code",
        "outputId": "a96fbb7c-d693-4271-ee52-cd8cc31d493a",
        "colab": {
          "base_uri": "https://localhost:8080/",
          "height": 34
        }
      },
      "source": [
        "d1 = {'key1': 1, 'key2': 2}\n",
        "d2 = {'key2': 3, 'key3': 3}\n",
        "\n",
        "{**d1, **d2}"
      ],
      "execution_count": 0,
      "outputs": [
        {
          "output_type": "execute_result",
          "data": {
            "text/plain": [
              "{'key1': 1, 'key2': 3, 'key3': 3}"
            ]
          },
          "metadata": {
            "tags": []
          },
          "execution_count": 74
        }
      ]
    },
    {
      "cell_type": "markdown",
      "metadata": {
        "id": "zUIjNsrbEkPa",
        "colab_type": "text"
      },
      "source": [
        "Notice what happened to the value of **key2**. The value for the second occurrence of **key2** was retained (overwritten).\n",
        "</br>\n",
        "</br>\n",
        "In fact, if we write the unpacking reversing the order of d1 and d2:"
      ]
    },
    {
      "cell_type": "code",
      "metadata": {
        "id": "CLMG5w8WEjg5",
        "colab_type": "code",
        "outputId": "329e4678-8d91-4956-c7b5-e52c63d471c8",
        "colab": {
          "base_uri": "https://localhost:8080/",
          "height": 34
        }
      },
      "source": [
        "{**d2, **d1}"
      ],
      "execution_count": 0,
      "outputs": [
        {
          "output_type": "execute_result",
          "data": {
            "text/plain": [
              "{'key1': 1, 'key2': 2, 'key3': 3}"
            ]
          },
          "metadata": {
            "tags": []
          },
          "execution_count": 75
        }
      ]
    },
    {
      "cell_type": "markdown",
      "metadata": {
        "id": "3P2BCztOEsDf",
        "colab_type": "text"
      },
      "source": [
        "we see that the value of **key2** is now **2**, since it was the second occurrence.\n",
        "</br>\n",
        "</br>\n",
        "Of course, we can unpack a dictionary into a dictionary as seen above, but we can mix in our own key-value pairs as well - it is just a dictionary literal after all."
      ]
    },
    {
      "cell_type": "code",
      "metadata": {
        "id": "nS-Wsy0jErN2",
        "colab_type": "code",
        "outputId": "bce12f86-9066-4cfe-d3f7-44d327282763",
        "colab": {
          "base_uri": "https://localhost:8080/",
          "height": 34
        }
      },
      "source": [
        "{'a': 1, 'b': 2, **d1, **d2, 'c':3}"
      ],
      "execution_count": 0,
      "outputs": [
        {
          "output_type": "execute_result",
          "data": {
            "text/plain": [
              "{'a': 1, 'b': 2, 'c': 3, 'key1': 1, 'key2': 3, 'key3': 3}"
            ]
          },
          "metadata": {
            "tags": []
          },
          "execution_count": 76
        }
      ]
    },
    {
      "cell_type": "markdown",
      "metadata": {
        "id": "AeFG-Z_bFJRd",
        "colab_type": "text"
      },
      "source": [
        "Again, if we have the same keys, only the \"latest\" value of the key is retained:"
      ]
    },
    {
      "cell_type": "code",
      "metadata": {
        "id": "f4jHDq6UFIS-",
        "colab_type": "code",
        "outputId": "feda9bbe-0ec0-4c64-b26a-8e58d457ec4a",
        "colab": {
          "base_uri": "https://localhost:8080/",
          "height": 34
        }
      },
      "source": [
        "{'key1': 100, **d1, **d2, 'key3': 200}"
      ],
      "execution_count": 0,
      "outputs": [
        {
          "output_type": "execute_result",
          "data": {
            "text/plain": [
              "{'key1': 1, 'key2': 3, 'key3': 200}"
            ]
          },
          "metadata": {
            "tags": []
          },
          "execution_count": 77
        }
      ]
    },
    {
      "cell_type": "markdown",
      "metadata": {
        "id": "UXuaLRdxFMq4",
        "colab_type": "text"
      },
      "source": [
        "### Nested Unpacking"
      ]
    },
    {
      "cell_type": "markdown",
      "metadata": {
        "id": "0DbTstSSFO5i",
        "colab_type": "text"
      },
      "source": [
        "Python even supports nested unpacking:"
      ]
    },
    {
      "cell_type": "code",
      "metadata": {
        "id": "kXDx8ZufFK5P",
        "colab_type": "code",
        "outputId": "30c3231e-4e58-4f5d-b4ca-306e5b6604da",
        "colab": {
          "base_uri": "https://localhost:8080/",
          "height": 85
        }
      },
      "source": [
        "a, b, (c, d) = [1, 2, ['X', 'Y']]\n",
        "print(a)\n",
        "print(b)\n",
        "print(c)\n",
        "print(d)"
      ],
      "execution_count": 0,
      "outputs": [
        {
          "output_type": "stream",
          "text": [
            "1\n",
            "2\n",
            "X\n",
            "Y\n"
          ],
          "name": "stdout"
        }
      ]
    },
    {
      "cell_type": "markdown",
      "metadata": {
        "id": "VfskOaYkFSCc",
        "colab_type": "text"
      },
      "source": [
        "In fact, since a string is an iterable, we can even write:"
      ]
    },
    {
      "cell_type": "code",
      "metadata": {
        "id": "FSn6gAY2FQTC",
        "colab_type": "code",
        "outputId": "16dd26a9-b756-4bbc-e407-50d7980ef22c",
        "colab": {
          "base_uri": "https://localhost:8080/",
          "height": 85
        }
      },
      "source": [
        "a, b, (c, d) = [1, 2, 'XY']\n",
        "print(a)\n",
        "print(b)\n",
        "print(c)\n",
        "print(d)"
      ],
      "execution_count": 0,
      "outputs": [
        {
          "output_type": "stream",
          "text": [
            "1\n",
            "2\n",
            "X\n",
            "Y\n"
          ],
          "name": "stdout"
        }
      ]
    },
    {
      "cell_type": "markdown",
      "metadata": {
        "id": "erU7g4BqFUgq",
        "colab_type": "text"
      },
      "source": [
        "We can even write something like this:"
      ]
    },
    {
      "cell_type": "code",
      "metadata": {
        "id": "0W2IcYa9FTdy",
        "colab_type": "code",
        "outputId": "93d85e0c-a803-4305-d831-df20d30fee2c",
        "colab": {
          "base_uri": "https://localhost:8080/",
          "height": 102
        }
      },
      "source": [
        "a, b, (c, d, *e) = [1, 2, 'python']\n",
        "print(a)\n",
        "print(b)\n",
        "print(c)\n",
        "print(d)\n",
        "print(e)"
      ],
      "execution_count": 0,
      "outputs": [
        {
          "output_type": "stream",
          "text": [
            "1\n",
            "2\n",
            "p\n",
            "y\n",
            "['t', 'h', 'o', 'n']\n"
          ],
          "name": "stdout"
        }
      ]
    },
    {
      "cell_type": "markdown",
      "metadata": {
        "id": "7eYrg36cFXAW",
        "colab_type": "text"
      },
      "source": [
        "Remember when we said that we can use a * only **once**...\n",
        "</br>\n",
        "</br>\n",
        "How about this then?\n"
      ]
    },
    {
      "cell_type": "code",
      "metadata": {
        "id": "VOII-Z56FV3G",
        "colab_type": "code",
        "outputId": "931e358e-44e7-4f6e-ac2f-26bc02953a7d",
        "colab": {
          "base_uri": "https://localhost:8080/",
          "height": 102
        }
      },
      "source": [
        "a, *b, (c, d, *e) = [1, 2, 3, 'python']\n",
        "print(a)\n",
        "print(b)\n",
        "print(c)\n",
        "print(d)\n",
        "print(e)"
      ],
      "execution_count": 0,
      "outputs": [
        {
          "output_type": "stream",
          "text": [
            "1\n",
            "[2, 3]\n",
            "p\n",
            "y\n",
            "['t', 'h', 'o', 'n']\n"
          ],
          "name": "stdout"
        }
      ]
    },
    {
      "cell_type": "markdown",
      "metadata": {
        "id": "2bZXY6Z1FdTj",
        "colab_type": "text"
      },
      "source": [
        "We can break down what happened here in multiple steps:"
      ]
    },
    {
      "cell_type": "code",
      "metadata": {
        "id": "Y5GUb6W_Fbfd",
        "colab_type": "code",
        "outputId": "d66dccd7-75b1-4c8a-cce9-8ed50aa3e27c",
        "colab": {
          "base_uri": "https://localhost:8080/",
          "height": 68
        }
      },
      "source": [
        "a, *b, tmp = [1, 2, 3, 'python']\n",
        "print(a)\n",
        "print(b)\n",
        "print(tmp)"
      ],
      "execution_count": 0,
      "outputs": [
        {
          "output_type": "stream",
          "text": [
            "1\n",
            "[2, 3]\n",
            "python\n"
          ],
          "name": "stdout"
        }
      ]
    },
    {
      "cell_type": "code",
      "metadata": {
        "id": "OmkQbldiFeyB",
        "colab_type": "code",
        "outputId": "ec63d9d3-6659-47da-d5fa-42f8875c8984",
        "colab": {
          "base_uri": "https://localhost:8080/",
          "height": 68
        }
      },
      "source": [
        "c, d, *e = tmp\n",
        "print(c)\n",
        "print(d)\n",
        "print(e)"
      ],
      "execution_count": 0,
      "outputs": [
        {
          "output_type": "stream",
          "text": [
            "p\n",
            "y\n",
            "['t', 'h', 'o', 'n']\n"
          ],
          "name": "stdout"
        }
      ]
    },
    {
      "cell_type": "markdown",
      "metadata": {
        "id": "ibAFHNFfFiAI",
        "colab_type": "text"
      },
      "source": [
        "So putting it together we get our original line of code:"
      ]
    },
    {
      "cell_type": "code",
      "metadata": {
        "id": "9zOSgBSTFgJD",
        "colab_type": "code",
        "outputId": "7f19f95a-b601-4035-d37f-634f8819432d",
        "colab": {
          "base_uri": "https://localhost:8080/",
          "height": 102
        }
      },
      "source": [
        "a, *b, (c, d, *e) = [1, 2, 3, 'python']\n",
        "print(a)\n",
        "print(b)\n",
        "print(c)\n",
        "print(d)\n",
        "print(e)"
      ],
      "execution_count": 0,
      "outputs": [
        {
          "output_type": "stream",
          "text": [
            "1\n",
            "[2, 3]\n",
            "p\n",
            "y\n",
            "['t', 'h', 'o', 'n']\n"
          ],
          "name": "stdout"
        }
      ]
    },
    {
      "cell_type": "markdown",
      "metadata": {
        "id": "0r9LbDSeFqJF",
        "colab_type": "text"
      },
      "source": [
        "If we wanted to do the same thing using slicing:"
      ]
    },
    {
      "cell_type": "code",
      "metadata": {
        "id": "PuQPZJh2Fo2P",
        "colab_type": "code",
        "outputId": "aa519e9a-0a7e-4601-bd8f-d7138b87b777",
        "colab": {
          "base_uri": "https://localhost:8080/",
          "height": 34
        }
      },
      "source": [
        "l = [1, 2, 3, 'python']\n",
        "l[0], l[1:-1], l[-1][0], l[-1][1], list(l[-1][2:])"
      ],
      "execution_count": 0,
      "outputs": [
        {
          "output_type": "execute_result",
          "data": {
            "text/plain": [
              "(1, [2, 3], 'p', 'y', ['t', 'h', 'o', 'n'])"
            ]
          },
          "metadata": {
            "tags": []
          },
          "execution_count": 85
        }
      ]
    },
    {
      "cell_type": "code",
      "metadata": {
        "id": "CTPJ49fbFrhX",
        "colab_type": "code",
        "outputId": "a276f44f-c91f-4774-ae59-0c61988468e2",
        "colab": {
          "base_uri": "https://localhost:8080/",
          "height": 102
        }
      },
      "source": [
        "l = [1, 2, 3, 'python']\n",
        "a, b, c, d, e = l[0], l[1:-1], l[-1][0], l[-1][1], list(l[-1][2:])\n",
        "print(a)\n",
        "print(b)\n",
        "print(c)\n",
        "print(d)\n",
        "print(e)"
      ],
      "execution_count": 0,
      "outputs": [
        {
          "output_type": "stream",
          "text": [
            "1\n",
            "[2, 3]\n",
            "p\n",
            "y\n",
            "['t', 'h', 'o', 'n']\n"
          ],
          "name": "stdout"
        }
      ]
    },
    {
      "cell_type": "markdown",
      "metadata": {
        "id": "Kl0tlbuIFt5u",
        "colab_type": "text"
      },
      "source": [
        "Of course, this works for arbitrary lengths and indexable sequence types:"
      ]
    },
    {
      "cell_type": "code",
      "metadata": {
        "id": "imKOScihFspj",
        "colab_type": "code",
        "outputId": "1f7cf78b-1994-49d0-bda4-c0ecf1f6257c",
        "colab": {
          "base_uri": "https://localhost:8080/",
          "height": 102
        }
      },
      "source": [
        "l = [1, 2, 3, 4, 'unladen swallow']\n",
        "a, b, c, d, e = l[0], l[1:-1], l[-1][0], l[-1][1], list(l[-1][2:])\n",
        "print(a)\n",
        "print(b)\n",
        "print(c)\n",
        "print(d)\n",
        "print(e)"
      ],
      "execution_count": 0,
      "outputs": [
        {
          "output_type": "stream",
          "text": [
            "1\n",
            "[2, 3, 4]\n",
            "u\n",
            "n\n",
            "['l', 'a', 'd', 'e', 'n', ' ', 's', 'w', 'a', 'l', 'l', 'o', 'w']\n"
          ],
          "name": "stdout"
        }
      ]
    },
    {
      "cell_type": "markdown",
      "metadata": {
        "id": "K0-7BcJ3FwbA",
        "colab_type": "text"
      },
      "source": [
        "or even:"
      ]
    },
    {
      "cell_type": "code",
      "metadata": {
        "id": "kzqWJFRvFvRM",
        "colab_type": "code",
        "outputId": "f97e0a8b-678b-4ca2-ba46-8f98800158a4",
        "colab": {
          "base_uri": "https://localhost:8080/",
          "height": 102
        }
      },
      "source": [
        "l = [1, 2, 3, 4, ['a', 'b', 'c', 'd']]\n",
        "a, b, c, d, e = l[0], l[1:-1], l[-1][0], l[-1][1], list(l[-1][2:])\n",
        "print(a)\n",
        "print(b)\n",
        "print(c)\n",
        "print(d)\n",
        "print(e)"
      ],
      "execution_count": 0,
      "outputs": [
        {
          "output_type": "stream",
          "text": [
            "1\n",
            "[2, 3, 4]\n",
            "a\n",
            "b\n",
            "['c', 'd']\n"
          ],
          "name": "stdout"
        }
      ]
    },
    {
      "cell_type": "markdown",
      "metadata": {
        "id": "95DmJkhRi-y4",
        "colab_type": "text"
      },
      "source": [
        "# 5.*ARGS"
      ]
    },
    {
      "cell_type": "markdown",
      "metadata": {
        "id": "N3tIAthvi_Zm",
        "colab_type": "text"
      },
      "source": [
        "![alt text](https://drive.google.com/uc?id=1ljSEgf2-bg2xu02nYZXpp9CUpBCs_PuP)"
      ]
    },
    {
      "cell_type": "markdown",
      "metadata": {
        "id": "eEVYGnIqi_l-",
        "colab_type": "text"
      },
      "source": [
        "![alt text](https://drive.google.com/uc?id=1J601rUKwjG7GIb80V5NchcaF17vZ6HHd)"
      ]
    },
    {
      "cell_type": "markdown",
      "metadata": {
        "id": "TyhS6AdRi_x1",
        "colab_type": "text"
      },
      "source": [
        "![alt text](https://drive.google.com/uc?id=1GmLwxOAIfzbyZnTU-72_ixP2D7HxdTDh)"
      ]
    },
    {
      "cell_type": "markdown",
      "metadata": {
        "id": "7_9yWIWHjAS0",
        "colab_type": "text"
      },
      "source": [
        "![alt text](https://drive.google.com/uc?id=1oKNeyCqqeatpapxCk2TkUcv4ltNTjFu7)"
      ]
    },
    {
      "cell_type": "markdown",
      "metadata": {
        "id": "g9Co_iB_jkLD",
        "colab_type": "text"
      },
      "source": [
        "## Codig time"
      ]
    },
    {
      "cell_type": "markdown",
      "metadata": {
        "id": "hn0ztx-VjnJ0",
        "colab_type": "text"
      },
      "source": [
        "Recall from iterable unpacking:"
      ]
    },
    {
      "cell_type": "code",
      "metadata": {
        "id": "G0Z_by_VkH8S",
        "colab_type": "code",
        "colab": {}
      },
      "source": [
        "a, b, *c = 10, 20, 'a', 'b'"
      ],
      "execution_count": 0,
      "outputs": []
    },
    {
      "cell_type": "code",
      "metadata": {
        "id": "C1v9NC8UkJ9s",
        "colab_type": "code",
        "colab": {}
      },
      "source": [
        "print(a, b)\n",
        "print(c)"
      ],
      "execution_count": 0,
      "outputs": []
    },
    {
      "cell_type": "markdown",
      "metadata": {
        "id": "KY4M0EQ1kOpn",
        "colab_type": "text"
      },
      "source": [
        "We can use a similar concept in function definitions to allow for arbitrary numbers of **positional** parameters/arguments:"
      ]
    },
    {
      "cell_type": "code",
      "metadata": {
        "id": "P0r4vMYekQpa",
        "colab_type": "code",
        "colab": {}
      },
      "source": [
        "def func1(a, b, *args):\n",
        "    print(a)\n",
        "    print(b)\n",
        "    print(args)"
      ],
      "execution_count": 0,
      "outputs": []
    },
    {
      "cell_type": "code",
      "metadata": {
        "id": "dc0eGcwrkUaC",
        "colab_type": "code",
        "colab": {}
      },
      "source": [
        "func1(1, 2, 'a', 'b')"
      ],
      "execution_count": 0,
      "outputs": []
    },
    {
      "cell_type": "markdown",
      "metadata": {
        "id": "-QqsI4MtkXFc",
        "colab_type": "text"
      },
      "source": [
        "A few things to note:\n",
        "</br>\n",
        "</br>\n",
        "1. Unlike iterable unpacking, **\\*args** will be a **tuple**, not a list.\n",
        "\n",
        "2. The name of the parameter **args** can be anything you prefer\n",
        "\n",
        "3. You cannot specify positional arguments **after** the **\\*args** parameter - this does something different that we'll cover in the next lecture."
      ]
    },
    {
      "cell_type": "code",
      "metadata": {
        "id": "xREt_48LFxmU",
        "colab_type": "code",
        "outputId": "ead23176-464a-436e-f1f3-1062eb93c7fe",
        "colab": {
          "base_uri": "https://localhost:8080/",
          "height": 68
        }
      },
      "source": [
        "def func1(a, b, *my_vars):\n",
        "    print(a)\n",
        "    print(b)\n",
        "    print(my_vars)\n",
        "\n",
        "func1(10, 20, 'a', 'b', 'c')"
      ],
      "execution_count": 0,
      "outputs": [
        {
          "output_type": "stream",
          "text": [
            "10\n",
            "20\n",
            "('a', 'b', 'c')\n"
          ],
          "name": "stdout"
        }
      ]
    },
    {
      "cell_type": "code",
      "metadata": {
        "id": "8nv091aakm-u",
        "colab_type": "code",
        "outputId": "dc9f3a49-a858-4240-f9ff-a206ba881bf8",
        "colab": {
          "base_uri": "https://localhost:8080/",
          "height": 197
        }
      },
      "source": [
        "def func1(a, b, *c, d):\n",
        "    print(a)\n",
        "    print(b)\n",
        "    print(c)\n",
        "    print(d)\n",
        "\n",
        "func1(10, 20, 'a', 'b', 100)"
      ],
      "execution_count": 0,
      "outputs": [
        {
          "output_type": "error",
          "ename": "TypeError",
          "evalue": "ignored",
          "traceback": [
            "\u001b[0;31m---------------------------------------------------------------------------\u001b[0m",
            "\u001b[0;31mTypeError\u001b[0m                                 Traceback (most recent call last)",
            "\u001b[0;32m<ipython-input-20-731d4b07c5ba>\u001b[0m in \u001b[0;36m<module>\u001b[0;34m()\u001b[0m\n\u001b[1;32m      5\u001b[0m     \u001b[0mprint\u001b[0m\u001b[0;34m(\u001b[0m\u001b[0md\u001b[0m\u001b[0;34m)\u001b[0m\u001b[0;34m\u001b[0m\u001b[0;34m\u001b[0m\u001b[0m\n\u001b[1;32m      6\u001b[0m \u001b[0;34m\u001b[0m\u001b[0m\n\u001b[0;32m----> 7\u001b[0;31m \u001b[0mfunc1\u001b[0m\u001b[0;34m(\u001b[0m\u001b[0;36m10\u001b[0m\u001b[0;34m,\u001b[0m \u001b[0;36m20\u001b[0m\u001b[0;34m,\u001b[0m \u001b[0;34m'a'\u001b[0m\u001b[0;34m,\u001b[0m \u001b[0;34m'b'\u001b[0m\u001b[0;34m,\u001b[0m \u001b[0;36m100\u001b[0m\u001b[0;34m)\u001b[0m\u001b[0;34m\u001b[0m\u001b[0;34m\u001b[0m\u001b[0m\n\u001b[0m",
            "\u001b[0;31mTypeError\u001b[0m: func1() missing 1 required keyword-only argument: 'd'"
          ]
        }
      ]
    },
    {
      "cell_type": "markdown",
      "metadata": {
        "id": "FMh9hN_9kv5v",
        "colab_type": "text"
      },
      "source": [
        "Let's see how we might use this to calculate the average of an arbitrary number of parameters."
      ]
    },
    {
      "cell_type": "code",
      "metadata": {
        "id": "wKQIyiPEkzzf",
        "colab_type": "code",
        "outputId": "9193c5bf-f97d-43da-e387-bf78c951f9b8",
        "colab": {
          "base_uri": "https://localhost:8080/",
          "height": 34
        }
      },
      "source": [
        "def avg(*args):\n",
        "    count = len(args)\n",
        "    total = sum(args)\n",
        "    return total/count\n",
        "\n",
        "avg(2, 2, 4, 4)"
      ],
      "execution_count": 0,
      "outputs": [
        {
          "output_type": "execute_result",
          "data": {
            "text/plain": [
              "3.0"
            ]
          },
          "metadata": {
            "tags": []
          },
          "execution_count": 2
        }
      ]
    },
    {
      "cell_type": "markdown",
      "metadata": {
        "id": "Vny3kdQok5Ls",
        "colab_type": "text"
      },
      "source": [
        "But watch what happens here:"
      ]
    },
    {
      "cell_type": "code",
      "metadata": {
        "id": "ibTlxu4Dkpkl",
        "colab_type": "code",
        "outputId": "5141f9db-7e36-46e2-b629-36baddefffcd",
        "colab": {
          "base_uri": "https://localhost:8080/",
          "height": 282
        }
      },
      "source": [
        "avg()"
      ],
      "execution_count": 0,
      "outputs": [
        {
          "output_type": "error",
          "ename": "ZeroDivisionError",
          "evalue": "ignored",
          "traceback": [
            "\u001b[0;31m---------------------------------------------------------------------------\u001b[0m",
            "\u001b[0;31mZeroDivisionError\u001b[0m                         Traceback (most recent call last)",
            "\u001b[0;32m<ipython-input-3-f5d909301850>\u001b[0m in \u001b[0;36m<module>\u001b[0;34m()\u001b[0m\n\u001b[0;32m----> 1\u001b[0;31m \u001b[0mavg\u001b[0m\u001b[0;34m(\u001b[0m\u001b[0;34m)\u001b[0m\u001b[0;34m\u001b[0m\u001b[0;34m\u001b[0m\u001b[0m\n\u001b[0m",
            "\u001b[0;32m<ipython-input-2-e7fb04607efc>\u001b[0m in \u001b[0;36mavg\u001b[0;34m(*args)\u001b[0m\n\u001b[1;32m      2\u001b[0m     \u001b[0mcount\u001b[0m \u001b[0;34m=\u001b[0m \u001b[0mlen\u001b[0m\u001b[0;34m(\u001b[0m\u001b[0margs\u001b[0m\u001b[0;34m)\u001b[0m\u001b[0;34m\u001b[0m\u001b[0;34m\u001b[0m\u001b[0m\n\u001b[1;32m      3\u001b[0m     \u001b[0mtotal\u001b[0m \u001b[0;34m=\u001b[0m \u001b[0msum\u001b[0m\u001b[0;34m(\u001b[0m\u001b[0margs\u001b[0m\u001b[0;34m)\u001b[0m\u001b[0;34m\u001b[0m\u001b[0;34m\u001b[0m\u001b[0m\n\u001b[0;32m----> 4\u001b[0;31m     \u001b[0;32mreturn\u001b[0m \u001b[0mtotal\u001b[0m\u001b[0;34m/\u001b[0m\u001b[0mcount\u001b[0m\u001b[0;34m\u001b[0m\u001b[0;34m\u001b[0m\u001b[0m\n\u001b[0m\u001b[1;32m      5\u001b[0m \u001b[0;34m\u001b[0m\u001b[0m\n\u001b[1;32m      6\u001b[0m \u001b[0mavg\u001b[0m\u001b[0;34m(\u001b[0m\u001b[0;36m2\u001b[0m\u001b[0;34m,\u001b[0m \u001b[0;36m2\u001b[0m\u001b[0;34m,\u001b[0m \u001b[0;36m4\u001b[0m\u001b[0;34m,\u001b[0m \u001b[0;36m4\u001b[0m\u001b[0;34m)\u001b[0m\u001b[0;34m\u001b[0m\u001b[0;34m\u001b[0m\u001b[0m\n",
            "\u001b[0;31mZeroDivisionError\u001b[0m: division by zero"
          ]
        }
      ]
    },
    {
      "cell_type": "markdown",
      "metadata": {
        "id": "H-LlMTN8lAs3",
        "colab_type": "text"
      },
      "source": [
        "The problem is that we passed zero arguments.\n",
        "\n",
        "We can fix this in one of two ways:"
      ]
    },
    {
      "cell_type": "code",
      "metadata": {
        "id": "OPzLVzEvk7RS",
        "colab_type": "code",
        "outputId": "75c77fcd-4251-47dc-82ce-f06e294f8d57",
        "colab": {
          "base_uri": "https://localhost:8080/",
          "height": 34
        }
      },
      "source": [
        "def avg(*args):\n",
        "    count = len(args)\n",
        "    total = sum(args)\n",
        "    if count == 0:\n",
        "        return 0\n",
        "    else:\n",
        "        return total/count\n",
        "\n",
        "avg(2, 2, 4, 4)"
      ],
      "execution_count": 0,
      "outputs": [
        {
          "output_type": "execute_result",
          "data": {
            "text/plain": [
              "3.0"
            ]
          },
          "metadata": {
            "tags": []
          },
          "execution_count": 4
        }
      ]
    },
    {
      "cell_type": "code",
      "metadata": {
        "id": "9YVcVOollF3x",
        "colab_type": "code",
        "outputId": "8adc9c4a-95f4-4bbf-896d-c583ef455a83",
        "colab": {
          "base_uri": "https://localhost:8080/",
          "height": 34
        }
      },
      "source": [
        "avg()"
      ],
      "execution_count": 0,
      "outputs": [
        {
          "output_type": "execute_result",
          "data": {
            "text/plain": [
              "0"
            ]
          },
          "metadata": {
            "tags": []
          },
          "execution_count": 5
        }
      ]
    },
    {
      "cell_type": "markdown",
      "metadata": {
        "id": "kV5NOfkRCQUX",
        "colab_type": "text"
      },
      "source": [
        "We can short circuit and avoid if/else statement by doing this:"
      ]
    },
    {
      "cell_type": "code",
      "metadata": {
        "id": "m_wSZrmxCMkc",
        "colab_type": "code",
        "colab": {}
      },
      "source": [
        "def avg(*args):\n",
        "    count = len(args)\n",
        "    total = sum(args)\n",
        "    return count and total/count\n"
      ],
      "execution_count": 0,
      "outputs": []
    },
    {
      "cell_type": "code",
      "metadata": {
        "id": "ccHKWSKeCk1U",
        "colab_type": "code",
        "outputId": "c76c8177-ae34-4147-e1b4-2d60a9de161c",
        "colab": {
          "base_uri": "https://localhost:8080/",
          "height": 34
        }
      },
      "source": [
        "avg()"
      ],
      "execution_count": 0,
      "outputs": [
        {
          "output_type": "execute_result",
          "data": {
            "text/plain": [
              "0"
            ]
          },
          "metadata": {
            "tags": []
          },
          "execution_count": 22
        }
      ]
    },
    {
      "cell_type": "markdown",
      "metadata": {
        "id": "vaLE8A0zlJX3",
        "colab_type": "text"
      },
      "source": [
        "But we may not want to allow specifying zero arguments, in which case we can split our parameters into a required (non-defaulted) positional argument, and the rest:"
      ]
    },
    {
      "cell_type": "code",
      "metadata": {
        "id": "lzR914AElGsD",
        "colab_type": "code",
        "outputId": "64cd2fa0-c04e-4853-d612-8d1b04154032",
        "colab": {
          "base_uri": "https://localhost:8080/",
          "height": 34
        }
      },
      "source": [
        "def avg(a, *args):\n",
        "    count = len(args) + 1\n",
        "    total = a + sum(args)\n",
        "    return total/count\n",
        "\n",
        "avg(2, 2, 4, 4)"
      ],
      "execution_count": 0,
      "outputs": [
        {
          "output_type": "execute_result",
          "data": {
            "text/plain": [
              "3.0"
            ]
          },
          "metadata": {
            "tags": []
          },
          "execution_count": 23
        }
      ]
    },
    {
      "cell_type": "code",
      "metadata": {
        "id": "R-LsfJxFlO8P",
        "colab_type": "code",
        "outputId": "ab66f462-c3bf-4187-d8c5-444ac6cd99c3",
        "colab": {
          "base_uri": "https://localhost:8080/",
          "height": 163
        }
      },
      "source": [
        "avg()"
      ],
      "execution_count": 0,
      "outputs": [
        {
          "output_type": "error",
          "ename": "TypeError",
          "evalue": "ignored",
          "traceback": [
            "\u001b[0;31m---------------------------------------------------------------------------\u001b[0m",
            "\u001b[0;31mTypeError\u001b[0m                                 Traceback (most recent call last)",
            "\u001b[0;32m<ipython-input-24-f5d909301850>\u001b[0m in \u001b[0;36m<module>\u001b[0;34m()\u001b[0m\n\u001b[0;32m----> 1\u001b[0;31m \u001b[0mavg\u001b[0m\u001b[0;34m(\u001b[0m\u001b[0;34m)\u001b[0m\u001b[0;34m\u001b[0m\u001b[0;34m\u001b[0m\u001b[0m\n\u001b[0m",
            "\u001b[0;31mTypeError\u001b[0m: avg() missing 1 required positional argument: 'a'"
          ]
        }
      ]
    },
    {
      "cell_type": "markdown",
      "metadata": {
        "id": "KI_HZOxelStU",
        "colab_type": "text"
      },
      "source": [
        "As you can see, an exception occurs if we do not specify at least one argument."
      ]
    },
    {
      "cell_type": "markdown",
      "metadata": {
        "id": "akd26TJUlTiJ",
        "colab_type": "text"
      },
      "source": [
        "### Unpacking an iterable into positional arguments"
      ]
    },
    {
      "cell_type": "code",
      "metadata": {
        "id": "A2ULVhG6lWNZ",
        "colab_type": "code",
        "colab": {}
      },
      "source": [
        "def func1(a, b, c):\n",
        "    print(a)\n",
        "    print(b)\n",
        "    print(c)\n",
        "\n",
        "l = [10, 20, 30]"
      ],
      "execution_count": 0,
      "outputs": []
    },
    {
      "cell_type": "markdown",
      "metadata": {
        "id": "XCmV2wmxlc8e",
        "colab_type": "text"
      },
      "source": [
        "This will **not** work:"
      ]
    },
    {
      "cell_type": "code",
      "metadata": {
        "id": "cF7xZLiqlQyy",
        "colab_type": "code",
        "outputId": "5735742e-9ea0-4710-c314-d9e1e6d349d4",
        "colab": {
          "base_uri": "https://localhost:8080/",
          "height": 163
        }
      },
      "source": [
        "func1(l)"
      ],
      "execution_count": 0,
      "outputs": [
        {
          "output_type": "error",
          "ename": "TypeError",
          "evalue": "ignored",
          "traceback": [
            "\u001b[0;31m---------------------------------------------------------------------------\u001b[0m",
            "\u001b[0;31mTypeError\u001b[0m                                 Traceback (most recent call last)",
            "\u001b[0;32m<ipython-input-9-784040501ba7>\u001b[0m in \u001b[0;36m<module>\u001b[0;34m()\u001b[0m\n\u001b[0;32m----> 1\u001b[0;31m \u001b[0mfunc1\u001b[0m\u001b[0;34m(\u001b[0m\u001b[0ml\u001b[0m\u001b[0;34m)\u001b[0m\u001b[0;34m\u001b[0m\u001b[0;34m\u001b[0m\u001b[0m\n\u001b[0m",
            "\u001b[0;31mTypeError\u001b[0m: func1() missing 2 required positional arguments: 'b' and 'c'"
          ]
        }
      ]
    },
    {
      "cell_type": "markdown",
      "metadata": {
        "id": "A7E4Oj7zljPD",
        "colab_type": "text"
      },
      "source": [
        "The function expects three positional arguments, but we only supplied a single one (albeit a list).\n",
        "\n",
        "But we could unpack the list, and **then** pass it to as the function arguments:"
      ]
    },
    {
      "cell_type": "code",
      "metadata": {
        "id": "Ho9wYBQhlhYf",
        "colab_type": "code",
        "outputId": "e1e8eef1-15ef-4387-8764-ce8db7547768",
        "colab": {
          "base_uri": "https://localhost:8080/",
          "height": 34
        }
      },
      "source": [
        "*l,"
      ],
      "execution_count": 0,
      "outputs": [
        {
          "output_type": "execute_result",
          "data": {
            "text/plain": [
              "(10, 20, 30)"
            ]
          },
          "metadata": {
            "tags": []
          },
          "execution_count": 29
        }
      ]
    },
    {
      "cell_type": "code",
      "metadata": {
        "id": "DfpP6LM1lkvj",
        "colab_type": "code",
        "outputId": "958c2d1d-2730-4d15-d95d-a99b799740a2",
        "colab": {
          "base_uri": "https://localhost:8080/",
          "height": 68
        }
      },
      "source": [
        "func1(*l)"
      ],
      "execution_count": 0,
      "outputs": [
        {
          "output_type": "stream",
          "text": [
            "10\n",
            "20\n",
            "30\n"
          ],
          "name": "stdout"
        }
      ]
    },
    {
      "cell_type": "markdown",
      "metadata": {
        "id": "KU2k9f7jlqt-",
        "colab_type": "text"
      },
      "source": [
        "What about mixing positional and keyword arguments with this?"
      ]
    },
    {
      "cell_type": "code",
      "metadata": {
        "id": "6gXTH5QQlpYd",
        "colab_type": "code",
        "outputId": "5089ec6b-e082-4a50-fa37-1147b43ca4b2",
        "colab": {
          "base_uri": "https://localhost:8080/",
          "height": 129
        }
      },
      "source": [
        "def func1(a, b, c, *d):\n",
        "    print(a)\n",
        "    print(b)\n",
        "    print(c)\n",
        "    print(d)\n",
        "\n",
        "func1(10, c=20, b=10, 'a', 'b')"
      ],
      "execution_count": 0,
      "outputs": [
        {
          "output_type": "error",
          "ename": "SyntaxError",
          "evalue": "ignored",
          "traceback": [
            "\u001b[0;36m  File \u001b[0;32m\"<ipython-input-30-a96a5e333513>\"\u001b[0;36m, line \u001b[0;32m7\u001b[0m\n\u001b[0;31m    func1(10, c=20, b=10, 'a', 'b')\u001b[0m\n\u001b[0m                         ^\u001b[0m\n\u001b[0;31mSyntaxError\u001b[0m\u001b[0;31m:\u001b[0m positional argument follows keyword argument\n"
          ]
        }
      ]
    },
    {
      "cell_type": "markdown",
      "metadata": {
        "id": "aK1ALpbLlxAz",
        "colab_type": "text"
      },
      "source": [
        "Recall that once a keyword argument is used in a function call, we **cannot** use positional arguments after that. \n",
        "\n",
        "However, in the next lecture we'll look at how to address this issue."
      ]
    },
    {
      "cell_type": "markdown",
      "metadata": {
        "id": "ph0y_epfmfUr",
        "colab_type": "text"
      },
      "source": [
        "# 6.Keyword Arguments"
      ]
    },
    {
      "cell_type": "markdown",
      "metadata": {
        "id": "v9bh4XF8mk7L",
        "colab_type": "text"
      },
      "source": [
        "![alt text](https://drive.google.com/uc?id=1-sPK1aHLjFhpwE7wtR7euNLpifeqU-Hd)"
      ]
    },
    {
      "cell_type": "markdown",
      "metadata": {
        "id": "CvXhV6e2mlzL",
        "colab_type": "text"
      },
      "source": [
        "![alt text](https://drive.google.com/uc?id=1fOuOJSi8slqUvI_um_FaXIGxRp52C6ao)"
      ]
    },
    {
      "cell_type": "markdown",
      "metadata": {
        "id": "8ZzYsamQml-h",
        "colab_type": "text"
      },
      "source": [
        "![alt text](https://drive.google.com/uc?id=1I7A85rR3r2QNuAq_VhuDcxqEPm3InJEg)"
      ]
    },
    {
      "cell_type": "markdown",
      "metadata": {
        "id": "Y6x18y-qmmHV",
        "colab_type": "text"
      },
      "source": [
        "![alt text](https://drive.google.com/uc?id=1LX1lvrE8X0MJ1LX03ayKOSjbKr48LArC)"
      ]
    },
    {
      "cell_type": "markdown",
      "metadata": {
        "id": "Mm2v4x2Dn1UT",
        "colab_type": "text"
      },
      "source": [
        "## Coding time"
      ]
    },
    {
      "cell_type": "markdown",
      "metadata": {
        "id": "bb_rn8uLog50",
        "colab_type": "text"
      },
      "source": [
        "Recall: positional parameters defined in functions can also be passed as named (keyword) arguments."
      ]
    },
    {
      "cell_type": "code",
      "metadata": {
        "id": "uSSW8rTzlt0t",
        "colab_type": "code",
        "outputId": "884d18f6-2ed3-4dee-9269-d087a0a4fc4f",
        "colab": {
          "base_uri": "https://localhost:8080/",
          "height": 34
        }
      },
      "source": [
        "def func1(a, b, c):\n",
        "    print(a, b, c)\n",
        "\n",
        "func1(10, 20, 30)"
      ],
      "execution_count": 0,
      "outputs": [
        {
          "output_type": "stream",
          "text": [
            "10 20 30\n"
          ],
          "name": "stdout"
        }
      ]
    },
    {
      "cell_type": "code",
      "metadata": {
        "id": "nZ-43o4ConIi",
        "colab_type": "code",
        "outputId": "2c1c4f74-32cd-4e9f-b17e-0d2db50064d3",
        "colab": {
          "base_uri": "https://localhost:8080/",
          "height": 34
        }
      },
      "source": [
        "func1(b=20, c=30, a=10)"
      ],
      "execution_count": 0,
      "outputs": [
        {
          "output_type": "stream",
          "text": [
            "10 20 30\n"
          ],
          "name": "stdout"
        }
      ]
    },
    {
      "cell_type": "code",
      "metadata": {
        "id": "72k55Jd6ooyL",
        "colab_type": "code",
        "outputId": "43bac317-1c43-4b12-aa9a-79f8e1552df6",
        "colab": {
          "base_uri": "https://localhost:8080/",
          "height": 34
        }
      },
      "source": [
        "func1(10, c=30, b=20)"
      ],
      "execution_count": 0,
      "outputs": [
        {
          "output_type": "stream",
          "text": [
            "10 20 30\n"
          ],
          "name": "stdout"
        }
      ]
    },
    {
      "cell_type": "markdown",
      "metadata": {
        "id": "NXONwcHFork3",
        "colab_type": "text"
      },
      "source": [
        "Using a named argument is optional and up to the caller.\n",
        "</br>\n",
        "</br>\n",
        "What if we wanted to force calls to our function to use named arguments?\n",
        "</br>\n",
        "</br>\n",
        "We can do so by **exhausting** all the positional arguments, and then adding some additional parameters in teh function definition:"
      ]
    },
    {
      "cell_type": "code",
      "metadata": {
        "id": "LQaIVy6kop8Q",
        "colab_type": "code",
        "colab": {}
      },
      "source": [
        "def func1(a, b, *args, d):\n",
        "    print(a, b, args, d)"
      ],
      "execution_count": 0,
      "outputs": []
    },
    {
      "cell_type": "markdown",
      "metadata": {
        "id": "R8wHfEdlo9V_",
        "colab_type": "text"
      },
      "source": [
        "Now we will need at least two positional arguments, an optional (possibly even zero) number of additional arguments, and this extra argument which is supposed to go into **d**. This argument can **only** be passed to the function using a named (keyword) argument:\n",
        "</br>\n",
        "</br>\n",
        "So, this will not work:"
      ]
    },
    {
      "cell_type": "code",
      "metadata": {
        "id": "wN6Ny0oro8J4",
        "colab_type": "code",
        "outputId": "96dab1cd-8bb0-4e2a-ecb2-9175f5595121",
        "colab": {
          "base_uri": "https://localhost:8080/",
          "height": 163
        }
      },
      "source": [
        "func1(10, 20, 'a', 'b', 100)"
      ],
      "execution_count": 0,
      "outputs": [
        {
          "output_type": "error",
          "ename": "TypeError",
          "evalue": "ignored",
          "traceback": [
            "\u001b[0;31m---------------------------------------------------------------------------\u001b[0m",
            "\u001b[0;31mTypeError\u001b[0m                                 Traceback (most recent call last)",
            "\u001b[0;32m<ipython-input-5-ab2765da8fb8>\u001b[0m in \u001b[0;36m<module>\u001b[0;34m()\u001b[0m\n\u001b[0;32m----> 1\u001b[0;31m \u001b[0mfunc1\u001b[0m\u001b[0;34m(\u001b[0m\u001b[0;36m10\u001b[0m\u001b[0;34m,\u001b[0m \u001b[0;36m20\u001b[0m\u001b[0;34m,\u001b[0m \u001b[0;34m'a'\u001b[0m\u001b[0;34m,\u001b[0m \u001b[0;34m'b'\u001b[0m\u001b[0;34m,\u001b[0m \u001b[0;36m100\u001b[0m\u001b[0;34m)\u001b[0m\u001b[0;34m\u001b[0m\u001b[0;34m\u001b[0m\u001b[0m\n\u001b[0m",
            "\u001b[0;31mTypeError\u001b[0m: func1() missing 1 required keyword-only argument: 'd'"
          ]
        }
      ]
    },
    {
      "cell_type": "markdown",
      "metadata": {
        "id": "ddywmmAJpYh9",
        "colab_type": "text"
      },
      "source": [
        "But this will:"
      ]
    },
    {
      "cell_type": "code",
      "metadata": {
        "id": "yy2Znl8apWW1",
        "colab_type": "code",
        "colab": {}
      },
      "source": [
        "func1(10, 20, 'a', 'b', d=100)"
      ],
      "execution_count": 0,
      "outputs": []
    },
    {
      "cell_type": "markdown",
      "metadata": {
        "id": "dZ74PZ1vpagM",
        "colab_type": "text"
      },
      "source": [
        "As you can see, **d** took the keyword argument, while the remaining arguments were handled as positional parameters.\n",
        "</br>\n",
        "</br>\n",
        "We can even define a function that has only optional positional arguments and mandatory keyword arguments:"
      ]
    },
    {
      "cell_type": "code",
      "metadata": {
        "id": "K9OQHGOxpgMF",
        "colab_type": "code",
        "colab": {}
      },
      "source": [
        "def func1(*args, d):\n",
        "    print(args)\n",
        "    print(d)"
      ],
      "execution_count": 0,
      "outputs": []
    },
    {
      "cell_type": "code",
      "metadata": {
        "id": "E6z4qQAAphce",
        "colab_type": "code",
        "outputId": "b7af48b0-421f-454f-d57b-5dc0e1359ba2",
        "colab": {
          "base_uri": "https://localhost:8080/",
          "height": 51
        }
      },
      "source": [
        "func1(1, 2, 3, d='hello')"
      ],
      "execution_count": 0,
      "outputs": [
        {
          "output_type": "stream",
          "text": [
            "(1, 2, 3)\n",
            "hello\n"
          ],
          "name": "stdout"
        }
      ]
    },
    {
      "cell_type": "markdown",
      "metadata": {
        "id": "QZP5j_k8pjyv",
        "colab_type": "text"
      },
      "source": [
        "We can of course, not pass any positional arguments:"
      ]
    },
    {
      "cell_type": "code",
      "metadata": {
        "id": "-awzTN6HpiiR",
        "colab_type": "code",
        "outputId": "cb1fce1a-5ec2-4747-9c67-811195befc30",
        "colab": {
          "base_uri": "https://localhost:8080/",
          "height": 51
        }
      },
      "source": [
        "func1(d='hello')"
      ],
      "execution_count": 0,
      "outputs": [
        {
          "output_type": "stream",
          "text": [
            "()\n",
            "hello\n"
          ],
          "name": "stdout"
        }
      ]
    },
    {
      "cell_type": "markdown",
      "metadata": {
        "id": "TKzD0PzWprkm",
        "colab_type": "text"
      },
      "source": [
        "but the positional argument is mandatory (since no default was provided in the function definition):"
      ]
    },
    {
      "cell_type": "code",
      "metadata": {
        "id": "SdyycnAVplV2",
        "colab_type": "code",
        "outputId": "646bcdf2-47f2-4195-8fed-d09e3f3b8b3a",
        "colab": {
          "base_uri": "https://localhost:8080/",
          "height": 163
        }
      },
      "source": [
        "func1()"
      ],
      "execution_count": 0,
      "outputs": [
        {
          "output_type": "error",
          "ename": "TypeError",
          "evalue": "ignored",
          "traceback": [
            "\u001b[0;31m---------------------------------------------------------------------------\u001b[0m",
            "\u001b[0;31mTypeError\u001b[0m                                 Traceback (most recent call last)",
            "\u001b[0;32m<ipython-input-9-d88c41ef3303>\u001b[0m in \u001b[0;36m<module>\u001b[0;34m()\u001b[0m\n\u001b[0;32m----> 1\u001b[0;31m \u001b[0mfunc1\u001b[0m\u001b[0;34m(\u001b[0m\u001b[0;34m)\u001b[0m\u001b[0;34m\u001b[0m\u001b[0;34m\u001b[0m\u001b[0m\n\u001b[0m",
            "\u001b[0;31mTypeError\u001b[0m: func1() missing 1 required keyword-only argument: 'd'"
          ]
        }
      ]
    },
    {
      "cell_type": "markdown",
      "metadata": {
        "id": "dXBWt0Mepwhd",
        "colab_type": "text"
      },
      "source": [
        "To make the keyword argument optional, we just need to specify a default value in the function definition:"
      ]
    },
    {
      "cell_type": "code",
      "metadata": {
        "id": "1fnkvqbwptUK",
        "colab_type": "code",
        "colab": {}
      },
      "source": [
        "def func1(*args, d='n/a'):\n",
        "    print(args)\n",
        "    print(d)"
      ],
      "execution_count": 0,
      "outputs": []
    },
    {
      "cell_type": "code",
      "metadata": {
        "id": "Pott5Pgkpx2D",
        "colab_type": "code",
        "outputId": "c6730280-fae9-4927-d70f-62b842853357",
        "colab": {
          "base_uri": "https://localhost:8080/",
          "height": 51
        }
      },
      "source": [
        "func1(1, 2, 3)"
      ],
      "execution_count": 0,
      "outputs": [
        {
          "output_type": "stream",
          "text": [
            "(1, 2, 3)\n",
            "n/a\n"
          ],
          "name": "stdout"
        }
      ]
    },
    {
      "cell_type": "code",
      "metadata": {
        "id": "tcXza6Z6py32",
        "colab_type": "code",
        "outputId": "4f21208c-cd3e-4543-db72-cc4a6f03df22",
        "colab": {
          "base_uri": "https://localhost:8080/",
          "height": 51
        }
      },
      "source": [
        "func1()"
      ],
      "execution_count": 0,
      "outputs": [
        {
          "output_type": "stream",
          "text": [
            "()\n",
            "n/a\n"
          ],
          "name": "stdout"
        }
      ]
    },
    {
      "cell_type": "markdown",
      "metadata": {
        "id": "kCIgMtwOp14J",
        "colab_type": "text"
      },
      "source": [
        "Sometimes we want **only** keyword arguments, in which case we still have to exhaust the positional arguments first - but we can use the following syntax if we do not want any positional parameters passed in:"
      ]
    },
    {
      "cell_type": "code",
      "metadata": {
        "id": "tBZqdTvIpz3O",
        "colab_type": "code",
        "outputId": "9dfd2df0-5073-4b53-8e7f-067d01992533",
        "colab": {
          "base_uri": "https://localhost:8080/",
          "height": 197
        }
      },
      "source": [
        "def func1(*, d='hello'):\n",
        "    print(d)\n",
        "\n",
        "func1(10, d='bye')"
      ],
      "execution_count": 0,
      "outputs": [
        {
          "output_type": "error",
          "ename": "TypeError",
          "evalue": "ignored",
          "traceback": [
            "\u001b[0;31m---------------------------------------------------------------------------\u001b[0m",
            "\u001b[0;31mTypeError\u001b[0m                                 Traceback (most recent call last)",
            "\u001b[0;32m<ipython-input-14-06c48a13c306>\u001b[0m in \u001b[0;36m<module>\u001b[0;34m()\u001b[0m\n\u001b[1;32m      2\u001b[0m     \u001b[0mprint\u001b[0m\u001b[0;34m(\u001b[0m\u001b[0md\u001b[0m\u001b[0;34m)\u001b[0m\u001b[0;34m\u001b[0m\u001b[0;34m\u001b[0m\u001b[0m\n\u001b[1;32m      3\u001b[0m \u001b[0;34m\u001b[0m\u001b[0m\n\u001b[0;32m----> 4\u001b[0;31m \u001b[0mfunc1\u001b[0m\u001b[0;34m(\u001b[0m\u001b[0;36m10\u001b[0m\u001b[0;34m,\u001b[0m \u001b[0md\u001b[0m\u001b[0;34m=\u001b[0m\u001b[0;34m'bye'\u001b[0m\u001b[0;34m)\u001b[0m\u001b[0;34m\u001b[0m\u001b[0;34m\u001b[0m\u001b[0m\n\u001b[0m",
            "\u001b[0;31mTypeError\u001b[0m: func1() takes 0 positional arguments but 1 positional argument (and 1 keyword-only argument) were given"
          ]
        }
      ]
    },
    {
      "cell_type": "code",
      "metadata": {
        "id": "82b-gQ5zp3RM",
        "colab_type": "code",
        "outputId": "98f7e34e-e23d-48b3-93fb-a34afd2e5eae",
        "colab": {
          "base_uri": "https://localhost:8080/",
          "height": 163
        }
      },
      "source": [
        "func1(10, d='bye')"
      ],
      "execution_count": 0,
      "outputs": [
        {
          "output_type": "error",
          "ename": "TypeError",
          "evalue": "ignored",
          "traceback": [
            "\u001b[0;31m---------------------------------------------------------------------------\u001b[0m",
            "\u001b[0;31mTypeError\u001b[0m                                 Traceback (most recent call last)",
            "\u001b[0;32m<ipython-input-15-b16edc54d0e1>\u001b[0m in \u001b[0;36m<module>\u001b[0;34m()\u001b[0m\n\u001b[0;32m----> 1\u001b[0;31m \u001b[0mfunc1\u001b[0m\u001b[0;34m(\u001b[0m\u001b[0;36m10\u001b[0m\u001b[0;34m,\u001b[0m \u001b[0md\u001b[0m\u001b[0;34m=\u001b[0m\u001b[0;34m'bye'\u001b[0m\u001b[0;34m)\u001b[0m\u001b[0;34m\u001b[0m\u001b[0;34m\u001b[0m\u001b[0m\n\u001b[0m",
            "\u001b[0;31mTypeError\u001b[0m: func1() takes 0 positional arguments but 1 positional argument (and 1 keyword-only argument) were given"
          ]
        }
      ]
    },
    {
      "cell_type": "code",
      "metadata": {
        "id": "6rnrFNpwp6sq",
        "colab_type": "code",
        "outputId": "98886475-316a-4f9b-8921-ec4742c18580",
        "colab": {
          "base_uri": "https://localhost:8080/",
          "height": 34
        }
      },
      "source": [
        "func1(d='bye')"
      ],
      "execution_count": 0,
      "outputs": [
        {
          "output_type": "stream",
          "text": [
            "bye\n"
          ],
          "name": "stdout"
        }
      ]
    },
    {
      "cell_type": "markdown",
      "metadata": {
        "id": "KArx42rIqAn-",
        "colab_type": "text"
      },
      "source": [
        "Of course, if we do not provide a default value for the keyword argument, then we effectively are forcing the caller to provide the keyword argument:"
      ]
    },
    {
      "cell_type": "code",
      "metadata": {
        "id": "JS63nkpVp8GK",
        "colab_type": "code",
        "outputId": "15f288e0-a684-4b03-eab8-71f43140d326",
        "colab": {
          "base_uri": "https://localhost:8080/",
          "height": 51
        }
      },
      "source": [
        "def func1(*, a, b):\n",
        "    print(a)\n",
        "    print(b)\n",
        "\n",
        "func1(a=10, b=20)"
      ],
      "execution_count": 0,
      "outputs": [
        {
          "output_type": "stream",
          "text": [
            "10\n",
            "20\n"
          ],
          "name": "stdout"
        }
      ]
    },
    {
      "cell_type": "markdown",
      "metadata": {
        "id": "9GIFFtQTqGUY",
        "colab_type": "text"
      },
      "source": [
        "but, the following would not work:"
      ]
    },
    {
      "cell_type": "code",
      "metadata": {
        "id": "qeuLMA_GqFPU",
        "colab_type": "code",
        "outputId": "dcf95b2b-062d-4ef3-9045-9f31e92cd8e1",
        "colab": {
          "base_uri": "https://localhost:8080/",
          "height": 163
        }
      },
      "source": [
        "func1(10, 20)"
      ],
      "execution_count": 0,
      "outputs": [
        {
          "output_type": "error",
          "ename": "TypeError",
          "evalue": "ignored",
          "traceback": [
            "\u001b[0;31m---------------------------------------------------------------------------\u001b[0m",
            "\u001b[0;31mTypeError\u001b[0m                                 Traceback (most recent call last)",
            "\u001b[0;32m<ipython-input-18-f1e7227005c1>\u001b[0m in \u001b[0;36m<module>\u001b[0;34m()\u001b[0m\n\u001b[0;32m----> 1\u001b[0;31m \u001b[0mfunc1\u001b[0m\u001b[0;34m(\u001b[0m\u001b[0;36m10\u001b[0m\u001b[0;34m,\u001b[0m \u001b[0;36m20\u001b[0m\u001b[0;34m)\u001b[0m\u001b[0;34m\u001b[0m\u001b[0;34m\u001b[0m\u001b[0m\n\u001b[0m",
            "\u001b[0;31mTypeError\u001b[0m: func1() takes 0 positional arguments but 2 were given"
          ]
        }
      ]
    },
    {
      "cell_type": "markdown",
      "metadata": {
        "id": "pVzrBChrqKBX",
        "colab_type": "text"
      },
      "source": [
        "Unlike positional parameters, keyword arguments do not have to be defined with non-defaulted and then defaulted arguments:"
      ]
    },
    {
      "cell_type": "code",
      "metadata": {
        "id": "_gttVrbIqIVa",
        "colab_type": "code",
        "outputId": "0f8ee2b4-2a27-41da-b51b-86de63899ec0",
        "colab": {
          "base_uri": "https://localhost:8080/",
          "height": 34
        }
      },
      "source": [
        "def func1(a, *, b='hello', c):\n",
        "    print(a, b, c)\n",
        "\n",
        "func1(5, c='bye')"
      ],
      "execution_count": 0,
      "outputs": [
        {
          "output_type": "stream",
          "text": [
            "5 hello bye\n"
          ],
          "name": "stdout"
        }
      ]
    },
    {
      "cell_type": "markdown",
      "metadata": {
        "id": "co5_kgSQqN3j",
        "colab_type": "text"
      },
      "source": [
        "We can also include positional non-defaulted (first), positional defaulted (after positional non-defaulted) followed lastly (after exhausting positional arguments) by keyword args (defaulted or non-defaulted in any order)"
      ]
    },
    {
      "cell_type": "code",
      "metadata": {
        "id": "r_aX37BkqMwR",
        "colab_type": "code",
        "outputId": "c1612da8-a210-4332-ccf4-c036cf66a25f",
        "colab": {
          "base_uri": "https://localhost:8080/",
          "height": 34
        }
      },
      "source": [
        "def func1(a, b=20, *args, d=0, e='n/a'):\n",
        "    print(a, b, args, d, e)\n",
        "\n",
        "func1(5, 4, 3, 2, 1, d=0, e='all engines running')"
      ],
      "execution_count": 0,
      "outputs": [
        {
          "output_type": "stream",
          "text": [
            "5 4 (3, 2, 1) 0 all engines running\n"
          ],
          "name": "stdout"
        }
      ]
    },
    {
      "cell_type": "code",
      "metadata": {
        "id": "dm0hj_7OqP3l",
        "colab_type": "code",
        "outputId": "0fad4b65-73e1-4517-a7b5-ca336f24b6d7",
        "colab": {
          "base_uri": "https://localhost:8080/",
          "height": 34
        }
      },
      "source": [
        "func1(0, 600, d='goooood morning', e='python!')"
      ],
      "execution_count": 0,
      "outputs": [
        {
          "output_type": "stream",
          "text": [
            "0 600 () goooood morning python!\n"
          ],
          "name": "stdout"
        }
      ]
    },
    {
      "cell_type": "code",
      "metadata": {
        "id": "NXA2lv8uqTyV",
        "colab_type": "code",
        "outputId": "6b597122-00cd-4ef1-9990-c4a6149471db",
        "colab": {
          "base_uri": "https://localhost:8080/",
          "height": 34
        }
      },
      "source": [
        "func1(11, 'm/s', 24, 'mph', d='unladen', e='swallow')"
      ],
      "execution_count": 0,
      "outputs": [
        {
          "output_type": "stream",
          "text": [
            "11 m/s (24, 'mph') unladen swallow\n"
          ],
          "name": "stdout"
        }
      ]
    },
    {
      "cell_type": "markdown",
      "metadata": {
        "id": "zT5omXSiqfLp",
        "colab_type": "text"
      },
      "source": [
        "As you can see, defining parameters and passing arguments is extremely flexible in Python! Even more so, when you account for the fact that the parameters are not statically typed!\n",
        "</br>\n",
        "</br>\n",
        "In the next video, we'll look at one more thing we can do with function parameters!"
      ]
    },
    {
      "cell_type": "markdown",
      "metadata": {
        "id": "MgWcxoicu-MT",
        "colab_type": "text"
      },
      "source": [
        "# 7.**kwargs"
      ]
    },
    {
      "cell_type": "markdown",
      "metadata": {
        "id": "YuRv6nELmD5K",
        "colab_type": "text"
      },
      "source": [
        "![alt text](https://drive.google.com/uc?id=1_jXOPOwGNkmA8kpirnqD936Gus1izMY1)"
      ]
    },
    {
      "cell_type": "markdown",
      "metadata": {
        "id": "Ir2Z1oq8mEse",
        "colab_type": "text"
      },
      "source": [
        "![alt text](https://drive.google.com/uc?id=1N-gaWcfYPUUtg5KovqdeseMItFQNCWel)"
      ]
    },
    {
      "cell_type": "markdown",
      "metadata": {
        "id": "OFiRLkeLmEx8",
        "colab_type": "text"
      },
      "source": [
        "![alt text](https://drive.google.com/uc?id=1zQQstyOWrsnEGrrNxLoMZMc7EpEGU_xY)"
      ]
    },
    {
      "cell_type": "markdown",
      "metadata": {
        "id": "qxNDNXP2m1Do",
        "colab_type": "text"
      },
      "source": [
        "## Coding time"
      ]
    },
    {
      "cell_type": "code",
      "metadata": {
        "id": "0g5s_U01qWg6",
        "colab_type": "code",
        "outputId": "34d409df-049c-41b3-e531-86ff77538588",
        "colab": {
          "base_uri": "https://localhost:8080/",
          "height": 34
        }
      },
      "source": [
        "def func(**kwargs):\n",
        "    print(kwargs)\n",
        "\n",
        "func(x=100, y=200)"
      ],
      "execution_count": 0,
      "outputs": [
        {
          "output_type": "stream",
          "text": [
            "{'x': 100, 'y': 200}\n"
          ],
          "name": "stdout"
        }
      ]
    },
    {
      "cell_type": "markdown",
      "metadata": {
        "id": "yeDlxROmm8A9",
        "colab_type": "text"
      },
      "source": [
        "We can also use it in conjunction with **\\*args**: "
      ]
    },
    {
      "cell_type": "code",
      "metadata": {
        "id": "Q3FG-jl9m6FS",
        "colab_type": "code",
        "outputId": "ebd6dd00-0154-4560-ee9f-61749924f94a",
        "colab": {
          "base_uri": "https://localhost:8080/",
          "height": 51
        }
      },
      "source": [
        "def func(*args, **kwargs):\n",
        "    print(args)\n",
        "    print(kwargs)\n",
        "\n",
        "func(1, 2, a=100, b=200)"
      ],
      "execution_count": 0,
      "outputs": [
        {
          "output_type": "stream",
          "text": [
            "(1, 2)\n",
            "{'a': 100, 'b': 200}\n"
          ],
          "name": "stdout"
        }
      ]
    },
    {
      "cell_type": "markdown",
      "metadata": {
        "id": "9MwbCARDnBCe",
        "colab_type": "text"
      },
      "source": [
        "Note: You cannot do the following:"
      ]
    },
    {
      "cell_type": "code",
      "metadata": {
        "id": "rDl8_Sccm_iO",
        "colab_type": "code",
        "outputId": "586df50e-ebe6-424b-9a50-5d660530aaac",
        "colab": {
          "base_uri": "https://localhost:8080/",
          "height": 129
        }
      },
      "source": [
        "def func(*, **kwargs):\n",
        "    print(kwargs)"
      ],
      "execution_count": 0,
      "outputs": [
        {
          "output_type": "error",
          "ename": "SyntaxError",
          "evalue": "ignored",
          "traceback": [
            "\u001b[0;36m  File \u001b[0;32m\"<ipython-input-3-f828557707c7>\"\u001b[0;36m, line \u001b[0;32m1\u001b[0m\n\u001b[0;31m    def func(*, **kwargs):\u001b[0m\n\u001b[0m               ^\u001b[0m\n\u001b[0;31mSyntaxError\u001b[0m\u001b[0;31m:\u001b[0m named arguments must follow bare *\n"
          ]
        }
      ]
    },
    {
      "cell_type": "markdown",
      "metadata": {
        "id": "nHwMHRvDnGxw",
        "colab_type": "text"
      },
      "source": [
        "There is no need to even do this, since **\\*\\*kwargs** essentially indicates no more positional arguments."
      ]
    },
    {
      "cell_type": "code",
      "metadata": {
        "id": "s_bZuHbknFHI",
        "colab_type": "code",
        "outputId": "f6266b94-7562-42a7-b3c0-798e059cbb34",
        "colab": {
          "base_uri": "https://localhost:8080/",
          "height": 68
        }
      },
      "source": [
        "def func(a, b, **kwargs):\n",
        "    print(a)\n",
        "    print(b)\n",
        "    print(kwargs)\n",
        "\n",
        "func(1, 2, x=100, y=200)"
      ],
      "execution_count": 0,
      "outputs": [
        {
          "output_type": "stream",
          "text": [
            "1\n",
            "2\n",
            "{'x': 100, 'y': 200}\n"
          ],
          "name": "stdout"
        }
      ]
    },
    {
      "cell_type": "markdown",
      "metadata": {
        "id": "yVfLOsKznMeg",
        "colab_type": "text"
      },
      "source": [
        "Also, you cannot specify parameters **after** **\\*\\*kwargs** has been used:"
      ]
    },
    {
      "cell_type": "code",
      "metadata": {
        "id": "6lBBSW8mnKqb",
        "colab_type": "code",
        "outputId": "c0116963-5235-4e49-934a-04736053a902",
        "colab": {
          "base_uri": "https://localhost:8080/",
          "height": 129
        }
      },
      "source": [
        "def func(a, b, **kwargs, c):\n",
        "    pass"
      ],
      "execution_count": 0,
      "outputs": [
        {
          "output_type": "error",
          "ename": "SyntaxError",
          "evalue": "ignored",
          "traceback": [
            "\u001b[0;36m  File \u001b[0;32m\"<ipython-input-5-40e957aadb61>\"\u001b[0;36m, line \u001b[0;32m1\u001b[0m\n\u001b[0;31m    def func(a, b, **kwargs, c):\u001b[0m\n\u001b[0m                             ^\u001b[0m\n\u001b[0;31mSyntaxError\u001b[0m\u001b[0;31m:\u001b[0m invalid syntax\n"
          ]
        }
      ]
    },
    {
      "cell_type": "markdown",
      "metadata": {
        "id": "_c4gylvRnP2v",
        "colab_type": "text"
      },
      "source": [
        "If you want to specify both specific keyword-only arguments and **\\*\\*kwargs** you will need to first get to a point where you can define a keyword-only argument (i.e. exhaust the positional arguments, using either **\\*args** or just **\\***)"
      ]
    },
    {
      "cell_type": "code",
      "metadata": {
        "id": "owpMulq_nOT-",
        "colab_type": "code",
        "outputId": "e9d2e2b7-2cbb-4b04-ca52-ab555f67eeec",
        "colab": {
          "base_uri": "https://localhost:8080/",
          "height": 51
        }
      },
      "source": [
        "def func(*, d, **kwargs):\n",
        "    print(d)\n",
        "    print(kwargs)\n",
        "\n",
        "func(d=1, x=100, y=200)"
      ],
      "execution_count": 0,
      "outputs": [
        {
          "output_type": "stream",
          "text": [
            "1\n",
            "{'x': 100, 'y': 200}\n"
          ],
          "name": "stdout"
        }
      ]
    },
    {
      "cell_type": "markdown",
      "metadata": {
        "id": "xX6J8Sm2oAdf",
        "colab_type": "text"
      },
      "source": [
        "# 8.Putting it all Together"
      ]
    },
    {
      "cell_type": "markdown",
      "metadata": {
        "id": "EFBsalMboII9",
        "colab_type": "text"
      },
      "source": [
        "![alt text](https://drive.google.com/uc?id=1GPvd_0zDn-7XfVa5HDA2t8aj7_ofs86A)"
      ]
    },
    {
      "cell_type": "markdown",
      "metadata": {
        "id": "IkQhv_RSoNF7",
        "colab_type": "text"
      },
      "source": [
        "![alt text](https://drive.google.com/uc?id=1y9rg761jDBLFGp2j3ME_byd3DgG8Lxuc)"
      ]
    },
    {
      "cell_type": "markdown",
      "metadata": {
        "id": "Xd1OEpySoNPn",
        "colab_type": "text"
      },
      "source": [
        "![alt text](https://drive.google.com/uc?id=1D0XqSbxdYg9H8rAgp7wlV9sfOTlGxxJP)"
      ]
    },
    {
      "cell_type": "markdown",
      "metadata": {
        "id": "W3YyUNhmoWtS",
        "colab_type": "text"
      },
      "source": [
        "![alt text](https://drive.google.com/uc?id=1fpyu8fMiMnsvtQ8IqnW2ob36deraWFGe)"
      ]
    },
    {
      "cell_type": "markdown",
      "metadata": {
        "id": "ADkgkqA9oNZp",
        "colab_type": "text"
      },
      "source": [
        "![alt text](https://drive.google.com/uc?id=16Ap5gYCgdgsf3PRQBP9jWfK7zk-wL6Yh)"
      ]
    },
    {
      "cell_type": "markdown",
      "metadata": {
        "id": "PgSLUvimt2lA",
        "colab_type": "text"
      },
      "source": [
        "## Coding time"
      ]
    },
    {
      "cell_type": "markdown",
      "metadata": {
        "id": "f8IITPIzt4gd",
        "colab_type": "text"
      },
      "source": [
        "Positionals Only: no extra positionals, no defaults (all positionals required)"
      ]
    },
    {
      "cell_type": "code",
      "metadata": {
        "id": "b2LvyREnnTkb",
        "colab_type": "code",
        "outputId": "6a62efe0-a43d-46f2-df2a-c02ef50aeed4",
        "colab": {
          "base_uri": "https://localhost:8080/",
          "height": 34
        }
      },
      "source": [
        "def func(a, b):\n",
        "    print(a, b)\n",
        "\n",
        "func('hello', 'world')"
      ],
      "execution_count": 0,
      "outputs": [
        {
          "output_type": "stream",
          "text": [
            "hello world\n"
          ],
          "name": "stdout"
        }
      ]
    },
    {
      "cell_type": "code",
      "metadata": {
        "id": "Kf0aG568t8Tv",
        "colab_type": "code",
        "outputId": "b6ea692f-dc45-416a-b157-af3237b1fecf",
        "colab": {
          "base_uri": "https://localhost:8080/",
          "height": 34
        }
      },
      "source": [
        "func(b='world', a='hello')"
      ],
      "execution_count": 0,
      "outputs": [
        {
          "output_type": "stream",
          "text": [
            "hello world\n"
          ],
          "name": "stdout"
        }
      ]
    },
    {
      "cell_type": "markdown",
      "metadata": {
        "id": "LTR2F_n2t_P3",
        "colab_type": "text"
      },
      "source": [
        "Positionals Only: no extra positionals, defaults (some positionals optional)"
      ]
    },
    {
      "cell_type": "code",
      "metadata": {
        "id": "do0dLxcqt9XD",
        "colab_type": "code",
        "outputId": "aac93e39-5196-41e9-8562-b2f04d540b71",
        "colab": {
          "base_uri": "https://localhost:8080/",
          "height": 34
        }
      },
      "source": [
        "def func(a, b='world', c=10):\n",
        "    print(a, b, c)\n",
        "func('hello')"
      ],
      "execution_count": 0,
      "outputs": [
        {
          "output_type": "stream",
          "text": [
            "hello world 10\n"
          ],
          "name": "stdout"
        }
      ]
    },
    {
      "cell_type": "code",
      "metadata": {
        "id": "2ROesI_3uAtL",
        "colab_type": "code",
        "outputId": "9c395793-c2ce-4f3d-b34d-c0da6b61f7ab",
        "colab": {
          "base_uri": "https://localhost:8080/",
          "height": 34
        }
      },
      "source": [
        "func('hello', c='!')"
      ],
      "execution_count": 0,
      "outputs": [
        {
          "output_type": "stream",
          "text": [
            "hello world !\n"
          ],
          "name": "stdout"
        }
      ]
    },
    {
      "cell_type": "markdown",
      "metadata": {
        "id": "NQdKR2Z6vH74",
        "colab_type": "text"
      },
      "source": [
        "Positionals Only: extra positionals, no defaults (all positionals required)"
      ]
    },
    {
      "cell_type": "code",
      "metadata": {
        "id": "0V50JzvBvGx9",
        "colab_type": "code",
        "outputId": "21c5506d-1dca-44d4-846d-2dccc19a8cdf",
        "colab": {
          "base_uri": "https://localhost:8080/",
          "height": 34
        }
      },
      "source": [
        "def func(a, b, *args):\n",
        "    print(a, b, args)\n",
        "\n",
        "func(1, 2, 'x', 'y', 'z')"
      ],
      "execution_count": 0,
      "outputs": [
        {
          "output_type": "stream",
          "text": [
            "1 2 ('x', 'y', 'z')\n"
          ],
          "name": "stdout"
        }
      ]
    },
    {
      "cell_type": "markdown",
      "metadata": {
        "id": "QiEdyI8OvSd7",
        "colab_type": "text"
      },
      "source": [
        "Note that we cannot call the function this way:"
      ]
    },
    {
      "cell_type": "code",
      "metadata": {
        "id": "5nTwM6x3vQ-d",
        "colab_type": "code",
        "outputId": "c64a8c36-570c-47a5-a6d0-4187cb86c60e",
        "colab": {
          "base_uri": "https://localhost:8080/",
          "height": 129
        }
      },
      "source": [
        "func(b=2, a=1, 'x', 'y', 'z')"
      ],
      "execution_count": 0,
      "outputs": [
        {
          "output_type": "error",
          "ename": "SyntaxError",
          "evalue": "ignored",
          "traceback": [
            "\u001b[0;36m  File \u001b[0;32m\"<ipython-input-14-c849f2d4619c>\"\u001b[0;36m, line \u001b[0;32m1\u001b[0m\n\u001b[0;31m    func(b=2, a=1, 'x', 'y', 'z')\u001b[0m\n\u001b[0m                  ^\u001b[0m\n\u001b[0;31mSyntaxError\u001b[0m\u001b[0;31m:\u001b[0m positional argument follows keyword argument\n"
          ]
        }
      ]
    },
    {
      "cell_type": "markdown",
      "metadata": {
        "id": "w7-iaT3PvVOj",
        "colab_type": "text"
      },
      "source": [
        "Keywords Only: no positionals, no defaults (all keyword args required)"
      ]
    },
    {
      "cell_type": "code",
      "metadata": {
        "id": "2CYuFjBrvT4Y",
        "colab_type": "code",
        "outputId": "647ef1f1-32d4-4ca5-f022-faecf0c3cc8d",
        "colab": {
          "base_uri": "https://localhost:8080/",
          "height": 34
        }
      },
      "source": [
        "def func(*, a, b):\n",
        "    print(a, b)\n",
        "\n",
        "func(a=1, b=2)"
      ],
      "execution_count": 0,
      "outputs": [
        {
          "output_type": "stream",
          "text": [
            "1 2\n"
          ],
          "name": "stdout"
        }
      ]
    },
    {
      "cell_type": "markdown",
      "metadata": {
        "id": "BT32mjCDvaj8",
        "colab_type": "text"
      },
      "source": [
        "Keywords Only: no positionals, some defaults (not all keyword args required)"
      ]
    },
    {
      "cell_type": "code",
      "metadata": {
        "id": "I9WH-rD5vY-m",
        "colab_type": "code",
        "outputId": "b1abc16a-82f6-4845-d170-f2ffdabe3b2f",
        "colab": {
          "base_uri": "https://localhost:8080/",
          "height": 34
        }
      },
      "source": [
        "def func(*, a=1, b):\n",
        "    print(a, b)\n",
        "\n",
        "func(a=10, b=20)"
      ],
      "execution_count": 0,
      "outputs": [
        {
          "output_type": "stream",
          "text": [
            "10 20\n"
          ],
          "name": "stdout"
        }
      ]
    },
    {
      "cell_type": "code",
      "metadata": {
        "id": "fr787IetvgpJ",
        "colab_type": "code",
        "outputId": "c7aebf5c-851e-4559-cd4b-a6dd998d75ca",
        "colab": {
          "base_uri": "https://localhost:8080/",
          "height": 34
        }
      },
      "source": [
        "func(b=2)"
      ],
      "execution_count": 0,
      "outputs": [
        {
          "output_type": "stream",
          "text": [
            "1 2\n"
          ],
          "name": "stdout"
        }
      ]
    },
    {
      "cell_type": "markdown",
      "metadata": {
        "id": "BoROGX3kwLCY",
        "colab_type": "text"
      },
      "source": [
        "Keywords and Positionals: some positionals (no defaults), keywords (no defaults)"
      ]
    },
    {
      "cell_type": "code",
      "metadata": {
        "id": "VO7fNuWPvhyd",
        "colab_type": "code",
        "outputId": "53648da6-9513-4057-c515-47291ef61cd6",
        "colab": {
          "base_uri": "https://localhost:8080/",
          "height": 34
        }
      },
      "source": [
        "def func(a, b, *, c, d):\n",
        "    print(a, b, c, d)\n",
        "\n",
        "func(1, 2, c=3, d=4)"
      ],
      "execution_count": 0,
      "outputs": [
        {
          "output_type": "stream",
          "text": [
            "1 2 3 4\n"
          ],
          "name": "stdout"
        }
      ]
    },
    {
      "cell_type": "code",
      "metadata": {
        "id": "T33isLO5wObs",
        "colab_type": "code",
        "outputId": "b6449cb8-d9cd-4f03-dc90-99e4314e1a18",
        "colab": {
          "base_uri": "https://localhost:8080/",
          "height": 34
        }
      },
      "source": [
        "func(1, 2, d=4, c=3)"
      ],
      "execution_count": 0,
      "outputs": [
        {
          "output_type": "stream",
          "text": [
            "1 2 3 4\n"
          ],
          "name": "stdout"
        }
      ]
    },
    {
      "cell_type": "code",
      "metadata": {
        "id": "bxiXy_fEwQbS",
        "colab_type": "code",
        "outputId": "da4ae634-bba6-417c-e094-fc8189ffdb8e",
        "colab": {
          "base_uri": "https://localhost:8080/",
          "height": 34
        }
      },
      "source": [
        "func(1, c=3, d=4, b=2)"
      ],
      "execution_count": 0,
      "outputs": [
        {
          "output_type": "stream",
          "text": [
            "1 2 3 4\n"
          ],
          "name": "stdout"
        }
      ]
    },
    {
      "cell_type": "markdown",
      "metadata": {
        "id": "HMHFYinQwYAo",
        "colab_type": "text"
      },
      "source": [
        "Keywords and Positionals: some positional defaults"
      ]
    },
    {
      "cell_type": "code",
      "metadata": {
        "id": "DWV6FLY-wUyZ",
        "colab_type": "code",
        "outputId": "ab8c9c70-b536-4576-98ba-c416e50c7ce0",
        "colab": {
          "base_uri": "https://localhost:8080/",
          "height": 34
        }
      },
      "source": [
        "def func(a, b=2, *, c, d=4):\n",
        "    print(a, b, c, d)\n",
        "\n",
        "func(1, c=3)"
      ],
      "execution_count": 0,
      "outputs": [
        {
          "output_type": "stream",
          "text": [
            "1 2 3 4\n"
          ],
          "name": "stdout"
        }
      ]
    },
    {
      "cell_type": "code",
      "metadata": {
        "id": "XbNut_f_wa5n",
        "colab_type": "code",
        "outputId": "de0255e4-c981-49a3-f2d9-c7cefe02c0bc",
        "colab": {
          "base_uri": "https://localhost:8080/",
          "height": 34
        }
      },
      "source": [
        "func(c=3, a=1)"
      ],
      "execution_count": 0,
      "outputs": [
        {
          "output_type": "stream",
          "text": [
            "1 2 3 4\n"
          ],
          "name": "stdout"
        }
      ]
    },
    {
      "cell_type": "code",
      "metadata": {
        "id": "VeYGLhoGweEH",
        "colab_type": "code",
        "outputId": "4d4bef82-2cd0-498f-ca6c-614d31317924",
        "colab": {
          "base_uri": "https://localhost:8080/",
          "height": 34
        }
      },
      "source": [
        "func(1, 2, c=3, d=4)"
      ],
      "execution_count": 0,
      "outputs": [
        {
          "output_type": "stream",
          "text": [
            "1 2 3 4\n"
          ],
          "name": "stdout"
        }
      ]
    },
    {
      "cell_type": "code",
      "metadata": {
        "id": "UnBVg2uAwfOa",
        "colab_type": "code",
        "outputId": "a09c9601-bf8c-415e-d3ad-24c58ec67ac2",
        "colab": {
          "base_uri": "https://localhost:8080/",
          "height": 34
        }
      },
      "source": [
        "func(c=3, a=1, b=2, d=4)"
      ],
      "execution_count": 0,
      "outputs": [
        {
          "output_type": "stream",
          "text": [
            "1 2 3 4\n"
          ],
          "name": "stdout"
        }
      ]
    },
    {
      "cell_type": "markdown",
      "metadata": {
        "id": "cCtxb48Twhs5",
        "colab_type": "text"
      },
      "source": [
        "Keywords and Positionals: extra positionals"
      ]
    },
    {
      "cell_type": "code",
      "metadata": {
        "id": "wYIxeSJQwgVC",
        "colab_type": "code",
        "outputId": "47746e54-9495-4e95-c1b8-ecb426f6ed3f",
        "colab": {
          "base_uri": "https://localhost:8080/",
          "height": 34
        }
      },
      "source": [
        "def func(a, b=2, *args, c=3, d):\n",
        "    print(a, b, args, c, d)\n",
        "\n",
        "func(1, 2, 'x', 'y', 'z', c=3, d=4)"
      ],
      "execution_count": 0,
      "outputs": [
        {
          "output_type": "stream",
          "text": [
            "1 2 ('x', 'y', 'z') 3 4\n"
          ],
          "name": "stdout"
        }
      ]
    },
    {
      "cell_type": "markdown",
      "metadata": {
        "id": "EIzKsXXGwmtr",
        "colab_type": "text"
      },
      "source": [
        "Note that if we are going to use the extra arguments, then we cannot actually use a default value for b:"
      ]
    },
    {
      "cell_type": "code",
      "metadata": {
        "id": "v8tWZVFIwlDX",
        "colab_type": "code",
        "outputId": "5e199ddb-74c8-4d03-d629-fdbb10d147ed",
        "colab": {
          "base_uri": "https://localhost:8080/",
          "height": 34
        }
      },
      "source": [
        "func(1, 'x', 'y', 'z', c=3, d=4)"
      ],
      "execution_count": 0,
      "outputs": [
        {
          "output_type": "stream",
          "text": [
            "1 x ('y', 'z') 3 4\n"
          ],
          "name": "stdout"
        }
      ]
    },
    {
      "cell_type": "markdown",
      "metadata": {
        "id": "ms2Xf3Dowpoh",
        "colab_type": "text"
      },
      "source": [
        "as you can see, **b** was assigned the value **x**\n",
        "</br>\n",
        "</br>\n",
        "Keywords and Positionals: no extra positionals, extra keywords"
      ]
    },
    {
      "cell_type": "code",
      "metadata": {
        "id": "m3ZpaGnCwoX2",
        "colab_type": "code",
        "outputId": "f21f2bfe-c5a3-4c22-ad51-fffa6d7302f6",
        "colab": {
          "base_uri": "https://localhost:8080/",
          "height": 34
        }
      },
      "source": [
        "def func(a, b, *, c, d=4, **kwargs):\n",
        "    print(a, b, c, d, kwargs)\n",
        "\n",
        "func(1, 2, c=3, x=100, y=200, z=300)"
      ],
      "execution_count": 0,
      "outputs": [
        {
          "output_type": "stream",
          "text": [
            "1 2 3 4 {'x': 100, 'y': 200, 'z': 300}\n"
          ],
          "name": "stdout"
        }
      ]
    },
    {
      "cell_type": "code",
      "metadata": {
        "id": "6dfLaEKGwu8x",
        "colab_type": "code",
        "outputId": "734a9b5e-da6a-4c8d-81cd-39b23e31020a",
        "colab": {
          "base_uri": "https://localhost:8080/",
          "height": 34
        }
      },
      "source": [
        "func(x=100, y=200, z=300, c=3, b=2, a=1)"
      ],
      "execution_count": 0,
      "outputs": [
        {
          "output_type": "stream",
          "text": [
            "1 2 3 4 {'x': 100, 'y': 200, 'z': 300}\n"
          ],
          "name": "stdout"
        }
      ]
    },
    {
      "cell_type": "markdown",
      "metadata": {
        "id": "9--a-zxww104",
        "colab_type": "text"
      },
      "source": [
        "Keywords and Positionals: extra positionals, extra keywords"
      ]
    },
    {
      "cell_type": "code",
      "metadata": {
        "id": "jbRoOH6aw0J1",
        "colab_type": "code",
        "outputId": "7e5fd0f4-2800-4168-f39c-6ed2aa827dd7",
        "colab": {
          "base_uri": "https://localhost:8080/",
          "height": 34
        }
      },
      "source": [
        "def func(a, b, *args, c, d=4, **kwargs):\n",
        "    print(a, b, args, c, d, kwargs)\n",
        "\n",
        "func(1, 2, 'x', 'y', 'z', c=3, d=5, x=100, y=200, z=300)"
      ],
      "execution_count": 0,
      "outputs": [
        {
          "output_type": "stream",
          "text": [
            "1 2 ('x', 'y', 'z') 3 5 {'x': 100, 'y': 200, 'z': 300}\n"
          ],
          "name": "stdout"
        }
      ]
    },
    {
      "cell_type": "markdown",
      "metadata": {
        "id": "9c29B37qw7eP",
        "colab_type": "text"
      },
      "source": [
        "Keywords and Positionals: only extra positionals and extra keywords"
      ]
    },
    {
      "cell_type": "code",
      "metadata": {
        "id": "bO3LS2t7w5-R",
        "colab_type": "code",
        "outputId": "dcc3daff-c386-4f15-a8e6-3f840d8d4257",
        "colab": {
          "base_uri": "https://localhost:8080/",
          "height": 34
        }
      },
      "source": [
        "def func(*args, **kwargs):\n",
        "    print(args, kwargs)\n",
        "\n",
        "func(1, 2, 3, x=100, y=200, z=300)"
      ],
      "execution_count": 0,
      "outputs": [
        {
          "output_type": "stream",
          "text": [
            "(1, 2, 3) {'x': 100, 'y': 200, 'z': 300}\n"
          ],
          "name": "stdout"
        }
      ]
    },
    {
      "cell_type": "markdown",
      "metadata": {
        "id": "oNwMcXVyw92a",
        "colab_type": "text"
      },
      "source": [
        "### The Print Function"
      ]
    },
    {
      "cell_type": "code",
      "metadata": {
        "id": "Pd2kPrG0w81k",
        "colab_type": "code",
        "outputId": "765712a2-8849-4920-f580-216c4e97c01a",
        "colab": {
          "base_uri": "https://localhost:8080/",
          "height": 241
        }
      },
      "source": [
        "help(print)"
      ],
      "execution_count": 0,
      "outputs": [
        {
          "output_type": "stream",
          "text": [
            "Help on built-in function print in module builtins:\n",
            "\n",
            "print(...)\n",
            "    print(value, ..., sep=' ', end='\\n', file=sys.stdout, flush=False)\n",
            "    \n",
            "    Prints the values to a stream, or to sys.stdout by default.\n",
            "    Optional keyword arguments:\n",
            "    file:  a file-like object (stream); defaults to the current sys.stdout.\n",
            "    sep:   string inserted between values, default a space.\n",
            "    end:   string appended after the last value, default a newline.\n",
            "    flush: whether to forcibly flush the stream.\n",
            "\n"
          ],
          "name": "stdout"
        }
      ]
    },
    {
      "cell_type": "code",
      "metadata": {
        "id": "f8AVs_xMxJiE",
        "colab_type": "code",
        "outputId": "a4f138f1-c070-47ff-fbc3-4f4151633d32",
        "colab": {
          "base_uri": "https://localhost:8080/",
          "height": 34
        }
      },
      "source": [
        "print(1, 2, 3)"
      ],
      "execution_count": 0,
      "outputs": [
        {
          "output_type": "stream",
          "text": [
            "1 2 3\n"
          ],
          "name": "stdout"
        }
      ]
    },
    {
      "cell_type": "code",
      "metadata": {
        "id": "KoCW6dcHxMAw",
        "colab_type": "code",
        "outputId": "0a5b6d24-5653-48df-8324-8248818a51fb",
        "colab": {
          "base_uri": "https://localhost:8080/",
          "height": 34
        }
      },
      "source": [
        "print(1, 2, 3, sep='--')"
      ],
      "execution_count": 0,
      "outputs": [
        {
          "output_type": "stream",
          "text": [
            "1--2--3\n"
          ],
          "name": "stdout"
        }
      ]
    },
    {
      "cell_type": "code",
      "metadata": {
        "id": "5dfJY3SwxtO0",
        "colab_type": "code",
        "outputId": "1b41802f-617b-4a14-b068-547cc9f7da37",
        "colab": {
          "base_uri": "https://localhost:8080/",
          "height": 34
        }
      },
      "source": [
        "print(1, 2, 3, end='***\\n')"
      ],
      "execution_count": 0,
      "outputs": [
        {
          "output_type": "stream",
          "text": [
            "1 2 3***\n"
          ],
          "name": "stdout"
        }
      ]
    },
    {
      "cell_type": "code",
      "metadata": {
        "id": "ZYqjVgQrxugq",
        "colab_type": "code",
        "outputId": "d6502fbb-c20e-4aa5-e945-b52b30bcf0a6",
        "colab": {
          "base_uri": "https://localhost:8080/",
          "height": 34
        }
      },
      "source": [
        "print(1, 2, 3, sep='\\t', end='\\t***\\t')\n",
        "print(4, 5, 6, sep='\\t', end='\\t***\\n')"
      ],
      "execution_count": 0,
      "outputs": [
        {
          "output_type": "stream",
          "text": [
            "1\t2\t3\t***\t4\t5\t6\t***\n"
          ],
          "name": "stdout"
        }
      ]
    },
    {
      "cell_type": "markdown",
      "metadata": {
        "id": "METZMBiWxxPd",
        "colab_type": "text"
      },
      "source": [
        "### Another Use Case"
      ]
    },
    {
      "cell_type": "code",
      "metadata": {
        "id": "XyU2i0EAxvpK",
        "colab_type": "code",
        "outputId": "a2d3047a-3834-4d33-dd63-dc4ffcd9f3fe",
        "colab": {
          "base_uri": "https://localhost:8080/",
          "height": 34
        }
      },
      "source": [
        "def calc_hi_lo_avg(*args, log_to_console=False):\n",
        "    hi = int(bool(args)) and max(args)\n",
        "    lo = int(bool(args)) and min(args)\n",
        "    avg = (hi + lo)/2\n",
        "    if log_to_console:\n",
        "        print(\"high={0}, low={1}, avg={2}\".format(hi, lo, avg))\n",
        "    return avg\n",
        "\n",
        "avg = calc_hi_lo_avg(1, 2, 3, 4, 5)\n",
        "print(avg)"
      ],
      "execution_count": 0,
      "outputs": [
        {
          "output_type": "stream",
          "text": [
            "3.0\n"
          ],
          "name": "stdout"
        }
      ]
    },
    {
      "cell_type": "code",
      "metadata": {
        "id": "e5z7hz7BxzRL",
        "colab_type": "code",
        "outputId": "27bf8cbc-9dd8-4701-b45d-96a57bbfb781",
        "colab": {
          "base_uri": "https://localhost:8080/",
          "height": 51
        }
      },
      "source": [
        "avg = calc_hi_lo_avg(1, 2, 3, 4, 5, log_to_console=True)\n",
        "print(avg)"
      ],
      "execution_count": 0,
      "outputs": [
        {
          "output_type": "stream",
          "text": [
            "high=5, low=1, avg=3.0\n",
            "3.0\n"
          ],
          "name": "stdout"
        }
      ]
    },
    {
      "cell_type": "markdown",
      "metadata": {
        "id": "lk5n8bW__W_v",
        "colab_type": "text"
      },
      "source": [
        "# 9.Application: a simple function timer"
      ]
    },
    {
      "cell_type": "markdown",
      "metadata": {
        "id": "Z5MPeM51BzT3",
        "colab_type": "text"
      },
      "source": [
        "We want to create a simple function that can time how fast a function runs.\n",
        "\n",
        "We want this function to be generic in the sense that it can be used to time any function (along with it's positional and keyword arguments), as well as specifying the number of the times the function should be timed, and the returns the average of the timings."
      ]
    },
    {
      "cell_type": "markdown",
      "metadata": {
        "id": "kVXwojj7B0rP",
        "colab_type": "text"
      },
      "source": [
        "We'll call our function **time_it**, and it will need to have the following parameters:\n",
        "\n",
        "* the function we want to time\n",
        "* the positional arguments of the function we want to time (if any)\n",
        "* the keyword-only arguments of the function we want to time (if any)\n",
        "* the number of times we want to run this function"
      ]
    },
    {
      "cell_type": "code",
      "metadata": {
        "id": "d6ljlIahx4gW",
        "colab_type": "code",
        "colab": {}
      },
      "source": [
        "import time\n",
        "\n",
        "def time_it(fn, *args, rep=5, **kwargs):\n",
        "    print(args, rep, kwargs)"
      ],
      "execution_count": 0,
      "outputs": []
    },
    {
      "cell_type": "markdown",
      "metadata": {
        "id": "81e6zJnbHF6R",
        "colab_type": "text"
      },
      "source": [
        "Now we could the function this way:"
      ]
    },
    {
      "cell_type": "code",
      "metadata": {
        "id": "EZHPxXvmHGZD",
        "colab_type": "code",
        "outputId": "31a74805-f29a-46e2-8a86-33c7d8ec08a2",
        "colab": {
          "base_uri": "https://localhost:8080/",
          "height": 34
        }
      },
      "source": [
        "time_it(print, 1, 2, 3, sep='-')"
      ],
      "execution_count": 0,
      "outputs": [
        {
          "output_type": "stream",
          "text": [
            "(1, 2, 3) 5 {'sep': '-'}\n"
          ],
          "name": "stdout"
        }
      ]
    },
    {
      "cell_type": "markdown",
      "metadata": {
        "id": "iv2lNbluHLIp",
        "colab_type": "text"
      },
      "source": [
        "Let's modify our function to actually run the print function with any positional and keyword args (except for rep) passed to it:"
      ]
    },
    {
      "cell_type": "code",
      "metadata": {
        "id": "rtMllm7Q4WzL",
        "colab_type": "code",
        "colab": {
          "base_uri": "https://localhost:8080/",
          "height": 34
        },
        "outputId": "25b5cae4-b766-433f-8f6e-19d9e71f2f26"
      },
      "source": [
        "def time_it(func, *args, **kwargs):\n",
        "    func(*args, **kwargs)\n",
        "\n",
        "time_it(print, 1, 2, 3, sep='...', end = ' ***')"
      ],
      "execution_count": 4,
      "outputs": [
        {
          "output_type": "stream",
          "text": [
            "1...2...3 ***"
          ],
          "name": "stdout"
        }
      ]
    },
    {
      "cell_type": "code",
      "metadata": {
        "id": "hbaZ5l0w5JXa",
        "colab_type": "code",
        "colab": {
          "base_uri": "https://localhost:8080/",
          "height": 102
        },
        "outputId": "331320ce-7d0e-4cd5-b156-c2a97dd05f94"
      },
      "source": [
        "def time_it(func, *args, rep=1, **kwargs):\n",
        "    for i in range(rep):\n",
        "        func(*args, **kwargs)\n",
        "\n",
        "time_it(print, 1, 2, 3, sep='-', end=' ***\\n', rep=5)"
      ],
      "execution_count": 5,
      "outputs": [
        {
          "output_type": "stream",
          "text": [
            "1-2-3 ***\n",
            "1-2-3 ***\n",
            "1-2-3 ***\n",
            "1-2-3 ***\n",
            "1-2-3 ***\n"
          ],
          "name": "stdout"
        }
      ]
    },
    {
      "cell_type": "code",
      "metadata": {
        "id": "DSLe_AupHJTr",
        "colab_type": "code",
        "colab": {}
      },
      "source": [
        "def time_it(fn, *args, rep=5, **kwargs):\n",
        "    for i in range(rep):\n",
        "        fn(*args, **kwargs)"
      ],
      "execution_count": 0,
      "outputs": []
    },
    {
      "cell_type": "code",
      "metadata": {
        "id": "uYAO6WxjHM4e",
        "colab_type": "code",
        "outputId": "865568f4-aaf3-421b-b3f6-15c09f347c3f",
        "colab": {
          "base_uri": "https://localhost:8080/",
          "height": 102
        }
      },
      "source": [
        "time_it(print, 1, 2, 3, sep='-')"
      ],
      "execution_count": 0,
      "outputs": [
        {
          "output_type": "stream",
          "text": [
            "1-2-3\n",
            "1-2-3\n",
            "1-2-3\n",
            "1-2-3\n",
            "1-2-3\n"
          ],
          "name": "stdout"
        }
      ]
    },
    {
      "cell_type": "markdown",
      "metadata": {
        "id": "DTR5adheHPN1",
        "colab_type": "text"
      },
      "source": [
        "As you can see **1, 2, 3** was passed to the **print** function's positional parameters, and the keyword_only arg **sep** was also passed to it. \n",
        "\n",
        "We can even add more arguments:"
      ]
    },
    {
      "cell_type": "code",
      "metadata": {
        "id": "wo0amhZ6HOJu",
        "colab_type": "code",
        "outputId": "abdaf665-6238-42ab-e0b5-2351c85eee0e",
        "colab": {
          "base_uri": "https://localhost:8080/",
          "height": 34
        }
      },
      "source": [
        "time_it(print, 1, 2, 3, sep='-', end=' *** ', rep=3)"
      ],
      "execution_count": 0,
      "outputs": [
        {
          "output_type": "stream",
          "text": [
            "1-2-3 *** 1-2-3 *** 1-2-3 *** "
          ],
          "name": "stdout"
        }
      ]
    },
    {
      "cell_type": "markdown",
      "metadata": {
        "id": "NCw1XED4HSqb",
        "colab_type": "text"
      },
      "source": [
        "Now all that's really left for us to do is to time the function and return the average time:"
      ]
    },
    {
      "cell_type": "code",
      "metadata": {
        "id": "7KnN2yuPHRP8",
        "colab_type": "code",
        "colab": {}
      },
      "source": [
        "def time_it(fn, *args, rep=5, **kwargs):\n",
        "    start = time.perf_counter()\n",
        "    for i in range(rep):\n",
        "        fn(*args, **kwargs)\n",
        "    end = time.perf_counter()\n",
        "    return (end - start) / rep"
      ],
      "execution_count": 0,
      "outputs": []
    },
    {
      "cell_type": "markdown",
      "metadata": {
        "id": "CM_J17MUHVdf",
        "colab_type": "text"
      },
      "source": [
        "Let's write a few functions we might want to time:\n",
        "</br>\n",
        "</br>\n",
        "We'll create three functions that all do the same thing: calculate powers of n**k for k in some range of integer values\n"
      ]
    },
    {
      "cell_type": "code",
      "metadata": {
        "id": "taetuNy0HUVP",
        "colab_type": "code",
        "colab": {}
      },
      "source": [
        "def compute_powers_1(n, *, start=1, end):\n",
        "    # using a for loop\n",
        "    results = []\n",
        "    for i in range(start, end):\n",
        "        results.append(n**i)\n",
        "    return results"
      ],
      "execution_count": 0,
      "outputs": []
    },
    {
      "cell_type": "code",
      "metadata": {
        "id": "5yNQ697MHarF",
        "colab_type": "code",
        "colab": {}
      },
      "source": [
        "def compute_powers_2(n, *, start=1, end):\n",
        "    # using a list comprehension\n",
        "    return [n**i for i in range(start, end)]"
      ],
      "execution_count": 0,
      "outputs": []
    },
    {
      "cell_type": "code",
      "metadata": {
        "id": "L1Vw16JxHcPN",
        "colab_type": "code",
        "colab": {}
      },
      "source": [
        "def compute_powers_3(n, *, start=1, end):\n",
        "    # using a generator expression\n",
        "    return (n**i for i in range(start, end))"
      ],
      "execution_count": 0,
      "outputs": []
    },
    {
      "cell_type": "markdown",
      "metadata": {
        "id": "vU86-iCuHgl4",
        "colab_type": "text"
      },
      "source": [
        "Let's run these functions and see the results:"
      ]
    },
    {
      "cell_type": "code",
      "metadata": {
        "id": "ubq40mF-HeqS",
        "colab_type": "code",
        "outputId": "b0436601-29e5-4838-da43-141f54b7e049",
        "colab": {
          "base_uri": "https://localhost:8080/",
          "height": 34
        }
      },
      "source": [
        "compute_powers_1(2, end=5)"
      ],
      "execution_count": 0,
      "outputs": [
        {
          "output_type": "execute_result",
          "data": {
            "text/plain": [
              "[2, 4, 8, 16]"
            ]
          },
          "metadata": {
            "tags": []
          },
          "execution_count": 11
        }
      ]
    },
    {
      "cell_type": "code",
      "metadata": {
        "id": "vYyvf0m_HiQQ",
        "colab_type": "code",
        "outputId": "4a1831e2-2cdf-48ec-a106-ec9faeafc7f3",
        "colab": {
          "base_uri": "https://localhost:8080/",
          "height": 34
        }
      },
      "source": [
        "compute_powers_2(2, end=5)"
      ],
      "execution_count": 0,
      "outputs": [
        {
          "output_type": "execute_result",
          "data": {
            "text/plain": [
              "[2, 4, 8, 16]"
            ]
          },
          "metadata": {
            "tags": []
          },
          "execution_count": 12
        }
      ]
    },
    {
      "cell_type": "code",
      "metadata": {
        "id": "zAU6KlQHHjW1",
        "colab_type": "code",
        "outputId": "347df39c-4b56-43a0-addc-606c360ba68c",
        "colab": {
          "base_uri": "https://localhost:8080/",
          "height": 34
        }
      },
      "source": [
        "list(compute_powers_3(2, end=5))"
      ],
      "execution_count": 0,
      "outputs": [
        {
          "output_type": "execute_result",
          "data": {
            "text/plain": [
              "[2, 4, 8, 16]"
            ]
          },
          "metadata": {
            "tags": []
          },
          "execution_count": 13
        }
      ]
    },
    {
      "cell_type": "markdown",
      "metadata": {
        "id": "A_PDFe6xHm2h",
        "colab_type": "text"
      },
      "source": [
        "Finally let's run these functions through our **time_it** function and see the results:"
      ]
    },
    {
      "cell_type": "code",
      "metadata": {
        "id": "qqtc2ftJHlEF",
        "colab_type": "code",
        "outputId": "cd130155-581e-47c0-c9f4-46e179fd741e",
        "colab": {
          "base_uri": "https://localhost:8080/",
          "height": 34
        }
      },
      "source": [
        "time_it(compute_powers_1, n=2, end=20000, rep=4)"
      ],
      "execution_count": 0,
      "outputs": [
        {
          "output_type": "execute_result",
          "data": {
            "text/plain": [
              "0.44134646300000213"
            ]
          },
          "metadata": {
            "tags": []
          },
          "execution_count": 14
        }
      ]
    },
    {
      "cell_type": "code",
      "metadata": {
        "id": "qpSSErLGHoRm",
        "colab_type": "code",
        "outputId": "ee3e4fcf-dc9d-48bc-d2ce-c3c7249078a1",
        "colab": {
          "base_uri": "https://localhost:8080/",
          "height": 34
        }
      },
      "source": [
        "time_it(compute_powers_2, 2, end=20000, rep=4)"
      ],
      "execution_count": 0,
      "outputs": [
        {
          "output_type": "execute_result",
          "data": {
            "text/plain": [
              "0.4372079142499956"
            ]
          },
          "metadata": {
            "tags": []
          },
          "execution_count": 15
        }
      ]
    },
    {
      "cell_type": "code",
      "metadata": {
        "id": "iZvW8_3XHqlm",
        "colab_type": "code",
        "outputId": "c553adba-c02a-4186-9cf9-63a40e6a7cae",
        "colab": {
          "base_uri": "https://localhost:8080/",
          "height": 34
        }
      },
      "source": [
        "time_it(compute_powers_3, 2, end=20000, rep=4)"
      ],
      "execution_count": 0,
      "outputs": [
        {
          "output_type": "execute_result",
          "data": {
            "text/plain": [
              "3.673500003742447e-06"
            ]
          },
          "metadata": {
            "tags": []
          },
          "execution_count": 16
        }
      ]
    },
    {
      "cell_type": "markdown",
      "metadata": {
        "id": "yFW6hSICHuwh",
        "colab_type": "text"
      },
      "source": [
        "Although the **compute_powers_3** function appears to be **much** faster than the other two, it doesn't quite do the same thing! \n",
        "\n",
        "We'll cover generators in detail later in this course."
      ]
    },
    {
      "cell_type": "markdown",
      "metadata": {
        "id": "puinNfiyvP1D",
        "colab_type": "text"
      },
      "source": [
        "# 10.Parameter Defaults: BEWAREEEE!!!"
      ]
    },
    {
      "cell_type": "markdown",
      "metadata": {
        "id": "Nbd3HhgsvcNp",
        "colab_type": "text"
      },
      "source": [
        "![alt text](https://drive.google.com/uc?id=10iLRsv2Brp37Px1DY-Naxz9vSzBdyM61)"
      ]
    },
    {
      "cell_type": "markdown",
      "metadata": {
        "id": "fYWIgzFZxzSX",
        "colab_type": "text"
      },
      "source": [
        "![alt text](https://drive.google.com/uc?id=1ZegQ9Uwj6QGGwtIagHTWQowjO9AfvObg)"
      ]
    },
    {
      "cell_type": "markdown",
      "metadata": {
        "id": "xzdlrdvFxzAp",
        "colab_type": "text"
      },
      "source": [
        "![alt text](https://drive.google.com/uc?id=11J9LSwGvmzV4hPbubCCg8xXPag207tAp)"
      ]
    },
    {
      "cell_type": "markdown",
      "metadata": {
        "id": "j5RYO_Kbxyvn",
        "colab_type": "text"
      },
      "source": [
        "![alt text](https://drive.google.com/uc?id=17nycWDo1ThA8GCN8UAxBN9kz9NtWDeiz)"
      ]
    },
    {
      "cell_type": "markdown",
      "metadata": {
        "id": "LQul_JdM1b1A",
        "colab_type": "text"
      },
      "source": [
        "## Coding time"
      ]
    },
    {
      "cell_type": "code",
      "metadata": {
        "id": "XX0FtSvhHsJA",
        "colab_type": "code",
        "colab": {
          "base_uri": "https://localhost:8080/",
          "height": 34
        },
        "outputId": "1e62a4bb-e12a-49b7-8ff2-023243e686b0"
      },
      "source": [
        "from datetime import datetime\n",
        "\n",
        "print(datetime.utcnow())"
      ],
      "execution_count": 6,
      "outputs": [
        {
          "output_type": "stream",
          "text": [
            "2020-02-27 18:09:23.170161\n"
          ],
          "name": "stdout"
        }
      ]
    },
    {
      "cell_type": "code",
      "metadata": {
        "id": "zRrPhnE11pw1",
        "colab_type": "code",
        "colab": {
          "base_uri": "https://localhost:8080/",
          "height": 34
        },
        "outputId": "efc66c96-7335-4ee3-e14b-21931e0f0c06"
      },
      "source": [
        "def log(msg, *, dt=datetime.utcnow()):\n",
        "    print(f'{dt}: {msg}')\n",
        "\n",
        "log('message 1')"
      ],
      "execution_count": 7,
      "outputs": [
        {
          "output_type": "stream",
          "text": [
            "2020-02-27 18:10:38.744417: message 1\n"
          ],
          "name": "stdout"
        }
      ]
    },
    {
      "cell_type": "code",
      "metadata": {
        "id": "jU0QznK_18Nu",
        "colab_type": "code",
        "colab": {
          "base_uri": "https://localhost:8080/",
          "height": 34
        },
        "outputId": "4907f5b4-76b9-40ed-9367-4d36c74dd5b8"
      },
      "source": [
        "log('message 2', dt='2001-01-01 00:00:00')"
      ],
      "execution_count": 9,
      "outputs": [
        {
          "output_type": "stream",
          "text": [
            "2001-01-01 00:00:00: message 2\n"
          ],
          "name": "stdout"
        }
      ]
    },
    {
      "cell_type": "code",
      "metadata": {
        "id": "b7YqaOCK2CdS",
        "colab_type": "code",
        "colab": {
          "base_uri": "https://localhost:8080/",
          "height": 34
        },
        "outputId": "7a26e88b-f42d-4ea6-c456-238196d0f05e"
      },
      "source": [
        "log('message 3')"
      ],
      "execution_count": 10,
      "outputs": [
        {
          "output_type": "stream",
          "text": [
            "2020-02-27 18:10:38.744417: message 3\n"
          ],
          "name": "stdout"
        }
      ]
    },
    {
      "cell_type": "code",
      "metadata": {
        "id": "tmJKxMQY2Fqu",
        "colab_type": "code",
        "colab": {
          "base_uri": "https://localhost:8080/",
          "height": 34
        },
        "outputId": "72baaced-9d42-498c-8d61-3c84e8c62de9"
      },
      "source": [
        "log('message 4')"
      ],
      "execution_count": 11,
      "outputs": [
        {
          "output_type": "stream",
          "text": [
            "2020-02-27 18:10:38.744417: message 4\n"
          ],
          "name": "stdout"
        }
      ]
    },
    {
      "cell_type": "markdown",
      "metadata": {
        "id": "WhyfLZmD2JZR",
        "colab_type": "text"
      },
      "source": [
        "As you can see, the default for **dt** is calculated when the function is **defined** and is **NOT** re-evaluated when the function is called."
      ]
    },
    {
      "cell_type": "markdown",
      "metadata": {
        "id": "jhkKeXXb2Lfy",
        "colab_type": "text"
      },
      "source": [
        "### Solution Pattern"
      ]
    },
    {
      "cell_type": "markdown",
      "metadata": {
        "id": "NRwPi_NZ2OPU",
        "colab_type": "text"
      },
      "source": [
        "Here is one pattern we can use to achieve the desired result:\n",
        "\n",
        "We actually set the default to None - this makes the argument optional, and we can then test for None **inside** the function and default to the current time if it is None."
      ]
    },
    {
      "cell_type": "code",
      "metadata": {
        "id": "1Bubi89o2H5P",
        "colab_type": "code",
        "colab": {
          "base_uri": "https://localhost:8080/",
          "height": 34
        },
        "outputId": "b6c9c63c-cc50-4346-a9c7-aa6d0d2f47bb"
      },
      "source": [
        "def log(msg, *, dt=None):\n",
        "    dt = dt or datetime.utcnow()\n",
        "    # above is equivalent to:\n",
        "    #if not dt:\n",
        "    #    dt = datetime.utcnow()\n",
        "    print('{0}: {1}'.format(dt, msg))  \n",
        "\n",
        "log('message 1')  "
      ],
      "execution_count": 13,
      "outputs": [
        {
          "output_type": "stream",
          "text": [
            "2020-02-27 18:12:08.632267: message 1\n"
          ],
          "name": "stdout"
        }
      ]
    },
    {
      "cell_type": "code",
      "metadata": {
        "id": "QeQ1Yilt2QHh",
        "colab_type": "code",
        "colab": {
          "base_uri": "https://localhost:8080/",
          "height": 34
        },
        "outputId": "61953048-0351-45be-a268-52b6a4186a38"
      },
      "source": [
        "log('message 2')"
      ],
      "execution_count": 14,
      "outputs": [
        {
          "output_type": "stream",
          "text": [
            "2020-02-27 18:12:14.317386: message 2\n"
          ],
          "name": "stdout"
        }
      ]
    },
    {
      "cell_type": "code",
      "metadata": {
        "id": "9_0QJM1d2Tii",
        "colab_type": "code",
        "colab": {
          "base_uri": "https://localhost:8080/",
          "height": 34
        },
        "outputId": "a65669e9-e609-4268-fba3-8dc52f3220ad"
      },
      "source": [
        "log('message 3', dt='2001-01-01 00:00:00')"
      ],
      "execution_count": 15,
      "outputs": [
        {
          "output_type": "stream",
          "text": [
            "2001-01-01 00:00:00: message 3\n"
          ],
          "name": "stdout"
        }
      ]
    },
    {
      "cell_type": "code",
      "metadata": {
        "id": "7PWq1xJh2UwN",
        "colab_type": "code",
        "colab": {
          "base_uri": "https://localhost:8080/",
          "height": 34
        },
        "outputId": "f191fba7-3515-42e2-e7b1-0ffdcd5d21f0"
      },
      "source": [
        "log('message 4')"
      ],
      "execution_count": 16,
      "outputs": [
        {
          "output_type": "stream",
          "text": [
            "2020-02-27 18:12:24.484803: message 4\n"
          ],
          "name": "stdout"
        }
      ]
    },
    {
      "cell_type": "code",
      "metadata": {
        "id": "r2zHSe3H2WCW",
        "colab_type": "code",
        "colab": {
          "base_uri": "https://localhost:8080/",
          "height": 34
        },
        "outputId": "7ad74e2d-e0e6-48c5-8cf3-eaabc69ea905"
      },
      "source": [
        "my_list = (1, 2, 3)\n",
        "\n",
        "def func(a=my_list):\n",
        "    print(a)\n",
        "\n",
        "func()"
      ],
      "execution_count": 17,
      "outputs": [
        {
          "output_type": "stream",
          "text": [
            "(1, 2, 3)\n"
          ],
          "name": "stdout"
        }
      ]
    },
    {
      "cell_type": "code",
      "metadata": {
        "id": "SMbN3xCY6yFr",
        "colab_type": "code",
        "colab": {
          "base_uri": "https://localhost:8080/",
          "height": 34
        },
        "outputId": "3f4a0458-264d-462a-f05e-3aedadeecba5"
      },
      "source": [
        "func(['a', 'b'])"
      ],
      "execution_count": 18,
      "outputs": [
        {
          "output_type": "stream",
          "text": [
            "['a', 'b']\n"
          ],
          "name": "stdout"
        }
      ]
    },
    {
      "cell_type": "code",
      "metadata": {
        "id": "UnN1TYC062Rb",
        "colab_type": "code",
        "colab": {
          "base_uri": "https://localhost:8080/",
          "height": 163
        },
        "outputId": "4bd08900-4c50-45ad-af6f-cfc19f704b87"
      },
      "source": [
        "my_list.append(4)"
      ],
      "execution_count": 19,
      "outputs": [
        {
          "output_type": "error",
          "ename": "AttributeError",
          "evalue": "ignored",
          "traceback": [
            "\u001b[0;31m---------------------------------------------------------------------------\u001b[0m",
            "\u001b[0;31mAttributeError\u001b[0m                            Traceback (most recent call last)",
            "\u001b[0;32m<ipython-input-19-07de0c001dbe>\u001b[0m in \u001b[0;36m<module>\u001b[0;34m()\u001b[0m\n\u001b[0;32m----> 1\u001b[0;31m \u001b[0mmy_list\u001b[0m\u001b[0;34m.\u001b[0m\u001b[0mappend\u001b[0m\u001b[0;34m(\u001b[0m\u001b[0;36m4\u001b[0m\u001b[0;34m)\u001b[0m\u001b[0;34m\u001b[0m\u001b[0;34m\u001b[0m\u001b[0m\n\u001b[0m",
            "\u001b[0;31mAttributeError\u001b[0m: 'tuple' object has no attribute 'append'"
          ]
        }
      ]
    },
    {
      "cell_type": "code",
      "metadata": {
        "id": "nj6aLJF266R1",
        "colab_type": "code",
        "colab": {
          "base_uri": "https://localhost:8080/",
          "height": 34
        },
        "outputId": "78c93595-8bce-4a16-f982-e8e820a1ad5d"
      },
      "source": [
        "my_list"
      ],
      "execution_count": 20,
      "outputs": [
        {
          "output_type": "execute_result",
          "data": {
            "text/plain": [
              "(1, 2, 3)"
            ]
          },
          "metadata": {
            "tags": []
          },
          "execution_count": 20
        }
      ]
    },
    {
      "cell_type": "code",
      "metadata": {
        "id": "bmRho8rH67-A",
        "colab_type": "code",
        "colab": {
          "base_uri": "https://localhost:8080/",
          "height": 34
        },
        "outputId": "1d5b18f9-6ce2-4f3b-cc25-0098b42e20f4"
      },
      "source": [
        "func()"
      ],
      "execution_count": 21,
      "outputs": [
        {
          "output_type": "stream",
          "text": [
            "(1, 2, 3)\n"
          ],
          "name": "stdout"
        }
      ]
    },
    {
      "cell_type": "markdown",
      "metadata": {
        "id": "2iDPkMVV2bHv",
        "colab_type": "text"
      },
      "source": [
        "# 11.Parameter Defaults - BEWAREE AGAIN (Coding)"
      ]
    },
    {
      "cell_type": "markdown",
      "metadata": {
        "id": "hoXk1S1H7cLQ",
        "colab_type": "text"
      },
      "source": [
        "Another gotcha with parameter defaults comes with mutable types, and is an easy trap to fall into.\n",
        "</br>\n",
        "</br>\n",
        "Again, you have to remember that function parameter defaults are evaluated once, when the function is defined (i.e. when the module is loaded, or in this Jupyter notebook, when we \"execute\" the function definition), and not every time the function is called.\n",
        "</br>\n",
        "</br>\n",
        "Consider the following scenario.\n",
        "\n",
        "We are creating a grocery list, and we want our list to contain consistently formatted data with name, quantity and measurement unit:\n",
        "\n",
        "``\n",
        "bananas (2 units)\n",
        "grapes (1 bunch)\n",
        "milk (1 liter)\n",
        "python (1 medium-rare)\n",
        "``\n",
        "</br>\n",
        "</br>\n",
        "To make sure the data is consistent, we want to use a function that we can call to add the item to our list.\n",
        "\n",
        "So we'll need to provide it our current grocery list as well as the item information to be added:"
      ]
    },
    {
      "cell_type": "code",
      "metadata": {
        "id": "ZBlk896j7sDz",
        "colab_type": "code",
        "colab": {}
      },
      "source": [
        "def add_item(name, quantity, unit, grocery_list):\n",
        "    item_fmt = \"{0} ({1} {2})\".format(name, quantity, unit)\n",
        "    grocery_list.append(item_fmt)\n",
        "    return grocery_list\n"
      ],
      "execution_count": 0,
      "outputs": []
    },
    {
      "cell_type": "markdown",
      "metadata": {
        "id": "ZjhRSejT7zm8",
        "colab_type": "text"
      },
      "source": [
        "We have two stores we want to visit, so we set up two grocery lists:"
      ]
    },
    {
      "cell_type": "code",
      "metadata": {
        "id": "iWmh9Z7r71iR",
        "colab_type": "code",
        "colab": {}
      },
      "source": [
        "store_1 = []\n",
        "store_2 = []"
      ],
      "execution_count": 0,
      "outputs": []
    },
    {
      "cell_type": "code",
      "metadata": {
        "id": "ZYCFz1Yv73zG",
        "colab_type": "code",
        "colab": {
          "base_uri": "https://localhost:8080/",
          "height": 34
        },
        "outputId": "dc7fc4bf-0962-440a-9dd8-7b0b80a3ae4f"
      },
      "source": [
        "add_item('bananas', 2, 'units', store_1)\n",
        "add_item('grapes', 1, 'bunch', store_1)\n",
        "add_item('python', 1, 'medium-rare', store_2)"
      ],
      "execution_count": 25,
      "outputs": [
        {
          "output_type": "execute_result",
          "data": {
            "text/plain": [
              "['python (1 medium-rare)']"
            ]
          },
          "metadata": {
            "tags": []
          },
          "execution_count": 25
        }
      ]
    },
    {
      "cell_type": "code",
      "metadata": {
        "id": "X9vO_G6b78vA",
        "colab_type": "code",
        "colab": {
          "base_uri": "https://localhost:8080/",
          "height": 34
        },
        "outputId": "8623b306-4d12-4721-c3a5-81e9d431329e"
      },
      "source": [
        "store_1"
      ],
      "execution_count": 26,
      "outputs": [
        {
          "output_type": "execute_result",
          "data": {
            "text/plain": [
              "['bananas (2 units)', 'grapes (1 bunch)']"
            ]
          },
          "metadata": {
            "tags": []
          },
          "execution_count": 26
        }
      ]
    },
    {
      "cell_type": "code",
      "metadata": {
        "id": "w7OO9ToK8BYu",
        "colab_type": "code",
        "colab": {
          "base_uri": "https://localhost:8080/",
          "height": 34
        },
        "outputId": "45b6203d-7034-4755-e563-870b5aa1ba02"
      },
      "source": [
        "store_2"
      ],
      "execution_count": 27,
      "outputs": [
        {
          "output_type": "execute_result",
          "data": {
            "text/plain": [
              "['python (1 medium-rare)']"
            ]
          },
          "metadata": {
            "tags": []
          },
          "execution_count": 27
        }
      ]
    },
    {
      "cell_type": "markdown",
      "metadata": {
        "id": "Wj_HX4f98GDM",
        "colab_type": "text"
      },
      "source": [
        "Ok, working great. But let's make the function a little easier to use - if the user does not supply an existing grocery list to append the item to, let's just go ahead and default our `grocery_list` to an empty list hence starting a new shopping list:"
      ]
    },
    {
      "cell_type": "code",
      "metadata": {
        "id": "LZBuqH7i8DeK",
        "colab_type": "code",
        "colab": {
          "base_uri": "https://localhost:8080/",
          "height": 34
        },
        "outputId": "173284f1-6e87-4645-9f6c-4c3fdf21a4bb"
      },
      "source": [
        "def add_item(name, quantity, unit, grocery_list=[]):\n",
        "    item_fmt = \"{0} ({1} {2})\".format(name, quantity, unit)\n",
        "    grocery_list.append(item_fmt)\n",
        "    return grocery_list\n",
        "\n",
        "store_1 = add_item('bananas', 2, 'units')\n",
        "add_item('grapes', 1, 'bunch', store_1)"
      ],
      "execution_count": 28,
      "outputs": [
        {
          "output_type": "execute_result",
          "data": {
            "text/plain": [
              "['bananas (2 units)', 'grapes (1 bunch)']"
            ]
          },
          "metadata": {
            "tags": []
          },
          "execution_count": 28
        }
      ]
    },
    {
      "cell_type": "code",
      "metadata": {
        "id": "M0TCG_kY8MZc",
        "colab_type": "code",
        "colab": {
          "base_uri": "https://localhost:8080/",
          "height": 34
        },
        "outputId": "d2238292-4579-4acb-a3cb-05cd22f38728"
      },
      "source": [
        "store_1"
      ],
      "execution_count": 29,
      "outputs": [
        {
          "output_type": "execute_result",
          "data": {
            "text/plain": [
              "['bananas (2 units)', 'grapes (1 bunch)']"
            ]
          },
          "metadata": {
            "tags": []
          },
          "execution_count": 29
        }
      ]
    },
    {
      "cell_type": "markdown",
      "metadata": {
        "id": "vhi413RA8VxG",
        "colab_type": "text"
      },
      "source": [
        "OK, so that seems to be working as expected.\n",
        "\n",
        "Let's start our second list:"
      ]
    },
    {
      "cell_type": "code",
      "metadata": {
        "id": "bMp66bef8PrG",
        "colab_type": "code",
        "colab": {}
      },
      "source": [
        "store_2 = add_item('milk', 1, 'gallon')"
      ],
      "execution_count": 0,
      "outputs": []
    },
    {
      "cell_type": "code",
      "metadata": {
        "id": "6033leDF8cO8",
        "colab_type": "code",
        "colab": {
          "base_uri": "https://localhost:8080/",
          "height": 34
        },
        "outputId": "8cc3e480-20e2-4dc6-a93f-d1da46fce950"
      },
      "source": [
        "print(store_2)"
      ],
      "execution_count": 31,
      "outputs": [
        {
          "output_type": "stream",
          "text": [
            "['bananas (2 units)', 'grapes (1 bunch)', 'milk (1 gallon)']\n"
          ],
          "name": "stdout"
        }
      ]
    },
    {
      "cell_type": "markdown",
      "metadata": {
        "id": "0IfsMFJg8ily",
        "colab_type": "text"
      },
      "source": [
        "??? What's going on? Our second list somehow contains the items that are in the first list.\n",
        "</br>\n",
        "</br>\n",
        "What happened is that the returned value in the first call we made was the default grocery list - but remember that the list was created once and for all when the function was **created** not called. So everytime we call the function, that is the **same** list being used as the default. \n",
        "\n",
        "When we started out first list, we were adding item to that default list.\n",
        "\n",
        "When we started our second list, we were adding items to the **same** default list (since it is the same object).\n",
        "</br>\n",
        "</br>\n",
        "We can avoid this problem using the same pattern as in the previous example we had with the default date time value. We use None as a default value instead, and generate a new empty list (hence starting a new list) if none was provided."
      ]
    },
    {
      "cell_type": "code",
      "metadata": {
        "id": "FzkTcE2d8eVR",
        "colab_type": "code",
        "colab": {
          "base_uri": "https://localhost:8080/",
          "height": 34
        },
        "outputId": "fc6bf470-1e7e-4678-8550-fc2790a3a472"
      },
      "source": [
        "def add_item(name, quantity, unit, grocery_list=None):\n",
        "    if not grocery_list:\n",
        "        grocery_list = []\n",
        "    item_fmt = \"{0} ({1} {2})\".format(name, quantity, unit)\n",
        "    grocery_list.append(item_fmt)\n",
        "    return grocery_list\n",
        "\n",
        "store_1 = add_item('bananas', 2, 'units')\n",
        "add_item('grapes', 1, 'bunch', store_1)"
      ],
      "execution_count": 32,
      "outputs": [
        {
          "output_type": "execute_result",
          "data": {
            "text/plain": [
              "['bananas (2 units)', 'grapes (1 bunch)']"
            ]
          },
          "metadata": {
            "tags": []
          },
          "execution_count": 32
        }
      ]
    },
    {
      "cell_type": "code",
      "metadata": {
        "id": "sDj_pbkK80rr",
        "colab_type": "code",
        "colab": {
          "base_uri": "https://localhost:8080/",
          "height": 34
        },
        "outputId": "8f9b6353-92a3-42e9-bc0d-f670c471cd81"
      },
      "source": [
        "store_2 = add_item('milk', 1, 'gallon')\n",
        "store_2"
      ],
      "execution_count": 33,
      "outputs": [
        {
          "output_type": "execute_result",
          "data": {
            "text/plain": [
              "['milk (1 gallon)']"
            ]
          },
          "metadata": {
            "tags": []
          },
          "execution_count": 33
        }
      ]
    },
    {
      "cell_type": "markdown",
      "metadata": {
        "id": "MaZZ7Otj87QR",
        "colab_type": "text"
      },
      "source": [
        "Issue resolved!\n",
        "</br>\n",
        "</br>\n",
        "However, there are legitimate use cases (well, almost legitimate, often we're better off using a different approach that we'll see when we look at closures), but here's a simple one.\n",
        "\n",
        "We want our function to cache results, so that we don't recalculate something more than once.\n",
        "\n",
        "Let's say we have a factorial function, that can be defined recursively as:\n",
        "\n",
        "`n! = n * (n-1)!`"
      ]
    },
    {
      "cell_type": "code",
      "metadata": {
        "id": "NIV-WaPe83Un",
        "colab_type": "code",
        "colab": {
          "base_uri": "https://localhost:8080/",
          "height": 85
        },
        "outputId": "cca618e8-bca0-443e-db01-5a9caa00c385"
      },
      "source": [
        "def factorial(n):\n",
        "    if n < 1:\n",
        "        return 1\n",
        "    else:\n",
        "        print('calculating {0}!'.format(n))\n",
        "        return n * factorial(n-1)\n",
        "\n",
        "factorial(3)"
      ],
      "execution_count": 34,
      "outputs": [
        {
          "output_type": "stream",
          "text": [
            "calculating 3!\n",
            "calculating 2!\n",
            "calculating 1!\n"
          ],
          "name": "stdout"
        },
        {
          "output_type": "execute_result",
          "data": {
            "text/plain": [
              "6"
            ]
          },
          "metadata": {
            "tags": []
          },
          "execution_count": 34
        }
      ]
    },
    {
      "cell_type": "code",
      "metadata": {
        "id": "XFhr472a9Fs_",
        "colab_type": "code",
        "colab": {
          "base_uri": "https://localhost:8080/",
          "height": 85
        },
        "outputId": "8eaf10e5-e9a0-40c4-81b0-71a9a49c9044"
      },
      "source": [
        "factorial(3)"
      ],
      "execution_count": 36,
      "outputs": [
        {
          "output_type": "stream",
          "text": [
            "calculating 3!\n",
            "calculating 2!\n",
            "calculating 1!\n"
          ],
          "name": "stdout"
        },
        {
          "output_type": "execute_result",
          "data": {
            "text/plain": [
              "6"
            ]
          },
          "metadata": {
            "tags": []
          },
          "execution_count": 36
        }
      ]
    },
    {
      "cell_type": "markdown",
      "metadata": {
        "id": "QjYZZI1J9MOp",
        "colab_type": "text"
      },
      "source": [
        "As you can see we had to recalculate all those factorials the second time around.\n",
        "\n",
        "Let's cache the results leveraging what we saw in the previous example:"
      ]
    },
    {
      "cell_type": "code",
      "metadata": {
        "id": "qbvPBOAe9H5V",
        "colab_type": "code",
        "colab": {
          "base_uri": "https://localhost:8080/",
          "height": 85
        },
        "outputId": "bbf2fa66-dd9b-447d-e1ed-8bbe58bb4476"
      },
      "source": [
        "def factorial(n, cache={}):\n",
        "    if n < 1:\n",
        "        return 1\n",
        "    elif n in cache:\n",
        "        return cache[n]\n",
        "    else:\n",
        "        print('calculating {0}!'.format(n))\n",
        "        result = n * factorial(n-1)\n",
        "        cache[n] = result\n",
        "        return result\n",
        "\n",
        "factorial(3)"
      ],
      "execution_count": 37,
      "outputs": [
        {
          "output_type": "stream",
          "text": [
            "calculating 3!\n",
            "calculating 2!\n",
            "calculating 1!\n"
          ],
          "name": "stdout"
        },
        {
          "output_type": "execute_result",
          "data": {
            "text/plain": [
              "6"
            ]
          },
          "metadata": {
            "tags": []
          },
          "execution_count": 37
        }
      ]
    },
    {
      "cell_type": "code",
      "metadata": {
        "id": "xAHcItjb9R0-",
        "colab_type": "code",
        "colab": {
          "base_uri": "https://localhost:8080/",
          "height": 34
        },
        "outputId": "74918088-4b4a-4db8-b629-c11900d90ac6"
      },
      "source": [
        "factorial(3)"
      ],
      "execution_count": 38,
      "outputs": [
        {
          "output_type": "execute_result",
          "data": {
            "text/plain": [
              "6"
            ]
          },
          "metadata": {
            "tags": []
          },
          "execution_count": 38
        }
      ]
    },
    {
      "cell_type": "markdown",
      "metadata": {
        "id": "nNs-FBj79XBC",
        "colab_type": "text"
      },
      "source": [
        "Now as you can see, the second time around we did not have to recalculate all the factorials. In fact, to calculate higher factorials, you'll notice that we don't need to re-run *all* the recursive calls:"
      ]
    },
    {
      "cell_type": "code",
      "metadata": {
        "id": "i5Ces_Rl9UFK",
        "colab_type": "code",
        "colab": {
          "base_uri": "https://localhost:8080/",
          "height": 68
        },
        "outputId": "f6dec9ec-b7ce-4bff-f1d2-b0a432ceac3a"
      },
      "source": [
        "factorial(5)"
      ],
      "execution_count": 39,
      "outputs": [
        {
          "output_type": "stream",
          "text": [
            "calculating 5!\n",
            "calculating 4!\n"
          ],
          "name": "stdout"
        },
        {
          "output_type": "execute_result",
          "data": {
            "text/plain": [
              "120"
            ]
          },
          "metadata": {
            "tags": []
          },
          "execution_count": 39
        }
      ]
    },
    {
      "cell_type": "markdown",
      "metadata": {
        "id": "eG5KYCD-9cri",
        "colab_type": "text"
      },
      "source": [
        "`5!` and `4!` was calculated since they weren't cached, but since `3!` was already cached we didn't have to recalculate it - it was a quick lookup instead.\n",
        "</br>\n",
        "</br>\n",
        "This technique is something called memoization, and we'll come back to it in much more detail when we discuss closures and decorators."
      ]
    },
    {
      "cell_type": "code",
      "metadata": {
        "id": "gZ2jvhQh9Z0u",
        "colab_type": "code",
        "colab": {}
      },
      "source": [
        ""
      ],
      "execution_count": 0,
      "outputs": []
    }
  ]
}