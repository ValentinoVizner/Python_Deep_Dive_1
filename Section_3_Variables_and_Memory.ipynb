{
  "nbformat": 4,
  "nbformat_minor": 0,
  "metadata": {
    "colab": {
      "name": "Untitled4.ipynb",
      "provenance": [],
      "include_colab_link": true
    },
    "kernelspec": {
      "name": "python3",
      "display_name": "Python 3"
    },
    "accelerator": "TPU"
  },
  "cells": [
    {
      "cell_type": "markdown",
      "metadata": {
        "id": "view-in-github",
        "colab_type": "text"
      },
      "source": [
        "<a href=\"https://colab.research.google.com/github/ValentinoVizner/Python_Deep_Dive_1/blob/master/Section_3_Variables_and_Memory.ipynb\" target=\"_parent\"><img src=\"https://colab.research.google.com/assets/colab-badge.svg\" alt=\"Open In Colab\"/></a>"
      ]
    },
    {
      "cell_type": "markdown",
      "metadata": {
        "id": "1KBFvf3wI7KX",
        "colab_type": "text"
      },
      "source": [
        "# SECTION 3. VARIABLES AND MEMORY"
      ]
    },
    {
      "cell_type": "markdown",
      "metadata": {
        "id": "1P6DZ0TvKcUA",
        "colab_type": "text"
      },
      "source": [
        "## 1. Variables Are Memory References"
      ]
    },
    {
      "cell_type": "markdown",
      "metadata": {
        "id": "inJH6xYyMPlT",
        "colab_type": "text"
      },
      "source": [
        "![alt text](https://drive.google.com/uc?id=1VdPKXbWvyWOzxXhgh12LnQWaySAmVhCn)"
      ]
    },
    {
      "cell_type": "markdown",
      "metadata": {
        "id": "-3VhD7BvMVNR",
        "colab_type": "text"
      },
      "source": [
        "When we store data in memory addresses we may actually use more than 1 slot at a time (object 1 and object 2).\n",
        "</br>\n",
        "But as long as we know where the object starts in memory thats good enough.\n",
        "</br>\n",
        "So the object 1 starts and 0x1000 and it overflows into another memory address e.g. 0x1001\n",
        "</br>\n",
        "Object 2 starts at memory address 0x1002 and it overflows into 2 more memory address.\n",
        "</br>\n",
        "While Object 3 fits preciselly into one slot of memory.\n",
        "</br>\n",
        "</br>\n",
        "**Heap** is range of memory addresses where our objects are stored.\n",
        "**Python Memory Manager** is responsible of pulling object from the **heap**"
      ]
    },
    {
      "cell_type": "markdown",
      "metadata": {
        "id": "lumHjSD_RqPo",
        "colab_type": "text"
      },
      "source": [
        "Here is an example:"
      ]
    },
    {
      "cell_type": "markdown",
      "metadata": {
        "id": "keLXicD8Vi7p",
        "colab_type": "text"
      },
      "source": [
        "![alt text](https://drive.google.com/uc?id=18UOEEgkBpnZqZDmr-Fha7t70wUukcxcd)"
      ]
    },
    {
      "cell_type": "markdown",
      "metadata": {
        "id": "KTt0dKBGbLwy",
        "colab_type": "text"
      },
      "source": [
        "We can find the memory address that a variable *references*, by using the `id()` function.\n",
        "\n",
        "The `id()` function returns the memory address of its argument as a base-10 integer.\n",
        "\n",
        "We can use the function `hex()` to convert the base-10 number to base-16."
      ]
    },
    {
      "cell_type": "code",
      "metadata": {
        "id": "PNw-dga2bKen",
        "colab_type": "code",
        "colab": {}
      },
      "source": [
        "my_var = 10\n",
        "print('my_var = {0}'.format(my_var))\n",
        "print('memory address of my_var (decimal): {0}'.format(id(my_var)))\n",
        "print('memory address of my_var (hex): {0}'.format(hex(id(my_var))))"
      ],
      "execution_count": 0,
      "outputs": []
    },
    {
      "cell_type": "code",
      "metadata": {
        "id": "zdFZ2kffNN_A",
        "colab_type": "code",
        "colab": {}
      },
      "source": [
        "greeting = 'Hello'\n",
        "print('greeting = {0}'.format(greeting))\n",
        "print('memory address of my_var (decimal): {0}'.format(id(greeting)))\n",
        "print('memory address of my_var (hex): {0}'.format(hex(id(greeting))))"
      ],
      "execution_count": 0,
      "outputs": []
    },
    {
      "cell_type": "code",
      "metadata": {
        "id": "iuGfQwvQNP8f",
        "colab_type": "code",
        "colab": {}
      },
      "source": [
        ""
      ],
      "execution_count": 0,
      "outputs": []
    },
    {
      "cell_type": "markdown",
      "metadata": {
        "id": "S8hRhD8yNSZL",
        "colab_type": "text"
      },
      "source": [
        "Note how the memory address of `my_var` is **different** from that of `greeting`.\n",
        "\n",
        "Strictly speaking, `my_var` is not \"equal\" to 10. \n",
        "\n",
        "Instead `my_var` is a **reference** to an (*integer*) object (*containing the value 10*) located at the memory address `id(my_var)`\n",
        "\n",
        "Similarly for the variable `greeting`."
      ]
    },
    {
      "cell_type": "markdown",
      "metadata": {
        "id": "cSM_kVw5P60Q",
        "colab_type": "text"
      },
      "source": [
        "## 2. Reference Counting"
      ]
    },
    {
      "cell_type": "markdown",
      "metadata": {
        "id": "S42ox-cFSdCS",
        "colab_type": "text"
      },
      "source": [
        "![alt text](https://drive.google.com/uc?id=1tC5p8CU48NWqyRoeVlxBky7JbUudg2yo)"
      ]
    },
    {
      "cell_type": "markdown",
      "metadata": {
        "id": "z0mZ2Ax2SoDH",
        "colab_type": "text"
      },
      "source": [
        "REMEMBER: We are dealing with pointers, so our other_var is pointing, i.e. REFERENCING to the memory address 0x1000 and its not actually REFERENCING to the value 10.\n",
        "</br>\n",
        "They are both pointing to the same reference, so the reference count is 2."
      ]
    },
    {
      "cell_type": "markdown",
      "metadata": {
        "id": "GIEhAWHQTfhe",
        "colab_type": "text"
      },
      "source": [
        "Now if we delete the `my_var` the `count` will decrease to `1`.\n",
        "</br>\n",
        "After we delete last variable referencing to the memory address i.e. `other_var` our `count` will be `0` and **Python Memory Manager** will delete and free up memory space/address for someone else, another variable to use it."
      ]
    },
    {
      "cell_type": "markdown",
      "metadata": {
        "id": "kOxADrpyU1a1",
        "colab_type": "text"
      },
      "source": [
        "![alt text](https://drive.google.com/uc?id=1Zr4LR4XYFKQ9ilOxFchLCMtQeFGGT8xQ)\n",
        "</br>\n",
        "</br>\n",
        "There is the downside for using `sys.getrefcount(my_var)` because when we are passing `my_var` to `sys.getrefcount(my_var)` it creates and extra reference i.e. count"
      ]
    },
    {
      "cell_type": "markdown",
      "metadata": {
        "id": "07ruAm6DU7xM",
        "colab_type": "text"
      },
      "source": [
        "![alt text](https://drive.google.com/uc?id=1ZaVrmuDDRfrPL1UTM0hBZGAxQ5F6y5Ci)\n",
        "</br>\n",
        "</br>\n",
        "\n",
        "This is much better because it is not referencing the variable, instead we are just passing the memory address, so it does NOT affect REFERENCING COUNT!"
      ]
    },
    {
      "cell_type": "code",
      "metadata": {
        "id": "Jgt5wkN1NTIu",
        "colab_type": "code",
        "outputId": "31677e79-0fdd-4b68-f8d2-b4866c74359d",
        "colab": {
          "base_uri": "https://localhost:8080/",
          "height": 34
        }
      },
      "source": [
        "import sys\n",
        "\n",
        "a = [1, 2, 3]\n",
        "\n",
        "sys.getrefcount(a)"
      ],
      "execution_count": 0,
      "outputs": [
        {
          "output_type": "execute_result",
          "data": {
            "text/plain": [
              "2"
            ]
          },
          "metadata": {
            "tags": []
          },
          "execution_count": 2
        }
      ]
    },
    {
      "cell_type": "markdown",
      "metadata": {
        "id": "6xpdkwK8ZMJF",
        "colab_type": "text"
      },
      "source": [
        "But why is this returning 2, instead of the expected 1 we obtained with the previous function?\n",
        "\n",
        "Answer: The `sys.getrefcount()` function takes `my_var` as an argument, this means it receives (and stores) a reference to `my_var`'s memory address **also** - hence the count is off by 1."
      ]
    },
    {
      "cell_type": "code",
      "metadata": {
        "id": "-7PxJdJdZDti",
        "colab_type": "code",
        "outputId": "76ddd19f-7865-4eef-8913-c8c9ea6df61f",
        "colab": {
          "base_uri": "https://localhost:8080/",
          "height": 34
        }
      },
      "source": [
        "# BETTER WAY\n",
        "import ctypes\n",
        "\n",
        "def ref_count(address: int):\n",
        "    return ctypes.c_long.from_address(address).value\n",
        "\n",
        "my_var = [1, 2, 3, 4]\n",
        "\n",
        "ref_count(id(my_var))"
      ],
      "execution_count": 0,
      "outputs": [
        {
          "output_type": "execute_result",
          "data": {
            "text/plain": [
              "1"
            ]
          },
          "metadata": {
            "tags": []
          },
          "execution_count": 6
        }
      ]
    },
    {
      "cell_type": "code",
      "metadata": {
        "id": "A3nVCRdAZkWR",
        "colab_type": "code",
        "outputId": "1d1df94f-e1e8-4792-c0ae-20fd4439ca21",
        "colab": {
          "base_uri": "https://localhost:8080/",
          "height": 51
        }
      },
      "source": [
        "other_var = my_var\n",
        "\n",
        "print(id(my_var))\n",
        "print(id(other_var))"
      ],
      "execution_count": 0,
      "outputs": [
        {
          "output_type": "stream",
          "text": [
            "140195183375240\n",
            "140195183375240\n"
          ],
          "name": "stdout"
        }
      ]
    },
    {
      "cell_type": "code",
      "metadata": {
        "id": "pPNv8gwebUgF",
        "colab_type": "code",
        "outputId": "bb8fb846-1fb9-44bf-97da-b8b1e6cb2044",
        "colab": {
          "base_uri": "https://localhost:8080/",
          "height": 34
        }
      },
      "source": [
        "ref_count(id(other_var))"
      ],
      "execution_count": 0,
      "outputs": [
        {
          "output_type": "execute_result",
          "data": {
            "text/plain": [
              "2"
            ]
          },
          "metadata": {
            "tags": []
          },
          "execution_count": 10
        }
      ]
    },
    {
      "cell_type": "code",
      "metadata": {
        "id": "pn1RMKa9blcJ",
        "colab_type": "code",
        "outputId": "728c57da-d179-4580-8334-f1832c373d4d",
        "colab": {
          "base_uri": "https://localhost:8080/",
          "height": 34
        }
      },
      "source": [
        "other_other = my_var\n",
        "\n",
        "ref_count(id(other_var))"
      ],
      "execution_count": 0,
      "outputs": [
        {
          "output_type": "execute_result",
          "data": {
            "text/plain": [
              "3"
            ]
          },
          "metadata": {
            "tags": []
          },
          "execution_count": 11
        }
      ]
    },
    {
      "cell_type": "code",
      "metadata": {
        "id": "aF1fR0Ccby0i",
        "colab_type": "code",
        "colab": {}
      },
      "source": [
        "other_other = 100"
      ],
      "execution_count": 0,
      "outputs": []
    },
    {
      "cell_type": "code",
      "metadata": {
        "id": "6v-TTdKib0hp",
        "colab_type": "code",
        "outputId": "a67bda69-5be2-4667-85d2-90ae308dbe1c",
        "colab": {
          "base_uri": "https://localhost:8080/",
          "height": 34
        }
      },
      "source": [
        "ref_count(id(other_other))"
      ],
      "execution_count": 0,
      "outputs": [
        {
          "output_type": "execute_result",
          "data": {
            "text/plain": [
              "189"
            ]
          },
          "metadata": {
            "tags": []
          },
          "execution_count": 16
        }
      ]
    },
    {
      "cell_type": "markdown",
      "metadata": {
        "id": "PXXqJZIOcPf3",
        "colab_type": "text"
      },
      "source": [
        "You'll probably never need to do anything like this in Python. Memory management is completely transparent - this is just to illustrate some of what is going behind the scenes as it helps to understand upcoming concepts."
      ]
    },
    {
      "cell_type": "code",
      "metadata": {
        "id": "Zhr0xMOSb2ji",
        "colab_type": "code",
        "outputId": "48f7ea82-b259-46e9-f656-e2dd0eb45676",
        "colab": {
          "base_uri": "https://localhost:8080/",
          "height": 34
        }
      },
      "source": [
        "my_var_id = id(my_var)\n",
        "other_var = None\n",
        "my_var = None\n",
        "\n",
        "\n",
        "ref_count(my_var_id)"
      ],
      "execution_count": 0,
      "outputs": [
        {
          "output_type": "execute_result",
          "data": {
            "text/plain": [
              "64142"
            ]
          },
          "metadata": {
            "tags": []
          },
          "execution_count": 21
        }
      ]
    },
    {
      "cell_type": "code",
      "metadata": {
        "id": "eo3bWchbcomB",
        "colab_type": "code",
        "outputId": "39146dc9-e173-4679-c0e4-1c5508672584",
        "colab": {
          "base_uri": "https://localhost:8080/",
          "height": 34
        }
      },
      "source": [
        "ref_count(my_var_id)"
      ],
      "execution_count": 0,
      "outputs": [
        {
          "output_type": "execute_result",
          "data": {
            "text/plain": [
              "64140"
            ]
          },
          "metadata": {
            "tags": []
          },
          "execution_count": 24
        }
      ]
    },
    {
      "cell_type": "markdown",
      "metadata": {
        "id": "SPImFuf9dMoX",
        "colab_type": "text"
      },
      "source": [
        "What's happening here is that once the memory address is freed, we do not know what is stored there, probably JUNK. It's dangerous to manage/delete that in Python"
      ]
    },
    {
      "cell_type": "markdown",
      "metadata": {
        "id": "RFRl4A8UdaiE",
        "colab_type": "text"
      },
      "source": [
        "## 3. Garbage Collection"
      ]
    },
    {
      "cell_type": "markdown",
      "metadata": {
        "id": "sZUAKuwaexfH",
        "colab_type": "text"
      },
      "source": [
        "![alt text](https://drive.google.com/uc?id=1ig7qPO-YVKlP13KBbKbJuF7sqNupNOIk)\n",
        "</br>\n",
        "What happens if we remove the `my_var` pointer?\n",
        "</br>\n",
        "Then the reference count of object A goes to 0, but the reference count of object B is still 1.\n",
        "</br>\n",
        "BUT the reference count of object A is going to 0 and it will be destroyed, once it gets destroyed, reference count of object B will go to 0 and it gets destroyed as well.\n",
        "</br>\n",
        "So far that is good, what we expected to happen.\n",
        "</br>\n",
        "</br>\n",
        "Consider now that object B has `var_2` that points to `var_1`, i.e. Circular References:\n"
      ]
    },
    {
      "cell_type": "markdown",
      "metadata": {
        "id": "V9KJLJ4se3Qx",
        "colab_type": "text"
      },
      "source": [
        "![alt text](https://drive.google.com/uc?id=11SbqFbGcF7fyqe0zku2Ivc5ndpbFFsyt)\n",
        "</br>\n",
        "Now when we remove the `my_var` the reference count for `var_1` in object A will still be 1.\n",
        "</br>\n",
        "So in this case by removing `my_var` both variables in objects A and B wont be destroyed as expected."
      ]
    },
    {
      "cell_type": "markdown",
      "metadata": {
        "id": "5REEttfsjooO",
        "colab_type": "text"
      },
      "source": [
        "![alt text](https://drive.google.com/uc?id=1naSNs4OJ5Xlc6aOZXdoR__DXRDBxvCap)\n",
        "</br>\n",
        "Beccause **Python Memory Manager** can not clean this up and we leave the thins as is, we will have **MEMORY LEAK!!**\n",
        "</br>\n",
        "</br>\n",
        "Thats where the **GARBAGE COLLECTOR** comes in!"
      ]
    },
    {
      "cell_type": "markdown",
      "metadata": {
        "id": "1ReQDv5YktIh",
        "colab_type": "text"
      },
      "source": [
        "![alt text](https://drive.google.com/uc?id=1hhcGms4SQf83N5LDCXbmSQL4x78K9IR5)"
      ]
    },
    {
      "cell_type": "markdown",
      "metadata": {
        "id": "1hQXRG34lpjQ",
        "colab_type": "text"
      },
      "source": [
        "![alt text](https://drive.google.com/uc?id=1DbKKhD0-bK-jdbKhF8cR3z6jj4lMA3fJ)"
      ]
    },
    {
      "cell_type": "code",
      "metadata": {
        "id": "mwZcydpqendT",
        "colab_type": "code",
        "colab": {}
      },
      "source": [
        "import ctypes\n",
        "import gc"
      ],
      "execution_count": 0,
      "outputs": []
    },
    {
      "cell_type": "code",
      "metadata": {
        "id": "8l74xH7kl9aq",
        "colab_type": "code",
        "colab": {}
      },
      "source": [
        "def ref_count(address: int):\n",
        "    return ctypes.c_long.from_address(address).value"
      ],
      "execution_count": 0,
      "outputs": []
    },
    {
      "cell_type": "markdown",
      "metadata": {
        "id": "bORAxzprme2g",
        "colab_type": "text"
      },
      "source": [
        "We create a function that will search the objects in the GC for a specified id and tell us if the object was found or not:"
      ]
    },
    {
      "cell_type": "code",
      "metadata": {
        "id": "ke3dHqmimOxr",
        "colab_type": "code",
        "colab": {}
      },
      "source": [
        "def object_by_id(object_id):\n",
        "    for obj in gc.get_objects():\n",
        "        if id(obj) == object_id:\n",
        "            return \"Object exists\"\n",
        "    return \"Not Found\""
      ],
      "execution_count": 0,
      "outputs": []
    },
    {
      "cell_type": "markdown",
      "metadata": {
        "id": "r_Q-4NlFpSDV",
        "colab_type": "text"
      },
      "source": [
        "Next we define two classes that we will use to create a circular reference\n",
        "\n",
        "Class A's constructor will create an instance of class B and pass itself to class B's constructor that will then store that reference in some instance variable."
      ]
    },
    {
      "cell_type": "code",
      "metadata": {
        "id": "vt-CrwtVnM2Z",
        "colab_type": "code",
        "colab": {}
      },
      "source": [
        "class A:\n",
        "    def __init__(self):\n",
        "        self.b = B(self)\n",
        "        print(f\"A: self: {hex(id(self))}, b: {hex(id(self.b))}\")"
      ],
      "execution_count": 0,
      "outputs": []
    },
    {
      "cell_type": "code",
      "metadata": {
        "id": "4gB0F-tgoL74",
        "colab_type": "code",
        "colab": {}
      },
      "source": [
        "class B:\n",
        "    def __init__(self, a):\n",
        "        self.a = a\n",
        "        print(f\"B: self: {hex(id(self))}, a: {hex(id(self.a))}\")"
      ],
      "execution_count": 0,
      "outputs": []
    },
    {
      "cell_type": "markdown",
      "metadata": {
        "id": "CvyKGJsBpUYR",
        "colab_type": "text"
      },
      "source": [
        "We turn off the GC so we can see how reference counts are affected when the GC does not run and when it does (by running it manually)."
      ]
    },
    {
      "cell_type": "code",
      "metadata": {
        "id": "4IjoRxb4pMV8",
        "colab_type": "code",
        "colab": {}
      },
      "source": [
        "gc.disable()"
      ],
      "execution_count": 0,
      "outputs": []
    },
    {
      "cell_type": "code",
      "metadata": {
        "id": "WpSs2NOIpe01",
        "colab_type": "code",
        "outputId": "42b6478c-d097-4823-b7ee-621cf7d23cac",
        "colab": {
          "base_uri": "https://localhost:8080/",
          "height": 51
        }
      },
      "source": [
        "my_var = A()"
      ],
      "execution_count": 0,
      "outputs": [
        {
          "output_type": "stream",
          "text": [
            "B: self: 0x7f81bc103128, a: 0x7f81bc1030f0\n",
            "A: self: 0x7f81bc1030f0, b: 0x7f81bc103128\n"
          ],
          "name": "stdout"
        }
      ]
    },
    {
      "cell_type": "code",
      "metadata": {
        "id": "oLRxQFncphA-",
        "colab_type": "code",
        "outputId": "f86a745a-4a69-47a5-c1d1-4904d527e0eb",
        "colab": {
          "base_uri": "https://localhost:8080/",
          "height": 34
        }
      },
      "source": [
        "hex(id(my_var))"
      ],
      "execution_count": 0,
      "outputs": [
        {
          "output_type": "execute_result",
          "data": {
            "text/plain": [
              "'0x7f81bc1030f0'"
            ]
          },
          "metadata": {
            "tags": []
          },
          "execution_count": 36
        }
      ]
    },
    {
      "cell_type": "code",
      "metadata": {
        "id": "2ZJO0eUGqFmc",
        "colab_type": "code",
        "outputId": "cbe5fd06-bc13-4b64-893d-b0144d86d1c3",
        "colab": {
          "base_uri": "https://localhost:8080/",
          "height": 68
        }
      },
      "source": [
        "print('a: \\t{0}'.format(hex(id(my_var))))\n",
        "print('a.b: \\t{0}'.format(hex(id(my_var.b))))\n",
        "print('b.a: \\t{0}'.format(hex(id(my_var.b.a))))"
      ],
      "execution_count": 0,
      "outputs": [
        {
          "output_type": "stream",
          "text": [
            "a: \t0x7f81bc1030f0\n",
            "a.b: \t0x7f81bc103128\n",
            "b.a: \t0x7f81bc1030f0\n"
          ],
          "name": "stdout"
        }
      ]
    },
    {
      "cell_type": "code",
      "metadata": {
        "id": "fHRIfR70q40z",
        "colab_type": "code",
        "colab": {}
      },
      "source": [
        "a_id = id(my_var)\n",
        "b_id = id(my_var.b)"
      ],
      "execution_count": 0,
      "outputs": []
    },
    {
      "cell_type": "code",
      "metadata": {
        "id": "80XK0iTfrMyv",
        "colab_type": "code",
        "outputId": "406ca72a-fbc1-4ff5-f08e-94dbeae863ba",
        "colab": {
          "base_uri": "https://localhost:8080/",
          "height": 34
        }
      },
      "source": [
        "ref_count(a_id)"
      ],
      "execution_count": 0,
      "outputs": [
        {
          "output_type": "execute_result",
          "data": {
            "text/plain": [
              "2"
            ]
          },
          "metadata": {
            "tags": []
          },
          "execution_count": 42
        }
      ]
    },
    {
      "cell_type": "code",
      "metadata": {
        "id": "xJ68ASqUr5Tu",
        "colab_type": "code",
        "outputId": "00c33592-f12b-486c-bc55-c7f2a08cb4ab",
        "colab": {
          "base_uri": "https://localhost:8080/",
          "height": 34
        }
      },
      "source": [
        "ref_count(b_id)"
      ],
      "execution_count": 0,
      "outputs": [
        {
          "output_type": "execute_result",
          "data": {
            "text/plain": [
              "1"
            ]
          },
          "metadata": {
            "tags": []
          },
          "execution_count": 43
        }
      ]
    },
    {
      "cell_type": "code",
      "metadata": {
        "id": "GUID2mgcsEHf",
        "colab_type": "code",
        "outputId": "6a61f12d-d045-431e-8b81-002340634c28",
        "colab": {
          "base_uri": "https://localhost:8080/",
          "height": 85
        }
      },
      "source": [
        "print('refcount(a) = {0}'.format(ref_count(a_id)))\n",
        "print('refcount(b) = {0}'.format(ref_count(b_id)))\n",
        "print('a: {0}'.format(object_by_id(a_id)))\n",
        "print('b: {0}'.format(object_by_id(b_id)))"
      ],
      "execution_count": 0,
      "outputs": [
        {
          "output_type": "stream",
          "text": [
            "refcount(a) = 2\n",
            "refcount(b) = 1\n",
            "a: Object exists\n",
            "b: Object exists\n"
          ],
          "name": "stdout"
        }
      ]
    },
    {
      "cell_type": "markdown",
      "metadata": {
        "id": "iUgyECuVsiXK",
        "colab_type": "text"
      },
      "source": [
        "As we can see the A instance has two references (one from `my_var`, the other from the instance variable `b` in the B instance)\n",
        "\n",
        "The B instance has one reference (from the A instance variable `a`)"
      ]
    },
    {
      "cell_type": "markdown",
      "metadata": {
        "id": "PycjpegeskTN",
        "colab_type": "text"
      },
      "source": [
        "Now, let's remove the reference to the A instance that is being held by `my_var`:"
      ]
    },
    {
      "cell_type": "code",
      "metadata": {
        "id": "j68kglFPsK5I",
        "colab_type": "code",
        "colab": {}
      },
      "source": [
        "my_var= None"
      ],
      "execution_count": 0,
      "outputs": []
    },
    {
      "cell_type": "code",
      "metadata": {
        "id": "9nYTpM79sqW2",
        "colab_type": "code",
        "outputId": "892a27e8-b649-4577-e020-5740f7a7d12e",
        "colab": {
          "base_uri": "https://localhost:8080/",
          "height": 85
        }
      },
      "source": [
        "print('refcount(a) = {0}'.format(ref_count(a_id)))\n",
        "print('refcount(b) = {0}'.format(ref_count(b_id)))\n",
        "print('a: {0}'.format(object_by_id(a_id)))\n",
        "print('b: {0}'.format(object_by_id(b_id)))"
      ],
      "execution_count": 0,
      "outputs": [
        {
          "output_type": "stream",
          "text": [
            "refcount(a) = 1\n",
            "refcount(b) = 1\n",
            "a: Object exists\n",
            "b: Object exists\n"
          ],
          "name": "stdout"
        }
      ]
    },
    {
      "cell_type": "markdown",
      "metadata": {
        "id": "ZOzDi0A7s2Nc",
        "colab_type": "text"
      },
      "source": [
        "As we can see, the reference counts are now both equal to 1 (a pure circular reference), and reference counting alone did not destroy the A and B instances - they're still around. If no garbage collection is performed this would result in a memory leak.\n",
        "\n",
        "</br>\n",
        "</br>\n",
        "Let's run the GC manually and re-check whether the objects still exist:"
      ]
    },
    {
      "cell_type": "code",
      "metadata": {
        "id": "sNP46z-hsrgz",
        "colab_type": "code",
        "outputId": "0ccdd719-2163-436d-dc3e-d4481a3d81e3",
        "colab": {
          "base_uri": "https://localhost:8080/",
          "height": 85
        }
      },
      "source": [
        "gc.collect()\n",
        "print('refcount(a) = {0}'.format(ref_count(a_id)))\n",
        "print('refcount(b) = {0}'.format(ref_count(b_id)))\n",
        "print('a: {0}'.format(object_by_id(a_id)))\n",
        "print('b: {0}'.format(object_by_id(b_id)))"
      ],
      "execution_count": 0,
      "outputs": [
        {
          "output_type": "stream",
          "text": [
            "refcount(a) = 3112880742897218958\n",
            "refcount(b) = 0\n",
            "a: Not Found\n",
            "b: Not Found\n"
          ],
          "name": "stdout"
        }
      ]
    },
    {
      "cell_type": "code",
      "metadata": {
        "id": "YxQrfqRhtAzU",
        "colab_type": "code",
        "outputId": "a35f0ff0-7ad9-4523-ced5-1f0157351eb8",
        "colab": {
          "base_uri": "https://localhost:8080/",
          "height": 34
        }
      },
      "source": [
        "ref_count(a_id)"
      ],
      "execution_count": 0,
      "outputs": [
        {
          "output_type": "execute_result",
          "data": {
            "text/plain": [
              "3112880742897218958"
            ]
          },
          "metadata": {
            "tags": []
          },
          "execution_count": 51
        }
      ]
    },
    {
      "cell_type": "code",
      "metadata": {
        "id": "O8nc0X25t6xx",
        "colab_type": "code",
        "outputId": "72afff14-dd64-4ad3-9a61-99cda4b0c4b1",
        "colab": {
          "base_uri": "https://localhost:8080/",
          "height": 34
        }
      },
      "source": [
        "ref_count(b_id)"
      ],
      "execution_count": 0,
      "outputs": [
        {
          "output_type": "execute_result",
          "data": {
            "text/plain": [
              "0"
            ]
          },
          "metadata": {
            "tags": []
          },
          "execution_count": 52
        }
      ]
    },
    {
      "cell_type": "code",
      "metadata": {
        "id": "td1qY8GIuJKz",
        "colab_type": "code",
        "outputId": "4a7f1d4d-ba4b-4b2f-9433-75d048412434",
        "colab": {
          "base_uri": "https://localhost:8080/",
          "height": 34
        }
      },
      "source": [
        "object_by_id(b_id)"
      ],
      "execution_count": 0,
      "outputs": [
        {
          "output_type": "execute_result",
          "data": {
            "text/plain": [
              "'Not Found'"
            ]
          },
          "metadata": {
            "tags": []
          },
          "execution_count": 53
        }
      ]
    },
    {
      "cell_type": "markdown",
      "metadata": {
        "id": "cWJi-Y9yuR7Z",
        "colab_type": "text"
      },
      "source": [
        "So why do we get some number if we garbage collected b_id and a_id.\n",
        "</br>\n",
        "Variables got destroyed, their memory addresses, so we do not know what are those values, certainly they are not memory addresses of variables we saw earlier."
      ]
    },
    {
      "cell_type": "markdown",
      "metadata": {
        "id": "7rEkoX8evrgL",
        "colab_type": "text"
      },
      "source": [
        "## 4. Dynamic vs Static Typing"
      ]
    },
    {
      "cell_type": "markdown",
      "metadata": {
        "id": "riRaous3Ry8_",
        "colab_type": "text"
      },
      "source": [
        "![alt text](https://drive.google.com/uc?id=1D8zc-W3_MG3zIdW-6hWxsmifgwYeBa9O)"
      ]
    },
    {
      "cell_type": "code",
      "metadata": {
        "id": "cUCMsEvFv06e",
        "colab_type": "code",
        "colab": {}
      },
      "source": [
        "a = 'hello'"
      ],
      "execution_count": 0,
      "outputs": []
    },
    {
      "cell_type": "code",
      "metadata": {
        "id": "UT-ixyEeSVB2",
        "colab_type": "code",
        "colab": {
          "base_uri": "https://localhost:8080/",
          "height": 34
        },
        "outputId": "d014309c-6620-4f62-983a-f6a6c4411c6b"
      },
      "source": [
        "type(a)"
      ],
      "execution_count": 2,
      "outputs": [
        {
          "output_type": "execute_result",
          "data": {
            "text/plain": [
              "str"
            ]
          },
          "metadata": {
            "tags": []
          },
          "execution_count": 2
        }
      ]
    },
    {
      "cell_type": "code",
      "metadata": {
        "id": "OEzgUJzvSX7I",
        "colab_type": "code",
        "colab": {}
      },
      "source": [
        "a = lambda x: x**2"
      ],
      "execution_count": 0,
      "outputs": []
    },
    {
      "cell_type": "code",
      "metadata": {
        "id": "i3UalogXSb3X",
        "colab_type": "code",
        "colab": {
          "base_uri": "https://localhost:8080/",
          "height": 34
        },
        "outputId": "c24175e9-e9bb-4604-f19c-b8e382085e53"
      },
      "source": [
        "a(2)"
      ],
      "execution_count": 4,
      "outputs": [
        {
          "output_type": "execute_result",
          "data": {
            "text/plain": [
              "4"
            ]
          },
          "metadata": {
            "tags": []
          },
          "execution_count": 4
        }
      ]
    },
    {
      "cell_type": "code",
      "metadata": {
        "id": "9Xh48KaTSeUe",
        "colab_type": "code",
        "colab": {
          "base_uri": "https://localhost:8080/",
          "height": 34
        },
        "outputId": "dc279899-d986-4389-b71f-44adbb0eb6ed"
      },
      "source": [
        "type(a)"
      ],
      "execution_count": 5,
      "outputs": [
        {
          "output_type": "execute_result",
          "data": {
            "text/plain": [
              "function"
            ]
          },
          "metadata": {
            "tags": []
          },
          "execution_count": 5
        }
      ]
    },
    {
      "cell_type": "code",
      "metadata": {
        "id": "RSuQctqHSfTS",
        "colab_type": "code",
        "colab": {}
      },
      "source": [
        "a = 3 + 4j"
      ],
      "execution_count": 0,
      "outputs": []
    },
    {
      "cell_type": "code",
      "metadata": {
        "id": "G2m-X-OTSjcI",
        "colab_type": "code",
        "colab": {
          "base_uri": "https://localhost:8080/",
          "height": 34
        },
        "outputId": "f0f4596e-7c29-42b8-aa4e-e12f5ffabde9"
      },
      "source": [
        "type(a)"
      ],
      "execution_count": 7,
      "outputs": [
        {
          "output_type": "execute_result",
          "data": {
            "text/plain": [
              "complex"
            ]
          },
          "metadata": {
            "tags": []
          },
          "execution_count": 7
        }
      ]
    },
    {
      "cell_type": "code",
      "metadata": {
        "id": "6vS2STWmSlR6",
        "colab_type": "code",
        "colab": {}
      },
      "source": [
        ""
      ],
      "execution_count": 0,
      "outputs": []
    }
  ]
}