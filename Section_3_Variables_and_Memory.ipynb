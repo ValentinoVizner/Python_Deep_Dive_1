{
  "nbformat": 4,
  "nbformat_minor": 0,
  "metadata": {
    "colab": {
      "name": "Untitled4.ipynb",
      "provenance": [],
      "toc_visible": true,
      "include_colab_link": true
    },
    "kernelspec": {
      "name": "python3",
      "display_name": "Python 3"
    },
    "accelerator": "TPU"
  },
  "cells": [
    {
      "cell_type": "markdown",
      "metadata": {
        "id": "view-in-github",
        "colab_type": "text"
      },
      "source": [
        "<a href=\"https://colab.research.google.com/github/ValentinoVizner/Python_Deep_Dive_1/blob/master/Section_3_Variables_and_Memory.ipynb\" target=\"_parent\"><img src=\"https://colab.research.google.com/assets/colab-badge.svg\" alt=\"Open In Colab\"/></a>"
      ]
    },
    {
      "cell_type": "markdown",
      "metadata": {
        "id": "1KBFvf3wI7KX",
        "colab_type": "text"
      },
      "source": [
        "# SECTION 3. VARIABLES AND MEMORY"
      ]
    },
    {
      "cell_type": "markdown",
      "metadata": {
        "id": "1P6DZ0TvKcUA",
        "colab_type": "text"
      },
      "source": [
        "## 1. Variables Are Memory References"
      ]
    },
    {
      "cell_type": "markdown",
      "metadata": {
        "id": "inJH6xYyMPlT",
        "colab_type": "text"
      },
      "source": [
        "![alt text](https://drive.google.com/uc?id=1VdPKXbWvyWOzxXhgh12LnQWaySAmVhCn)"
      ]
    },
    {
      "cell_type": "markdown",
      "metadata": {
        "id": "-3VhD7BvMVNR",
        "colab_type": "text"
      },
      "source": [
        "When we store data in memory addresses we may actually use more than 1 slot at a time (object 1 and object 2).\n",
        "</br>\n",
        "But as long as we know where the object starts in memory thats good enough.\n",
        "</br>\n",
        "So the object 1 starts and 0x1000 and it overflows into another memory address e.g. 0x1001\n",
        "</br>\n",
        "Object 2 starts at memory address 0x1002 and it overflows into 2 more memory address.\n",
        "</br>\n",
        "While Object 3 fits preciselly into one slot of memory.\n",
        "</br>\n",
        "</br>\n",
        "**Heap** is range of memory addresses where our objects are stored.\n",
        "**Python Memory Manager** is responsible of pulling object from the **heap**"
      ]
    },
    {
      "cell_type": "markdown",
      "metadata": {
        "id": "lumHjSD_RqPo",
        "colab_type": "text"
      },
      "source": [
        "Here is an example:"
      ]
    },
    {
      "cell_type": "markdown",
      "metadata": {
        "id": "keLXicD8Vi7p",
        "colab_type": "text"
      },
      "source": [
        "![alt text](https://drive.google.com/uc?id=18UOEEgkBpnZqZDmr-Fha7t70wUukcxcd)"
      ]
    },
    {
      "cell_type": "markdown",
      "metadata": {
        "id": "KTt0dKBGbLwy",
        "colab_type": "text"
      },
      "source": [
        "We can find the memory address that a variable *references*, by using the `id()` function.\n",
        "\n",
        "The `id()` function returns the memory address of its argument as a base-10 integer.\n",
        "\n",
        "We can use the function `hex()` to convert the base-10 number to base-16."
      ]
    },
    {
      "cell_type": "code",
      "metadata": {
        "id": "PNw-dga2bKen",
        "colab_type": "code",
        "colab": {}
      },
      "source": [
        "my_var = 10\n",
        "print('my_var = {0}'.format(my_var))\n",
        "print('memory address of my_var (decimal): {0}'.format(id(my_var)))\n",
        "print('memory address of my_var (hex): {0}'.format(hex(id(my_var))))"
      ],
      "execution_count": 0,
      "outputs": []
    },
    {
      "cell_type": "code",
      "metadata": {
        "id": "zdFZ2kffNN_A",
        "colab_type": "code",
        "colab": {}
      },
      "source": [
        "greeting = 'Hello'\n",
        "print('greeting = {0}'.format(greeting))\n",
        "print('memory address of my_var (decimal): {0}'.format(id(greeting)))\n",
        "print('memory address of my_var (hex): {0}'.format(hex(id(greeting))))"
      ],
      "execution_count": 0,
      "outputs": []
    },
    {
      "cell_type": "code",
      "metadata": {
        "id": "iuGfQwvQNP8f",
        "colab_type": "code",
        "colab": {}
      },
      "source": [
        ""
      ],
      "execution_count": 0,
      "outputs": []
    },
    {
      "cell_type": "markdown",
      "metadata": {
        "id": "S8hRhD8yNSZL",
        "colab_type": "text"
      },
      "source": [
        "Note how the memory address of `my_var` is **different** from that of `greeting`.\n",
        "\n",
        "Strictly speaking, `my_var` is not \"equal\" to 10. \n",
        "\n",
        "Instead `my_var` is a **reference** to an (*integer*) object (*containing the value 10*) located at the memory address `id(my_var)`\n",
        "\n",
        "Similarly for the variable `greeting`."
      ]
    },
    {
      "cell_type": "markdown",
      "metadata": {
        "id": "cSM_kVw5P60Q",
        "colab_type": "text"
      },
      "source": [
        "## 2. Reference Counting"
      ]
    },
    {
      "cell_type": "markdown",
      "metadata": {
        "id": "S42ox-cFSdCS",
        "colab_type": "text"
      },
      "source": [
        "![alt text](https://drive.google.com/uc?id=1tC5p8CU48NWqyRoeVlxBky7JbUudg2yo)"
      ]
    },
    {
      "cell_type": "markdown",
      "metadata": {
        "id": "z0mZ2Ax2SoDH",
        "colab_type": "text"
      },
      "source": [
        "REMEMBER: We are dealing with pointers, so our other_var is pointing, i.e. REFERENCING to the memory address 0x1000 and its not actually REFERENCING to the value 10.\n",
        "</br>\n",
        "They are both pointing to the same reference, so the reference count is 2."
      ]
    },
    {
      "cell_type": "markdown",
      "metadata": {
        "id": "GIEhAWHQTfhe",
        "colab_type": "text"
      },
      "source": [
        "Now if we delete the `my_var` the `count` will decrease to `1`.\n",
        "</br>\n",
        "After we delete last variable referencing to the memory address i.e. `other_var` our `count` will be `0` and **Python Memory Manager** will delete and free up memory space/address for someone else, another variable to use it."
      ]
    },
    {
      "cell_type": "markdown",
      "metadata": {
        "id": "kOxADrpyU1a1",
        "colab_type": "text"
      },
      "source": [
        "![alt text](https://drive.google.com/uc?id=1Zr4LR4XYFKQ9ilOxFchLCMtQeFGGT8xQ)\n",
        "</br>\n",
        "</br>\n",
        "There is the downside for using `sys.getrefcount(my_var)` because when we are passing `my_var` to `sys.getrefcount(my_var)` it creates and extra reference i.e. count"
      ]
    },
    {
      "cell_type": "markdown",
      "metadata": {
        "id": "07ruAm6DU7xM",
        "colab_type": "text"
      },
      "source": [
        "![alt text](https://drive.google.com/uc?id=1ZaVrmuDDRfrPL1UTM0hBZGAxQ5F6y5Ci)\n",
        "</br>\n",
        "</br>\n",
        "\n",
        "This is much better because it is not referencing the variable, instead we are just passing the memory address, so it does NOT affect REFERENCING COUNT!"
      ]
    },
    {
      "cell_type": "code",
      "metadata": {
        "id": "Jgt5wkN1NTIu",
        "colab_type": "code",
        "outputId": "31677e79-0fdd-4b68-f8d2-b4866c74359d",
        "colab": {
          "base_uri": "https://localhost:8080/",
          "height": 34
        }
      },
      "source": [
        "import sys\n",
        "\n",
        "a = [1, 2, 3]\n",
        "\n",
        "sys.getrefcount(a)"
      ],
      "execution_count": 0,
      "outputs": [
        {
          "output_type": "execute_result",
          "data": {
            "text/plain": [
              "2"
            ]
          },
          "metadata": {
            "tags": []
          },
          "execution_count": 2
        }
      ]
    },
    {
      "cell_type": "markdown",
      "metadata": {
        "id": "6xpdkwK8ZMJF",
        "colab_type": "text"
      },
      "source": [
        "But why is this returning 2, instead of the expected 1 we obtained with the previous function?\n",
        "\n",
        "Answer: The `sys.getrefcount()` function takes `my_var` as an argument, this means it receives (and stores) a reference to `my_var`'s memory address **also** - hence the count is off by 1."
      ]
    },
    {
      "cell_type": "code",
      "metadata": {
        "id": "-7PxJdJdZDti",
        "colab_type": "code",
        "outputId": "76ddd19f-7865-4eef-8913-c8c9ea6df61f",
        "colab": {
          "base_uri": "https://localhost:8080/",
          "height": 34
        }
      },
      "source": [
        "# BETTER WAY\n",
        "import ctypes\n",
        "\n",
        "def ref_count(address: int):\n",
        "    return ctypes.c_long.from_address(address).value\n",
        "\n",
        "my_var = [1, 2, 3, 4]\n",
        "\n",
        "ref_count(id(my_var))"
      ],
      "execution_count": 0,
      "outputs": [
        {
          "output_type": "execute_result",
          "data": {
            "text/plain": [
              "1"
            ]
          },
          "metadata": {
            "tags": []
          },
          "execution_count": 6
        }
      ]
    },
    {
      "cell_type": "code",
      "metadata": {
        "id": "A3nVCRdAZkWR",
        "colab_type": "code",
        "outputId": "1d1df94f-e1e8-4792-c0ae-20fd4439ca21",
        "colab": {
          "base_uri": "https://localhost:8080/",
          "height": 51
        }
      },
      "source": [
        "other_var = my_var\n",
        "\n",
        "print(id(my_var))\n",
        "print(id(other_var))"
      ],
      "execution_count": 0,
      "outputs": [
        {
          "output_type": "stream",
          "text": [
            "140195183375240\n",
            "140195183375240\n"
          ],
          "name": "stdout"
        }
      ]
    },
    {
      "cell_type": "code",
      "metadata": {
        "id": "pPNv8gwebUgF",
        "colab_type": "code",
        "outputId": "bb8fb846-1fb9-44bf-97da-b8b1e6cb2044",
        "colab": {
          "base_uri": "https://localhost:8080/",
          "height": 34
        }
      },
      "source": [
        "ref_count(id(other_var))"
      ],
      "execution_count": 0,
      "outputs": [
        {
          "output_type": "execute_result",
          "data": {
            "text/plain": [
              "2"
            ]
          },
          "metadata": {
            "tags": []
          },
          "execution_count": 10
        }
      ]
    },
    {
      "cell_type": "code",
      "metadata": {
        "id": "pn1RMKa9blcJ",
        "colab_type": "code",
        "outputId": "728c57da-d179-4580-8334-f1832c373d4d",
        "colab": {
          "base_uri": "https://localhost:8080/",
          "height": 34
        }
      },
      "source": [
        "other_other = my_var\n",
        "\n",
        "ref_count(id(other_var))"
      ],
      "execution_count": 0,
      "outputs": [
        {
          "output_type": "execute_result",
          "data": {
            "text/plain": [
              "3"
            ]
          },
          "metadata": {
            "tags": []
          },
          "execution_count": 11
        }
      ]
    },
    {
      "cell_type": "code",
      "metadata": {
        "id": "aF1fR0Ccby0i",
        "colab_type": "code",
        "colab": {}
      },
      "source": [
        "other_other = 100"
      ],
      "execution_count": 0,
      "outputs": []
    },
    {
      "cell_type": "code",
      "metadata": {
        "id": "6v-TTdKib0hp",
        "colab_type": "code",
        "outputId": "a67bda69-5be2-4667-85d2-90ae308dbe1c",
        "colab": {
          "base_uri": "https://localhost:8080/",
          "height": 34
        }
      },
      "source": [
        "ref_count(id(other_other))"
      ],
      "execution_count": 0,
      "outputs": [
        {
          "output_type": "execute_result",
          "data": {
            "text/plain": [
              "189"
            ]
          },
          "metadata": {
            "tags": []
          },
          "execution_count": 16
        }
      ]
    },
    {
      "cell_type": "markdown",
      "metadata": {
        "id": "PXXqJZIOcPf3",
        "colab_type": "text"
      },
      "source": [
        "You'll probably never need to do anything like this in Python. Memory management is completely transparent - this is just to illustrate some of what is going behind the scenes as it helps to understand upcoming concepts."
      ]
    },
    {
      "cell_type": "code",
      "metadata": {
        "id": "Zhr0xMOSb2ji",
        "colab_type": "code",
        "outputId": "48f7ea82-b259-46e9-f656-e2dd0eb45676",
        "colab": {
          "base_uri": "https://localhost:8080/",
          "height": 34
        }
      },
      "source": [
        "my_var_id = id(my_var)\n",
        "other_var = None\n",
        "my_var = None\n",
        "\n",
        "\n",
        "ref_count(my_var_id)"
      ],
      "execution_count": 0,
      "outputs": [
        {
          "output_type": "execute_result",
          "data": {
            "text/plain": [
              "64142"
            ]
          },
          "metadata": {
            "tags": []
          },
          "execution_count": 21
        }
      ]
    },
    {
      "cell_type": "code",
      "metadata": {
        "id": "eo3bWchbcomB",
        "colab_type": "code",
        "outputId": "39146dc9-e173-4679-c0e4-1c5508672584",
        "colab": {
          "base_uri": "https://localhost:8080/",
          "height": 34
        }
      },
      "source": [
        "ref_count(my_var_id)"
      ],
      "execution_count": 0,
      "outputs": [
        {
          "output_type": "execute_result",
          "data": {
            "text/plain": [
              "64140"
            ]
          },
          "metadata": {
            "tags": []
          },
          "execution_count": 24
        }
      ]
    },
    {
      "cell_type": "markdown",
      "metadata": {
        "id": "SPImFuf9dMoX",
        "colab_type": "text"
      },
      "source": [
        "What's happening here is that once the memory address is freed, we do not know what is stored there, probably JUNK. It's dangerous to manage/delete that in Python"
      ]
    },
    {
      "cell_type": "markdown",
      "metadata": {
        "id": "RFRl4A8UdaiE",
        "colab_type": "text"
      },
      "source": [
        "## 3. Garbage Collection"
      ]
    },
    {
      "cell_type": "markdown",
      "metadata": {
        "id": "sZUAKuwaexfH",
        "colab_type": "text"
      },
      "source": [
        "![alt text](https://drive.google.com/uc?id=1ig7qPO-YVKlP13KBbKbJuF7sqNupNOIk)\n",
        "</br>\n",
        "What happens if we remove the `my_var` pointer?\n",
        "</br>\n",
        "Then the reference count of object A goes to 0, but the reference count of object B is still 1.\n",
        "</br>\n",
        "BUT the reference count of object A is going to 0 and it will be destroyed, once it gets destroyed, reference count of object B will go to 0 and it gets destroyed as well.\n",
        "</br>\n",
        "So far that is good, what we expected to happen.\n",
        "</br>\n",
        "</br>\n",
        "Consider now that object B has `var_2` that points to `var_1`, i.e. Circular References:\n"
      ]
    },
    {
      "cell_type": "markdown",
      "metadata": {
        "id": "V9KJLJ4se3Qx",
        "colab_type": "text"
      },
      "source": [
        "![alt text](https://drive.google.com/uc?id=11SbqFbGcF7fyqe0zku2Ivc5ndpbFFsyt)\n",
        "</br>\n",
        "Now when we remove the `my_var` the reference count for `var_1` in object A will still be 1.\n",
        "</br>\n",
        "So in this case by removing `my_var` both variables in objects A and B wont be destroyed as expected."
      ]
    },
    {
      "cell_type": "markdown",
      "metadata": {
        "id": "5REEttfsjooO",
        "colab_type": "text"
      },
      "source": [
        "![alt text](https://drive.google.com/uc?id=1naSNs4OJ5Xlc6aOZXdoR__DXRDBxvCap)\n",
        "</br>\n",
        "Beccause **Python Memory Manager** can not clean this up and we leave the thins as is, we will have **MEMORY LEAK!!**\n",
        "</br>\n",
        "</br>\n",
        "Thats where the **GARBAGE COLLECTOR** comes in!"
      ]
    },
    {
      "cell_type": "markdown",
      "metadata": {
        "id": "1ReQDv5YktIh",
        "colab_type": "text"
      },
      "source": [
        "![alt text](https://drive.google.com/uc?id=1hhcGms4SQf83N5LDCXbmSQL4x78K9IR5)"
      ]
    },
    {
      "cell_type": "markdown",
      "metadata": {
        "id": "1hQXRG34lpjQ",
        "colab_type": "text"
      },
      "source": [
        "![alt text](https://drive.google.com/uc?id=1DbKKhD0-bK-jdbKhF8cR3z6jj4lMA3fJ)"
      ]
    },
    {
      "cell_type": "code",
      "metadata": {
        "id": "mwZcydpqendT",
        "colab_type": "code",
        "colab": {}
      },
      "source": [
        "import ctypes\n",
        "import gc"
      ],
      "execution_count": 0,
      "outputs": []
    },
    {
      "cell_type": "code",
      "metadata": {
        "id": "8l74xH7kl9aq",
        "colab_type": "code",
        "colab": {}
      },
      "source": [
        "def ref_count(address: int):\n",
        "    return ctypes.c_long.from_address(address).value"
      ],
      "execution_count": 0,
      "outputs": []
    },
    {
      "cell_type": "markdown",
      "metadata": {
        "id": "bORAxzprme2g",
        "colab_type": "text"
      },
      "source": [
        "We create a function that will search the objects in the GC for a specified id and tell us if the object was found or not:"
      ]
    },
    {
      "cell_type": "code",
      "metadata": {
        "id": "ke3dHqmimOxr",
        "colab_type": "code",
        "colab": {}
      },
      "source": [
        "def object_by_id(object_id):\n",
        "    for obj in gc.get_objects():\n",
        "        if id(obj) == object_id:\n",
        "            return \"Object exists\"\n",
        "    return \"Not Found\""
      ],
      "execution_count": 0,
      "outputs": []
    },
    {
      "cell_type": "markdown",
      "metadata": {
        "id": "r_Q-4NlFpSDV",
        "colab_type": "text"
      },
      "source": [
        "Next we define two classes that we will use to create a circular reference\n",
        "\n",
        "Class A's constructor will create an instance of class B and pass itself to class B's constructor that will then store that reference in some instance variable."
      ]
    },
    {
      "cell_type": "code",
      "metadata": {
        "id": "vt-CrwtVnM2Z",
        "colab_type": "code",
        "colab": {}
      },
      "source": [
        "class A:\n",
        "    def __init__(self):\n",
        "        self.b = B(self)\n",
        "        print(f\"A: self: {hex(id(self))}, b: {hex(id(self.b))}\")"
      ],
      "execution_count": 0,
      "outputs": []
    },
    {
      "cell_type": "code",
      "metadata": {
        "id": "4gB0F-tgoL74",
        "colab_type": "code",
        "colab": {}
      },
      "source": [
        "class B:\n",
        "    def __init__(self, a):\n",
        "        self.a = a\n",
        "        print(f\"B: self: {hex(id(self))}, a: {hex(id(self.a))}\")"
      ],
      "execution_count": 0,
      "outputs": []
    },
    {
      "cell_type": "markdown",
      "metadata": {
        "id": "CvyKGJsBpUYR",
        "colab_type": "text"
      },
      "source": [
        "We turn off the GC so we can see how reference counts are affected when the GC does not run and when it does (by running it manually)."
      ]
    },
    {
      "cell_type": "code",
      "metadata": {
        "id": "4IjoRxb4pMV8",
        "colab_type": "code",
        "colab": {}
      },
      "source": [
        "gc.disable()"
      ],
      "execution_count": 0,
      "outputs": []
    },
    {
      "cell_type": "code",
      "metadata": {
        "id": "WpSs2NOIpe01",
        "colab_type": "code",
        "outputId": "42b6478c-d097-4823-b7ee-621cf7d23cac",
        "colab": {
          "base_uri": "https://localhost:8080/",
          "height": 51
        }
      },
      "source": [
        "my_var = A()"
      ],
      "execution_count": 0,
      "outputs": [
        {
          "output_type": "stream",
          "text": [
            "B: self: 0x7f81bc103128, a: 0x7f81bc1030f0\n",
            "A: self: 0x7f81bc1030f0, b: 0x7f81bc103128\n"
          ],
          "name": "stdout"
        }
      ]
    },
    {
      "cell_type": "code",
      "metadata": {
        "id": "oLRxQFncphA-",
        "colab_type": "code",
        "outputId": "f86a745a-4a69-47a5-c1d1-4904d527e0eb",
        "colab": {
          "base_uri": "https://localhost:8080/",
          "height": 34
        }
      },
      "source": [
        "hex(id(my_var))"
      ],
      "execution_count": 0,
      "outputs": [
        {
          "output_type": "execute_result",
          "data": {
            "text/plain": [
              "'0x7f81bc1030f0'"
            ]
          },
          "metadata": {
            "tags": []
          },
          "execution_count": 36
        }
      ]
    },
    {
      "cell_type": "code",
      "metadata": {
        "id": "2ZJO0eUGqFmc",
        "colab_type": "code",
        "outputId": "cbe5fd06-bc13-4b64-893d-b0144d86d1c3",
        "colab": {
          "base_uri": "https://localhost:8080/",
          "height": 68
        }
      },
      "source": [
        "print('a: \\t{0}'.format(hex(id(my_var))))\n",
        "print('a.b: \\t{0}'.format(hex(id(my_var.b))))\n",
        "print('b.a: \\t{0}'.format(hex(id(my_var.b.a))))"
      ],
      "execution_count": 0,
      "outputs": [
        {
          "output_type": "stream",
          "text": [
            "a: \t0x7f81bc1030f0\n",
            "a.b: \t0x7f81bc103128\n",
            "b.a: \t0x7f81bc1030f0\n"
          ],
          "name": "stdout"
        }
      ]
    },
    {
      "cell_type": "code",
      "metadata": {
        "id": "fHRIfR70q40z",
        "colab_type": "code",
        "colab": {}
      },
      "source": [
        "a_id = id(my_var)\n",
        "b_id = id(my_var.b)"
      ],
      "execution_count": 0,
      "outputs": []
    },
    {
      "cell_type": "code",
      "metadata": {
        "id": "80XK0iTfrMyv",
        "colab_type": "code",
        "outputId": "406ca72a-fbc1-4ff5-f08e-94dbeae863ba",
        "colab": {
          "base_uri": "https://localhost:8080/",
          "height": 34
        }
      },
      "source": [
        "ref_count(a_id)"
      ],
      "execution_count": 0,
      "outputs": [
        {
          "output_type": "execute_result",
          "data": {
            "text/plain": [
              "2"
            ]
          },
          "metadata": {
            "tags": []
          },
          "execution_count": 42
        }
      ]
    },
    {
      "cell_type": "code",
      "metadata": {
        "id": "xJ68ASqUr5Tu",
        "colab_type": "code",
        "outputId": "00c33592-f12b-486c-bc55-c7f2a08cb4ab",
        "colab": {
          "base_uri": "https://localhost:8080/",
          "height": 34
        }
      },
      "source": [
        "ref_count(b_id)"
      ],
      "execution_count": 0,
      "outputs": [
        {
          "output_type": "execute_result",
          "data": {
            "text/plain": [
              "1"
            ]
          },
          "metadata": {
            "tags": []
          },
          "execution_count": 43
        }
      ]
    },
    {
      "cell_type": "code",
      "metadata": {
        "id": "GUID2mgcsEHf",
        "colab_type": "code",
        "outputId": "6a61f12d-d045-431e-8b81-002340634c28",
        "colab": {
          "base_uri": "https://localhost:8080/",
          "height": 85
        }
      },
      "source": [
        "print('refcount(a) = {0}'.format(ref_count(a_id)))\n",
        "print('refcount(b) = {0}'.format(ref_count(b_id)))\n",
        "print('a: {0}'.format(object_by_id(a_id)))\n",
        "print('b: {0}'.format(object_by_id(b_id)))"
      ],
      "execution_count": 0,
      "outputs": [
        {
          "output_type": "stream",
          "text": [
            "refcount(a) = 2\n",
            "refcount(b) = 1\n",
            "a: Object exists\n",
            "b: Object exists\n"
          ],
          "name": "stdout"
        }
      ]
    },
    {
      "cell_type": "markdown",
      "metadata": {
        "id": "iUgyECuVsiXK",
        "colab_type": "text"
      },
      "source": [
        "As we can see the A instance has two references (one from `my_var`, the other from the instance variable `b` in the B instance)\n",
        "\n",
        "The B instance has one reference (from the A instance variable `a`)"
      ]
    },
    {
      "cell_type": "markdown",
      "metadata": {
        "id": "PycjpegeskTN",
        "colab_type": "text"
      },
      "source": [
        "Now, let's remove the reference to the A instance that is being held by `my_var`:"
      ]
    },
    {
      "cell_type": "code",
      "metadata": {
        "id": "j68kglFPsK5I",
        "colab_type": "code",
        "colab": {}
      },
      "source": [
        "my_var= None"
      ],
      "execution_count": 0,
      "outputs": []
    },
    {
      "cell_type": "code",
      "metadata": {
        "id": "9nYTpM79sqW2",
        "colab_type": "code",
        "outputId": "892a27e8-b649-4577-e020-5740f7a7d12e",
        "colab": {
          "base_uri": "https://localhost:8080/",
          "height": 85
        }
      },
      "source": [
        "print('refcount(a) = {0}'.format(ref_count(a_id)))\n",
        "print('refcount(b) = {0}'.format(ref_count(b_id)))\n",
        "print('a: {0}'.format(object_by_id(a_id)))\n",
        "print('b: {0}'.format(object_by_id(b_id)))"
      ],
      "execution_count": 0,
      "outputs": [
        {
          "output_type": "stream",
          "text": [
            "refcount(a) = 1\n",
            "refcount(b) = 1\n",
            "a: Object exists\n",
            "b: Object exists\n"
          ],
          "name": "stdout"
        }
      ]
    },
    {
      "cell_type": "markdown",
      "metadata": {
        "id": "ZOzDi0A7s2Nc",
        "colab_type": "text"
      },
      "source": [
        "As we can see, the reference counts are now both equal to 1 (a pure circular reference), and reference counting alone did not destroy the A and B instances - they're still around. If no garbage collection is performed this would result in a memory leak.\n",
        "\n",
        "</br>\n",
        "</br>\n",
        "Let's run the GC manually and re-check whether the objects still exist:"
      ]
    },
    {
      "cell_type": "code",
      "metadata": {
        "id": "sNP46z-hsrgz",
        "colab_type": "code",
        "outputId": "0ccdd719-2163-436d-dc3e-d4481a3d81e3",
        "colab": {
          "base_uri": "https://localhost:8080/",
          "height": 85
        }
      },
      "source": [
        "gc.collect()\n",
        "print('refcount(a) = {0}'.format(ref_count(a_id)))\n",
        "print('refcount(b) = {0}'.format(ref_count(b_id)))\n",
        "print('a: {0}'.format(object_by_id(a_id)))\n",
        "print('b: {0}'.format(object_by_id(b_id)))"
      ],
      "execution_count": 0,
      "outputs": [
        {
          "output_type": "stream",
          "text": [
            "refcount(a) = 3112880742897218958\n",
            "refcount(b) = 0\n",
            "a: Not Found\n",
            "b: Not Found\n"
          ],
          "name": "stdout"
        }
      ]
    },
    {
      "cell_type": "code",
      "metadata": {
        "id": "YxQrfqRhtAzU",
        "colab_type": "code",
        "outputId": "a35f0ff0-7ad9-4523-ced5-1f0157351eb8",
        "colab": {
          "base_uri": "https://localhost:8080/",
          "height": 34
        }
      },
      "source": [
        "ref_count(a_id)"
      ],
      "execution_count": 0,
      "outputs": [
        {
          "output_type": "execute_result",
          "data": {
            "text/plain": [
              "3112880742897218958"
            ]
          },
          "metadata": {
            "tags": []
          },
          "execution_count": 51
        }
      ]
    },
    {
      "cell_type": "code",
      "metadata": {
        "id": "O8nc0X25t6xx",
        "colab_type": "code",
        "outputId": "72afff14-dd64-4ad3-9a61-99cda4b0c4b1",
        "colab": {
          "base_uri": "https://localhost:8080/",
          "height": 34
        }
      },
      "source": [
        "ref_count(b_id)"
      ],
      "execution_count": 0,
      "outputs": [
        {
          "output_type": "execute_result",
          "data": {
            "text/plain": [
              "0"
            ]
          },
          "metadata": {
            "tags": []
          },
          "execution_count": 52
        }
      ]
    },
    {
      "cell_type": "code",
      "metadata": {
        "id": "td1qY8GIuJKz",
        "colab_type": "code",
        "outputId": "4a7f1d4d-ba4b-4b2f-9433-75d048412434",
        "colab": {
          "base_uri": "https://localhost:8080/",
          "height": 34
        }
      },
      "source": [
        "object_by_id(b_id)"
      ],
      "execution_count": 0,
      "outputs": [
        {
          "output_type": "execute_result",
          "data": {
            "text/plain": [
              "'Not Found'"
            ]
          },
          "metadata": {
            "tags": []
          },
          "execution_count": 53
        }
      ]
    },
    {
      "cell_type": "markdown",
      "metadata": {
        "id": "cWJi-Y9yuR7Z",
        "colab_type": "text"
      },
      "source": [
        "So why do we get some number if we garbage collected b_id and a_id.\n",
        "</br>\n",
        "Variables got destroyed, their memory addresses, so we do not know what are those values, certainly they are not memory addresses of variables we saw earlier."
      ]
    },
    {
      "cell_type": "markdown",
      "metadata": {
        "id": "7rEkoX8evrgL",
        "colab_type": "text"
      },
      "source": [
        "## 4. Dynamic vs Static Typing"
      ]
    },
    {
      "cell_type": "markdown",
      "metadata": {
        "id": "riRaous3Ry8_",
        "colab_type": "text"
      },
      "source": [
        "![alt text](https://drive.google.com/uc?id=1D8zc-W3_MG3zIdW-6hWxsmifgwYeBa9O)"
      ]
    },
    {
      "cell_type": "code",
      "metadata": {
        "id": "cUCMsEvFv06e",
        "colab_type": "code",
        "colab": {}
      },
      "source": [
        "a = 'hello'"
      ],
      "execution_count": 0,
      "outputs": []
    },
    {
      "cell_type": "code",
      "metadata": {
        "id": "UT-ixyEeSVB2",
        "colab_type": "code",
        "outputId": "d014309c-6620-4f62-983a-f6a6c4411c6b",
        "colab": {
          "base_uri": "https://localhost:8080/",
          "height": 34
        }
      },
      "source": [
        "type(a)"
      ],
      "execution_count": 0,
      "outputs": [
        {
          "output_type": "execute_result",
          "data": {
            "text/plain": [
              "str"
            ]
          },
          "metadata": {
            "tags": []
          },
          "execution_count": 2
        }
      ]
    },
    {
      "cell_type": "code",
      "metadata": {
        "id": "OEzgUJzvSX7I",
        "colab_type": "code",
        "colab": {}
      },
      "source": [
        "a = lambda x: x**2"
      ],
      "execution_count": 0,
      "outputs": []
    },
    {
      "cell_type": "code",
      "metadata": {
        "id": "i3UalogXSb3X",
        "colab_type": "code",
        "outputId": "c24175e9-e9bb-4604-f19c-b8e382085e53",
        "colab": {
          "base_uri": "https://localhost:8080/",
          "height": 34
        }
      },
      "source": [
        "a(2)"
      ],
      "execution_count": 0,
      "outputs": [
        {
          "output_type": "execute_result",
          "data": {
            "text/plain": [
              "4"
            ]
          },
          "metadata": {
            "tags": []
          },
          "execution_count": 4
        }
      ]
    },
    {
      "cell_type": "code",
      "metadata": {
        "id": "9Xh48KaTSeUe",
        "colab_type": "code",
        "outputId": "dc279899-d986-4389-b71f-44adbb0eb6ed",
        "colab": {
          "base_uri": "https://localhost:8080/",
          "height": 34
        }
      },
      "source": [
        "type(a)"
      ],
      "execution_count": 0,
      "outputs": [
        {
          "output_type": "execute_result",
          "data": {
            "text/plain": [
              "function"
            ]
          },
          "metadata": {
            "tags": []
          },
          "execution_count": 5
        }
      ]
    },
    {
      "cell_type": "code",
      "metadata": {
        "id": "RSuQctqHSfTS",
        "colab_type": "code",
        "colab": {}
      },
      "source": [
        "a = 3 + 4j"
      ],
      "execution_count": 0,
      "outputs": []
    },
    {
      "cell_type": "code",
      "metadata": {
        "id": "G2m-X-OTSjcI",
        "colab_type": "code",
        "outputId": "f0f4596e-7c29-42b8-aa4e-e12f5ffabde9",
        "colab": {
          "base_uri": "https://localhost:8080/",
          "height": 34
        }
      },
      "source": [
        "type(a)"
      ],
      "execution_count": 0,
      "outputs": [
        {
          "output_type": "execute_result",
          "data": {
            "text/plain": [
              "complex"
            ]
          },
          "metadata": {
            "tags": []
          },
          "execution_count": 7
        }
      ]
    },
    {
      "cell_type": "markdown",
      "metadata": {
        "id": "8q2TCifOTGzc",
        "colab_type": "text"
      },
      "source": [
        "## 5.Variable Re-Assignment"
      ]
    },
    {
      "cell_type": "markdown",
      "metadata": {
        "id": "lU6czMRZTXoX",
        "colab_type": "text"
      },
      "source": [
        "![alt text](https://drive.google.com/uc?id=1-oB-43dG9yjAt73PAAACw-ANxCFf06Xa)\n",
        "</br>\n",
        "This is very important to remember, that we are not Re-Assigning the variable, we are creating whole new memory address, so 2 different values, i.e. memory addresses are used for the same variable `my_var`\n",
        "</br>\n",
        "So what happens if we do like `my_var = my_var + 5`, will it create new address in memory, i.e. reserve memory:"
      ]
    },
    {
      "cell_type": "markdown",
      "metadata": {
        "id": "Nm2XwWRlUaLY",
        "colab_type": "text"
      },
      "source": [
        "![alt text](https://drive.google.com/uc?id=1CeJSPNy9ZTqfoJXZaMw5R5K5XfI6AE0i)\n",
        "</br>\n",
        "Yes it will reserve new memory address."
      ]
    },
    {
      "cell_type": "code",
      "metadata": {
        "id": "6vS2STWmSlR6",
        "colab_type": "code",
        "colab": {}
      },
      "source": [
        "a = 10"
      ],
      "execution_count": 0,
      "outputs": []
    },
    {
      "cell_type": "code",
      "metadata": {
        "id": "ce23r_QHU3co",
        "colab_type": "code",
        "outputId": "43ae074f-909a-42a6-b941-f63b5b9af998",
        "colab": {
          "base_uri": "https://localhost:8080/",
          "height": 34
        }
      },
      "source": [
        "hex(id(a))"
      ],
      "execution_count": 0,
      "outputs": [
        {
          "output_type": "execute_result",
          "data": {
            "text/plain": [
              "'0xa68be0'"
            ]
          },
          "metadata": {
            "tags": []
          },
          "execution_count": 9
        }
      ]
    },
    {
      "cell_type": "code",
      "metadata": {
        "id": "dfBfXDkVU4tR",
        "colab_type": "code",
        "outputId": "b1b81a6a-df66-4fe2-ad88-080a2b3f2df1",
        "colab": {
          "base_uri": "https://localhost:8080/",
          "height": 34
        }
      },
      "source": [
        "a = 15\n",
        "hex(id(a))"
      ],
      "execution_count": 0,
      "outputs": [
        {
          "output_type": "execute_result",
          "data": {
            "text/plain": [
              "'0xa68c80'"
            ]
          },
          "metadata": {
            "tags": []
          },
          "execution_count": 10
        }
      ]
    },
    {
      "cell_type": "code",
      "metadata": {
        "id": "HyuNI3GbU-gK",
        "colab_type": "code",
        "outputId": "62716abc-343f-486e-e7a2-d472171899ca",
        "colab": {
          "base_uri": "https://localhost:8080/",
          "height": 34
        }
      },
      "source": [
        "a = 5\n",
        "hex(id(a))"
      ],
      "execution_count": 0,
      "outputs": [
        {
          "output_type": "execute_result",
          "data": {
            "text/plain": [
              "'0xa68b40'"
            ]
          },
          "metadata": {
            "tags": []
          },
          "execution_count": 11
        }
      ]
    },
    {
      "cell_type": "code",
      "metadata": {
        "id": "lD0lWYocVA5g",
        "colab_type": "code",
        "outputId": "9b7d6e98-ef78-45cc-e7f5-8a4d542b2878",
        "colab": {
          "base_uri": "https://localhost:8080/",
          "height": 34
        }
      },
      "source": [
        "a = a + 1\n",
        "hex(id(a))"
      ],
      "execution_count": 0,
      "outputs": [
        {
          "output_type": "execute_result",
          "data": {
            "text/plain": [
              "'0xa68b60'"
            ]
          },
          "metadata": {
            "tags": []
          },
          "execution_count": 12
        }
      ]
    },
    {
      "cell_type": "markdown",
      "metadata": {
        "id": "WRNWc13cVIob",
        "colab_type": "text"
      },
      "source": [
        "However, look at this:"
      ]
    },
    {
      "cell_type": "code",
      "metadata": {
        "id": "cSiylhsQVCBz",
        "colab_type": "code",
        "outputId": "e3102bfa-115b-413b-b891-e91bb8f250ea",
        "colab": {
          "base_uri": "https://localhost:8080/",
          "height": 51
        }
      },
      "source": [
        "a = 10\n",
        "b = 10\n",
        "print(hex(id(a)))\n",
        "print(hex(id(b)))"
      ],
      "execution_count": 0,
      "outputs": [
        {
          "output_type": "stream",
          "text": [
            "0xa68be0\n",
            "0xa68be0\n"
          ],
          "name": "stdout"
        }
      ]
    },
    {
      "cell_type": "markdown",
      "metadata": {
        "id": "dScQRspgVaWP",
        "colab_type": "text"
      },
      "source": [
        "The memory addresses of both **a** and **b** are the same!! \n",
        "\n",
        "We'll revisit this in a bit to explain what is going on."
      ]
    },
    {
      "cell_type": "markdown",
      "metadata": {
        "id": "8wgzFGf2Vde2",
        "colab_type": "text"
      },
      "source": [
        "## 6.Object Mutability"
      ]
    },
    {
      "cell_type": "markdown",
      "metadata": {
        "id": "mG2GKPFp3qHO",
        "colab_type": "text"
      },
      "source": [
        "![alt text](https://drive.google.com/uc?id=1yqXk4jiO4ZNRBPpC3OY0vrDA6EYZ3SSL)"
      ]
    },
    {
      "cell_type": "markdown",
      "metadata": {
        "id": "p8ePLOKa4zpr",
        "colab_type": "text"
      },
      "source": [
        "![alt text](https://drive.google.com/uc?id=1nrJeE1mTyJ5wzOM8jCyg8eAuc0MKUnRx)\n",
        "</br>\n",
        "User-defined cclasses can be both Immutable and Mutable, depends how we define internal methods, etc."
      ]
    },
    {
      "cell_type": "markdown",
      "metadata": {
        "id": "4TL9FWwl3p8G",
        "colab_type": "text"
      },
      "source": [
        "![alt text](https://drive.google.com/uc?id=1VV-__LmvOKikCk9HzQqGbdSRCGRnEVNN)\n",
        "</br>\n",
        "</br>\n",
        "Here we have to be careful, because although **tuple** is **immutable** if we put **list** inside **tuple** then we can mutate alements of the list.\n",
        "</br>\n",
        "So in some way tuple is mutable and not completly frozen as it should be."
      ]
    },
    {
      "cell_type": "markdown",
      "metadata": {
        "id": "a8iw3fKw8Awl",
        "colab_type": "text"
      },
      "source": [
        "![alt text](https://drive.google.com/uc?id=1qaM91o6wM2v9icO8Sz1dOA7VprJeAbnD)"
      ]
    },
    {
      "cell_type": "code",
      "metadata": {
        "id": "zk6GakM63neF",
        "colab_type": "code",
        "outputId": "8bc4ef37-2fde-4916-82c3-33588bff9425",
        "colab": {
          "base_uri": "https://localhost:8080/",
          "height": 51
        }
      },
      "source": [
        "my_list = [1, 2, 3]\n",
        "print(my_list)\n",
        "print(hex(id(my_list)))"
      ],
      "execution_count": 0,
      "outputs": [
        {
          "output_type": "stream",
          "text": [
            "[1, 2, 3]\n",
            "0x7f7aa5993488\n"
          ],
          "name": "stdout"
        }
      ]
    },
    {
      "cell_type": "code",
      "metadata": {
        "id": "iF76uyqV8YUe",
        "colab_type": "code",
        "outputId": "7a6fbf83-7354-4e8d-e71a-81fc64d99bcf",
        "colab": {
          "base_uri": "https://localhost:8080/",
          "height": 51
        }
      },
      "source": [
        "my_list.append(4)\n",
        "print(my_list)\n",
        "print(hex(id(my_list)))"
      ],
      "execution_count": 0,
      "outputs": [
        {
          "output_type": "stream",
          "text": [
            "[1, 2, 3, 4]\n",
            "0x7f7aa5993488\n"
          ],
          "name": "stdout"
        }
      ]
    },
    {
      "cell_type": "code",
      "metadata": {
        "id": "pitfF5sv8Zy_",
        "colab_type": "code",
        "outputId": "c5761069-546b-425a-d2bf-fd865d344581",
        "colab": {
          "base_uri": "https://localhost:8080/",
          "height": 51
        }
      },
      "source": [
        "my_list_1 = [1, 2, 3]\n",
        "print(my_list_1)\n",
        "print(hex(id(my_list_1)))"
      ],
      "execution_count": 0,
      "outputs": [
        {
          "output_type": "stream",
          "text": [
            "[1, 2, 3]\n",
            "0x7f7aa59217c8\n"
          ],
          "name": "stdout"
        }
      ]
    },
    {
      "cell_type": "code",
      "metadata": {
        "id": "kz2eGX2Z9HT3",
        "colab_type": "code",
        "outputId": "b20cd062-a170-4175-8a5d-7b475017c248",
        "colab": {
          "base_uri": "https://localhost:8080/",
          "height": 51
        }
      },
      "source": [
        "my_list_1 = my_list_1 + [4]\n",
        "print(my_list_1)\n",
        "print(hex(id(my_list_1)))"
      ],
      "execution_count": 0,
      "outputs": [
        {
          "output_type": "stream",
          "text": [
            "[1, 2, 3, 4]\n",
            "0x7f7aa58b7408\n"
          ],
          "name": "stdout"
        }
      ]
    },
    {
      "cell_type": "markdown",
      "metadata": {
        "id": "eiMAppHT9MUx",
        "colab_type": "text"
      },
      "source": [
        "Notice here that the memory address of *my_list_1* **did** change."
      ]
    },
    {
      "cell_type": "markdown",
      "metadata": {
        "id": "UDY-7lrZ9OEY",
        "colab_type": "text"
      },
      "source": [
        "This is because concatenating two lists objects *my_list_1* and *[4]* did not modify the contents of *my_list_1* - instead it created a new list object and re-assigned *my_list_1* to reference this new object."
      ]
    },
    {
      "cell_type": "markdown",
      "metadata": {
        "id": "LVI5_qXy9QPw",
        "colab_type": "text"
      },
      "source": [
        "Similarly with **dictionary** objects that are also **mutable** types."
      ]
    },
    {
      "cell_type": "code",
      "metadata": {
        "id": "TC9hOBlB9OyY",
        "colab_type": "code",
        "outputId": "b90cd048-a0e7-458c-db32-05655a5fcb8d",
        "colab": {
          "base_uri": "https://localhost:8080/",
          "height": 51
        }
      },
      "source": [
        "my_dict = dict(key1='value 1', key2='value 2')\n",
        "print(my_dict)\n",
        "print(hex(id(my_dict)))"
      ],
      "execution_count": 0,
      "outputs": [
        {
          "output_type": "stream",
          "text": [
            "{'key1': 'value 1', 'key2': 'value 2'}\n",
            "0x7f7aa58d23a8\n"
          ],
          "name": "stdout"
        }
      ]
    },
    {
      "cell_type": "code",
      "metadata": {
        "id": "cyRkeIlR9Xcw",
        "colab_type": "code",
        "outputId": "73706e33-2c44-4cd7-d030-64bffec39c2f",
        "colab": {
          "base_uri": "https://localhost:8080/",
          "height": 51
        }
      },
      "source": [
        "my_dict['key1'] = 'modified value 1'\n",
        "print(my_dict)\n",
        "print(hex(id(my_dict)))"
      ],
      "execution_count": 0,
      "outputs": [
        {
          "output_type": "stream",
          "text": [
            "{'key1': 'modified value 1', 'key2': 'value 2'}\n",
            "0x7f7aa58d23a8\n"
          ],
          "name": "stdout"
        }
      ]
    },
    {
      "cell_type": "markdown",
      "metadata": {
        "id": "j1wFFj4V95kl",
        "colab_type": "text"
      },
      "source": [
        "\n",
        "Now consider the immutable sequence type: **tuple**\n",
        "</br>\n",
        "</br>\n",
        "</br>\n",
        "The tuple is immutable, so elements cannot be added, removed or replaced."
      ]
    },
    {
      "cell_type": "code",
      "metadata": {
        "id": "aChnXihL9ZW7",
        "colab_type": "code",
        "colab": {}
      },
      "source": [
        "t = (1, 2, 3)"
      ],
      "execution_count": 0,
      "outputs": []
    },
    {
      "cell_type": "markdown",
      "metadata": {
        "id": "izY1OsSH-Fic",
        "colab_type": "text"
      },
      "source": [
        "This tuple will **never** change at all. It has three elements, the integers 1, 2, and 3. This will remain the case as long as **t**'s reference is not changed.\n",
        "</br>\n",
        "Everything in Python is object, so even numbers are, here is the proof:"
      ]
    },
    {
      "cell_type": "code",
      "metadata": {
        "id": "d5_Q1HjW-DiG",
        "colab_type": "code",
        "outputId": "17028771-4107-4aba-82c0-38da7d9c12af",
        "colab": {
          "base_uri": "https://localhost:8080/",
          "height": 34
        }
      },
      "source": [
        "id(t[0])"
      ],
      "execution_count": 0,
      "outputs": [
        {
          "output_type": "execute_result",
          "data": {
            "text/plain": [
              "10914496"
            ]
          },
          "metadata": {
            "tags": []
          },
          "execution_count": 8
        }
      ]
    },
    {
      "cell_type": "code",
      "metadata": {
        "id": "jtJvxC6M-S0O",
        "colab_type": "code",
        "outputId": "a76d5497-6f74-4366-8108-337fdf33c0ec",
        "colab": {
          "base_uri": "https://localhost:8080/",
          "height": 34
        }
      },
      "source": [
        "id(t[1])"
      ],
      "execution_count": 0,
      "outputs": [
        {
          "output_type": "execute_result",
          "data": {
            "text/plain": [
              "10914528"
            ]
          },
          "metadata": {
            "tags": []
          },
          "execution_count": 9
        }
      ]
    },
    {
      "cell_type": "code",
      "metadata": {
        "id": "PfZpPlns-Uys",
        "colab_type": "code",
        "colab": {}
      },
      "source": [
        "a = [1, 2]\n",
        "b = [3, 4]\n",
        "t = (a, b)"
      ],
      "execution_count": 0,
      "outputs": []
    },
    {
      "cell_type": "markdown",
      "metadata": {
        "id": "b3mgZq97-egX",
        "colab_type": "text"
      },
      "source": [
        "Now, **t** is still immutable, i.e. it contains a reference to the object **a** and the object **b**. **That** will never change as long as **t**'s reference is not re-assigned.\n",
        "\n",
        "**However**, the elements **a** and **b** are, themselves, mutable."
      ]
    },
    {
      "cell_type": "code",
      "metadata": {
        "id": "ZAc8r0Ox-bJY",
        "colab_type": "code",
        "outputId": "87ec1d90-c2a9-4774-c8aa-76052056e7f8",
        "colab": {
          "base_uri": "https://localhost:8080/",
          "height": 34
        }
      },
      "source": [
        "a.append(3)\n",
        "b.append(5)\n",
        "print(t)"
      ],
      "execution_count": 0,
      "outputs": [
        {
          "output_type": "stream",
          "text": [
            "([1, 2, 3], [3, 4, 5])\n"
          ],
          "name": "stdout"
        }
      ]
    },
    {
      "cell_type": "markdown",
      "metadata": {
        "id": "IYAC0ibN-8-r",
        "colab_type": "text"
      },
      "source": [
        "Observe that the contents of **a** and **b** **did** change!\n",
        "\n",
        "So immutability can be a little more subtle than just thinking something can never change. \n",
        "\n",
        "The tuple **t** did **not** change - it contains two elements, that are the references **a** and **b**. And that will not change. But, because the referenced elements are mutable themselves, it appears as though the tuple has changed.\n",
        "\n",
        "It hasn't though - that distinction is subtle but important to understand!"
      ]
    },
    {
      "cell_type": "markdown",
      "metadata": {
        "id": "4A_iOznn_XGD",
        "colab_type": "text"
      },
      "source": [
        "## 7.Function Arguments and Mutability"
      ]
    },
    {
      "cell_type": "markdown",
      "metadata": {
        "id": "dmesCX1SAOcS",
        "colab_type": "text"
      },
      "source": [
        "![alt text](https://drive.google.com/uc?id=1q0_nii_9vLQ4O4JCJ8fvkjuqHdea8ddq)"
      ]
    },
    {
      "cell_type": "markdown",
      "metadata": {
        "id": "xLWsOuXOCbBw",
        "colab_type": "text"
      },
      "source": [
        "![alt text](https://drive.google.com/uc?id=1mhdXDW1-MmleC-y186LkZkuC7VwdWGWQ)\n",
        "</br>\n",
        "</br>\n",
        "Nakon što pustimo funkciju `process()`, ono što je dobro je to što kada napravimo `print(my_var)` onda ne dobijemo `hello world`, dakle ne mutira varijabla `my_var`.\n",
        "</br>\n",
        "Također, `s` ne odlazi u staru memorijsku adresu, već u novu memorijsku adresu,\n",
        "</br>\n",
        "</br>\n",
        "Kao što vidimo, kako je `string` **immutable** imamo sigurnost te tako funkcija u koju dajemo string, taj string neće biti promijenjen od strane funkcije.\n",
        "</br>\n",
        "ALI moramo pazit na tipa onu situaciju kao kod **tupla** jer je to **kontejnerski** tip u kojem pohranjujemo podatke.\n"
      ]
    },
    {
      "cell_type": "markdown",
      "metadata": {
        "id": "f6ovhmfsFuUq",
        "colab_type": "text"
      },
      "source": [
        "![alt text](https://drive.google.com/uc?id=1DiTYbuzV1vtFqbxY8CiltM1wCfXtOJ-K)\n",
        "</br>\n",
        "</br>\n",
        "\n",
        "Ovdej vidimo kako funkcija `process()` mijenja **MUTIRA** listu te kada printamo `my_list` prije i poslije pokretanje funkcije dobijemo dvije različite liste.\n",
        "</br>\n",
        "Međutim, to je ta ista lista, na istoj memorijskoj adresi, ali je sada drugačija, odnosno imamo **side effect**, nešto što se nastoji izbjeći kod primjerice **FUNKCIONALNOG PROGRAMIRANJA**.\n",
        "</br>\n",
        "Možemo dobiti ne željene promjene ako nismo svjesni ove promjene, tj. činjenice kako je `list` **MUTABLE**."
      ]
    },
    {
      "cell_type": "markdown",
      "metadata": {
        "id": "sKd1nU0tNfNc",
        "colab_type": "text"
      },
      "source": [
        "![alt text](https://drive.google.com/uc?id=1zhzPVy8jeFMoOrYkdnnKJUTjQUqnE9t6)"
      ]
    },
    {
      "cell_type": "code",
      "metadata": {
        "id": "gnT7Kvvl-g42",
        "colab_type": "code",
        "colab": {}
      },
      "source": [
        "def proccess(s):\n",
        "    print(f\"Initial s # = {hex(id(s))}\")\n",
        "    s = s + \" world\"\n",
        "    print(f\"Final s # = {hex(id(s))}\")"
      ],
      "execution_count": 0,
      "outputs": []
    },
    {
      "cell_type": "code",
      "metadata": {
        "id": "-YSE2vmPJPdk",
        "colab_type": "code",
        "outputId": "30e0831c-5de0-4944-932b-bebb697d17e4",
        "colab": {
          "base_uri": "https://localhost:8080/",
          "height": 34
        }
      },
      "source": [
        "my_var = \"hello\"\n",
        "print('my_var # = {0}'.format(hex(id(my_var))))"
      ],
      "execution_count": 0,
      "outputs": [
        {
          "output_type": "stream",
          "text": [
            "my_var # = 0x7f7aa50283e8\n"
          ],
          "name": "stdout"
        }
      ]
    },
    {
      "cell_type": "markdown",
      "metadata": {
        "id": "5xSHguCzJ1tV",
        "colab_type": "text"
      },
      "source": [
        "\n",
        "After we \"modify\" *s*, *s* is pointing to a new memory address:"
      ]
    },
    {
      "cell_type": "code",
      "metadata": {
        "id": "taqEwEsjJv8B",
        "colab_type": "code",
        "outputId": "e09fc75c-1f29-4724-b1cc-78881fa0a809",
        "colab": {
          "base_uri": "https://localhost:8080/",
          "height": 51
        }
      },
      "source": [
        "proccess(my_var)"
      ],
      "execution_count": 0,
      "outputs": [
        {
          "output_type": "stream",
          "text": [
            "Initial s # = 0x7f7aa50283e8\n",
            "Final s # = 0x7f7aa4f2b070\n"
          ],
          "name": "stdout"
        }
      ]
    },
    {
      "cell_type": "markdown",
      "metadata": {
        "id": "OF-zLs7cKU5e",
        "colab_type": "text"
      },
      "source": [
        "And our own variable *my_var* is still pointing to the original memory address:"
      ]
    },
    {
      "cell_type": "code",
      "metadata": {
        "id": "PHXSHDicJ6Ra",
        "colab_type": "code",
        "outputId": "d4e941f6-880c-4c8d-96a4-2e85dde73d2f",
        "colab": {
          "base_uri": "https://localhost:8080/",
          "height": 34
        }
      },
      "source": [
        "print('my_var # = {0}'.format(hex(id(my_var))))"
      ],
      "execution_count": 0,
      "outputs": [
        {
          "output_type": "stream",
          "text": [
            "my_var # = 0x7f7aa50283e8\n"
          ],
          "name": "stdout"
        }
      ]
    },
    {
      "cell_type": "markdown",
      "metadata": {
        "id": "FujODM3QKaQQ",
        "colab_type": "text"
      },
      "source": [
        "Let's see how this works with mutable objects:"
      ]
    },
    {
      "cell_type": "code",
      "metadata": {
        "id": "YKnWuJg_KWti",
        "colab_type": "code",
        "colab": {}
      },
      "source": [
        "def modify_list(items):\n",
        "    print('initial items # = {0}'.format(hex(id(items))))\n",
        "    if len(items) > 0:\n",
        "        items[0] = items[0] ** 2\n",
        "    items.pop() # removes the last element in the list\n",
        "    items.append(5)\n",
        "    print('final items # = {0}'.format(hex(id(items))))"
      ],
      "execution_count": 0,
      "outputs": []
    },
    {
      "cell_type": "code",
      "metadata": {
        "id": "4_s2O7XCKb2w",
        "colab_type": "code",
        "outputId": "eb2eb97f-2a14-4a9d-d44f-363f728a935d",
        "colab": {
          "base_uri": "https://localhost:8080/",
          "height": 34
        }
      },
      "source": [
        "my_list = [2, 3, 4]\n",
        "print('my_list # = {0}'.format(hex(id(my_list))))"
      ],
      "execution_count": 0,
      "outputs": [
        {
          "output_type": "stream",
          "text": [
            "my_list # = 0x7f7aa4f32348\n"
          ],
          "name": "stdout"
        }
      ]
    },
    {
      "cell_type": "code",
      "metadata": {
        "id": "zPJbJiDHKjgs",
        "colab_type": "code",
        "outputId": "6dd429ec-389c-42a9-a2de-7cfc5f7af303",
        "colab": {
          "base_uri": "https://localhost:8080/",
          "height": 51
        }
      },
      "source": [
        "modify_list(my_list)"
      ],
      "execution_count": 0,
      "outputs": [
        {
          "output_type": "stream",
          "text": [
            "initial items # = 0x7f7aa4f32348\n",
            "final items # = 0x7f7aa4f32348\n"
          ],
          "name": "stdout"
        }
      ]
    },
    {
      "cell_type": "code",
      "metadata": {
        "id": "HoY9K1ktKvZR",
        "colab_type": "code",
        "outputId": "a88f0012-07a2-4814-b69a-7754c663f1b1",
        "colab": {
          "base_uri": "https://localhost:8080/",
          "height": 34
        }
      },
      "source": [
        "hex(id(my_list))"
      ],
      "execution_count": 0,
      "outputs": [
        {
          "output_type": "execute_result",
          "data": {
            "text/plain": [
              "'0x7f7aa4f32348'"
            ]
          },
          "metadata": {
            "tags": []
          },
          "execution_count": 33
        }
      ]
    },
    {
      "cell_type": "code",
      "metadata": {
        "id": "DHKYxN8YLPm-",
        "colab_type": "code",
        "outputId": "531de9ac-e93f-4ba7-f4c2-ea236a6ba225",
        "colab": {
          "base_uri": "https://localhost:8080/",
          "height": 34
        }
      },
      "source": [
        "my_list"
      ],
      "execution_count": 0,
      "outputs": [
        {
          "output_type": "execute_result",
          "data": {
            "text/plain": [
              "[4, 3, 5]"
            ]
          },
          "metadata": {
            "tags": []
          },
          "execution_count": 34
        }
      ]
    },
    {
      "cell_type": "markdown",
      "metadata": {
        "id": "Mx52ZdMsK_Ei",
        "colab_type": "text"
      },
      "source": [
        "As you can see, throughout all the code, the memory address referenced by *my_list* and *items* is always the **same** (shared) reference - we are simply modifying the contents (**internal state**) of the object at that memory address."
      ]
    },
    {
      "cell_type": "markdown",
      "metadata": {
        "id": "cyDNzQ8pLBOF",
        "colab_type": "text"
      },
      "source": [
        "Now, even with immutable container objects we have to be careful, e.g. a tuple containing a list (the tuple is immutable, but the list element inside the tuple **is** mutable)"
      ]
    },
    {
      "cell_type": "code",
      "metadata": {
        "id": "ue_FIn69K4zh",
        "colab_type": "code",
        "colab": {}
      },
      "source": [
        "def modify_tuple(t):\n",
        "    print('initial t # = {0}'.format(hex(id(t))))\n",
        "    t[0].append(100)\n",
        "    print('final t # = {0}'.format(hex(id(t))))"
      ],
      "execution_count": 0,
      "outputs": []
    },
    {
      "cell_type": "code",
      "metadata": {
        "id": "BZ3_TeLvLmZT",
        "colab_type": "code",
        "colab": {}
      },
      "source": [
        "my_tuple = ([1, 2], 'a')"
      ],
      "execution_count": 0,
      "outputs": []
    },
    {
      "cell_type": "code",
      "metadata": {
        "id": "khZ3IKTkLudv",
        "colab_type": "code",
        "outputId": "7fd3c992-9897-40cf-840b-96590f361d17",
        "colab": {
          "base_uri": "https://localhost:8080/",
          "height": 34
        }
      },
      "source": [
        "hex(id(my_tuple))"
      ],
      "execution_count": 0,
      "outputs": [
        {
          "output_type": "execute_result",
          "data": {
            "text/plain": [
              "'0x7f7aa598bf08'"
            ]
          },
          "metadata": {
            "tags": []
          },
          "execution_count": 37
        }
      ]
    },
    {
      "cell_type": "code",
      "metadata": {
        "id": "m-nbjkRILvu4",
        "colab_type": "code",
        "outputId": "0dbe6264-ba6c-4117-cf67-e377e972c340",
        "colab": {
          "base_uri": "https://localhost:8080/",
          "height": 51
        }
      },
      "source": [
        "modify_tuple(my_tuple)"
      ],
      "execution_count": 0,
      "outputs": [
        {
          "output_type": "stream",
          "text": [
            "initial t # = 0x7f7aa598bf08\n",
            "final t # = 0x7f7aa598bf08\n"
          ],
          "name": "stdout"
        }
      ]
    },
    {
      "cell_type": "code",
      "metadata": {
        "id": "wvd6hdswLxX7",
        "colab_type": "code",
        "outputId": "64d38578-5c6b-4258-8ebc-ca4495840fb7",
        "colab": {
          "base_uri": "https://localhost:8080/",
          "height": 34
        }
      },
      "source": [
        "my_tuple"
      ],
      "execution_count": 0,
      "outputs": [
        {
          "output_type": "execute_result",
          "data": {
            "text/plain": [
              "([1, 2, 100], 'a')"
            ]
          },
          "metadata": {
            "tags": []
          },
          "execution_count": 39
        }
      ]
    },
    {
      "cell_type": "markdown",
      "metadata": {
        "id": "8-a2EImdL37j",
        "colab_type": "text"
      },
      "source": [
        "As you can see, the first element of the tuple was mutated."
      ]
    },
    {
      "cell_type": "markdown",
      "metadata": {
        "id": "8SIsETdkL8pC",
        "colab_type": "text"
      },
      "source": [
        "## 8.Shared References and Mutability"
      ]
    },
    {
      "cell_type": "markdown",
      "metadata": {
        "id": "ynNf5PB7OEQy",
        "colab_type": "text"
      },
      "source": [
        "![alt text](https://drive.google.com/uc?id=1VIKOcFlMwA8Ri6cerQbXvJVUjZTvnhCQ)"
      ]
    },
    {
      "cell_type": "markdown",
      "metadata": {
        "id": "GSTBfWSEQAyy",
        "colab_type": "text"
      },
      "source": [
        "![alt text](https://drive.google.com/uc?id=1hD5NiJZQZ0F4rUI9F8OuIXxY35DamLeb)\n",
        "</br>\n",
        "</br>\n",
        "The thing Python does for optimization shown in this picture is actually safe cause the objects stored in memory address are **IMMUTABLE**."
      ]
    },
    {
      "cell_type": "markdown",
      "metadata": {
        "id": "vOajtLZtTQyd",
        "colab_type": "text"
      },
      "source": [
        "![alt text](https://drive.google.com/uc?id=1n4j7VTsSZZaTVe436U03YbaI_Qzua6sm)\n",
        "</br>\n",
        "</br>\n",
        "As we see if **mutable** objects have the same values assigned to variable, they will be stored in different memory address.\n",
        "</br>\n",
        "Which is logical because we can **mutate** them so they won't be the same all the time."
      ]
    },
    {
      "cell_type": "code",
      "metadata": {
        "id": "3rGLp_KML1sc",
        "colab_type": "code",
        "outputId": "c699c0a8-0aac-46a6-ad49-24ba94c13725",
        "colab": {
          "base_uri": "https://localhost:8080/",
          "height": 51
        }
      },
      "source": [
        "my_var_1 = 'hello'\n",
        "my_var_2 = my_var_1\n",
        "print(my_var_1)\n",
        "print(my_var_2)"
      ],
      "execution_count": 0,
      "outputs": [
        {
          "output_type": "stream",
          "text": [
            "hello\n",
            "hello\n"
          ],
          "name": "stdout"
        }
      ]
    },
    {
      "cell_type": "code",
      "metadata": {
        "id": "FLqlC9wpT0k1",
        "colab_type": "code",
        "outputId": "92a00c0b-9b1c-4445-abdb-ee5dad0eaf77",
        "colab": {
          "base_uri": "https://localhost:8080/",
          "height": 51
        }
      },
      "source": [
        "print(hex(id(my_var_1)))\n",
        "print(hex(id(my_var_2)))"
      ],
      "execution_count": 0,
      "outputs": [
        {
          "output_type": "stream",
          "text": [
            "0x7f7aa50283e8\n",
            "0x7f7aa50283e8\n"
          ],
          "name": "stdout"
        }
      ]
    },
    {
      "cell_type": "code",
      "metadata": {
        "id": "krdiRsPzT4Nn",
        "colab_type": "code",
        "colab": {}
      },
      "source": [
        "my_var_2 = my_var_2 + ' world!'"
      ],
      "execution_count": 0,
      "outputs": []
    },
    {
      "cell_type": "code",
      "metadata": {
        "id": "w2ApFiBAUQcI",
        "colab_type": "code",
        "outputId": "d074b5a7-345a-4312-af9d-d8b0212bbd60",
        "colab": {
          "base_uri": "https://localhost:8080/",
          "height": 51
        }
      },
      "source": [
        "print(hex(id(my_var_1)))\n",
        "print(hex(id(my_var_2)))"
      ],
      "execution_count": 0,
      "outputs": [
        {
          "output_type": "stream",
          "text": [
            "0x7f7aa50283e8\n",
            "0x7f7aa4f32630\n"
          ],
          "name": "stdout"
        }
      ]
    },
    {
      "cell_type": "markdown",
      "metadata": {
        "id": "ow7fHQZ1UUAq",
        "colab_type": "text"
      },
      "source": [
        "Be careful if the variable type is mutable!\n",
        "\n",
        "Here we create a list (*my_list_1*) and create a variable (*my_list_2*) referencing the same list object:"
      ]
    },
    {
      "cell_type": "code",
      "metadata": {
        "id": "cgAWold0UVQb",
        "colab_type": "code",
        "outputId": "4ddfde3a-b22d-42db-ab62-6a0faf1b1f74",
        "colab": {
          "base_uri": "https://localhost:8080/",
          "height": 51
        }
      },
      "source": [
        "my_list_1 = [1, 2, 3]\n",
        "my_list_2 = my_list_1\n",
        "print(my_list_1)\n",
        "print(my_list_2)"
      ],
      "execution_count": 0,
      "outputs": [
        {
          "output_type": "stream",
          "text": [
            "[1, 2, 3]\n",
            "[1, 2, 3]\n"
          ],
          "name": "stdout"
        }
      ]
    },
    {
      "cell_type": "markdown",
      "metadata": {
        "id": "qfTcm5O3Ukb6",
        "colab_type": "text"
      },
      "source": [
        "As we can see they have the same memory address (shared reference):"
      ]
    },
    {
      "cell_type": "code",
      "metadata": {
        "id": "UZmJ4CEIUYD8",
        "colab_type": "code",
        "outputId": "02fa37c1-5a1f-46da-962d-b1e945d64170",
        "colab": {
          "base_uri": "https://localhost:8080/",
          "height": 51
        }
      },
      "source": [
        "print(hex(id(my_list_1)))\n",
        "print(hex(id(my_list_2)))"
      ],
      "execution_count": 0,
      "outputs": [
        {
          "output_type": "stream",
          "text": [
            "0x7f7aa4f3e7c8\n",
            "0x7f7aa4f3e7c8\n"
          ],
          "name": "stdout"
        }
      ]
    },
    {
      "cell_type": "markdown",
      "metadata": {
        "id": "xNzPkpCZUols",
        "colab_type": "text"
      },
      "source": [
        "Now we modify the list referenced by `my_list_2`:"
      ]
    },
    {
      "cell_type": "code",
      "metadata": {
        "id": "SF3P_KMLUmdu",
        "colab_type": "code",
        "colab": {}
      },
      "source": [
        "my_list_2.append(4)"
      ],
      "execution_count": 0,
      "outputs": []
    },
    {
      "cell_type": "code",
      "metadata": {
        "id": "NJglqK7UUvef",
        "colab_type": "code",
        "outputId": "ecea2990-9bcc-4628-b4ba-bb89e5428c33",
        "colab": {
          "base_uri": "https://localhost:8080/",
          "height": 34
        }
      },
      "source": [
        "print(my_list_2)"
      ],
      "execution_count": 0,
      "outputs": [
        {
          "output_type": "stream",
          "text": [
            "[1, 2, 3, 4]\n"
          ],
          "name": "stdout"
        }
      ]
    },
    {
      "cell_type": "markdown",
      "metadata": {
        "id": "5o1b2A1tU4Gy",
        "colab_type": "text"
      },
      "source": [
        "And since my_list_1 references the same list object, it has also changed:"
      ]
    },
    {
      "cell_type": "markdown",
      "metadata": {
        "id": "GteA89wXU-O0",
        "colab_type": "text"
      },
      "source": [
        "As you can see, both variables still share the same reference:"
      ]
    },
    {
      "cell_type": "code",
      "metadata": {
        "id": "mR0f3F91U2ft",
        "colab_type": "code",
        "outputId": "9c1a0d62-e470-4060-aa63-c97231fe3994",
        "colab": {
          "base_uri": "https://localhost:8080/",
          "height": 51
        }
      },
      "source": [
        "print(hex(id(my_list_1)))\n",
        "print(hex(id(my_list_2)))"
      ],
      "execution_count": 0,
      "outputs": [
        {
          "output_type": "stream",
          "text": [
            "0x7f7aa4f3e7c8\n",
            "0x7f7aa4f3e7c8\n"
          ],
          "name": "stdout"
        }
      ]
    },
    {
      "cell_type": "markdown",
      "metadata": {
        "id": "CLXZZwuXVIeQ",
        "colab_type": "text"
      },
      "source": [
        "## 9.Behind the scenes with Python's memory manager\n",
        "----"
      ]
    },
    {
      "cell_type": "code",
      "metadata": {
        "id": "amjHXHw4VA2y",
        "colab_type": "code",
        "colab": {}
      },
      "source": [
        "a = 10\n",
        "b = 10"
      ],
      "execution_count": 0,
      "outputs": []
    },
    {
      "cell_type": "code",
      "metadata": {
        "id": "QjtGvB8XVKql",
        "colab_type": "code",
        "outputId": "b3a1323d-8efd-4906-f880-f1392afb5c5f",
        "colab": {
          "base_uri": "https://localhost:8080/",
          "height": 51
        }
      },
      "source": [
        "print(hex(id(a)))\n",
        "print(hex(id(b)))"
      ],
      "execution_count": 0,
      "outputs": [
        {
          "output_type": "stream",
          "text": [
            "0xa68be0\n",
            "0xa68be0\n"
          ],
          "name": "stdout"
        }
      ]
    },
    {
      "cell_type": "markdown",
      "metadata": {
        "id": "cw-CRjgHVT-Q",
        "colab_type": "text"
      },
      "source": [
        "Same memory address!!\n",
        "\n",
        "This is safe for Python to do because integer objects are **immutable**. \n",
        "\n",
        "So, even though *a* and *b* initially shared the same mempry address, we can never modify *a*'s value by \"modifying\" *b*'s value. \n",
        "\n",
        "The only way to change *b*'s value is to change it's reference, which will never affect *a*."
      ]
    },
    {
      "cell_type": "code",
      "metadata": {
        "id": "GZuUbj1uVLvu",
        "colab_type": "code",
        "colab": {}
      },
      "source": [
        "b = 15"
      ],
      "execution_count": 0,
      "outputs": []
    },
    {
      "cell_type": "code",
      "metadata": {
        "id": "jwBVApiEVW_2",
        "colab_type": "code",
        "outputId": "295085f0-1dad-4436-d8a3-6308c5252552",
        "colab": {
          "base_uri": "https://localhost:8080/",
          "height": 51
        }
      },
      "source": [
        "print(hex(id(a)))\n",
        "print(hex(id(b)))"
      ],
      "execution_count": 0,
      "outputs": [
        {
          "output_type": "stream",
          "text": [
            "0xa68be0\n",
            "0xa68c80\n"
          ],
          "name": "stdout"
        }
      ]
    },
    {
      "cell_type": "markdown",
      "metadata": {
        "id": "Mz-rnRE_VaUc",
        "colab_type": "text"
      },
      "source": [
        "However, for mutable objects, Python's memory manager does not do this, since that would **not** be safe."
      ]
    },
    {
      "cell_type": "code",
      "metadata": {
        "id": "82_c7rz2VYbG",
        "colab_type": "code",
        "colab": {}
      },
      "source": [
        "my_list_1 = [1, 2, 3]\n",
        "my_list_2 = [1, 2 , 3]"
      ],
      "execution_count": 0,
      "outputs": []
    },
    {
      "cell_type": "markdown",
      "metadata": {
        "id": "mlK5OuztVdIK",
        "colab_type": "text"
      },
      "source": [
        "As you can see, although the two variables were assigned identical \"contents\", the memory addresses are not the same:"
      ]
    },
    {
      "cell_type": "code",
      "metadata": {
        "id": "CcTkRqzCVb-m",
        "colab_type": "code",
        "outputId": "782e9e34-3ca1-4890-9963-5feee6bc4d86",
        "colab": {
          "base_uri": "https://localhost:8080/",
          "height": 51
        }
      },
      "source": [
        "print(hex(id(my_list_1)))\n",
        "print(hex(id(my_list_2)))    "
      ],
      "execution_count": 0,
      "outputs": [
        {
          "output_type": "stream",
          "text": [
            "0x7f7aa4f3e608\n",
            "0x7f7aa4f3e3c8\n"
          ],
          "name": "stdout"
        }
      ]
    },
    {
      "cell_type": "markdown",
      "metadata": {
        "id": "X5vfbq3g6I7c",
        "colab_type": "text"
      },
      "source": [
        "## 10.Variable Equality"
      ]
    },
    {
      "cell_type": "markdown",
      "metadata": {
        "id": "yRPTfe-A8nJO",
        "colab_type": "text"
      },
      "source": [
        "![alt text](https://drive.google.com/uc?id=1lrGiju8DkFnSv--b1pjsskcg20bmEh-o)\n",
        "![alt text](https://drive.google.com/uc?id=1NG0u_auxFCtBiixA9tiNT763D3j1InRI)"
      ]
    },
    {
      "cell_type": "markdown",
      "metadata": {
        "id": "X-SpMERL924t",
        "colab_type": "text"
      },
      "source": [
        "![alt text](https://drive.google.com/uc?id=1L2c2P7WPDx3HVEd5Hy_jbgZKJlWRHUzd)\n",
        "</br>\n",
        "Now remember `None` is NOT **nothing**, it is an actual object ii Python."
      ]
    },
    {
      "cell_type": "code",
      "metadata": {
        "id": "e1eowf9JVfK9",
        "colab_type": "code",
        "outputId": "08abd983-497f-406b-9a78-aa0debc2afa9",
        "colab": {
          "base_uri": "https://localhost:8080/",
          "height": 51
        }
      },
      "source": [
        "a = 10\n",
        "b = 10\n",
        "\n",
        "print(hex(id(a)))\n",
        "print(hex(id(b)))"
      ],
      "execution_count": 0,
      "outputs": [
        {
          "output_type": "stream",
          "text": [
            "0xa68be0\n",
            "0xa68be0\n"
          ],
          "name": "stdout"
        }
      ]
    },
    {
      "cell_type": "markdown",
      "metadata": {
        "id": "_6run7COAka5",
        "colab_type": "text"
      },
      "source": [
        "When we use the **is** operator, we are comparing the memory address **references**:"
      ]
    },
    {
      "cell_type": "code",
      "metadata": {
        "id": "ZCQruDXS_W3q",
        "colab_type": "code",
        "outputId": "9d19e558-25d8-4160-a6e9-7322b1363946",
        "colab": {
          "base_uri": "https://localhost:8080/",
          "height": 34
        }
      },
      "source": [
        "print(\"a is b: \", a is b)"
      ],
      "execution_count": 0,
      "outputs": [
        {
          "output_type": "stream",
          "text": [
            "a is b:  True\n"
          ],
          "name": "stdout"
        }
      ]
    },
    {
      "cell_type": "markdown",
      "metadata": {
        "id": "MmFppMMLAowa",
        "colab_type": "text"
      },
      "source": [
        "The following however, do not have a shared reference:"
      ]
    },
    {
      "cell_type": "code",
      "metadata": {
        "id": "tTDEJFkKAnKy",
        "colab_type": "code",
        "outputId": "ad689355-9287-430a-927b-73ddcd552bb6",
        "colab": {
          "base_uri": "https://localhost:8080/",
          "height": 51
        }
      },
      "source": [
        "a = [1, 2, 3]\n",
        "b = [1, 2, 3]\n",
        "\n",
        "print(hex(id(a)))\n",
        "print(hex(id(b)))"
      ],
      "execution_count": 0,
      "outputs": [
        {
          "output_type": "stream",
          "text": [
            "0x7fca762960c8\n",
            "0x7fca762934c8\n"
          ],
          "name": "stdout"
        }
      ]
    },
    {
      "cell_type": "markdown",
      "metadata": {
        "id": "11AHVSqiAsrH",
        "colab_type": "text"
      },
      "source": [
        "Although they are not the same objects, they do contain the same \"values\":"
      ]
    },
    {
      "cell_type": "code",
      "metadata": {
        "id": "wuzcUrY1Aqml",
        "colab_type": "code",
        "outputId": "eb71a2c2-118d-45b7-d8e4-685073c66f71",
        "colab": {
          "base_uri": "https://localhost:8080/",
          "height": 51
        }
      },
      "source": [
        "print(\"a is b: \", a is b)\n",
        "print(\"a == b\", a == b)"
      ],
      "execution_count": 0,
      "outputs": [
        {
          "output_type": "stream",
          "text": [
            "a is b:  False\n",
            "a == b True\n"
          ],
          "name": "stdout"
        }
      ]
    },
    {
      "cell_type": "markdown",
      "metadata": {
        "id": "TE66wvD1Aw3s",
        "colab_type": "text"
      },
      "source": [
        "Python will attempt to compare values as best as possible, for example:"
      ]
    },
    {
      "cell_type": "code",
      "metadata": {
        "id": "UWKmPUeAAvTc",
        "colab_type": "code",
        "colab": {}
      },
      "source": [
        "a = 10\n",
        "b = 10.0"
      ],
      "execution_count": 0,
      "outputs": []
    },
    {
      "cell_type": "markdown",
      "metadata": {
        "id": "JbenmZbkA0c6",
        "colab_type": "text"
      },
      "source": [
        "These are **not** the same reference, since one object is an **int** and the other is a **float**"
      ]
    },
    {
      "cell_type": "code",
      "metadata": {
        "id": "MvWV5HzLAy38",
        "colab_type": "code",
        "outputId": "946af768-f22d-427b-e940-90492f0ccb60",
        "colab": {
          "base_uri": "https://localhost:8080/",
          "height": 119
        }
      },
      "source": [
        "print(type(a))\n",
        "print(type(b))\n",
        "print(hex(id(a)))\n",
        "print(hex(id(b)))\n",
        "print('a is b:', a is b)\n",
        "print('a == b:', a == b)"
      ],
      "execution_count": 0,
      "outputs": [
        {
          "output_type": "stream",
          "text": [
            "<class 'int'>\n",
            "<class 'float'>\n",
            "0xa68be0\n",
            "0x7fca76233648\n",
            "a is b: False\n",
            "a == b: True\n"
          ],
          "name": "stdout"
        }
      ]
    },
    {
      "cell_type": "markdown",
      "metadata": {
        "id": "jxgmgpafA8sv",
        "colab_type": "text"
      },
      "source": [
        "So, even though *a* is an integer 10, and *b* is a float 10.0, the values will still compare as equal.\n",
        "</br>\n",
        "</br>\n",
        "In fact, this will also have the same behavior:"
      ]
    },
    {
      "cell_type": "code",
      "metadata": {
        "id": "YCQZGgmLA2OH",
        "colab_type": "code",
        "outputId": "534c7e6b-ea09-454a-bb62-0ccaeb3b443b",
        "colab": {
          "base_uri": "https://localhost:8080/",
          "height": 68
        }
      },
      "source": [
        "c = 10 + 0j\n",
        "print(type(c))\n",
        "print('a is c:', a is c)\n",
        "print('a == c:', a == c)"
      ],
      "execution_count": 0,
      "outputs": [
        {
          "output_type": "stream",
          "text": [
            "<class 'complex'>\n",
            "a is c: False\n",
            "a == c: True\n"
          ],
          "name": "stdout"
        }
      ]
    },
    {
      "cell_type": "markdown",
      "metadata": {
        "id": "SbSsoQllBIUt",
        "colab_type": "text"
      },
      "source": [
        "### The None Object\n",
        "----"
      ]
    },
    {
      "cell_type": "markdown",
      "metadata": {
        "id": "UIVplqbLBLTT",
        "colab_type": "text"
      },
      "source": [
        "**None** is a built-in \"variable\" of type *NoneType*.\n",
        "\n",
        "Basically the keyword **None** is a reference to an object instance of *NoneType*.\n",
        "\n",
        "NoneType objects are immutable! Python's memory manager will therefore use shared references to the None object."
      ]
    },
    {
      "cell_type": "code",
      "metadata": {
        "id": "fxKoEcirBCo2",
        "colab_type": "code",
        "outputId": "becc0e90-512f-4825-8e62-c0a364e944b3",
        "colab": {
          "base_uri": "https://localhost:8080/",
          "height": 68
        }
      },
      "source": [
        "print(None)\n",
        "hex(id(None))\n",
        "type(None)\n",
        "\n",
        "\n",
        "a = None\n",
        "print(type(a))\n",
        "print(hex(id(a)))"
      ],
      "execution_count": 0,
      "outputs": [
        {
          "output_type": "stream",
          "text": [
            "None\n",
            "<class 'NoneType'>\n",
            "0x9d4380\n"
          ],
          "name": "stdout"
        }
      ]
    },
    {
      "cell_type": "code",
      "metadata": {
        "id": "qCxzIvwjBTUK",
        "colab_type": "code",
        "outputId": "7efc8003-5eee-47d8-dfb3-6a6f43a4f048",
        "colab": {
          "base_uri": "https://localhost:8080/",
          "height": 34
        }
      },
      "source": [
        "a is None"
      ],
      "execution_count": 0,
      "outputs": [
        {
          "output_type": "execute_result",
          "data": {
            "text/plain": [
              "True"
            ]
          },
          "metadata": {
            "tags": []
          },
          "execution_count": 12
        }
      ]
    },
    {
      "cell_type": "code",
      "metadata": {
        "id": "c601YLytBWfC",
        "colab_type": "code",
        "outputId": "8dfc553d-068d-48eb-8a05-fa2ce5ab9029",
        "colab": {
          "base_uri": "https://localhost:8080/",
          "height": 34
        }
      },
      "source": [
        "a == None"
      ],
      "execution_count": 0,
      "outputs": [
        {
          "output_type": "execute_result",
          "data": {
            "text/plain": [
              "True"
            ]
          },
          "metadata": {
            "tags": []
          },
          "execution_count": 13
        }
      ]
    },
    {
      "cell_type": "code",
      "metadata": {
        "id": "SplDKg1OBXc4",
        "colab_type": "code",
        "outputId": "f1153e7c-cbe6-4a72-be4a-611f1f9beb8f",
        "colab": {
          "base_uri": "https://localhost:8080/",
          "height": 34
        }
      },
      "source": [
        "b = None\n",
        "hex(id(b))"
      ],
      "execution_count": 0,
      "outputs": [
        {
          "output_type": "execute_result",
          "data": {
            "text/plain": [
              "'0x9d4380'"
            ]
          },
          "metadata": {
            "tags": []
          },
          "execution_count": 14
        }
      ]
    },
    {
      "cell_type": "code",
      "metadata": {
        "id": "owmQzx7IBbnL",
        "colab_type": "code",
        "outputId": "4ba2e44a-df46-49f0-a3dc-5045c8b4daad",
        "colab": {
          "base_uri": "https://localhost:8080/",
          "height": 34
        }
      },
      "source": [
        "a is b"
      ],
      "execution_count": 0,
      "outputs": [
        {
          "output_type": "execute_result",
          "data": {
            "text/plain": [
              "True"
            ]
          },
          "metadata": {
            "tags": []
          },
          "execution_count": 15
        }
      ]
    },
    {
      "cell_type": "code",
      "metadata": {
        "id": "995yucO3BcGi",
        "colab_type": "code",
        "outputId": "d2c394e3-067c-4b7d-f36f-4d710007282c",
        "colab": {
          "base_uri": "https://localhost:8080/",
          "height": 34
        }
      },
      "source": [
        "a == b"
      ],
      "execution_count": 0,
      "outputs": [
        {
          "output_type": "execute_result",
          "data": {
            "text/plain": [
              "True"
            ]
          },
          "metadata": {
            "tags": []
          },
          "execution_count": 16
        }
      ]
    },
    {
      "cell_type": "code",
      "metadata": {
        "id": "2ntYzdcEBek8",
        "colab_type": "code",
        "outputId": "92db9212-f9ed-4e1f-c49a-9780ad26bcd1",
        "colab": {
          "base_uri": "https://localhost:8080/",
          "height": 34
        }
      },
      "source": [
        "l = []\n",
        "type(l)"
      ],
      "execution_count": 0,
      "outputs": [
        {
          "output_type": "execute_result",
          "data": {
            "text/plain": [
              "list"
            ]
          },
          "metadata": {
            "tags": []
          },
          "execution_count": 18
        }
      ]
    },
    {
      "cell_type": "code",
      "metadata": {
        "id": "xokUvKyDBf7W",
        "colab_type": "code",
        "outputId": "985c63ee-2c4e-4cc0-8f1f-109ba3d0018f",
        "colab": {
          "base_uri": "https://localhost:8080/",
          "height": 34
        }
      },
      "source": [
        "l is None"
      ],
      "execution_count": 0,
      "outputs": [
        {
          "output_type": "execute_result",
          "data": {
            "text/plain": [
              "False"
            ]
          },
          "metadata": {
            "tags": []
          },
          "execution_count": 19
        }
      ]
    },
    {
      "cell_type": "code",
      "metadata": {
        "id": "IV5ldt80BkSD",
        "colab_type": "code",
        "outputId": "c3f85175-9d37-4bac-8d13-82b02dbe9a1c",
        "colab": {
          "base_uri": "https://localhost:8080/",
          "height": 34
        }
      },
      "source": [
        "l == None"
      ],
      "execution_count": 0,
      "outputs": [
        {
          "output_type": "execute_result",
          "data": {
            "text/plain": [
              "False"
            ]
          },
          "metadata": {
            "tags": []
          },
          "execution_count": 20
        }
      ]
    },
    {
      "cell_type": "markdown",
      "metadata": {
        "id": "ukj-PnmJlu0J",
        "colab_type": "text"
      },
      "source": [
        "## 11.Everything is and Object"
      ]
    },
    {
      "cell_type": "markdown",
      "metadata": {
        "id": "sqHe5rq-mrCo",
        "colab_type": "text"
      },
      "source": [
        "![alt text](https://drive.google.com/uc?id=1p_h7Kee_o2B-9vNezsILTyVoF7JK2kZU)\n",
        "![alt text](https://drive.google.com/uc?id=1a0NK0KfEqjLSIBKGnFK8y1EDtPmkOSTj)\n",
        "</br>\n",
        "</br>\n",
        "</br>\n",
        "\n",
        "What actually make Python powerful are next consequences of everythin as an object:"
      ]
    },
    {
      "cell_type": "markdown",
      "metadata": {
        "id": "ThwmYw-opnam",
        "colab_type": "text"
      },
      "source": [
        "![alt text](https://drive.google.com/uc?id=1cFG1R2Rd_b3HFfZ1NX_kmaIEPvGT01-m)\n",
        "</br>\n",
        "</br>\n",
        "</br>\n",
        "There is also one thing to note:"
      ]
    },
    {
      "cell_type": "markdown",
      "metadata": {
        "id": "t3l3i8QiqNAZ",
        "colab_type": "text"
      },
      "source": [
        "![alt text](https://drive.google.com/uc?id=18vzVaAophDNK1eg4aSCHjlDExrMEE7mf)"
      ]
    },
    {
      "cell_type": "markdown",
      "metadata": {
        "id": "jTfl0lMDrYoT",
        "colab_type": "text"
      },
      "source": [
        "We can even request the class documentation:"
      ]
    },
    {
      "cell_type": "code",
      "metadata": {
        "id": "1GoAAb8pBksU",
        "colab_type": "code",
        "colab": {
          "base_uri": "https://localhost:8080/",
          "height": 1000
        },
        "outputId": "446d4592-83dc-44f1-9202-0e98bab1bf50"
      },
      "source": [
        "help(int)"
      ],
      "execution_count": 1,
      "outputs": [
        {
          "output_type": "stream",
          "text": [
            "Help on class int in module builtins:\n",
            "\n",
            "class int(object)\n",
            " |  int(x=0) -> integer\n",
            " |  int(x, base=10) -> integer\n",
            " |  \n",
            " |  Convert a number or string to an integer, or return 0 if no arguments\n",
            " |  are given.  If x is a number, return x.__int__().  For floating point\n",
            " |  numbers, this truncates towards zero.\n",
            " |  \n",
            " |  If x is not a number or if base is given, then x must be a string,\n",
            " |  bytes, or bytearray instance representing an integer literal in the\n",
            " |  given base.  The literal can be preceded by '+' or '-' and be surrounded\n",
            " |  by whitespace.  The base defaults to 10.  Valid bases are 0 and 2-36.\n",
            " |  Base 0 means to interpret the base from the string as an integer literal.\n",
            " |  >>> int('0b100', base=0)\n",
            " |  4\n",
            " |  \n",
            " |  Methods defined here:\n",
            " |  \n",
            " |  __abs__(self, /)\n",
            " |      abs(self)\n",
            " |  \n",
            " |  __add__(self, value, /)\n",
            " |      Return self+value.\n",
            " |  \n",
            " |  __and__(self, value, /)\n",
            " |      Return self&value.\n",
            " |  \n",
            " |  __bool__(self, /)\n",
            " |      self != 0\n",
            " |  \n",
            " |  __ceil__(...)\n",
            " |      Ceiling of an Integral returns itself.\n",
            " |  \n",
            " |  __divmod__(self, value, /)\n",
            " |      Return divmod(self, value).\n",
            " |  \n",
            " |  __eq__(self, value, /)\n",
            " |      Return self==value.\n",
            " |  \n",
            " |  __float__(self, /)\n",
            " |      float(self)\n",
            " |  \n",
            " |  __floor__(...)\n",
            " |      Flooring an Integral returns itself.\n",
            " |  \n",
            " |  __floordiv__(self, value, /)\n",
            " |      Return self//value.\n",
            " |  \n",
            " |  __format__(...)\n",
            " |      default object formatter\n",
            " |  \n",
            " |  __ge__(self, value, /)\n",
            " |      Return self>=value.\n",
            " |  \n",
            " |  __getattribute__(self, name, /)\n",
            " |      Return getattr(self, name).\n",
            " |  \n",
            " |  __getnewargs__(...)\n",
            " |  \n",
            " |  __gt__(self, value, /)\n",
            " |      Return self>value.\n",
            " |  \n",
            " |  __hash__(self, /)\n",
            " |      Return hash(self).\n",
            " |  \n",
            " |  __index__(self, /)\n",
            " |      Return self converted to an integer, if self is suitable for use as an index into a list.\n",
            " |  \n",
            " |  __int__(self, /)\n",
            " |      int(self)\n",
            " |  \n",
            " |  __invert__(self, /)\n",
            " |      ~self\n",
            " |  \n",
            " |  __le__(self, value, /)\n",
            " |      Return self<=value.\n",
            " |  \n",
            " |  __lshift__(self, value, /)\n",
            " |      Return self<<value.\n",
            " |  \n",
            " |  __lt__(self, value, /)\n",
            " |      Return self<value.\n",
            " |  \n",
            " |  __mod__(self, value, /)\n",
            " |      Return self%value.\n",
            " |  \n",
            " |  __mul__(self, value, /)\n",
            " |      Return self*value.\n",
            " |  \n",
            " |  __ne__(self, value, /)\n",
            " |      Return self!=value.\n",
            " |  \n",
            " |  __neg__(self, /)\n",
            " |      -self\n",
            " |  \n",
            " |  __new__(*args, **kwargs) from builtins.type\n",
            " |      Create and return a new object.  See help(type) for accurate signature.\n",
            " |  \n",
            " |  __or__(self, value, /)\n",
            " |      Return self|value.\n",
            " |  \n",
            " |  __pos__(self, /)\n",
            " |      +self\n",
            " |  \n",
            " |  __pow__(self, value, mod=None, /)\n",
            " |      Return pow(self, value, mod).\n",
            " |  \n",
            " |  __radd__(self, value, /)\n",
            " |      Return value+self.\n",
            " |  \n",
            " |  __rand__(self, value, /)\n",
            " |      Return value&self.\n",
            " |  \n",
            " |  __rdivmod__(self, value, /)\n",
            " |      Return divmod(value, self).\n",
            " |  \n",
            " |  __repr__(self, /)\n",
            " |      Return repr(self).\n",
            " |  \n",
            " |  __rfloordiv__(self, value, /)\n",
            " |      Return value//self.\n",
            " |  \n",
            " |  __rlshift__(self, value, /)\n",
            " |      Return value<<self.\n",
            " |  \n",
            " |  __rmod__(self, value, /)\n",
            " |      Return value%self.\n",
            " |  \n",
            " |  __rmul__(self, value, /)\n",
            " |      Return value*self.\n",
            " |  \n",
            " |  __ror__(self, value, /)\n",
            " |      Return value|self.\n",
            " |  \n",
            " |  __round__(...)\n",
            " |      Rounding an Integral returns itself.\n",
            " |      Rounding with an ndigits argument also returns an integer.\n",
            " |  \n",
            " |  __rpow__(self, value, mod=None, /)\n",
            " |      Return pow(value, self, mod).\n",
            " |  \n",
            " |  __rrshift__(self, value, /)\n",
            " |      Return value>>self.\n",
            " |  \n",
            " |  __rshift__(self, value, /)\n",
            " |      Return self>>value.\n",
            " |  \n",
            " |  __rsub__(self, value, /)\n",
            " |      Return value-self.\n",
            " |  \n",
            " |  __rtruediv__(self, value, /)\n",
            " |      Return value/self.\n",
            " |  \n",
            " |  __rxor__(self, value, /)\n",
            " |      Return value^self.\n",
            " |  \n",
            " |  __sizeof__(...)\n",
            " |      Returns size in memory, in bytes\n",
            " |  \n",
            " |  __str__(self, /)\n",
            " |      Return str(self).\n",
            " |  \n",
            " |  __sub__(self, value, /)\n",
            " |      Return self-value.\n",
            " |  \n",
            " |  __truediv__(self, value, /)\n",
            " |      Return self/value.\n",
            " |  \n",
            " |  __trunc__(...)\n",
            " |      Truncating an Integral returns itself.\n",
            " |  \n",
            " |  __xor__(self, value, /)\n",
            " |      Return self^value.\n",
            " |  \n",
            " |  bit_length(...)\n",
            " |      int.bit_length() -> int\n",
            " |      \n",
            " |      Number of bits necessary to represent self in binary.\n",
            " |      >>> bin(37)\n",
            " |      '0b100101'\n",
            " |      >>> (37).bit_length()\n",
            " |      6\n",
            " |  \n",
            " |  conjugate(...)\n",
            " |      Returns self, the complex conjugate of any int.\n",
            " |  \n",
            " |  from_bytes(...) from builtins.type\n",
            " |      int.from_bytes(bytes, byteorder, *, signed=False) -> int\n",
            " |      \n",
            " |      Return the integer represented by the given array of bytes.\n",
            " |      \n",
            " |      The bytes argument must be a bytes-like object (e.g. bytes or bytearray).\n",
            " |      \n",
            " |      The byteorder argument determines the byte order used to represent the\n",
            " |      integer.  If byteorder is 'big', the most significant byte is at the\n",
            " |      beginning of the byte array.  If byteorder is 'little', the most\n",
            " |      significant byte is at the end of the byte array.  To request the native\n",
            " |      byte order of the host system, use `sys.byteorder' as the byte order value.\n",
            " |      \n",
            " |      The signed keyword-only argument indicates whether two's complement is\n",
            " |      used to represent the integer.\n",
            " |  \n",
            " |  to_bytes(...)\n",
            " |      int.to_bytes(length, byteorder, *, signed=False) -> bytes\n",
            " |      \n",
            " |      Return an array of bytes representing an integer.\n",
            " |      \n",
            " |      The integer is represented using length bytes.  An OverflowError is\n",
            " |      raised if the integer is not representable with the given number of\n",
            " |      bytes.\n",
            " |      \n",
            " |      The byteorder argument determines the byte order used to represent the\n",
            " |      integer.  If byteorder is 'big', the most significant byte is at the\n",
            " |      beginning of the byte array.  If byteorder is 'little', the most\n",
            " |      significant byte is at the end of the byte array.  To request the native\n",
            " |      byte order of the host system, use `sys.byteorder' as the byte order value.\n",
            " |      \n",
            " |      The signed keyword-only argument determines whether two's complement is\n",
            " |      used to represent the integer.  If signed is False and a negative integer\n",
            " |      is given, an OverflowError is raised.\n",
            " |  \n",
            " |  ----------------------------------------------------------------------\n",
            " |  Data descriptors defined here:\n",
            " |  \n",
            " |  denominator\n",
            " |      the denominator of a rational number in lowest terms\n",
            " |  \n",
            " |  imag\n",
            " |      the imaginary part of a complex number\n",
            " |  \n",
            " |  numerator\n",
            " |      the numerator of a rational number in lowest terms\n",
            " |  \n",
            " |  real\n",
            " |      the real part of a complex number\n",
            "\n"
          ],
          "name": "stdout"
        }
      ]
    },
    {
      "cell_type": "markdown",
      "metadata": {
        "id": "CJgU5CwNrjGs",
        "colab_type": "text"
      },
      "source": [
        "As we see from the docs, we can even create an **int** using an overloaded constructor:"
      ]
    },
    {
      "cell_type": "code",
      "metadata": {
        "id": "lur_IWL9rbFC",
        "colab_type": "code",
        "colab": {
          "base_uri": "https://localhost:8080/",
          "height": 51
        },
        "outputId": "4702161b-49f2-4536-f60b-2605e0c85d8a"
      },
      "source": [
        "b = int('10', base=2)\n",
        "print(b)\n",
        "print(type(b))"
      ],
      "execution_count": 2,
      "outputs": [
        {
          "output_type": "stream",
          "text": [
            "2\n",
            "<class 'int'>\n"
          ],
          "name": "stdout"
        }
      ]
    },
    {
      "cell_type": "markdown",
      "metadata": {
        "id": "isX-l7XPrsno",
        "colab_type": "text"
      },
      "source": [
        "### Functions are Objects too\n",
        "---"
      ]
    },
    {
      "cell_type": "code",
      "metadata": {
        "id": "KsM0fyDerpXZ",
        "colab_type": "code",
        "colab": {
          "base_uri": "https://localhost:8080/",
          "height": 34
        },
        "outputId": "635e683f-0241-4229-8cd6-d04638c6acce"
      },
      "source": [
        "def square(a):\n",
        "    return a ** 2\n",
        "\n",
        "type(square)"
      ],
      "execution_count": 4,
      "outputs": [
        {
          "output_type": "execute_result",
          "data": {
            "text/plain": [
              "function"
            ]
          },
          "metadata": {
            "tags": []
          },
          "execution_count": 4
        }
      ]
    },
    {
      "cell_type": "markdown",
      "metadata": {
        "id": "sMvPvvimrz7p",
        "colab_type": "text"
      },
      "source": [
        "In fact, we can even assign them to a variable:"
      ]
    },
    {
      "cell_type": "code",
      "metadata": {
        "id": "QFyg_-NOrukf",
        "colab_type": "code",
        "colab": {
          "base_uri": "https://localhost:8080/",
          "height": 51
        },
        "outputId": "d42aac4f-8877-4fd0-ced6-af6a9a34334e"
      },
      "source": [
        "f = square\n",
        "type(f)\n",
        "print(f\"f is square \\n{f is square}\")"
      ],
      "execution_count": 8,
      "outputs": [
        {
          "output_type": "stream",
          "text": [
            "f is square \n",
            "True\n"
          ],
          "name": "stdout"
        }
      ]
    },
    {
      "cell_type": "markdown",
      "metadata": {
        "id": "Dv7Kmxg5sQYO",
        "colab_type": "text"
      },
      "source": [
        "A function can return a function"
      ]
    },
    {
      "cell_type": "code",
      "metadata": {
        "id": "hxdxykQir4ik",
        "colab_type": "code",
        "colab": {
          "base_uri": "https://localhost:8080/",
          "height": 153
        },
        "outputId": "ebeb4461-a755-4826-aed3-c37cfce7105c"
      },
      "source": [
        "def cube(a):\n",
        "    return a ** 3\n",
        "\n",
        "def select_function(fn_id):\n",
        "    if fn_id == 1:\n",
        "        return square\n",
        "    else:\n",
        "        return cube\n",
        "\n",
        "f = select_function(1)\n",
        "print(hex(id(f)))\n",
        "print(hex(id(square)))\n",
        "print(hex(id(cube)))\n",
        "print(type(f))\n",
        "print('f is square: ', f is square)\n",
        "print('f is cube: ', f is cube)\n",
        "print(f)\n",
        "print(f(2))"
      ],
      "execution_count": 7,
      "outputs": [
        {
          "output_type": "stream",
          "text": [
            "0x7ff538b55f28\n",
            "0x7ff538b55f28\n",
            "0x7ff538b51730\n",
            "<class 'function'>\n",
            "f is square:  True\n",
            "f is cube:  False\n",
            "<function square at 0x7ff538b55f28>\n",
            "4\n"
          ],
          "name": "stdout"
        }
      ]
    },
    {
      "cell_type": "code",
      "metadata": {
        "id": "G583u_RgsU6c",
        "colab_type": "code",
        "colab": {
          "base_uri": "https://localhost:8080/",
          "height": 153
        },
        "outputId": "66292814-c5d8-449f-da66-e71290aed85b"
      },
      "source": [
        "f = select_function(2)\n",
        "print(hex(id(f)))\n",
        "print(hex(id(square)))\n",
        "print(hex(id(cube)))\n",
        "print(type(f))\n",
        "print('f is square: ', f is square)\n",
        "print('f is cube: ', f is cube)\n",
        "print(f)\n",
        "print(f(2))"
      ],
      "execution_count": 9,
      "outputs": [
        {
          "output_type": "stream",
          "text": [
            "0x7ff538b51730\n",
            "0x7ff538b55f28\n",
            "0x7ff538b51730\n",
            "<class 'function'>\n",
            "f is square:  False\n",
            "f is cube:  True\n",
            "<function cube at 0x7ff538b51730>\n",
            "8\n"
          ],
          "name": "stdout"
        }
      ]
    },
    {
      "cell_type": "markdown",
      "metadata": {
        "id": "NIGURniDtJgt",
        "colab_type": "text"
      },
      "source": [
        "We could even call it this way:"
      ]
    },
    {
      "cell_type": "code",
      "metadata": {
        "id": "jp3Qfs_UtGn4",
        "colab_type": "code",
        "colab": {
          "base_uri": "https://localhost:8080/",
          "height": 34
        },
        "outputId": "f1a3cd57-1d21-47b3-cf76-3bd35d535377"
      },
      "source": [
        "select_function(1)(5)"
      ],
      "execution_count": 10,
      "outputs": [
        {
          "output_type": "execute_result",
          "data": {
            "text/plain": [
              "25"
            ]
          },
          "metadata": {
            "tags": []
          },
          "execution_count": 10
        }
      ]
    },
    {
      "cell_type": "markdown",
      "metadata": {
        "id": "MJqeLjeCtPcp",
        "colab_type": "text"
      },
      "source": [
        "A Function can be passed as an argument to another function\n",
        "\n",
        "(This example is pretty useless, but it illustrates the point effectively)"
      ]
    },
    {
      "cell_type": "code",
      "metadata": {
        "id": "fuL48oGBtMMI",
        "colab_type": "code",
        "colab": {
          "base_uri": "https://localhost:8080/",
          "height": 34
        },
        "outputId": "17581937-f8ea-4b57-b29a-76fb33b98d67"
      },
      "source": [
        "def exec_function(fn, n):\n",
        "    return fn(n)\n",
        "\n",
        "result = exec_function(cube, 2)\n",
        "print(result)"
      ],
      "execution_count": 11,
      "outputs": [
        {
          "output_type": "stream",
          "text": [
            "8\n"
          ],
          "name": "stdout"
        }
      ]
    },
    {
      "cell_type": "code",
      "metadata": {
        "id": "PUgPe8G1tU9S",
        "colab_type": "code",
        "colab": {
          "base_uri": "https://localhost:8080/",
          "height": 34
        },
        "outputId": "dae9e65d-c7de-4d93-cb49-e88e66edc81f"
      },
      "source": [
        "select_function(2)(5) # Here we determine to use CUBE function and pass it value of 5, i.e. 5**3"
      ],
      "execution_count": 13,
      "outputs": [
        {
          "output_type": "execute_result",
          "data": {
            "text/plain": [
              "125"
            ]
          },
          "metadata": {
            "tags": []
          },
          "execution_count": 13
        }
      ]
    },
    {
      "cell_type": "markdown",
      "metadata": {
        "id": "5wK-So4Svkj0",
        "colab_type": "text"
      },
      "source": [
        "## 12.Python OPtimization: INTERNING"
      ]
    },
    {
      "cell_type": "markdown",
      "metadata": {
        "id": "oedEhToUwyPU",
        "colab_type": "text"
      },
      "source": [
        "![alt text](https://drive.google.com/uc?id=1nnJ8TsRgZXVMixVHvydCuXhav2EGaPuk)\n",
        "</br>\n",
        "In this Python Course 3.6. i used."
      ]
    },
    {
      "cell_type": "markdown",
      "metadata": {
        "id": "1EC9xFFkxbEe",
        "colab_type": "text"
      },
      "source": [
        "![alt text](https://drive.google.com/uc?id=1Q07_owH20mNdcVeYuO8R3jdXJ8LdlMX_)\n",
        "</br>\n",
        "</br>\n",
        "</br>\n",
        "But wait WTF!?!?!?"
      ]
    },
    {
      "cell_type": "code",
      "metadata": {
        "id": "cCNBOT4Dtxnw",
        "colab_type": "code",
        "colab": {}
      },
      "source": [
        ""
      ],
      "execution_count": 0,
      "outputs": []
    }
  ]
}