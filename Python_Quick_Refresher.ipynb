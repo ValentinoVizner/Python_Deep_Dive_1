{
  "nbformat": 4,
  "nbformat_minor": 0,
  "metadata": {
    "colab": {
      "name": "Untitled3.ipynb",
      "provenance": [],
      "include_colab_link": true
    },
    "kernelspec": {
      "name": "python3",
      "display_name": "Python 3"
    }
  },
  "cells": [
    {
      "cell_type": "markdown",
      "metadata": {
        "id": "view-in-github",
        "colab_type": "text"
      },
      "source": [
        "<a href=\"https://colab.research.google.com/github/ValentinoVizner/Python_Deep_Dive_1/blob/master/Python_Quick_Refresher.ipynb\" target=\"_parent\"><img src=\"https://colab.research.google.com/assets/colab-badge.svg\" alt=\"Open In Colab\"/></a>"
      ]
    },
    {
      "cell_type": "markdown",
      "metadata": {
        "id": "Dlx3vZGt8GdO",
        "colab_type": "text"
      },
      "source": [
        "# 1. Python Type Hierarchy!"
      ]
    },
    {
      "cell_type": "markdown",
      "metadata": {
        "id": "dW7wy4ML9gyG",
        "colab_type": "text"
      },
      "source": [
        "![alt text](https://drive.google.com/uc?id=15MxhJdymQytowd1EQxCleIkdgOOtYWy6) ![alt text](https://drive.google.com/uc?id=13Usk9j2ygWmJSbySXslA_YEJLmyJcjMs) ![alt text](https://drive.google.com/uc?id=1CbC2PSfZhmueUWg7Tis2kVNPt7qlTOhF)"
      ]
    },
    {
      "cell_type": "markdown",
      "metadata": {
        "id": "yBbFWK0--xg3",
        "colab_type": "text"
      },
      "source": [
        "# 2. Multi-line strings and statements"
      ]
    },
    {
      "cell_type": "markdown",
      "metadata": {
        "id": "2eukGbiX-61O",
        "colab_type": "text"
      },
      "source": [
        "![alt text](https://drive.google.com/uc?id=1iSiXivW7YDj-mZmrBTm-hGJhwtrTUETR)\n",
        "![alt text](https://drive.google.com/uc?id=1VH1lPdHNx5_WhFys_8wwkniBy7A0JIjz)\n",
        "![alt text](https://drive.google.com/uc?id=192_wk6M6YFIrTXaKu6xr9UN8PLGymEaG)\n",
        "![alt text](https://drive.google.com/uc?id=1yssu6D18TbNbt6TwVNVNOlpXQPNwbG3C)"
      ]
    },
    {
      "cell_type": "code",
      "metadata": {
        "id": "VqWSGT2K8Nuy",
        "colab_type": "code",
        "outputId": "d0f43d13-df09-4c77-f85e-bad9017e176d",
        "colab": {
          "base_uri": "https://localhost:8080/",
          "height": 34
        }
      },
      "source": [
        "a = [1, \n",
        "    2, \n",
        "    3]\n",
        "a"
      ],
      "execution_count": 0,
      "outputs": [
        {
          "output_type": "execute_result",
          "data": {
            "text/plain": [
              "[1, 2, 3]"
            ]
          },
          "metadata": {
            "tags": []
          },
          "execution_count": 1
        }
      ]
    },
    {
      "cell_type": "code",
      "metadata": {
        "id": "j6gDAN7LxqUk",
        "colab_type": "code",
        "outputId": "0b229230-215d-4402-9c4e-8a3be4e58345",
        "colab": {
          "base_uri": "https://localhost:8080/",
          "height": 34
        }
      },
      "source": [
        "a = [1, #first element\n",
        "    2, #second element\n",
        "    3, #third element\n",
        "    ]\n",
        "\n",
        "a"
      ],
      "execution_count": 0,
      "outputs": [
        {
          "output_type": "execute_result",
          "data": {
            "text/plain": [
              "[1, 2, 3]"
            ]
          },
          "metadata": {
            "tags": []
          },
          "execution_count": 2
        }
      ]
    },
    {
      "cell_type": "markdown",
      "metadata": {
        "id": "Eczy6y5gx0XW",
        "colab_type": "text"
      },
      "source": [
        "\n",
        "\n",
        "Note if you do use comments, you must close off the collection on a new line.\n",
        "\n",
        "i.e. the following will not work since the closing ] is actually part of the comment:"
      ]
    },
    {
      "cell_type": "code",
      "metadata": {
        "id": "a51dBjNrxv_H",
        "colab_type": "code",
        "outputId": "60c378fd-5a1a-490f-acc6-8129bd76d8a6",
        "colab": {
          "base_uri": "https://localhost:8080/",
          "height": 129
        }
      },
      "source": [
        "a = [1, # first element\n",
        "    2 #second element]"
      ],
      "execution_count": 0,
      "outputs": [
        {
          "output_type": "error",
          "ename": "SyntaxError",
          "evalue": "ignored",
          "traceback": [
            "\u001b[0;36m  File \u001b[0;32m\"<ipython-input-3-6b11c8b986e4>\"\u001b[0;36m, line \u001b[0;32m2\u001b[0m\n\u001b[0;31m    2 #second element]\u001b[0m\n\u001b[0m                      ^\u001b[0m\n\u001b[0;31mSyntaxError\u001b[0m\u001b[0;31m:\u001b[0m unexpected EOF while parsing\n"
          ]
        }
      ]
    },
    {
      "cell_type": "markdown",
      "metadata": {
        "id": "-UywwdXax8Zj",
        "colab_type": "text"
      },
      "source": [
        "This works the same way for tuples, sets, and dictionaries."
      ]
    },
    {
      "cell_type": "code",
      "metadata": {
        "id": "VSXvAdNtx5S5",
        "colab_type": "code",
        "outputId": "57eae775-4ecd-48bb-a029-a5387dbec73c",
        "colab": {
          "base_uri": "https://localhost:8080/",
          "height": 34
        }
      },
      "source": [
        "a = (1, # first element\n",
        "    2, #second element\n",
        "    3, #third element\n",
        "    )\n",
        "a"
      ],
      "execution_count": 0,
      "outputs": [
        {
          "output_type": "execute_result",
          "data": {
            "text/plain": [
              "(1, 2, 3)"
            ]
          },
          "metadata": {
            "tags": []
          },
          "execution_count": 4
        }
      ]
    },
    {
      "cell_type": "code",
      "metadata": {
        "id": "9tIKu6dBx_jU",
        "colab_type": "code",
        "outputId": "c582af41-68cd-4bf1-c5b8-7640f7725e01",
        "colab": {
          "base_uri": "https://localhost:8080/",
          "height": 34
        }
      },
      "source": [
        "a = {1, # first element\n",
        "    2, #second element\n",
        "    }\n",
        "a"
      ],
      "execution_count": 0,
      "outputs": [
        {
          "output_type": "execute_result",
          "data": {
            "text/plain": [
              "{1, 2}"
            ]
          },
          "metadata": {
            "tags": []
          },
          "execution_count": 5
        }
      ]
    },
    {
      "cell_type": "code",
      "metadata": {
        "id": "aol_4TYxyCf1",
        "colab_type": "code",
        "outputId": "eff88d40-620b-4d6b-f6a6-2a179b76e47a",
        "colab": {
          "base_uri": "https://localhost:8080/",
          "height": 34
        }
      },
      "source": [
        "a = {'key1': 'value1', #comment,\n",
        "    'key2': #comment\n",
        "    'value2' #comment\n",
        "    }\n",
        "a"
      ],
      "execution_count": 0,
      "outputs": [
        {
          "output_type": "execute_result",
          "data": {
            "text/plain": [
              "{'key1': 'value1', 'key2': 'value2'}"
            ]
          },
          "metadata": {
            "tags": []
          },
          "execution_count": 6
        }
      ]
    },
    {
      "cell_type": "markdown",
      "metadata": {
        "id": "kMCrMg-DyMUS",
        "colab_type": "text"
      },
      "source": [
        "We can also break up function arguments and parameters:"
      ]
    },
    {
      "cell_type": "code",
      "metadata": {
        "id": "7IIBU_x9yHvo",
        "colab_type": "code",
        "colab": {}
      },
      "source": [
        "def my_func(a, #some comment\n",
        "           b, c):\n",
        "    print(a, b, c)"
      ],
      "execution_count": 0,
      "outputs": []
    },
    {
      "cell_type": "code",
      "metadata": {
        "id": "evTADJ9wyO20",
        "colab_type": "code",
        "outputId": "699a8cdf-13c8-4db3-c61a-1bfcf6d96a13",
        "colab": {
          "base_uri": "https://localhost:8080/",
          "height": 34
        }
      },
      "source": [
        "my_func(10, #comment\n",
        "       20, #comment\n",
        "       30)"
      ],
      "execution_count": 0,
      "outputs": [
        {
          "output_type": "stream",
          "text": [
            "10 20 30\n"
          ],
          "name": "stdout"
        }
      ]
    },
    {
      "cell_type": "markdown",
      "metadata": {
        "id": "ACSy6-WvyW5y",
        "colab_type": "text"
      },
      "source": [
        "#### Explicit Examples\n",
        "You can use the \\ character to explicitly create multi-line statements."
      ]
    },
    {
      "cell_type": "code",
      "metadata": {
        "id": "rhLabLTWyQ5n",
        "colab_type": "code",
        "outputId": "35066c4a-9910-488a-a31d-f5d6883143f6",
        "colab": {
          "base_uri": "https://localhost:8080/",
          "height": 34
        }
      },
      "source": [
        "a = 10\n",
        "b = 20\n",
        "c = 30\n",
        "if a > 5 \\\n",
        "    and b > 10 \\\n",
        "    and c > 20:\n",
        "    print('yes!!')"
      ],
      "execution_count": 0,
      "outputs": [
        {
          "output_type": "stream",
          "text": [
            "yes!!\n"
          ],
          "name": "stdout"
        }
      ]
    },
    {
      "cell_type": "markdown",
      "metadata": {
        "id": "A5lIArMFynUh",
        "colab_type": "text"
      },
      "source": [
        "The identation in continued-lines does not matter:"
      ]
    },
    {
      "cell_type": "code",
      "metadata": {
        "id": "VyCCBx9ryTdO",
        "colab_type": "code",
        "outputId": "85e40292-c288-4416-9565-ba712180a3fd",
        "colab": {
          "base_uri": "https://localhost:8080/",
          "height": 34
        }
      },
      "source": [
        "a = 10\n",
        "b = 20\n",
        "c = 30\n",
        "if a > 5 \\\n",
        "    and b > 10 \\\n",
        "        and c > 20:\n",
        "    print('yes!!')"
      ],
      "execution_count": 0,
      "outputs": [
        {
          "output_type": "stream",
          "text": [
            "yes!!\n"
          ],
          "name": "stdout"
        }
      ]
    },
    {
      "cell_type": "markdown",
      "metadata": {
        "id": "FnJ31CT2ywz5",
        "colab_type": "text"
      },
      "source": [
        "#### Multi-Line Strings\n",
        "You can create multi-line strings by using triple delimiters (single or double quotes)"
      ]
    },
    {
      "cell_type": "code",
      "metadata": {
        "id": "ViwfOSNoyq0D",
        "colab_type": "code",
        "outputId": "52fc9db6-5510-4a4d-8fb5-b79ba8bf79db",
        "colab": {
          "base_uri": "https://localhost:8080/",
          "height": 51
        }
      },
      "source": [
        "a = '''this is\n",
        "a multi-line string'''\n",
        "print(a)"
      ],
      "execution_count": 0,
      "outputs": [
        {
          "output_type": "stream",
          "text": [
            "this is\n",
            "a multi-line string\n"
          ],
          "name": "stdout"
        }
      ]
    },
    {
      "cell_type": "markdown",
      "metadata": {
        "id": "a32nQTGLzFC8",
        "colab_type": "text"
      },
      "source": [
        "Be careful if you indent your multi-line strings - the extra spaces are preserved!"
      ]
    },
    {
      "cell_type": "code",
      "metadata": {
        "id": "SBV-S3ULzDmz",
        "colab_type": "code",
        "colab": {}
      },
      "source": [
        "def my_func():\n",
        "    a = '''a multi-line string\n",
        "    that is actually indented in the second line'''\n",
        "    return a"
      ],
      "execution_count": 0,
      "outputs": []
    },
    {
      "cell_type": "code",
      "metadata": {
        "id": "oktrWTLZzHTp",
        "colab_type": "code",
        "outputId": "ffb8e6b2-cfc1-436a-ed5a-88c9a8bb7f65",
        "colab": {
          "base_uri": "https://localhost:8080/",
          "height": 51
        }
      },
      "source": [
        "print(my_func())"
      ],
      "execution_count": 0,
      "outputs": [
        {
          "output_type": "stream",
          "text": [
            "a multi-line string\n",
            "    that is actually indented in the second line\n"
          ],
          "name": "stdout"
        }
      ]
    },
    {
      "cell_type": "code",
      "metadata": {
        "id": "Zz3jY2AqzIvh",
        "colab_type": "code",
        "colab": {}
      },
      "source": [
        "def my_func():\n",
        "    a = '''a multi-line string\n",
        "that is not indented in the second line'''\n",
        "    return a"
      ],
      "execution_count": 0,
      "outputs": []
    },
    {
      "cell_type": "code",
      "metadata": {
        "id": "ZzZkZHJSzLm1",
        "colab_type": "code",
        "outputId": "b5003d4d-0933-476f-8165-0e5d26b7304c",
        "colab": {
          "base_uri": "https://localhost:8080/",
          "height": 51
        }
      },
      "source": [
        "print(my_func())"
      ],
      "execution_count": 0,
      "outputs": [
        {
          "output_type": "stream",
          "text": [
            "a multi-line string\n",
            "that is not indented in the second line\n"
          ],
          "name": "stdout"
        }
      ]
    },
    {
      "cell_type": "markdown",
      "metadata": {
        "id": "w0S6fmoW0fBr",
        "colab_type": "text"
      },
      "source": [
        "# 3. Variable names"
      ]
    },
    {
      "cell_type": "markdown",
      "metadata": {
        "id": "jUhi6L1u1ZYq",
        "colab_type": "text"
      },
      "source": [
        "![alt text](https://drive.google.com/uc?id=1wEvPWKaeK28QVUkxEw2sTiRnU9Jwi09D)"
      ]
    },
    {
      "cell_type": "markdown",
      "metadata": {
        "id": "TeYaOE4Q2qq7",
        "colab_type": "text"
      },
      "source": [
        "![alt text](https://drive.google.com/uc?id=1Dz3V2qabTIHG4e6NEpU-F6TT8bUbSQcs)"
      ]
    },
    {
      "cell_type": "markdown",
      "metadata": {
        "id": "EgO3zJj14rtO",
        "colab_type": "text"
      },
      "source": [
        "![alt text](https://drive.google.com/uc?id=1MQeeY-Q_azkNZzgbMdUOfIAUGRw2dXPD)"
      ]
    },
    {
      "cell_type": "markdown",
      "metadata": {
        "id": "6Tibqz6Of_8K",
        "colab_type": "text"
      },
      "source": [
        "# 4. CONDITIONALS"
      ]
    },
    {
      "cell_type": "markdown",
      "metadata": {
        "id": "kh1BLaapg0q_",
        "colab_type": "text"
      },
      "source": [
        "Python doesn't have SWITCH-CASE"
      ]
    },
    {
      "cell_type": "markdown",
      "metadata": {
        "id": "Nc46gBhlhuHK",
        "colab_type": "text"
      },
      "source": [
        "## Ternary Operator in Python\n",
        "Ternary operators also known as conditional expressions are operators that evaluate something based on a condition being true or false. It was added to Python in version 2.5.\n",
        "It simply allows to test a condition in a single line replacing the multiline if-else making the code compact.\n",
        "Syntax :\n",
        "\n",
        "    [on_true] if [expression] else [on_false] "
      ]
    },
    {
      "cell_type": "code",
      "metadata": {
        "id": "vixkb0CRzNAW",
        "colab_type": "code",
        "outputId": "db237d74-de91-49d6-b7d1-bc40dc366f15",
        "colab": {
          "base_uri": "https://localhost:8080/",
          "height": 34
        }
      },
      "source": [
        "# Nicer way then usual if-elif-else\n",
        "a = 5\n",
        "\n",
        "b = 'a < 5' if a < 5 else 'a >= 5'\n",
        "print(b)"
      ],
      "execution_count": 0,
      "outputs": [
        {
          "output_type": "stream",
          "text": [
            "a >= 5\n"
          ],
          "name": "stdout"
        }
      ]
    },
    {
      "cell_type": "markdown",
      "metadata": {
        "id": "ehF_tuztin6M",
        "colab_type": "text"
      },
      "source": [
        "Ternary returns a value, so we don't have to assigne a variable to it"
      ]
    },
    {
      "cell_type": "code",
      "metadata": {
        "id": "sega9EWtiR7x",
        "colab_type": "code",
        "outputId": "757b7912-824d-4f10-ea76-297ff0161386",
        "colab": {
          "base_uri": "https://localhost:8080/",
          "height": 34
        }
      },
      "source": [
        "'a < 5' if a < 5 else 'a >= 5'"
      ],
      "execution_count": 0,
      "outputs": [
        {
          "output_type": "execute_result",
          "data": {
            "text/plain": [
              "'a >= 5'"
            ]
          },
          "metadata": {
            "tags": []
          },
          "execution_count": 22
        }
      ]
    },
    {
      "cell_type": "markdown",
      "metadata": {
        "id": "FFgpTSjVjDRZ",
        "colab_type": "text"
      },
      "source": [
        "# 5. Functions"
      ]
    },
    {
      "cell_type": "markdown",
      "metadata": {
        "id": "6Z1HtlkPjPs8",
        "colab_type": "text"
      },
      "source": [
        "## BUILT-IN Functions"
      ]
    },
    {
      "cell_type": "code",
      "metadata": {
        "id": "q10J6Wp5i0Fd",
        "colab_type": "code",
        "outputId": "db8d1903-db3a-485f-9e89-4f11a679e535",
        "colab": {
          "base_uri": "https://localhost:8080/",
          "height": 34
        }
      },
      "source": [
        "a = [1,2,3]\n",
        "\n",
        "len(a)"
      ],
      "execution_count": 0,
      "outputs": [
        {
          "output_type": "execute_result",
          "data": {
            "text/plain": [
              "3"
            ]
          },
          "metadata": {
            "tags": []
          },
          "execution_count": 23
        }
      ]
    },
    {
      "cell_type": "markdown",
      "metadata": {
        "id": "25m1aUWLjYKl",
        "colab_type": "text"
      },
      "source": [
        "## Imported functions from some package i.e. module"
      ]
    },
    {
      "cell_type": "code",
      "metadata": {
        "id": "XpWiogKtjWJF",
        "colab_type": "code",
        "outputId": "55f797df-c1c4-4e66-dde0-85e135f38cd0",
        "colab": {
          "base_uri": "https://localhost:8080/",
          "height": 34
        }
      },
      "source": [
        "from math import sqrt\n",
        "\n",
        "sqrt(4)"
      ],
      "execution_count": 0,
      "outputs": [
        {
          "output_type": "execute_result",
          "data": {
            "text/plain": [
              "2.0"
            ]
          },
          "metadata": {
            "tags": []
          },
          "execution_count": 24
        }
      ]
    },
    {
      "cell_type": "code",
      "metadata": {
        "id": "Jt4UogzFj9T5",
        "colab_type": "code",
        "outputId": "ea514c2e-738d-4750-c779-c101b3d1ddab",
        "colab": {
          "base_uri": "https://localhost:8080/",
          "height": 51
        }
      },
      "source": [
        "import math\n",
        "\n",
        "print(math.pi)\n",
        "\n",
        "math.exp(1)"
      ],
      "execution_count": 0,
      "outputs": [
        {
          "output_type": "stream",
          "text": [
            "3.141592653589793\n"
          ],
          "name": "stdout"
        },
        {
          "output_type": "execute_result",
          "data": {
            "text/plain": [
              "2.718281828459045"
            ]
          },
          "metadata": {
            "tags": []
          },
          "execution_count": 27
        }
      ]
    },
    {
      "cell_type": "markdown",
      "metadata": {
        "id": "O8aaPCTJk-3Y",
        "colab_type": "text"
      },
      "source": [
        "## User definded functions"
      ]
    },
    {
      "cell_type": "code",
      "metadata": {
        "id": "4GUNBfCwkG34",
        "colab_type": "code",
        "colab": {}
      },
      "source": [
        "def my_func(a: int, b: float):\n",
        "    return a * b"
      ],
      "execution_count": 0,
      "outputs": []
    },
    {
      "cell_type": "code",
      "metadata": {
        "id": "oHVidVMSlKwT",
        "colab_type": "code",
        "outputId": "6fcaba42-3f0f-4ebd-8afb-09f347229b43",
        "colab": {
          "base_uri": "https://localhost:8080/",
          "height": 34
        }
      },
      "source": [
        "my_func(1, 2)"
      ],
      "execution_count": 0,
      "outputs": [
        {
          "output_type": "execute_result",
          "data": {
            "text/plain": [
              "2"
            ]
          },
          "metadata": {
            "tags": []
          },
          "execution_count": 29
        }
      ]
    },
    {
      "cell_type": "code",
      "metadata": {
        "id": "B34l0lOZlVBh",
        "colab_type": "code",
        "outputId": "5ef964a0-688a-4807-fa77-2da463fdcee4",
        "colab": {
          "base_uri": "https://localhost:8080/",
          "height": 34
        }
      },
      "source": [
        "my_func('a', 3)"
      ],
      "execution_count": 0,
      "outputs": [
        {
          "output_type": "execute_result",
          "data": {
            "text/plain": [
              "'aaa'"
            ]
          },
          "metadata": {
            "tags": []
          },
          "execution_count": 30
        }
      ]
    },
    {
      "cell_type": "code",
      "metadata": {
        "id": "Ds6uxdBilZvW",
        "colab_type": "code",
        "outputId": "d59477c8-1058-4b1e-a214-8617620f0b08",
        "colab": {
          "base_uri": "https://localhost:8080/",
          "height": 34
        }
      },
      "source": [
        "my_func([1, 2], 4)"
      ],
      "execution_count": 0,
      "outputs": [
        {
          "output_type": "execute_result",
          "data": {
            "text/plain": [
              "[1, 2, 1, 2, 1, 2, 1, 2]"
            ]
          },
          "metadata": {
            "tags": []
          },
          "execution_count": 31
        }
      ]
    },
    {
      "cell_type": "markdown",
      "metadata": {
        "id": "ac0HQohFlufp",
        "colab_type": "text"
      },
      "source": [
        " So we can see this is only type hinting in function it DOESN'T force our compiler to show error if the type is not satisfied"
      ]
    },
    {
      "cell_type": "markdown",
      "metadata": {
        "id": "F3IYkmQJmuaB",
        "colab_type": "text"
      },
      "source": [
        "Note that to \"call\" or \"invoke\" a function we need to use the ().\n",
        "\n",
        "Simply using the function name without the () refers to the function, but does not call it:"
      ]
    },
    {
      "cell_type": "code",
      "metadata": {
        "id": "oxecafGHleg2",
        "colab_type": "code",
        "outputId": "3f590cf4-4851-43ff-960c-b9b4b18778eb",
        "colab": {
          "base_uri": "https://localhost:8080/",
          "height": 34
        }
      },
      "source": [
        "my_func"
      ],
      "execution_count": 0,
      "outputs": [
        {
          "output_type": "execute_result",
          "data": {
            "text/plain": [
              "<function __main__.my_func>"
            ]
          },
          "metadata": {
            "tags": []
          },
          "execution_count": 32
        }
      ]
    },
    {
      "cell_type": "markdown",
      "metadata": {
        "id": "rQai-RAenj-1",
        "colab_type": "text"
      },
      "source": [
        "The def keyword is an executable piece of code that creates the function (an instance of the function class) and essentially assigns it to a variable name (the function name).\n",
        "\n",
        "Note that the function is defined when def is reached, but the code inside it is not evaluated until the function is called.\n",
        "\n",
        "This is why we can define functions that call other functions defined later - as long as we don't call them before all the necessary functions are defined."
      ]
    },
    {
      "cell_type": "code",
      "metadata": {
        "id": "xh-O-nk2mzIm",
        "colab_type": "code",
        "outputId": "f3ef3d25-07d2-481d-b2da-cb1e03340410",
        "colab": {
          "base_uri": "https://localhost:8080/",
          "height": 34
        }
      },
      "source": [
        "def fn_1():\n",
        "    fn_2()\n",
        "    \n",
        "def fn_2():\n",
        "    print('Hello')\n",
        "    \n",
        "fn_1()"
      ],
      "execution_count": 0,
      "outputs": [
        {
          "output_type": "stream",
          "text": [
            "Hello\n"
          ],
          "name": "stdout"
        }
      ]
    },
    {
      "cell_type": "markdown",
      "metadata": {
        "id": "C6Hwxzyjnuxp",
        "colab_type": "text"
      },
      "source": [
        "As long as we define functions and later on we call those functions after they are defined we don't get an error, Python doesn't care in which order we define functions."
      ]
    },
    {
      "cell_type": "code",
      "metadata": {
        "id": "N5NIqGw3ntZB",
        "colab_type": "code",
        "outputId": "1e03f1ce-e812-4107-a44c-c2a829fe7c22",
        "colab": {
          "base_uri": "https://localhost:8080/",
          "height": 350
        }
      },
      "source": [
        "def fn_3():\n",
        "    fn_4()\n",
        "\n",
        "fn_3()\n",
        "\n",
        "def fn_4():\n",
        "    print('Hello')"
      ],
      "execution_count": 0,
      "outputs": [
        {
          "output_type": "error",
          "ename": "NameError",
          "evalue": "ignored",
          "traceback": [
            "\u001b[0;31m---------------------------------------------------------------------------\u001b[0m",
            "\u001b[0;31mNameError\u001b[0m                                 Traceback (most recent call last)",
            "\u001b[0;32m<ipython-input-34-00a74014e7cd>\u001b[0m in \u001b[0;36m<module>\u001b[0;34m()\u001b[0m\n\u001b[1;32m      2\u001b[0m     \u001b[0mfn_4\u001b[0m\u001b[0;34m(\u001b[0m\u001b[0;34m)\u001b[0m\u001b[0;34m\u001b[0m\u001b[0;34m\u001b[0m\u001b[0m\n\u001b[1;32m      3\u001b[0m \u001b[0;34m\u001b[0m\u001b[0m\n\u001b[0;32m----> 4\u001b[0;31m \u001b[0mfn_3\u001b[0m\u001b[0;34m(\u001b[0m\u001b[0;34m)\u001b[0m\u001b[0;34m\u001b[0m\u001b[0;34m\u001b[0m\u001b[0m\n\u001b[0m\u001b[1;32m      5\u001b[0m \u001b[0;34m\u001b[0m\u001b[0m\n\u001b[1;32m      6\u001b[0m \u001b[0;32mdef\u001b[0m \u001b[0mfn_4\u001b[0m\u001b[0;34m(\u001b[0m\u001b[0;34m)\u001b[0m\u001b[0;34m:\u001b[0m\u001b[0;34m\u001b[0m\u001b[0;34m\u001b[0m\u001b[0m\n",
            "\u001b[0;32m<ipython-input-34-00a74014e7cd>\u001b[0m in \u001b[0;36mfn_3\u001b[0;34m()\u001b[0m\n\u001b[1;32m      1\u001b[0m \u001b[0;32mdef\u001b[0m \u001b[0mfn_3\u001b[0m\u001b[0;34m(\u001b[0m\u001b[0;34m)\u001b[0m\u001b[0;34m:\u001b[0m\u001b[0;34m\u001b[0m\u001b[0;34m\u001b[0m\u001b[0m\n\u001b[0;32m----> 2\u001b[0;31m     \u001b[0mfn_4\u001b[0m\u001b[0;34m(\u001b[0m\u001b[0;34m)\u001b[0m\u001b[0;34m\u001b[0m\u001b[0;34m\u001b[0m\u001b[0m\n\u001b[0m\u001b[1;32m      3\u001b[0m \u001b[0;34m\u001b[0m\u001b[0m\n\u001b[1;32m      4\u001b[0m \u001b[0mfn_3\u001b[0m\u001b[0;34m(\u001b[0m\u001b[0;34m)\u001b[0m\u001b[0;34m\u001b[0m\u001b[0;34m\u001b[0m\u001b[0m\n\u001b[1;32m      5\u001b[0m \u001b[0;34m\u001b[0m\u001b[0m\n",
            "\u001b[0;31mNameError\u001b[0m: name 'fn_4' is not defined"
          ]
        }
      ]
    },
    {
      "cell_type": "markdown",
      "metadata": {
        "id": "kqVrLWrsoOUK",
        "colab_type": "text"
      },
      "source": [
        "But if we invoke function before we define other function that uses function that is defined later on then we get an error.\n",
        "That is why dunder __main__ at the end is so useful"
      ]
    },
    {
      "cell_type": "markdown",
      "metadata": {
        "id": "WS3ta3Ntonhv",
        "colab_type": "text"
      },
      "source": [
        "We also have the lambda keyword, that also creates a new function, but does not assign it to any specific name - instead it just returns the function object - which we can, if we wish, assign to a variable ourselves.\n",
        "It is meant to be used as a ANONYMOUS FUNCTION, i.e. passed to other functions mainly"
      ]
    },
    {
      "cell_type": "code",
      "metadata": {
        "id": "ZnAfxuhaoLQg",
        "colab_type": "code",
        "colab": {}
      },
      "source": [
        "func_5 = lambda x: x**2"
      ],
      "execution_count": 0,
      "outputs": []
    },
    {
      "cell_type": "code",
      "metadata": {
        "id": "Plo-ehRbo_EV",
        "colab_type": "code",
        "outputId": "6f588751-10c3-4172-8806-94f20a146d40",
        "colab": {
          "base_uri": "https://localhost:8080/",
          "height": 34
        }
      },
      "source": [
        "func_5"
      ],
      "execution_count": 0,
      "outputs": [
        {
          "output_type": "execute_result",
          "data": {
            "text/plain": [
              "<function __main__.<lambda>>"
            ]
          },
          "metadata": {
            "tags": []
          },
          "execution_count": 37
        }
      ]
    },
    {
      "cell_type": "code",
      "metadata": {
        "id": "-sIRgkKppA1I",
        "colab_type": "code",
        "outputId": "47d0590b-f395-4399-eeda-7e9323f2dd24",
        "colab": {
          "base_uri": "https://localhost:8080/",
          "height": 34
        }
      },
      "source": [
        "func_5(3)"
      ],
      "execution_count": 0,
      "outputs": [
        {
          "output_type": "execute_result",
          "data": {
            "text/plain": [
              "9"
            ]
          },
          "metadata": {
            "tags": []
          },
          "execution_count": 38
        }
      ]
    },
    {
      "cell_type": "markdown",
      "metadata": {
        "id": "0hpzWCwupX4E",
        "colab_type": "text"
      },
      "source": [
        "# 6. While loop"
      ]
    },
    {
      "cell_type": "markdown",
      "metadata": {
        "id": "QSK37OVDpt8h",
        "colab_type": "text"
      },
      "source": [
        "In Python we do not have do-while:\n",
        "\n",
        "do\n",
        "\n",
        "> something\n",
        "\n",
        "\n",
        "while 'expr'\n",
        "\n",
        "But we can simulate it with this:"
      ]
    },
    {
      "cell_type": "code",
      "metadata": {
        "id": "vC49YqR6pOOy",
        "colab_type": "code",
        "outputId": "f32a5d09-8ec6-42d3-a7ea-a0c19e77b246",
        "colab": {
          "base_uri": "https://localhost:8080/",
          "height": 34
        }
      },
      "source": [
        "i = 5\n",
        "\n",
        "while True:\n",
        "    print(i)\n",
        "    if i >= 5:\n",
        "        break\n",
        "        print('something')"
      ],
      "execution_count": 0,
      "outputs": [
        {
          "output_type": "stream",
          "text": [
            "5\n"
          ],
          "name": "stdout"
        }
      ]
    },
    {
      "cell_type": "markdown",
      "metadata": {
        "id": "PoXTijyVrIxX",
        "colab_type": "text"
      },
      "source": [
        "As you can see the loop executed once (and will always execute at least once, no matter the starting value of i.)\n",
        "\n",
        "This is a standard pattern and can be useful in a variety of scenarios.\n",
        "\n",
        "A simple example might be getting repetitive user input until the user performs and action or provides some specific value."
      ]
    },
    {
      "cell_type": "code",
      "metadata": {
        "id": "wSPyC2m1qbdn",
        "colab_type": "code",
        "outputId": "4bb93ec3-c87a-45bb-ff04-db8ce2ca627a",
        "colab": {
          "base_uri": "https://localhost:8080/",
          "height": 68
        }
      },
      "source": [
        "min_length = 2\n",
        "name = input('Please enter your name: ')\n",
        "\n",
        "while not(len(name) >= min_length and name.isprintable() and name.isalpha()):\n",
        "    name = input('Please enter your name: ')\n",
        "\n",
        "print(f'Hello {name}.')"
      ],
      "execution_count": 0,
      "outputs": [
        {
          "output_type": "stream",
          "text": [
            "Please enter your name: a\n",
            "Please enter your name: vaba\n",
            "Hello vaba.\n"
          ],
          "name": "stdout"
        }
      ]
    },
    {
      "cell_type": "markdown",
      "metadata": {
        "id": "WqwBIEF8svHs",
        "colab_type": "text"
      },
      "source": [
        "It is not a good practice to repeat code, so let's refactore it"
      ]
    },
    {
      "cell_type": "code",
      "metadata": {
        "colab_type": "code",
        "outputId": "139ad15f-413f-447b-ed19-44caaf8089fa",
        "id": "9Zf_4V6Gs25D",
        "colab": {
          "base_uri": "https://localhost:8080/",
          "height": 51
        }
      },
      "source": [
        "min_length = 2\n",
        "\n",
        "while True:\n",
        "    name = input('Please enter your name: ')\n",
        "    if len(name) >= min_length and name.isprintable() and name.isalpha():\n",
        "        break\n",
        "print(f'Hello {name}.')"
      ],
      "execution_count": 0,
      "outputs": [
        {
          "output_type": "stream",
          "text": [
            "Please enter your name: aa\n",
            "Hello aa.\n"
          ],
          "name": "stdout"
        }
      ]
    },
    {
      "cell_type": "markdown",
      "metadata": {
        "id": "xv5_7uuJtb6D",
        "colab_type": "text"
      },
      "source": [
        ""
      ]
    },
    {
      "cell_type": "markdown",
      "metadata": {
        "id": "Gwu00D1Gtezm",
        "colab_type": "text"
      },
      "source": [
        "We saw how the break statement exits the while loop and execution resumes on the line immediately after the while code block.\n",
        "\n",
        "Sometimes, we just want to cut the current iteration short, but continue looping, without exiting the loop itself.\n",
        "\n",
        "This is done using the continue statement:"
      ]
    },
    {
      "cell_type": "code",
      "metadata": {
        "id": "P0BnXAiDtC82",
        "colab_type": "code",
        "outputId": "0cb4d79c-bbd3-4e5f-8f56-6f2c0e39c642",
        "colab": {
          "base_uri": "https://localhost:8080/",
          "height": 102
        }
      },
      "source": [
        "a = 0\n",
        "while a < 10:\n",
        "    a += 1\n",
        "    if a % 2:\n",
        "        continue\n",
        "    print(a)"
      ],
      "execution_count": 0,
      "outputs": [
        {
          "output_type": "stream",
          "text": [
            "2\n",
            "4\n",
            "6\n",
            "8\n",
            "10\n"
          ],
          "name": "stdout"
        }
      ]
    },
    {
      "cell_type": "markdown",
      "metadata": {
        "id": "Imp8SgRitwec",
        "colab_type": "text"
      },
      "source": [
        "Note that there are much better ways of doing this! We'll cover that in later videos (comprehensions, generators, etc)\n",
        "\n",
        "The **while** loop also can be used with an **else** clause!!"
      ]
    },
    {
      "cell_type": "markdown",
      "metadata": {
        "id": "iB9vg_gVt_H1",
        "colab_type": "text"
      },
      "source": [
        "Suppose we want to test if some value is present in some list, and if not we want to append it to the list (again there are better ways of doing this):\n",
        "\n",
        "First, here's how we might do it without the benefit of the **else** clause:"
      ]
    },
    {
      "cell_type": "code",
      "metadata": {
        "id": "hU7mgto3tq_G",
        "colab_type": "code",
        "outputId": "43503d96-f381-48db-b4ff-ed1b8ee26917",
        "colab": {
          "base_uri": "https://localhost:8080/",
          "height": 34
        }
      },
      "source": [
        "l = [1, 2, 3]\n",
        "val = 10\n",
        "\n",
        "found = False\n",
        "idx = 0\n",
        "while idx < len(l):\n",
        "    if l[idx] == val:\n",
        "        found = True\n",
        "        break\n",
        "    idx += 1\n",
        "    \n",
        "if not found:\n",
        "    l.append(val)\n",
        "print(l)"
      ],
      "execution_count": 0,
      "outputs": [
        {
          "output_type": "stream",
          "text": [
            "[1, 2, 3, 10]\n"
          ],
          "name": "stdout"
        }
      ]
    },
    {
      "cell_type": "markdown",
      "metadata": {
        "id": "IOJOHHKbugMZ",
        "colab_type": "text"
      },
      "source": [
        "Using the **else** clause is easier:"
      ]
    },
    {
      "cell_type": "code",
      "metadata": {
        "id": "6wjjFjehufXl",
        "colab_type": "code",
        "outputId": "4f801309-dfa7-4f78-ff2c-19281e9e58ca",
        "colab": {
          "base_uri": "https://localhost:8080/",
          "height": 34
        }
      },
      "source": [
        "l = [1, 2, 3]\n",
        "val = 10\n",
        "\n",
        "idx = 0\n",
        "while idx < len(l):\n",
        "    if l[idx] == val:\n",
        "        break\n",
        "    idx += 1\n",
        "else:\n",
        "    l.append(val)\n",
        "\n",
        "print(l)"
      ],
      "execution_count": 0,
      "outputs": [
        {
          "output_type": "stream",
          "text": [
            "[1, 2, 3, 10]\n"
          ],
          "name": "stdout"
        }
      ]
    },
    {
      "cell_type": "markdown",
      "metadata": {
        "id": "AxNTuytbdTto",
        "colab_type": "text"
      },
      "source": [
        "# 7. Break, continue and try statements"
      ]
    },
    {
      "cell_type": "markdown",
      "metadata": {
        "id": "iuNVPfnXdjVn",
        "colab_type": "text"
      },
      "source": [
        "try...except...finally (finally always executes)"
      ]
    },
    {
      "cell_type": "code",
      "metadata": {
        "id": "jps7Z8W0ukwm",
        "colab_type": "code",
        "outputId": "2c80dcb8-4953-4dd7-ce7d-9d98bda9a08b",
        "colab": {
          "base_uri": "https://localhost:8080/",
          "height": 51
        }
      },
      "source": [
        "a = 10\n",
        "b = 0\n",
        "try:\n",
        "    a / b\n",
        "except ZeroDivisionError:\n",
        "    print('division by 0')\n",
        "finally:\n",
        "    print('this always executes')"
      ],
      "execution_count": 0,
      "outputs": [
        {
          "output_type": "stream",
          "text": [
            "division by 0\n",
            "this always executes\n"
          ],
          "name": "stdout"
        }
      ]
    },
    {
      "cell_type": "markdown",
      "metadata": {
        "id": "xQPKFkRCejKu",
        "colab_type": "text"
      },
      "source": [
        "So, what happens when using a try statement within a while loop, and a continue or break statement is encountered?"
      ]
    },
    {
      "cell_type": "code",
      "metadata": {
        "id": "hGu9Bh5UeXsB",
        "colab_type": "code",
        "outputId": "e74384f2-d02c-4363-824d-4ece37e5b0f9",
        "colab": {
          "base_uri": "https://localhost:8080/",
          "height": 187
        }
      },
      "source": [
        "a = 0\n",
        "b = 4\n",
        "\n",
        "while a < 3:\n",
        "    print('-------------')\n",
        "    a += 1\n",
        "    b -= 1\n",
        "    try:\n",
        "        a / b\n",
        "    except ZeroDivisionError:\n",
        "        print('{0}, {1} - division by 0'.format(a, b))\n",
        "        continue\n",
        "    finally:\n",
        "        print('{0}, {1} - always executes'.format(a, b))\n",
        "        \n",
        "    print('{0}, {1} - main loop'.format(a, b))\n",
        "\n",
        "else:\n",
        "    print(f\"Code executed without a zero division errors.\")"
      ],
      "execution_count": 0,
      "outputs": [
        {
          "output_type": "stream",
          "text": [
            "-------------\n",
            "1, 3 - always executes\n",
            "1, 3 - main loop\n",
            "-------------\n",
            "2, 2 - always executes\n",
            "2, 2 - main loop\n",
            "-------------\n",
            "3, 1 - always executes\n",
            "3, 1 - main loop\n",
            "Code executed without a zero division errors.\n"
          ],
          "name": "stdout"
        }
      ]
    },
    {
      "cell_type": "markdown",
      "metadata": {
        "id": "PtaXYbnngmYX",
        "colab_type": "text"
      },
      "source": [
        "As you can see in the above result, the finally code still executed, even though the current iteration was cut short with the continue statement.\n",
        "That's great if we have to close a database connection, close file, rollback, etc."
      ]
    },
    {
      "cell_type": "code",
      "metadata": {
        "id": "TuauA4WgfY_8",
        "colab_type": "code",
        "outputId": "7f86986a-9815-4953-987e-59b7f32e14c3",
        "colab": {
          "base_uri": "https://localhost:8080/",
          "height": 340
        }
      },
      "source": [
        "a = 0\n",
        "b = 7\n",
        "\n",
        "while a < 6: # Ako stavimo da je broj veći od 6, onda code završi s errorom, tj. break\n",
        "    print('-------------')\n",
        "    a += 1\n",
        "    b -= 1\n",
        "    try:\n",
        "        a / b\n",
        "    except ZeroDivisionError:\n",
        "        print('{0}, {1} - division by 0'.format(a, b))\n",
        "        break\n",
        "    finally:\n",
        "        print('{0}, {1} - always executes'.format(a, b))\n",
        "        \n",
        "    print('{0}, {1} - main loop'.format(a, b))\n",
        "\n",
        "else:\n",
        "    print(f\"Code executed without a zero division errors.\")"
      ],
      "execution_count": 0,
      "outputs": [
        {
          "output_type": "stream",
          "text": [
            "-------------\n",
            "1, 6 - always executes\n",
            "1, 6 - main loop\n",
            "-------------\n",
            "2, 5 - always executes\n",
            "2, 5 - main loop\n",
            "-------------\n",
            "3, 4 - always executes\n",
            "3, 4 - main loop\n",
            "-------------\n",
            "4, 3 - always executes\n",
            "4, 3 - main loop\n",
            "-------------\n",
            "5, 2 - always executes\n",
            "5, 2 - main loop\n",
            "-------------\n",
            "6, 1 - always executes\n",
            "6, 1 - main loop\n",
            "Code executed without a zero division errors.\n"
          ],
          "name": "stdout"
        }
      ]
    },
    {
      "cell_type": "markdown",
      "metadata": {
        "id": "NduJsZvSjXzO",
        "colab_type": "text"
      },
      "source": [
        "# 8. FOR Loop"
      ]
    },
    {
      "cell_type": "markdown",
      "metadata": {
        "id": "KjE8rMxGkFGL",
        "colab_type": "text"
      },
      "source": [
        "### An **iterable** is something can be iterated over. :-)\n",
        "Maybe a better non-circular way to define iterable is to think of it as a collection of things that can be accessed one at a time.\n",
        "\n",
        "In Python, an **iterable** has a very specific meaning: an iterable is an **object** capable of returning its members one at a time.\n",
        "\n",
        "Many objects in Python are iterable: lists, strings, file objects and many more."
      ]
    },
    {
      "cell_type": "markdown",
      "metadata": {
        "id": "CgZDVl9-j1LM",
        "colab_type": "text"
      },
      "source": [
        "If you come with a background in another programming language, you have probably seen for loops defined this way:\n",
        "\n",
        "for (int i=0; i < 5; i++) { //code block }\n",
        "\n",
        "This form of the **for** loop is simply a _repetition_, very similar to a **while** loop - in fact it is equivalent to what we could write in Python as follows:"
      ]
    },
    {
      "cell_type": "code",
      "metadata": {
        "id": "UhK_Vi6bkxR-",
        "colab_type": "code",
        "outputId": "d4c83240-43ec-46f7-b5e0-ea12876bb5cf",
        "colab": {
          "base_uri": "https://localhost:8080/",
          "height": 102
        }
      },
      "source": [
        "i = 0\n",
        "\n",
        "while i < 5:\n",
        "    print(i)\n",
        "    i += 1\n",
        "\n",
        "# After i reaches 5 it goes OUT OF SCOPE\n",
        "i = None"
      ],
      "execution_count": 0,
      "outputs": [
        {
          "output_type": "stream",
          "text": [
            "0\n",
            "1\n",
            "2\n",
            "3\n",
            "4\n"
          ],
          "name": "stdout"
        }
      ]
    },
    {
      "cell_type": "markdown",
      "metadata": {
        "id": "vgjT22Cel6pu",
        "colab_type": "text"
      },
      "source": [
        "But that's **NOT** what the **for** statement does in Python - the **for** statement is a way to **iterate** over iterables, and has nothing to do with the **for** loop we just saw. The closest equivalent we have in Python is the **while** loop written as above."
      ]
    },
    {
      "cell_type": "code",
      "metadata": {
        "id": "J9a4dLBpmFid",
        "colab_type": "code",
        "outputId": "39d0eeed-64b6-4c97-fb4b-685c6b22ec53",
        "colab": {
          "base_uri": "https://localhost:8080/",
          "height": 102
        }
      },
      "source": [
        "for i in range(5):\n",
        "    print(i)"
      ],
      "execution_count": 0,
      "outputs": [
        {
          "output_type": "stream",
          "text": [
            "0\n",
            "1\n",
            "2\n",
            "3\n",
            "4\n"
          ],
          "name": "stdout"
        }
      ]
    },
    {
      "cell_type": "markdown",
      "metadata": {
        "id": "s4Qr49GCmUJY",
        "colab_type": "text"
      },
      "source": [
        "Although this might seem like the closest approximation in Python to the standard C-style for loop we saw earlier, it's not really - we are iterating over an iterable object which is quite different.\n",
        "\n",
        "Many objects are iterable in Python:"
      ]
    },
    {
      "cell_type": "code",
      "metadata": {
        "id": "8lAYU6RlldPu",
        "colab_type": "code",
        "outputId": "1d52604c-4856-4631-be33-b29fbaf5a712",
        "colab": {
          "base_uri": "https://localhost:8080/",
          "height": 153
        }
      },
      "source": [
        "for x in [1, 2 ,3]:\n",
        "    print(x)\n",
        "print('-----------------------')\n",
        "for x in 'Vaba':\n",
        "    print(x)"
      ],
      "execution_count": 0,
      "outputs": [
        {
          "output_type": "stream",
          "text": [
            "1\n",
            "2\n",
            "3\n",
            "-----------------------\n",
            "V\n",
            "a\n",
            "b\n",
            "a\n"
          ],
          "name": "stdout"
        }
      ]
    },
    {
      "cell_type": "markdown",
      "metadata": {
        "id": "q-lUFbylnKNK",
        "colab_type": "text"
      },
      "source": [
        "When we iterate over an iterable, each iteration returns the \"next\" value (or object) in the iterable:"
      ]
    },
    {
      "cell_type": "code",
      "metadata": {
        "id": "cjv6SuPLmreI",
        "colab_type": "code",
        "outputId": "b2df8870-e8b6-4dee-9990-4c32e8aa0966",
        "colab": {
          "base_uri": "https://localhost:8080/",
          "height": 68
        }
      },
      "source": [
        "for i in [(1, 2), (3, 4), (5, 6)]:\n",
        "    print(i)"
      ],
      "execution_count": 0,
      "outputs": [
        {
          "output_type": "stream",
          "text": [
            "(1, 2)\n",
            "(3, 4)\n",
            "(5, 6)\n"
          ],
          "name": "stdout"
        }
      ]
    },
    {
      "cell_type": "markdown",
      "metadata": {
        "id": "GW0_DR2hnWnV",
        "colab_type": "text"
      },
      "source": [
        "Or we can unpack the elements of list and tuples:"
      ]
    },
    {
      "cell_type": "code",
      "metadata": {
        "id": "x54o5FSjnQw4",
        "colab_type": "code",
        "outputId": "98982753-dea9-4528-9698-1b03c389e476",
        "colab": {
          "base_uri": "https://localhost:8080/",
          "height": 68
        }
      },
      "source": [
        "for i, j in [(1, 2), (3, 4), (5, 6)]:\n",
        "    print(i, j)"
      ],
      "execution_count": 0,
      "outputs": [
        {
          "output_type": "stream",
          "text": [
            "1 2\n",
            "3 4\n",
            "5 6\n"
          ],
          "name": "stdout"
        }
      ]
    },
    {
      "cell_type": "markdown",
      "metadata": {
        "id": "9_y3MNXMpM2i",
        "colab_type": "text"
      },
      "source": [
        "The **for** loop, like the **while** loop, also supports an **else** clause which is executed if and only if the loop terminates normally (i.e. did not exit because of a **break** statement)"
      ]
    },
    {
      "cell_type": "code",
      "metadata": {
        "id": "JzWBIyFlnd0P",
        "colab_type": "code",
        "outputId": "2d1e8c1c-ab7c-4446-c444-9edd2e6fd807",
        "colab": {
          "base_uri": "https://localhost:8080/",
          "height": 102
        }
      },
      "source": [
        "for i in range(1, 5):\n",
        "    print(i)\n",
        "    if i % 7 == 0:\n",
        "        print('multiple of 7 found')\n",
        "        break\n",
        "else:\n",
        "    print('No multiples of 7 encountered')"
      ],
      "execution_count": 0,
      "outputs": [
        {
          "output_type": "stream",
          "text": [
            "1\n",
            "2\n",
            "3\n",
            "4\n",
            "No multiples of 7 encountered\n"
          ],
          "name": "stdout"
        }
      ]
    },
    {
      "cell_type": "code",
      "metadata": {
        "id": "p3P267GspSqo",
        "colab_type": "code",
        "outputId": "1f5937f7-1148-4214-f7fe-c262cb9b77be",
        "colab": {
          "base_uri": "https://localhost:8080/",
          "height": 153
        }
      },
      "source": [
        "for i in range(1, 8):\n",
        "    print(i)\n",
        "    if i % 7 == 0:\n",
        "        print('multiple of 7 found')\n",
        "        break\n",
        "else:\n",
        "    print('No multiples of 7 encountered')"
      ],
      "execution_count": 0,
      "outputs": [
        {
          "output_type": "stream",
          "text": [
            "1\n",
            "2\n",
            "3\n",
            "4\n",
            "5\n",
            "6\n",
            "7\n",
            "multiple of 7 found\n"
          ],
          "name": "stdout"
        }
      ]
    },
    {
      "cell_type": "markdown",
      "metadata": {
        "id": "sIm9vXROpvI1",
        "colab_type": "text"
      },
      "source": [
        "Similarly to the **while** loop, **break** and **continue** work just the same in the context of a **try** statement's **finally** clause.\n",
        "\n"
      ]
    },
    {
      "cell_type": "code",
      "metadata": {
        "id": "Z-v0yP48prsT",
        "colab_type": "code",
        "outputId": "64df1f2a-ad74-4028-9eb0-2e0295dd161a",
        "colab": {
          "base_uri": "https://localhost:8080/",
          "height": 272
        }
      },
      "source": [
        "for i in range(5):\n",
        "    print('--------------------')\n",
        "    try:\n",
        "        10 / (i - 3)\n",
        "    except ZeroDivisionError:\n",
        "        print('divided by 0')\n",
        "        continue # although we said continue to next iteration it still did print finally as 'always run'\n",
        "    finally:\n",
        "        print('always runs')\n",
        "    print(i)"
      ],
      "execution_count": 0,
      "outputs": [
        {
          "output_type": "stream",
          "text": [
            "--------------------\n",
            "always runs\n",
            "0\n",
            "--------------------\n",
            "always runs\n",
            "1\n",
            "--------------------\n",
            "always runs\n",
            "2\n",
            "--------------------\n",
            "divided by 0\n",
            "always runs\n",
            "--------------------\n",
            "always runs\n",
            "4\n"
          ],
          "name": "stdout"
        }
      ]
    },
    {
      "cell_type": "markdown",
      "metadata": {
        "id": "zhHrPshcqm4M",
        "colab_type": "text"
      },
      "source": [
        "But sometimes, for indexable iterable types (e.g. sequences), we want to also know the index of the item in the loop:"
      ]
    },
    {
      "cell_type": "code",
      "metadata": {
        "id": "-wl0oomZqJFr",
        "colab_type": "code",
        "outputId": "e78d3772-ca3a-456a-8b20-1ac7479bb8d3",
        "colab": {
          "base_uri": "https://localhost:8080/",
          "height": 102
        }
      },
      "source": [
        "s = 'Hello'\n",
        "\n",
        "for i, c in enumerate(s):\n",
        "    print(i, c)"
      ],
      "execution_count": 0,
      "outputs": [
        {
          "output_type": "stream",
          "text": [
            "0 H\n",
            "1 e\n",
            "2 l\n",
            "3 l\n",
            "4 o\n"
          ],
          "name": "stdout"
        }
      ]
    },
    {
      "cell_type": "markdown",
      "metadata": {
        "id": "uTLdkNtb_qfi",
        "colab_type": "text"
      },
      "source": [
        "# 9. Classes"
      ]
    },
    {
      "cell_type": "markdown",
      "metadata": {
        "id": "EnYOh04oAIY-",
        "colab_type": "text"
      },
      "source": [
        "To create a custom class we use the `class` keyword, and we can initialize class attributes in the special method `__init__`."
      ]
    },
    {
      "cell_type": "code",
      "metadata": {
        "id": "uf-R4wQgrAla",
        "colab_type": "code",
        "colab": {}
      },
      "source": [
        "class Rectangle:\n",
        "    def __init__(self, width, height): # self is convention, we can use instance_that_was_just_created also and pass it elsewhere and to arguments, etc.\n",
        "        self.width = width\n",
        "        self.height = height"
      ],
      "execution_count": 0,
      "outputs": []
    },
    {
      "cell_type": "markdown",
      "metadata": {
        "id": "dhJNiAoBBS4E",
        "colab_type": "text"
      },
      "source": [
        "We create **instances** of the `Rectangle` class by calling it with arguments that are passed to the `__init__` method as the second and third arguments. The first argument (`self`) is automatically filled in by Python and contains the object being created.\n",
        "\n",
        "Note that using `self` is just a convention (although a good one, and you shgoudl use it to make your code more understandable by others), you could really call it whatever (valid) name you choose.\n",
        "\n",
        "But just because you can does not mean you should!"
      ]
    },
    {
      "cell_type": "code",
      "metadata": {
        "id": "izgUtmEoAOL8",
        "colab_type": "code",
        "colab": {}
      },
      "source": [
        "r1 = Rectangle(10, 20)\n",
        "r2 = Rectangle(2, 3)"
      ],
      "execution_count": 0,
      "outputs": []
    },
    {
      "cell_type": "code",
      "metadata": {
        "id": "NqgX_SKvAvm4",
        "colab_type": "code",
        "colab": {
          "base_uri": "https://localhost:8080/",
          "height": 34
        },
        "outputId": "58a7c3c0-a6cb-4027-88c2-7e064b334259"
      },
      "source": [
        "r1.height"
      ],
      "execution_count": 49,
      "outputs": [
        {
          "output_type": "execute_result",
          "data": {
            "text/plain": [
              "20"
            ]
          },
          "metadata": {
            "tags": []
          },
          "execution_count": 49
        }
      ]
    },
    {
      "cell_type": "code",
      "metadata": {
        "id": "FDS8MWEpA1aj",
        "colab_type": "code",
        "colab": {
          "base_uri": "https://localhost:8080/",
          "height": 34
        },
        "outputId": "ef55c0b7-7dbd-46a3-edab-7eda0d87106b"
      },
      "source": [
        "r2.height"
      ],
      "execution_count": 50,
      "outputs": [
        {
          "output_type": "execute_result",
          "data": {
            "text/plain": [
              "3"
            ]
          },
          "metadata": {
            "tags": []
          },
          "execution_count": 50
        }
      ]
    },
    {
      "cell_type": "code",
      "metadata": {
        "id": "XNoWvdJ9A4ah",
        "colab_type": "code",
        "colab": {
          "base_uri": "https://localhost:8080/",
          "height": 34
        },
        "outputId": "e6d1fe68-5fa2-4ec8-d8bd-08c5315850e0"
      },
      "source": [
        "r1.width = 100\n",
        "print(r1.width, r2.width)"
      ],
      "execution_count": 53,
      "outputs": [
        {
          "output_type": "stream",
          "text": [
            "100 2\n"
          ],
          "name": "stdout"
        }
      ]
    },
    {
      "cell_type": "markdown",
      "metadata": {
        "id": "Gpgblt_-BlQ7",
        "colab_type": "text"
      },
      "source": [
        "`width` and `height` are attributes of the `Rectangle` class. But since they are just values (not callables), we call them **properties**.\n",
        "\n",
        "Attributes that are callables are called **methods**.\n",
        "\n",
        "You'll note that we were able to retrieve the `width` and `height` attributes (properties) using a dot notation, where we specify the object we are interested in, then a dot, then the attribute we are interested in.\n",
        "\n",
        "We can add callable attributes to our class (methods), that will also be referenced using the dot notation.\n",
        "\n",
        "Again, we will create instance methods, which means the method will require the first argument to be the object being used when the method is called."
      ]
    },
    {
      "cell_type": "code",
      "metadata": {
        "id": "elQj0Vp4A8tl",
        "colab_type": "code",
        "colab": {}
      },
      "source": [
        "class Rectangle:\n",
        "    def __init__(self, width, height): # self is convention, we can use instance_that_was_just_created also and pass it elsewhere and to arguments, etc.\n",
        "        self.width = width\n",
        "        self.height = height\n",
        "\n",
        "    def area(self):\n",
        "        return self.width * self.height\n",
        "\n",
        "    def perimeter(self):\n",
        "        return 2 * (something.width + something.height)"
      ],
      "execution_count": 0,
      "outputs": []
    },
    {
      "cell_type": "code",
      "metadata": {
        "id": "YhzHU-6DCeQN",
        "colab_type": "code",
        "colab": {
          "base_uri": "https://localhost:8080/",
          "height": 34
        },
        "outputId": "8fb6f8db-ca0f-4ea9-f870-320b8448dd37"
      },
      "source": [
        "r3 = Rectangle(10, 20)\n",
        "r3.area()"
      ],
      "execution_count": 55,
      "outputs": [
        {
          "output_type": "execute_result",
          "data": {
            "text/plain": [
              "200"
            ]
          },
          "metadata": {
            "tags": []
          },
          "execution_count": 55
        }
      ]
    },
    {
      "cell_type": "markdown",
      "metadata": {
        "id": "KYyPKw7yCweq",
        "colab_type": "text"
      },
      "source": [
        "When we ran the above line of code, our object was `r1`, so when `area` was called, Python in fact called the method `area` in the Rectangle class automatically passing `r1` to the `self` parameter.\n",
        "</br>\n",
        "</br>\n",
        "This is why we can use a name other than self, such as in the perimeter method:"
      ]
    },
    {
      "cell_type": "code",
      "metadata": {
        "id": "ukm_Jt3zCmdg",
        "colab_type": "code",
        "colab": {
          "base_uri": "https://localhost:8080/",
          "height": 34
        },
        "outputId": "4e2d5ccf-10cd-4455-841b-2bac0f6f4d9c"
      },
      "source": [
        "r3.perimeter()"
      ],
      "execution_count": 56,
      "outputs": [
        {
          "output_type": "execute_result",
          "data": {
            "text/plain": [
              "60"
            ]
          },
          "metadata": {
            "tags": []
          },
          "execution_count": 56
        }
      ]
    },
    {
      "cell_type": "markdown",
      "metadata": {
        "id": "Q38qvj7BDv1f",
        "colab_type": "text"
      },
      "source": [
        "Again, I'm just illustrating a point, don't actually do that!"
      ]
    },
    {
      "cell_type": "markdown",
      "metadata": {
        "id": "DJiRQPW8EUpR",
        "colab_type": "text"
      },
      "source": [
        "Python defines a bunch of **special** methods that we can use to give our classes functionality that resembles functionality of built-in and standard library objects.\n",
        "\n",
        "Many people refer to them as *magic* methods, but there's nothing magical about them - unlike magic, they are well documented and understood!!\n",
        "\n",
        "These **special** methods provide us an easy way to overload operators in Python."
      ]
    },
    {
      "cell_type": "markdown",
      "metadata": {
        "id": "AO07tZfnEenw",
        "colab_type": "text"
      },
      "source": [
        "For example, we can obtain the string representation of an integer using the built-in `str` function:"
      ]
    },
    {
      "cell_type": "code",
      "metadata": {
        "id": "grVT1Y7wErZX",
        "colab_type": "code",
        "colab": {
          "base_uri": "https://localhost:8080/",
          "height": 34
        },
        "outputId": "be87820e-e936-4e8f-cc7d-c3aacda77898"
      },
      "source": [
        "str(10)"
      ],
      "execution_count": 59,
      "outputs": [
        {
          "output_type": "execute_result",
          "data": {
            "text/plain": [
              "'10'"
            ]
          },
          "metadata": {
            "tags": []
          },
          "execution_count": 59
        }
      ]
    },
    {
      "cell_type": "markdown",
      "metadata": {
        "id": "iHYSzh4TEy6K",
        "colab_type": "text"
      },
      "source": [
        "What happens if we try this with our Rectangle object?"
      ]
    },
    {
      "cell_type": "code",
      "metadata": {
        "id": "8aHvXh9YEjKw",
        "colab_type": "code",
        "colab": {
          "base_uri": "https://localhost:8080/",
          "height": 34
        },
        "outputId": "1d0b6796-5fe8-4117-9dd3-1976201a54bb"
      },
      "source": [
        "str(r3)"
      ],
      "execution_count": 58,
      "outputs": [
        {
          "output_type": "execute_result",
          "data": {
            "text/plain": [
              "'<__main__.Rectangle object at 0x7f6efcbfafd0>'"
            ]
          },
          "metadata": {
            "tags": []
          },
          "execution_count": 58
        }
      ]
    },
    {
      "cell_type": "code",
      "metadata": {
        "id": "UO2_8jLVDo5A",
        "colab_type": "code",
        "colab": {
          "base_uri": "https://localhost:8080/",
          "height": 34
        },
        "outputId": "843c931c-2625-45f9-958f-571fcdb7d442"
      },
      "source": [
        "hex(id(r3)) # memory address of created instance of class"
      ],
      "execution_count": 57,
      "outputs": [
        {
          "output_type": "execute_result",
          "data": {
            "text/plain": [
              "'0x7f6efcbfafd0'"
            ]
          },
          "metadata": {
            "tags": []
          },
          "execution_count": 57
        }
      ]
    },
    {
      "cell_type": "markdown",
      "metadata": {
        "id": "IqfhsPHpEv6g",
        "colab_type": "text"
      },
      "source": [
        "Not exactly what we might have expected. On the other hand, how is Python supposed to know how to display our rectangle as a string?"
      ]
    },
    {
      "cell_type": "markdown",
      "metadata": {
        "id": "IXciULUCFalC",
        "colab_type": "text"
      },
      "source": [
        "Fortunately, this is where these special methods come in. When we call `str(r1)`, Python will first look to see if our class (`Rectangle`) has a special method called `__str__`.\n",
        "\n",
        "If the `__str__` method is present, then Python will call it and return that value.\n",
        "\n",
        "There's actually another one called `__repr__` which is related, but we'll just focus on `__str__` for now."
      ]
    },
    {
      "cell_type": "code",
      "metadata": {
        "id": "K8JYwD6sEErq",
        "colab_type": "code",
        "colab": {}
      },
      "source": [
        "class Rectangle:\n",
        "    def __init__(self, width, height): # self is convention, we can use instance_that_was_just_created also and pass it elsewhere and to arguments, etc.\n",
        "        self.width = width\n",
        "        self.height = height\n",
        "\n",
        "    def area(self):\n",
        "        return self.width * self.height\n",
        "\n",
        "    def perimeter(self):\n",
        "        return 2 * (something.width + something.height)\n",
        "\n",
        "    def __str__(self):\n",
        "        return f'Rectangle: width={self.width}, height={self.height}'"
      ],
      "execution_count": 0,
      "outputs": []
    },
    {
      "cell_type": "code",
      "metadata": {
        "id": "deZnbokYF3kZ",
        "colab_type": "code",
        "colab": {
          "base_uri": "https://localhost:8080/",
          "height": 34
        },
        "outputId": "b1f367f7-7200-4e9d-e33a-effca45f0fb4"
      },
      "source": [
        "r1 = Rectangle(10, 20)\n",
        "\n",
        "str(r1)"
      ],
      "execution_count": 62,
      "outputs": [
        {
          "output_type": "execute_result",
          "data": {
            "text/plain": [
              "'Rectangle: width=10, height=20'"
            ]
          },
          "metadata": {
            "tags": []
          },
          "execution_count": 62
        }
      ]
    },
    {
      "cell_type": "markdown",
      "metadata": {
        "id": "ZT14Sr24GJyA",
        "colab_type": "text"
      },
      "source": [
        "However, in Jupyter (and interactive console if you are using that), look what happens here:"
      ]
    },
    {
      "cell_type": "code",
      "metadata": {
        "id": "rYr3LEEVF6b9",
        "colab_type": "code",
        "colab": {
          "base_uri": "https://localhost:8080/",
          "height": 34
        },
        "outputId": "5d02d039-fc39-42d7-b1f6-1abe1cec7754"
      },
      "source": [
        "r1"
      ],
      "execution_count": 63,
      "outputs": [
        {
          "output_type": "execute_result",
          "data": {
            "text/plain": [
              "<__main__.Rectangle at 0x7f6efcc25dd8>"
            ]
          },
          "metadata": {
            "tags": []
          },
          "execution_count": 63
        }
      ]
    },
    {
      "cell_type": "markdown",
      "metadata": {
        "id": "y6tob9hBGUHA",
        "colab_type": "text"
      },
      "source": [
        "As you can see we still get that default. That's because here Python is not converting `r1` to a string, but instead looking for a string *representation* of the object. It is looking for the `__repr__` method (which we'll come back to later)."
      ]
    },
    {
      "cell_type": "code",
      "metadata": {
        "id": "B5yfXPVlGK27",
        "colab_type": "code",
        "colab": {}
      },
      "source": [
        "class Rectangle:\n",
        "    def __init__(self, width, height): # self is convention, we can use instance_that_was_just_created also and pass it elsewhere and to arguments, etc.\n",
        "        self.width = width\n",
        "        self.height = height\n",
        "\n",
        "    def area(self):\n",
        "        return self.width * self.height\n",
        "\n",
        "    def perimeter(self):\n",
        "        return 2 * (something.width + something.height)\n",
        "\n",
        "    def __repr__(self):\n",
        "        return f'Rectangle: width={self.width}, height={self.height}'\n",
        "\n",
        "    def __str__(self):\n",
        "        return f'Rectangle: width={self.width}, height={self.height}'"
      ],
      "execution_count": 0,
      "outputs": []
    },
    {
      "cell_type": "code",
      "metadata": {
        "id": "5LZSAwu2Gl2a",
        "colab_type": "code",
        "colab": {
          "base_uri": "https://localhost:8080/",
          "height": 34
        },
        "outputId": "09860fb8-8643-4fbc-b4b6-170221f34375"
      },
      "source": [
        "r1 = Rectangle(10, 20)\n",
        "r1"
      ],
      "execution_count": 66,
      "outputs": [
        {
          "output_type": "execute_result",
          "data": {
            "text/plain": [
              "Rectangle: width=10, height=20"
            ]
          },
          "metadata": {
            "tags": []
          },
          "execution_count": 66
        }
      ]
    },
    {
      "cell_type": "code",
      "metadata": {
        "id": "5n2P70dBGmww",
        "colab_type": "code",
        "colab": {
          "base_uri": "https://localhost:8080/",
          "height": 34
        },
        "outputId": "3552453a-08de-43c6-f5db-fd8f9643066c"
      },
      "source": [
        "str(r1)"
      ],
      "execution_count": 67,
      "outputs": [
        {
          "output_type": "execute_result",
          "data": {
            "text/plain": [
              "'Rectangle: width=10, height=20'"
            ]
          },
          "metadata": {
            "tags": []
          },
          "execution_count": 67
        }
      ]
    },
    {
      "cell_type": "markdown",
      "metadata": {
        "id": "y-S-Oc6_GzkN",
        "colab_type": "text"
      },
      "source": [
        "How about the comparison operators, such as `==` or `<`?"
      ]
    },
    {
      "cell_type": "code",
      "metadata": {
        "id": "P-UUd21QHgoQ",
        "colab_type": "code",
        "colab": {
          "base_uri": "https://localhost:8080/",
          "height": 34
        },
        "outputId": "52a118bf-3792-4f7b-d25d-bc35b556a954"
      },
      "source": [
        "r1 = Rectangle(10, 20)\n",
        "r2 = Rectangle(10, 20)\n",
        "\n",
        "r1 == r2"
      ],
      "execution_count": 68,
      "outputs": [
        {
          "output_type": "execute_result",
          "data": {
            "text/plain": [
              "False"
            ]
          },
          "metadata": {
            "tags": []
          },
          "execution_count": 68
        }
      ]
    },
    {
      "cell_type": "markdown",
      "metadata": {
        "id": "Uxgx6PvmHlQW",
        "colab_type": "text"
      },
      "source": [
        "As you can see, Python does not consider `r1` and `r2` as equal (using the `==` operator). Again, how is Python supposed to know that two Rectangle objects with the same height and width should be considered equal?\n",
        "</br>\n",
        "</br>\n",
        "We just need to tell Python how to do it, using the special method `__eq__`."
      ]
    },
    {
      "cell_type": "code",
      "metadata": {
        "id": "DVFMtebWGu1o",
        "colab_type": "code",
        "colab": {}
      },
      "source": [
        "class Rectangle:\n",
        "    def __init__(self, width, height): # self is convention, we can use instance_that_was_just_created also and pass it elsewhere and to arguments, etc.\n",
        "        self.width = width\n",
        "        self.height = height\n",
        "\n",
        "    def area(self):\n",
        "        return self.width * self.height\n",
        "\n",
        "    def perimeter(self):\n",
        "        return 2 * (something.width + something.height)\n",
        "\n",
        "    def __repr__(self):\n",
        "        return f'Rectangle: width={self.width}, height={self.height}'\n",
        "\n",
        "    def __str__(self):\n",
        "        return f'Rectangle: width={self.width}, height={self.height}'\n",
        "    \n",
        "    # Since we are comparing 2 objects, our self is one object, and input (other) is our seconde object \n",
        "    def __eq__(self, other):\n",
        "        return (self.height, self.width) == (other.height, other.width)\n",
        "\n"
      ],
      "execution_count": 0,
      "outputs": []
    },
    {
      "cell_type": "code",
      "metadata": {
        "id": "cxcAg_XNIHi-",
        "colab_type": "code",
        "colab": {
          "base_uri": "https://localhost:8080/",
          "height": 34
        },
        "outputId": "a517df84-3611-4fac-c8a8-e47ce839a6a8"
      },
      "source": [
        "r1 = Rectangle(10, 20)\n",
        "r2 = Rectangle(10, 20)\n",
        "\n",
        "r1 == r2"
      ],
      "execution_count": 73,
      "outputs": [
        {
          "output_type": "execute_result",
          "data": {
            "text/plain": [
              "True"
            ]
          },
          "metadata": {
            "tags": []
          },
          "execution_count": 73
        }
      ]
    },
    {
      "cell_type": "markdown",
      "metadata": {
        "id": "pQiLHjdaIZgN",
        "colab_type": "text"
      },
      "source": [
        "So they have the same values.\n",
        "</br>\n",
        "</br>\n",
        "</br>\n",
        "\n",
        "But they are not the same objects:"
      ]
    },
    {
      "cell_type": "code",
      "metadata": {
        "id": "WjUiMPBWIKr9",
        "colab_type": "code",
        "colab": {
          "base_uri": "https://localhost:8080/",
          "height": 34
        },
        "outputId": "f97d7bb3-f8bb-461b-ab76-f2764158c8ed"
      },
      "source": [
        "r1 is r2"
      ],
      "execution_count": 74,
      "outputs": [
        {
          "output_type": "execute_result",
          "data": {
            "text/plain": [
              "False"
            ]
          },
          "metadata": {
            "tags": []
          },
          "execution_count": 74
        }
      ]
    },
    {
      "cell_type": "markdown",
      "metadata": {
        "id": "mOf_g8UjI57s",
        "colab_type": "text"
      },
      "source": [
        "And if we try to compare our Rectangle to a different type:"
      ]
    },
    {
      "cell_type": "code",
      "metadata": {
        "id": "K1RO63h8I7Fn",
        "colab_type": "code",
        "colab": {
          "base_uri": "https://localhost:8080/",
          "height": 265
        },
        "outputId": "1f92ed29-5bd7-41e9-d154-3d1fb7a3e5e3"
      },
      "source": [
        " r1 == 100"
      ],
      "execution_count": 75,
      "outputs": [
        {
          "output_type": "error",
          "ename": "AttributeError",
          "evalue": "ignored",
          "traceback": [
            "\u001b[0;31m---------------------------------------------------------------------------\u001b[0m",
            "\u001b[0;31mAttributeError\u001b[0m                            Traceback (most recent call last)",
            "\u001b[0;32m<ipython-input-75-7b227cedb3f6>\u001b[0m in \u001b[0;36m<module>\u001b[0;34m()\u001b[0m\n\u001b[0;32m----> 1\u001b[0;31m \u001b[0mr1\u001b[0m \u001b[0;34m==\u001b[0m \u001b[0;36m100\u001b[0m\u001b[0;34m\u001b[0m\u001b[0;34m\u001b[0m\u001b[0m\n\u001b[0m",
            "\u001b[0;32m<ipython-input-72-046b766b779d>\u001b[0m in \u001b[0;36m__eq__\u001b[0;34m(self, other)\u001b[0m\n\u001b[1;32m     18\u001b[0m     \u001b[0;31m# Since we are comparing 2 objects, our self is one object, and input (other) is our seconde object\u001b[0m\u001b[0;34m\u001b[0m\u001b[0;34m\u001b[0m\u001b[0;34m\u001b[0m\u001b[0m\n\u001b[1;32m     19\u001b[0m     \u001b[0;32mdef\u001b[0m \u001b[0m__eq__\u001b[0m\u001b[0;34m(\u001b[0m\u001b[0mself\u001b[0m\u001b[0;34m,\u001b[0m \u001b[0mother\u001b[0m\u001b[0;34m)\u001b[0m\u001b[0;34m:\u001b[0m\u001b[0;34m\u001b[0m\u001b[0;34m\u001b[0m\u001b[0m\n\u001b[0;32m---> 20\u001b[0;31m         \u001b[0;32mreturn\u001b[0m \u001b[0;34m(\u001b[0m\u001b[0mself\u001b[0m\u001b[0;34m.\u001b[0m\u001b[0mheight\u001b[0m\u001b[0;34m,\u001b[0m \u001b[0mself\u001b[0m\u001b[0;34m.\u001b[0m\u001b[0mwidth\u001b[0m\u001b[0;34m)\u001b[0m \u001b[0;34m==\u001b[0m \u001b[0;34m(\u001b[0m\u001b[0mother\u001b[0m\u001b[0;34m.\u001b[0m\u001b[0mheight\u001b[0m\u001b[0;34m,\u001b[0m \u001b[0mother\u001b[0m\u001b[0;34m.\u001b[0m\u001b[0mwidth\u001b[0m\u001b[0;34m)\u001b[0m\u001b[0;34m\u001b[0m\u001b[0;34m\u001b[0m\u001b[0m\n\u001b[0m\u001b[1;32m     21\u001b[0m \u001b[0;34m\u001b[0m\u001b[0m\n",
            "\u001b[0;31mAttributeError\u001b[0m: 'int' object has no attribute 'height'"
          ]
        }
      ]
    },
    {
      "cell_type": "markdown",
      "metadata": {
        "id": "5AaZXcxrI_Xx",
        "colab_type": "text"
      },
      "source": [
        "Let's remove that print statement - I only put that in so you could see what the arguments were, in practice you should avoid side effects."
      ]
    },
    {
      "cell_type": "code",
      "metadata": {
        "id": "JOLP1BfpIjtG",
        "colab_type": "code",
        "colab": {}
      },
      "source": [
        "class Rectangle:\n",
        "    def __init__(self, width, height):\n",
        "        self.width = width\n",
        "        self.height = height\n",
        "        \n",
        "    def area(self):\n",
        "        return self.width * self.height\n",
        "    \n",
        "    def perimeter(self):\n",
        "        return 2 * (self.width + self.height)\n",
        "    \n",
        "    def __str__(self):\n",
        "        return 'Rectangle (width={0}, height={1})'.format(self.width, self.height)\n",
        "    \n",
        "    def __repr__(self):\n",
        "        return 'Rectangle({0}, {1})'.format(self.width, self.height)\n",
        "    \n",
        "    def __eq__(self, other):\n",
        "        if isinstance(other, Rectangle): # so what this does it looks if that other is of class Rectangle\n",
        "            return (self.width, self.height) == (other.width, other.height)\n",
        "        else:\n",
        "            return False"
      ],
      "execution_count": 0,
      "outputs": []
    },
    {
      "cell_type": "code",
      "metadata": {
        "id": "YDXIh_-OJEfx",
        "colab_type": "code",
        "colab": {
          "base_uri": "https://localhost:8080/",
          "height": 34
        },
        "outputId": "953fe84c-59d3-4216-b103-3e9243471484"
      },
      "source": [
        "r1 = Rectangle(10, 20)\n",
        "r2 = Rectangle(10, 20)\n",
        "r1 == 100"
      ],
      "execution_count": 79,
      "outputs": [
        {
          "output_type": "execute_result",
          "data": {
            "text/plain": [
              "False"
            ]
          },
          "metadata": {
            "tags": []
          },
          "execution_count": 79
        }
      ]
    },
    {
      "cell_type": "markdown",
      "metadata": {
        "id": "ew3OzYopJKZy",
        "colab_type": "text"
      },
      "source": [
        "What about `<`, `>`, `<=`, etc.?\n",
        "\n",
        "Again, Python has special methods we can use to provide that functionality.\n",
        "\n",
        "These are methods such as `__lt__`, `__gt__`, `__le__`, etc."
      ]
    },
    {
      "cell_type": "code",
      "metadata": {
        "id": "ym-zYImuJK11",
        "colab_type": "code",
        "colab": {}
      },
      "source": [
        ""
      ],
      "execution_count": 0,
      "outputs": []
    }
  ]
}