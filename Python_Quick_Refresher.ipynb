{
  "nbformat": 4,
  "nbformat_minor": 0,
  "metadata": {
    "colab": {
      "name": "Untitled3.ipynb",
      "provenance": [],
      "include_colab_link": true
    },
    "kernelspec": {
      "name": "python3",
      "display_name": "Python 3"
    }
  },
  "cells": [
    {
      "cell_type": "markdown",
      "metadata": {
        "id": "view-in-github",
        "colab_type": "text"
      },
      "source": [
        "<a href=\"https://colab.research.google.com/github/ValentinoVizner/Python_Deep_Dive_1/blob/master/Python_Quick_Refresher.ipynb\" target=\"_parent\"><img src=\"https://colab.research.google.com/assets/colab-badge.svg\" alt=\"Open In Colab\"/></a>"
      ]
    },
    {
      "cell_type": "markdown",
      "metadata": {
        "id": "Dlx3vZGt8GdO",
        "colab_type": "text"
      },
      "source": [
        "# 1. Python Type Hierarchy!"
      ]
    },
    {
      "cell_type": "markdown",
      "metadata": {
        "id": "dW7wy4ML9gyG",
        "colab_type": "text"
      },
      "source": [
        "![alt text](https://drive.google.com/uc?id=15MxhJdymQytowd1EQxCleIkdgOOtYWy6) ![alt text](https://drive.google.com/uc?id=13Usk9j2ygWmJSbySXslA_YEJLmyJcjMs) ![alt text](https://drive.google.com/uc?id=1CbC2PSfZhmueUWg7Tis2kVNPt7qlTOhF)"
      ]
    },
    {
      "cell_type": "markdown",
      "metadata": {
        "id": "yBbFWK0--xg3",
        "colab_type": "text"
      },
      "source": [
        "# 2. Multi-line strings and statements"
      ]
    },
    {
      "cell_type": "markdown",
      "metadata": {
        "id": "2eukGbiX-61O",
        "colab_type": "text"
      },
      "source": [
        "![alt text](https://drive.google.com/uc?id=1iSiXivW7YDj-mZmrBTm-hGJhwtrTUETR)\n",
        "![alt text](https://drive.google.com/uc?id=1VH1lPdHNx5_WhFys_8wwkniBy7A0JIjz)\n",
        "![alt text](https://drive.google.com/uc?id=192_wk6M6YFIrTXaKu6xr9UN8PLGymEaG)\n",
        "![alt text](https://drive.google.com/uc?id=1yssu6D18TbNbt6TwVNVNOlpXQPNwbG3C)"
      ]
    },
    {
      "cell_type": "code",
      "metadata": {
        "id": "VqWSGT2K8Nuy",
        "colab_type": "code",
        "colab": {
          "base_uri": "https://localhost:8080/",
          "height": 34
        },
        "outputId": "d0f43d13-df09-4c77-f85e-bad9017e176d"
      },
      "source": [
        "a = [1, \n",
        "    2, \n",
        "    3]\n",
        "a"
      ],
      "execution_count": 1,
      "outputs": [
        {
          "output_type": "execute_result",
          "data": {
            "text/plain": [
              "[1, 2, 3]"
            ]
          },
          "metadata": {
            "tags": []
          },
          "execution_count": 1
        }
      ]
    },
    {
      "cell_type": "code",
      "metadata": {
        "id": "j6gDAN7LxqUk",
        "colab_type": "code",
        "colab": {
          "base_uri": "https://localhost:8080/",
          "height": 34
        },
        "outputId": "0b229230-215d-4402-9c4e-8a3be4e58345"
      },
      "source": [
        "a = [1, #first element\n",
        "    2, #second element\n",
        "    3, #third element\n",
        "    ]\n",
        "\n",
        "a"
      ],
      "execution_count": 2,
      "outputs": [
        {
          "output_type": "execute_result",
          "data": {
            "text/plain": [
              "[1, 2, 3]"
            ]
          },
          "metadata": {
            "tags": []
          },
          "execution_count": 2
        }
      ]
    },
    {
      "cell_type": "markdown",
      "metadata": {
        "id": "Eczy6y5gx0XW",
        "colab_type": "text"
      },
      "source": [
        "\n",
        "\n",
        "Note if you do use comments, you must close off the collection on a new line.\n",
        "\n",
        "i.e. the following will not work since the closing ] is actually part of the comment:"
      ]
    },
    {
      "cell_type": "code",
      "metadata": {
        "id": "a51dBjNrxv_H",
        "colab_type": "code",
        "colab": {
          "base_uri": "https://localhost:8080/",
          "height": 129
        },
        "outputId": "60c378fd-5a1a-490f-acc6-8129bd76d8a6"
      },
      "source": [
        "a = [1, # first element\n",
        "    2 #second element]"
      ],
      "execution_count": 3,
      "outputs": [
        {
          "output_type": "error",
          "ename": "SyntaxError",
          "evalue": "ignored",
          "traceback": [
            "\u001b[0;36m  File \u001b[0;32m\"<ipython-input-3-6b11c8b986e4>\"\u001b[0;36m, line \u001b[0;32m2\u001b[0m\n\u001b[0;31m    2 #second element]\u001b[0m\n\u001b[0m                      ^\u001b[0m\n\u001b[0;31mSyntaxError\u001b[0m\u001b[0;31m:\u001b[0m unexpected EOF while parsing\n"
          ]
        }
      ]
    },
    {
      "cell_type": "markdown",
      "metadata": {
        "id": "-UywwdXax8Zj",
        "colab_type": "text"
      },
      "source": [
        "This works the same way for tuples, sets, and dictionaries."
      ]
    },
    {
      "cell_type": "code",
      "metadata": {
        "id": "VSXvAdNtx5S5",
        "colab_type": "code",
        "colab": {
          "base_uri": "https://localhost:8080/",
          "height": 34
        },
        "outputId": "57eae775-4ecd-48bb-a029-a5387dbec73c"
      },
      "source": [
        "a = (1, # first element\n",
        "    2, #second element\n",
        "    3, #third element\n",
        "    )\n",
        "a"
      ],
      "execution_count": 4,
      "outputs": [
        {
          "output_type": "execute_result",
          "data": {
            "text/plain": [
              "(1, 2, 3)"
            ]
          },
          "metadata": {
            "tags": []
          },
          "execution_count": 4
        }
      ]
    },
    {
      "cell_type": "code",
      "metadata": {
        "id": "9tIKu6dBx_jU",
        "colab_type": "code",
        "colab": {
          "base_uri": "https://localhost:8080/",
          "height": 34
        },
        "outputId": "c582af41-68cd-4bf1-c5b8-7640f7725e01"
      },
      "source": [
        "a = {1, # first element\n",
        "    2, #second element\n",
        "    }\n",
        "a"
      ],
      "execution_count": 5,
      "outputs": [
        {
          "output_type": "execute_result",
          "data": {
            "text/plain": [
              "{1, 2}"
            ]
          },
          "metadata": {
            "tags": []
          },
          "execution_count": 5
        }
      ]
    },
    {
      "cell_type": "code",
      "metadata": {
        "id": "aol_4TYxyCf1",
        "colab_type": "code",
        "colab": {
          "base_uri": "https://localhost:8080/",
          "height": 34
        },
        "outputId": "eff88d40-620b-4d6b-f6a6-2a179b76e47a"
      },
      "source": [
        "a = {'key1': 'value1', #comment,\n",
        "    'key2': #comment\n",
        "    'value2' #comment\n",
        "    }\n",
        "a"
      ],
      "execution_count": 6,
      "outputs": [
        {
          "output_type": "execute_result",
          "data": {
            "text/plain": [
              "{'key1': 'value1', 'key2': 'value2'}"
            ]
          },
          "metadata": {
            "tags": []
          },
          "execution_count": 6
        }
      ]
    },
    {
      "cell_type": "markdown",
      "metadata": {
        "id": "kMCrMg-DyMUS",
        "colab_type": "text"
      },
      "source": [
        "We can also break up function arguments and parameters:"
      ]
    },
    {
      "cell_type": "code",
      "metadata": {
        "id": "7IIBU_x9yHvo",
        "colab_type": "code",
        "colab": {}
      },
      "source": [
        "def my_func(a, #some comment\n",
        "           b, c):\n",
        "    print(a, b, c)"
      ],
      "execution_count": 0,
      "outputs": []
    },
    {
      "cell_type": "code",
      "metadata": {
        "id": "evTADJ9wyO20",
        "colab_type": "code",
        "colab": {
          "base_uri": "https://localhost:8080/",
          "height": 34
        },
        "outputId": "699a8cdf-13c8-4db3-c61a-1bfcf6d96a13"
      },
      "source": [
        "my_func(10, #comment\n",
        "       20, #comment\n",
        "       30)"
      ],
      "execution_count": 8,
      "outputs": [
        {
          "output_type": "stream",
          "text": [
            "10 20 30\n"
          ],
          "name": "stdout"
        }
      ]
    },
    {
      "cell_type": "markdown",
      "metadata": {
        "id": "ACSy6-WvyW5y",
        "colab_type": "text"
      },
      "source": [
        "#### Explicit Examples\n",
        "You can use the \\ character to explicitly create multi-line statements."
      ]
    },
    {
      "cell_type": "code",
      "metadata": {
        "id": "rhLabLTWyQ5n",
        "colab_type": "code",
        "colab": {
          "base_uri": "https://localhost:8080/",
          "height": 34
        },
        "outputId": "35066c4a-9910-488a-a31d-f5d6883143f6"
      },
      "source": [
        "a = 10\n",
        "b = 20\n",
        "c = 30\n",
        "if a > 5 \\\n",
        "    and b > 10 \\\n",
        "    and c > 20:\n",
        "    print('yes!!')"
      ],
      "execution_count": 11,
      "outputs": [
        {
          "output_type": "stream",
          "text": [
            "yes!!\n"
          ],
          "name": "stdout"
        }
      ]
    },
    {
      "cell_type": "markdown",
      "metadata": {
        "id": "A5lIArMFynUh",
        "colab_type": "text"
      },
      "source": [
        "The identation in continued-lines does not matter:"
      ]
    },
    {
      "cell_type": "code",
      "metadata": {
        "id": "VyCCBx9ryTdO",
        "colab_type": "code",
        "colab": {
          "base_uri": "https://localhost:8080/",
          "height": 34
        },
        "outputId": "85e40292-c288-4416-9565-ba712180a3fd"
      },
      "source": [
        "a = 10\n",
        "b = 20\n",
        "c = 30\n",
        "if a > 5 \\\n",
        "    and b > 10 \\\n",
        "        and c > 20:\n",
        "    print('yes!!')"
      ],
      "execution_count": 12,
      "outputs": [
        {
          "output_type": "stream",
          "text": [
            "yes!!\n"
          ],
          "name": "stdout"
        }
      ]
    },
    {
      "cell_type": "markdown",
      "metadata": {
        "id": "FnJ31CT2ywz5",
        "colab_type": "text"
      },
      "source": [
        "#### Multi-Line Strings\n",
        "You can create multi-line strings by using triple delimiters (single or double quotes)"
      ]
    },
    {
      "cell_type": "code",
      "metadata": {
        "id": "ViwfOSNoyq0D",
        "colab_type": "code",
        "colab": {
          "base_uri": "https://localhost:8080/",
          "height": 51
        },
        "outputId": "52fc9db6-5510-4a4d-8fb5-b79ba8bf79db"
      },
      "source": [
        "a = '''this is\n",
        "a multi-line string'''\n",
        "print(a)"
      ],
      "execution_count": 14,
      "outputs": [
        {
          "output_type": "stream",
          "text": [
            "this is\n",
            "a multi-line string\n"
          ],
          "name": "stdout"
        }
      ]
    },
    {
      "cell_type": "markdown",
      "metadata": {
        "id": "a32nQTGLzFC8",
        "colab_type": "text"
      },
      "source": [
        "Be careful if you indent your multi-line strings - the extra spaces are preserved!"
      ]
    },
    {
      "cell_type": "code",
      "metadata": {
        "id": "SBV-S3ULzDmz",
        "colab_type": "code",
        "colab": {}
      },
      "source": [
        "def my_func():\n",
        "    a = '''a multi-line string\n",
        "    that is actually indented in the second line'''\n",
        "    return a"
      ],
      "execution_count": 0,
      "outputs": []
    },
    {
      "cell_type": "code",
      "metadata": {
        "id": "oktrWTLZzHTp",
        "colab_type": "code",
        "colab": {
          "base_uri": "https://localhost:8080/",
          "height": 51
        },
        "outputId": "ffb8e6b2-cfc1-436a-ed5a-88c9a8bb7f65"
      },
      "source": [
        "print(my_func())"
      ],
      "execution_count": 17,
      "outputs": [
        {
          "output_type": "stream",
          "text": [
            "a multi-line string\n",
            "    that is actually indented in the second line\n"
          ],
          "name": "stdout"
        }
      ]
    },
    {
      "cell_type": "code",
      "metadata": {
        "id": "Zz3jY2AqzIvh",
        "colab_type": "code",
        "colab": {}
      },
      "source": [
        "def my_func():\n",
        "    a = '''a multi-line string\n",
        "that is not indented in the second line'''\n",
        "    return a"
      ],
      "execution_count": 0,
      "outputs": []
    },
    {
      "cell_type": "code",
      "metadata": {
        "id": "ZzZkZHJSzLm1",
        "colab_type": "code",
        "colab": {
          "base_uri": "https://localhost:8080/",
          "height": 51
        },
        "outputId": "b5003d4d-0933-476f-8165-0e5d26b7304c"
      },
      "source": [
        "print(my_func())"
      ],
      "execution_count": 19,
      "outputs": [
        {
          "output_type": "stream",
          "text": [
            "a multi-line string\n",
            "that is not indented in the second line\n"
          ],
          "name": "stdout"
        }
      ]
    },
    {
      "cell_type": "markdown",
      "metadata": {
        "id": "w0S6fmoW0fBr",
        "colab_type": "text"
      },
      "source": [
        "# 3. Variable names"
      ]
    },
    {
      "cell_type": "markdown",
      "metadata": {
        "id": "jUhi6L1u1ZYq",
        "colab_type": "text"
      },
      "source": [
        "![alt text](https://drive.google.com/uc?id=1wEvPWKaeK28QVUkxEw2sTiRnU9Jwi09D)"
      ]
    },
    {
      "cell_type": "markdown",
      "metadata": {
        "id": "TeYaOE4Q2qq7",
        "colab_type": "text"
      },
      "source": [
        "![alt text](https://drive.google.com/uc?id=1Dz3V2qabTIHG4e6NEpU-F6TT8bUbSQcs)"
      ]
    },
    {
      "cell_type": "markdown",
      "metadata": {
        "id": "EgO3zJj14rtO",
        "colab_type": "text"
      },
      "source": [
        "![alt text](https://drive.google.com/uc?id=1MQeeY-Q_azkNZzgbMdUOfIAUGRw2dXPD)"
      ]
    },
    {
      "cell_type": "code",
      "metadata": {
        "id": "vixkb0CRzNAW",
        "colab_type": "code",
        "colab": {}
      },
      "source": [
        ""
      ],
      "execution_count": 0,
      "outputs": []
    }
  ]
}