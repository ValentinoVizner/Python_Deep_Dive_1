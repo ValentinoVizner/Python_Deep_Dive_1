{
  "nbformat": 4,
  "nbformat_minor": 0,
  "metadata": {
    "colab": {
      "name": "Untitled3.ipynb",
      "provenance": [],
      "include_colab_link": true
    },
    "kernelspec": {
      "name": "python3",
      "display_name": "Python 3"
    }
  },
  "cells": [
    {
      "cell_type": "markdown",
      "metadata": {
        "id": "view-in-github",
        "colab_type": "text"
      },
      "source": [
        "<a href=\"https://colab.research.google.com/github/ValentinoVizner/Python_Deep_Dive_1/blob/master/Python_Quick_Refresher.ipynb\" target=\"_parent\"><img src=\"https://colab.research.google.com/assets/colab-badge.svg\" alt=\"Open In Colab\"/></a>"
      ]
    },
    {
      "cell_type": "markdown",
      "metadata": {
        "id": "Dlx3vZGt8GdO",
        "colab_type": "text"
      },
      "source": [
        "# 1. Python Type Hierarchy!"
      ]
    },
    {
      "cell_type": "markdown",
      "metadata": {
        "id": "dW7wy4ML9gyG",
        "colab_type": "text"
      },
      "source": [
        "![alt text](https://drive.google.com/uc?id=15MxhJdymQytowd1EQxCleIkdgOOtYWy6) ![alt text](https://drive.google.com/uc?id=13Usk9j2ygWmJSbySXslA_YEJLmyJcjMs) ![alt text](https://drive.google.com/uc?id=1CbC2PSfZhmueUWg7Tis2kVNPt7qlTOhF)"
      ]
    },
    {
      "cell_type": "markdown",
      "metadata": {
        "id": "yBbFWK0--xg3",
        "colab_type": "text"
      },
      "source": [
        "# 2. Multi-line strings and statements"
      ]
    },
    {
      "cell_type": "markdown",
      "metadata": {
        "id": "2eukGbiX-61O",
        "colab_type": "text"
      },
      "source": [
        "![alt text](https://drive.google.com/uc?id=1iSiXivW7YDj-mZmrBTm-hGJhwtrTUETR)\n",
        "![alt text](https://drive.google.com/uc?id=1VH1lPdHNx5_WhFys_8wwkniBy7A0JIjz)\n",
        "![alt text](https://drive.google.com/uc?id=192_wk6M6YFIrTXaKu6xr9UN8PLGymEaG)\n",
        "![alt text](https://drive.google.com/uc?id=1yssu6D18TbNbt6TwVNVNOlpXQPNwbG3C)"
      ]
    },
    {
      "cell_type": "code",
      "metadata": {
        "id": "VqWSGT2K8Nuy",
        "colab_type": "code",
        "outputId": "d0f43d13-df09-4c77-f85e-bad9017e176d",
        "colab": {
          "base_uri": "https://localhost:8080/",
          "height": 34
        }
      },
      "source": [
        "a = [1, \n",
        "    2, \n",
        "    3]\n",
        "a"
      ],
      "execution_count": 0,
      "outputs": [
        {
          "output_type": "execute_result",
          "data": {
            "text/plain": [
              "[1, 2, 3]"
            ]
          },
          "metadata": {
            "tags": []
          },
          "execution_count": 1
        }
      ]
    },
    {
      "cell_type": "code",
      "metadata": {
        "id": "j6gDAN7LxqUk",
        "colab_type": "code",
        "outputId": "0b229230-215d-4402-9c4e-8a3be4e58345",
        "colab": {
          "base_uri": "https://localhost:8080/",
          "height": 34
        }
      },
      "source": [
        "a = [1, #first element\n",
        "    2, #second element\n",
        "    3, #third element\n",
        "    ]\n",
        "\n",
        "a"
      ],
      "execution_count": 0,
      "outputs": [
        {
          "output_type": "execute_result",
          "data": {
            "text/plain": [
              "[1, 2, 3]"
            ]
          },
          "metadata": {
            "tags": []
          },
          "execution_count": 2
        }
      ]
    },
    {
      "cell_type": "markdown",
      "metadata": {
        "id": "Eczy6y5gx0XW",
        "colab_type": "text"
      },
      "source": [
        "\n",
        "\n",
        "Note if you do use comments, you must close off the collection on a new line.\n",
        "\n",
        "i.e. the following will not work since the closing ] is actually part of the comment:"
      ]
    },
    {
      "cell_type": "code",
      "metadata": {
        "id": "a51dBjNrxv_H",
        "colab_type": "code",
        "outputId": "60c378fd-5a1a-490f-acc6-8129bd76d8a6",
        "colab": {
          "base_uri": "https://localhost:8080/",
          "height": 129
        }
      },
      "source": [
        "a = [1, # first element\n",
        "    2 #second element]"
      ],
      "execution_count": 0,
      "outputs": [
        {
          "output_type": "error",
          "ename": "SyntaxError",
          "evalue": "ignored",
          "traceback": [
            "\u001b[0;36m  File \u001b[0;32m\"<ipython-input-3-6b11c8b986e4>\"\u001b[0;36m, line \u001b[0;32m2\u001b[0m\n\u001b[0;31m    2 #second element]\u001b[0m\n\u001b[0m                      ^\u001b[0m\n\u001b[0;31mSyntaxError\u001b[0m\u001b[0;31m:\u001b[0m unexpected EOF while parsing\n"
          ]
        }
      ]
    },
    {
      "cell_type": "markdown",
      "metadata": {
        "id": "-UywwdXax8Zj",
        "colab_type": "text"
      },
      "source": [
        "This works the same way for tuples, sets, and dictionaries."
      ]
    },
    {
      "cell_type": "code",
      "metadata": {
        "id": "VSXvAdNtx5S5",
        "colab_type": "code",
        "outputId": "57eae775-4ecd-48bb-a029-a5387dbec73c",
        "colab": {
          "base_uri": "https://localhost:8080/",
          "height": 34
        }
      },
      "source": [
        "a = (1, # first element\n",
        "    2, #second element\n",
        "    3, #third element\n",
        "    )\n",
        "a"
      ],
      "execution_count": 0,
      "outputs": [
        {
          "output_type": "execute_result",
          "data": {
            "text/plain": [
              "(1, 2, 3)"
            ]
          },
          "metadata": {
            "tags": []
          },
          "execution_count": 4
        }
      ]
    },
    {
      "cell_type": "code",
      "metadata": {
        "id": "9tIKu6dBx_jU",
        "colab_type": "code",
        "outputId": "c582af41-68cd-4bf1-c5b8-7640f7725e01",
        "colab": {
          "base_uri": "https://localhost:8080/",
          "height": 34
        }
      },
      "source": [
        "a = {1, # first element\n",
        "    2, #second element\n",
        "    }\n",
        "a"
      ],
      "execution_count": 0,
      "outputs": [
        {
          "output_type": "execute_result",
          "data": {
            "text/plain": [
              "{1, 2}"
            ]
          },
          "metadata": {
            "tags": []
          },
          "execution_count": 5
        }
      ]
    },
    {
      "cell_type": "code",
      "metadata": {
        "id": "aol_4TYxyCf1",
        "colab_type": "code",
        "outputId": "eff88d40-620b-4d6b-f6a6-2a179b76e47a",
        "colab": {
          "base_uri": "https://localhost:8080/",
          "height": 34
        }
      },
      "source": [
        "a = {'key1': 'value1', #comment,\n",
        "    'key2': #comment\n",
        "    'value2' #comment\n",
        "    }\n",
        "a"
      ],
      "execution_count": 0,
      "outputs": [
        {
          "output_type": "execute_result",
          "data": {
            "text/plain": [
              "{'key1': 'value1', 'key2': 'value2'}"
            ]
          },
          "metadata": {
            "tags": []
          },
          "execution_count": 6
        }
      ]
    },
    {
      "cell_type": "markdown",
      "metadata": {
        "id": "kMCrMg-DyMUS",
        "colab_type": "text"
      },
      "source": [
        "We can also break up function arguments and parameters:"
      ]
    },
    {
      "cell_type": "code",
      "metadata": {
        "id": "7IIBU_x9yHvo",
        "colab_type": "code",
        "colab": {}
      },
      "source": [
        "def my_func(a, #some comment\n",
        "           b, c):\n",
        "    print(a, b, c)"
      ],
      "execution_count": 0,
      "outputs": []
    },
    {
      "cell_type": "code",
      "metadata": {
        "id": "evTADJ9wyO20",
        "colab_type": "code",
        "outputId": "699a8cdf-13c8-4db3-c61a-1bfcf6d96a13",
        "colab": {
          "base_uri": "https://localhost:8080/",
          "height": 34
        }
      },
      "source": [
        "my_func(10, #comment\n",
        "       20, #comment\n",
        "       30)"
      ],
      "execution_count": 0,
      "outputs": [
        {
          "output_type": "stream",
          "text": [
            "10 20 30\n"
          ],
          "name": "stdout"
        }
      ]
    },
    {
      "cell_type": "markdown",
      "metadata": {
        "id": "ACSy6-WvyW5y",
        "colab_type": "text"
      },
      "source": [
        "#### Explicit Examples\n",
        "You can use the \\ character to explicitly create multi-line statements."
      ]
    },
    {
      "cell_type": "code",
      "metadata": {
        "id": "rhLabLTWyQ5n",
        "colab_type": "code",
        "outputId": "35066c4a-9910-488a-a31d-f5d6883143f6",
        "colab": {
          "base_uri": "https://localhost:8080/",
          "height": 34
        }
      },
      "source": [
        "a = 10\n",
        "b = 20\n",
        "c = 30\n",
        "if a > 5 \\\n",
        "    and b > 10 \\\n",
        "    and c > 20:\n",
        "    print('yes!!')"
      ],
      "execution_count": 0,
      "outputs": [
        {
          "output_type": "stream",
          "text": [
            "yes!!\n"
          ],
          "name": "stdout"
        }
      ]
    },
    {
      "cell_type": "markdown",
      "metadata": {
        "id": "A5lIArMFynUh",
        "colab_type": "text"
      },
      "source": [
        "The identation in continued-lines does not matter:"
      ]
    },
    {
      "cell_type": "code",
      "metadata": {
        "id": "VyCCBx9ryTdO",
        "colab_type": "code",
        "outputId": "85e40292-c288-4416-9565-ba712180a3fd",
        "colab": {
          "base_uri": "https://localhost:8080/",
          "height": 34
        }
      },
      "source": [
        "a = 10\n",
        "b = 20\n",
        "c = 30\n",
        "if a > 5 \\\n",
        "    and b > 10 \\\n",
        "        and c > 20:\n",
        "    print('yes!!')"
      ],
      "execution_count": 0,
      "outputs": [
        {
          "output_type": "stream",
          "text": [
            "yes!!\n"
          ],
          "name": "stdout"
        }
      ]
    },
    {
      "cell_type": "markdown",
      "metadata": {
        "id": "FnJ31CT2ywz5",
        "colab_type": "text"
      },
      "source": [
        "#### Multi-Line Strings\n",
        "You can create multi-line strings by using triple delimiters (single or double quotes)"
      ]
    },
    {
      "cell_type": "code",
      "metadata": {
        "id": "ViwfOSNoyq0D",
        "colab_type": "code",
        "outputId": "52fc9db6-5510-4a4d-8fb5-b79ba8bf79db",
        "colab": {
          "base_uri": "https://localhost:8080/",
          "height": 51
        }
      },
      "source": [
        "a = '''this is\n",
        "a multi-line string'''\n",
        "print(a)"
      ],
      "execution_count": 0,
      "outputs": [
        {
          "output_type": "stream",
          "text": [
            "this is\n",
            "a multi-line string\n"
          ],
          "name": "stdout"
        }
      ]
    },
    {
      "cell_type": "markdown",
      "metadata": {
        "id": "a32nQTGLzFC8",
        "colab_type": "text"
      },
      "source": [
        "Be careful if you indent your multi-line strings - the extra spaces are preserved!"
      ]
    },
    {
      "cell_type": "code",
      "metadata": {
        "id": "SBV-S3ULzDmz",
        "colab_type": "code",
        "colab": {}
      },
      "source": [
        "def my_func():\n",
        "    a = '''a multi-line string\n",
        "    that is actually indented in the second line'''\n",
        "    return a"
      ],
      "execution_count": 0,
      "outputs": []
    },
    {
      "cell_type": "code",
      "metadata": {
        "id": "oktrWTLZzHTp",
        "colab_type": "code",
        "outputId": "ffb8e6b2-cfc1-436a-ed5a-88c9a8bb7f65",
        "colab": {
          "base_uri": "https://localhost:8080/",
          "height": 51
        }
      },
      "source": [
        "print(my_func())"
      ],
      "execution_count": 0,
      "outputs": [
        {
          "output_type": "stream",
          "text": [
            "a multi-line string\n",
            "    that is actually indented in the second line\n"
          ],
          "name": "stdout"
        }
      ]
    },
    {
      "cell_type": "code",
      "metadata": {
        "id": "Zz3jY2AqzIvh",
        "colab_type": "code",
        "colab": {}
      },
      "source": [
        "def my_func():\n",
        "    a = '''a multi-line string\n",
        "that is not indented in the second line'''\n",
        "    return a"
      ],
      "execution_count": 0,
      "outputs": []
    },
    {
      "cell_type": "code",
      "metadata": {
        "id": "ZzZkZHJSzLm1",
        "colab_type": "code",
        "outputId": "b5003d4d-0933-476f-8165-0e5d26b7304c",
        "colab": {
          "base_uri": "https://localhost:8080/",
          "height": 51
        }
      },
      "source": [
        "print(my_func())"
      ],
      "execution_count": 0,
      "outputs": [
        {
          "output_type": "stream",
          "text": [
            "a multi-line string\n",
            "that is not indented in the second line\n"
          ],
          "name": "stdout"
        }
      ]
    },
    {
      "cell_type": "markdown",
      "metadata": {
        "id": "w0S6fmoW0fBr",
        "colab_type": "text"
      },
      "source": [
        "# 3. Variable names"
      ]
    },
    {
      "cell_type": "markdown",
      "metadata": {
        "id": "jUhi6L1u1ZYq",
        "colab_type": "text"
      },
      "source": [
        "![alt text](https://drive.google.com/uc?id=1wEvPWKaeK28QVUkxEw2sTiRnU9Jwi09D)"
      ]
    },
    {
      "cell_type": "markdown",
      "metadata": {
        "id": "TeYaOE4Q2qq7",
        "colab_type": "text"
      },
      "source": [
        "![alt text](https://drive.google.com/uc?id=1Dz3V2qabTIHG4e6NEpU-F6TT8bUbSQcs)"
      ]
    },
    {
      "cell_type": "markdown",
      "metadata": {
        "id": "EgO3zJj14rtO",
        "colab_type": "text"
      },
      "source": [
        "![alt text](https://drive.google.com/uc?id=1MQeeY-Q_azkNZzgbMdUOfIAUGRw2dXPD)"
      ]
    },
    {
      "cell_type": "markdown",
      "metadata": {
        "id": "6Tibqz6Of_8K",
        "colab_type": "text"
      },
      "source": [
        "# 4. CONDITIONALS"
      ]
    },
    {
      "cell_type": "markdown",
      "metadata": {
        "id": "kh1BLaapg0q_",
        "colab_type": "text"
      },
      "source": [
        "Python doesn't have SWITCH-CASE"
      ]
    },
    {
      "cell_type": "markdown",
      "metadata": {
        "id": "Nc46gBhlhuHK",
        "colab_type": "text"
      },
      "source": [
        "## Ternary Operator in Python\n",
        "Ternary operators also known as conditional expressions are operators that evaluate something based on a condition being true or false. It was added to Python in version 2.5.\n",
        "It simply allows to test a condition in a single line replacing the multiline if-else making the code compact.\n",
        "Syntax :\n",
        "\n",
        "    [on_true] if [expression] else [on_false] "
      ]
    },
    {
      "cell_type": "code",
      "metadata": {
        "id": "vixkb0CRzNAW",
        "colab_type": "code",
        "colab": {
          "base_uri": "https://localhost:8080/",
          "height": 34
        },
        "outputId": "db237d74-de91-49d6-b7d1-bc40dc366f15"
      },
      "source": [
        "# Nicer way then usual if-elif-else\n",
        "a = 5\n",
        "\n",
        "b = 'a < 5' if a < 5 else 'a >= 5'\n",
        "print(b)"
      ],
      "execution_count": 21,
      "outputs": [
        {
          "output_type": "stream",
          "text": [
            "a >= 5\n"
          ],
          "name": "stdout"
        }
      ]
    },
    {
      "cell_type": "markdown",
      "metadata": {
        "id": "ehF_tuztin6M",
        "colab_type": "text"
      },
      "source": [
        "Ternary returns a value, so we don't have to assigne a variable to it"
      ]
    },
    {
      "cell_type": "code",
      "metadata": {
        "id": "sega9EWtiR7x",
        "colab_type": "code",
        "colab": {
          "base_uri": "https://localhost:8080/",
          "height": 34
        },
        "outputId": "757b7912-824d-4f10-ea76-297ff0161386"
      },
      "source": [
        "'a < 5' if a < 5 else 'a >= 5'"
      ],
      "execution_count": 22,
      "outputs": [
        {
          "output_type": "execute_result",
          "data": {
            "text/plain": [
              "'a >= 5'"
            ]
          },
          "metadata": {
            "tags": []
          },
          "execution_count": 22
        }
      ]
    },
    {
      "cell_type": "markdown",
      "metadata": {
        "id": "FFgpTSjVjDRZ",
        "colab_type": "text"
      },
      "source": [
        "# 5. Functions"
      ]
    },
    {
      "cell_type": "markdown",
      "metadata": {
        "id": "6Z1HtlkPjPs8",
        "colab_type": "text"
      },
      "source": [
        "## BUILT-IN Functions"
      ]
    },
    {
      "cell_type": "code",
      "metadata": {
        "id": "q10J6Wp5i0Fd",
        "colab_type": "code",
        "colab": {
          "base_uri": "https://localhost:8080/",
          "height": 34
        },
        "outputId": "db8d1903-db3a-485f-9e89-4f11a679e535"
      },
      "source": [
        "a = [1,2,3]\n",
        "\n",
        "len(a)"
      ],
      "execution_count": 23,
      "outputs": [
        {
          "output_type": "execute_result",
          "data": {
            "text/plain": [
              "3"
            ]
          },
          "metadata": {
            "tags": []
          },
          "execution_count": 23
        }
      ]
    },
    {
      "cell_type": "markdown",
      "metadata": {
        "id": "25m1aUWLjYKl",
        "colab_type": "text"
      },
      "source": [
        "## Imported functions from some package i.e. module"
      ]
    },
    {
      "cell_type": "code",
      "metadata": {
        "id": "XpWiogKtjWJF",
        "colab_type": "code",
        "colab": {
          "base_uri": "https://localhost:8080/",
          "height": 34
        },
        "outputId": "55f797df-c1c4-4e66-dde0-85e135f38cd0"
      },
      "source": [
        "from math import sqrt\n",
        "\n",
        "sqrt(4)"
      ],
      "execution_count": 24,
      "outputs": [
        {
          "output_type": "execute_result",
          "data": {
            "text/plain": [
              "2.0"
            ]
          },
          "metadata": {
            "tags": []
          },
          "execution_count": 24
        }
      ]
    },
    {
      "cell_type": "code",
      "metadata": {
        "id": "Jt4UogzFj9T5",
        "colab_type": "code",
        "colab": {
          "base_uri": "https://localhost:8080/",
          "height": 51
        },
        "outputId": "ea514c2e-738d-4750-c779-c101b3d1ddab"
      },
      "source": [
        "import math\n",
        "\n",
        "print(math.pi)\n",
        "\n",
        "math.exp(1)"
      ],
      "execution_count": 27,
      "outputs": [
        {
          "output_type": "stream",
          "text": [
            "3.141592653589793\n"
          ],
          "name": "stdout"
        },
        {
          "output_type": "execute_result",
          "data": {
            "text/plain": [
              "2.718281828459045"
            ]
          },
          "metadata": {
            "tags": []
          },
          "execution_count": 27
        }
      ]
    },
    {
      "cell_type": "markdown",
      "metadata": {
        "id": "O8aaPCTJk-3Y",
        "colab_type": "text"
      },
      "source": [
        "## User definded functions"
      ]
    },
    {
      "cell_type": "code",
      "metadata": {
        "id": "4GUNBfCwkG34",
        "colab_type": "code",
        "colab": {}
      },
      "source": [
        "def my_func(a: int, b: float):\n",
        "    return a * b"
      ],
      "execution_count": 0,
      "outputs": []
    },
    {
      "cell_type": "code",
      "metadata": {
        "id": "oHVidVMSlKwT",
        "colab_type": "code",
        "colab": {
          "base_uri": "https://localhost:8080/",
          "height": 34
        },
        "outputId": "6fcaba42-3f0f-4ebd-8afb-09f347229b43"
      },
      "source": [
        "my_func(1, 2)"
      ],
      "execution_count": 29,
      "outputs": [
        {
          "output_type": "execute_result",
          "data": {
            "text/plain": [
              "2"
            ]
          },
          "metadata": {
            "tags": []
          },
          "execution_count": 29
        }
      ]
    },
    {
      "cell_type": "code",
      "metadata": {
        "id": "B34l0lOZlVBh",
        "colab_type": "code",
        "colab": {
          "base_uri": "https://localhost:8080/",
          "height": 34
        },
        "outputId": "5ef964a0-688a-4807-fa77-2da463fdcee4"
      },
      "source": [
        "my_func('a', 3)"
      ],
      "execution_count": 30,
      "outputs": [
        {
          "output_type": "execute_result",
          "data": {
            "text/plain": [
              "'aaa'"
            ]
          },
          "metadata": {
            "tags": []
          },
          "execution_count": 30
        }
      ]
    },
    {
      "cell_type": "code",
      "metadata": {
        "id": "Ds6uxdBilZvW",
        "colab_type": "code",
        "colab": {
          "base_uri": "https://localhost:8080/",
          "height": 34
        },
        "outputId": "d59477c8-1058-4b1e-a214-8617620f0b08"
      },
      "source": [
        "my_func([1, 2], 4)"
      ],
      "execution_count": 31,
      "outputs": [
        {
          "output_type": "execute_result",
          "data": {
            "text/plain": [
              "[1, 2, 1, 2, 1, 2, 1, 2]"
            ]
          },
          "metadata": {
            "tags": []
          },
          "execution_count": 31
        }
      ]
    },
    {
      "cell_type": "markdown",
      "metadata": {
        "id": "ac0HQohFlufp",
        "colab_type": "text"
      },
      "source": [
        " So we can see this is only type hinting in function it DOESN'T force our compiler to show error if the type is not satisfied"
      ]
    },
    {
      "cell_type": "markdown",
      "metadata": {
        "id": "F3IYkmQJmuaB",
        "colab_type": "text"
      },
      "source": [
        "Note that to \"call\" or \"invoke\" a function we need to use the ().\n",
        "\n",
        "Simply using the function name without the () refers to the function, but does not call it:"
      ]
    },
    {
      "cell_type": "code",
      "metadata": {
        "id": "oxecafGHleg2",
        "colab_type": "code",
        "colab": {
          "base_uri": "https://localhost:8080/",
          "height": 34
        },
        "outputId": "3f590cf4-4851-43ff-960c-b9b4b18778eb"
      },
      "source": [
        "my_func"
      ],
      "execution_count": 32,
      "outputs": [
        {
          "output_type": "execute_result",
          "data": {
            "text/plain": [
              "<function __main__.my_func>"
            ]
          },
          "metadata": {
            "tags": []
          },
          "execution_count": 32
        }
      ]
    },
    {
      "cell_type": "markdown",
      "metadata": {
        "id": "rQai-RAenj-1",
        "colab_type": "text"
      },
      "source": [
        "The def keyword is an executable piece of code that creates the function (an instance of the function class) and essentially assigns it to a variable name (the function name).\n",
        "\n",
        "Note that the function is defined when def is reached, but the code inside it is not evaluated until the function is called.\n",
        "\n",
        "This is why we can define functions that call other functions defined later - as long as we don't call them before all the necessary functions are defined."
      ]
    },
    {
      "cell_type": "code",
      "metadata": {
        "id": "xh-O-nk2mzIm",
        "colab_type": "code",
        "colab": {
          "base_uri": "https://localhost:8080/",
          "height": 34
        },
        "outputId": "f3ef3d25-07d2-481d-b2da-cb1e03340410"
      },
      "source": [
        "def fn_1():\n",
        "    fn_2()\n",
        "    \n",
        "def fn_2():\n",
        "    print('Hello')\n",
        "    \n",
        "fn_1()"
      ],
      "execution_count": 33,
      "outputs": [
        {
          "output_type": "stream",
          "text": [
            "Hello\n"
          ],
          "name": "stdout"
        }
      ]
    },
    {
      "cell_type": "markdown",
      "metadata": {
        "id": "C6Hwxzyjnuxp",
        "colab_type": "text"
      },
      "source": [
        "As long as we define functions and later on we call those functions after they are defined we don't get an error, Python doesn't care in which order we define functions."
      ]
    },
    {
      "cell_type": "code",
      "metadata": {
        "id": "N5NIqGw3ntZB",
        "colab_type": "code",
        "colab": {
          "base_uri": "https://localhost:8080/",
          "height": 350
        },
        "outputId": "1e03f1ce-e812-4107-a44c-c2a829fe7c22"
      },
      "source": [
        "def fn_3():\n",
        "    fn_4()\n",
        "\n",
        "fn_3()\n",
        "\n",
        "def fn_4():\n",
        "    print('Hello')"
      ],
      "execution_count": 34,
      "outputs": [
        {
          "output_type": "error",
          "ename": "NameError",
          "evalue": "ignored",
          "traceback": [
            "\u001b[0;31m---------------------------------------------------------------------------\u001b[0m",
            "\u001b[0;31mNameError\u001b[0m                                 Traceback (most recent call last)",
            "\u001b[0;32m<ipython-input-34-00a74014e7cd>\u001b[0m in \u001b[0;36m<module>\u001b[0;34m()\u001b[0m\n\u001b[1;32m      2\u001b[0m     \u001b[0mfn_4\u001b[0m\u001b[0;34m(\u001b[0m\u001b[0;34m)\u001b[0m\u001b[0;34m\u001b[0m\u001b[0;34m\u001b[0m\u001b[0m\n\u001b[1;32m      3\u001b[0m \u001b[0;34m\u001b[0m\u001b[0m\n\u001b[0;32m----> 4\u001b[0;31m \u001b[0mfn_3\u001b[0m\u001b[0;34m(\u001b[0m\u001b[0;34m)\u001b[0m\u001b[0;34m\u001b[0m\u001b[0;34m\u001b[0m\u001b[0m\n\u001b[0m\u001b[1;32m      5\u001b[0m \u001b[0;34m\u001b[0m\u001b[0m\n\u001b[1;32m      6\u001b[0m \u001b[0;32mdef\u001b[0m \u001b[0mfn_4\u001b[0m\u001b[0;34m(\u001b[0m\u001b[0;34m)\u001b[0m\u001b[0;34m:\u001b[0m\u001b[0;34m\u001b[0m\u001b[0;34m\u001b[0m\u001b[0m\n",
            "\u001b[0;32m<ipython-input-34-00a74014e7cd>\u001b[0m in \u001b[0;36mfn_3\u001b[0;34m()\u001b[0m\n\u001b[1;32m      1\u001b[0m \u001b[0;32mdef\u001b[0m \u001b[0mfn_3\u001b[0m\u001b[0;34m(\u001b[0m\u001b[0;34m)\u001b[0m\u001b[0;34m:\u001b[0m\u001b[0;34m\u001b[0m\u001b[0;34m\u001b[0m\u001b[0m\n\u001b[0;32m----> 2\u001b[0;31m     \u001b[0mfn_4\u001b[0m\u001b[0;34m(\u001b[0m\u001b[0;34m)\u001b[0m\u001b[0;34m\u001b[0m\u001b[0;34m\u001b[0m\u001b[0m\n\u001b[0m\u001b[1;32m      3\u001b[0m \u001b[0;34m\u001b[0m\u001b[0m\n\u001b[1;32m      4\u001b[0m \u001b[0mfn_3\u001b[0m\u001b[0;34m(\u001b[0m\u001b[0;34m)\u001b[0m\u001b[0;34m\u001b[0m\u001b[0;34m\u001b[0m\u001b[0m\n\u001b[1;32m      5\u001b[0m \u001b[0;34m\u001b[0m\u001b[0m\n",
            "\u001b[0;31mNameError\u001b[0m: name 'fn_4' is not defined"
          ]
        }
      ]
    },
    {
      "cell_type": "markdown",
      "metadata": {
        "id": "kqVrLWrsoOUK",
        "colab_type": "text"
      },
      "source": [
        "But if we invoke function before we define other function that uses function that is defined later on then we get an error.\n",
        "That is why dunder __main__ at the end is so useful"
      ]
    },
    {
      "cell_type": "markdown",
      "metadata": {
        "id": "WS3ta3Ntonhv",
        "colab_type": "text"
      },
      "source": [
        "We also have the lambda keyword, that also creates a new function, but does not assign it to any specific name - instead it just returns the function object - which we can, if we wish, assign to a variable ourselves.\n",
        "It is meant to be used as a ANONYMOUS FUNCTION, i.e. passed to other functions mainly"
      ]
    },
    {
      "cell_type": "code",
      "metadata": {
        "id": "ZnAfxuhaoLQg",
        "colab_type": "code",
        "colab": {}
      },
      "source": [
        "func_5 = lambda x: x**2"
      ],
      "execution_count": 0,
      "outputs": []
    },
    {
      "cell_type": "code",
      "metadata": {
        "id": "Plo-ehRbo_EV",
        "colab_type": "code",
        "colab": {
          "base_uri": "https://localhost:8080/",
          "height": 34
        },
        "outputId": "6f588751-10c3-4172-8806-94f20a146d40"
      },
      "source": [
        "func_5"
      ],
      "execution_count": 37,
      "outputs": [
        {
          "output_type": "execute_result",
          "data": {
            "text/plain": [
              "<function __main__.<lambda>>"
            ]
          },
          "metadata": {
            "tags": []
          },
          "execution_count": 37
        }
      ]
    },
    {
      "cell_type": "code",
      "metadata": {
        "id": "-sIRgkKppA1I",
        "colab_type": "code",
        "colab": {
          "base_uri": "https://localhost:8080/",
          "height": 34
        },
        "outputId": "47d0590b-f395-4399-eeda-7e9323f2dd24"
      },
      "source": [
        "func_5(3)"
      ],
      "execution_count": 38,
      "outputs": [
        {
          "output_type": "execute_result",
          "data": {
            "text/plain": [
              "9"
            ]
          },
          "metadata": {
            "tags": []
          },
          "execution_count": 38
        }
      ]
    },
    {
      "cell_type": "markdown",
      "metadata": {
        "id": "0hpzWCwupX4E",
        "colab_type": "text"
      },
      "source": [
        "# 6. While loop"
      ]
    },
    {
      "cell_type": "markdown",
      "metadata": {
        "id": "QSK37OVDpt8h",
        "colab_type": "text"
      },
      "source": [
        "In Python we do not have do-while:\n",
        "\n",
        "do\n",
        "\n",
        "> something\n",
        "\n",
        "\n",
        "while 'expr'\n",
        "\n",
        "But we can simulate it with this:"
      ]
    },
    {
      "cell_type": "code",
      "metadata": {
        "id": "vC49YqR6pOOy",
        "colab_type": "code",
        "colab": {
          "base_uri": "https://localhost:8080/",
          "height": 34
        },
        "outputId": "f32a5d09-8ec6-42d3-a7ea-a0c19e77b246"
      },
      "source": [
        "i = 5\n",
        "\n",
        "while True:\n",
        "    print(i)\n",
        "    if i >= 5:\n",
        "        break\n",
        "        print('something')"
      ],
      "execution_count": 40,
      "outputs": [
        {
          "output_type": "stream",
          "text": [
            "5\n"
          ],
          "name": "stdout"
        }
      ]
    },
    {
      "cell_type": "markdown",
      "metadata": {
        "id": "PoXTijyVrIxX",
        "colab_type": "text"
      },
      "source": [
        "As you can see the loop executed once (and will always execute at least once, no matter the starting value of i.)\n",
        "\n",
        "This is a standard pattern and can be useful in a variety of scenarios.\n",
        "\n",
        "A simple example might be getting repetitive user input until the user performs and action or provides some specific value."
      ]
    },
    {
      "cell_type": "code",
      "metadata": {
        "id": "wSPyC2m1qbdn",
        "colab_type": "code",
        "colab": {
          "base_uri": "https://localhost:8080/",
          "height": 68
        },
        "outputId": "4bb93ec3-c87a-45bb-ff04-db8ce2ca627a"
      },
      "source": [
        "min_length = 2\n",
        "name = input('Please enter your name: ')\n",
        "\n",
        "while not(len(name) >= min_length and name.isprintable() and name.isalpha()):\n",
        "    name = input('Please enter your name: ')\n",
        "\n",
        "print(f'Hello {name}.')"
      ],
      "execution_count": 43,
      "outputs": [
        {
          "output_type": "stream",
          "text": [
            "Please enter your name: a\n",
            "Please enter your name: vaba\n",
            "Hello vaba.\n"
          ],
          "name": "stdout"
        }
      ]
    },
    {
      "cell_type": "markdown",
      "metadata": {
        "id": "WqwBIEF8svHs",
        "colab_type": "text"
      },
      "source": [
        "It is not a good practice to repeat code, so let's refactore it"
      ]
    },
    {
      "cell_type": "code",
      "metadata": {
        "colab_type": "code",
        "outputId": "139ad15f-413f-447b-ed19-44caaf8089fa",
        "id": "9Zf_4V6Gs25D",
        "colab": {
          "base_uri": "https://localhost:8080/",
          "height": 51
        }
      },
      "source": [
        "min_length = 2\n",
        "\n",
        "while True:\n",
        "    name = input('Please enter your name: ')\n",
        "    if len(name) >= min_length and name.isprintable() and name.isalpha():\n",
        "        break\n",
        "print(f'Hello {name}.')"
      ],
      "execution_count": 47,
      "outputs": [
        {
          "output_type": "stream",
          "text": [
            "Please enter your name: aa\n",
            "Hello aa.\n"
          ],
          "name": "stdout"
        }
      ]
    },
    {
      "cell_type": "markdown",
      "metadata": {
        "id": "xv5_7uuJtb6D",
        "colab_type": "text"
      },
      "source": [
        ""
      ]
    },
    {
      "cell_type": "markdown",
      "metadata": {
        "id": "Gwu00D1Gtezm",
        "colab_type": "text"
      },
      "source": [
        "We saw how the break statement exits the while loop and execution resumes on the line immediately after the while code block.\n",
        "\n",
        "Sometimes, we just want to cut the current iteration short, but continue looping, without exiting the loop itself.\n",
        "\n",
        "This is done using the continue statement:"
      ]
    },
    {
      "cell_type": "code",
      "metadata": {
        "id": "P0BnXAiDtC82",
        "colab_type": "code",
        "colab": {
          "base_uri": "https://localhost:8080/",
          "height": 102
        },
        "outputId": "0cb4d79c-bbd3-4e5f-8f56-6f2c0e39c642"
      },
      "source": [
        "a = 0\n",
        "while a < 10:\n",
        "    a += 1\n",
        "    if a % 2:\n",
        "        continue\n",
        "    print(a)"
      ],
      "execution_count": 48,
      "outputs": [
        {
          "output_type": "stream",
          "text": [
            "2\n",
            "4\n",
            "6\n",
            "8\n",
            "10\n"
          ],
          "name": "stdout"
        }
      ]
    },
    {
      "cell_type": "markdown",
      "metadata": {
        "id": "Imp8SgRitwec",
        "colab_type": "text"
      },
      "source": [
        "Note that there are much better ways of doing this! We'll cover that in later videos (comprehensions, generators, etc)\n",
        "\n",
        "The **while** loop also can be used with an **else** clause!!"
      ]
    },
    {
      "cell_type": "markdown",
      "metadata": {
        "id": "iB9vg_gVt_H1",
        "colab_type": "text"
      },
      "source": [
        "Suppose we want to test if some value is present in some list, and if not we want to append it to the list (again there are better ways of doing this):\n",
        "\n",
        "First, here's how we might do it without the benefit of the **else** clause:"
      ]
    },
    {
      "cell_type": "code",
      "metadata": {
        "id": "hU7mgto3tq_G",
        "colab_type": "code",
        "colab": {
          "base_uri": "https://localhost:8080/",
          "height": 34
        },
        "outputId": "43503d96-f381-48db-b4ff-ed1b8ee26917"
      },
      "source": [
        "l = [1, 2, 3]\n",
        "val = 10\n",
        "\n",
        "found = False\n",
        "idx = 0\n",
        "while idx < len(l):\n",
        "    if l[idx] == val:\n",
        "        found = True\n",
        "        break\n",
        "    idx += 1\n",
        "    \n",
        "if not found:\n",
        "    l.append(val)\n",
        "print(l)"
      ],
      "execution_count": 49,
      "outputs": [
        {
          "output_type": "stream",
          "text": [
            "[1, 2, 3, 10]\n"
          ],
          "name": "stdout"
        }
      ]
    },
    {
      "cell_type": "markdown",
      "metadata": {
        "id": "IOJOHHKbugMZ",
        "colab_type": "text"
      },
      "source": [
        "Using the **else** clause is easier:"
      ]
    },
    {
      "cell_type": "code",
      "metadata": {
        "id": "6wjjFjehufXl",
        "colab_type": "code",
        "colab": {
          "base_uri": "https://localhost:8080/",
          "height": 34
        },
        "outputId": "4f801309-dfa7-4f78-ff2c-19281e9e58ca"
      },
      "source": [
        "l = [1, 2, 3]\n",
        "val = 10\n",
        "\n",
        "idx = 0\n",
        "while idx < len(l):\n",
        "    if l[idx] == val:\n",
        "        break\n",
        "    idx += 1\n",
        "else:\n",
        "    l.append(val)\n",
        "\n",
        "print(l)"
      ],
      "execution_count": 50,
      "outputs": [
        {
          "output_type": "stream",
          "text": [
            "[1, 2, 3, 10]\n"
          ],
          "name": "stdout"
        }
      ]
    },
    {
      "cell_type": "code",
      "metadata": {
        "id": "jps7Z8W0ukwm",
        "colab_type": "code",
        "colab": {}
      },
      "source": [
        ""
      ],
      "execution_count": 0,
      "outputs": []
    }
  ]
}