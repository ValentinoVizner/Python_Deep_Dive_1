{
  "nbformat": 4,
  "nbformat_minor": 0,
  "metadata": {
    "colab": {
      "name": "Untitled3.ipynb",
      "provenance": [],
      "include_colab_link": true
    },
    "kernelspec": {
      "name": "python3",
      "display_name": "Python 3"
    }
  },
  "cells": [
    {
      "cell_type": "markdown",
      "metadata": {
        "id": "view-in-github",
        "colab_type": "text"
      },
      "source": [
        "<a href=\"https://colab.research.google.com/github/ValentinoVizner/Python_Deep_Dive_1/blob/master/Python_Quick_Refresher.ipynb\" target=\"_parent\"><img src=\"https://colab.research.google.com/assets/colab-badge.svg\" alt=\"Open In Colab\"/></a>"
      ]
    },
    {
      "cell_type": "markdown",
      "metadata": {
        "id": "Dlx3vZGt8GdO",
        "colab_type": "text"
      },
      "source": [
        "# 1. Python Type Hierarchy!"
      ]
    },
    {
      "cell_type": "markdown",
      "metadata": {
        "id": "dW7wy4ML9gyG",
        "colab_type": "text"
      },
      "source": [
        "![alt text](https://drive.google.com/uc?id=15MxhJdymQytowd1EQxCleIkdgOOtYWy6) ![alt text](https://drive.google.com/uc?id=13Usk9j2ygWmJSbySXslA_YEJLmyJcjMs) ![alt text](https://drive.google.com/uc?id=1CbC2PSfZhmueUWg7Tis2kVNPt7qlTOhF)"
      ]
    },
    {
      "cell_type": "markdown",
      "metadata": {
        "id": "yBbFWK0--xg3",
        "colab_type": "text"
      },
      "source": [
        "# 2. Multi-line strings and statements"
      ]
    },
    {
      "cell_type": "markdown",
      "metadata": {
        "id": "2eukGbiX-61O",
        "colab_type": "text"
      },
      "source": [
        "![alt text](https://drive.google.com/uc?id=1iSiXivW7YDj-mZmrBTm-hGJhwtrTUETR)\n",
        "![alt text](https://drive.google.com/uc?id=1VH1lPdHNx5_WhFys_8wwkniBy7A0JIjz)\n",
        "![alt text](https://drive.google.com/uc?id=192_wk6M6YFIrTXaKu6xr9UN8PLGymEaG)\n",
        "![alt text](https://drive.google.com/uc?id=1yssu6D18TbNbt6TwVNVNOlpXQPNwbG3C)"
      ]
    },
    {
      "cell_type": "code",
      "metadata": {
        "id": "VqWSGT2K8Nuy",
        "colab_type": "code",
        "colab": {}
      },
      "source": [
        ""
      ],
      "execution_count": 0,
      "outputs": []
    }
  ]
}